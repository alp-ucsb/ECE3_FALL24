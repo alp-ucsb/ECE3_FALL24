{
  "cells": [
    {
      "cell_type": "markdown",
      "source": [
        "# ECE-3 Lab 7"
      ],
      "metadata": {
        "id": "bNpICAU4yh4F"
      },
      "id": "bNpICAU4yh4F"
    },
    {
      "cell_type": "markdown",
      "metadata": {
        "id": "ZaJuFa0ES57L"
      },
      "source": [
        "## Matrix Multiplication"
      ],
      "id": "ZaJuFa0ES57L"
    },
    {
      "cell_type": "markdown",
      "source": [
        "### Exercise - 1\n",
        "\n",
        "Write a function to compute the matrix product. The outline of the function `product_matrix(A, B)` is given below. Your result must be equivalent to `A@B` but you are not allowed to use any standard functions. \n",
        "\n",
        "- First check if computing matrix product is feasible.\n",
        "- If possible, return a matrix equal to the product of the two input matrices. If not, return 0.\n",
        "- Make sure the returned matrix is of proper shape."
      ],
      "metadata": {
        "id": "VbfQgsNcPTmt"
      },
      "id": "VbfQgsNcPTmt"
    },
    {
      "cell_type": "code",
      "source": [
        "import numpy as np\n",
        "\n",
        "\n",
        "def product_matrix(A, B):\n",
        "\n",
        "  # Check if they can be multiplied\n",
        "  shape_A = A.shape\n",
        "  shape_B = B.shape\n",
        "  # Check if columns of A are equal to rows of B\n",
        "  if shape_A[1] != shape_B[0]:\n",
        "    print('Cannot be multiplied')\n",
        "    return 0\n",
        "\n",
        "  # Compute the product\n",
        "  # Initialize the output with zeros\n",
        "  out = np.zeros((shape_A[0], shape_B[1]))\n",
        "  # Loop-1 : Looping over rows of A\n",
        "  for row_idx in range(shape_A[0]):    \n",
        "    # Loop-2 : Looping over columns of B\n",
        "    for col_idx in range(shape_B[1]):\n",
        "      out[row_idx, col_idx] = np.dot(A[row_idx,:], B[:,col_idx])\n",
        "\n",
        "  return out\n",
        "\n",
        "\n",
        "\n",
        "\n",
        "# Do not edit below this line ###\n",
        "\n",
        "print('----------\\nTest Case: #1')\n",
        "inpA = np.array([[1,2,3]])\n",
        "inpB = np.array([[1],\n",
        "                 [4],\n",
        "                 [0]])\n",
        "\n",
        "res1 = product_matrix(inpA, inpB).astype('int')\n",
        "res = inpA @ inpB\n",
        "print('Your output:\\n', res1)\n",
        "print('Expected output:\\n', res)\n",
        "try:\n",
        "  assert(np.allclose(res1,res))\n",
        "  print('Successful !')\n",
        "except:\n",
        "  print('Incorrect implementation. Please try again !')\n",
        "\n",
        "\n",
        "\n",
        "\n",
        "print('\\n\\n---------\\nTest Case: #2')\n",
        "inpA = np.array([[1,2,3],\n",
        "                 [3,4,5]])\n",
        "inpB = np.array([[1,3],\n",
        "                 [4,9],\n",
        "                 [1,1]])\n",
        "\n",
        "res1 = product_matrix(inpA, inpB).astype('int')\n",
        "res = inpA @ inpB\n",
        "print('Your output:\\n', res1)\n",
        "print('Expected output:\\n', res)\n",
        "try:\n",
        "  assert(np.allclose(res1,res))\n",
        "  print('Successful !')\n",
        "except:\n",
        "  print('Incorrect implementation. Please try again !')\n",
        "\n",
        "\n",
        "\n",
        "\n",
        "print('\\n\\n---------\\nTest Case: #3')\n",
        "inpA = np.array([[1,2,3],\n",
        "                 [3,4,5]])\n",
        "inpB = np.array([[1,3],\n",
        "                 [4,9]])\n",
        "\n",
        "res1 = product_matrix(inpA, inpB)\n",
        "res = 0\n",
        "print('Your output:\\n', res1)\n",
        "print('Expected output:\\n', res)\n",
        "try:\n",
        "  assert(np.allclose(res1,res))\n",
        "  print('Successful !')\n",
        "except AttributeError:\n",
        "  print('Incorrect implementation. Please try again !')\n"
      ],
      "metadata": {
        "id": "9CD-gyNqP3It",
        "colab": {
          "base_uri": "https://localhost:8080/"
        },
        "outputId": "027a89ed-6d86-4128-e7ba-bbbbfee36228"
      },
      "id": "9CD-gyNqP3It",
      "execution_count": null,
      "outputs": [
        {
          "output_type": "stream",
          "name": "stdout",
          "text": [
            "----------\n",
            "Test Case: #1\n",
            "Your output:\n",
            " [[9]]\n",
            "Expected output:\n",
            " [[9]]\n",
            "Successful !\n",
            "\n",
            "\n",
            "---------\n",
            "Test Case: #2\n",
            "Your output:\n",
            " [[12 24]\n",
            " [24 50]]\n",
            "Expected output:\n",
            " [[12 24]\n",
            " [24 50]]\n",
            "Successful !\n",
            "\n",
            "\n",
            "---------\n",
            "Test Case: #3\n",
            "Cannot be multiplied\n",
            "Your output:\n",
            " 0\n",
            "Expected output:\n",
            " 0\n",
            "Successful !\n"
          ]
        }
      ]
    },
    {
      "cell_type": "markdown",
      "metadata": {
        "id": "Y-y6yJipUkgS"
      },
      "source": [
        "### Exercise - 2\n",
        "\n",
        "Consider the matrices $\\textbf{A}_{n\\times m}$, $\\textbf{B}_{m\\times k}$, and $\\textbf{C}_{k\\times h}$. Dimensions (row $\\times$ column) have been selected such that matrix products are computable.\n",
        "\n",
        "\\\\\n",
        "\n",
        "$\\textbf{A} = \\begin{bmatrix}\n",
        "1 & 5 & 10 & 2 \\\\\n",
        "2 & 0 & 3 & 23 \\\\\n",
        "8 & 9 & 0 & 11\n",
        "\\end{bmatrix}$\n",
        "\n",
        "$\\textbf{B} = \\begin{bmatrix}\n",
        "10 & 6 \\\\\n",
        "25 & 1 \\\\\n",
        "13 & 0 \\\\\n",
        "14& 11 \n",
        "\\end{bmatrix}$\n",
        "\n",
        "$\\textbf{C} = \\begin{bmatrix}\n",
        "5 & 10 & 7 & 8 \\\\\n",
        "2 & 12 & 1 & 0\n",
        "\\end{bmatrix}$\n",
        "\n",
        "\\\\\n",
        "\n",
        "Compute the matrix product $\\textbf{ABC}$. You may perform $\\textbf{(AB)C}$ or $\\textbf{A(BC)}$ - either works (due to the Associative Property). **You may input the matrices as numpy arrays and perform the linear algebra that way if you prefer.**"
      ],
      "id": "Y-y6yJipUkgS"
    },
    {
      "cell_type": "code",
      "metadata": {
        "id": "BNkJWvQLROZ-",
        "colab": {
          "base_uri": "https://localhost:8080/"
        },
        "outputId": "a368e18c-bbf4-449d-f5fe-d67bb12b9aa3"
      },
      "source": [
        "# insert your matrix multiplication code below\n",
        "A = np.array([[1, 5, 10, 2], [2, 0, 3, 23], [8, 9, 0, 11]])\n",
        "B = np.array([[10, 6], [25, 1], [13, 0], [14, 11]])\n",
        "C = np.array([[5, 10, 7, 8], [2, 12, 1, 0]])\n",
        "# your result should match the answer given next\n",
        "product_matrix(product_matrix(A,B),C)"
      ],
      "execution_count": null,
      "outputs": [
        {
          "output_type": "execute_result",
          "data": {
            "text/plain": [
              "array([[1531., 3326., 2084., 2344.],\n",
              "       [2435., 6990., 2932., 3048.],\n",
              "       [2651., 6726., 3391., 3672.]])"
            ]
          },
          "metadata": {},
          "execution_count": 3
        }
      ],
      "id": "BNkJWvQLROZ-"
    },
    {
      "cell_type": "markdown",
      "metadata": {
        "id": "rUH4kdvTf0NI"
      },
      "source": [
        "\n",
        "\n",
        "**Answer:** $\\textbf{ABC} = \\begin{bmatrix}\n",
        "1531 & 3326 & 2084 & 2344 \\\\\n",
        "2435 & 6990 & 2932 & 3048 \\\\\n",
        "2651 & 6726 & 3391 & 3672\n",
        "\\end{bmatrix}$"
      ],
      "id": "rUH4kdvTf0NI"
    },
    {
      "cell_type": "markdown",
      "metadata": {
        "id": "O-UvyEBmf051"
      },
      "source": [
        "### Exercise - 3\n",
        "\n",
        "Consider the matrices $\\textbf{A}_{nxm}$, $\\textbf{B}_{mxk}$, and $\\textbf{C}_{mxk}$. Dimensions have been selected so that the operation is computable. \n",
        "\n",
        "\\\\\n",
        "\n",
        "$\\textbf{A} = \\begin{bmatrix}\n",
        "1 & 5 & 10 & 2 \\\\\n",
        "2 & 0 & 3 & 23 \\\\\n",
        "8 & 9 & 0 & 11\n",
        "\\end{bmatrix}$\n",
        "\n",
        "$\\textbf{B} = \\begin{bmatrix}\n",
        "1 & 2 & 3 \\\\\n",
        "4 & 5 & 6 \\\\\n",
        "7 & 8 & 9 \\\\\n",
        "10& 11& 12 \n",
        "\\end{bmatrix}$\n",
        "\n",
        "$\\textbf{C} = \\begin{bmatrix}\n",
        "13& 14& 15 \\\\\n",
        "16& 17& 18 \\\\\n",
        "19& 20& 21 \\\\\n",
        "22& 23& 24 \n",
        "\\end{bmatrix}$\n",
        "\n",
        "\\\\\n",
        "\n",
        "Show the Distributive Property holds by computing $\\textbf{A(B + C)}$ and $\\textbf{AB + AC}$ and showing that they are equal, ie: $\\textbf{A(B + C)} = \\textbf{AB + AC}$. **You may input the matrices as numpy arrays and perform the linear algebra that way if you prefer.**"
      ],
      "id": "O-UvyEBmf051"
    },
    {
      "cell_type": "code",
      "metadata": {
        "id": "ri7WPIBJRby-",
        "colab": {
          "base_uri": "https://localhost:8080/"
        },
        "outputId": "1d8f5e5f-a56e-49f0-951d-91a2591436ef"
      },
      "source": [
        "# insert your code below for verifying the distributive property\n",
        "A = np.array([[1, 5, 10, 2], [2, 0, 3, 23], [8, 9, 0, 11]])\n",
        "B = np.array([[1, 2, 3], [4, 5, 6], [7, 8, 9], [10, 11, 12]])\n",
        "C = np.array([[13, 14, 15], [16, 17, 18], [19, 20, 21], [22, 23, 24]])\n",
        "\n",
        "# your result should match the answer given next\n",
        "print(product_matrix(A,B+C) == (product_matrix(A,B) + product_matrix(A,C)))"
      ],
      "execution_count": null,
      "outputs": [
        {
          "output_type": "stream",
          "name": "stdout",
          "text": [
            "[[ True  True  True]\n",
            " [ True  True  True]\n",
            " [ True  True  True]]\n"
          ]
        }
      ],
      "id": "ri7WPIBJRby-"
    },
    {
      "cell_type": "markdown",
      "metadata": {
        "id": "Pg2bK_HGhgUJ"
      },
      "source": [
        "\n",
        "\n",
        "**Answer:** $\\textbf{A(B+C)} = \\begin{bmatrix}\n",
        "438 & 474 & 510 \\\\\n",
        "842 & 898 & 954 \\\\\n",
        "644 & 700 & 756\n",
        "\\end{bmatrix}$"
      ],
      "id": "Pg2bK_HGhgUJ"
    },
    {
      "cell_type": "markdown",
      "metadata": {
        "id": "_BIx4Keuhni5"
      },
      "source": [
        "### Exercise - 4\n",
        "\n",
        "Consider the matrices $\\textbf{A}_{n\\times m}$ and $\\textbf{B}_{m\\times k}$. Dimensions have been selected so that the operation is computable. \n",
        "\n",
        "$\\textbf{A} = \\begin{bmatrix}\n",
        "1 & 3 & 5 & 7 & 9 \\\\\n",
        "11& 13& 15& 17& 19\n",
        "\\end{bmatrix}$\n",
        "\n",
        "$\\textbf{B} = \\begin{bmatrix}\n",
        "2 & 4 & 6 & 8 \\\\\n",
        "10& 12& 14& 16\\\\\n",
        "18& 20& 22& 24\\\\\n",
        "26& 28& 30& 32\\\\\n",
        "34& 36& 38& 40\n",
        "\\end{bmatrix}$\n",
        "\n",
        "\\\\\n",
        "\n",
        "Show that the property $\\textbf{(AB)}^T = \\textbf{(B}^T\\textbf{A}^T\\textbf{)}$ holds by computing $\\textbf{(AB)}^T$ and $\\textbf{(B}^T\\textbf{A}^T\\textbf{)}$ and showing they are equal. **You may input the matrices as numpy arrays and perform the linear algebra that way if you prefer.**"
      ],
      "id": "_BIx4Keuhni5"
    },
    {
      "cell_type": "code",
      "metadata": {
        "id": "Z2e8Rk6eRrr6",
        "colab": {
          "base_uri": "https://localhost:8080/"
        },
        "outputId": "75009a3c-eab6-473c-ff51-5eab68cf7662"
      },
      "source": [
        "# insert your code below for verifying the above property\n",
        "A = np.array([[1, 3, 5, 7, 9], [11, 13, 15, 17, 19]])\n",
        "B = np.array([[2, 4, 6, 8], [10, 12, 14, 16], [18, 20, 22, 24], [26, 28, 30, 32], [34, 36, 38, 40]])\n",
        "\n",
        "print(np.transpose(product_matrix(A, B)) == product_matrix(np.transpose(B), np.transpose(A)))"
      ],
      "execution_count": null,
      "outputs": [
        {
          "output_type": "stream",
          "name": "stdout",
          "text": [
            "[[ True  True]\n",
            " [ True  True]\n",
            " [ True  True]\n",
            " [ True  True]]\n"
          ]
        }
      ],
      "id": "Z2e8Rk6eRrr6"
    },
    {
      "cell_type": "markdown",
      "metadata": {
        "id": "98Z-NtbVjllX"
      },
      "source": [
        "\n",
        "**Answer:** $(\\textbf{AB})^T = \\begin{bmatrix}\n",
        "610 & 1510\\\\\n",
        "660 & 1660\\\\\n",
        "710 & 1810\\\\\n",
        "760 & 1960\n",
        "\\end{bmatrix}$"
      ],
      "id": "98Z-NtbVjllX"
    },
    {
      "cell_type": "markdown",
      "source": [
        "## Powers of a matrix"
      ],
      "metadata": {
        "id": "ft5kwoFMyotx"
      },
      "id": "ft5kwoFMyotx"
    },
    {
      "cell_type": "markdown",
      "source": [
        "**Definition** For a positive integer $k$ , the $k^{th}$ power of a square matrix $A$ is defined as: $A^k=A.A.A....A\\:\\: (k$ times).\n",
        "\n",
        "- By convention $A^0=I$, the identity matrix of the same dimension as $A$.\n",
        "- It is **NOT** computed by raising the individual elements to the $k^{th}$ power.\n",
        "- Use the operator `@` or `np.linalg.matrix_power()`.\n",
        "\n"
      ],
      "metadata": {
        "id": "_35KKyB8LpUQ"
      },
      "id": "_35KKyB8LpUQ"
    },
    {
      "cell_type": "code",
      "source": [
        "# Example for matrix power\n",
        "import numpy as np\n",
        "A = np.array([[4,1],\n",
        "              [2,5]])\n",
        "A_square = np.linalg.matrix_power(A,2)\n",
        "print('A_square\\n', A_square)\n",
        "print('Shape: ', A_square.shape)\n",
        "\n",
        "A_square_2 = A @ A\n",
        "print('A_square_2\\n', A_square_2)\n",
        "print('Shape: ', A_square_2.shape)"
      ],
      "metadata": {
        "id": "1Kvo2zreyr6j",
        "colab": {
          "base_uri": "https://localhost:8080/"
        },
        "outputId": "d098a15d-3bd3-4862-f23e-bec238886a06"
      },
      "id": "1Kvo2zreyr6j",
      "execution_count": null,
      "outputs": [
        {
          "output_type": "stream",
          "name": "stdout",
          "text": [
            "A_square\n",
            " [[18  9]\n",
            " [18 27]]\n",
            "Shape:  (2, 2)\n",
            "A_square_2\n",
            " [[18  9]\n",
            " [18 27]]\n",
            "Shape:  (2, 2)\n"
          ]
        }
      ]
    },
    {
      "cell_type": "markdown",
      "source": [
        "## QR Factorization"
      ],
      "metadata": {
        "id": "tjljW0zBy6Yb"
      },
      "id": "tjljW0zBy6Yb"
    },
    {
      "cell_type": "markdown",
      "source": [
        "**Proposition** Any matrix $A$ can be decomposed into two matrices $Q,R$ such that $A = QR$ and:\n",
        "- $Q$ is a matrix such that $Q^TQ=I$ $\\implies Q$ is orthogonal\n",
        "- $R$ is a upper triangular matrix\n",
        "\n",
        "Computing it in Python using `np.linalg.qr()`\n",
        "\n"
      ],
      "metadata": {
        "id": "LQHUKCgZzTHh"
      },
      "id": "LQHUKCgZzTHh"
    },
    {
      "cell_type": "code",
      "source": [
        "# Example for QR factorization\n",
        "\n",
        "A = np.array([[4,1],\n",
        "              [2,5]])\n",
        "Q, R = np.linalg.qr(A)\n",
        "print('Q\\n', Q)\n",
        "print('R\\n', R)\n",
        "\n",
        "# Verify that Q is an orthogonal matrix\n",
        "print('Q is orthogonal')\n",
        "print('Q.T @ Q\\n',Q.T @ Q)\n",
        "print('Q @ Q.T\\n',Q @ Q.T)"
      ],
      "metadata": {
        "id": "Olyhj5Tby8eS",
        "colab": {
          "base_uri": "https://localhost:8080/"
        },
        "outputId": "2ecdd2f9-43f3-4222-8696-e4b160eee7f1"
      },
      "id": "Olyhj5Tby8eS",
      "execution_count": null,
      "outputs": [
        {
          "output_type": "stream",
          "name": "stdout",
          "text": [
            "Q\n",
            " [[-0.89442719 -0.4472136 ]\n",
            " [-0.4472136   0.89442719]]\n",
            "R\n",
            " [[-4.47213595 -3.13049517]\n",
            " [ 0.          4.02492236]]\n",
            "Q is orthogonal\n",
            "Q.T @ Q\n",
            " [[ 1.00000000e+00 -6.81060746e-17]\n",
            " [-6.81060746e-17  1.00000000e+00]]\n",
            "Q @ Q.T\n",
            " [[ 1.00000000e+00 -6.81060746e-17]\n",
            " [-6.81060746e-17  1.00000000e+00]]\n"
          ]
        }
      ]
    },
    {
      "cell_type": "markdown",
      "source": [
        "### Exercise - 5\n",
        "\n",
        "Write a function `is_orthogonal(A)` to check if a matrix `A` is orthogonal. The outline is given below. Return `True` if orthogonal else `False`."
      ],
      "metadata": {
        "id": "EH3cSCOdXpmu"
      },
      "id": "EH3cSCOdXpmu"
    },
    {
      "cell_type": "code",
      "source": [
        "\n",
        "def is_orthogonal(A):\n",
        "  #insert your code below\n",
        "  # if orthogonal return True\n",
        "  if np.mean(product_matrix(np.transpose(A), A) - np.eye(A.shape[0])) < 1e-10:\n",
        "    return True\n",
        "  else:\n",
        "    return False\n",
        "  \n",
        "  # else return False\n",
        "\n",
        "\n",
        "\n",
        "\n",
        "\n",
        "\n",
        "\n",
        "\n",
        "\n",
        "# Do not edit below this line ###\n",
        "\n",
        "print('----------\\nTest Case: #1')\n",
        "A_temp = np.array([[1,10],\n",
        "              [6,7]])\n",
        "A,_ = np.linalg.qr(A_temp)\n",
        "res = is_orthogonal(A)\n",
        "res1 = True\n",
        "try:\n",
        "  assert(res==res1)\n",
        "  print('Successful')\n",
        "except:\n",
        "  print('Incorrect implementation, please try again !')\n",
        "\n",
        "\n",
        "print('----------\\nTest Case: #2')\n",
        "A = np.array([[1,0,0],\n",
        "              [0,1,0],\n",
        "              [0,0,1]])\n",
        "res = is_orthogonal(A)\n",
        "res1 = True\n",
        "try:\n",
        "  assert(res==res1)\n",
        "  print('Successful')\n",
        "except:\n",
        "  print('Incorrect implementation, please try again !')\n",
        "\n",
        "\n",
        "\n",
        "print('----------\\nTest Case: #3')\n",
        "A = np.array([[1,0,0],\n",
        "              [0,1,1],\n",
        "              [0,0,1]])\n",
        "res = is_orthogonal(A)\n",
        "res1 = False\n",
        "try:\n",
        "  assert(res==res1)\n",
        "  print('Successful')\n",
        "except:\n",
        "  print('Incorrect implementation, please try again !')\n"
      ],
      "metadata": {
        "id": "CAaSvVQHX9XT",
        "colab": {
          "base_uri": "https://localhost:8080/"
        },
        "outputId": "f2723462-3800-4523-f893-06becde586eb"
      },
      "id": "CAaSvVQHX9XT",
      "execution_count": null,
      "outputs": [
        {
          "output_type": "stream",
          "name": "stdout",
          "text": [
            "----------\n",
            "Test Case: #1\n",
            "Successful\n",
            "----------\n",
            "Test Case: #2\n",
            "Successful\n",
            "----------\n",
            "Test Case: #3\n",
            "Successful\n"
          ]
        }
      ]
    },
    {
      "cell_type": "code",
      "source": [],
      "metadata": {
        "id": "NleDoSfhslsU"
      },
      "id": "NleDoSfhslsU",
      "execution_count": null,
      "outputs": []
    }
  ],
  "metadata": {
    "colab": {
      "provenance": [],
      "collapsed_sections": []
    },
    "kernelspec": {
      "display_name": "Python 3.9.4 64-bit ('3.9.4')",
      "language": "python",
      "name": "python3"
    },
    "language_info": {
      "codemirror_mode": {
        "name": "ipython",
        "version": 3
      },
      "file_extension": ".py",
      "mimetype": "text/x-python",
      "name": "python",
      "nbconvert_exporter": "python",
      "pygments_lexer": "ipython3",
      "version": "3.9.4"
    },
    "vscode": {
      "interpreter": {
        "hash": "017ac8a0813a894857ac85c3080468aa30be6f181b5c5e953892ff115d2acc76"
      }
    }
  },
  "nbformat": 4,
  "nbformat_minor": 5
}