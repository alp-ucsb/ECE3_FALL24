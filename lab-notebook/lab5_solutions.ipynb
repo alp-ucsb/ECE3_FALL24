{
  "cells": [
    {
      "cell_type": "markdown",
      "id": "342e4b36",
      "metadata": {
        "id": "342e4b36"
      },
      "source": [
        "# ECE-3 Lab 5"
      ]
    },
    {
      "cell_type": "markdown",
      "id": "53d2499e",
      "metadata": {
        "id": "53d2499e"
      },
      "source": [
        "## Matrix\n",
        "\n",
        "$\\color{#EF5645}{\\text{Definition}}$: Rectangular array of numbers. For example, matrix A has 3 rows and 4 columns.\n",
        "\n",
        "$A = \\begin{bmatrix}1 & 4 & 5 & 7\\\\ 3 & -1 & 9 & 5\\\\ 4& 5 & 0 & 3\\end{bmatrix}$\n",
        "\n",
        "The code below describes how to define such a matrix"
      ]
    },
    {
      "cell_type": "code",
      "source": [
        "import numpy as np\n",
        "\n",
        "A = np.array([[1, 4, 5, 7],\n",
        "              [3, -1, 9, 5],\n",
        "              [4, 5, 0, 3]])\n",
        "print(A)\n",
        "print(\"Shape of A: \", A.shape)\n",
        "print(\"No. of rows of A = \", A.shape[0])\n",
        "print(\"No. of columns of A = \", A.shape[1])"
      ],
      "metadata": {
        "id": "Q0KxFxqi8Znn",
        "colab": {
          "base_uri": "https://localhost:8080/"
        },
        "outputId": "fbf0ee54-1f83-49fd-a430-d572a564d882"
      },
      "id": "Q0KxFxqi8Znn",
      "execution_count": null,
      "outputs": [
        {
          "output_type": "stream",
          "name": "stdout",
          "text": [
            "[[ 1  4  5  7]\n",
            " [ 3 -1  9  5]\n",
            " [ 4  5  0  3]]\n",
            "Shape of A:  (3, 4)\n",
            "No. of rows of A =  3\n",
            "No. of columns of A =  4\n"
          ]
        }
      ]
    },
    {
      "cell_type": "markdown",
      "source": [
        "### Transpose of a matrix (exchange rows and columns) : `np.transpose()`\n"
      ],
      "metadata": {
        "id": "M1WjWN-5CBKw"
      },
      "id": "M1WjWN-5CBKw"
    },
    {
      "cell_type": "code",
      "source": [
        "# Note np.transpose() does not create a copy of an array\n",
        "B = A.transpose().copy()\n",
        "print(B)\n",
        "\n",
        "# Changes in B does not affects A as we used np.copy()\n",
        "B[0,0] = 500\n",
        "print(A)\n",
        "print(B)"
      ],
      "metadata": {
        "id": "T9_Ep0M0CIym",
        "colab": {
          "base_uri": "https://localhost:8080/"
        },
        "outputId": "8d0dca6b-2601-4aff-c08d-80c23253f8ff"
      },
      "id": "T9_Ep0M0CIym",
      "execution_count": null,
      "outputs": [
        {
          "output_type": "stream",
          "name": "stdout",
          "text": [
            "[[ 1  3  4]\n",
            " [ 4 -1  5]\n",
            " [ 5  9  0]\n",
            " [ 7  5  3]]\n",
            "[[ 1  4  5  7]\n",
            " [ 3 -1  9  5]\n",
            " [ 4  5  0  3]]\n",
            "[[500   3   4]\n",
            " [  4  -1   5]\n",
            " [  5   9   0]\n",
            " [  7   5   3]]\n"
          ]
        }
      ]
    },
    {
      "cell_type": "markdown",
      "source": [
        "### Changing the shape of a matrix : `np.reshape()`"
      ],
      "metadata": {
        "id": "s-Pqs6Qkzv2n"
      },
      "id": "s-Pqs6Qkzv2n"
    },
    {
      "cell_type": "code",
      "source": [
        "# Note np.copy() does not create a copy of an array\n",
        "B = A.reshape(2,6).copy()\n",
        "print(B)\n",
        "\n",
        "# Changes in B does not affects A as we used np.copy()\n",
        "B[0,0] = 500\n",
        "print(A)\n",
        "print(B)"
      ],
      "metadata": {
        "id": "XRFKyg2zzuf9",
        "colab": {
          "base_uri": "https://localhost:8080/"
        },
        "outputId": "5f603390-38bc-4b9e-ff36-1f0e0439354b"
      },
      "id": "XRFKyg2zzuf9",
      "execution_count": null,
      "outputs": [
        {
          "output_type": "stream",
          "name": "stdout",
          "text": [
            "[[ 1  4  5  7  3 -1]\n",
            " [ 9  5  4  5  0  3]]\n",
            "[[ 1  4  5  7]\n",
            " [ 3 -1  9  5]\n",
            " [ 4  5  0  3]]\n",
            "[[500   4   5   7   3  -1]\n",
            " [  9   5   4   5   0   3]]\n"
          ]
        }
      ]
    },
    {
      "cell_type": "markdown",
      "source": [
        "### Some terminologies\n",
        "\n",
        "Let $A$ be a $m$ x $n$ matrix ie $m$ rows and $n$ columns.\n",
        "A is\n",
        "- **tall** if $m>n$\n",
        "- **wide** if $m<n$\n",
        "- **square** if $m=n$\n"
      ],
      "metadata": {
        "id": "TfYnSJR2uoeU"
      },
      "id": "TfYnSJR2uoeU"
    },
    {
      "cell_type": "markdown",
      "source": [
        "### Extracting rows and columns of a matrix\n",
        "\n",
        "*Remember python uses `0`-based indexing*\n",
        "\n",
        "$\\color{#047C91}{\\text{Example}}$:\n",
        "- column `0` of A :  $\\begin{bmatrix}1\\\\3\\\\4\\end{bmatrix}\\:\\:\\:\\:$ code : `A[:,0]`\n",
        "\n",
        "- row `2` of A : $\\begin{bmatrix}4 & 5 & 0 & 3 \\end{bmatrix}\\:\\:\\:\\:$ code : `A[2,:]` "
      ],
      "metadata": {
        "id": "DDrVdMXzvTDF"
      },
      "id": "DDrVdMXzvTDF"
    },
    {
      "cell_type": "code",
      "source": [
        "#notice that the result is just an array so it is printed horizontally\n",
        "print('Column 0 of A:')\n",
        "print(A[:,0]) # column 0 of A.\n",
        "\n",
        "print('Row 2 of A:')\n",
        "print(A[2,:]) # row 2 of A"
      ],
      "metadata": {
        "id": "Tfwbp6aYuXQm",
        "colab": {
          "base_uri": "https://localhost:8080/"
        },
        "outputId": "0aabe850-410e-4d16-eb40-58c64f4da811"
      },
      "id": "Tfwbp6aYuXQm",
      "execution_count": null,
      "outputs": [
        {
          "output_type": "stream",
          "name": "stdout",
          "text": [
            "Column 0 of A:\n",
            "[1 3 4]\n",
            "Row 2 of A:\n",
            "[4 5 0 3]\n"
          ]
        }
      ]
    },
    {
      "cell_type": "markdown",
      "source": [
        "### Slices of a matrix\n",
        "\n",
        "- `:` means extract all from that particular dimension\n",
        "- `1:4` means extract at positions 1,2,3 (excluding 4)\n",
        "- `-1` means extract the 1st position from the end\n",
        "\n",
        "\n",
        "For example using the previous example of A:\n",
        "\n",
        "$A = \\begin{bmatrix}1 & 4 & 5 & 7\\\\ 3 & -1 & 9 & 5\\\\ 4& 5 & 0 & 3\\end{bmatrix}$\n",
        "\n",
        "\n",
        "- `A[1:3,:]` $\\implies$ returns values at row index=1,2 and **all** column indices\n",
        "- `A[0:1,:]`  $\\implies$ returns values at row index=0 and **all** column indices\n",
        "- `A[1, 1:2]` $\\implies$ returns values at row index=1 and column index=1\n",
        "- `A[1, -1]` $\\implies$ returns values at row index=1 and column index=3 (last column)\n",
        "- `A[1, -3:-1]` $\\implies$ returns values at row index=1 and column index=1,2\n",
        "- `A[:,:]` $\\implies$ returns values at **all** row indices and **all** column indices ie entire A"
      ],
      "metadata": {
        "id": "vU_cWKxMxO_b"
      },
      "id": "vU_cWKxMxO_b"
    },
    {
      "cell_type": "code",
      "source": [
        "A[:, -3:-1]"
      ],
      "metadata": {
        "id": "UIwuIUI_ytY9",
        "colab": {
          "base_uri": "https://localhost:8080/"
        },
        "outputId": "74832612-c77b-408f-a545-6dceb50e6595"
      },
      "id": "UIwuIUI_ytY9",
      "execution_count": null,
      "outputs": [
        {
          "output_type": "execute_result",
          "data": {
            "text/plain": [
              "array([[ 4,  5],\n",
              "       [-1,  9],\n",
              "       [ 5,  0]])"
            ]
          },
          "metadata": {},
          "execution_count": 5
        }
      ]
    },
    {
      "cell_type": "markdown",
      "source": [
        "### Block matrices\n",
        "\n",
        "$\\color{#EF5645}{\\text{Definition}}$: A matrix composed of other matrices is called a *block* matrix:\n",
        "$A = \\begin{bmatrix}B & C \\\\D & E\\end{bmatrix}$\n",
        "\n",
        "where $B,C,D,E$ are matrices."
      ],
      "metadata": {
        "id": "id8NnrjM2IaP"
      },
      "id": "id8NnrjM2IaP"
    },
    {
      "cell_type": "code",
      "source": [
        "# defining B,C,D,E as 2x2 matrices\n",
        "\n",
        "B = np.array([[4,5],\n",
        "              [1,2]])\n",
        "\n",
        "C = np.array([[-1,4],\n",
        "              [0,8]])\n",
        "\n",
        "\n",
        "D = np.array([[7,9],\n",
        "              [5,0]])\n",
        "\n",
        "\n",
        "E = np.array([[1,1],\n",
        "              [7,7]])\n",
        "\n",
        "A = np.array([[B, C],\n",
        "              [D, E]])\n",
        "print(A)"
      ],
      "metadata": {
        "id": "JKFXcijq2Kxm",
        "colab": {
          "base_uri": "https://localhost:8080/"
        },
        "outputId": "c4b3162f-efd3-488c-bcbc-33415a23fffb"
      },
      "id": "JKFXcijq2Kxm",
      "execution_count": null,
      "outputs": [
        {
          "output_type": "stream",
          "name": "stdout",
          "text": [
            "[[[[ 4  5]\n",
            "   [ 1  2]]\n",
            "\n",
            "  [[-1  4]\n",
            "   [ 0  8]]]\n",
            "\n",
            "\n",
            " [[[ 7  9]\n",
            "   [ 5  0]]\n",
            "\n",
            "  [[ 1  1]\n",
            "   [ 7  7]]]]\n"
          ]
        }
      ]
    },
    {
      "cell_type": "markdown",
      "source": [
        "### Special matrices\n",
        " -  Diagonal matrix : A square matrix such that all off diagonal elements are equal to 0.\n",
        "\n",
        " $\\color{#047C91}{\\text{Example}}$: $\\begin{bmatrix}5 & 0 & 0\\\\0 & 7 & 0\\\\ 0 & 0 & 0\\end{bmatrix}\\:\\:$\n",
        " - Identity matrix : A square matrix such that all diagonal elements are equal to 1 and all other elements are 0.\n",
        "\n",
        "$\\color{#047C91}{\\text{Example}}$: $I_4 = \\begin{bmatrix}1 & 0 & 0 & 0\\\\0 & 1 & 0 & 0\\\\ 0 & 0 & 1 & 0\\\\0 & 0 & 0 & 1\\end{bmatrix}\\:\\:$, $I_2 = \\begin{bmatrix}1 & 0\\\\0 & 1\\end{bmatrix}\\:\\: \\implies$ `np.eye(2)` or `np.identity(2)`\n",
        "\n",
        "- Zero matrix : $\\begin{bmatrix}0 & 0\\\\0 & 0\\end{bmatrix} \\implies$ `np.zeros((2,2))`\n",
        "\n",
        "- Ones matrix : $\\begin{bmatrix}1 & 1\\\\1 & 1\\end{bmatrix} \\implies$ `np.ones((2,2))`\n",
        "\n",
        "- Lower triangular matrix : A matrix such that $A_{ij}=0$ for $i<j$\n",
        "- Upper triangular matrix : A matrix such that $A_{ij}=0$ for $i>j$ \n",
        "\n",
        "\n",
        "$\\color{#047C91}{\\text{Example}}$:\n",
        "\n",
        "Classify the matrices below as upper triangular and/or lower triangular:\n",
        "\n",
        "1. $A=\\begin{bmatrix}1 & 7 & 0 & 9\\\\0 & 2 & 4 & 3\\\\ 0 & 0 & 7 & 10\\\\0 & 0 & 0 & 1\\end{bmatrix}$\n",
        "\n",
        "Answer: Upper triangular matrix\n",
        "\n",
        "2. $B=\\begin{bmatrix}1 & 0 & 0 & 0\\\\0 & 2 & 0 & 0\\\\ 0 & 0 & 7 & 0\\\\0 & 0 & 0 & 1\\end{bmatrix}$\n",
        "\n",
        "Answer: Diagonal matrix\n",
        "\n",
        "3. $C=\\begin{bmatrix}1 & 0 & 0 & 10\\\\0 & 2 & 0 & 0\\\\ 0 & 0 & 7 & 0\\\\0 & 0 & 0 & 1\\end{bmatrix}$\n",
        "\n",
        "Answer: Upper triangular matrix"
      ],
      "metadata": {
        "id": "bMsBgeTQ34Sy"
      },
      "id": "bMsBgeTQ34Sy"
    },
    {
      "cell_type": "markdown",
      "source": [
        "*For the problems below, you can use the stated numpy functions but you must not explicitly set the matrix elements.*\n",
        "\n",
        "$\\color{#047C91}{\\text{Exercise-1}}$:\n",
        "\n",
        "Generate the following matrix using matrix slicing operations and the functions `np.zeros()` and `np.ones()`:\n",
        "\n",
        "\n",
        "$\\begin{bmatrix}\n",
        "1 & 1 & 1 & 1 & 1\\\\\n",
        "1 & 0 & 0 & 0 & 1\\\\\n",
        "1 & 0 & 0 & 0 & 1\\\\\n",
        "1 & 0 & 0 & 0 & 1\\\\\n",
        "1 & 1 & 1 & 1 & 1\\\\\\end{bmatrix}$\n",
        "\n",
        "* Answer:\n",
        "* A = np.ones((5,5))\n",
        "* B = np.zeros((3,3))\n",
        "* A[1:4,1:4] = B\n",
        "* print(A)\n",
        "\n",
        "\n",
        "\n",
        "$\\color{#047C91}{\\text{Exercise-2}}$:\n",
        "\n",
        "Generate the following matrix using matrix slicing operations and the functions `np.zeros()`, `np.ones()`:\n",
        "\n",
        "\n",
        "$\\begin{bmatrix}\n",
        "0 & 0 & 1 & 0 & 0\\\\\n",
        "0 & 0 & 1 & 0 & 0\\\\\n",
        "1 & 1 & 1 & 1 & 1\\\\\n",
        "0 & 0 & 1 & 0 & 0\\\\\n",
        "0 & 0 & 1 & 0 & 0\\\\\\end{bmatrix}$\n",
        "\n",
        "* Answer:\n",
        "* A = np.zeros((5,5))\n",
        "* B = np.ones((1,5))\n",
        "* C = np.ones((5,1))\n",
        "* A[2:3, :] = B\n",
        "* A[:,2:3] = C\n",
        "* print(A)\n",
        "\n",
        "\n",
        "$\\color{#047C91}{\\text{Exercise-3}}$:\n",
        "\n",
        "Generate the following matrix using matrix slicing operations and the functions `np.zeros()`, `np.ones()` and `np.fliplr()`:\n",
        "\n",
        "\n",
        "$\\begin{bmatrix}\n",
        "1 & 0 & 0 & 0 & 1\\\\\n",
        "0 & 1 & 0 & 1 & 0\\\\\n",
        "0 & 0 & 2 & 0 & 0\\\\\n",
        "0 & 1 & 0 & 1 & 0\\\\\n",
        "1 & 0 & 0 & 0 & 1\\\\\\end{bmatrix}$\n",
        "\n",
        "\n",
        "Hint: Print `help(np.fliplr)` for more info !\n",
        "\n",
        "\n",
        "* Answer:\n",
        "* A = np.eye(5)\n",
        "* A = A +np.fliplr(A)\n",
        "\n",
        "* print(A)\n"
      ],
      "metadata": {
        "id": "D9vgjJCxFqMq"
      },
      "id": "D9vgjJCxFqMq"
    },
    {
      "cell_type": "markdown",
      "metadata": {
        "id": "L4zhVEGUUx9W"
      },
      "source": [
        "### Matrix norm\n",
        "$\\color{#EF5645}{\\text{Definition}}$: For a $m \\times n$ matrix $A$, we define the matrix norm as:\n",
        "$$||A|| = \\sqrt{\\sum_{i=1}^m \\sum_{j=1}^n A_{ij}^2}.$$\n",
        "\n",
        "$\\color{#047C91}{\\text{Example}}$: Compute the matrix norm of $A = \\begin{bmatrix}\n",
        "2 & 0 & 1\\\\\n",
        "0 & 3 & 2 \\end{bmatrix}.$\n",
        "\n",
        "$||A|| = \\sqrt{2^2 + 0^2 + 1^2 + 0^2 + 3^2 + 2^2} = \\sqrt{18}$."
      ],
      "id": "L4zhVEGUUx9W"
    },
    {
      "cell_type": "code",
      "metadata": {
        "id": "qZH_97UkS7i5",
        "colab": {
          "base_uri": "https://localhost:8080/"
        },
        "outputId": "88bb841c-c32f-4ce8-8919-30545ee3d527"
      },
      "source": [
        "# Matrix Norm\n",
        "import numpy as np\n",
        "A = np.array([[2,0,1],[0,3,2]])\n",
        "print(\"A's norm is\", np.linalg.norm(A))"
      ],
      "execution_count": null,
      "outputs": [
        {
          "output_type": "stream",
          "name": "stdout",
          "text": [
            "A's norm is 4.242640687119285\n"
          ]
        }
      ],
      "id": "qZH_97UkS7i5"
    },
    {
      "cell_type": "markdown",
      "metadata": {
        "id": "bIv3Y9OTWSso"
      },
      "source": [
        "### Distance between two matrices\n",
        "\n",
        "$\\color{#EF5645}{\\text{Definition}}$: The distance between two matrices $A$ and $B$ is defined as:\n",
        "$$dist(A, B) = ||A - B||.$$\n",
        "\n",
        "$\\color{#047C91}{\\text{Example}}$: Compute the distance between $A = \\begin{bmatrix}\n",
        "2 & 0 & 1\\\\\n",
        "0 & 3 & 2 \\end{bmatrix}$ and $B = \\begin{bmatrix}\n",
        "1 & 0 & 1\\\\\n",
        "0 & 2 & 2 \\end{bmatrix}.$\n",
        "\n",
        "$||A - B|| = ||\\begin{bmatrix}\n",
        "1 & 0 & 0\\\\\n",
        "0 & 1 & 0 \\end{bmatrix}|| = \\sqrt{2}$."
      ],
      "id": "bIv3Y9OTWSso"
    },
    {
      "cell_type": "code",
      "metadata": {
        "id": "_ERfdG6mW3r0",
        "colab": {
          "base_uri": "https://localhost:8080/"
        },
        "outputId": "0f694ded-0758-4b61-de29-022ba819b530"
      },
      "source": [
        "# Distance between 2 matrices\n",
        "import numpy as np\n",
        "A = np.array([[2,0,1],[0,3,2]])\n",
        "B = np.array([[1,0,1],[0,2,2]])\n",
        "print(\"Distance between A and B is\", np.linalg.norm(A - B))"
      ],
      "execution_count": null,
      "outputs": [
        {
          "output_type": "stream",
          "name": "stdout",
          "text": [
            "Distance between A and B is 1.4142135623730951\n"
          ]
        }
      ],
      "id": "_ERfdG6mW3r0"
    },
    {
      "cell_type": "markdown",
      "source": [
        "### Matrix vector multiplication\n",
        "\n",
        "Consider a matrix $A$ and a vector $b$. Let their product be equal to $y$.\n",
        "\n",
        "$y = \\begin{bmatrix}y_1\\\\y_2\\\\.\\\\.\\\\.\\\\y_n\\end{bmatrix} = \\begin{bmatrix}a_{11} & a_{12} & a_{13} & ... & a_{1n}\\\\ a_{21} & a_{22} & a_{23} & ... & a_{2n}\\\\. & . & . & ... & .\\\\. & . & . & ... & .\\\\. & . & . & ... & .\\\\a_{n1} & a_{n2} & a_{n3} & ... & a_{nn}\\end{bmatrix}\\:\\:\\begin{bmatrix}b_1 \\\\ b_2 \\\\ . \\\\ . \\\\ . \\\\ b_n\\end{bmatrix}$\n",
        "\n",
        "\n",
        "where,\n",
        "\n",
        "$y_1 = a_{11}b_1 + a_{12}b_2 + ... a_{1n}b_n$\n",
        "\n",
        "$y_2 = a_{21}b_1 + a_{22}b_2 + ... a_{2n}b_n$\n",
        "\n",
        ".\n",
        ".\n",
        "\n",
        "$y_n = a_{n1}b_1 + a_{n2}b_2 + ... a_{nn}b_n$"
      ],
      "metadata": {
        "id": "oUnJjCUE_x-E"
      },
      "id": "oUnJjCUE_x-E"
    },
    {
      "cell_type": "code",
      "source": [
        "# Example\n",
        "\n",
        "A = np.array([[1,2,3],  #shape (3,3)\n",
        "              [2,0,5],\n",
        "              [6,2,1]])\n",
        "b = np.array([1,4,5]) #shape (3,)\n",
        "print('y=' , A@b)\n",
        "\n",
        "\n",
        "# or more specifically\n",
        "b = np.array([[1], [4], [5]]) #shape (3,1)\n",
        "print('With proper size formatting')\n",
        "print('y=' , A@b)"
      ],
      "metadata": {
        "id": "BrNvavyoGHWO",
        "colab": {
          "base_uri": "https://localhost:8080/"
        },
        "outputId": "4e181137-b986-4f57-8860-4e6dd1dfdaf4"
      },
      "id": "BrNvavyoGHWO",
      "execution_count": null,
      "outputs": [
        {
          "output_type": "stream",
          "name": "stdout",
          "text": [
            "y= [24 27 19]\n",
            "With proper size formatting\n",
            "y= [[24]\n",
            " [27]\n",
            " [19]]\n"
          ]
        }
      ]
    },
    {
      "cell_type": "code",
      "source": [
        "np.matmul(A,b)"
      ],
      "metadata": {
        "id": "FX-RvCMMN3xq",
        "colab": {
          "base_uri": "https://localhost:8080/"
        },
        "outputId": "3a568067-874b-42cc-e600-d79741562594"
      },
      "id": "FX-RvCMMN3xq",
      "execution_count": null,
      "outputs": [
        {
          "output_type": "execute_result",
          "data": {
            "text/plain": [
              "array([[24],\n",
              "       [27],\n",
              "       [19]])"
            ]
          },
          "metadata": {},
          "execution_count": 16
        }
      ]
    },
    {
      "cell_type": "code",
      "source": [],
      "metadata": {
        "id": "pze_VuN3IsgR"
      },
      "id": "pze_VuN3IsgR",
      "execution_count": null,
      "outputs": []
    }
  ],
  "metadata": {
    "colab": {
      "provenance": [],
      "collapsed_sections": [
        "TfYnSJR2uoeU"
      ]
    },
    "kernelspec": {
      "display_name": "Python 3.9.4 64-bit ('3.9.4')",
      "language": "python",
      "name": "python3"
    },
    "language_info": {
      "codemirror_mode": {
        "name": "ipython",
        "version": 3
      },
      "file_extension": ".py",
      "mimetype": "text/x-python",
      "name": "python",
      "nbconvert_exporter": "python",
      "pygments_lexer": "ipython3",
      "version": "3.9.4"
    },
    "vscode": {
      "interpreter": {
        "hash": "017ac8a0813a894857ac85c3080468aa30be6f181b5c5e953892ff115d2acc76"
      }
    }
  },
  "nbformat": 4,
  "nbformat_minor": 5
}