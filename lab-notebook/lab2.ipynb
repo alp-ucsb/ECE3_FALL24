{
  "cells": [
    {
      "cell_type": "markdown",
      "id": "342e4b36",
      "metadata": {
        "id": "342e4b36"
      },
      "source": [
        "# ECE-3 Lab 2"
      ]
    },
    {
      "cell_type": "markdown",
      "id": "53d2499e",
      "metadata": {
        "id": "53d2499e"
      },
      "source": [
        "## Contents\n",
        "1. [Vectors](#Vectors)\n",
        "2. [Linear Functions](#Linear-Functions)\n",
        "3. [Norms](#Norms)\n",
        "4. [Distance](#Distance)"
      ]
    },
    {
      "cell_type": "markdown",
      "id": "89db74b1",
      "metadata": {
        "id": "89db74b1"
      },
      "source": [
        "## Vectors"
      ]
    },
    {
      "cell_type": "markdown",
      "id": "cebbd06b",
      "metadata": {
        "id": "cebbd06b"
      },
      "source": [
        "- $\\color{blue}{\\text{Definition }}$ An ordered list of numbers, similar to arrays in Python.\n",
        "\n",
        "- We say a **n-vector** has a total of *n* *elements/components*.\n",
        "- $\\color{blue}{\\text{NOTE }}$ Indexes run from $0$ to $n-1$.\n",
        "- Example :\n",
        "$$A = \\begin{bmatrix}\n",
        "    -6.9 \\\\\n",
        "    -5 \\\\\n",
        "    1.2 \\\\\n",
        "    -9.6\n",
        "\\end{bmatrix}\\:\\:\\:\n",
        "B = \\begin{bmatrix}\n",
        "    -6.9 ,-5, 1.2, -9.6\n",
        "\\end{bmatrix}$$\n"
      ]
    },
    {
      "cell_type": "code",
      "execution_count": null,
      "id": "6983279c",
      "metadata": {
        "colab": {
          "base_uri": "https://localhost:8080/"
        },
        "id": "6983279c",
        "outputId": "3d7aed94-4919-414f-c4d3-b2293d277f65"
      },
      "outputs": [],
      "source": [
        "import numpy as np\n",
        "\n",
        "A = np.array([[-6.9],\n",
        "                [-5],\n",
        "                [1.2],\n",
        "                [-9.6]])\n",
        "print(A)\n",
        "print(A.shape)\n",
        "\n",
        "B = np.array([-6.9,-5,1.2,-9.6])\n",
        "print(B)\n",
        "print(B.shape)"
      ]
    },
    {
      "cell_type": "markdown",
      "id": "b00c80b1",
      "metadata": {
        "id": "b00c80b1"
      },
      "source": [
        "$\\color{blue}{\\text{NOTE }}$\n",
        "\n",
        "`C=A` where both `C`,`A` are both numpy arrays merely creates a reference to original array `A`. Changes made to A thereafter **DO** show up in `C` as well."
      ]
    },
    {
      "cell_type": "code",
      "execution_count": null,
      "id": "90bf1fc4",
      "metadata": {
        "colab": {
          "base_uri": "https://localhost:8080/"
        },
        "id": "90bf1fc4",
        "outputId": "736847ba-d4c2-4a3b-db72-a4c6db178abd"
      },
      "outputs": [],
      "source": [
        "C = A  # just creates a reference to A, DOES NOT creates a copy\n",
        "print('Before making any change to A')\n",
        "print(C)\n",
        "A[2] = 0\n",
        "print(\"After making a change to A\")\n",
        "print(C) #notice the changes propagate to A as well\n"
      ]
    },
    {
      "cell_type": "markdown",
      "id": "v8SXBNJioh6S",
      "metadata": {
        "id": "v8SXBNJioh6S"
      },
      "source": [
        "$\\color{#EF5645}{\\text{Matrices}}$"
      ]
    },
    {
      "cell_type": "code",
      "execution_count": null,
      "id": "ZmifuJ2loaUZ",
      "metadata": {
        "colab": {
          "base_uri": "https://localhost:8080/"
        },
        "id": "ZmifuJ2loaUZ",
        "outputId": "964f2ccb-9a58-403f-9ef1-7ed5f96b9452"
      },
      "outputs": [],
      "source": [
        "A = np.array([[1, 2, 3], [4, 5, 6]])\n",
        "\n",
        "print(\"The dimension of the array is: \", A.ndim, '\\n')\n",
        "print(\"The total number of elements in the array are: \", A.size, '\\n')\n",
        "print(\"The shape of the array is: \", A.shape)\n",
        "print(\"Matrix A =\\n\", A)\n",
        "\n",
        "\n",
        "\n",
        "# Slicing\n",
        "\n",
        "# row 0\n",
        "print('Row 0:\\n', A[0,:])\n",
        "\n",
        "# column 2\n",
        "print('Column 2:\\n', A[:,2])\n",
        "\n"
      ]
    },
    {
      "cell_type": "markdown",
      "id": "357290d6",
      "metadata": {
        "id": "357290d6"
      },
      "source": [
        "$\\color{#EF5645}{\\text{Block/Stacked Matrices}}$\n",
        "$$P = \\begin{bmatrix}\n",
        "    1, 2, 3, 4\n",
        "\\end{bmatrix}$$\n",
        "$$Q = \\begin{bmatrix}\n",
        "    5, 6, 7, 8\n",
        "\\end{bmatrix}$$\n",
        "\n",
        "$$C = \\begin{bmatrix}\n",
        "    1, 2, 3, 4\\\\\n",
        "    5, 6, 7, 8\n",
        "\\end{bmatrix}$$\n",
        "\n",
        "$$D = \\begin{bmatrix}\n",
        "    1, 2, 3, 4, 5, 6, 7, 8\n",
        "\\end{bmatrix}$$\n",
        "\n",
        "\n",
        "\n",
        "$\\verb|Code|$\n",
        "```python\n",
        "P = np.array([1,2,3,4])\n",
        "Q = np.array([5,6,7,8])\n",
        "C = np.concatenate([[P],[Q]]) #vertical\n",
        "D = np.concatenate([P,Q])     #horizontal\n",
        "```\n",
        "\n",
        "$\\color{#EF5645}{\\text{Ones Vector}}$\n",
        "$$A = \\begin{bmatrix}\n",
        "    1\\: 1\\: 1\\\\\n",
        "    1\\: 1\\: 1\\\\\n",
        "\\end{bmatrix}$$\n",
        "\n",
        "```python\n",
        "A = np.ones((2,3))          \n",
        "```\n",
        "\n",
        "$\\color{#EF5645}{\\text{Zero Vector}}$\n",
        "$$B = \\begin{bmatrix}\n",
        "    0\\: 0\\: 0\\: 0\\\\\n",
        "    0\\: 0\\: 0\\: 0\\\\\n",
        "    0\\: 0\\: 0\\: 0\\\\\n",
        "\\end{bmatrix}$$\n",
        "\n",
        "```python\n",
        "B = np.zeros((3,4))          \n",
        "```\n"
      ]
    },
    {
      "cell_type": "code",
      "execution_count": null,
      "id": "7f5d8d88",
      "metadata": {
        "id": "7f5d8d88"
      },
      "outputs": [],
      "source": [
        "# Code demonstrating ones and zeros vectors\n",
        "E = np.ones((3,4))\n",
        "F = np.zeros((3,4))\n",
        "P = np.array([1,2,3,4])\n",
        "Q = np.array([5,6,7,8])\n",
        "C = np.concatenate([[P],[Q]])\n",
        "D = np.concatenate([P,Q])\n",
        "print('E = \\n', E)\n",
        "print('F = \\n', F)\n",
        "print('C = \\n', C)\n",
        "print('D = \\n', D)"
      ]
    },
    {
      "cell_type": "markdown",
      "id": "AuIh5K8hrcND",
      "metadata": {
        "id": "AuIh5K8hrcND"
      },
      "source": [
        "$\\color{#EF5645}{\\text{Some Basic Numpy Functions}}$"
      ]
    },
    {
      "cell_type": "code",
      "execution_count": null,
      "id": "3yez-qdxrjul",
      "metadata": {
        "colab": {
          "base_uri": "https://localhost:8080/"
        },
        "id": "3yez-qdxrjul",
        "outputId": "f277a7e3-57a8-4133-f23b-c698bbb75078"
      },
      "outputs": [],
      "source": [
        "A = np.array([3, 2, 1, 4])\n",
        "\n",
        "print(\"The sum of the elements in A is: \", np.sum(A), '\\n')\n",
        "print(\"The minimum of A is: \", np.min(A), '\\n')\n",
        "print(\"If we sort A we get: \", np.sort(A), '\\n')\n",
        "print(\"We can also change the shape of A: \\n\", np.reshape(A, (2, 2)), '\\n')\n",
        "\n",
        "B = np.array([5, 8, 7, 6])\n",
        "\n",
        "print(\"We can merge it with another array like this horizontally: \\n\", np.hstack((A, B)), '\\n')\n",
        "print(\"Or vertically: \\n\", np.vstack((A, B)))"
      ]
    },
    {
      "cell_type": "markdown",
      "id": "ada0d6b4",
      "metadata": {
        "id": "ada0d6b4"
      },
      "source": [
        "$\\color{#EF5645}{\\text{Inner Product}}$"
      ]
    },
    {
      "cell_type": "markdown",
      "id": "f340ce6d",
      "metadata": {
        "id": "f340ce6d"
      },
      "source": [
        "$\\color{blue}{\\text{Definition }}$ Inner product (or dot product) of two n-vectors $a$ and $b$ is defined as :\n",
        "$$a^T b = a_1 b_1 + a_2 b_2 + a_3 b_3 + ... + a_n b_n$$\n",
        "\n",
        "- Denoted by : $〈a, b〉, 〈a|b〉, (a, b), a · b$.\n",
        "\n",
        "$\\color{blue}{\\text{Properties}}$\n",
        "- $a^T b = b^T a$. (Prove this in class!)\n",
        "- $(γa)^T b = γ(a^T b)$\n",
        "- $(a + b)^T c = a^T c + b^T c$\n",
        "\n",
        "$\\verb|Code|$\n",
        "```python\n",
        "a = np.array([1,2,3])\n",
        "b = np.array([8,2,4])\n",
        "c = np.inner(a,b)\n",
        "```"
      ]
    },
    {
      "cell_type": "code",
      "execution_count": null,
      "id": "55b552a4",
      "metadata": {
        "colab": {
          "base_uri": "https://localhost:8080/"
        },
        "id": "55b552a4",
        "outputId": "2a763753-90a9-44ca-f9c8-540230508f03"
      },
      "outputs": [],
      "source": [
        "# Code demonstrating inner product of two arrays\n",
        "import numpy as np\n",
        "a = np.array([1,2,3])\n",
        "b = np.array([8,2,4])\n",
        "# 3 different ways to compute inner product\n",
        "c = np.inner(a,b)  # method-1\n",
        "d = a.T @ b        # method-2\n",
        "e = np.sum(a * b)  # method-3\n",
        "print(\"Inner product using method #1: \", c)\n",
        "print(\"Inner product using method #2: \",d)\n",
        "print(\"Inner product using method #3: \",e)"
      ]
    },
    {
      "cell_type": "markdown",
      "id": "456bb60d",
      "metadata": {
        "id": "456bb60d"
      },
      "source": [
        "$\\color{blue}{\\text{Exercise - 1}}$"
      ]
    },
    {
      "cell_type": "markdown",
      "id": "7393000b",
      "metadata": {
        "id": "7393000b"
      },
      "source": [
        "A typical course utilizes several different weights for marks scored by a student across various tests such as quizzes, midterm and final over a quarter. Use the weight matrix W and marks obtained M to find the effective/total score obtained by a student.\n",
        "\n",
        "**Weight Matrix W**\n",
        "\n",
        "| Q   | M   | F   |\n",
        "|-----|-----|-----|\n",
        "| 20 % | 30 % | 50 %|\n",
        "\n",
        "\n",
        "**Marks Obtained M**\n",
        "\n",
        "| Q  | M  | F  |\n",
        "|----|----|----|\n",
        "| 15 | 45 | 70 |\n",
        "\n",
        "*Hint: Use inner product*\n",
        "\n"
      ]
    },
    {
      "cell_type": "code",
      "execution_count": null,
      "id": "d1ee2a25",
      "metadata": {
        "colab": {
          "base_uri": "https://localhost:8080/"
        },
        "id": "d1ee2a25",
        "outputId": "ef33883c-8d4f-49af-f7bc-20448f7a026c"
      },
      "outputs": [],
      "source": [
        "# Exercise - 1\n",
        "# Add your code below\n",
        "\n",
        "\n"
      ]
    },
    {
      "cell_type": "markdown",
      "id": "53465674",
      "metadata": {
        "id": "53465674"
      },
      "source": [
        "[Go back to contents](#Contents)"
      ]
    },
    {
      "cell_type": "markdown",
      "id": "73f99679",
      "metadata": {
        "id": "73f99679"
      },
      "source": [
        "## Linear Functions"
      ]
    },
    {
      "cell_type": "markdown",
      "id": "6ad0d51a",
      "metadata": {
        "id": "6ad0d51a"
      },
      "source": [
        "$\\color{#EF5645}{\\text{Definition }}$\n",
        "We say that $f$ satistifies the superposition property if:\n",
        "\n",
        "$$f(\\alpha x + \\beta y) = \\alpha f(x) + \\beta f(y)$$\n",
        "\n",
        "holds for all scalars $\\alpha, \\beta$ and all $n$-vectors $x, y$.\n",
        "\n",
        "Satifies superposition property $\\implies$ Linear\n",
        "\n",
        "**Example:** All innner product functions are linear functions. (Prove this)"
      ]
    },
    {
      "cell_type": "markdown",
      "id": "bba5096d",
      "metadata": {
        "id": "bba5096d"
      },
      "source": [
        "## Affine Functions"
      ]
    },
    {
      "cell_type": "markdown",
      "id": "038ede3a",
      "metadata": {
        "id": "038ede3a"
      },
      "source": [
        "$\\color{#EF5645}{\\text{Definition }}$\n",
        "A function that is linear plus a constant is called affine. Its general form is:\n",
        "\n",
        "$$f(x) = a^Tx+b \\quad \\text{with $a$ an $n$-vector and $b$ a scalar}$$\n"
      ]
    },
    {
      "cell_type": "markdown",
      "id": "296e812e",
      "metadata": {
        "id": "296e812e"
      },
      "source": [
        "## Gradient of a function\n",
        "\n",
        "\n",
        "$$\\nabla f(x) = \\left(\\frac{\\partial f}{\\partial x_1}(x), ..., \\frac{\\partial f}{\\partial x_n}(x)\\right).$$\n",
        "\n",
        "where $\\frac{\\partial}{\\partial x_i}$ is the partial derivative of $f$ with respect to the component $i$ of $x$."
      ]
    },
    {
      "cell_type": "markdown",
      "id": "9eb5d49d",
      "metadata": {
        "id": "9eb5d49d"
      },
      "source": [
        "[Go back to contents](#Contents)"
      ]
    },
    {
      "cell_type": "markdown",
      "id": "4fe0012d",
      "metadata": {
        "id": "4fe0012d"
      },
      "source": [
        "## Norms. (Half way point/break)"
      ]
    },
    {
      "cell_type": "markdown",
      "id": "2ddceb49",
      "metadata": {
        "id": "2ddceb49"
      },
      "source": [
        "$\\color{#EF5645}{\\text{Euclidean Norm}}$\n",
        "\n",
        "Let $x$ be a n-dimensional vector i.e $$x = [x_1, x_2, ... x_n]$$\n",
        "\n",
        "Then the Euclidean norm or $\\ell_2$ norm (or just norm here) is given by:\n",
        "\n",
        "$$||x||_2 = ||x|| = \\sqrt{x_1^2 + x_2^2 + ... + x_n^2} = \\sqrt{x^T x}$$\n",
        "\n",
        "*Think about what would be $||x||_n$ in general*"
      ]
    },
    {
      "cell_type": "code",
      "execution_count": null,
      "id": "621041e4",
      "metadata": {
        "colab": {
          "base_uri": "https://localhost:8080/"
        },
        "id": "621041e4",
        "outputId": "26e2fac0-8417-4373-8af9-2a52c463f520"
      },
      "outputs": [],
      "source": [
        "# Practice using numpy.linalg below\n",
        "\n",
        "import numpy as np\n",
        "x = np.array([1,2,7,-4])\n",
        "\n",
        "# All three methods have the same result, verify !\n",
        "print(np.linalg.norm(x))\n",
        "print(np.sqrt(np.inner(x,x)))\n",
        "print(np.sqrt(sum(x **2)))"
      ]
    },
    {
      "cell_type": "markdown",
      "id": "d470264e",
      "metadata": {
        "id": "d470264e"
      },
      "source": [
        "$\\color{#EF5645}{\\text{Mean Square Value}}$\n",
        "\n",
        "$$ \\frac{x_1^2+ x_2^2+ ... + x_n^2}{n} = \\frac{||x||^2}{n}$$\n",
        "\n",
        "$\\color{#EF5645}{\\text{Root Mean Square (RMS) Value}}$\n",
        "\n",
        "$$rms(x) = \\sqrt{\\frac{x_1^2+ x_2^2+ ... + x_n^2}{n}}=\\frac{||x||}{\\sqrt{n}}$$\n"
      ]
    },
    {
      "cell_type": "markdown",
      "id": "45bbb4f4",
      "metadata": {
        "id": "45bbb4f4"
      },
      "source": [
        "$\\color{blue}{\\text{Exercise - 2}}$"
      ]
    },
    {
      "cell_type": "code",
      "execution_count": null,
      "id": "5ebfce4a",
      "metadata": {
        "colab": {
          "base_uri": "https://localhost:8080/"
        },
        "id": "5ebfce4a",
        "outputId": "29f5e9fe-75ad-43c2-9af4-a7c404f4d45c"
      },
      "outputs": [],
      "source": [
        "# Exercise - 2 - write a function for L-P norm\n",
        "# DO NOT CHANGE SECTION 1 and SECTION 3\n",
        "# Add your code to SECTION 2\n",
        "\n",
        "\n",
        "# Section-1 (DON'T CHANGE)\n",
        "import numpy as np\n",
        "arr = np.array([4,5,2,7])\n",
        "\n",
        "\n",
        "# Section-2\n",
        "def l_p_norm(arr,p):\n",
        "    '''arr contains the array of numbers i.e vector\n",
        "    Write a function to find l-p norm of vector arr'''\n",
        "    # insert your code below\n",
        "    \n",
        "\n",
        "\n",
        "# Section-3 (DON'T CHANGE)\n",
        "try:\n",
        "    if(int(l_p_norm(arr,4))==7):\n",
        "        print(\"Correct !\")\n",
        "    else:\n",
        "        print(\"Something is wrong, please try again !\")\n",
        "    #break\n",
        "except TypeError:\n",
        "    print(\"Complete implementing the function and try again\")"
      ]
    },
    {
      "cell_type": "markdown",
      "id": "83821516",
      "metadata": {
        "id": "83821516"
      },
      "source": [
        "$\\color{#EF5645}{\\text{Norm of block vectors}}$"
      ]
    },
    {
      "cell_type": "markdown",
      "id": "b3a1bc75",
      "metadata": {
        "id": "b3a1bc75"
      },
      "source": [
        "Assume $d =[a, b, c]$ where $a,b,c$ are n-dimensional vectors. Then,\n",
        "$$||d||^2=a^T a + b^T b + c^T c = ||a||^2 + ||b||^2 + ||c||^2$$\n",
        "\n",
        "In other words:\n",
        "\n",
        "*Norm-squared value of stacked vector is equal to the sum of norm-squared values of individual vectors.*"
      ]
    },
    {
      "cell_type": "markdown",
      "id": "a5d452fe",
      "metadata": {
        "id": "a5d452fe"
      },
      "source": [
        "$\\color{blue}{\\text{Exercise - 3}}$\n",
        "> **Hint:** You can reuse `l_p_norm(arr,p)` from the previous cell"
      ]
    },
    {
      "cell_type": "code",
      "execution_count": null,
      "id": "a650555c",
      "metadata": {
        "colab": {
          "base_uri": "https://localhost:8080/"
        },
        "id": "a650555c",
        "outputId": "35e5f426-a4bd-4254-f84d-e6e92826430d"
      },
      "outputs": [],
      "source": [
        "# Exercise 3 - Write a function to find l-2 norm of a block vector\n",
        "# DO NOT CHANGE SECTION 1 and SECTION 3\n",
        "# Add your code to SECTION 2\n",
        "\n",
        "\n",
        "# Section-1 (DON'T CHANGE)\n",
        "import numpy as np\n",
        "vecA = np.array([5,4,1])\n",
        "vecB = np.array([6,6,8])\n",
        "vecC = np.array([1,2,9])\n",
        "\n",
        "# stacking vecA, vecB, vecC side-by-side\n",
        "mat = np.stack((vecA,vecB,vecC),axis=1)\n",
        "print(\"Shape of mat: \", mat.shape)\n",
        "print(\"mat = \\n\", mat)\n",
        "\n",
        "\n",
        "# Section-2\n",
        "def block_norm(mat):\n",
        "    \"\"\"This function finds the l-2 norm of block vectors\"\"\"\n",
        "    # insert your code below\n",
        "    \n",
        "\n",
        "# Section-3 (DON'T CHANGE)\n",
        "try:\n",
        "    if(int(block_norm(mat))==16):\n",
        "        print(\"Correct !\")\n",
        "    else:\n",
        "        print(\"Something is wrong, please try again !\")\n",
        "    #break\n",
        "except TypeError:\n",
        "    print(\"Complete implementing the function and try again\")"
      ]
    },
    {
      "cell_type": "markdown",
      "id": "7227a203",
      "metadata": {
        "id": "7227a203"
      },
      "source": [
        "[Go back to contents](#Contents)"
      ]
    },
    {
      "cell_type": "markdown",
      "id": "21859b78",
      "metadata": {
        "id": "21859b78"
      },
      "source": [
        "## Distance"
      ]
    },
    {
      "cell_type": "markdown",
      "id": "2eb037ab",
      "metadata": {
        "id": "2eb037ab"
      },
      "source": [
        "The distance between two 2-dimensional points $(x_1,y_1), (x_2,y_2)$ is given by:\n",
        "$$d = \\sqrt{(x_2-x_1)^2 + (y_2-y_1)^2}$$\n",
        "\n",
        "The code to do this is shown below:"
      ]
    },
    {
      "cell_type": "code",
      "execution_count": null,
      "id": "80e127fa",
      "metadata": {
        "id": "80e127fa"
      },
      "outputs": [],
      "source": [
        "# This code finds the distance between two points (x1,y1) and (x2,y2)\n",
        "# Note that this is only for 2-dimensional points\n",
        "import numpy as np\n",
        "\n",
        "p1 = np.array([1,2])\n",
        "p2 = np.array([3,7])\n",
        "def dist_2d(p1,p2):\n",
        "    distance_squared = (p2[0]-p1[0])**2 + (p2[1]-p1[1])**2\n",
        "    return (np.sqrt(distance_squared))\n",
        "\n",
        "\n",
        "print(\"Distance between\", p1,\"and\", p2,\"is:\", dist_2d(p1,p2))\n",
        "    "
      ]
    },
    {
      "cell_type": "markdown",
      "id": "b93199f0",
      "metadata": {
        "id": "b93199f0"
      },
      "source": [
        "In general, the distance between two $n$-dimensional points $A \\:(a_1,a_2,...,a_n)$ and $B\\:(b_1,b_2,...,b_n)$ is given by:\n",
        "$$d = ||A-B||_2 = \\sqrt{(b_1-a_1)^2 + (b_2-a_2)^2 + ... + (b_n-a_n)^2}$$"
      ]
    },
    {
      "cell_type": "markdown",
      "id": "6089c779",
      "metadata": {
        "id": "6089c779"
      },
      "source": [
        "Now build on the previous code to find the distance between two $n$-dimensional points."
      ]
    },
    {
      "cell_type": "markdown",
      "id": "7b751c81",
      "metadata": {
        "id": "7b751c81"
      },
      "source": [
        "$\\color{blue}{\\text{Exercise - 4}}$"
      ]
    },
    {
      "cell_type": "code",
      "execution_count": null,
      "id": "b08bb2d0",
      "metadata": {
        "colab": {
          "base_uri": "https://localhost:8080/"
        },
        "id": "b08bb2d0",
        "outputId": "86e9ca75-7c90-4fe1-bc7c-55e9f8824060"
      },
      "outputs": [],
      "source": [
        "# Exercise-4 : Implement a function to find the distance between two n-dimensional points\n",
        "# DO NOT CHANGE SECTION 2\n",
        "# Add your code to SECTION 1\n",
        "\n",
        "# Section-1 \n",
        "import numpy as np\n",
        "\n",
        "def dist_nd(p1, p2):\n",
        "    \"\"\"This function finds the distance between two n-dimensional vectors\"\"\"\n",
        "    #insert your code below\n",
        "    \n",
        "\n",
        "    \n",
        "    \n",
        "# Section-2 (DON'T CHANGE)\n",
        "try:\n",
        "    \n",
        "    \n",
        "    p1 = np.array([1,2])\n",
        "    p2 = np.array([3,7])\n",
        "    if(int(dist_nd(p1,p2))==5):\n",
        "        print('Test case #1:')\n",
        "        print(\"Result : Correct\")\n",
        "    else:\n",
        "        print('Test case #1:')\n",
        "        print(\"Result: Incorrect\")\n",
        "    print(\"You found distance between\", p1,\"and\", p2,\"is:\", dist_nd(p1,p2))\n",
        "    \n",
        "\n",
        "    print('\\n\\nTest case #2:')\n",
        "    p1 = np.array([1,2,9,-2])\n",
        "    p2 = np.array([3,7,-4,-9])\n",
        "    if(int(dist_nd(p1,p2))==15):\n",
        "        print(\"Result : Correct\")\n",
        "    else:\n",
        "        print(\"Result: Incorrect\")\n",
        "    print(\"You found distance between\", p1,\"and\", p2,\"is:\", dist_nd(p1,p2))\n",
        "    \n",
        "except TypeError:\n",
        "    print(\"Complete implementing the function and try again\")    \n",
        "\n",
        "\n",
        "\n"
      ]
    },
    {
      "cell_type": "markdown",
      "id": "20305011",
      "metadata": {
        "id": "20305011"
      },
      "source": [
        "[Go back to contents](#Contents)"
      ]
    }
  ],
  "metadata": {
    "colab": {
      "provenance": []
    },
    "kernelspec": {
      "display_name": "Python 3.9.4 64-bit ('3.9.4')",
      "language": "python",
      "name": "python3"
    },
    "language_info": {
      "codemirror_mode": {
        "name": "ipython",
        "version": 3
      },
      "file_extension": ".py",
      "mimetype": "text/x-python",
      "name": "python",
      "nbconvert_exporter": "python",
      "pygments_lexer": "ipython3",
      "version": "3.9.4"
    },
    "vscode": {
      "interpreter": {
        "hash": "017ac8a0813a894857ac85c3080468aa30be6f181b5c5e953892ff115d2acc76"
      }
    }
  },
  "nbformat": 4,
  "nbformat_minor": 5
}
