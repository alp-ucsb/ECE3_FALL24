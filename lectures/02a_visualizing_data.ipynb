{
 "cells": [
  {
   "cell_type": "markdown",
   "metadata": {
    "slideshow": {
     "slide_type": "slide"
    }
   },
   "source": [
    "# 02: Visualizing Data in Python"
   ]
  },
  {
   "cell_type": "markdown",
   "metadata": {
    "cell_style": "center",
    "slideshow": {
     "slide_type": "-"
    }
   },
   "source": [
    "<center><img src=\"figs/01_matrix_color.jpeg\" alt=\"default\" width=700/></center>\n"
   ]
  },
  {
   "cell_type": "markdown",
   "metadata": {
    "slideshow": {
     "slide_type": "slide"
    }
   },
   "source": [
    "# Outline of ECE 3\n",
    "\n",
    "- 01: Welcome to Python\n",
    "- **02: Visualizing Data in Python**\n",
    "- 03: Computing with Data in Python\n",
    "- 04: Summarizing Data in Python\n",
    "- 05: Predicting from Data with Machine Learning in Python\n",
    "  - A. Clustering\n",
    "  - B. Linear regression\n",
    "  - C. Dimension Reduction"
   ]
  },
  {
   "cell_type": "markdown",
   "metadata": {
    "slideshow": {
     "slide_type": "slide"
    }
   },
   "source": [
    "# Outline of Unit 02\n",
    "\n",
    "- **02: Visualizing Data in Python**\n",
    "  - Modules and Packages\n",
    "  - Opening data: Python I/O\n",
    "  - Data in vector form: assigning, accessing, visualizing\n",
    "  - Daata in matrix form: assigning, accessing, visualizing\n",
    "  \n",
    "Data Examples, Vectors, Matrices, Numpy (Daniel) Matplotlib, Plotly  (Daniel)\n",
    "\n",
    "For undergrads: aim for 3 min / slide, i.e. 25 slides in 75 min."
   ]
  },
  {
   "cell_type": "markdown",
   "metadata": {},
   "source": [
    "<h1>Learn Python Pandas, Packages, and Modules</h1>\n",
    "\n",
    "\n",
    "<b>Web Resources</b>\n",
    "<br> <a href='https://docs.python.org/3/tutorial/modules.html#packages'>Docs.python.org - Packages</a>\n",
    "\n",
    "\n",
    "#### <b>What are Python Modules?</b>\n",
    "\n",
    "Modules are simply python files (.py) which contain python code. This code can define functions, classes, variables etc.\n",
    "\n",
    "\n",
    "#### <b>Why do we use Modules?</b>\n",
    "\n",
    "Modules allow us to organize our code by grouping related functionalities, which makes it easier to use and understand. Writing code into smaller, more manageable pieces will help you 1) debug easier, 2) create reusable code and 3) make the code more understandable to the end user.\n",
    "\n",
    "#### <b>How do we use Modules?</b>\n",
    "\n",
    "We can use the code in a module by using the <b>import</b> function. For example, let's say we created a .py file called 'Square.py'. Inside this file we defined a function called <b>calculateSquare</b>. \n",
    "```python\n",
    "def calculateSquare(x):\n",
    "    return x**2\n",
    "```\n",
    "We can use the <b>calculateSquare</b> function by using either of the following commands:\n",
    "\n",
    "```python\n",
    "import Square \n",
    "x = 2\n",
    "print(Square.calculateSquare(x))\n",
    "\n",
    "#Output: 4\n",
    "\n",
    "from Square import calculateSquare\n",
    "x = 2\n",
    "print(calculateSquare(x))\n",
    "\n",
    "#Output: 4\n",
    "\n",
    "from Square import * #The asterisk imports all functions in the module [not always best practice]\n",
    "x = 2\n",
    "print(calculateSquare(x))\n",
    "\n",
    "#Output: 4\n",
    "```\n",
    "\n",
    "#### <b>Where can I find more information on Modules?</b>\n",
    "\n",
    "[Official python documentation on modules](https://docs.python.org/3.7/tutorial/modules.html)\n",
    "\n",
    "<h1>Packages</h1>\n",
    "\n",
    "#### <b>What are Python Packages?</b>\n",
    "\n",
    "Python packages are an organized collection of related python modules in a single directory. \n",
    "\n",
    "#### <b>How do we use Packages?</b>\n",
    "\n",
    "Packages are used exactly like modules (see the Modules section above).\n",
    "\n",
    "#### <b>What are some common Packages?</b>\n",
    "\n",
    "Below are some of the most widely used modules in finance and data science for data analysis:\n",
    "- Pandas\n",
    "- Numpy\n",
    "- Scipy\n",
    "- Scikit-Learn\n",
    "\n",
    "Visualizations and dashboard creation:\n",
    "- Matplotlib\n",
    "- ipywidgets\n"
   ]
  },
  {
   "cell_type": "code",
   "execution_count": 12,
   "metadata": {},
   "outputs": [
    {
     "data": {
      "text/plain": [
       "0    1\n",
       "1    2\n",
       "2    3\n",
       "dtype: int64"
      ]
     },
     "execution_count": 12,
     "metadata": {},
     "output_type": "execute_result"
    }
   ],
   "source": [
    "###IMPORT PANDAS AND NUMPY PACKAGES###\n",
    "import pandas as pd\n",
    "import numpy as np\n",
    "\n",
    "###CREATING A SERIES###\n",
    "s = pd.Series([1,2,3])\n",
    "s"
   ]
  },
  {
   "cell_type": "code",
   "execution_count": 13,
   "metadata": {},
   "outputs": [
    {
     "data": {
      "text/html": [
       "<div>\n",
       "<style scoped>\n",
       "    .dataframe tbody tr th:only-of-type {\n",
       "        vertical-align: middle;\n",
       "    }\n",
       "\n",
       "    .dataframe tbody tr th {\n",
       "        vertical-align: top;\n",
       "    }\n",
       "\n",
       "    .dataframe thead th {\n",
       "        text-align: right;\n",
       "    }\n",
       "</style>\n",
       "<table border=\"1\" class=\"dataframe\">\n",
       "  <thead>\n",
       "    <tr style=\"text-align: right;\">\n",
       "      <th></th>\n",
       "      <th>A</th>\n",
       "      <th>B</th>\n",
       "      <th>C</th>\n",
       "    </tr>\n",
       "  </thead>\n",
       "  <tbody>\n",
       "    <tr>\n",
       "      <td>2013-01-01</td>\n",
       "      <td>0.169424</td>\n",
       "      <td>0.166691</td>\n",
       "      <td>-2.385720</td>\n",
       "    </tr>\n",
       "    <tr>\n",
       "      <td>2013-01-02</td>\n",
       "      <td>0.542676</td>\n",
       "      <td>0.978059</td>\n",
       "      <td>1.152731</td>\n",
       "    </tr>\n",
       "    <tr>\n",
       "      <td>2013-01-03</td>\n",
       "      <td>-0.547186</td>\n",
       "      <td>0.918728</td>\n",
       "      <td>2.226278</td>\n",
       "    </tr>\n",
       "    <tr>\n",
       "      <td>2013-01-04</td>\n",
       "      <td>1.033752</td>\n",
       "      <td>-0.712600</td>\n",
       "      <td>1.169230</td>\n",
       "    </tr>\n",
       "    <tr>\n",
       "      <td>2013-01-05</td>\n",
       "      <td>-0.534291</td>\n",
       "      <td>0.985898</td>\n",
       "      <td>-1.705124</td>\n",
       "    </tr>\n",
       "    <tr>\n",
       "      <td>2013-01-06</td>\n",
       "      <td>0.485850</td>\n",
       "      <td>0.085890</td>\n",
       "      <td>1.870669</td>\n",
       "    </tr>\n",
       "  </tbody>\n",
       "</table>\n",
       "</div>"
      ],
      "text/plain": [
       "                   A         B         C\n",
       "2013-01-01  0.169424  0.166691 -2.385720\n",
       "2013-01-02  0.542676  0.978059  1.152731\n",
       "2013-01-03 -0.547186  0.918728  2.226278\n",
       "2013-01-04  1.033752 -0.712600  1.169230\n",
       "2013-01-05 -0.534291  0.985898 -1.705124\n",
       "2013-01-06  0.485850  0.085890  1.870669"
      ]
     },
     "execution_count": 13,
     "metadata": {},
     "output_type": "execute_result"
    }
   ],
   "source": [
    "###CREATING A TIMESERIES BASED DATAFRAME###\n",
    "dates = pd.date_range('20130101', periods=6)\n",
    "df = pd.DataFrame(np.random.randn(6, 3), index=dates, columns=list('ABC'))\n",
    "df"
   ]
  },
  {
   "cell_type": "code",
   "execution_count": 14,
   "metadata": {},
   "outputs": [
    {
     "data": {
      "text/plain": [
       "2013-01-01    0.169424\n",
       "2013-01-02    0.542676\n",
       "2013-01-03   -0.547186\n",
       "2013-01-04    1.033752\n",
       "2013-01-05   -0.534291\n",
       "2013-01-06    0.485850\n",
       "Freq: D, Name: A, dtype: float64"
      ]
     },
     "execution_count": 14,
     "metadata": {},
     "output_type": "execute_result"
    }
   ],
   "source": [
    "###GET DATA FOR A SINGLE COLUMN###\n",
    "df['A']"
   ]
  },
  {
   "cell_type": "code",
   "execution_count": 15,
   "metadata": {},
   "outputs": [
    {
     "data": {
      "text/html": [
       "<div>\n",
       "<style scoped>\n",
       "    .dataframe tbody tr th:only-of-type {\n",
       "        vertical-align: middle;\n",
       "    }\n",
       "\n",
       "    .dataframe tbody tr th {\n",
       "        vertical-align: top;\n",
       "    }\n",
       "\n",
       "    .dataframe thead th {\n",
       "        text-align: right;\n",
       "    }\n",
       "</style>\n",
       "<table border=\"1\" class=\"dataframe\">\n",
       "  <thead>\n",
       "    <tr style=\"text-align: right;\">\n",
       "      <th></th>\n",
       "      <th>A</th>\n",
       "      <th>B</th>\n",
       "      <th>C</th>\n",
       "    </tr>\n",
       "  </thead>\n",
       "  <tbody>\n",
       "    <tr>\n",
       "      <td>count</td>\n",
       "      <td>6.000000</td>\n",
       "      <td>6.000000</td>\n",
       "      <td>6.000000</td>\n",
       "    </tr>\n",
       "    <tr>\n",
       "      <td>mean</td>\n",
       "      <td>0.191704</td>\n",
       "      <td>0.403778</td>\n",
       "      <td>0.388011</td>\n",
       "    </tr>\n",
       "    <tr>\n",
       "      <td>std</td>\n",
       "      <td>0.631232</td>\n",
       "      <td>0.683725</td>\n",
       "      <td>1.941515</td>\n",
       "    </tr>\n",
       "    <tr>\n",
       "      <td>min</td>\n",
       "      <td>-0.547186</td>\n",
       "      <td>-0.712600</td>\n",
       "      <td>-2.385720</td>\n",
       "    </tr>\n",
       "    <tr>\n",
       "      <td>25%</td>\n",
       "      <td>-0.358362</td>\n",
       "      <td>0.106090</td>\n",
       "      <td>-0.990660</td>\n",
       "    </tr>\n",
       "    <tr>\n",
       "      <td>50%</td>\n",
       "      <td>0.327637</td>\n",
       "      <td>0.542709</td>\n",
       "      <td>1.160980</td>\n",
       "    </tr>\n",
       "    <tr>\n",
       "      <td>75%</td>\n",
       "      <td>0.528469</td>\n",
       "      <td>0.963226</td>\n",
       "      <td>1.695309</td>\n",
       "    </tr>\n",
       "    <tr>\n",
       "      <td>max</td>\n",
       "      <td>1.033752</td>\n",
       "      <td>0.985898</td>\n",
       "      <td>2.226278</td>\n",
       "    </tr>\n",
       "  </tbody>\n",
       "</table>\n",
       "</div>"
      ],
      "text/plain": [
       "              A         B         C\n",
       "count  6.000000  6.000000  6.000000\n",
       "mean   0.191704  0.403778  0.388011\n",
       "std    0.631232  0.683725  1.941515\n",
       "min   -0.547186 -0.712600 -2.385720\n",
       "25%   -0.358362  0.106090 -0.990660\n",
       "50%    0.327637  0.542709  1.160980\n",
       "75%    0.528469  0.963226  1.695309\n",
       "max    1.033752  0.985898  2.226278"
      ]
     },
     "execution_count": 15,
     "metadata": {},
     "output_type": "execute_result"
    }
   ],
   "source": [
    "###CALCULATE SUMMARY STATISTICS###\n",
    "df.describe()"
   ]
  },
  {
   "cell_type": "code",
   "execution_count": 16,
   "metadata": {},
   "outputs": [
    {
     "data": {
      "text/plain": [
       "(6, 3)"
      ]
     },
     "execution_count": 16,
     "metadata": {},
     "output_type": "execute_result"
    }
   ],
   "source": [
    "###GET THE NUMBER OF ROWS AND COLUMNS###\n",
    "df.shape"
   ]
  },
  {
   "cell_type": "code",
   "execution_count": 17,
   "metadata": {},
   "outputs": [
    {
     "data": {
      "text/plain": [
       "6"
      ]
     },
     "execution_count": 17,
     "metadata": {},
     "output_type": "execute_result"
    }
   ],
   "source": [
    "###GET THE NUMBER OF ROWS ONLY###\n",
    "len(df)"
   ]
  },
  {
   "cell_type": "code",
   "execution_count": 18,
   "metadata": {},
   "outputs": [
    {
     "data": {
      "text/plain": [
       "<matplotlib.axes._subplots.AxesSubplot at 0x11efd5990>"
      ]
     },
     "execution_count": 18,
     "metadata": {},
     "output_type": "execute_result"
    },
    {
     "data": {
      "image/png": "[encoded data removed]",
      "text/plain": [
       "<Figure size 432x288 with 1 Axes>"
      ]
     },
     "metadata": {
      "needs_background": "light"
     },
     "output_type": "display_data"
    }
   ],
   "source": [
    "###PLOT THE DATAFRAME###\n",
    "%matplotlib inline\n",
    "df.plot()"
   ]
  },
  {
   "cell_type": "markdown",
   "metadata": {},
   "source": [
    "# Learn Python File I/O\n",
    "\n",
    "\n",
    "<b>Web Resources</b>\n",
    "<br> <a href='https://docs.python.org/3/tutorial/inputoutput.html#reading-and-writing-files'>Docs.python.org - Reading and Writing Files</a>\n",
    "\n",
    "\n",
    "#### <b>What is I/O?</b>\n",
    "\n",
    "I/O, or input/output, is communication between a computer and the outside world.\n",
    "\n",
    "Inputs are signals received by the computer. The computer can get inputs from hardware like a keyboard and mouse or from other computers via the internet. Outputs are signals sent by the computer. Your monitor is probably the most obvious output device. An internet modem is an example of a device that both receives inputs (web-pages loading on your browser) and sends outputs (outbound emails).\n",
    "\n",
    "     \n",
    "#### <b>Why do we use I/O?</b>\n",
    "\n",
    "You can always define data directly in your python code:\n",
    "\n",
    "```python\n",
    "example_data = [1, 2, 3, 4, 5]\n",
    "answer = function(example_data)\n",
    "```\n"
   ]
  },
  {
   "cell_type": "markdown",
   "metadata": {},
   "source": [
    "This is a great way to test functionality but isn't sustainable in the long term. It would be much easier if we could read in data from a file or API as well as write data down to files. This saves us having to manually define data and scales our solutions to handle arbitrary datasets.\n",
    "\n",
    "## Files\n",
    "\n",
    "Common file types you likely interact with are CSV and Excel files. The pandas library has a number of convenience functions for reading data from these files and converting them directly into dataframes."
   ]
  },
  {
   "cell_type": "markdown",
   "metadata": {},
   "source": [
    "```python\n",
    "import pandas as pd\n",
    "\n",
    "csv_dataframe = pd.read_csv('csv_file.csv')\n",
    "excel_dataframe = pd.read_excel('excel_file.xlsx')\n",
    "```"
   ]
  },
  {
   "cell_type": "markdown",
   "metadata": {},
   "source": [
    "Each method accepts the path of the data file as an argument. File paths without a `/` indicate that the data file is in the same directory as the notebook we're writing our code in. If we want to read from a file inside a folder, then we'll need to update the file path, e.g. `folder/csv_file.csv`.\n",
    "\n",
    "Both methods accept a number of different optional parameters for defining more precisely how you want them to read the data. Visit the [I/O section](https://pandas.pydata.org/docs/reference/io.html) of the online pandas documentation to learn more about these functions.\n",
    "\n",
    "We can use the `%pwd` [Jupyter magic command](https://ipython.readthedocs.io/en/stable/interactive/magics.html) to find the local directory. Running the following code snippet in a project cell will print the path of your local directory:\n",
    "\n",
    "```python\n",
    "x = %pwd\n",
    "print(x)\n",
    "```\n",
    "\n",
    "### Resources\n",
    "Python has a rich library of packages and functions for dealing with files. [This online tutorial](https://www.programiz.com/python-programming/file-operation) explains in more detail how to use python to deal with File I/O (input and output).\n",
    "\n",
    "### File IO Examples\n",
    "\n",
    "1. You're writing some code inside `notebook.ipynb` and want to read the data from `bonds.csv` which is inside the `data` folder (see below). What file path do you need to specify to read the data into a dataframe: `pd.read_csv(...)`?\n",
    "\n",
    "```\n",
    "notebook.ipynb\n",
    "data/\n",
    "└── bonds.csv\n",
    "```\n",
    "`pd.read_csv('data/bonds.csv')`\n",
    "\n",
    "2. You have a CSV with 3 blank rows at the top of the file. What parameter do you need to pass to the `read_csv` function to ignore these blank rows when reading in the data?\n",
    "\n",
    "`skiprows=3`\n",
    "\n",
    "3. A colleague has sent you some tabular data in a [JSON file](https://www.w3schools.com/js/js_json_intro.asp) that you've moved into the same folder as your notebook. You can use pandas to read this data into a dataframe:\n",
    "\n",
    "`pd.read_json`"
   ]
  },
  {
   "cell_type": "code",
   "execution_count": 19,
   "metadata": {
    "scrolled": false
   },
   "outputs": [
    {
     "data": {
      "text/html": [
       "<div>\n",
       "<style scoped>\n",
       "    .dataframe tbody tr th:only-of-type {\n",
       "        vertical-align: middle;\n",
       "    }\n",
       "\n",
       "    .dataframe tbody tr th {\n",
       "        vertical-align: top;\n",
       "    }\n",
       "\n",
       "    .dataframe thead th {\n",
       "        text-align: right;\n",
       "    }\n",
       "</style>\n",
       "<table border=\"1\" class=\"dataframe\">\n",
       "  <thead>\n",
       "    <tr style=\"text-align: right;\">\n",
       "      <th></th>\n",
       "      <th>X</th>\n",
       "      <th>Y</th>\n",
       "      <th>Z</th>\n",
       "    </tr>\n",
       "  </thead>\n",
       "  <tbody>\n",
       "    <tr>\n",
       "      <td>2013-01-01</td>\n",
       "      <td>0.169424</td>\n",
       "      <td>0.166691</td>\n",
       "      <td>-2.385720</td>\n",
       "    </tr>\n",
       "    <tr>\n",
       "      <td>2013-01-02</td>\n",
       "      <td>0.542676</td>\n",
       "      <td>0.978059</td>\n",
       "      <td>1.152731</td>\n",
       "    </tr>\n",
       "    <tr>\n",
       "      <td>2013-01-03</td>\n",
       "      <td>-0.547186</td>\n",
       "      <td>0.918728</td>\n",
       "      <td>2.226278</td>\n",
       "    </tr>\n",
       "    <tr>\n",
       "      <td>2013-01-04</td>\n",
       "      <td>1.033752</td>\n",
       "      <td>-0.712600</td>\n",
       "      <td>1.169230</td>\n",
       "    </tr>\n",
       "    <tr>\n",
       "      <td>2013-01-05</td>\n",
       "      <td>-0.534291</td>\n",
       "      <td>0.985898</td>\n",
       "      <td>-1.705124</td>\n",
       "    </tr>\n",
       "    <tr>\n",
       "      <td>2013-01-06</td>\n",
       "      <td>0.485850</td>\n",
       "      <td>0.085890</td>\n",
       "      <td>1.870669</td>\n",
       "    </tr>\n",
       "  </tbody>\n",
       "</table>\n",
       "</div>"
      ],
      "text/plain": [
       "                   X         Y         Z\n",
       "2013-01-01  0.169424  0.166691 -2.385720\n",
       "2013-01-02  0.542676  0.978059  1.152731\n",
       "2013-01-03 -0.547186  0.918728  2.226278\n",
       "2013-01-04  1.033752 -0.712600  1.169230\n",
       "2013-01-05 -0.534291  0.985898 -1.705124\n",
       "2013-01-06  0.485850  0.085890  1.870669"
      ]
     },
     "execution_count": 19,
     "metadata": {},
     "output_type": "execute_result"
    }
   ],
   "source": [
    "###RENAME COLUMNS###\n",
    "df = df.rename(columns={\"A\":\"X\",\"B\":\"Y\",\"C\":\"Z\"})\n",
    "df"
   ]
  },
  {
   "cell_type": "markdown",
   "metadata": {},
   "source": [
    "# Outline of Unit 02\n",
    "\n",
    "- **02: Visualizing Data in Python**\n",
    "  - TBD\n",
    "  - TBD"
   ]
  },
  {
   "cell_type": "markdown",
   "metadata": {
    "slideshow": {
     "slide_type": "slide"
    }
   },
   "source": [
    "\n",
    "A vector is roughly \"a list of numbers\": \n",
    "\n",
    "$\\rightarrow$ everywhere in modern data and computer programs."
   ]
  },
  {
   "cell_type": "markdown",
   "metadata": {
    "cell_style": "split",
    "slideshow": {
     "slide_type": "fragment"
    }
   },
   "source": [
    "<center><img src=\"figs/00_image_a.jpg\" alt=\"default\" width=500px/></center>"
   ]
  },
  {
   "cell_type": "markdown",
   "metadata": {
    "cell_style": "split",
    "slideshow": {
     "slide_type": "fragment"
    }
   },
   "source": [
    "<center><img src=\"figs/01_signal_vector.png\" alt=\"default\" width=600px/></center>"
   ]
  },
  {
   "cell_type": "markdown",
   "metadata": {
    "slideshow": {
     "slide_type": "slide"
    }
   },
   "source": [
    "\n",
    "\n",
    "$\\color{#EF5645}{\\text{In this lecture, you will learn:}}$\n",
    "- TBD\n",
    "- TBD"
   ]
  },
  {
   "cell_type": "markdown",
   "metadata": {
    "slideshow": {
     "slide_type": "slide"
    }
   },
   "source": [
    "### Vector: Definition\n",
    "\n",
    "\n",
    "$\\color{#EF5645}{\\text{Definition}}$ A _vector_ is an ordered list of numbers:\n",
    "\n",
    "\n",
    "<center><img src=\"figs/01_def_vector.png\" alt=\"default\" width=500px/></center>\n",
    "\n",
    "\n",
    "<!-- $$\\begin{bmatrix}\n",
    "    -1.1 \\\\\n",
    "    0.0 \\\\\n",
    "    3.6 \\\\\n",
    "    -7.2\n",
    "\\end{bmatrix} \\text{ or } \\begin{bmatrix}\n",
    "    -1.1 \\\\\n",
    "    0.0 \\\\\n",
    "    3.6 \\\\\n",
    "    -7.2\n",
    "\\end{bmatrix} \\text{ or } (-1.1, 0.0, 3.6, -7.2).$$  -->\n",
    "\n",
    "The numbers in the list are called: _components, elements, entries, or coefficients_ of the vector.\n",
    "\n",
    "The number $n$ of elements in the list is the _size, dimension, or length_ of the vector, which is a _$n$-vector_."
   ]
  },
  {
   "cell_type": "markdown",
   "metadata": {
    "slideshow": {
     "slide_type": "slide"
    }
   },
   "source": [
    "$\\color{#047C91}{\\text{Exercise}}$: What are the components of the vector below? What is its dimension?\n",
    "\n",
    "<center><img src=\"figs/01_def_vector.png\" alt=\"default\" width=800px/></center>\n",
    "\n",
    "$\\color{#EF5645}{\\text{Definition}}$: In contrast to vectors, numbers are just called _scalars_. For example, 3.4 is a scalar."
   ]
  },
  {
   "cell_type": "markdown",
   "metadata": {
    "slideshow": {
     "slide_type": "slide"
    }
   },
   "source": [
    "$\\color{#EF5645}{\\text{Notation}}$: \n",
    "\n",
    "We use symbols to denote vectors: $a, X,  β, \\mathbf{g}, \\overrightarrow{a}$.\n",
    "\n",
    "The ith element of vector $a$ is written $a_i$; $i$ is the index.\n",
    "\n",
    "$\\color{#EF5645}{\\text{Remark 1}}$: For an n-vector:\n",
    "  - 😱 in Math: indexes run from $i = 1$ to $i = n$,\n",
    "  - 😱 in Python: indexes run from $i = 0$ to $i = n - 1$."
   ]
  },
  {
   "cell_type": "markdown",
   "metadata": {
    "slideshow": {
     "slide_type": "slide"
    }
   },
   "source": [
    "$\\color{#EF5645}{\\text{Remark 2}}$: When you see \"$a_i$\":\n",
    "- If $a$ is an n-vector:\n",
    "  - $a_i$ is the entry at index $i$.\n",
    "- If $[a_1, ..., a_m]$ is a list of $m$ $n$-vectors:\n",
    "  - $a_i$ is the ith $n$-vector."
   ]
  },
  {
   "cell_type": "markdown",
   "metadata": {
    "slideshow": {
     "slide_type": "slide"
    }
   },
   "source": [
    "### Vectors in Python\n",
    "\n",
    "$\\color{#003660}{\\text{In Python}}$, vectors can first be represented as:\n",
    "- a \"list\" of numbers, using `[]`,\n",
    "- a \"tuple\" of numbers, using `()`."
   ]
  },
  {
   "cell_type": "code",
   "execution_count": 27,
   "metadata": {
    "slideshow": {
     "slide_type": "fragment"
    }
   },
   "outputs": [
    {
     "name": "stdout",
     "output_type": "stream",
     "text": [
      "[1, 2, 3]\n",
      "(1, 2, 3)\n"
     ]
    }
   ],
   "source": [
    "l = [1, 2, 3]; print(l)\n",
    "t = (1, 2, 3); print(t)\n"
   ]
  },
  {
   "cell_type": "markdown",
   "metadata": {
    "slideshow": {
     "slide_type": "slide"
    }
   },
   "source": [
    "$\\color{#003660}{\\text{In Python}}$, vectors can _also_ be represented as:\n",
    "\n",
    "- \"arrays\" of numbers with the package [NumPy](https://numpy.org/).\n",
    "\n",
    "$\\color{#EF5645}{\\text{Definition}}$: In Python, a _package_ is a folder containing code, that you import to access tools.\n",
    "\n",
    "$\\color{#047C91}{\\text{Example}}$: The `numpy` package contains:\n",
    "- a specific way of representing vectors: \"arrays\"\n",
    "- multiple functions to compute with vectors!"
   ]
  },
  {
   "cell_type": "markdown",
   "metadata": {
    "slideshow": {
     "slide_type": "slide"
    }
   },
   "source": [
    "We import a package with `import` functionality. \n",
    "\n",
    "We rename the package using `as` functionality."
   ]
  },
  {
   "cell_type": "code",
   "execution_count": 48,
   "metadata": {},
   "outputs": [
    {
     "name": "stdout",
     "output_type": "stream",
     "text": [
      "[0.33333333 0.66666667 1.        ]\n"
     ]
    }
   ],
   "source": [
    "import numpy as np\n",
    "c = np.array([1, 2, 3]) / 3\n",
    "print(c)"
   ]
  },
  {
   "cell_type": "markdown",
   "metadata": {
    "slideshow": {
     "slide_type": "slide"
    }
   },
   "source": [
    "### Vector components: Accessing\n",
    "\n",
    "$\\color{#003660}{\\text{In Python}}$, we \"access\" the components of a vector with:"
   ]
  },
  {
   "cell_type": "code",
   "execution_count": 68,
   "metadata": {},
   "outputs": [
    {
     "ename": "IndexError",
     "evalue": "list index out of range",
     "output_type": "error",
     "traceback": [
      "\u001b[0;31m---------------------------------------------------------------------------\u001b[0m",
      "\u001b[0;31mIndexError\u001b[0m                                Traceback (most recent call last)",
      "\u001b[0;32m/var/folders/dz/k1hb2xr94k558sjs416njdp40000gn/T/ipykernel_1218/2192835077.py\u001b[0m in \u001b[0;36m<module>\u001b[0;34m\u001b[0m\n\u001b[1;32m      1\u001b[0m \u001b[0ma\u001b[0m \u001b[0;34m=\u001b[0m \u001b[0;34m[\u001b[0m\u001b[0;36m3\u001b[0m\u001b[0;34m,\u001b[0m \u001b[0;36m4\u001b[0m\u001b[0;34m,\u001b[0m \u001b[0;36m5\u001b[0m\u001b[0;34m]\u001b[0m\u001b[0;34m\u001b[0m\u001b[0;34m\u001b[0m\u001b[0m\n\u001b[0;32m----> 2\u001b[0;31m \u001b[0ma\u001b[0m\u001b[0;34m[\u001b[0m\u001b[0;36m3\u001b[0m\u001b[0;34m]\u001b[0m\u001b[0;34m\u001b[0m\u001b[0;34m\u001b[0m\u001b[0m\n\u001b[0m",
      "\u001b[0;31mIndexError\u001b[0m: list index out of range"
     ]
    }
   ],
   "source": [
    "a = [3, 4, 5]\n",
    "a[3]"
   ]
  },
  {
   "cell_type": "markdown",
   "metadata": {
    "slideshow": {
     "slide_type": "slide"
    }
   },
   "source": [
    "**Remember:** for an n-vector:\n",
    "- 😱 Math: indexes run from $i = 1$ to $i = n$,\n",
    "- 😱 Python: indexes run from $i = 0$ to $i = n - 1$."
   ]
  },
  {
   "cell_type": "code",
   "execution_count": 1,
   "metadata": {},
   "outputs": [
    {
     "ename": "IndexError",
     "evalue": "list index out of range",
     "output_type": "error",
     "traceback": [
      "\u001b[0;31m---------------------------------------------------------------------------\u001b[0m",
      "\u001b[0;31mIndexError\u001b[0m                                Traceback (most recent call last)",
      "\u001b[0;32m/var/folders/dz/k1hb2xr94k558sjs416njdp40000gn/T/ipykernel_78630/2550656813.py\u001b[0m in \u001b[0;36m<module>\u001b[0;34m\u001b[0m\n\u001b[1;32m      1\u001b[0m \u001b[0ma\u001b[0m \u001b[0;34m=\u001b[0m \u001b[0;34m[\u001b[0m\u001b[0;36m1.1\u001b[0m\u001b[0;34m,\u001b[0m \u001b[0;36m2.2\u001b[0m\u001b[0;34m,\u001b[0m \u001b[0;36m3.3\u001b[0m\u001b[0;34m,\u001b[0m \u001b[0;36m4.4\u001b[0m\u001b[0;34m]\u001b[0m\u001b[0;34m\u001b[0m\u001b[0;34m\u001b[0m\u001b[0m\n\u001b[0;32m----> 2\u001b[0;31m \u001b[0ma\u001b[0m\u001b[0;34m[\u001b[0m\u001b[0;36m4\u001b[0m\u001b[0;34m]\u001b[0m\u001b[0;34m\u001b[0m\u001b[0;34m\u001b[0m\u001b[0m\n\u001b[0m",
      "\u001b[0;31mIndexError\u001b[0m: list index out of range"
     ]
    }
   ],
   "source": [
    "a = [1.1, 2.2, 3.3, 4.4]\n",
    "a[4]"
   ]
  },
  {
   "cell_type": "markdown",
   "metadata": {
    "slideshow": {
     "slide_type": "slide"
    }
   },
   "source": [
    "### Vector components: Assigning\n",
    "\n",
    "$\\color{#003660}{\\text{In Python}}$, components of a vector can be \"assigned\", as:"
   ]
  },
  {
   "cell_type": "code",
   "execution_count": 70,
   "metadata": {},
   "outputs": [
    {
     "data": {
      "text/plain": [
       "[1, 2.2, -3.0, -2022]"
      ]
     },
     "execution_count": 70,
     "metadata": {},
     "output_type": "execute_result"
    }
   ],
   "source": [
    "a = [1, 2.2, -3., 4.]\n",
    "a[3] = - 2022\n",
    "a"
   ]
  },
  {
   "cell_type": "markdown",
   "metadata": {
    "slideshow": {
     "slide_type": "slide"
    }
   },
   "source": [
    "$\\color{#EF5645}{\\text{Remark/Exception}}$: If you store a vector as a tuple, then assignment does not work."
   ]
  },
  {
   "cell_type": "code",
   "execution_count": 71,
   "metadata": {},
   "outputs": [
    {
     "ename": "TypeError",
     "evalue": "'tuple' object does not support item assignment",
     "output_type": "error",
     "traceback": [
      "\u001b[0;31m---------------------------------------------------------------------------\u001b[0m",
      "\u001b[0;31mTypeError\u001b[0m                                 Traceback (most recent call last)",
      "\u001b[0;32m/var/folders/dz/k1hb2xr94k558sjs416njdp40000gn/T/ipykernel_1218/1633531613.py\u001b[0m in \u001b[0;36m<module>\u001b[0;34m\u001b[0m\n\u001b[1;32m      1\u001b[0m \u001b[0ma\u001b[0m \u001b[0;34m=\u001b[0m \u001b[0;34m(\u001b[0m\u001b[0;36m1\u001b[0m\u001b[0;34m,\u001b[0m \u001b[0;36m2\u001b[0m\u001b[0;34m,\u001b[0m \u001b[0;36m3\u001b[0m\u001b[0;34m)\u001b[0m\u001b[0;34m\u001b[0m\u001b[0;34m\u001b[0m\u001b[0m\n\u001b[0;32m----> 2\u001b[0;31m \u001b[0ma\u001b[0m\u001b[0;34m[\u001b[0m\u001b[0;36m2\u001b[0m\u001b[0;34m]\u001b[0m \u001b[0;34m=\u001b[0m \u001b[0;36m2022\u001b[0m\u001b[0;34m\u001b[0m\u001b[0;34m\u001b[0m\u001b[0m\n\u001b[0m",
      "\u001b[0;31mTypeError\u001b[0m: 'tuple' object does not support item assignment"
     ]
    }
   ],
   "source": [
    "a = (1, 2, 3)\n",
    "a[2] = 2022"
   ]
  },
  {
   "cell_type": "markdown",
   "metadata": {
    "slideshow": {
     "slide_type": "slide"
    }
   },
   "source": [
    "### Visualization of vectors"
   ]
  },
  {
   "cell_type": "markdown",
   "metadata": {},
   "source": [
    "$\\color{#EF5645}{\\text{Recall}}$: In Python, a _package_ is a folder containing code, that you import to access tools.\n",
    "\n",
    "$\\color{#047C91}{\\text{Example}}$: The `matplotlib.pyplot` package contains tools to visualize vectors."
   ]
  },
  {
   "cell_type": "code",
   "execution_count": 3,
   "metadata": {},
   "outputs": [],
   "source": [
    "import matplotlib.pyplot as plt"
   ]
  },
  {
   "cell_type": "markdown",
   "metadata": {
    "slideshow": {
     "slide_type": "slide"
    }
   },
   "source": [
    "### Visualization 1: A vector as a point\n",
    "\n",
    "- A 2-vector $(a_1, a_2)$ can represent:\n",
    "  - a point on the 2D plane, coordinates: $(a_1, a_2)$. \n",
    " \n",
    "- An n-vector $(a_1, ..., a_n)$ can represent:\n",
    "  - a point in the n-D space."
   ]
  },
  {
   "cell_type": "markdown",
   "metadata": {
    "slideshow": {
     "slide_type": "slide"
    }
   },
   "source": [
    "$\\color{#003660}{\\text{In Python}}$, we use `scatter` to plot points in 2D, thanks to `matplotlib.pyplot`."
   ]
  },
  {
   "cell_type": "code",
   "execution_count": 8,
   "metadata": {},
   "outputs": [
    {
     "data": {
      "image/png": "[encoded data removed]",
      "text/plain": [
       "<Figure size 432x288 with 1 Axes>"
      ]
     },
     "metadata": {
      "needs_background": "light"
     },
     "output_type": "display_data"
    }
   ],
   "source": [
    "vector = [1, 2]\n",
    "plt.scatter(vector[0], vector[1], s=500, color=\"blue\");"
   ]
  },
  {
   "cell_type": "markdown",
   "metadata": {
    "slideshow": {
     "slide_type": "slide"
    }
   },
   "source": [
    "$\\color{#003660}{\\text{In Python}}$, we use `scatter3D` to plot points in 3D, from `matplotlib.pyplot`.\n",
    "\n",
    "We also need to tell python that we are going to 3D."
   ]
  },
  {
   "cell_type": "code",
   "execution_count": 13,
   "metadata": {},
   "outputs": [
    {
     "data": {
      "image/png": "[encoded data removed]",
      "text/plain": [
       "<Figure size 432x288 with 1 Axes>"
      ]
     },
     "metadata": {
      "needs_background": "light"
     },
     "output_type": "display_data"
    }
   ],
   "source": [
    "vector = [1, 2, 3]\n",
    "fig = plt.figure()\n",
    "ax = plt.axes(projection =\"3d\")\n",
    "ax.scatter(vector[0], vector[1], vector[2], s=500, color=\"red\");"
   ]
  },
  {
   "cell_type": "markdown",
   "metadata": {
    "slideshow": {
     "slide_type": "slide"
    }
   },
   "source": [
    "### Visualization 2: A vector as an arrow\n",
    "\n",
    "A 2-vector $(a_1, a_2)$ can also represent:\n",
    "  - an arrow in the 2D plane from $(0, 0)$ to $(a_1, a_2)$.\n",
    "\n",
    "An n-vector $(a_1, ..., a_n)$ can also represent:\n",
    "  - an arrow in the n-D space from $(0, ..., 0)$ to $(a_1, ..., a_n)$."
   ]
  },
  {
   "cell_type": "markdown",
   "metadata": {
    "slideshow": {
     "slide_type": "slide"
    }
   },
   "source": [
    "$\\color{#003660}{\\text{In Python}}$, we use `quiver` to plot arrows (from `matplotlib.pyplot`) in 2D."
   ]
  },
  {
   "cell_type": "code",
   "execution_count": 21,
   "metadata": {
    "slideshow": {
     "slide_type": "-"
    }
   },
   "outputs": [
    {
     "data": {
      "image/png": "[encoded data removed]",
      "text/plain": [
       "<Figure size 432x288 with 1 Axes>"
      ]
     },
     "metadata": {
      "needs_background": "light"
     },
     "output_type": "display_data"
    }
   ],
   "source": [
    "plt.quiver(\n",
    "    0, 0, vector[0], vector[1], \n",
    "    color='green', scale=10); "
   ]
  },
  {
   "cell_type": "code",
   "execution_count": 52,
   "metadata": {
    "slideshow": {
     "slide_type": "skip"
    }
   },
   "outputs": [
    {
     "data": {
      "image/png": "[encoded data removed]",
      "text/plain": [
       "<Figure size 432x288 with 1 Axes>"
      ]
     },
     "metadata": {
      "needs_background": "light"
     },
     "output_type": "display_data"
    }
   ],
   "source": [
    "fig = plt.figure()\n",
    "ax = plt.axes(projection =\"3d\")\n",
    "ax.quiver(\n",
    "    0, 0, 0, vector[0], vector[1], vector[2], \n",
    "    color='green', length=0.1, normalize=True); "
   ]
  },
  {
   "cell_type": "markdown",
   "metadata": {
    "slideshow": {
     "slide_type": "slide"
    }
   },
   "source": [
    "In ECE, a 2-vector $a=(a_1, a_2)$ can represent a displacement in 2-D, for example the movement of a person on a map (google map, apple maps). \n",
    "\n",
    "<center><img src=\"figs/01_sumvectors.jpg\" width=500px alt=\"default\"/></center>"
   ]
  },
  {
   "cell_type": "markdown",
   "metadata": {
    "cell_style": "center",
    "slideshow": {
     "slide_type": "slide"
    }
   },
   "source": [
    "In ECE, a 3-vector $a$ can be a color in RGB: $a = (R, G, B)$\n",
    "\n",
    "<center><img src=\"figs/01_matrix_color.jpeg\" alt=\"default\" width=600/></center>\n",
    "\n",
    "<center>The matrix coloring is an operation on vectors</center>"
   ]
  },
  {
   "cell_type": "markdown",
   "metadata": {},
   "source": [
    "<center><img src=\"figs/06_matrix_everywhere.gif\" alt=\"default\"/></center>"
   ]
  },
  {
   "cell_type": "markdown",
   "metadata": {
    "cell_style": "center",
    "slideshow": {
     "slide_type": "slide"
    }
   },
   "source": [
    "### Matrices\n",
    "\n",
    "$\\color{#EF5645}{\\text{Definition}}$: A _matrix_ is a rectangular array of numbers, e.g.:\n",
    "$$A =\\begin{vmatrix}\n",
    "0   & 1  & -2.3  \\\\\n",
    "1.3 & 4  & -0.1 \n",
    "\\end{vmatrix}$$\n",
    "\n",
    "- Its _size_ or _shape_ is: (nb of rows) x (nb of columns).\n",
    "- Its elements are called: _entries, coefficients_.\n",
    "- $A_{i, j}$ refers to element at ith row and jth column.\n",
    "  - i is the _row index_ and j is the _column index_."
   ]
  },
  {
   "cell_type": "code",
   "execution_count": 1,
   "metadata": {},
   "outputs": [
    {
     "name": "stdout",
     "output_type": "stream",
     "text": [
      "(2, 3)\n",
      "(2, 3)\n"
     ]
    }
   ],
   "source": []
  },
  {
   "cell_type": "markdown",
   "metadata": {
    "slideshow": {
     "slide_type": "slide"
    }
   },
   "source": [
    "$\\color{#003660}{\\text{In Python}}$, we use `numpy` and `np.array` to build matrices. We compute its shape with `shape`."
   ]
  },
  {
   "cell_type": "code",
   "execution_count": 1,
   "metadata": {},
   "outputs": [
    {
     "name": "stdout",
     "output_type": "stream",
     "text": [
      "(2, 3)\n",
      "(2, 3)\n"
     ]
    }
   ],
   "source": [
    "import numpy as np\n",
    "\n",
    "A = np.array([\n",
    "    [0, 1, -2.3], \n",
    "    [1.3, 4, -0.1]\n",
    "])\n",
    "print(np.shape(A))\n",
    "print(A.shape)"
   ]
  },
  {
   "cell_type": "markdown",
   "metadata": {},
   "source": [
    "$\\color{#003660}{\\text{In Python}}$, we can access the elements of the matrix."
   ]
  },
  {
   "cell_type": "code",
   "execution_count": null,
   "metadata": {},
   "outputs": [],
   "source": [
    "A = np.array([\n",
    "    [0, 1, -2.3], \n",
    "    [1.3, 4, -0.1]\n",
    "])\n",
    "\n",
    "print(A[0, 0])\n",
    "print(A[0, 2])"
   ]
  },
  {
   "cell_type": "markdown",
   "metadata": {},
   "source": [
    "### Sizes/Shapes of Matrices\n",
    "\n",
    "$\\color{#EF5645}{\\text{Definitions}}$: A m x n matrix $A$ is:\n",
    "- _tall_ if m > n,\n",
    "- _wide_ if m < n,\n",
    "- _square_ if m = n.\n",
    "\n",
    "### Matrices, Vectors and Scalars\n",
    "\n",
    "$\\color{#EF5645}{\\text{Definitions}}$:\n",
    "- A 1 x 1 matrix is a number or scalar.\n",
    "- A n x 1 matrix is an $n$-vector.\n",
    "- A 1 x n matrix is a $n$-row-vector. \n",
    "\n",
    "Starting now, we will distinguish vectors and row vectors.\n",
    "\n",
    "### Columns and rows of a matrix\n",
    "$\\color{#EF5645}{\\text{Notations}}$: Consider the $m \\times n$ matrix $A$.\n",
    "- Its jth column is the $m$-vector:\n",
    "$$\\begin{vmatrix}\n",
    "A_{1j} \\\\\n",
    "\\vdots \\\\\n",
    "A_{mj}\n",
    "\\end{vmatrix}$$\n",
    "- Its ith row is the $n$-row-vector: $[A_{i1}, ..., A_{in}]$.\n",
    "\n",
    "### Slices of a matrix\n",
    "\n",
    "$\\color{#EF5645}{\\text{Definition}}$ The slice of matrix $A_{p:q, r:s}$ is the matrix:\n",
    "$$\\begin{vmatrix}\n",
    "A_{pr} & A_{p, r+1} & ... & A_{ps}  \\\\\n",
    "... & ... & ... & ... \\\\\n",
    "A_{qr} & A_{q, r+1} & ... & A_{qs}\n",
    "\\end{vmatrix}.$$\n",
    "\n",
    "$\\color{#003660}{\\text{In Python}}$, we can extract rows, columns and slices:"
   ]
  },
  {
   "cell_type": "code",
   "execution_count": null,
   "metadata": {},
   "outputs": [],
   "source": [
    "A = np.array([\n",
    "    [1.1, 2.2, 3.3], \n",
    "    [4.4, 5.5, 6.6], \n",
    "    [7.7, 8.8, 9.9]]); print(\"Matrix:\"); print(A)\n",
    "# print(A[0, :]); print(A[:, 1]); print(A[0, 1])\n",
    "A[0:2, 1:3]"
   ]
  },
  {
   "cell_type": "markdown",
   "metadata": {
    "slideshow": {
     "slide_type": "slide"
    }
   },
   "source": [
    "### Block matrices\n",
    "\n",
    "$\\color{#EF5645}{\\text{Definition}}$: A matrix $A$ composed from other matrices is called a _block matrix_:\n",
    "$$A = \\begin{vmatrix}\n",
    "B & C  \\\\\n",
    "D & E\n",
    "\\end{vmatrix}$$\n",
    "where $B, C, D, E$ are called _submatrices_ or _blocks_ of $A$."
   ]
  },
  {
   "cell_type": "markdown",
   "metadata": {
    "slideshow": {
     "slide_type": "slide"
    }
   },
   "source": [
    "### Column/row representations\n",
    "\n",
    "$\\color{#EF5645}{\\text{Notations}}$: Consider the $m \\times n$ matrix $A$.\n",
    "- $A$ is the block matrix of its columns $a_1, ..., a_n$:\n",
    "  - $A = [a_1 ... a_n]$.\n",
    "- $A$ is the block matrix of its rows $b_1, ..., b_m$:\n",
    "  - $A = \\begin{vmatrix}\n",
    "  b_1 \\\\\n",
    "  \\vdots \\\\\n",
    "  b_m\n",
    "  \\end{vmatrix}.$"
   ]
  },
  {
   "cell_type": "code",
   "execution_count": 14,
   "metadata": {},
   "outputs": [
    {
     "data": {
      "image/png": "[encoded data removed]",
      "text/plain": [
       "<Figure size 432x288 with 1 Axes>"
      ]
     },
     "metadata": {
      "needs_background": "light"
     },
     "output_type": "display_data"
    }
   ],
   "source": [
    "A = np.array([[0.3, 1, 0],[1, 1, 0.7],[0, 1, 0]]); A\n",
    "import matplotlib.pyplot as plt\n",
    "plt.imshow(A, cmap=\"viridis\");"
   ]
  },
  {
   "cell_type": "markdown",
   "metadata": {
    "slideshow": {
     "slide_type": "slide"
    }
   },
   "source": [
    "### Examples in ECE and beyond\n",
    "\n",
    "\n",
    "- Weather: $A_{ij}$ is rainfall data at location $i$ on day $j$.\n",
    "- Finances: $A_{ij}$ is the return of asset $i$ in period $j$.\n",
    "\n",
    "$\\color{#047C91}{\\text{Exercise}}$: In each of these, what do the rows and columns mean?"
   ]
  },
  {
   "cell_type": "markdown",
   "metadata": {
    "slideshow": {
     "slide_type": "slide"
    }
   },
   "source": [
    "### Special Matrices\n",
    "\n",
    "$\\color{#EF5645}{\\text{Definition}}$: The $m \\times n$ _zero matrix_ (resp. _ones-matrix_) is the matrix with all entries equal to $0$ (resp. to $1$).\n",
    "\n",
    "$\\color{#EF5645}{\\text{Definition}}$: The _identity matrix_ $I$ is the square matrix with $I_{ii} = 1$ and $I_{ij} = 0$ if $i\\neq j$, for example:\n",
    "$$\\begin{vmatrix}\n",
    "1 & 0 \\\\\n",
    "0 & 1 \n",
    "\\end{vmatrix}.$$"
   ]
  },
  {
   "cell_type": "markdown",
   "metadata": {
    "slideshow": {
     "slide_type": "slide"
    }
   },
   "source": [
    "$\\color{#003660}{\\text{In Python}}$:"
   ]
  },
  {
   "cell_type": "code",
   "execution_count": 17,
   "metadata": {},
   "outputs": [
    {
     "name": "stdout",
     "output_type": "stream",
     "text": [
      "[[0. 0. 0.]\n",
      " [0. 0. 0.]]\n",
      "[[1. 1. 1. 1.]\n",
      " [1. 1. 1. 1.]]\n"
     ]
    },
    {
     "data": {
      "text/plain": [
       "array([[1., 0., 0., 0.],\n",
       "       [0., 1., 0., 0.],\n",
       "       [0., 0., 1., 0.],\n",
       "       [0., 0., 0., 1.]])"
      ]
     },
     "execution_count": 17,
     "metadata": {},
     "output_type": "execute_result"
    }
   ],
   "source": [
    "zero_mat = np.zeros((2, 3)); print(zero_mat) # 2 x 3\n",
    "ones_mat = np.ones((2, 4)); print(ones_mat) #2 x 4\n",
    "identity_mat = np.identity(4); identity_mat"
   ]
  },
  {
   "cell_type": "markdown",
   "metadata": {
    "slideshow": {
     "slide_type": "slide"
    }
   },
   "source": [
    "### Examples in ECE and beyond\n",
    "\n",
    "- Images: $A_{ij}$ is intensity value at $i, j$.\n",
    "\n",
    "$\\color{#003660}{\\text{In Python}}$, we use `imshow` to plot an image."
   ]
  },
  {
   "cell_type": "code",
   "execution_count": null,
   "metadata": {},
   "outputs": [],
   "source": []
  },
  {
   "cell_type": "markdown",
   "metadata": {
    "slideshow": {
     "slide_type": "slide"
    }
   },
   "source": [
    "### Diagonal Matrices\n",
    "\n",
    "$\\color{#EF5645}{\\text{Definition}}$: A _diagonal matrix_ $A$ is a square matrix with $A_{ij} = 0$ for $i \\neq j$.\n",
    "- diag$(a_1, ..., a_n)$ denotes the diagonal matrix with $A_{ii} = a_i$:\n",
    "$$\\text{diag}(0.2, -3, 1.2) = \\begin{vmatrix}\n",
    "0.2 & 0 & 0 \\\\\n",
    "0 & -3 & 0 \\\\\n",
    "0 & 0 & 1.2\n",
    "\\end{vmatrix}$$"
   ]
  },
  {
   "cell_type": "markdown",
   "metadata": {
    "slideshow": {
     "slide_type": "slide"
    }
   },
   "source": [
    "$\\color{#003660}{\\text{In Python}}$, we use `np.diag` to create a diagonal matrix from a vector $a$."
   ]
  },
  {
   "cell_type": "code",
   "execution_count": 19,
   "metadata": {},
   "outputs": [
    {
     "data": {
      "text/plain": [
       "array([[2.2, 0. , 0. ],\n",
       "       [0. , 3.3, 0. ],\n",
       "       [0. , 0. , 4.4]])"
      ]
     },
     "execution_count": 19,
     "metadata": {},
     "output_type": "execute_result"
    }
   ],
   "source": [
    "np.diag(np.array([2.2, 3.3, 4.4]))"
   ]
  },
  {
   "cell_type": "markdown",
   "metadata": {
    "slideshow": {
     "slide_type": "slide"
    }
   },
   "source": [
    "### Math operations as matrices\n",
    "$\\color{#047C91}{\\text{Example}}$: The $(n-1) \\times n$ difference matrix:\n",
    "$$D = \\begin{vmatrix}\n",
    "-1 & 1  & 0 & ... & 0 & 0 \\\\\n",
    "0  & -1 & 1 & ... & 0 & 0 \\\\\n",
    "   &    &   &     &   &   \\\\\n",
    "0  & 0  & 0 & ... & -1 & 1\n",
    "\\end{vmatrix}$$\n",
    "gives the $(n-1)$ vector of differences:\n",
    "$Dx = \\begin{vmatrix}\n",
    "x_2 - x_1 \\\\\n",
    "x_3 - x_2 \\\\\n",
    "\\vdots \\\\\n",
    "x_n - x_{n-1}\n",
    "\\end{vmatrix}\n",
    "$"
   ]
  },
  {
   "cell_type": "markdown",
   "metadata": {
    "slideshow": {
     "slide_type": "slide"
    }
   },
   "source": [
    "$\\color{#003660}{\\text{In Python}}$, let be given a vector listing the days at which earthquakes have happened in California. Compute the vector giving the number of days in-between earthquakes."
   ]
  },
  {
   "cell_type": "code",
   "execution_count": null,
   "metadata": {},
   "outputs": [],
   "source": [
    "earthquake_days = np.array([12, 44, 78])\n",
    "D = np.array([\n",
    "    [-1, 1, 0],\n",
    "    [0, -1, 1]\n",
    "])\n",
    "\n",
    "print(D @ earthquake_days)\n",
    "print(45 - 12)\n",
    "print(78 - 45)"
   ]
  },
  {
   "cell_type": "code",
   "execution_count": 1,
   "metadata": {
    "slideshow": {
     "slide_type": "notes"
    }
   },
   "outputs": [],
   "source": [
    "# Remove below because they haven't see matrix-vector mult yet"
   ]
  },
  {
   "cell_type": "markdown",
   "metadata": {
    "slideshow": {
     "slide_type": "slide"
    }
   },
   "source": [
    "### Geometric transformations as matrices"
   ]
  },
  {
   "cell_type": "markdown",
   "metadata": {
    "cell_style": "split"
   },
   "source": [
    "Geometric transformations can be represented as matrices. They transform vectors $x$ through: $y = Ax$.\n",
    "\n",
    "$\\color{#047C91}{\\text{Example}}$: Rotation by $\\theta$:\n",
    "$$R_\\theta = \\begin{vmatrix}\n",
    "\\cos(\\theta) & -\\sin(\\theta) \\\\\n",
    "\\sin(\\theta) & \\cos(\\theta)\\end{vmatrix}, \\quad y = R_\\theta x$$\n"
   ]
  },
  {
   "cell_type": "markdown",
   "metadata": {
    "cell_style": "split"
   },
   "source": [
    "<center><img src=\"figs/06_rotmat.png\" alt=\"default\"/></center>"
   ]
  },
  {
   "cell_type": "code",
   "execution_count": null,
   "metadata": {},
   "outputs": [],
   "source": [
    "import matplotlib.pyplot as plt\n",
    "x = np.array([1, 1])\n",
    "plt.arrow(0, 0, x[0], x[1], width=0.01, color=\"blue\")\n",
    "theta = np.pi / 6\n",
    "R = np.array([\n",
    "    [np.cos(theta), - np.sin(theta)], \n",
    "    [np.sin(theta), np.cos(theta)]])\n",
    "y = R @ x; \n",
    "plt.arrow(0, 0, y[0], y[1], width=0.01, color=\"red\"); \n",
    "plt.axis(\"equal\");"
   ]
  },
  {
   "cell_type": "markdown",
   "metadata": {
    "slideshow": {
     "slide_type": "slide"
    }
   },
   "source": [
    "### (Social) graphs as matrices"
   ]
  },
  {
   "cell_type": "markdown",
   "metadata": {
    "cell_style": "split"
   },
   "source": [
    "Any (social network) graph with $n$ nodes can be represented by $n \\times n$ matrix $A$, called adjacency matrix and defined as\n",
    "\n",
    "$A_{ij} = \\begin{vmatrix}\n",
    "    1 \\quad \\text{if $i$ goes to $j$}\\\\\n",
    "    0 \\quad \\text{otherwise}\n",
    "\\end{vmatrix}.$"
   ]
  },
  {
   "cell_type": "markdown",
   "metadata": {
    "cell_style": "split"
   },
   "source": [
    "<center><img src=\"figs/06_graph.png\" alt=\"default\" width=350px /></center>"
   ]
  },
  {
   "cell_type": "code",
   "execution_count": null,
   "metadata": {},
   "outputs": [],
   "source": []
  },
  {
   "cell_type": "code",
   "execution_count": null,
   "metadata": {},
   "outputs": [],
   "source": []
  },
  {
   "cell_type": "code",
   "execution_count": null,
   "metadata": {},
   "outputs": [],
   "source": []
  },
  {
   "cell_type": "code",
   "execution_count": null,
   "metadata": {},
   "outputs": [],
   "source": []
  },
  {
   "cell_type": "markdown",
   "metadata": {
    "slideshow": {
     "slide_type": "slide"
    }
   },
   "source": [
    "# Outline of Unit 02\n",
    "\n",
    "- **02: Visualizing Data in Python**\n",
    "  - TBD\n",
    "  - TBD"
   ]
  },
  {
   "cell_type": "markdown",
   "metadata": {
    "slideshow": {
     "slide_type": "slide"
    }
   },
   "source": [
    "# Resources\n",
    "\n",
    "- Textbook TODO"
   ]
  }
 ],
 "metadata": {
  "celltoolbar": "Slideshow",
  "kernelspec": {
   "display_name": "Python 3 (ipykernel)",
   "language": "python",
   "name": "python3"
  },
  "language_info": {
   "codemirror_mode": {
    "name": "ipython",
    "version": 3
   },
   "file_extension": ".py",
   "mimetype": "text/x-python",
   "name": "python",
   "nbconvert_exporter": "python",
   "pygments_lexer": "ipython3",
   "version": "3.9.9"
  }
 },
 "nbformat": 4,
 "nbformat_minor": 2
}
