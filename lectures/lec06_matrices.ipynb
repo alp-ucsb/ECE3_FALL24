{
 "cells": [
  {
   "cell_type": "markdown",
   "metadata": {
    "slideshow": {
     "slide_type": "slide"
    }
   },
   "source": [
    "# 06 Matrices"
   ]
  },
  {
   "cell_type": "markdown",
   "metadata": {},
   "source": [
    "<center><img src=\"figs/06_matrix_everywhere.gif\" alt=\"default\"/></center>"
   ]
  },
  {
   "cell_type": "markdown",
   "metadata": {
    "slideshow": {
     "slide_type": "slide"
    }
   },
   "source": [
    "#### Unit 1: Vectors, Textbook Ch. 1-5\n",
    "\n",
    "#### Unit 2: Matrices, Textbook Ch. 6-11\n",
    "- **_06 Matrices_**\n",
    "- 07 Linear Equations\n",
    "- 08 Linear Dynamical Systems\n",
    "- 09 Matrix Multiplication\n",
    "- 10 Matrix Inverse\n",
    "\n",
    "#### Unit 3: Least Squares, Textbook Ch. 12-14"
   ]
  },
  {
   "cell_type": "markdown",
   "metadata": {
    "slideshow": {
     "slide_type": "slide"
    }
   },
   "source": [
    "##### Outline: 06 Matrices\n",
    "\n",
    "- **[First Definitions](#sec-matrices)**\n",
    "- [Basic operations, norms and distances](#matvec)\n",
    "- [Matrix-vector multiplication](#matvec)\n",
    "- [Examples](#examples)"
   ]
  },
  {
   "cell_type": "markdown",
   "metadata": {
    "cell_style": "center",
    "slideshow": {
     "slide_type": "slide"
    }
   },
   "source": [
    "### Matrices\n",
    "\n",
    "$\\color{#EF5645}{\\text{Definition}}$: A _matrix_ is a rectangular array of numbers, e.g.:\n",
    "$$A =\\begin{vmatrix}\n",
    "0   & 1  & -2.3  \\\\\n",
    "1.3 & 4  & -0.1 \n",
    "\\end{vmatrix}$$\n",
    "\n",
    "- Its _size_ or _shape_ is: (nb of rows) x (nb of columns).\n",
    "- Its elements are called: _entries, coefficients_.\n",
    "- $A_{i, j}$ refers to element at ith row and jth column.\n",
    "  - i is the _row index_ and j is the _column index_."
   ]
  },
  {
   "cell_type": "markdown",
   "metadata": {
    "slideshow": {
     "slide_type": "slide"
    }
   },
   "source": [
    "$\\color{#003660}{\\text{In Python}}$, we use `numpy` and `np.array` to build matrices. We compute its shape with `shape`."
   ]
  },
  {
   "cell_type": "code",
   "execution_count": 1,
   "metadata": {},
   "outputs": [
    {
     "name": "stdout",
     "output_type": "stream",
     "text": [
      "(2, 3)\n",
      "(2, 3)\n"
     ]
    }
   ],
   "source": [
    "import numpy as np\n",
    "\n",
    "A = np.array([\n",
    "    [0, 1, -2.3], \n",
    "    [1.3, 4, -0.1]\n",
    "])\n",
    "print(np.shape(A))\n",
    "print(A.shape)"
   ]
  },
  {
   "cell_type": "markdown",
   "metadata": {
    "slideshow": {
     "slide_type": "slide"
    }
   },
   "source": [
    "$\\color{#003660}{\\text{In Python}}$, we can access the elements of the matrix."
   ]
  },
  {
   "cell_type": "code",
   "execution_count": 4,
   "metadata": {},
   "outputs": [
    {
     "name": "stdout",
     "output_type": "stream",
     "text": [
      "0.0\n",
      "-2.3\n"
     ]
    }
   ],
   "source": [
    "A = np.array([\n",
    "    [0, 1, -2.3], \n",
    "    [1.3, 4, -0.1]\n",
    "])\n",
    "\n",
    "print(A[0, 0])\n",
    "print(A[0, 2])"
   ]
  },
  {
   "cell_type": "markdown",
   "metadata": {
    "slideshow": {
     "slide_type": "slide"
    }
   },
   "source": [
    "### Sizes/Shapes of Matrices\n",
    "\n",
    "$\\color{#EF5645}{\\text{Definitions}}$: A m x n matrix $A$ is:\n",
    "- _tall_ if m > n,\n",
    "- _wide_ if m < n,\n",
    "- _square_ if m = n."
   ]
  },
  {
   "cell_type": "markdown",
   "metadata": {
    "slideshow": {
     "slide_type": "slide"
    }
   },
   "source": [
    "### Matrices, Vectors and Scalars\n",
    "\n",
    "$\\color{#EF5645}{\\text{Definitions}}$:\n",
    "- A 1 x 1 matrix is a number or scalar.\n",
    "- A n x 1 matrix is an $n$-vector.\n",
    "- A 1 x n matrix is a $n$-row-vector. \n",
    "\n",
    "Starting now, we will distinguish vectors and row vectors."
   ]
  },
  {
   "cell_type": "markdown",
   "metadata": {
    "slideshow": {
     "slide_type": "slide"
    }
   },
   "source": [
    "### Columns and rows of a matrix\n",
    "$\\color{#EF5645}{\\text{Notations}}$: Consider the $m \\times n$ matrix $A$.\n",
    "- Its jth column is the $m$-vector:\n",
    "$$\\begin{vmatrix}\n",
    "A_{1j} \\\\\n",
    "\\vdots \\\\\n",
    "A_{mj}\n",
    "\\end{vmatrix}$$\n",
    "- Its ith row is the $n$-row-vector: $[A_{i1}, ..., A_{in}]$."
   ]
  },
  {
   "cell_type": "markdown",
   "metadata": {
    "slideshow": {
     "slide_type": "slide"
    }
   },
   "source": [
    "### Slices of a matrix\n",
    "\n",
    "$\\color{#EF5645}{\\text{Definition}}$ The slice of matrix $A_{p:q, r:s}$ is the matrix:\n",
    "$$\\begin{vmatrix}\n",
    "A_{pr} & A_{p, r+1} & ... & A_{ps}  \\\\\n",
    "... & ... & ... & ... \\\\\n",
    "A_{qr} & A_{q, r+1} & ... & A_{qs}\n",
    "\\end{vmatrix}.$$"
   ]
  },
  {
   "cell_type": "markdown",
   "metadata": {
    "slideshow": {
     "slide_type": "slide"
    }
   },
   "source": [
    "$\\color{#003660}{\\text{In Python}}$, we can extract rows, columns and slices:"
   ]
  },
  {
   "cell_type": "code",
   "execution_count": 7,
   "metadata": {},
   "outputs": [
    {
     "name": "stdout",
     "output_type": "stream",
     "text": [
      "Matrix:\n",
      "[[1.1 2.2 3.3]\n",
      " [4.4 5.5 6.6]\n",
      " [7.7 8.8 9.9]]\n"
     ]
    },
    {
     "data": {
      "text/plain": [
       "array([[2.2, 3.3],\n",
       "       [5.5, 6.6]])"
      ]
     },
     "execution_count": 7,
     "metadata": {},
     "output_type": "execute_result"
    }
   ],
   "source": [
    "A = np.array([\n",
    "    [1.1, 2.2, 3.3], \n",
    "    [4.4, 5.5, 6.6], \n",
    "    [7.7, 8.8, 9.9]]); print(\"Matrix:\"); print(A)\n",
    "# print(A[0, :]); print(A[:, 1]); print(A[0, 1])\n",
    "A[0:2, 1:3]"
   ]
  },
  {
   "cell_type": "markdown",
   "metadata": {
    "slideshow": {
     "slide_type": "slide"
    }
   },
   "source": [
    "### Block matrices\n",
    "\n",
    "$\\color{#EF5645}{\\text{Definition}}$: A matrix $A$ composed from other matrices is called a _block matrix_:\n",
    "$$A = \\begin{vmatrix}\n",
    "B & C  \\\\\n",
    "D & E\n",
    "\\end{vmatrix}$$\n",
    "where $B, C, D, E$ are called _submatrices_ or _blocks_ of $A$."
   ]
  },
  {
   "cell_type": "markdown",
   "metadata": {
    "slideshow": {
     "slide_type": "slide"
    }
   },
   "source": [
    "### Column/row representations\n",
    "\n",
    "$\\color{#EF5645}{\\text{Notations}}$: Consider the $m \\times n$ matrix $A$.\n",
    "- $A$ is the block matrix of its columns $a_1, ..., a_n$:\n",
    "  - $A = [a_1 ... a_n]$.\n",
    "- $A$ is the block matrix of its rows $b_1, ..., b_m$:\n",
    "  - $A = \\begin{vmatrix}\n",
    "  b_1 \\\\\n",
    "  \\vdots \\\\\n",
    "  b_m\n",
    "  \\end{vmatrix}.$"
   ]
  },
  {
   "cell_type": "markdown",
   "metadata": {
    "slideshow": {
     "slide_type": "slide"
    }
   },
   "source": [
    "### Examples in ECE and beyond\n",
    "\n",
    "- Images: $A_{ij}$ is intensity value at $i, j$.\n",
    "\n",
    "$\\color{#003660}{\\text{In Python}}$, we use `imshow` to plot an image."
   ]
  },
  {
   "cell_type": "code",
   "execution_count": 14,
   "metadata": {},
   "outputs": [
    {
     "data": {
      "image/png": "[encoded data removed]",
      "text/plain": [
       "<Figure size 432x288 with 1 Axes>"
      ]
     },
     "metadata": {
      "needs_background": "light"
     },
     "output_type": "display_data"
    }
   ],
   "source": [
    "A = np.array([[0.3, 1, 0],[1, 1, 0.7],[0, 1, 0]]); A\n",
    "import matplotlib.pyplot as plt\n",
    "plt.imshow(A, cmap=\"viridis\");"
   ]
  },
  {
   "cell_type": "markdown",
   "metadata": {
    "slideshow": {
     "slide_type": "slide"
    }
   },
   "source": [
    "### Examples in ECE and beyond\n",
    "\n",
    "\n",
    "- Weather: $A_{ij}$ is rainfall data at location $i$ on day $j$.\n",
    "- Finances: $A_{ij}$ is the return of asset $i$ in period $j$.\n",
    "\n",
    "$\\color{#047C91}{\\text{Exercise}}$: In each of these, what do the rows and columns mean?"
   ]
  },
  {
   "cell_type": "markdown",
   "metadata": {
    "slideshow": {
     "slide_type": "slide"
    }
   },
   "source": [
    "### Special Matrices\n",
    "\n",
    "$\\color{#EF5645}{\\text{Definition}}$: The $m \\times n$ _zero matrix_ (resp. _ones-matrix_) is the matrix with all entries equal to $0$ (resp. to $1$).\n",
    "\n",
    "$\\color{#EF5645}{\\text{Definition}}$: The _identity matrix_ $I$ is the square matrix with $I_{ii} = 1$ and $I_{ij} = 0$ if $i\\neq j$, for example:\n",
    "$$\\begin{vmatrix}\n",
    "1 & 0 \\\\\n",
    "0 & 1 \n",
    "\\end{vmatrix}.$$"
   ]
  },
  {
   "cell_type": "markdown",
   "metadata": {
    "slideshow": {
     "slide_type": "slide"
    }
   },
   "source": [
    "$\\color{#003660}{\\text{In Python}}$:"
   ]
  },
  {
   "cell_type": "code",
   "execution_count": 17,
   "metadata": {},
   "outputs": [
    {
     "name": "stdout",
     "output_type": "stream",
     "text": [
      "[[0. 0. 0.]\n",
      " [0. 0. 0.]]\n",
      "[[1. 1. 1. 1.]\n",
      " [1. 1. 1. 1.]]\n"
     ]
    },
    {
     "data": {
      "text/plain": [
       "array([[1., 0., 0., 0.],\n",
       "       [0., 1., 0., 0.],\n",
       "       [0., 0., 1., 0.],\n",
       "       [0., 0., 0., 1.]])"
      ]
     },
     "execution_count": 17,
     "metadata": {},
     "output_type": "execute_result"
    }
   ],
   "source": [
    "zero_mat = np.zeros((2, 3)); print(zero_mat) # 2 x 3\n",
    "ones_mat = np.ones((2, 4)); print(ones_mat) #2 x 4\n",
    "identity_mat = np.identity(4); identity_mat"
   ]
  },
  {
   "cell_type": "markdown",
   "metadata": {
    "slideshow": {
     "slide_type": "slide"
    }
   },
   "source": [
    "### Diagonal Matrices\n",
    "\n",
    "$\\color{#EF5645}{\\text{Definition}}$: A _diagonal matrix_ $A$ is a square matrix with $A_{ij} = 0$ for $i \\neq j$.\n",
    "- diag$(a_1, ..., a_n)$ denotes the diagonal matrix with $A_{ii} = a_i$:\n",
    "$$\\text{diag}(0.2, -3, 1.2) = \\begin{vmatrix}\n",
    "0.2 & 0 & 0 \\\\\n",
    "0 & -3 & 0 \\\\\n",
    "0 & 0 & 1.2\n",
    "\\end{vmatrix}$$"
   ]
  },
  {
   "cell_type": "markdown",
   "metadata": {
    "slideshow": {
     "slide_type": "slide"
    }
   },
   "source": [
    "$\\color{#003660}{\\text{In Python}}$, we use `np.diag` to create a diagonal matrix from a vector $a$."
   ]
  },
  {
   "cell_type": "code",
   "execution_count": 19,
   "metadata": {},
   "outputs": [
    {
     "data": {
      "text/plain": [
       "array([[2.2, 0. , 0. ],\n",
       "       [0. , 3.3, 0. ],\n",
       "       [0. , 0. , 4.4]])"
      ]
     },
     "execution_count": 19,
     "metadata": {},
     "output_type": "execute_result"
    }
   ],
   "source": [
    "np.diag(np.array([2.2, 3.3, 4.4]))"
   ]
  },
  {
   "cell_type": "markdown",
   "metadata": {
    "slideshow": {
     "slide_type": "slide"
    }
   },
   "source": [
    "### Triangular Matrices\n",
    "\n",
    "$\\color{#EF5645}{\\text{Definition}}$: \n",
    "- A _lower triangular matrix_ $A$ is a matrix such that $A_{ij} = 0$ for $i < j$. \n",
    "- An _upper triangular matrix_ $A$ is a matrix such that $A_{ij} = 0$ for $i > j$.\n",
    "\n",
    "$\\color{#047C91}{\\text{Example}}$:\n",
    "$\\begin{vmatrix}0.2 & 1.2 & 10 \\\\0 & -3 & 0 \\\\0 & 0 & 1.2\\end{vmatrix}$ (upper-triangular)."
   ]
  },
  {
   "cell_type": "markdown",
   "metadata": {
    "slideshow": {
     "slide_type": "slide"
    }
   },
   "source": [
    "##### Outline: 06 Matrices\n",
    "\n",
    "- [First Definitions](#sec-matrices)\n",
    "- **[Basic operations, norms and distances](#matvec)**\n",
    "- [Matrix-vector multiplication](#matvec)\n",
    "- [Examples](#examples)"
   ]
  },
  {
   "cell_type": "markdown",
   "metadata": {
    "slideshow": {
     "slide_type": "slide"
    }
   },
   "source": [
    "### Transpose\n",
    "\n",
    "$\\color{#EF5645}{\\text{Definition}}$: The _transpose of an $m \\times n$ matrix_ $A$ is a $n \\times m$ matrix, written $A^T$, and is defined by:\n",
    "$$ (A^T)_{ij} = A_{ji}, \\quad i = 1,..., n \\quad j=1,...,m$$\n",
    "\n",
    "$\\color{#047C91}{\\text{Example}}$: $\\begin{vmatrix}\n",
    "0.2 & 1.2 & 10 \\\\\n",
    "0 & -3 & 0\n",
    "\\end{vmatrix}^T = \\begin{vmatrix}\n",
    "0.2 & 0 \\\\\n",
    "1.2 & -3 \\\\\n",
    "10 & 0\n",
    "\\end{vmatrix}$"
   ]
  },
  {
   "cell_type": "markdown",
   "metadata": {
    "slideshow": {
     "slide_type": "slide"
    }
   },
   "source": [
    "$\\color{#003660}{\\text{In Python}}$:"
   ]
  },
  {
   "cell_type": "code",
   "execution_count": 23,
   "metadata": {},
   "outputs": [
    {
     "name": "stdout",
     "output_type": "stream",
     "text": [
      "[[0.3 1.  0. ]\n",
      " [1.  1.  0.7]\n",
      " [0.  1.  0. ]]\n",
      "[[0.3 1.  0. ]\n",
      " [1.  1.  1. ]\n",
      " [0.  0.7 0. ]]\n"
     ]
    },
    {
     "data": {
      "image/png": "[encoded data removed]",
      "text/plain": [
       "<Figure size 432x288 with 1 Axes>"
      ]
     },
     "metadata": {
      "needs_background": "light"
     },
     "output_type": "display_data"
    }
   ],
   "source": [
    "print(A); print(A.T); plt.imshow(A.T);"
   ]
  },
  {
   "cell_type": "markdown",
   "metadata": {
    "slideshow": {
     "slide_type": "slide"
    }
   },
   "source": [
    "$\\color{#6D7D33}{\\text{Property}}$: The transpose verifies:\n",
    "- $(A^T)^T = A$\n",
    "- $(A + B)^T = A^T + B^T$"
   ]
  },
  {
   "cell_type": "markdown",
   "metadata": {
    "slideshow": {
     "slide_type": "slide"
    }
   },
   "source": [
    "### Basic Operations\n",
    "\n",
    "Just like vectors:\n",
    "- we can add or subtract matrices of the same size,\n",
    "- we can multiply a matrix by a scalar."
   ]
  },
  {
   "cell_type": "code",
   "execution_count": 25,
   "metadata": {},
   "outputs": [
    {
     "name": "stdout",
     "output_type": "stream",
     "text": [
      "[[0.3 1.  0. ]\n",
      " [1.  1.  0.7]\n",
      " [0.  1.  0. ]]\n",
      "[[0.6 2.  0. ]\n",
      " [2.  2.  1.4]\n",
      " [0.  2.  0. ]]\n"
     ]
    }
   ],
   "source": [
    "print(A); print(2 * A)"
   ]
  },
  {
   "cell_type": "markdown",
   "metadata": {
    "slideshow": {
     "slide_type": "slide"
    }
   },
   "source": [
    "### Matrix Norm\n",
    "\n",
    "$\\color{#EF5645}{\\text{Definition}}$: For a $m \\times n$ matrix $A$, we define the _matrix norm_ as:\n",
    "\n",
    "<center>\n",
    "$||A|| = \\sqrt{\\sum_{i=1}^m \\sum_{j=1}^n A_{ij}^2}.$</center>\n",
    "\n",
    "$\\color{#EF5645}{\\text{Remark}}$: This definition agrees with the definition of norm of vectors when $n=1$ or $m=1$.\n",
    "\n",
    "$\\color{#047C91}{\\text{Exercise}}$: Compute the matrix norm of $A = \\begin{vmatrix}\n",
    "1 & 0 & -1\\\\\n",
    "0 & 1 & 1 \\end{vmatrix}.$"
   ]
  },
  {
   "cell_type": "markdown",
   "metadata": {
    "slideshow": {
     "slide_type": "slide"
    }
   },
   "source": [
    "$\\color{#003660}{\\text{In Python}}$, we use `np.linalg.norm`."
   ]
  },
  {
   "cell_type": "code",
   "execution_count": 27,
   "metadata": {},
   "outputs": [
    {
     "name": "stdout",
     "output_type": "stream",
     "text": [
      "2.0\n"
     ]
    }
   ],
   "source": [
    "import numpy as np\n",
    "\n",
    "A = np.array([\n",
    "    [1, 0, -1],\n",
    "    [0, 1, 1]\n",
    "])\n",
    "print(np.linalg.norm(A))"
   ]
  },
  {
   "cell_type": "markdown",
   "metadata": {
    "slideshow": {
     "slide_type": "slide"
    }
   },
   "source": [
    "### Distance between two matrices\n",
    "\n",
    "$\\color{#EF5645}{\\text{Definition}}$: The _distance_ between two matrices $A$ and $B$ is defined as:\n",
    "$$dist(A, B) = ||A - B||.$$\n",
    "\n",
    "$\\color{#EF5645}{\\text{Remark}}$: This means that the clustering algorithm, which only needs a notion of \"distance\", works on the matrices."
   ]
  },
  {
   "cell_type": "markdown",
   "metadata": {
    "slideshow": {
     "slide_type": "slide"
    }
   },
   "source": [
    "##### Outline: 06 Matrices\n",
    "\n",
    "- [First Definitions](#sec-matrices)\n",
    "- [Basic operations, norms and distances](#matvec)\n",
    "- **[Matrix-vector multiplication](#matvec)**\n",
    "- [Examples](#examples)"
   ]
  },
  {
   "cell_type": "markdown",
   "metadata": {
    "slideshow": {
     "slide_type": "slide"
    }
   },
   "source": [
    "### Matrix-vector multiplication\n",
    "\n",
    "$\\color{#EF5645}{\\text{Definition}}$: The _matrix-vector multiplication_ $y$ of $m\\times n$ matrix $A$ and $n$-vector $x$ is denoted $y = Ax$ and is defined as:\n",
    "$$y_i = A_{i1}x_1 + ... + A_{in}x_{n}, \\quad i=1,...,m$$"
   ]
  },
  {
   "cell_type": "markdown",
   "metadata": {
    "slideshow": {
     "slide_type": "slide"
    }
   },
   "source": [
    "$\\color{#047C91}{\\text{Exercise}}$: Let $I$ be the $n \\times n$ identity matrix and $x$ an $n$-vector. Compute $Ix$.\n",
    "\n",
    "$\\color{#047C91}{\\text{Exercise}}$: Let $0_n$ be the $n \\times n$ zeroes matrix and $x$ an $n$-vector. Compute $0_nx$."
   ]
  },
  {
   "cell_type": "markdown",
   "metadata": {
    "slideshow": {
     "slide_type": "slide"
    }
   },
   "source": [
    "$\\color{#047C91}{\\text{Exercise}}$: Compute the matrix-vector multiplication of:\n",
    "$$A = \\begin{vmatrix}\n",
    "0 & 2 & -1 \\\\\n",
    "-2 & 1 & 1 \\end{vmatrix}; \\quad v = \\begin{vmatrix}\n",
    "    2 \\\\\n",
    "    1 \\\\\n",
    "    -1\n",
    "    \\end{vmatrix}$$"
   ]
  },
  {
   "cell_type": "markdown",
   "metadata": {
    "slideshow": {
     "slide_type": "slide"
    }
   },
   "source": [
    "$\\color{#003660}{\\text{In Python}}$, we use `np.matmul` or the symbol `@`."
   ]
  },
  {
   "cell_type": "code",
   "execution_count": 28,
   "metadata": {},
   "outputs": [
    {
     "name": "stdout",
     "output_type": "stream",
     "text": [
      "[[ 1  0 -1]\n",
      " [ 0  1  1]]\n",
      "[1 2 3]\n",
      "[-2  5]\n",
      "[-2  5]\n"
     ]
    }
   ],
   "source": [
    "print(A)\n",
    "x = np.array([1, 2, 3]); print(x)\n",
    "\n",
    "print(np.matmul(A, x))\n",
    "print(A @ x)"
   ]
  },
  {
   "cell_type": "markdown",
   "metadata": {
    "slideshow": {
     "slide_type": "slide"
    }
   },
   "source": [
    "$\\color{#047C91}{\\text{Exercise}}$: Take $m\\times n$ matrix $A$, and one-hot vector $e_i$ for some $i$ in $1,..., m$. Compute $Ae_i$."
   ]
  },
  {
   "cell_type": "markdown",
   "metadata": {},
   "source": [
    "$\\color{#047C91}{\\text{Exercise}}$: Take $m\\times n$ matrix $A$, and ones vector $1_n$. Compute $A1_n$."
   ]
  },
  {
   "cell_type": "markdown",
   "metadata": {
    "slideshow": {
     "slide_type": "slide"
    }
   },
   "source": [
    "##### Outline: 06 Matrices\n",
    "\n",
    "- [First Definitions](#sec-matrices)\n",
    "- [Basic operations, norms and distances](#matvec)\n",
    "- [Matrix-vector multiplication](#matvec)\n",
    "- **[Examples](#examples)**"
   ]
  },
  {
   "cell_type": "markdown",
   "metadata": {
    "slideshow": {
     "slide_type": "slide"
    }
   },
   "source": [
    "### Math operations as matrices\n",
    "$\\color{#047C91}{\\text{Example}}$: The $(n-1) \\times n$ difference matrix:\n",
    "$$D = \\begin{vmatrix}\n",
    "-1 & 1  & 0 & ... & 0 & 0 \\\\\n",
    "0  & -1 & 1 & ... & 0 & 0 \\\\\n",
    "   &    &   &     &   &   \\\\\n",
    "0  & 0  & 0 & ... & -1 & 1\n",
    "\\end{vmatrix}$$\n",
    "gives the $(n-1)$ vector of differences:\n",
    "$Dx = \\begin{vmatrix}\n",
    "x_2 - x_1 \\\\\n",
    "x_3 - x_2 \\\\\n",
    "\\vdots \\\\\n",
    "x_n - x_{n-1}\n",
    "\\end{vmatrix}\n",
    "$"
   ]
  },
  {
   "cell_type": "markdown",
   "metadata": {
    "slideshow": {
     "slide_type": "slide"
    }
   },
   "source": [
    "$\\color{#003660}{\\text{In Python}}$, let be given a vector listing the days at which earthquakes have happened in California. Compute the vector giving the number of days in-between earthquakes."
   ]
  },
  {
   "cell_type": "code",
   "execution_count": 30,
   "metadata": {},
   "outputs": [
    {
     "name": "stdout",
     "output_type": "stream",
     "text": [
      "[32 34]\n",
      "33\n",
      "33\n"
     ]
    }
   ],
   "source": [
    "earthquake_days = np.array([12, 44, 78])\n",
    "D = np.array([\n",
    "    [-1, 1, 0],\n",
    "    [0, -1, 1]\n",
    "])\n",
    "\n",
    "print(D @ earthquake_days)\n",
    "print(45 - 12)\n",
    "print(78 - 45)"
   ]
  },
  {
   "cell_type": "markdown",
   "metadata": {
    "slideshow": {
     "slide_type": "slide"
    }
   },
   "source": [
    "### Geometric transformations as matrices"
   ]
  },
  {
   "cell_type": "markdown",
   "metadata": {
    "cell_style": "split"
   },
   "source": [
    "Geometric transformations can be represented as matrices. They transform vectors $x$ through: $y = Ax$.\n",
    "\n",
    "$\\color{#047C91}{\\text{Example}}$: Rotation by $\\theta$:\n",
    "$$R_\\theta = \\begin{vmatrix}\n",
    "\\cos(\\theta) & -\\sin(\\theta) \\\\\n",
    "\\sin(\\theta) & \\cos(\\theta)\\end{vmatrix}, \\quad y = R_\\theta x$$\n"
   ]
  },
  {
   "cell_type": "markdown",
   "metadata": {
    "cell_style": "split"
   },
   "source": [
    "<center><img src=\"figs/06_rotmat.png\" alt=\"default\"/></center>"
   ]
  },
  {
   "cell_type": "code",
   "execution_count": 39,
   "metadata": {
    "slideshow": {
     "slide_type": "slide"
    }
   },
   "outputs": [
    {
     "data": {
      "image/png": "[encoded data removed]",
      "text/plain": [
       "<Figure size 432x288 with 1 Axes>"
      ]
     },
     "metadata": {
      "needs_background": "light"
     },
     "output_type": "display_data"
    }
   ],
   "source": [
    "import matplotlib.pyplot as plt\n",
    "x = np.array([1, 1])\n",
    "plt.arrow(0, 0, x[0], x[1], width=0.01, color=\"blue\")\n",
    "theta = np.pi / 6\n",
    "R = np.array([\n",
    "    [np.cos(theta), - np.sin(theta)], \n",
    "    [np.sin(theta), np.cos(theta)]])\n",
    "y = R @ x; \n",
    "plt.arrow(0, 0, y[0], y[1], width=0.01, color=\"red\"); \n",
    "plt.axis(\"equal\");"
   ]
  },
  {
   "cell_type": "markdown",
   "metadata": {
    "slideshow": {
     "slide_type": "slide"
    }
   },
   "source": [
    "### (Social) graphs as matrices"
   ]
  },
  {
   "cell_type": "markdown",
   "metadata": {
    "cell_style": "split"
   },
   "source": [
    "Any (social network) graph with $n$ nodes can be represented by $n \\times n$ matrix $A$, called adjacency matrix and defined as\n",
    "\n",
    "$A_{ij} = \\begin{vmatrix}\n",
    "    1 \\quad \\text{if $i$ goes to $j$}\\\\\n",
    "    0 \\quad \\text{otherwise}\n",
    "\\end{vmatrix}.$"
   ]
  },
  {
   "cell_type": "markdown",
   "metadata": {
    "cell_style": "split"
   },
   "source": [
    "<center><img src=\"figs/06_graph.png\" alt=\"default\" width=350px /></center>"
   ]
  },
  {
   "cell_type": "markdown",
   "metadata": {},
   "source": [
    "$\\color{#047C91}{\\text{Exercise}}$: Compute the adjacency matrix associated to this graph."
   ]
  },
  {
   "cell_type": "markdown",
   "metadata": {
    "slideshow": {
     "slide_type": "slide"
    }
   },
   "source": [
    "### Deep Learning\n",
    "\n",
    "<center><img src=\"figs/01_nn.png\" alt=\"default\"/></center>"
   ]
  },
  {
   "cell_type": "markdown",
   "metadata": {
    "slideshow": {
     "slide_type": "slide"
    }
   },
   "source": [
    "By writing $a^{(1)}$ the vector of the first layer, and $a^{(2)}$ the vector of the second layer, we see that:\n",
    "$$a^{(2)} = Wa^{(1)},$$\n",
    "where $W_{ij}$ is the weight on the edge going from the $j$th element of the first layer $a^{(1)}_j$ to the $i$th element of the second layer $a^{(2)}_i$."
   ]
  },
  {
   "cell_type": "markdown",
   "metadata": {
    "slideshow": {
     "slide_type": "slide"
    }
   },
   "source": [
    "$\\color{#003660}{\\text{In Python}}$, we can implement the layer of a neural network."
   ]
  },
  {
   "cell_type": "code",
   "execution_count": 40,
   "metadata": {},
   "outputs": [],
   "source": [
    "def simple_nn(input_x, weights):\n",
    "    return weights @ input_x"
   ]
  },
  {
   "cell_type": "markdown",
   "metadata": {
    "slideshow": {
     "slide_type": "slide"
    }
   },
   "source": [
    "##### Outline: 06 Matrices\n",
    "\n",
    "- [First Definitions](#sec-matrices)\n",
    "- [Basic operations, norms and distances](#matvec)\n",
    "- [Matrix-vector multiplication](#matvec)\n",
    "- [Examples](#examples)\n",
    "\n",
    "Resources: Textbook Ch. 6, 7."
   ]
  }
 ],
 "metadata": {
  "celltoolbar": "Slideshow",
  "kernelspec": {
   "display_name": "Python 3 (ipykernel)",
   "language": "python",
   "name": "python3"
  },
  "language_info": {
   "codemirror_mode": {
    "name": "ipython",
    "version": 3
   },
   "file_extension": ".py",
   "mimetype": "text/x-python",
   "name": "python",
   "nbconvert_exporter": "python",
   "pygments_lexer": "ipython3",
   "version": "3.9.9"
  }
 },
 "nbformat": 4,
 "nbformat_minor": 2
}
