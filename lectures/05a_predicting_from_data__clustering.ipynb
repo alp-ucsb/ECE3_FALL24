{
 "cells": [
  {
   "cell_type": "markdown",
   "id": "eb30ebf8",
   "metadata": {
    "id": "eb30ebf8",
    "slideshow": {
     "slide_type": "slide"
    }
   },
   "source": [
    "# 04 Predicting from Data: Machine Learning "
   ]
  },
  {
   "cell_type": "markdown",
   "id": "2f73eead",
   "metadata": {
    "cell_style": "split",
    "id": "2fcc5e35"
   },
   "source": [
    "<center><img src=\"figs/04_clustering.jpg\" alt=\"default\" width=650px/></center>\n"
   ]
  },
  {
   "cell_type": "markdown",
   "id": "ef91249e",
   "metadata": {
    "cell_style": "split"
   },
   "source": [
    "<center><img src=\"figs/04_mnist.png\" alt=\"default\" width=450px/></center>\n"
   ]
  },
  {
   "cell_type": "markdown",
   "id": "9abf7f98",
   "metadata": {
    "id": "9abf7f98",
    "slideshow": {
     "slide_type": "slide"
    }
   },
   "source": [
    "#### Unit 1: Vectors, Textbook Ch. 1-5\n",
    "- 01 Vectors\n",
    "- 02 Linear Functions\n",
    "- 03 Norms and Distances\n",
    "- **_04 Clustering_**\n",
    "- 05 Linear Independence\n",
    "\n",
    "#### Unit 2: Matrices, Textbook Ch. 6-11\n",
    "#### Unit 3: Least Squares, Textbook Ch. 12-14"
   ]
  },
  {
   "cell_type": "markdown",
   "id": "c8e17d04",
   "metadata": {
    "id": "0156bdcf",
    "slideshow": {
     "slide_type": "slide"
    }
   },
   "source": [
    "##### Outline: 04 Clustering\n",
    "\n",
    "- [Overview of Machine Learning](#Clustering)\n",
    "- [Clustering](#Clustering)\n",
    "- [K-means Algorithm](#Algorithm)\n",
    "- [Applications](#Applications)"
   ]
  },
  {
   "cell_type": "markdown",
   "id": "f46caded",
   "metadata": {
    "slideshow": {
     "slide_type": "slide"
    }
   },
   "source": [
    "##### Outline: 04 Clustering\n",
    "\n",
    "- **[Overview of Machine Learning](#Clustering)**\n",
    "- [Clustering](#Clustering)\n",
    "- [K-means Algorithm](#Algorithm)\n",
    "- [Applications](#Applications)"
   ]
  },
  {
   "cell_type": "markdown",
   "id": "4968a12d",
   "metadata": {
    "slideshow": {
     "slide_type": "slide"
    }
   },
   "source": [
    "$\\color{#EF5645}{\\text{Recall}}$:\n",
    "- In **02 Linear functions**:\n",
    "  - We predicted the price of a house:\n",
    "    - quantitative prediction.\n",
    "- In **03 Norms and Distances**:\n",
    "  - We predicted if a subject was schizophrenic:\n",
    "    - categorical prediction: yes/no.\n",
    "    \n",
    "We say that we performed _regression_ and _classification_."
   ]
  },
  {
   "cell_type": "markdown",
   "id": "d333ccb6",
   "metadata": {
    "slideshow": {
     "slide_type": "slide"
    }
   },
   "source": [
    "_Regression_ and _classification_ are examples of ML methods.\n",
    "\n",
    "<center>  </center>\n",
    "<center><img src=\"figs/04_ai.png\" alt=\"default\" width=1800px/></center>\n",
    "\n",
    "Today, we see another method: _clustering_."
   ]
  },
  {
   "cell_type": "markdown",
   "id": "bc571884",
   "metadata": {
    "slideshow": {
     "slide_type": "slide"
    }
   },
   "source": [
    "##### Outline: 04 Clustering\n",
    "\n",
    "- [Overview of Machine Learning](#Clustering)\n",
    "- **[Clustering](#Clustering)**\n",
    "- [K-means Algorithm](#Algorithm)\n",
    "- [Applications](#Applications)"
   ]
  },
  {
   "cell_type": "markdown",
   "id": "59d47f0a",
   "metadata": {
    "slideshow": {
     "slide_type": "slide"
    }
   },
   "source": [
    "### Clustering: Goal (Intuition)\n",
    "- Given: (i) $N$ $n$-vectors $x_1, . . . , x_N$, (ii) integer $k$.\n",
    "- $\\color{#EF5645}{\\text{Goal}}$:\n",
    "  - Group/Cluster $N$ $n$-vectors into $k$ groups/clusters\n",
    "  - _such that_: vectors in the same group are \"close\".\n",
    "\n",
    "<center><img src=\"figs/04_clustering.jpg\" alt=\"default\" width=380px/></center>\n",
    "\n",
    "$\\color{#047C91}{\\text{Exercise}}$: What is $k$ in the figure above? $n$? $N$?\n",
    "\n"
   ]
  },
  {
   "cell_type": "markdown",
   "id": "f683ba37",
   "metadata": {
    "slideshow": {
     "slide_type": "slide"
    }
   },
   "source": [
    "### Clustering in ECE\n",
    "\n",
    "- patient clustering \n",
    "  - $x_i$ are test results, symptoms of patient $i$\n",
    "- customer market \"segmentation\" (clustering)\n",
    "  - $x_i$ is purchase history of customer $i$ \n",
    "- financial sectors clustering\n",
    "  - $x_i$ are financial attributes of company $i$\n"
   ]
  },
  {
   "cell_type": "markdown",
   "id": "9f066ce9",
   "metadata": {
    "cell_style": "center",
    "slideshow": {
     "slide_type": "slide"
    }
   },
   "source": [
    "### Clustering: Goal (Math)\n",
    "- For each group/cluster $j=1, ..., k$: \n",
    "  - Group $G_j$: Set of indices in $1, ..., N$ (data points)\n",
    "  - Representative $z_j$: typical element of $G_j$.\n",
    "- For each data point $i=1,...,N$: \n",
    "  - Assignment $c_i$: $x_i$ is in $G_{c_i}$\n",
    "\n",
    "$\\color{#EF5645}{\\text{Goal}}$: Find $c_i$, $z_j$ to minimize \n",
    "$J = \\frac{1}{N}\\sum_{i=1}^N ||x_i - z_{c_i}||^2$\n",
    ", i.e. the mean square distance from vectors to their representatives.\n"
   ]
  },
  {
   "cell_type": "markdown",
   "id": "e72aea0d",
   "metadata": {
    "slideshow": {
     "slide_type": "slide"
    }
   },
   "source": [
    "##### Outline: 04 Clustering\n",
    "\n",
    "- [Overview of Machine Learning](#Clustering)\n",
    "- [Clustering](#Clustering)\n",
    "- **[K-means Algorithm](#Algorithm)**\n",
    "- [Applications](#Applications)"
   ]
  },
  {
   "cell_type": "markdown",
   "id": "129b580e",
   "metadata": {
    "slideshow": {
     "slide_type": "slide"
    }
   },
   "source": [
    "### K-means algorithm\n",
    "\n",
    "\n",
    "- Alternate between:\n",
    "  - (i) update groups, i.e assignments $c_1, ..., c_N$, \n",
    "  - (ii) update representatives $z_1, ..., z_k$.\n",
    "  \n",
    "- Such that the objective $J$ decreases at each step."
   ]
  },
  {
   "cell_type": "markdown",
   "id": "af78b997",
   "metadata": {
    "slideshow": {
     "slide_type": "slide"
    }
   },
   "source": [
    "<center><img src=\"figs/04_it0.png\" alt=\"default\"/></center>"
   ]
  },
  {
   "cell_type": "markdown",
   "id": "048766d7",
   "metadata": {
    "slideshow": {
     "slide_type": "slide"
    }
   },
   "source": [
    "<center><img src=\"figs/04_it1.png\" alt=\"default\"/></center>"
   ]
  },
  {
   "cell_type": "markdown",
   "id": "1876820c",
   "metadata": {
    "slideshow": {
     "slide_type": "slide"
    }
   },
   "source": [
    "<center><img src=\"figs/04_it2.png\" alt=\"default\"/></center>"
   ]
  },
  {
   "cell_type": "markdown",
   "id": "64654db9",
   "metadata": {
    "slideshow": {
     "slide_type": "slide"
    }
   },
   "source": [
    "<center><img src=\"figs/04_it3.png\" alt=\"default\"/></center>"
   ]
  },
  {
   "cell_type": "markdown",
   "id": "d025d80f",
   "metadata": {
    "slideshow": {
     "slide_type": "slide"
    }
   },
   "source": [
    "<center><img src=\"figs/04_it5.png\" alt=\"default\"/></center>"
   ]
  },
  {
   "cell_type": "markdown",
   "id": "6b3596a2",
   "metadata": {
    "slideshow": {
     "slide_type": "slide"
    }
   },
   "source": [
    "### (i) Update the groups\n",
    "\n",
    "- Given: representatives $z_1, ..., z_k$\n",
    "- $\\color{#EF5645}{\\text{Goal for (i)}}$: Assign to groups, i.e. choose $c_1, ..., c_N$\n",
    "  - Assign each $x_i$ to its nearest representative. Justification:\n",
    "    - Observe: \n",
    "      - $c_i$ only appears in $||x_i - z_{c_i}||^2$ in $J$\n",
    "    - Conclude: to minimize over $c_i$, choose $c_i$ so $‖x_i − z_{c_i} ‖^2 = min_{j \\in \\{1, ..., k\\}} ‖x_i − z_j ‖^2$.\n"
   ]
  },
  {
   "cell_type": "markdown",
   "id": "54df2da4",
   "metadata": {
    "slideshow": {
     "slide_type": "slide"
    }
   },
   "source": [
    "### (ii) Update the representatives\n",
    "\n",
    "- Given the partition $G_1, . . . , G_k$\n",
    "- $\\color{#EF5645}{\\text{Goal for (ii)}}$: Choose representatives $z_1, . . . , z_k$\n",
    "  - Choose $z_j$ = mean of the points in group $j$. Justification:\n",
    "    - Observe: $J$ splits as $J = J_1 + · · · + J_k$ with:\n",
    "$$J_j = \\frac{1}{N} \\sum_{i \\in G_j} ‖x_i − z_j ‖^2$$\n",
    "    - Conclude: Choose $z_j$ to minimize its $J_j$: $z_j = \\frac{1}{|G_j|} \\sum_{i \\in G_j} x_i$ = mean/center/centroid.\n",
    "\n"
   ]
  },
  {
   "cell_type": "markdown",
   "id": "62b40f4a",
   "metadata": {
    "slideshow": {
     "slide_type": "slide"
    }
   },
   "source": [
    "### Convergence of K-means\n",
    "\n",
    "- How many times do we iterate these steps?\n",
    "  - Until the $z_j$’s stop changing: \n",
    "    - = \"convergence\" of the algorithm."
   ]
  },
  {
   "cell_type": "markdown",
   "id": "2374fec2",
   "metadata": {
    "slideshow": {
     "slide_type": "slide"
    }
   },
   "source": [
    "# Pseudo-code"
   ]
  },
  {
   "cell_type": "markdown",
   "id": "6ef64ff3",
   "metadata": {},
   "source": [
    "\n",
    "\n",
    "<center><img src=\"figs/04_kmeans.jpg\" alt=\"default\"/></center>\n"
   ]
  },
  {
   "cell_type": "markdown",
   "id": "5b05cfa9",
   "metadata": {
    "slideshow": {
     "slide_type": "slide"
    }
   },
   "source": [
    "<center><img src=\"figs/04_conv.png\" alt=\"default\"/></center>"
   ]
  },
  {
   "cell_type": "markdown",
   "id": "9613e10c",
   "metadata": {
    "slideshow": {
     "slide_type": "slide"
    }
   },
   "source": [
    "- $\\color{#EF5645}{\\text{Remarks}}$:\n",
    "  - $J$ decreases at each step, \n",
    "  - but final clustering might not minimize $J$\n",
    "    - it might only be a _local_ minimum.\n",
    "    \n",
    "- $\\color{#EF5645}{\\text{Recommendation}}$:\n",
    "  - Run $k$-means 10 times, with different initial representatives\n",
    "  - Take as final partition the one with smallest $J$"
   ]
  },
  {
   "cell_type": "markdown",
   "id": "30a287b8",
   "metadata": {
    "slideshow": {
     "slide_type": "slide"
    }
   },
   "source": [
    "##### Outline: 04 Clustering\n",
    "\n",
    "- [Overview of Machine Learning](#Clustering)\n",
    "- [Clustering](#Clustering)\n",
    "- [K-means Algorithm](#Algorithm)\n",
    "- **[Applications](#Applications)**"
   ]
  },
  {
   "cell_type": "markdown",
   "id": "2c029e55",
   "metadata": {
    "slideshow": {
     "slide_type": "slide"
    }
   },
   "source": [
    "### MNIST Dataset: Find Digits\n",
    "\n",
    "- MNIST images of handwritten digits (via Yann Lecun) \n",
    "- $60k$ images of size 28 × 28, reshaped as 784-vectors $x_i$\n",
    "\n",
    "<center><img src=\"figs/04_mnist.png\" alt=\"default\" width=250px/></center>\n",
    "\n",
    "- $\\color{#EF5645}{\\text{Goal}}$: Group these images into groups of same digit.\n",
    "- $\\color{#047C91}{\\text{Exercice}}$: What are $k, N, n$?\n",
    "- Implement it practice? Will be in your next homework!"
   ]
  },
  {
   "cell_type": "markdown",
   "id": "cd9ddce8",
   "metadata": {
    "slideshow": {
     "slide_type": "slide"
    }
   },
   "source": [
    "##### Outline: 04 Clustering\n",
    "\n",
    "- [Overview of Machine Learning](#Clustering)\n",
    "- [Clustering](#Clustering)\n",
    "- [K-means Algorithm](#Algorithm)\n",
    "- [Applications](#Applications)\n",
    "\n",
    "Resources: Textbook, Ch. 4"
   ]
  }
 ],
 "metadata": {
  "celltoolbar": "Slideshow",
  "colab": {
   "name": "lec04_clustering.ipynb",
   "provenance": []
  },
  "kernelspec": {
   "display_name": "Python 3 (ipykernel)",
   "language": "python",
   "name": "python3"
  },
  "language_info": {
   "codemirror_mode": {
    "name": "ipython",
    "version": 3
   },
   "file_extension": ".py",
   "mimetype": "text/x-python",
   "name": "python",
   "nbconvert_exporter": "python",
   "pygments_lexer": "ipython3",
   "version": "3.9.9"
  }
 },
 "nbformat": 4,
 "nbformat_minor": 5
}
