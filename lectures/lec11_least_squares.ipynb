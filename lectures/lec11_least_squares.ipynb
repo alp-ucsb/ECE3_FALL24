{
 "cells": [
  {
   "cell_type": "markdown",
   "id": "483a5328",
   "metadata": {
    "slideshow": {
     "slide_type": "slide"
    }
   },
   "source": [
    "# 11 Least Squares\n"
   ]
  },
  {
   "cell_type": "markdown",
   "id": "8edbb83f",
   "metadata": {
    "cell_style": "center"
   },
   "source": [
    "<center><img src=\"figs/11_analytica.jpeg\" width=750px alt=\"default\"/></center>\n"
   ]
  },
  {
   "cell_type": "markdown",
   "id": "390cae36",
   "metadata": {
    "slideshow": {
     "slide_type": "slide"
    }
   },
   "source": [
    "#### Unit 1: Vectors, Textbook Ch. 1-5\n",
    "\n",
    "#### Unit 2: Matrices, Textbook Ch. 6-11\n",
    "\n",
    "#### Unit 3: Least Squares, Textbook Ch. 12-14\n",
    "- _**11 Least Squares**_\n",
    "- 12 Least Squares Data Fitting"
   ]
  },
  {
   "cell_type": "markdown",
   "id": "4987a2d8",
   "metadata": {
    "slideshow": {
     "slide_type": "slide"
    }
   },
   "source": [
    "##### Outline: 11 Least Squares\n",
    "\n",
    "- [Least Square Problem](#sec)\n",
    "- [Solution of Least Square Problem](#sec)\n",
    "- [Example: Cambridge Analytica](#sec)"
   ]
  },
  {
   "cell_type": "markdown",
   "id": "3248e44a",
   "metadata": {
    "slideshow": {
     "slide_type": "slide"
    }
   },
   "source": [
    "### Least Squares Problem"
   ]
  },
  {
   "cell_type": "markdown",
   "id": "44efa1e0",
   "metadata": {},
   "source": [
    "$\\color{#EF5645}{\\text{Definition}}$: Let be given a $m \\times n$ matrix $A$ and $m$-vector $b$. The least squares problem is the problem of choosing an $n$-vector $x$ to minimize: \n",
    "$$\\text{Obj}(x) = ‖Ax − b‖^2.$$\n",
    "\n",
    "- $‖Ax − b‖^2$ is called the objective function $\\text{Obj}$.\n"
   ]
  },
  {
   "cell_type": "markdown",
   "id": "e37a8821",
   "metadata": {
    "slideshow": {
     "slide_type": "slide"
    }
   },
   "source": [
    "$\\color{#6D7D33}{\\text{Properties}}$:\n",
    "- If $x^*$ is a solution of $Ax = b$, then $x^*$ is a solution of the least square problem. \n",
    "- The following is **not** true: if $x^*$ is a solution of the least square problem, then $x^*$ is the solution of $Ax=b$.\n",
    "- $x^*$ is a solution of least squares problem if $‖A x^* − b‖^2 ≤ ‖Ax − b‖^2$ for any other $n$-vector $x$."
   ]
  },
  {
   "cell_type": "markdown",
   "id": "a9c74618",
   "metadata": {
    "slideshow": {
     "slide_type": "slide"
    }
   },
   "source": [
    "$\\color{#047C91}{\\text{Exercise}}$: Consider the matrix $A$ and vector $b$ as:\n",
    "\n",
    "<center><img src=\"figs/lec11_Ab.png\" width=400px alt=\"default\"/></center>\n",
    "\n",
    "Write the objective function associated to the least square problem defined by $A$ and $b$ in terms of entries of $x$."
   ]
  },
  {
   "cell_type": "code",
   "execution_count": 2,
   "id": "296a7348",
   "metadata": {
    "slideshow": {
     "slide_type": "slide"
    }
   },
   "outputs": [
    {
     "data": {
      "image/png": "[encoded data removed]",
      "text/plain": [
       "<Figure size 432x288 with 2 Axes>"
      ]
     },
     "metadata": {
      "needs_background": "light"
     },
     "output_type": "display_data"
    }
   ],
   "source": [
    "# No need to understand this code\n",
    "import numpy as np; import matplotlib.pyplot as plt\n",
    "objective = lambda x : (2 * x[0] - 1) ** 2 + (- x[0] + x[1]) ** 2 + (2 * x[1] + 1) ** 2\n",
    "n_points, xmin, xmax, ymin, ymax = 20, -2, 2, -2, 2\n",
    "x = np.arange(xmin, xmax, (xmax-xmin)/(n_points)); y = np.arange(ymin, ymax, (ymax-ymin)/(n_points)); xx = np.dstack(np.meshgrid(x, y)); Z = np.zeros((n_points, n_points))\n",
    "for i in range(n_points):\n",
    "    for j in range(n_points):\n",
    "        Z[i, j] = objective(xx[i, j])\n",
    "plt.imshow(Z, extent=[xmin, xmax, ymin, ymax]); plt.colorbar(); plt.xlabel(\"x1\"); plt.ylabel(\"x2\"); plt.title(\"Objective ||Ax - b||^2\");"
   ]
  },
  {
   "cell_type": "markdown",
   "id": "820d8f78",
   "metadata": {
    "slideshow": {
     "slide_type": "slide"
    }
   },
   "source": [
    "##### Outline: 11 Least Squares\n",
    "\n",
    "- [Least Square Problem](#sec)\n",
    "- **[Solution of Least Square Problem](#sec)**\n",
    "- [Examples](#sec)"
   ]
  },
  {
   "cell_type": "markdown",
   "id": "9fcd3183",
   "metadata": {
    "slideshow": {
     "slide_type": "slide"
    }
   },
   "source": [
    "### Least Square Solution\n",
    "\n",
    "$\\color{#EF5645}{\\text{Proposition}}$: \n",
    "- Consider a least square problem $||Ax - b||^2$ for matrix $A$ and vector $b$. \n",
    "- Assume that $A$ has linearly independent columns. \n",
    "\n",
    "Then, there is a unique solution $x^*$ defined as:\n",
    "$$x^* = (A^T A)^{-1} A^Tb = A^\\dagger b.$$\n",
    "where $A^\\dagger = (A^T A)^{-1} A^T$ is called the pseudo-inverse of $A$."
   ]
  },
  {
   "cell_type": "markdown",
   "id": "be01f1b8",
   "metadata": {
    "slideshow": {
     "slide_type": "slide"
    }
   },
   "source": [
    "$\\color{#047C91}{\\text{Exercise}}$ (hard, optional): Using the fact that: \n",
    "$$||a + b ||^2 = ||a||^2 + ||b||^2 + 2 a^Tb,$$\n",
    "prove that $\\hat x$ defined in the previous slide is a solution. \n",
    "- Hint: Show that for any other $n$-vector $x$, we have: \n",
    "$$‖A  x − b‖^2 \\geq ‖A \\hat x − b‖^2.$$ \n",
    "- Hint 2: You will need to show that $A^T(A\\hat{x} - b) = 0$."
   ]
  },
  {
   "cell_type": "markdown",
   "id": "b23f0e06",
   "metadata": {
    "slideshow": {
     "slide_type": "slide"
    }
   },
   "source": [
    "$\\color{#003660}{\\text{In Python}}$, we use either:\n",
    "-  `np.linalg.lstsq`: returns the solution as the first element of the returned tuple\n",
    "- or formula of solution using transpose `.T`,  `np.linalg.inv` and `@`."
   ]
  },
  {
   "cell_type": "code",
   "execution_count": 6,
   "id": "efc65722",
   "metadata": {},
   "outputs": [
    {
     "name": "stdout",
     "output_type": "stream",
     "text": [
      "[ 0.33333333 -0.33333333]\n"
     ]
    }
   ],
   "source": [
    "import numpy as np\n",
    "A = np.array([[2, 0], [-1, 1], [0, 2]]); b = np.array([1, 0, -1]); \n",
    "#x_star = np.linalg.lstsq(A, b)[0]; print(x_star)\n",
    "x_star_2 = np.linalg.inv(A.T @ A) @ A.T @ b; print(x_star_2)"
   ]
  },
  {
   "cell_type": "markdown",
   "id": "0d6108ff",
   "metadata": {
    "slideshow": {
     "slide_type": "slide"
    }
   },
   "source": [
    "##### Outline: 11 Least Squares\n",
    "\n",
    "- [Least Square Problem](#sec)\n",
    "- [Solution of Least Square Problem](#sec)\n",
    "- **[Example](#sec)**"
   ]
  },
  {
   "cell_type": "markdown",
   "id": "82872f9e",
   "metadata": {
    "slideshow": {
     "slide_type": "slide"
    }
   },
   "source": [
    "### Political Advertising\n",
    "\n",
    "<center><img src=\"figs/11_analytica.jpeg\" alt=\"default\"/></center>"
   ]
  },
  {
   "cell_type": "markdown",
   "id": "edfbdd05",
   "metadata": {
    "slideshow": {
     "slide_type": "slide"
    }
   },
   "source": [
    "### Example: Political Advertising\n",
    "\n",
    "- A company wants to advertize to potential voters.\n",
    "    - $m$ demographics groups, $n$ advertising channels\n",
    "    - $v^{target}$ is $m$-vector of target views (\"impressions\") per group\n",
    "    - $s$ is $n$-vector of spending per channel\n",
    "    - $R$ is $m \\times n$ matrix of demographic reach of channels: \n",
    "      - $R_{ij}$ is number of views per dollar spent (in 1000/\\$) \n",
    "  \n",
    "  Formulate as a least square problem:\n",
    "    How much should be spent to reach $v^{target}$?"
   ]
  },
  {
   "cell_type": "markdown",
   "id": "e6685a3e",
   "metadata": {
    "slideshow": {
     "slide_type": "slide"
    }
   },
   "source": [
    "$\\color{#047C91}{\\text{Example}}$: Solve the least square problem for the following data:\n",
    "- $m = 10$ groups and $n=3$ channels,\n",
    "- $v^{target} = 1000 . 1_m$,\n",
    "using Python. We assume that the columns of R are linearly independent.\n",
    "\n",
    "<center><img src=\"figs/11_advertising.png\" width=400px alt=\"default\"/></center>"
   ]
  },
  {
   "cell_type": "code",
   "execution_count": 5,
   "id": "93bee681",
   "metadata": {
    "slideshow": {
     "slide_type": "slide"
    }
   },
   "outputs": [
    {
     "data": {
      "text/plain": [
       "'Your code here.'"
      ]
     },
     "execution_count": 5,
     "metadata": {},
     "output_type": "execute_result"
    }
   ],
   "source": [
    "import numpy as np\n",
    "\n",
    "R = np.array([\n",
    "    [0.97, 1.86, 0.41],\n",
    "    [1.23, 2.18, 0.53],\n",
    "    [0.8, 1.24, 0.62],\n",
    "    [1.29, 0.98, 0.51],\n",
    "    [1.1, 1.23, 0.69],\n",
    "    [0.67, 0.34, 0.54],\n",
    "    [0.87, 0.26, 0.62],\n",
    "    [1.1, 0.16, 0.48],\n",
    "    [1.92, 0.22, 0.71],\n",
    "    [1.29, 0.12, 0.62]\n",
    "])\n",
    "\n",
    "\"\"\"Your code here.\"\"\""
   ]
  },
  {
   "cell_type": "markdown",
   "id": "f5efc59b",
   "metadata": {
    "slideshow": {
     "slide_type": "slide"
    }
   },
   "source": [
    "##### Outline: 11 Least Squares\n",
    "\n",
    "- [Least Square Problem](#sec)\n",
    "- [Solution of Least Square Problem](#sec)\n",
    "- [Example](#sec)\n",
    "\n",
    "Resources: Textbook Ch. 11"
   ]
  }
 ],
 "metadata": {
  "celltoolbar": "Slideshow",
  "kernelspec": {
   "display_name": "Python 3 (ipykernel)",
   "language": "python",
   "name": "python3"
  },
  "language_info": {
   "codemirror_mode": {
    "name": "ipython",
    "version": 3
   },
   "file_extension": ".py",
   "mimetype": "text/x-python",
   "name": "python",
   "nbconvert_exporter": "python",
   "pygments_lexer": "ipython3",
   "version": "3.9.9"
  }
 },
 "nbformat": 4,
 "nbformat_minor": 5
}
