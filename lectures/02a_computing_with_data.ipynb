{
 "cells": [
  {
   "cell_type": "markdown",
   "metadata": {
    "slideshow": {
     "slide_type": "slide"
    }
   },
   "source": [
    "# Unit 02: Computing with Data in Python"
   ]
  },
  {
   "cell_type": "markdown",
   "metadata": {
    "slideshow": {
     "slide_type": "slide"
    }
   },
   "source": [
    "# Outline of ECE 3\n",
    "\n",
    "The course ECE 3 is organized into 4 units.\n",
    "\n",
    "- Unit 01: Welcome to Python\n",
    "- **Unit 02: Computing with Data in Python**\n",
    "- Unit 03: Summarizing Data in Python\n",
    "- Unit 04: Predicting from Data with Machine Learning in Python"
   ]
  },
  {
   "cell_type": "markdown",
   "metadata": {
    "slideshow": {
     "slide_type": "slide"
    }
   },
   "source": [
    "# Outline of Unit 02\n",
    "\n",
    "- **02: Computing with Data in Python**\n",
    "  - Vector\n",
    "      - Vectors: assigning, accessing, visualizing\n",
    "      - Vector addition, subtraction, scaling, linear combination\n",
    "      - Inner products, affine function, norm, distance, angle\n",
    "      - Orthogonality and linear independence\n",
    "  - Matrix \n",
    "      - Opening data: Python I/O\n",
    "      - Matrix transpose, addition, subtraction\n",
    "      - Matrix-vector multiplication\n",
    "      - Column space, row space, image space, null space, rank\n",
    "      - Matrix-matrix multiplication\n",
    "      - Matrix inverse\n",
    "      - Singular Value Decomposition"
   ]
  },
  {
   "cell_type": "markdown",
   "metadata": {
    "slideshow": {
     "slide_type": "slide"
    }
   },
   "source": [
    "# 1. What is a Vector"
   ]
  },
  {
   "cell_type": "markdown",
   "metadata": {
    "slideshow": {
     "slide_type": "slide"
    }
   },
   "source": [
    "\n",
    "A vector is roughly \"a list of numbers\": \n",
    "\n",
    "<!-- $\\rightarrow$ everywhere in modern data and computer programs.\n",
    " -->\n",
    "$\\rightarrow$ a vector is how we represent data in a computer!"
   ]
  },
  {
   "cell_type": "markdown",
   "metadata": {
    "slideshow": {
     "slide_type": "fragment"
    }
   },
   "source": [
    "\n",
    "## Lets go through some examples:"
   ]
  },
  {
   "cell_type": "markdown",
   "metadata": {
    "cell_style": "split",
    "slideshow": {
     "slide_type": "slide"
    }
   },
   "source": [
    "### Tabular\n",
    "\n",
    "Tabular data is structured information organized in rows (observations) and columns (features). We can consider each row as a vector of features or each column as a vector of observations.\n",
    "\n",
    "<center><img src=\"figs/01_tabular.jpg\" alt=\"default\" width=800px/></center>"
   ]
  },
  {
   "cell_type": "markdown",
   "metadata": {
    "slideshow": {
     "slide_type": "slide"
    }
   },
   "source": [
    "**Example:** The *Iris dataset*, collected by botanist Edgar Anderson in the 1930s, is a famous dataset in machine learning and statistics. It contains measurements of sepal and petal dimensions of three iris flower species"
   ]
  },
  {
   "cell_type": "code",
   "execution_count": 3,
   "metadata": {
    "cell_style": "split",
    "slideshow": {
     "slide_type": "-"
    }
   },
   "outputs": [
    {
     "name": "stdout",
     "output_type": "stream",
     "text": [
      "+----------------+---------------+----------------+---------------+--------------+\n",
      "| \"sepal.length\" | \"sepal.width\" | \"petal.length\" | \"petal.width\" |  \"variety\"   |\n",
      "+----------------+---------------+----------------+---------------+--------------+\n",
      "|      5.1       |      3.5      |      1.4       |      .2       |   \"Setosa\"   |\n",
      "|      4.9       |       3       |      1.4       |      .2       |   \"Setosa\"   |\n",
      "|      4.7       |      3.2      |      1.3       |      .2       |   \"Setosa\"   |\n",
      "|      4.6       |      3.1      |      1.5       |      .2       |   \"Setosa\"   |\n",
      "|       5        |      3.6      |      1.4       |      .2       |   \"Setosa\"   |\n",
      "|      5.4       |      3.9      |      1.7       |      .4       |   \"Setosa\"   |\n",
      "|      4.6       |      3.4      |      1.4       |      .3       |   \"Setosa\"   |\n",
      "|       5        |      3.4      |      1.5       |      .2       |   \"Setosa\"   |\n",
      "|      4.4       |      2.9      |      1.4       |      .2       |   \"Setosa\"   |\n",
      "|      4.9       |      3.1      |      1.5       |      .1       |   \"Setosa\"   |\n",
      "|      5.4       |      3.7      |      1.5       |      .2       |   \"Setosa\"   |\n",
      "|      4.8       |      3.4      |      1.6       |      .2       |   \"Setosa\"   |\n",
      "|      4.8       |       3       |      1.4       |      .1       |   \"Setosa\"   |\n",
      "|      4.3       |       3       |      1.1       |      .1       |   \"Setosa\"   |\n",
      "|      5.8       |       4       |      1.2       |      .2       |   \"Setosa\"   |\n",
      "|      5.7       |      4.4      |      1.5       |      .4       |   \"Setosa\"   |\n",
      "|      5.4       |      3.9      |      1.3       |      .4       |   \"Setosa\"   |\n",
      "|      5.1       |      3.5      |      1.4       |      .3       |   \"Setosa\"   |\n",
      "|      5.7       |      3.8      |      1.7       |      .3       |   \"Setosa\"   |\n",
      "|      5.1       |      3.8      |      1.5       |      .3       |   \"Setosa\"   |\n",
      "|      5.4       |      3.4      |      1.7       |      .2       |   \"Setosa\"   |\n",
      "|      5.1       |      3.7      |      1.5       |      .4       |   \"Setosa\"   |\n",
      "|      4.6       |      3.6      |       1        |      .2       |   \"Setosa\"   |\n",
      "|      5.1       |      3.3      |      1.7       |      .5       |   \"Setosa\"   |\n",
      "|      4.8       |      3.4      |      1.9       |      .2       |   \"Setosa\"   |\n",
      "|       5        |       3       |      1.6       |      .2       |   \"Setosa\"   |\n",
      "|       5        |      3.4      |      1.6       |      .4       |   \"Setosa\"   |\n",
      "|      5.2       |      3.5      |      1.5       |      .2       |   \"Setosa\"   |\n",
      "|      5.2       |      3.4      |      1.4       |      .2       |   \"Setosa\"   |\n",
      "|      4.7       |      3.2      |      1.6       |      .2       |   \"Setosa\"   |\n",
      "|      4.8       |      3.1      |      1.6       |      .2       |   \"Setosa\"   |\n",
      "|      5.4       |      3.4      |      1.5       |      .4       |   \"Setosa\"   |\n",
      "|      5.2       |      4.1      |      1.5       |      .1       |   \"Setosa\"   |\n",
      "|      5.5       |      4.2      |      1.4       |      .2       |   \"Setosa\"   |\n",
      "|      4.9       |      3.1      |      1.5       |      .2       |   \"Setosa\"   |\n",
      "|       5        |      3.2      |      1.2       |      .2       |   \"Setosa\"   |\n",
      "|      5.5       |      3.5      |      1.3       |      .2       |   \"Setosa\"   |\n",
      "|      4.9       |      3.6      |      1.4       |      .1       |   \"Setosa\"   |\n",
      "|      4.4       |       3       |      1.3       |      .2       |   \"Setosa\"   |\n",
      "|      5.1       |      3.4      |      1.5       |      .2       |   \"Setosa\"   |\n",
      "|       5        |      3.5      |      1.3       |      .3       |   \"Setosa\"   |\n",
      "|      4.5       |      2.3      |      1.3       |      .3       |   \"Setosa\"   |\n",
      "|      4.4       |      3.2      |      1.3       |      .2       |   \"Setosa\"   |\n",
      "|       5        |      3.5      |      1.6       |      .6       |   \"Setosa\"   |\n",
      "|      5.1       |      3.8      |      1.9       |      .4       |   \"Setosa\"   |\n",
      "|      4.8       |       3       |      1.4       |      .3       |   \"Setosa\"   |\n",
      "|      5.1       |      3.8      |      1.6       |      .2       |   \"Setosa\"   |\n",
      "|      4.6       |      3.2      |      1.4       |      .2       |   \"Setosa\"   |\n",
      "|      5.3       |      3.7      |      1.5       |      .2       |   \"Setosa\"   |\n",
      "|       5        |      3.3      |      1.4       |      .2       |   \"Setosa\"   |\n",
      "|       7        |      3.2      |      4.7       |      1.4      | \"Versicolor\" |\n",
      "|      6.4       |      3.2      |      4.5       |      1.5      | \"Versicolor\" |\n",
      "|      6.9       |      3.1      |      4.9       |      1.5      | \"Versicolor\" |\n",
      "|      5.5       |      2.3      |       4        |      1.3      | \"Versicolor\" |\n",
      "|      6.5       |      2.8      |      4.6       |      1.5      | \"Versicolor\" |\n",
      "|      5.7       |      2.8      |      4.5       |      1.3      | \"Versicolor\" |\n",
      "|      6.3       |      3.3      |      4.7       |      1.6      | \"Versicolor\" |\n",
      "|      4.9       |      2.4      |      3.3       |       1       | \"Versicolor\" |\n",
      "|      6.6       |      2.9      |      4.6       |      1.3      | \"Versicolor\" |\n",
      "|      5.2       |      2.7      |      3.9       |      1.4      | \"Versicolor\" |\n",
      "|       5        |       2       |      3.5       |       1       | \"Versicolor\" |\n",
      "|      5.9       |       3       |      4.2       |      1.5      | \"Versicolor\" |\n",
      "|       6        |      2.2      |       4        |       1       | \"Versicolor\" |\n",
      "|      6.1       |      2.9      |      4.7       |      1.4      | \"Versicolor\" |\n",
      "|      5.6       |      2.9      |      3.6       |      1.3      | \"Versicolor\" |\n",
      "|      6.7       |      3.1      |      4.4       |      1.4      | \"Versicolor\" |\n",
      "|      5.6       |       3       |      4.5       |      1.5      | \"Versicolor\" |\n",
      "|      5.8       |      2.7      |      4.1       |       1       | \"Versicolor\" |\n",
      "|      6.2       |      2.2      |      4.5       |      1.5      | \"Versicolor\" |\n",
      "|      5.6       |      2.5      |      3.9       |      1.1      | \"Versicolor\" |\n",
      "|      5.9       |      3.2      |      4.8       |      1.8      | \"Versicolor\" |\n",
      "|      6.1       |      2.8      |       4        |      1.3      | \"Versicolor\" |\n",
      "|      6.3       |      2.5      |      4.9       |      1.5      | \"Versicolor\" |\n",
      "|      6.1       |      2.8      |      4.7       |      1.2      | \"Versicolor\" |\n",
      "|      6.4       |      2.9      |      4.3       |      1.3      | \"Versicolor\" |\n",
      "|      6.6       |       3       |      4.4       |      1.4      | \"Versicolor\" |\n",
      "|      6.8       |      2.8      |      4.8       |      1.4      | \"Versicolor\" |\n",
      "|      6.7       |       3       |       5        |      1.7      | \"Versicolor\" |\n",
      "|       6        |      2.9      |      4.5       |      1.5      | \"Versicolor\" |\n",
      "|      5.7       |      2.6      |      3.5       |       1       | \"Versicolor\" |\n",
      "|      5.5       |      2.4      |      3.8       |      1.1      | \"Versicolor\" |\n",
      "|      5.5       |      2.4      |      3.7       |       1       | \"Versicolor\" |\n",
      "|      5.8       |      2.7      |      3.9       |      1.2      | \"Versicolor\" |\n",
      "|       6        |      2.7      |      5.1       |      1.6      | \"Versicolor\" |\n",
      "|      5.4       |       3       |      4.5       |      1.5      | \"Versicolor\" |\n",
      "|       6        |      3.4      |      4.5       |      1.6      | \"Versicolor\" |\n",
      "|      6.7       |      3.1      |      4.7       |      1.5      | \"Versicolor\" |\n",
      "|      6.3       |      2.3      |      4.4       |      1.3      | \"Versicolor\" |\n",
      "|      5.6       |       3       |      4.1       |      1.3      | \"Versicolor\" |\n",
      "|      5.5       |      2.5      |       4        |      1.3      | \"Versicolor\" |\n",
      "|      5.5       |      2.6      |      4.4       |      1.2      | \"Versicolor\" |\n",
      "|      6.1       |       3       |      4.6       |      1.4      | \"Versicolor\" |\n",
      "|      5.8       |      2.6      |       4        |      1.2      | \"Versicolor\" |\n",
      "|       5        |      2.3      |      3.3       |       1       | \"Versicolor\" |\n",
      "|      5.6       |      2.7      |      4.2       |      1.3      | \"Versicolor\" |\n",
      "|      5.7       |       3       |      4.2       |      1.2      | \"Versicolor\" |\n",
      "|      5.7       |      2.9      |      4.2       |      1.3      | \"Versicolor\" |\n",
      "|      6.2       |      2.9      |      4.3       |      1.3      | \"Versicolor\" |\n",
      "|      5.1       |      2.5      |       3        |      1.1      | \"Versicolor\" |\n",
      "|      5.7       |      2.8      |      4.1       |      1.3      | \"Versicolor\" |\n",
      "|      6.3       |      3.3      |       6        |      2.5      | \"Virginica\"  |\n",
      "|      5.8       |      2.7      |      5.1       |      1.9      | \"Virginica\"  |\n",
      "|      7.1       |       3       |      5.9       |      2.1      | \"Virginica\"  |\n",
      "|      6.3       |      2.9      |      5.6       |      1.8      | \"Virginica\"  |\n",
      "|      6.5       |       3       |      5.8       |      2.2      | \"Virginica\"  |\n",
      "|      7.6       |       3       |      6.6       |      2.1      | \"Virginica\"  |\n",
      "|      4.9       |      2.5      |      4.5       |      1.7      | \"Virginica\"  |\n",
      "|      7.3       |      2.9      |      6.3       |      1.8      | \"Virginica\"  |\n",
      "|      6.7       |      2.5      |      5.8       |      1.8      | \"Virginica\"  |\n",
      "|      7.2       |      3.6      |      6.1       |      2.5      | \"Virginica\"  |\n",
      "|      6.5       |      3.2      |      5.1       |       2       | \"Virginica\"  |\n",
      "|      6.4       |      2.7      |      5.3       |      1.9      | \"Virginica\"  |\n",
      "|      6.8       |       3       |      5.5       |      2.1      | \"Virginica\"  |\n",
      "|      5.7       |      2.5      |       5        |       2       | \"Virginica\"  |\n",
      "|      5.8       |      2.8      |      5.1       |      2.4      | \"Virginica\"  |\n",
      "|      6.4       |      3.2      |      5.3       |      2.3      | \"Virginica\"  |\n",
      "|      6.5       |       3       |      5.5       |      1.8      | \"Virginica\"  |\n",
      "|      7.7       |      3.8      |      6.7       |      2.2      | \"Virginica\"  |\n",
      "|      7.7       |      2.6      |      6.9       |      2.3      | \"Virginica\"  |\n",
      "|       6        |      2.2      |       5        |      1.5      | \"Virginica\"  |\n",
      "|      6.9       |      3.2      |      5.7       |      2.3      | \"Virginica\"  |\n",
      "|      5.6       |      2.8      |      4.9       |       2       | \"Virginica\"  |\n",
      "|      7.7       |      2.8      |      6.7       |       2       | \"Virginica\"  |\n",
      "|      6.3       |      2.7      |      4.9       |      1.8      | \"Virginica\"  |\n",
      "|      6.7       |      3.3      |      5.7       |      2.1      | \"Virginica\"  |\n",
      "|      7.2       |      3.2      |       6        |      1.8      | \"Virginica\"  |\n",
      "|      6.2       |      2.8      |      4.8       |      1.8      | \"Virginica\"  |\n",
      "|      6.1       |       3       |      4.9       |      1.8      | \"Virginica\"  |\n",
      "|      6.4       |      2.8      |      5.6       |      2.1      | \"Virginica\"  |\n",
      "|      7.2       |       3       |      5.8       |      1.6      | \"Virginica\"  |\n",
      "|      7.4       |      2.8      |      6.1       |      1.9      | \"Virginica\"  |\n",
      "|      7.9       |      3.8      |      6.4       |       2       | \"Virginica\"  |\n",
      "|      6.4       |      2.8      |      5.6       |      2.2      | \"Virginica\"  |\n",
      "|      6.3       |      2.8      |      5.1       |      1.5      | \"Virginica\"  |\n",
      "|      6.1       |      2.6      |      5.6       |      1.4      | \"Virginica\"  |\n",
      "|      7.7       |       3       |      6.1       |      2.3      | \"Virginica\"  |\n",
      "|      6.3       |      3.4      |      5.6       |      2.4      | \"Virginica\"  |\n",
      "|      6.4       |      3.1      |      5.5       |      1.8      | \"Virginica\"  |\n",
      "|       6        |       3       |      4.8       |      1.8      | \"Virginica\"  |\n",
      "|      6.9       |      3.1      |      5.4       |      2.1      | \"Virginica\"  |\n",
      "|      6.7       |      3.1      |      5.6       |      2.4      | \"Virginica\"  |\n",
      "|      6.9       |      3.1      |      5.1       |      2.3      | \"Virginica\"  |\n",
      "|      5.8       |      2.7      |      5.1       |      1.9      | \"Virginica\"  |\n",
      "|      6.8       |      3.2      |      5.9       |      2.3      | \"Virginica\"  |\n",
      "|      6.7       |      3.3      |      5.7       |      2.5      | \"Virginica\"  |\n",
      "|      6.7       |       3       |      5.2       |      2.3      | \"Virginica\"  |\n",
      "|      6.3       |      2.5      |       5        |      1.9      | \"Virginica\"  |\n",
      "|      6.5       |       3       |      5.2       |       2       | \"Virginica\"  |\n",
      "|      6.2       |      3.4      |      5.4       |      2.3      | \"Virginica\"  |\n",
      "|      5.9       |       3       |      5.1       |      1.8      | \"Virginica\"  |\n",
      "+----------------+---------------+----------------+---------------+--------------+\n"
     ]
    }
   ],
   "source": [
    "import numpy as np\n",
    "from tabulate import tabulate\n",
    "\n",
    "# Load the CSV file using NumPy\n",
    "data = np.genfromtxt('../data/iris.csv', delimiter=',', dtype=str)\n",
    "\n",
    "# Print the data in a nice tabular format\n",
    "headers = data[0]  # Assuming the first row contains headers\n",
    "data = data[1:]     # Exclude the header row from data\n",
    "\n",
    "# Print the table\n",
    "print(tabulate(data, headers, tablefmt=\"pretty\"))"
   ]
  },
  {
   "cell_type": "markdown",
   "metadata": {
    "cell_style": "split",
    "slideshow": {
     "slide_type": "slide"
    }
   },
   "source": [
    "### Images\n",
    "\n",
    "Image data consists of visual information represented as pixels in a grid. By flattening this grid we can consider each image as a vector of zeros and ones.\n",
    "\n",
    "<center><img src=\"figs/00_image_a.jpg\" alt=\"default\" width=1000px/></center>"
   ]
  },
  {
   "cell_type": "markdown",
   "metadata": {
    "slideshow": {
     "slide_type": "slide"
    }
   },
   "source": [
    "**Example:** *MNIST* is a widely-used dataset consisting of 28x28 pixel handwritten digits (0-9) created in the late 1990s by Yann LeCun and his colleagues, serving as a benchmark for evaluating image classification algorithms, particularly in the early days of deep learning."
   ]
  },
  {
   "cell_type": "code",
   "execution_count": 65,
   "metadata": {},
   "outputs": [
    {
     "data": {
      "image/png": "[encoded data removed]",
      "text/plain": [
       "<Figure size 432x288 with 1 Axes>"
      ]
     },
     "metadata": {
      "needs_background": "light"
     },
     "output_type": "display_data"
    },
    {
     "name": "stdout",
     "output_type": "stream",
     "text": [
      "tensor([[[0.0000, 0.0000, 0.0000, 0.0000, 0.0000, 0.0000, 0.0000, 0.0000,\n",
      "          0.0000, 0.0000, 0.0000, 0.0000, 0.0000, 0.0000, 0.0000, 0.0000,\n",
      "          0.0000, 0.0000, 0.0000, 0.0000, 0.0000, 0.0000, 0.0000, 0.0000,\n",
      "          0.0000, 0.0000, 0.0000, 0.0000],\n",
      "         [0.0000, 0.0000, 0.0000, 0.0000, 0.0000, 0.0000, 0.0000, 0.0000,\n",
      "          0.0000, 0.0000, 0.0000, 0.0000, 0.0000, 0.0000, 0.0000, 0.0000,\n",
      "          0.0000, 0.0000, 0.0000, 0.0000, 0.0000, 0.0000, 0.0000, 0.0000,\n",
      "          0.0000, 0.0000, 0.0000, 0.0000],\n",
      "         [0.0000, 0.0000, 0.0000, 0.0000, 0.0000, 0.0000, 0.0000, 0.0000,\n",
      "          0.0000, 0.0000, 0.0000, 0.0000, 0.0000, 0.0000, 0.0000, 0.0000,\n",
      "          0.0000, 0.0000, 0.0000, 0.0000, 0.0000, 0.0000, 0.0000, 0.0000,\n",
      "          0.0000, 0.0000, 0.0000, 0.0000],\n",
      "         [0.0000, 0.0000, 0.0000, 0.0000, 0.0000, 0.0000, 0.0000, 0.0000,\n",
      "          0.0000, 0.0000, 0.0000, 0.0000, 0.0000, 0.0000, 0.0000, 0.0000,\n",
      "          0.0000, 0.0000, 0.0000, 0.0000, 0.0000, 0.0000, 0.0000, 0.0000,\n",
      "          0.0000, 0.0000, 0.0000, 0.0000],\n",
      "         [0.0000, 0.0000, 0.0000, 0.0000, 0.0000, 0.0000, 0.0000, 0.0000,\n",
      "          0.0000, 0.0000, 0.0000, 0.0000, 0.0000, 0.0000, 0.0000, 0.0000,\n",
      "          0.0000, 0.0000, 0.0000, 0.0000, 0.0000, 0.0000, 0.0000, 0.0000,\n",
      "          0.0000, 0.0000, 0.0000, 0.0000],\n",
      "         [0.0000, 0.0000, 0.0000, 0.0000, 0.0000, 0.0000, 0.0000, 0.0000,\n",
      "          0.0000, 0.0000, 0.0000, 0.0000, 0.0118, 0.0706, 0.0706, 0.0706,\n",
      "          0.4941, 0.5333, 0.6863, 0.1020, 0.6510, 1.0000, 0.9686, 0.4980,\n",
      "          0.0000, 0.0000, 0.0000, 0.0000],\n",
      "         [0.0000, 0.0000, 0.0000, 0.0000, 0.0000, 0.0000, 0.0000, 0.0000,\n",
      "          0.1176, 0.1412, 0.3686, 0.6039, 0.6667, 0.9922, 0.9922, 0.9922,\n",
      "          0.9922, 0.9922, 0.8824, 0.6745, 0.9922, 0.9490, 0.7647, 0.2510,\n",
      "          0.0000, 0.0000, 0.0000, 0.0000],\n",
      "         [0.0000, 0.0000, 0.0000, 0.0000, 0.0000, 0.0000, 0.0000, 0.1922,\n",
      "          0.9333, 0.9922, 0.9922, 0.9922, 0.9922, 0.9922, 0.9922, 0.9922,\n",
      "          0.9922, 0.9843, 0.3647, 0.3216, 0.3216, 0.2196, 0.1529, 0.0000,\n",
      "          0.0000, 0.0000, 0.0000, 0.0000],\n",
      "         [0.0000, 0.0000, 0.0000, 0.0000, 0.0000, 0.0000, 0.0000, 0.0706,\n",
      "          0.8588, 0.9922, 0.9922, 0.9922, 0.9922, 0.9922, 0.7765, 0.7137,\n",
      "          0.9686, 0.9451, 0.0000, 0.0000, 0.0000, 0.0000, 0.0000, 0.0000,\n",
      "          0.0000, 0.0000, 0.0000, 0.0000],\n",
      "         [0.0000, 0.0000, 0.0000, 0.0000, 0.0000, 0.0000, 0.0000, 0.0000,\n",
      "          0.3137, 0.6118, 0.4196, 0.9922, 0.9922, 0.8039, 0.0431, 0.0000,\n",
      "          0.1686, 0.6039, 0.0000, 0.0000, 0.0000, 0.0000, 0.0000, 0.0000,\n",
      "          0.0000, 0.0000, 0.0000, 0.0000],\n",
      "         [0.0000, 0.0000, 0.0000, 0.0000, 0.0000, 0.0000, 0.0000, 0.0000,\n",
      "          0.0000, 0.0549, 0.0039, 0.6039, 0.9922, 0.3529, 0.0000, 0.0000,\n",
      "          0.0000, 0.0000, 0.0000, 0.0000, 0.0000, 0.0000, 0.0000, 0.0000,\n",
      "          0.0000, 0.0000, 0.0000, 0.0000],\n",
      "         [0.0000, 0.0000, 0.0000, 0.0000, 0.0000, 0.0000, 0.0000, 0.0000,\n",
      "          0.0000, 0.0000, 0.0000, 0.5451, 0.9922, 0.7451, 0.0078, 0.0000,\n",
      "          0.0000, 0.0000, 0.0000, 0.0000, 0.0000, 0.0000, 0.0000, 0.0000,\n",
      "          0.0000, 0.0000, 0.0000, 0.0000],\n",
      "         [0.0000, 0.0000, 0.0000, 0.0000, 0.0000, 0.0000, 0.0000, 0.0000,\n",
      "          0.0000, 0.0000, 0.0000, 0.0431, 0.7451, 0.9922, 0.2745, 0.0000,\n",
      "          0.0000, 0.0000, 0.0000, 0.0000, 0.0000, 0.0000, 0.0000, 0.0000,\n",
      "          0.0000, 0.0000, 0.0000, 0.0000],\n",
      "         [0.0000, 0.0000, 0.0000, 0.0000, 0.0000, 0.0000, 0.0000, 0.0000,\n",
      "          0.0000, 0.0000, 0.0000, 0.0000, 0.1373, 0.9451, 0.8824, 0.6275,\n",
      "          0.4235, 0.0039, 0.0000, 0.0000, 0.0000, 0.0000, 0.0000, 0.0000,\n",
      "          0.0000, 0.0000, 0.0000, 0.0000],\n",
      "         [0.0000, 0.0000, 0.0000, 0.0000, 0.0000, 0.0000, 0.0000, 0.0000,\n",
      "          0.0000, 0.0000, 0.0000, 0.0000, 0.0000, 0.3176, 0.9412, 0.9922,\n",
      "          0.9922, 0.4667, 0.0980, 0.0000, 0.0000, 0.0000, 0.0000, 0.0000,\n",
      "          0.0000, 0.0000, 0.0000, 0.0000],\n",
      "         [0.0000, 0.0000, 0.0000, 0.0000, 0.0000, 0.0000, 0.0000, 0.0000,\n",
      "          0.0000, 0.0000, 0.0000, 0.0000, 0.0000, 0.0000, 0.1765, 0.7294,\n",
      "          0.9922, 0.9922, 0.5882, 0.1059, 0.0000, 0.0000, 0.0000, 0.0000,\n",
      "          0.0000, 0.0000, 0.0000, 0.0000],\n",
      "         [0.0000, 0.0000, 0.0000, 0.0000, 0.0000, 0.0000, 0.0000, 0.0000,\n",
      "          0.0000, 0.0000, 0.0000, 0.0000, 0.0000, 0.0000, 0.0000, 0.0627,\n",
      "          0.3647, 0.9882, 0.9922, 0.7333, 0.0000, 0.0000, 0.0000, 0.0000,\n",
      "          0.0000, 0.0000, 0.0000, 0.0000],\n",
      "         [0.0000, 0.0000, 0.0000, 0.0000, 0.0000, 0.0000, 0.0000, 0.0000,\n",
      "          0.0000, 0.0000, 0.0000, 0.0000, 0.0000, 0.0000, 0.0000, 0.0000,\n",
      "          0.0000, 0.9765, 0.9922, 0.9765, 0.2510, 0.0000, 0.0000, 0.0000,\n",
      "          0.0000, 0.0000, 0.0000, 0.0000],\n",
      "         [0.0000, 0.0000, 0.0000, 0.0000, 0.0000, 0.0000, 0.0000, 0.0000,\n",
      "          0.0000, 0.0000, 0.0000, 0.0000, 0.0000, 0.0000, 0.1804, 0.5098,\n",
      "          0.7176, 0.9922, 0.9922, 0.8118, 0.0078, 0.0000, 0.0000, 0.0000,\n",
      "          0.0000, 0.0000, 0.0000, 0.0000],\n",
      "         [0.0000, 0.0000, 0.0000, 0.0000, 0.0000, 0.0000, 0.0000, 0.0000,\n",
      "          0.0000, 0.0000, 0.0000, 0.0000, 0.1529, 0.5804, 0.8980, 0.9922,\n",
      "          0.9922, 0.9922, 0.9804, 0.7137, 0.0000, 0.0000, 0.0000, 0.0000,\n",
      "          0.0000, 0.0000, 0.0000, 0.0000],\n",
      "         [0.0000, 0.0000, 0.0000, 0.0000, 0.0000, 0.0000, 0.0000, 0.0000,\n",
      "          0.0000, 0.0000, 0.0941, 0.4471, 0.8667, 0.9922, 0.9922, 0.9922,\n",
      "          0.9922, 0.7882, 0.3059, 0.0000, 0.0000, 0.0000, 0.0000, 0.0000,\n",
      "          0.0000, 0.0000, 0.0000, 0.0000],\n",
      "         [0.0000, 0.0000, 0.0000, 0.0000, 0.0000, 0.0000, 0.0000, 0.0000,\n",
      "          0.0902, 0.2588, 0.8353, 0.9922, 0.9922, 0.9922, 0.9922, 0.7765,\n",
      "          0.3176, 0.0078, 0.0000, 0.0000, 0.0000, 0.0000, 0.0000, 0.0000,\n",
      "          0.0000, 0.0000, 0.0000, 0.0000],\n",
      "         [0.0000, 0.0000, 0.0000, 0.0000, 0.0000, 0.0000, 0.0706, 0.6706,\n",
      "          0.8588, 0.9922, 0.9922, 0.9922, 0.9922, 0.7647, 0.3137, 0.0353,\n",
      "          0.0000, 0.0000, 0.0000, 0.0000, 0.0000, 0.0000, 0.0000, 0.0000,\n",
      "          0.0000, 0.0000, 0.0000, 0.0000],\n",
      "         [0.0000, 0.0000, 0.0000, 0.0000, 0.2157, 0.6745, 0.8863, 0.9922,\n",
      "          0.9922, 0.9922, 0.9922, 0.9569, 0.5216, 0.0431, 0.0000, 0.0000,\n",
      "          0.0000, 0.0000, 0.0000, 0.0000, 0.0000, 0.0000, 0.0000, 0.0000,\n",
      "          0.0000, 0.0000, 0.0000, 0.0000],\n",
      "         [0.0000, 0.0000, 0.0000, 0.0000, 0.5333, 0.9922, 0.9922, 0.9922,\n",
      "          0.8314, 0.5294, 0.5176, 0.0627, 0.0000, 0.0000, 0.0000, 0.0000,\n",
      "          0.0000, 0.0000, 0.0000, 0.0000, 0.0000, 0.0000, 0.0000, 0.0000,\n",
      "          0.0000, 0.0000, 0.0000, 0.0000],\n",
      "         [0.0000, 0.0000, 0.0000, 0.0000, 0.0000, 0.0000, 0.0000, 0.0000,\n",
      "          0.0000, 0.0000, 0.0000, 0.0000, 0.0000, 0.0000, 0.0000, 0.0000,\n",
      "          0.0000, 0.0000, 0.0000, 0.0000, 0.0000, 0.0000, 0.0000, 0.0000,\n",
      "          0.0000, 0.0000, 0.0000, 0.0000],\n",
      "         [0.0000, 0.0000, 0.0000, 0.0000, 0.0000, 0.0000, 0.0000, 0.0000,\n",
      "          0.0000, 0.0000, 0.0000, 0.0000, 0.0000, 0.0000, 0.0000, 0.0000,\n",
      "          0.0000, 0.0000, 0.0000, 0.0000, 0.0000, 0.0000, 0.0000, 0.0000,\n",
      "          0.0000, 0.0000, 0.0000, 0.0000],\n",
      "         [0.0000, 0.0000, 0.0000, 0.0000, 0.0000, 0.0000, 0.0000, 0.0000,\n",
      "          0.0000, 0.0000, 0.0000, 0.0000, 0.0000, 0.0000, 0.0000, 0.0000,\n",
      "          0.0000, 0.0000, 0.0000, 0.0000, 0.0000, 0.0000, 0.0000, 0.0000,\n",
      "          0.0000, 0.0000, 0.0000, 0.0000]]])\n"
     ]
    }
   ],
   "source": [
    "import numpy as np\n",
    "import matplotlib.pyplot as plt\n",
    "import torch\n",
    "from torchvision import datasets, transforms\n",
    "\n",
    "# Load the MNIST dataset\n",
    "transform = transforms.ToTensor()\n",
    "train_dataset = datasets.MNIST('../data/', train=True, transform=transform, download=True)\n",
    "\n",
    "# Get the image data and its label\n",
    "image_index = 0  # Change this to select a different image\n",
    "image, label = train_dataset[image_index]\n",
    "\n",
    "# Display the image\n",
    "plt.figure()\n",
    "plt.imshow(image[0], cmap='gray')  # MNIST images are single-channel (grayscale)\n",
    "plt.title(f\"Label: {label}\")\n",
    "plt.show()\n",
    "print(image)"
   ]
  },
  {
   "cell_type": "markdown",
   "metadata": {
    "cell_style": "split",
    "slideshow": {
     "slide_type": "slide"
    }
   },
   "source": [
    "### Color\n",
    "\n",
    "In a computer color is represented by three numbers, one for red, green and blue. Thus, each color is a vector in RGB space.\n",
    "\n",
    "<center><img src=\"figs/01_rgb_intro.png\" alt=\"default\" width=600px/></center>"
   ]
  },
  {
   "cell_type": "markdown",
   "metadata": {
    "slideshow": {
     "slide_type": "slide"
    }
   },
   "source": [
    "**Example:** Let's visualize a color as a point in RGB space."
   ]
  },
  {
   "cell_type": "code",
   "execution_count": 58,
   "metadata": {},
   "outputs": [
    {
     "data": {
      "image/png": "[encoded data removed]",
      "text/plain": [
       "<Figure size 576x576 with 1 Axes>"
      ]
     },
     "metadata": {
      "needs_background": "light"
     },
     "output_type": "display_data"
    }
   ],
   "source": [
    "import numpy as np\n",
    "import matplotlib.pyplot as plt\n",
    "from mpl_toolkits.mplot3d import Axes3D\n",
    "# Define RGB values for different colors\n",
    "colors = np.array([[255, 0, 0],  # Red\n",
    "                   [0, 255, 0],  # Green\n",
    "                   [0, 0, 255]])  # Blue\n",
    "\n",
    "new_color = np.array([[0, 0, 0]])\n",
    "colors = np.vstack((colors, new_color))\n",
    "\n",
    "# Show the 3D plot\n",
    "fig = plt.figure(figsize=(8, 8))\n",
    "ax = fig.add_subplot(111, projection='3d')\n",
    "ax.scatter(colors[:,0], colors[:,1], colors[:,2], s=200, color=colors/255)\n",
    "ax.quiver(0, 0, 0, colors[:,0], colors[:,1], colors[:,2], color=colors/255, arrow_length_ratio=0)\n",
    "ax.set_xlim(0, 270); ax.set_ylim(0, 270); ax.set_zlim(0, 270)\n",
    "ax.set_xlabel(\"Red-axis\"); ax.set_ylabel(\"Green-axis\"); ax.set_zlabel(\"Blue-axis\")\n",
    "plt.show()"
   ]
  },
  {
   "cell_type": "markdown",
   "metadata": {
    "cell_style": "split",
    "slideshow": {
     "slide_type": "slide"
    }
   },
   "source": [
    "### Other\n",
    "\n",
    "**Temporal:** Temporal data such as stock prices or covid rates can be represented as a vector of values for equally spaced time intervals.\n",
    "<center><img src=\"figs/01_signal_vector.png\" alt=\"default\" width=300px/></center>\n",
    "\n",
    "**Audio:** Audio data repersents sound, typically in the form of a waveform, by various audio properties like amplitude, frequency, and time.\n",
    "<center><img src=\"figs/01_audio.png\" alt=\"default\" width=300px/></center>\n",
    "\n",
    "**Text:** A document can be represented as a vector of unique word frequencies. This is called a bag-of-words representation.\n",
    "<center><img src=\"figs/01_text.png\" alt=\"default\" width=300px/></center>"
   ]
  },
  {
   "cell_type": "markdown",
   "metadata": {
    "slideshow": {
     "slide_type": "slide"
    }
   },
   "source": [
    "## Computer science definition of a vector\n",
    "\n",
    "\n",
    "$\\color{#EF5645}{\\text{Definition}}$ A _vector_ is an ordered list of numbers:\n",
    "\n",
    "\n",
    "<center><img src=\"figs/01_def_vector.png\" alt=\"default\" width=500px/></center>\n",
    "\n",
    "<!-- \n",
    "$$\\begin{bmatrix}\n",
    "    -1.1 \\\\\n",
    "    0.0 \\\\\n",
    "    3.6 \\\\\n",
    "    -7.2\n",
    "\\end{bmatrix} \\text{ or } \\begin{bmatrix}\n",
    "    -1.1 \\\\\n",
    "    0.0 \\\\\n",
    "    3.6 \\\\\n",
    "    -7.2\n",
    "\\end{bmatrix} \\text{ or } (-1.1, 0.0, 3.6, -7.2).$$  -->\n",
    "\n",
    "The numbers in the list are called: _components, elements, entries, or coefficients_ of the vector."
   ]
  },
  {
   "cell_type": "markdown",
   "metadata": {
    "slideshow": {
     "slide_type": "fragment"
    }
   },
   "source": [
    "The number of elements in the list is the _size, dimension, or length_ of the vector. "
   ]
  },
  {
   "cell_type": "markdown",
   "metadata": {
    "slideshow": {
     "slide_type": "fragment"
    }
   },
   "source": [
    "If the a vector has dimension $n$, we call it an _$n$-vector_. If a vector has dimension $1$, we call it a _scalar_."
   ]
  },
  {
   "cell_type": "markdown",
   "metadata": {
    "slideshow": {
     "slide_type": "slide"
    }
   },
   "source": [
    "$\\color{#EF5645}{\\text{Notation}}$: \n",
    "\n",
    "We use symbols to denote vectors: $a, \\vec{a}$.\n",
    "\n",
    "The ith element of vector $a$ is written $a_i$.\n",
    "\n",
    "$\\color{#EF5645}{\\text{Remark}}$: Remeber, for an n-vector:\n",
    "  - 😱 in Math: indexes run from $i = 1$ to $i = n$,\n",
    "  - 😱 in Python: indexes run from $i = 0$ to $i = n - 1$."
   ]
  },
  {
   "cell_type": "markdown",
   "metadata": {
    "slideshow": {
     "slide_type": "slide"
    }
   },
   "source": [
    "## Vectors in Python\n",
    "\n",
    "$\\color{#003660}{\\text{In Python}}$, vectors could be represented as\n",
    "- a \"list\" of numbers, using `[]`,\n",
    "- a \"tuple\" of numbers, using `()`,\n",
    "- an \"array\" of numbers, using `np.array()`."
   ]
  },
  {
   "cell_type": "markdown",
   "metadata": {
    "slideshow": {
     "slide_type": "fragment"
    }
   },
   "source": [
    "We will always use the `numpy` package to represent vectors because it has multiple functions to easily compute with vectors!"
   ]
  },
  {
   "cell_type": "markdown",
   "metadata": {
    "slideshow": {
     "slide_type": "slide"
    }
   },
   "source": [
    "We import a package with `import` functionality.  We rename the package using `as` functionality."
   ]
  },
  {
   "cell_type": "code",
   "execution_count": 66,
   "metadata": {},
   "outputs": [
    {
     "name": "stdout",
     "output_type": "stream",
     "text": [
      "[1 2 3]\n",
      "[4 5 6]\n"
     ]
    }
   ],
   "source": [
    "import numpy as np\n",
    "\n",
    "a = [1, 2, 3]\n",
    "b = (4, 5, 6)\n",
    "\n",
    "c = np.array(a)\n",
    "d = np.array(b)\n",
    "\n",
    "print(c)\n",
    "print(d)"
   ]
  },
  {
   "cell_type": "markdown",
   "metadata": {
    "slideshow": {
     "slide_type": "slide"
    }
   },
   "source": [
    "### Accessing vector components\n",
    "\n",
    "In `numpy`, we \"access\" the components of a vector just as we do with a list or tuple:"
   ]
  },
  {
   "cell_type": "code",
   "execution_count": 45,
   "metadata": {},
   "outputs": [
    {
     "data": {
      "text/plain": [
       "3"
      ]
     },
     "execution_count": 45,
     "metadata": {},
     "output_type": "execute_result"
    }
   ],
   "source": [
    "a = np.array([3, 4, 5])\n",
    "a[0]"
   ]
  },
  {
   "cell_type": "markdown",
   "metadata": {
    "slideshow": {
     "slide_type": "slide"
    }
   },
   "source": [
    "### Assigning vector components\n",
    "\n",
    "In `numpy`, components of a vector can be \"assigned\", as in a list:"
   ]
  },
  {
   "cell_type": "code",
   "execution_count": 54,
   "metadata": {},
   "outputs": [
    {
     "data": {
      "text/plain": [
       "array([ 1.000e+00,  2.200e+00, -3.000e+00, -2.022e+03])"
      ]
     },
     "execution_count": 54,
     "metadata": {},
     "output_type": "execute_result"
    }
   ],
   "source": [
    "a = np.array([1, 2.2, -3., 4.])\n",
    "a[3] = -2022\n",
    "a"
   ]
  },
  {
   "cell_type": "markdown",
   "metadata": {
    "slideshow": {
     "slide_type": "slide"
    }
   },
   "source": [
    "### Computing vector length"
   ]
  },
  {
   "cell_type": "markdown",
   "metadata": {
    "slideshow": {
     "slide_type": "-"
    }
   },
   "source": [
    "The size/length/dimension of a vector is computed with `len` or `np.size`, (for lists, tuples, and np.arrays)"
   ]
  },
  {
   "cell_type": "code",
   "execution_count": 65,
   "metadata": {},
   "outputs": [
    {
     "name": "stdout",
     "output_type": "stream",
     "text": [
      "3\n",
      "3\n"
     ]
    }
   ],
   "source": [
    "a = [1, 2, 3]\n",
    "b = (4, 5, 6)\n",
    "\n",
    "c = np.array(a)\n",
    "\n",
    "print(len(a))\n",
    "print(np.size(c))"
   ]
  },
  {
   "cell_type": "markdown",
   "metadata": {
    "slideshow": {
     "slide_type": "slide"
    }
   },
   "source": [
    "## Speicial Vectors"
   ]
  },
  {
   "cell_type": "markdown",
   "metadata": {
    "slideshow": {
     "slide_type": "fragment"
    }
   },
   "source": [
    "### Zero Vector\n",
    "\n",
    "$\\color{#EF5645}{\\text{Definition}}$: The n-vector with all entries 0 is denoted $0_n$ or $\\vec{0}$ or just $0$ and is called a _zero vector_. "
   ]
  },
  {
   "cell_type": "markdown",
   "metadata": {
    "slideshow": {
     "slide_type": "fragment"
    }
   },
   "source": [
    "### Ones Vector\n",
    "\n",
    "$\\color{#EF5645}{\\text{Definition}}$: The n-vector with all entries 1 is denoted $1_n$ or $\\vec{1}$ or just 1 and is called a _ones-vector_."
   ]
  },
  {
   "cell_type": "markdown",
   "metadata": {
    "slideshow": {
     "slide_type": "fragment"
    }
   },
   "source": [
    "### One-Hot Vectors\n",
    "\n",
    "$\\color{#EF5645}{\\text{Definition}}$: A _one-hot vector_ or _standard unit vector_ is a vector which has one entry 1 and all others 0. If $i$ is the index of the non-zero entry, we denote it $e_i$."
   ]
  },
  {
   "cell_type": "markdown",
   "metadata": {
    "slideshow": {
     "slide_type": "slide"
    }
   },
   "source": [
    "$\\color{#003660}{\\text{In Python}}$, we use `zeros` and `ones` (from `numpy`) to build these vectors."
   ]
  },
  {
   "cell_type": "code",
   "execution_count": 78,
   "metadata": {
    "scrolled": true
   },
   "outputs": [
    {
     "name": "stdout",
     "output_type": "stream",
     "text": [
      "[0. 0.]\n",
      "[1. 1. 1. 1.]\n",
      "[1. 0. 0.]\n"
     ]
    }
   ],
   "source": [
    "zero2 = np.zeros(2)\n",
    "print(zero2)\n",
    "\n",
    "ones4 = np.ones(4)\n",
    "print(ones4)\n",
    "\n",
    "e1 = np.zeros(3)\n",
    "e1[0] = 1\n",
    "print(e1)"
   ]
  },
  {
   "cell_type": "markdown",
   "metadata": {
    "slideshow": {
     "slide_type": "slide"
    }
   },
   "source": [
    "$\\color{#047C91}{\\text{Exercise}}$: What are all the one-hot vectors of length 3?"
   ]
  },
  {
   "cell_type": "code",
   "execution_count": 80,
   "metadata": {
    "slideshow": {
     "slide_type": "-"
    }
   },
   "outputs": [],
   "source": [
    "\"\"\"Create all one-hot vector of len 3.\"\"\"\n",
    "\n",
    "e = np.zeros(3)\n",
    "\n"
   ]
  },
  {
   "cell_type": "markdown",
   "metadata": {
    "slideshow": {
     "slide_type": "slide"
    }
   },
   "source": [
    "## Visualization of vectors"
   ]
  },
  {
   "cell_type": "markdown",
   "metadata": {},
   "source": [
    "The `matplotlib.pyplot` package contains tools to visualize vectors."
   ]
  },
  {
   "cell_type": "code",
   "execution_count": 3,
   "metadata": {},
   "outputs": [],
   "source": [
    "import matplotlib.pyplot as plt"
   ]
  },
  {
   "cell_type": "markdown",
   "metadata": {
    "slideshow": {
     "slide_type": "slide"
    }
   },
   "source": [
    "### Visualization: A vector as a point\n",
    "\n",
    "- A 2-vector $(a_1, a_2)$ can represent:\n",
    "  - a point on the 2D plane, coordinates: $(a_1, a_2)$. \n",
    " \n",
    "- An n-vector $(a_1, ..., a_n)$ can represent:\n",
    "  - a point in the n-D space."
   ]
  },
  {
   "cell_type": "markdown",
   "metadata": {
    "slideshow": {
     "slide_type": "slide"
    }
   },
   "source": [
    "$\\color{#003660}{\\text{In Python}}$, we use `scatter` to plot points in 2D, thanks to `matplotlib.pyplot`."
   ]
  },
  {
   "cell_type": "code",
   "execution_count": 8,
   "metadata": {},
   "outputs": [
    {
     "data": {
      "image/png": "[encoded data removed]",
      "text/plain": [
       "<Figure size 432x288 with 1 Axes>"
      ]
     },
     "metadata": {
      "needs_background": "light"
     },
     "output_type": "display_data"
    }
   ],
   "source": [
    "vector = [1, 2]\n",
    "plt.scatter(vector[0], vector[1], s=500, color=\"blue\");"
   ]
  },
  {
   "cell_type": "markdown",
   "metadata": {
    "slideshow": {
     "slide_type": "slide"
    }
   },
   "source": [
    "$\\color{#003660}{\\text{In Python}}$, we use `scatter3D` to plot points in 3D, from `matplotlib.pyplot`.\n",
    "\n",
    "We also need to tell python that we are going to 3D."
   ]
  },
  {
   "cell_type": "code",
   "execution_count": 13,
   "metadata": {
    "scrolled": true
   },
   "outputs": [
    {
     "data": {
      "image/png": "[encoded data removed]",
      "text/plain": [
       "<Figure size 432x288 with 1 Axes>"
      ]
     },
     "metadata": {
      "needs_background": "light"
     },
     "output_type": "display_data"
    }
   ],
   "source": [
    "vector = [1, 2, 3]\n",
    "fig = plt.figure()\n",
    "ax = plt.axes(projection =\"3d\")\n",
    "ax.scatter(vector[0], vector[1], vector[2], s=500, color=\"red\");"
   ]
  },
  {
   "cell_type": "markdown",
   "metadata": {
    "slideshow": {
     "slide_type": "slide"
    }
   },
   "source": [
    "# 2. Operations on Vectors"
   ]
  },
  {
   "cell_type": "markdown",
   "metadata": {
    "slideshow": {
     "slide_type": "slide"
    }
   },
   "source": [
    "## Vector Addition and Subtraction\n",
    "\n",
    "$\\color{#EF5645}{\\text{Definition}}$: Two vectors a and b can be added/subtracted:\n",
    "- Addition is denoted a + b; subtraction is denoted a - b.\n",
    "- Addition/subtraction is computed by adding/subtracting vector elements."
   ]
  },
  {
   "cell_type": "markdown",
   "metadata": {
    "slideshow": {
     "slide_type": "slide"
    }
   },
   "source": [
    "$\\color{#047C91}{\\text{Exercise}}$: Compute:\n",
    "<center><img src=\"figs/01_add.png\" alt=\"default\" width=160px/></center>"
   ]
  },
  {
   "cell_type": "code",
   "execution_count": 82,
   "metadata": {},
   "outputs": [
    {
     "name": "stdout",
     "output_type": "stream",
     "text": [
      "[1 9 3]\n",
      "[0, 7, 3, 1, 2, 0]\n"
     ]
    }
   ],
   "source": [
    "a = np.array([0, 7, 3])\n",
    "b = + np.array([1, 2, 0])\n",
    "c = a + b\n",
    "print(c)\n",
    "\n",
    "# If we use lists, it does not give the expected result\n",
    "a = [0, 7, 3]\n",
    "b = [1, 2, 0]\n",
    "c = a + b\n",
    "print(c)"
   ]
  },
  {
   "cell_type": "markdown",
   "metadata": {
    "slideshow": {
     "slide_type": "slide"
    }
   },
   "source": [
    "$\\color{#047C91}{\\text{Exercise}}$: Given a vector $a = [1,4,9,20]$ compute $a + 0$"
   ]
  },
  {
   "cell_type": "code",
   "execution_count": 86,
   "metadata": {},
   "outputs": [
    {
     "name": "stdout",
     "output_type": "stream",
     "text": [
      "[ 1.  4.  9. 20.]\n"
     ]
    }
   ],
   "source": [
    "a = np.array([1, 4, 9, 20])\n",
    "b = np.zeros(np.size(a))\n",
    "c = a + b\n",
    "print(c)"
   ]
  },
  {
   "cell_type": "markdown",
   "metadata": {
    "slideshow": {
     "slide_type": "slide"
    }
   },
   "source": [
    "### Properties of Vector Addition\n",
    "\n",
    "$\\color{#6D7D33}{\\text{Properties}}$: For any two vectors $a, b$:\n",
    "- commutativity: a + b = b + a\n",
    "- associativity: (a + b) + c = a + (b + c) = a + b + c\n",
    "- additive identity: $a + 0 = a$\n",
    "- additive inverse: $a - a = 0$"
   ]
  },
  {
   "cell_type": "markdown",
   "metadata": {
    "slideshow": {
     "slide_type": "slide"
    }
   },
   "source": [
    "### Interpretation: Adding displacement vectors\n",
    "\n",
    "If vectors a and b are displacements: \n",
    "- a + b is the sum displacement\n",
    "\n",
    "<center><img src=\"figs/01_sumvectors.jpg\" alt=\"Drawing\" width=450px /></center>"
   ]
  },
  {
   "cell_type": "markdown",
   "metadata": {
    "slideshow": {
     "slide_type": "slide"
    }
   },
   "source": [
    "### Interpretation: Displacement from a point to another\n",
    "\n",
    "If vectors p and q are points:\n",
    "- p − q is the displacement from q to p\n",
    "\n",
    "\n",
    "<center><img src=\"figs/01_subpoints.jpg\" width=450px alt=\"default\"/></center>"
   ]
  },
  {
   "cell_type": "markdown",
   "metadata": {
    "slideshow": {
     "slide_type": "slide"
    }
   },
   "source": [
    "## Scalar-vector multiplication\n",
    "\n",
    "$\\color{#EF5645}{\\text{Definition}}$: A scalar β and an $n$-vector a can be multiplied to give a new vector: \n",
    "$$βa = ( βa_1, . . . , β a_n).$$"
   ]
  },
  {
   "cell_type": "markdown",
   "metadata": {
    "slideshow": {
     "slide_type": "slide"
    }
   },
   "source": [
    "$\\color{#047C91}{\\text{Exercise}}$: Compute:\n",
    "\n",
    "<center><img src=\"figs/01_scalar.png\" alt=\"default\" width=160px/></center>\n",
    "\n",
    "\n"
   ]
  },
  {
   "cell_type": "code",
   "execution_count": 88,
   "metadata": {},
   "outputs": [
    {
     "name": "stdout",
     "output_type": "stream",
     "text": [
      "[ -2 -18 -12]\n",
      "[1, 9, 6, 1, 9, 6]\n"
     ]
    }
   ],
   "source": [
    "a = np.array([1, 9, 6])\n",
    "beta = -2\n",
    "print(beta * a)\n",
    "\n",
    "# Using lists does not give the expected result\n",
    "l = [1, 9, 6]\n",
    "print(2 * l)"
   ]
  },
  {
   "cell_type": "markdown",
   "metadata": {
    "slideshow": {
     "slide_type": "slide"
    }
   },
   "source": [
    "### Properties of scalar-vector multiplication\n",
    "\n",
    "$\\color{#6D7D33}{\\text{Properties}}$: For scalars  $\\beta, \\gamma$ and $n$-vectors $a, b$: \n",
    "- associativity: $( βγ)a = β(γa)$\n",
    "- multiplicative identity: $1(a) = a$\n",
    "- left distributivity: $( \\beta + \\gamma)a = \\beta a + \\gamma a$\n",
    "- right distributivity: $β(a + b) = βa + βb$"
   ]
  },
  {
   "cell_type": "markdown",
   "metadata": {
    "slideshow": {
     "slide_type": "slide"
    }
   },
   "source": [
    "$\\color{#047C91}{\\text{Exercise}}$: Compute the _average_ of two vectors $a$ and $b$?"
   ]
  },
  {
   "cell_type": "code",
   "execution_count": 35,
   "metadata": {
    "scrolled": true
   },
   "outputs": [
    {
     "name": "stdout",
     "output_type": "stream",
     "text": [
      "[ 1.   2.  -0.5]\n"
     ]
    }
   ],
   "source": [
    "\"\"\"Compute the inner product between a vector and ones vector.\"\"\"\n",
    "a = np.array([1,0,2])\n",
    "b = np.array([1,4,-3])\n",
    "average = (a + b) / 2\n",
    "print(average)"
   ]
  },
  {
   "cell_type": "markdown",
   "metadata": {
    "slideshow": {
     "slide_type": "slide"
    }
   },
   "source": [
    "## Elementwise-multiplication (Hadamard Product)\n",
    "\n",
    "$\\color{#EF5645}{\\text{Definition}}$: Two $n$-vectors $a$ amd $b$ can be multiplied to give a new vector: \n",
    "$$a \\odot b = ( a_1b_1, . . . , a_nb_n).$$\n",
    "\n",
    "$\\color{#047C91}{\\text{Exercise}}$: Compute the hadamard product of $a = (1, 0, 2)$ and $b = (-1, 1, 2)$."
   ]
  },
  {
   "cell_type": "code",
   "execution_count": 69,
   "metadata": {},
   "outputs": [
    {
     "name": "stdout",
     "output_type": "stream",
     "text": [
      "[-1  0  4]\n",
      "[-1  0  4]\n"
     ]
    }
   ],
   "source": [
    "\"\"\"Compute the hadamard product of two vectors.\"\"\"\n",
    "a = np.array([1,0,2])\n",
    "b = np.array([-1,1,2])\n",
    "\n",
    "print(a * b)\n",
    "print(np.multiply(a, b))"
   ]
  },
  {
   "cell_type": "markdown",
   "metadata": {
    "slideshow": {
     "slide_type": "slide"
    }
   },
   "source": [
    "## Inner Product\n",
    "\n",
    "$\\color{#EF5645}{\\text{Definition}}$: The inner product (or dot product) of n-vectors a and b is the scalar:\n",
    "$$a^T b = a_1b_1 + a_2b_2 + · · · + a_nb_n.$$\n",
    "- Other notations: $〈a, b〉, 〈a|b〉, (a, b), a · b.$\n",
    "- $\\color{#003660}{\\text{In Python}}$, we use `inner` or `dot` (from `numpy`)."
   ]
  },
  {
   "cell_type": "markdown",
   "metadata": {
    "slideshow": {
     "slide_type": "slide"
    }
   },
   "source": [
    "$\\color{#047C91}{\\text{Exercise}}$: Compute the inner product of $a = (1, 0, 2)$ and $b = (-1, 1, 2)$."
   ]
  },
  {
   "cell_type": "code",
   "execution_count": 97,
   "metadata": {},
   "outputs": [
    {
     "name": "stdout",
     "output_type": "stream",
     "text": [
      "3\n",
      "3\n"
     ]
    }
   ],
   "source": [
    "\"\"\"Compute the inner product of two vectors.\"\"\"\n",
    "a = np.array([1,0,2])\n",
    "b = np.array([-1,1,2])\n",
    "\n",
    "print(np.inner(a, b))\n",
    "print(np.dot(a,b))"
   ]
  },
  {
   "cell_type": "markdown",
   "metadata": {
    "slideshow": {
     "slide_type": "slide"
    }
   },
   "source": [
    "$\\color{#047C91}{\\text{Exercise}}$: What is the inner product between a vector $a$ and the zero vector?\n",
    "\n",
    "$$a^T \\vec{0} = $$"
   ]
  },
  {
   "cell_type": "code",
   "execution_count": 28,
   "metadata": {},
   "outputs": [
    {
     "data": {
      "text/plain": [
       "0.0"
      ]
     },
     "execution_count": 28,
     "metadata": {},
     "output_type": "execute_result"
    }
   ],
   "source": [
    "\"\"\"Compute the inner product between a vector and zero vector.\"\"\"\n",
    "a = np.array([1,0,2])\n",
    "b = np.zeros(3)\n",
    "np.inner(a, b)"
   ]
  },
  {
   "cell_type": "markdown",
   "metadata": {
    "slideshow": {
     "slide_type": "slide"
    }
   },
   "source": [
    "$\\color{#047C91}{\\text{Exercise}}$: What is the inner product between a vector $a$ and the ones vector?\n",
    "\n",
    "$$a^T \\vec{1} = $$"
   ]
  },
  {
   "cell_type": "code",
   "execution_count": 71,
   "metadata": {
    "scrolled": true
   },
   "outputs": [
    {
     "name": "stdout",
     "output_type": "stream",
     "text": [
      "3.0\n",
      "3\n"
     ]
    }
   ],
   "source": [
    "\"\"\"Compute the inner product between a vector and ones vector.\"\"\"\n",
    "a = np.array([1,0,2])\n",
    "b = np.ones(3)\n",
    "print(np.inner(a, b))\n",
    "print(np.sum(a))"
   ]
  },
  {
   "cell_type": "markdown",
   "metadata": {
    "slideshow": {
     "slide_type": "slide"
    }
   },
   "source": [
    "$\\color{#047C91}{\\text{Exercise}}$: What is the inner product between a vector $a$ and a one-hot vector?\n",
    "\n",
    "$$a^T \\vec{e_i} = $$"
   ]
  },
  {
   "cell_type": "code",
   "execution_count": 99,
   "metadata": {
    "scrolled": true
   },
   "outputs": [
    {
     "data": {
      "text/plain": [
       "1.0"
      ]
     },
     "execution_count": 99,
     "metadata": {},
     "output_type": "execute_result"
    }
   ],
   "source": [
    "\"\"\"Compute the inner product between a vector and ones vector.\"\"\"\n",
    "a = np.array([1,0,2])\n",
    "e1 = np.zeros(3)\n",
    "e1[0] = 1\n",
    "np.inner(a, e1)"
   ]
  },
  {
   "cell_type": "markdown",
   "metadata": {
    "slideshow": {
     "slide_type": "slide"
    }
   },
   "source": [
    "### Properties of inner product\n",
    "\n",
    "$\\color{#6D7D33}{\\text{Properties}}$: For $n$-vectors $a, b, c$ and scalars $\\gamma$:\n",
    "- $a^T b = b^T a$\n",
    "- $(γa)^T b = γ(a^T b)$\n",
    "- $(a + b)^T c = a^T c + b^T c$"
   ]
  },
  {
   "cell_type": "markdown",
   "metadata": {
    "slideshow": {
     "slide_type": "slide"
    }
   },
   "source": [
    "$\\color{#047C91}{\\text{Exercise}}$: Write a function that computes the output of the following polynomial using the inner product function:\n",
    "\n",
    "$$f(x) = 0.1x^5 + 0.8 x^4 - 1.3 x^3 + 1.1 x^2 - 3 x + 5$$"
   ]
  },
  {
   "cell_type": "code",
   "execution_count": 68,
   "metadata": {},
   "outputs": [
    {
     "name": "stdout",
     "output_type": "stream",
     "text": [
      "None\n"
     ]
    }
   ],
   "source": [
    "def polynomial(x):\n",
    "    pass\n",
    "\n",
    "print(polynomial(1))"
   ]
  },
  {
   "cell_type": "code",
   "execution_count": 110,
   "metadata": {
    "scrolled": true,
    "slideshow": {
     "slide_type": "slide"
    }
   },
   "outputs": [
    {
     "data": {
      "image/png": "[encoded data removed]",
      "text/plain": [
       "<Figure size 432x288 with 1 Axes>"
      ]
     },
     "metadata": {
      "needs_background": "light"
     },
     "output_type": "display_data"
    }
   ],
   "source": [
    "beta = np.array([-1,0,4,0.9,-3])\n",
    "degree = np.size(beta)\n",
    "\n",
    "def vander(x, degree):\n",
    "    return np.array([x**p for p in range(degree)])\n",
    "\n",
    "plt.figure()\n",
    "xrange = np.linspace(-1,1,100)\n",
    "for xi in xrange:\n",
    "    X = vander(xi, 5)\n",
    "    plt.scatter(xi, np.dot(beta, X), c='k')\n",
    "plt.grid()\n",
    "plt.show()"
   ]
  },
  {
   "cell_type": "markdown",
   "metadata": {
    "slideshow": {
     "slide_type": "slide"
    }
   },
   "source": [
    "## Norm\n",
    "\n",
    "$\\color{#EF5645}{\\text{Definition}}$: The *Euclidean norm*, or just *norm*, of an $n$-vector $x$ is:\n",
    "$$||x|| = \\sqrt{x_1^2 + ... + x_n^2}.$$ \n",
    "\n",
    "<!-- = \\sqrt{x^Tx} -->\n",
    "\n",
    "$\\color{#EF5645}{\\text{Remark}}$: The norm is equal to the absolute value for $n=1$."
   ]
  },
  {
   "cell_type": "markdown",
   "metadata": {
    "slideshow": {
     "slide_type": "slide"
    }
   },
   "source": [
    "$\\color{#003660}{\\text{In Python}}$, the module `linalg` from the package `numpy` has a function called `norm`."
   ]
  },
  {
   "cell_type": "code",
   "execution_count": 2,
   "metadata": {
    "scrolled": true
   },
   "outputs": [
    {
     "name": "stdout",
     "output_type": "stream",
     "text": [
      "3.0\n"
     ]
    }
   ],
   "source": [
    "x = np.array([2, -1, 2])\n",
    "\n",
    "print(np.linalg.norm(x))"
   ]
  },
  {
   "cell_type": "markdown",
   "metadata": {
    "slideshow": {
     "slide_type": "slide"
    }
   },
   "source": [
    "$\\color{#047C91}{\\text{Exercise}}$: Can you write a function that computes the norm using the vector operators we have already seen?."
   ]
  },
  {
   "cell_type": "code",
   "execution_count": 102,
   "metadata": {
    "scrolled": true
   },
   "outputs": [
    {
     "name": "stdout",
     "output_type": "stream",
     "text": [
      "None\n",
      "3.0\n"
     ]
    }
   ],
   "source": [
    "def norm(a):\n",
    "    pass\n",
    "\n",
    "x = np.array([2, -1, 2])\n",
    "print(norm(x))\n",
    "print(np.linalg.norm(x))"
   ]
  },
  {
   "cell_type": "markdown",
   "metadata": {
    "slideshow": {
     "slide_type": "slide"
    }
   },
   "source": [
    "### Properties of the Norm\n",
    "\n",
    "$\\color{#6D7D33}{\\text{Properties}}$: For any scalar $\\beta$ and any $n$-vectors $x, y$:\n",
    "1. Homogeneity: $||\\beta x|| = |\\beta|||x||$\n",
    "2. Triangle inequality: $||x+y|| \\leq ||x|| + ||y||$\n",
    "3. Nonnegative: $||x|| \\geq 0$\n",
    "4. Definite: $||x|| = 0$ if and only if $x = 0$"
   ]
  },
  {
   "cell_type": "markdown",
   "metadata": {
    "slideshow": {
     "slide_type": "slide"
    }
   },
   "source": [
    "### Triangle Inequality\n",
    "\n",
    "$\\color{#6D7D33}{\\text{Theorem}}$: For any two $n$-vectors $x$ and $y$, we have the triangle inequality:\n",
    "$$\\|x + y\\| \\leq \\|x\\| + \\|y\\|.$$\n",
    "\n",
    "$\\color{#047C91}{\\text{Exercise}}$: Can you prove this inequality using geometrically? \n",
    "\n",
    "*hint:* Think about this in 2D."
   ]
  },
  {
   "cell_type": "markdown",
   "metadata": {
    "slideshow": {
     "slide_type": "slide"
    }
   },
   "source": [
    "Notice that given two n-vectors $x$ and $y$ we can make a 2D triangle by connecting these points with the origin and themselves.\n",
    "\n",
    "<center><img src=\"figs/01_triangle_inequality.png\" alt=\"Drawing\" width=350px/></center>"
   ]
  },
  {
   "cell_type": "markdown",
   "metadata": {
    "slideshow": {
     "slide_type": "slide"
    }
   },
   "source": [
    "## Distance\n",
    "\n",
    "$\\color{#EF5645}{\\text{Definition}}$: The *Euclidean distance*, or just *distance*, between $n$-vectors $a$ and $b$ is:\n",
    "$$dist(a, b) = ||a - b||.$$\n",
    "\n",
    "$\\color{#EF5645}{\\text{Remark}}$: This definition agrees with ordinary distance for $n = 1, 2, 3.$"
   ]
  },
  {
   "cell_type": "markdown",
   "metadata": {
    "slideshow": {
     "slide_type": "slide"
    }
   },
   "source": [
    "## Angle\n",
    "\n",
    "$\\color{#EF5645}{\\text{Definition}}$: The _angle_ between two non-zeros $n$-vectors $a$ and $b$ is:\n",
    "$$\\angle(a, b) = arccos\\left( \\frac{a^Tb}{||a||||b||} \\right).$$\n",
    "\n",
    "$\\color{#EF5645}{\\text{Remark}}$: It coincides with the ordinary angle in 2D and 3D."
   ]
  },
  {
   "cell_type": "code",
   "execution_count": 93,
   "metadata": {
    "slideshow": {
     "slide_type": "slide"
    }
   },
   "outputs": [
    {
     "name": "stdout",
     "output_type": "stream",
     "text": [
      "1.5707963267948966\n",
      "1.5707963267948966\n"
     ]
    }
   ],
   "source": [
    "import numpy as np\n",
    "def angle(a, b):\n",
    "    product = np.linalg.norm(a)* np.linalg.norm(b)\n",
    "    fraction = np.inner(a, b) / (product)\n",
    "    return np.arccos(fraction)\n",
    "\n",
    "a = [1, 0, 0, 0, 0, 0]\n",
    "b = [0, 1, 0, 0, 1, 0]\n",
    "\n",
    "print(angle(a, b))\n",
    "print(np.pi / 2)"
   ]
  },
  {
   "cell_type": "markdown",
   "metadata": {
    "slideshow": {
     "slide_type": "slide"
    }
   },
   "source": [
    "Write: $\\theta = \\angle(a, b)$ \n",
    "- $θ = π/2 = 90^\\circ$: a, b are *orthogonal*: $a ⊥ b$ ($a^T b = 0$) \n",
    "- $θ = 0$: a, b are _aligned_ ($a^T b = ‖a‖ ‖b‖$) \n",
    "- $θ = π = 180^\\circ$: a, b are _anti-aligned_ ($a^T b = −‖a‖ ‖b‖$)\n",
    "- $θ ≤ π/2 = 90^\\circ$: a, b make an _acute angle_ ($a^T b ≥ 0$)\n",
    "- $θ ≥ π/2 = 90^\\circ$: a, b make an _obtuse angle_ ($a^T b ≤ 0$)\n",
    "\n",
    "<center><img src=\"figs/03_angles.jpg\" alt=\"default\"/></center>"
   ]
  },
  {
   "cell_type": "markdown",
   "metadata": {
    "slideshow": {
     "slide_type": "slide"
    }
   },
   "source": [
    "$\\color{#047C91}{\\text{Exercise}}$: Can you prove why the angle between two vectors takes the form above?\n",
    "\n",
    "*hint:* remeber the *law of cosines* $c = \\sqrt{a^2 + b^2 - 2ab\\cos(\\gamma)}$\n",
    "\n",
    "<center><img src=\"figs/01_law_of_cosines.png\" alt=\"default\"/></center>"
   ]
  },
  {
   "cell_type": "markdown",
   "metadata": {
    "slideshow": {
     "slide_type": "slide"
    }
   },
   "source": [
    "Again, notice that given two n-vectors $\\vec{a}$ and $\\vec{b}$ we can make a 2D triangle by connecting these points with the origin and themselves.  Let $A = \\vec{a}$, $B = \\vec{b}$, and $C = 0$. Now we can apply the law of cosines.  \n",
    "\n",
    "- $a = \\|\\vec{b}\\|$\n",
    "- $b = \\|\\vec{a}\\|$\n",
    "- $c = \\|\\vec{b} - \\vec{a}\\| = \\sqrt{\\|a\\|^2 + \\|b\\|^2 + 2 a^\\intercal b}$\n",
    "\n",
    "Plugging into the expression for the law of cosines and rearannging we get\n",
    "$$\\cos(\\gamma) = \\frac{a^\\intercal b}{\\|a\\|\\|b\\|}$$"
   ]
  },
  {
   "cell_type": "markdown",
   "metadata": {
    "slideshow": {
     "slide_type": "slide"
    }
   },
   "source": [
    "### Cauchy-Schwarz Inequality\n",
    "\n",
    "$\\color{#6D7D33}{\\text{Theorem}}$: For any two $n$-vectors $a$ and $b$, we have the Cauchy-Schwarz inequality:\n",
    "$$|a^Tb| \\leq ||a||||b||.$$\n",
    "\n",
    "$\\color{#047C91}{\\text{Exercise}}$: Can you prove this inequality using our definiton of the angle between two vectors? "
   ]
  },
  {
   "cell_type": "markdown",
   "metadata": {
    "slideshow": {
     "slide_type": "fragment"
    }
   },
   "source": [
    "The angle $\\angle(a, b)$ is the number in $[0, \\pi]$ that satisfies: \n",
    "$$a^Tb = ||a||||b||\\cos(\\angle(a, b)).$$\n",
    "and $|\\cos(\\angle(a, b))| \\le 1$."
   ]
  },
  {
   "cell_type": "markdown",
   "metadata": {
    "slideshow": {
     "slide_type": "slide"
    }
   },
   "source": [
    "## Recap:\n",
    "- Definition of a vector and examples\n",
    "- Special vectors (Zero, Ones, One-hot)\n",
    "- Operations on vectors\n",
    "    - Addition/Subtraction\n",
    "    - Scalar-Vector multiplication\n",
    "    - Elementwise Vetor multiplication\n",
    "    - Inner product\n",
    "    - Norm and Distance\n",
    "    - Angle"
   ]
  },
  {
   "cell_type": "markdown",
   "metadata": {
    "slideshow": {
     "slide_type": "slide"
    }
   },
   "source": [
    "# 3. Collections of Vectors"
   ]
  },
  {
   "cell_type": "markdown",
   "metadata": {
    "slideshow": {
     "slide_type": "slide"
    }
   },
   "source": [
    "### Linear combinations\n",
    "\n",
    "$\\color{#EF5645}{\\text{Definition}}$: For a list of $m$ n-vectors $a_1, . . . , a_m$ and scalars $β_1, . . . , β_m$:\n",
    "\n",
    "$$β_1a_1 + · · · + β_ma_m$$\n",
    "\n",
    "is a linear combination of the vectors.\n",
    "- $β_1, . . . , β_m$ are the coefficients.\n",
    "\n",
    "$\\color{#EF5645}{\\text{Remark:}}$ Here, $a_i$ is the ith vector in the list of $m$ vectors. It is **not** a component of a vector, it is itself a vector."
   ]
  },
  {
   "cell_type": "markdown",
   "metadata": {
    "slideshow": {
     "slide_type": "slide"
    }
   },
   "source": [
    "$\\color{#047C91}{\\text{Exercise}}$: Write a $n$-vector $b = (b_1, ..., b_{n})$ as a linear combination of the one-hot n-vectors $e_1, ..., e_{n}$."
   ]
  },
  {
   "cell_type": "markdown",
   "metadata": {
    "slideshow": {
     "slide_type": "slide"
    }
   },
   "source": [
    "$\\color{#003660}{\\text{In Python}}$:"
   ]
  },
  {
   "cell_type": "code",
   "execution_count": 37,
   "metadata": {},
   "outputs": [
    {
     "data": {
      "text/plain": [
       "array([-11.9, -23.8, -21.6])"
      ]
     },
     "execution_count": 37,
     "metadata": {},
     "output_type": "execute_result"
    }
   ],
   "source": [
    "\"\"\"Write a linear combination of 2 vectors.\"\"\"\n",
    "a1 = np.array([1, 2, 3])\n",
    "a2 = np.array([3, 6, 6])\n",
    "linear_comb = 2.2 * a1 - 4.7 * a2\n",
    "linear_comb"
   ]
  },
  {
   "attachments": {
    "Screen%20Shot%202021-09-02%20at%2011.48.31%20AM.png": {
     "image/png": "[encoded data removed]"
    }
   },
   "cell_type": "markdown",
   "metadata": {
    "slideshow": {
     "slide_type": "slide"
    }
   },
   "source": [
    "### Interpretation: Displacements and Linear Combination\n",
    "\n",
    "Linear combination $b = 0.75a_1 + 1.5a_2$\n",
    "\n",
    "\n",
    "![Screen%20Shot%202021-09-02%20at%2011.48.31%20AM.png](attachment:Screen%20Shot%202021-09-02%20at%2011.48.31%20AM.png)"
   ]
  },
  {
   "cell_type": "markdown",
   "metadata": {
    "slideshow": {
     "slide_type": "slide"
    }
   },
   "source": [
    "### Orthogonal, Normalized, Orthonormal\n",
    "\n",
    "$\\color{#EF5645}{\\text{Definitions}}$: The $n$-vectors $a_1, . . . , a_k$ are:\n",
    "- _(mutually) orthogonal_ if $a_i ⊥ a_j$ for all $i , j$\n",
    "- _normalized_ if $‖a_i ‖ = 1$ for $i = 1, . . . , k$\n",
    "- _orthonormal_ if they are orthogonal and normalized.\n",
    "\n",
    "$\\color{#047C91}{\\text{Example}}$: Give examples of orthogonal, normalized and orthonormal vectors in 2D. Draw them."
   ]
  },
  {
   "cell_type": "markdown",
   "metadata": {
    "slideshow": {
     "slide_type": "slide"
    }
   },
   "source": [
    "$\\color{#6D7D33}{\\text{Properties}}$: If $a_1, ..., a_k$ are orthonormal, then:\n",
    "- $a_i^Ta_j = 0$ if $i\\neq j$ and $a_i^Ta_i = 1$,\n",
    "- $k\\leq n$,\n",
    "- $a_1, ..., a_k$ are linearly independent."
   ]
  },
  {
   "cell_type": "markdown",
   "metadata": {
    "slideshow": {
     "slide_type": "slide"
    }
   },
   "source": [
    "##### Outline: 05 Linear Independence\n",
    "\n",
    "- [Linear Dependence](#sec-linear)\n",
    "- [Linear Independence](#sec-linear)\n",
    "- [Basis](#Basis)\n",
    "- [Orthonormality](#Orthonormal)\n",
    "- **[Orthonormal Basis](#Orthonormal)**"
   ]
  },
  {
   "cell_type": "markdown",
   "metadata": {
    "slideshow": {
     "slide_type": "slide"
    }
   },
   "source": [
    "### Orthonormal Basis\n",
    "\n",
    "$\\color{#EF5645}{\\text{Definition}}$: A set of $n$ orthonormal $n$-vectors is called an _orthonormal basis_ of $\\mathbb{R}^n$."
   ]
  },
  {
   "cell_type": "markdown",
   "metadata": {
    "slideshow": {
     "slide_type": "slide"
    }
   },
   "source": [
    "$\\color{#047C91}{\\text{Example}}$:\n",
    "- Vectors $e_1, ...., e_n$ form an orthonormal basis of $\\mathbb{R}^n$\n",
    "- These $3$-vectors form an orthonormal basis of $\\mathbb{R}^3$:\n",
    " \n",
    "\n",
    "<center><img src=\"figs/05_linearindep.png\" width=400px alt=\"default\"/></center>\n",
    "\n",
    "\n",
    "\n",
    "$\\color{#047C91}{\\text{Exercise}}$: Show that the $3$-vectors above form an orthonormal basis using math computations."
   ]
  },
  {
   "cell_type": "markdown",
   "metadata": {
    "slideshow": {
     "slide_type": "slide"
    }
   },
   "source": [
    "$\\color{#047C91}{\\text{Exercise}}$: Show that these form an orthonormal basis using Python: \n",
    "<!-- $$a_1 = \\begin{pmatrix}\n",
    "    0 \\\\\n",
    "    0 \\\\\n",
    "    -1 \n",
    "\\end{pmatrix}, \\quad a_2 = \\begin{pmatrix}\n",
    "    1 / \\sqrt{2} \\\\\n",
    "    1 / \\sqrt{2} \\\\\n",
    "    0\n",
    "\\end{pmatrix} \\quad a_3 = \\begin{pmatrix}\n",
    "    1 / \\sqrt{2} \\\\\n",
    "    -1 / \\sqrt{2} \\\\\n",
    "    0\n",
    "\\end{pmatrix}$$ -->\n",
    "<center><img src=\"figs/05_linearindep.png\" width=400px alt=\"default\"/></center>\n"
   ]
  },
  {
   "cell_type": "code",
   "execution_count": 3,
   "metadata": {},
   "outputs": [
    {
     "name": "stdout",
     "output_type": "stream",
     "text": [
      "0.0\n",
      "1.0\n"
     ]
    }
   ],
   "source": [
    "import numpy as np\n",
    "a1 = np.array([0, 0, 1])\n",
    "a2 = np.array([1/np.sqrt(2), 1/np.sqrt(2), 0])\n",
    "a3 = np.array([1/np.sqrt(2), -1/np.sqrt(2), 0])\n",
    "\n",
    "print(np.inner(a1, a2)) # Do same for a1, a3 and a2, a3\n",
    "print(np.linalg.norm(a1)) # Do same for a2 and a3"
   ]
  },
  {
   "cell_type": "markdown",
   "metadata": {
    "slideshow": {
     "slide_type": "slide"
    }
   },
   "source": [
    "### Orthonormal Expansion\n",
    "\n",
    "$\\color{#6D7D33}{\\text{Property}}$: If $a_1, . . . , a_n$ is an orthonormal basis of $\\mathbb{R}^n$, then:\n",
    "- Any $n$-vector $x$ can be written:\n",
    "$$x = (a^T_1 x)a_1 + · · · + (a^T_n x)a_n.$$\n",
    "\n",
    "$\\color{#EF5645}{\\text{Definition}}$: The formula above is called _orthonormal expansion of $x$_ in the orthonormal basis. "
   ]
  },
  {
   "cell_type": "markdown",
   "metadata": {
    "slideshow": {
     "slide_type": "slide"
    }
   },
   "source": [
    "### Block or Stacked Vectors\n",
    "\n",
    "$\\color{#EF5645}{\\text{Definition}}$: Suppose $a, b, c$ are vectors with sizes $m, n, p$. We can create a new vector $d$ as:\n",
    "\n",
    "<center><img src=\"figs/01_stack.png\" alt=\"default\" width=150px/></center>\n",
    "\n",
    "The vector $d$ is called:\n",
    "- a _block vector or a stacked vector with entries $a, b, c$_, \n",
    "- or simply the concatenation of $a, b, c$.\n"
   ]
  },
  {
   "cell_type": "markdown",
   "metadata": {
    "slideshow": {
     "slide_type": "slide"
    }
   },
   "source": [
    "$\\color{#EF5645}{\\text{Remark}}$: The stack vector $d$ has size $m+n+p$ with the following components:\n",
    "\n",
    "$$d = (a_1, ..., a_m, b_1, ..., b_n, c_1, ..., c_p).$$"
   ]
  },
  {
   "cell_type": "markdown",
   "metadata": {
    "slideshow": {
     "slide_type": "slide"
    }
   },
   "source": [
    "### Block or Stacked Vectors\n",
    "\n",
    "$\\color{#003660}{\\text{In Python}}$, we create a block vector using `concatenate` (from `numpy`)."
   ]
  },
  {
   "cell_type": "code",
   "execution_count": 29,
   "metadata": {
    "slideshow": {
     "slide_type": "-"
    }
   },
   "outputs": [
    {
     "data": {
      "text/plain": [
       "array([1.1, 2.2, 3.3, 4.4, 5.5, 6.6, 7.7])"
      ]
     },
     "execution_count": 29,
     "metadata": {},
     "output_type": "execute_result"
    }
   ],
   "source": [
    "import numpy as np\n",
    "a = np.array([1.1, 2.2])\n",
    "b = np.array([3.3, 4.4, 5.5])\n",
    "c = np.array([6.6, 7.7])\n",
    "d = np.concatenate([a, b, c])\n",
    "d"
   ]
  },
  {
   "cell_type": "markdown",
   "metadata": {},
   "source": [
    "<h1>Learn Python Pandas, Packages, and Modules</h1>\n",
    "\n",
    "\n",
    "<b>Web Resources</b>\n",
    "<br> <a href='https://docs.python.org/3/tutorial/modules.html#packages'>Docs.python.org - Packages</a>\n",
    "\n",
    "\n",
    "#### <b>What are Python Modules?</b>\n",
    "\n",
    "Modules are simply python files (.py) which contain python code. This code can define functions, classes, variables etc.\n",
    "\n",
    "\n",
    "#### <b>Why do we use Modules?</b>\n",
    "\n",
    "Modules allow us to organize our code by grouping related functionalities, which makes it easier to use and understand. Writing code into smaller, more manageable pieces will help you 1) debug easier, 2) create reusable code and 3) make the code more understandable to the end user.\n",
    "\n",
    "#### <b>How do we use Modules?</b>\n",
    "\n",
    "We can use the code in a module by using the <b>import</b> function. For example, let's say we created a .py file called 'Square.py'. Inside this file we defined a function called <b>calculateSquare</b>. \n",
    "```python\n",
    "def calculateSquare(x):\n",
    "    return x**2\n",
    "```\n",
    "We can use the <b>calculateSquare</b> function by using either of the following commands:\n",
    "\n",
    "```python\n",
    "import Square \n",
    "x = 2\n",
    "print(Square.calculateSquare(x))\n",
    "\n",
    "#Output: 4\n",
    "\n",
    "from Square import calculateSquare\n",
    "x = 2\n",
    "print(calculateSquare(x))\n",
    "\n",
    "#Output: 4\n",
    "\n",
    "from Square import * #The asterisk imports all functions in the module [not always best practice]\n",
    "x = 2\n",
    "print(calculateSquare(x))\n",
    "\n",
    "#Output: 4\n",
    "```\n",
    "\n",
    "#### <b>Where can I find more information on Modules?</b>\n",
    "\n",
    "[Official python documentation on modules](https://docs.python.org/3.7/tutorial/modules.html)\n",
    "\n",
    "<h1>Packages</h1>\n",
    "\n",
    "#### <b>What are Python Packages?</b>\n",
    "\n",
    "Python packages are an organized collection of related python modules in a single directory. \n",
    "\n",
    "#### <b>How do we use Packages?</b>\n",
    "\n",
    "Packages are used exactly like modules (see the Modules section above).\n",
    "\n",
    "#### <b>What are some common Packages?</b>\n",
    "\n",
    "Below are some of the most widely used modules in finance and data science for data analysis:\n",
    "- Pandas\n",
    "- Numpy\n",
    "- Scipy\n",
    "- Scikit-Learn\n",
    "\n",
    "Visualizations and dashboard creation:\n",
    "- Matplotlib\n",
    "- ipywidgets\n"
   ]
  },
  {
   "cell_type": "code",
   "execution_count": 8,
   "metadata": {},
   "outputs": [
    {
     "name": "stdout",
     "output_type": "stream",
     "text": [
      "[1, 2, 3, 1, 2, 3]\n"
     ]
    }
   ],
   "source": [
    "###IMPORT PANDAS AND NUMPY PACKAGES###\n",
    "import numpy as np\n",
    "\n",
    "###CREATING A SERIES###\n",
    "a = [1,2,3]\n",
    "b = [1,2,3]\n",
    "print(a + b)"
   ]
  },
  {
   "cell_type": "code",
   "execution_count": 13,
   "metadata": {},
   "outputs": [
    {
     "data": {
      "text/html": [
       "<div>\n",
       "<style scoped>\n",
       "    .dataframe tbody tr th:only-of-type {\n",
       "        vertical-align: middle;\n",
       "    }\n",
       "\n",
       "    .dataframe tbody tr th {\n",
       "        vertical-align: top;\n",
       "    }\n",
       "\n",
       "    .dataframe thead th {\n",
       "        text-align: right;\n",
       "    }\n",
       "</style>\n",
       "<table border=\"1\" class=\"dataframe\">\n",
       "  <thead>\n",
       "    <tr style=\"text-align: right;\">\n",
       "      <th></th>\n",
       "      <th>A</th>\n",
       "      <th>B</th>\n",
       "      <th>C</th>\n",
       "    </tr>\n",
       "  </thead>\n",
       "  <tbody>\n",
       "    <tr>\n",
       "      <td>2013-01-01</td>\n",
       "      <td>0.169424</td>\n",
       "      <td>0.166691</td>\n",
       "      <td>-2.385720</td>\n",
       "    </tr>\n",
       "    <tr>\n",
       "      <td>2013-01-02</td>\n",
       "      <td>0.542676</td>\n",
       "      <td>0.978059</td>\n",
       "      <td>1.152731</td>\n",
       "    </tr>\n",
       "    <tr>\n",
       "      <td>2013-01-03</td>\n",
       "      <td>-0.547186</td>\n",
       "      <td>0.918728</td>\n",
       "      <td>2.226278</td>\n",
       "    </tr>\n",
       "    <tr>\n",
       "      <td>2013-01-04</td>\n",
       "      <td>1.033752</td>\n",
       "      <td>-0.712600</td>\n",
       "      <td>1.169230</td>\n",
       "    </tr>\n",
       "    <tr>\n",
       "      <td>2013-01-05</td>\n",
       "      <td>-0.534291</td>\n",
       "      <td>0.985898</td>\n",
       "      <td>-1.705124</td>\n",
       "    </tr>\n",
       "    <tr>\n",
       "      <td>2013-01-06</td>\n",
       "      <td>0.485850</td>\n",
       "      <td>0.085890</td>\n",
       "      <td>1.870669</td>\n",
       "    </tr>\n",
       "  </tbody>\n",
       "</table>\n",
       "</div>"
      ],
      "text/plain": [
       "                   A         B         C\n",
       "2013-01-01  0.169424  0.166691 -2.385720\n",
       "2013-01-02  0.542676  0.978059  1.152731\n",
       "2013-01-03 -0.547186  0.918728  2.226278\n",
       "2013-01-04  1.033752 -0.712600  1.169230\n",
       "2013-01-05 -0.534291  0.985898 -1.705124\n",
       "2013-01-06  0.485850  0.085890  1.870669"
      ]
     },
     "execution_count": 13,
     "metadata": {},
     "output_type": "execute_result"
    }
   ],
   "source": [
    "###CREATING A TIMESERIES BASED DATAFRAME###\n",
    "dates = pd.date_range('20130101', periods=6)\n",
    "df = pd.DataFrame(np.random.randn(6, 3), index=dates, columns=list('ABC'))\n",
    "df"
   ]
  },
  {
   "cell_type": "code",
   "execution_count": 14,
   "metadata": {},
   "outputs": [
    {
     "data": {
      "text/plain": [
       "2013-01-01    0.169424\n",
       "2013-01-02    0.542676\n",
       "2013-01-03   -0.547186\n",
       "2013-01-04    1.033752\n",
       "2013-01-05   -0.534291\n",
       "2013-01-06    0.485850\n",
       "Freq: D, Name: A, dtype: float64"
      ]
     },
     "execution_count": 14,
     "metadata": {},
     "output_type": "execute_result"
    }
   ],
   "source": [
    "###GET DATA FOR A SINGLE COLUMN###\n",
    "df['A']"
   ]
  },
  {
   "cell_type": "code",
   "execution_count": 15,
   "metadata": {},
   "outputs": [
    {
     "data": {
      "text/html": [
       "<div>\n",
       "<style scoped>\n",
       "    .dataframe tbody tr th:only-of-type {\n",
       "        vertical-align: middle;\n",
       "    }\n",
       "\n",
       "    .dataframe tbody tr th {\n",
       "        vertical-align: top;\n",
       "    }\n",
       "\n",
       "    .dataframe thead th {\n",
       "        text-align: right;\n",
       "    }\n",
       "</style>\n",
       "<table border=\"1\" class=\"dataframe\">\n",
       "  <thead>\n",
       "    <tr style=\"text-align: right;\">\n",
       "      <th></th>\n",
       "      <th>A</th>\n",
       "      <th>B</th>\n",
       "      <th>C</th>\n",
       "    </tr>\n",
       "  </thead>\n",
       "  <tbody>\n",
       "    <tr>\n",
       "      <td>count</td>\n",
       "      <td>6.000000</td>\n",
       "      <td>6.000000</td>\n",
       "      <td>6.000000</td>\n",
       "    </tr>\n",
       "    <tr>\n",
       "      <td>mean</td>\n",
       "      <td>0.191704</td>\n",
       "      <td>0.403778</td>\n",
       "      <td>0.388011</td>\n",
       "    </tr>\n",
       "    <tr>\n",
       "      <td>std</td>\n",
       "      <td>0.631232</td>\n",
       "      <td>0.683725</td>\n",
       "      <td>1.941515</td>\n",
       "    </tr>\n",
       "    <tr>\n",
       "      <td>min</td>\n",
       "      <td>-0.547186</td>\n",
       "      <td>-0.712600</td>\n",
       "      <td>-2.385720</td>\n",
       "    </tr>\n",
       "    <tr>\n",
       "      <td>25%</td>\n",
       "      <td>-0.358362</td>\n",
       "      <td>0.106090</td>\n",
       "      <td>-0.990660</td>\n",
       "    </tr>\n",
       "    <tr>\n",
       "      <td>50%</td>\n",
       "      <td>0.327637</td>\n",
       "      <td>0.542709</td>\n",
       "      <td>1.160980</td>\n",
       "    </tr>\n",
       "    <tr>\n",
       "      <td>75%</td>\n",
       "      <td>0.528469</td>\n",
       "      <td>0.963226</td>\n",
       "      <td>1.695309</td>\n",
       "    </tr>\n",
       "    <tr>\n",
       "      <td>max</td>\n",
       "      <td>1.033752</td>\n",
       "      <td>0.985898</td>\n",
       "      <td>2.226278</td>\n",
       "    </tr>\n",
       "  </tbody>\n",
       "</table>\n",
       "</div>"
      ],
      "text/plain": [
       "              A         B         C\n",
       "count  6.000000  6.000000  6.000000\n",
       "mean   0.191704  0.403778  0.388011\n",
       "std    0.631232  0.683725  1.941515\n",
       "min   -0.547186 -0.712600 -2.385720\n",
       "25%   -0.358362  0.106090 -0.990660\n",
       "50%    0.327637  0.542709  1.160980\n",
       "75%    0.528469  0.963226  1.695309\n",
       "max    1.033752  0.985898  2.226278"
      ]
     },
     "execution_count": 15,
     "metadata": {},
     "output_type": "execute_result"
    }
   ],
   "source": [
    "###CALCULATE SUMMARY STATISTICS###\n",
    "df.describe()"
   ]
  },
  {
   "cell_type": "code",
   "execution_count": 16,
   "metadata": {},
   "outputs": [
    {
     "data": {
      "text/plain": [
       "(6, 3)"
      ]
     },
     "execution_count": 16,
     "metadata": {},
     "output_type": "execute_result"
    }
   ],
   "source": [
    "###GET THE NUMBER OF ROWS AND COLUMNS###\n",
    "df.shape"
   ]
  },
  {
   "cell_type": "code",
   "execution_count": 17,
   "metadata": {},
   "outputs": [
    {
     "data": {
      "text/plain": [
       "6"
      ]
     },
     "execution_count": 17,
     "metadata": {},
     "output_type": "execute_result"
    }
   ],
   "source": [
    "###GET THE NUMBER OF ROWS ONLY###\n",
    "len(df)"
   ]
  },
  {
   "cell_type": "code",
   "execution_count": 18,
   "metadata": {},
   "outputs": [
    {
     "data": {
      "text/plain": [
       "<matplotlib.axes._subplots.AxesSubplot at 0x11efd5990>"
      ]
     },
     "execution_count": 18,
     "metadata": {},
     "output_type": "execute_result"
    },
    {
     "data": {
      "image/png": "[encoded data removed]",
      "text/plain": [
       "<Figure size 432x288 with 1 Axes>"
      ]
     },
     "metadata": {
      "needs_background": "light"
     },
     "output_type": "display_data"
    }
   ],
   "source": [
    "###PLOT THE DATAFRAME###\n",
    "%matplotlib inline\n",
    "df.plot()"
   ]
  },
  {
   "cell_type": "markdown",
   "metadata": {},
   "source": [
    "# Learn Python File I/O\n",
    "\n",
    "\n",
    "<b>Web Resources</b>\n",
    "<br> <a href='https://docs.python.org/3/tutorial/inputoutput.html#reading-and-writing-files'>Docs.python.org - Reading and Writing Files</a>\n",
    "\n",
    "\n",
    "#### <b>What is I/O?</b>\n",
    "\n",
    "I/O, or input/output, is communication between a computer and the outside world.\n",
    "\n",
    "Inputs are signals received by the computer. The computer can get inputs from hardware like a keyboard and mouse or from other computers via the internet. Outputs are signals sent by the computer. Your monitor is probably the most obvious output device. An internet modem is an example of a device that both receives inputs (web-pages loading on your browser) and sends outputs (outbound emails).\n",
    "\n",
    "     \n",
    "#### <b>Why do we use I/O?</b>\n",
    "\n",
    "You can always define data directly in your python code:\n",
    "\n",
    "```python\n",
    "example_data = [1, 2, 3, 4, 5]\n",
    "answer = function(example_data)\n",
    "```\n"
   ]
  },
  {
   "cell_type": "markdown",
   "metadata": {},
   "source": [
    "This is a great way to test functionality but isn't sustainable in the long term. It would be much easier if we could read in data from a file or API as well as write data down to files. This saves us having to manually define data and scales our solutions to handle arbitrary datasets.\n",
    "\n",
    "## Files\n",
    "\n",
    "Common file types you likely interact with are CSV and Excel files. The pandas library has a number of convenience functions for reading data from these files and converting them directly into dataframes."
   ]
  },
  {
   "cell_type": "markdown",
   "metadata": {},
   "source": [
    "```python\n",
    "import pandas as pd\n",
    "\n",
    "csv_dataframe = pd.read_csv('csv_file.csv')\n",
    "excel_dataframe = pd.read_excel('excel_file.xlsx')\n",
    "```"
   ]
  },
  {
   "cell_type": "markdown",
   "metadata": {},
   "source": [
    "Each method accepts the path of the data file as an argument. File paths without a `/` indicate that the data file is in the same directory as the notebook we're writing our code in. If we want to read from a file inside a folder, then we'll need to update the file path, e.g. `folder/csv_file.csv`.\n",
    "\n",
    "Both methods accept a number of different optional parameters for defining more precisely how you want them to read the data. Visit the [I/O section](https://pandas.pydata.org/docs/reference/io.html) of the online pandas documentation to learn more about these functions.\n",
    "\n",
    "We can use the `%pwd` [Jupyter magic command](https://ipython.readthedocs.io/en/stable/interactive/magics.html) to find the local directory. Running the following code snippet in a project cell will print the path of your local directory:\n",
    "\n",
    "```python\n",
    "x = %pwd\n",
    "print(x)\n",
    "```\n",
    "\n",
    "### Resources\n",
    "Python has a rich library of packages and functions for dealing with files. [This online tutorial](https://www.programiz.com/python-programming/file-operation) explains in more detail how to use python to deal with File I/O (input and output).\n",
    "\n",
    "### File IO Examples\n",
    "\n",
    "1. You're writing some code inside `notebook.ipynb` and want to read the data from `bonds.csv` which is inside the `data` folder (see below). What file path do you need to specify to read the data into a dataframe: `pd.read_csv(...)`?\n",
    "\n",
    "```\n",
    "notebook.ipynb\n",
    "data/\n",
    "└── bonds.csv\n",
    "```\n",
    "`pd.read_csv('data/bonds.csv')`\n",
    "\n",
    "2. You have a CSV with 3 blank rows at the top of the file. What parameter do you need to pass to the `read_csv` function to ignore these blank rows when reading in the data?\n",
    "\n",
    "`skiprows=3`\n",
    "\n",
    "3. A colleague has sent you some tabular data in a [JSON file](https://www.w3schools.com/js/js_json_intro.asp) that you've moved into the same folder as your notebook. You can use pandas to read this data into a dataframe:\n",
    "\n",
    "`pd.read_json`"
   ]
  },
  {
   "cell_type": "code",
   "execution_count": 19,
   "metadata": {
    "scrolled": true
   },
   "outputs": [
    {
     "data": {
      "text/html": [
       "<div>\n",
       "<style scoped>\n",
       "    .dataframe tbody tr th:only-of-type {\n",
       "        vertical-align: middle;\n",
       "    }\n",
       "\n",
       "    .dataframe tbody tr th {\n",
       "        vertical-align: top;\n",
       "    }\n",
       "\n",
       "    .dataframe thead th {\n",
       "        text-align: right;\n",
       "    }\n",
       "</style>\n",
       "<table border=\"1\" class=\"dataframe\">\n",
       "  <thead>\n",
       "    <tr style=\"text-align: right;\">\n",
       "      <th></th>\n",
       "      <th>X</th>\n",
       "      <th>Y</th>\n",
       "      <th>Z</th>\n",
       "    </tr>\n",
       "  </thead>\n",
       "  <tbody>\n",
       "    <tr>\n",
       "      <td>2013-01-01</td>\n",
       "      <td>0.169424</td>\n",
       "      <td>0.166691</td>\n",
       "      <td>-2.385720</td>\n",
       "    </tr>\n",
       "    <tr>\n",
       "      <td>2013-01-02</td>\n",
       "      <td>0.542676</td>\n",
       "      <td>0.978059</td>\n",
       "      <td>1.152731</td>\n",
       "    </tr>\n",
       "    <tr>\n",
       "      <td>2013-01-03</td>\n",
       "      <td>-0.547186</td>\n",
       "      <td>0.918728</td>\n",
       "      <td>2.226278</td>\n",
       "    </tr>\n",
       "    <tr>\n",
       "      <td>2013-01-04</td>\n",
       "      <td>1.033752</td>\n",
       "      <td>-0.712600</td>\n",
       "      <td>1.169230</td>\n",
       "    </tr>\n",
       "    <tr>\n",
       "      <td>2013-01-05</td>\n",
       "      <td>-0.534291</td>\n",
       "      <td>0.985898</td>\n",
       "      <td>-1.705124</td>\n",
       "    </tr>\n",
       "    <tr>\n",
       "      <td>2013-01-06</td>\n",
       "      <td>0.485850</td>\n",
       "      <td>0.085890</td>\n",
       "      <td>1.870669</td>\n",
       "    </tr>\n",
       "  </tbody>\n",
       "</table>\n",
       "</div>"
      ],
      "text/plain": [
       "                   X         Y         Z\n",
       "2013-01-01  0.169424  0.166691 -2.385720\n",
       "2013-01-02  0.542676  0.978059  1.152731\n",
       "2013-01-03 -0.547186  0.918728  2.226278\n",
       "2013-01-04  1.033752 -0.712600  1.169230\n",
       "2013-01-05 -0.534291  0.985898 -1.705124\n",
       "2013-01-06  0.485850  0.085890  1.870669"
      ]
     },
     "execution_count": 19,
     "metadata": {},
     "output_type": "execute_result"
    }
   ],
   "source": [
    "###RENAME COLUMNS###\n",
    "df = df.rename(columns={\"A\":\"X\",\"B\":\"Y\",\"C\":\"Z\"})\n",
    "df"
   ]
  },
  {
   "cell_type": "markdown",
   "metadata": {
    "slideshow": {
     "slide_type": "fragment"
    }
   },
   "source": [
    "In ECE, a 2-vector $a=(a_1, a_2)$ can represent a displacement in 2-D, for example the movement of a person on a map (google map, apple maps). \n",
    "\n",
    "<center><img src=\"figs/01_sumvectors.jpg\" width=500px alt=\"default\"/></center>"
   ]
  },
  {
   "cell_type": "markdown",
   "metadata": {
    "cell_style": "center",
    "slideshow": {
     "slide_type": "fragment"
    }
   },
   "source": [
    "In ECE, a 3-vector $a$ can be a color in RGB: $a = (R, G, B)$\n",
    "\n",
    "<center><img src=\"figs/01_matrix_color.jpeg\" alt=\"default\" width=600/></center>\n",
    "\n",
    "<center>The matrix coloring is an operation on vectors</center>"
   ]
  },
  {
   "cell_type": "markdown",
   "metadata": {
    "slideshow": {
     "slide_type": "slide"
    }
   },
   "source": [
    "### Visualization 2: A vector as an arrow\n",
    "\n",
    "A 2-vector $(a_1, a_2)$ can also represent:\n",
    "  - an arrow in the 2D plane from $(0, 0)$ to $(a_1, a_2)$.\n",
    "\n",
    "An n-vector $(a_1, ..., a_n)$ can also represent:\n",
    "  - an arrow in the n-D space from $(0, ..., 0)$ to $(a_1, ..., a_n)$."
   ]
  },
  {
   "cell_type": "markdown",
   "metadata": {
    "slideshow": {
     "slide_type": "slide"
    }
   },
   "source": [
    "$\\color{#003660}{\\text{In Python}}$, we use `quiver` to plot arrows (from `matplotlib.pyplot`) in 2D."
   ]
  },
  {
   "cell_type": "code",
   "execution_count": 21,
   "metadata": {
    "slideshow": {
     "slide_type": "-"
    }
   },
   "outputs": [
    {
     "data": {
      "image/png": "[encoded data removed]",
      "text/plain": [
       "<Figure size 432x288 with 1 Axes>"
      ]
     },
     "metadata": {
      "needs_background": "light"
     },
     "output_type": "display_data"
    }
   ],
   "source": [
    "plt.quiver(\n",
    "    0, 0, vector[0], vector[1], \n",
    "    color='green', scale=10); "
   ]
  },
  {
   "cell_type": "code",
   "execution_count": 52,
   "metadata": {
    "scrolled": true,
    "slideshow": {
     "slide_type": "skip"
    }
   },
   "outputs": [
    {
     "data": {
      "image/png": "[encoded data removed]",
      "text/plain": [
       "<Figure size 432x288 with 1 Axes>"
      ]
     },
     "metadata": {
      "needs_background": "light"
     },
     "output_type": "display_data"
    }
   ],
   "source": [
    "fig = plt.figure()\n",
    "ax = plt.axes(projection =\"3d\")\n",
    "ax.quiver(\n",
    "    0, 0, 0, vector[0], vector[1], vector[2], \n",
    "    color='green', length=0.1, normalize=True); "
   ]
  },
  {
   "cell_type": "markdown",
   "metadata": {
    "slideshow": {
     "slide_type": "slide"
    }
   },
   "source": [
    "$\\color{#003660}{\\text{In Python}}$, we can use a distance to compute differences between more complex data.\n",
    "\n",
    "$\\color{#047C91}{\\text{Example}}$: Load brain connectomes data from the package `geomstats`."
   ]
  },
  {
   "cell_type": "code",
   "execution_count": 14,
   "metadata": {},
   "outputs": [],
   "source": [
    "import geomstats.datasets.utils as ds\n",
    "\n",
    "data, patient_ids, labels = ds.load_connectomes()"
   ]
  },
  {
   "cell_type": "markdown",
   "metadata": {
    "slideshow": {
     "slide_type": "slide"
    }
   },
   "source": [
    "Given $N$ brain areas: a _brain connectome_ is a $N \\times N$ table where a value at row $i$ and column $j$ quantifies whether areas $i$ and $j$ are generally activated together.\n",
    "\n",
    "We show connectome using colors with `imshow`."
   ]
  },
  {
   "cell_type": "code",
   "execution_count": 19,
   "metadata": {},
   "outputs": [
    {
     "data": {
      "image/png": "[encoded data removed]",
      "text/plain": [
       "<Figure size 432x288 with 1 Axes>"
      ]
     },
     "metadata": {
      "needs_background": "light"
     },
     "output_type": "display_data"
    }
   ],
   "source": [
    "plt.imshow(data[0]);#print(data[0])"
   ]
  },
  {
   "cell_type": "markdown",
   "metadata": {
    "slideshow": {
     "slide_type": "slide"
    }
   },
   "source": [
    "We verify that two schizophrenic subjects are \"closer\" than a schizophrenic subject and a healthy control."
   ]
  },
  {
   "cell_type": "code",
   "execution_count": 25,
   "metadata": {
    "slideshow": {
     "slide_type": "-"
    }
   },
   "outputs": [
    {
     "name": "stdout",
     "output_type": "stream",
     "text": [
      "[1 0 0]\n",
      "healthy-schiz: 5.281496613975049\n",
      "schiz-schiz:  4.461061135669169\n"
     ]
    }
   ],
   "source": [
    "print(labels[0:3])\n",
    "healthy = data[0]; schiz1 = data[1]; schiz2 = data[2]\n",
    "print(\n",
    "    \"healthy-schiz:\", np.linalg.norm(healthy - schiz1))\n",
    "print(\n",
    "    \"schiz-schiz: \", np.linalg.norm(schiz1 - schiz2))"
   ]
  },
  {
   "cell_type": "markdown",
   "metadata": {
    "slideshow": {
     "slide_type": "slide"
    }
   },
   "source": [
    "### Nearest Neighbor\n",
    "\n",
    "$\\color{#EF5645}{\\text{Definition}}$: Consider $z_1, . . . , z_m$ a list of $n$-vectors. We say that $z_j$ is the _nearest neighbor of the $n$-vector $x$_ if:\n",
    "$$‖x − z_j ‖ ≤ ‖x − z_i ‖,$$\n",
    "for all $i = 1, . . . , m$.\n",
    "\n",
    "<center><img src=\"figs/03_nn.jpg\" alt=\"default\" width=300px/></center>"
   ]
  },
  {
   "cell_type": "markdown",
   "metadata": {
    "slideshow": {
     "slide_type": "slide"
    }
   },
   "source": [
    "$\\color{#047C91}{\\text{Exercise}}$: Design an algorithm that can predict if a subject is schizophrenic or not, from its connectome."
   ]
  },
  {
   "cell_type": "markdown",
   "metadata": {
    "slideshow": {
     "slide_type": "slide"
    }
   },
   "source": [
    "### Example of inner-products in ECE\n",
    "\n",
    "\n",
    "- Education: $p$ grades, $q$ weights; $p^T q$ is the total grade\n",
    "\n",
    "- Deep Learning: \n",
    "  - each inner node is the result of an inner product\n",
    "<center><img src=\"figs/01_nn.png\" alt=\"default\" width=310px/></center>\n",
    "\n",
    "<center>Inner product in neural networks.</center>"
   ]
  },
  {
   "cell_type": "markdown",
   "metadata": {
    "slideshow": {
     "slide_type": "slide"
    }
   },
   "source": [
    "$\\color{#047C91}{\\text{Exercise}}$: What are the components of the vector below? What is its dimension?\n",
    "\n",
    "<center><img src=\"figs/01_def_vector.png\" alt=\"default\" width=800px/></center>\n",
    "\n",
    "$\\color{#EF5645}{\\text{Definition}}$: In contrast to vectors, numbers are just called _scalars_. For example, 3.4 is a scalar."
   ]
  },
  {
   "cell_type": "markdown",
   "metadata": {
    "slideshow": {
     "slide_type": "fragment"
    }
   },
   "source": [
    "$\\color{#EF5645}{\\text{Remark 2}}$: When you see \"$a_i$\":\n",
    "- If $a$ is an n-vector:\n",
    "  - $a_i$ is the entry at index $i$.\n",
    "- If $[a_1, ..., a_m]$ is a list of $m$ $n$-vectors:\n",
    "  - $a_i$ is the ith $n$-vector."
   ]
  }
 ],
 "metadata": {
  "celltoolbar": "Slideshow",
  "kernelspec": {
   "display_name": "Python 3",
   "language": "python",
   "name": "python3"
  },
  "language_info": {
   "codemirror_mode": {
    "name": "ipython",
    "version": 3
   },
   "file_extension": ".py",
   "mimetype": "text/x-python",
   "name": "python",
   "nbconvert_exporter": "python",
   "pygments_lexer": "ipython3",
   "version": "3.7.1"
  }
 },
 "nbformat": 4,
 "nbformat_minor": 2
}
