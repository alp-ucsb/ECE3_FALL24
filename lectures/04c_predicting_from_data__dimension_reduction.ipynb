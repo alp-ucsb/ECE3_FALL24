{
 "cells": [
  {
   "cell_type": "markdown",
   "id": "7f2c2800",
   "metadata": {},
   "source": [
    "# 05: Predicting from Data: Dimension Reduction"
   ]
  },
  {
   "cell_type": "markdown",
   "id": "3c7f2404",
   "metadata": {
    "slideshow": {
     "slide_type": "slide"
    }
   },
   "source": [
    "<center><img src=\"figs/09_six_degrees.png\" alt=\"default\" width=600px/></center>\n",
    "\n",
    "<center>Six degrees of separation theory</center>"
   ]
  },
  {
   "cell_type": "markdown",
   "id": "9f746c1b",
   "metadata": {
    "slideshow": {
     "slide_type": "slide"
    }
   },
   "source": [
    "# Outline of ECE 3\n",
    "\n",
    "- 01: Welcome to Python\n",
    "- 02: Visualizing Data in Python\n",
    "- 03: Computing with Data in Python\n",
    "- 04: Summarizing Data in Python\n",
    "- **05: Predicting from Data with Machine Learning in Python**\n",
    "  - A. Clustering\n",
    "  - B. Linear regression\n",
    "  - **C. Dimension Reduction**"
   ]
  },
  {
   "cell_type": "markdown",
   "id": "619f68af",
   "metadata": {
    "slideshow": {
     "slide_type": "slide"
    }
   },
   "source": [
    "- **05: Predicting from Data with Machine Learning in Python**\n",
    "  - **C. Dimension Reduction**\n",
    "    - Eigenvectors and eigenvalues\n",
    "    - ...\n",
    "    \n",
    "For undergrads: aim for 3 min / slide, i.e. 25 slides in 75 min.\n",
    "    "
   ]
  },
  {
   "cell_type": "markdown",
   "id": "0ce7637f",
   "metadata": {},
   "source": [
    "# TODO: PCA"
   ]
  }
 ],
 "metadata": {
  "celltoolbar": "Slideshow",
  "kernelspec": {
   "display_name": "Python 3 (ipykernel)",
   "language": "python",
   "name": "python3"
  },
  "language_info": {
   "codemirror_mode": {
    "name": "ipython",
    "version": 3
   },
   "file_extension": ".py",
   "mimetype": "text/x-python",
   "name": "python",
   "nbconvert_exporter": "python",
   "pygments_lexer": "ipython3",
   "version": "3.9.9"
  }
 },
 "nbformat": 4,
 "nbformat_minor": 6
}
