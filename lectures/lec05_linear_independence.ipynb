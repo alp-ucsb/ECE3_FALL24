{
 "cells": [
  {
   "cell_type": "markdown",
   "id": "2cfa83a8",
   "metadata": {
    "cell_style": "center",
    "slideshow": {
     "slide_type": "slide"
    }
   },
   "source": [
    "# 05 Linear Independence"
   ]
  },
  {
   "cell_type": "markdown",
   "id": "c3187ae6",
   "metadata": {
    "cell_style": "split"
   },
   "source": [
    "<img src=\"figs/01_rgb_intro.png\" alt=\"default\"/>"
   ]
  },
  {
   "cell_type": "markdown",
   "id": "49463801",
   "metadata": {
    "cell_style": "split"
   },
   "source": [
    "<center><img src=\"figs/05_image_basis.png\" alt=\"default\"/></center>\n",
    "\n",
    "<center>First two elements of a basis of the space of images.</center>"
   ]
  },
  {
   "cell_type": "markdown",
   "id": "e8e58aa3",
   "metadata": {
    "slideshow": {
     "slide_type": "slide"
    }
   },
   "source": [
    "#### Unit 1: Vectors, Textbook Ch. 1-5\n",
    "- 01 Vectors\n",
    "- 02 Linear Functions\n",
    "- 03 Norms and Distances\n",
    "- 04 Clustering\n",
    "- **_05 Linear Independence_**\n",
    "\n",
    "#### Unit 2: Matrices, Textbook Ch. 6-11\n",
    "\n",
    "#### Unit 3: Least Squares, Textbook Ch. 12-14"
   ]
  },
  {
   "cell_type": "markdown",
   "id": "cfa6f330",
   "metadata": {
    "slideshow": {
     "slide_type": "slide"
    }
   },
   "source": [
    "##### Outline: 05 Linear Independence\n",
    "\n",
    "- [Linear Dependence](#sec-linear)\n",
    "- [Linear Independence](#sec-linear)\n",
    "- [Basis](#Basis)\n",
    "- [Orthonormality](#Orthonormal)\n",
    "- [Orthonormal Vectors](#Orthonormal)"
   ]
  },
  {
   "cell_type": "markdown",
   "id": "25dff644",
   "metadata": {
    "slideshow": {
     "slide_type": "slide"
    }
   },
   "source": [
    "##### Outline: 05 Linear Independence\n",
    "\n",
    "- **[Linear Dependence](#sec-linear)**\n",
    "- [Linear Independence](#sec-linear)\n",
    "- [Basis](#Basis)\n",
    "- [Orthonormality](#Orthonormal)\n",
    "- [Orthonormal Vectors](#Orthonormal)"
   ]
  },
  {
   "cell_type": "markdown",
   "id": "06ac51b0",
   "metadata": {
    "slideshow": {
     "slide_type": "slide"
    }
   },
   "source": [
    "### Linear Dependence\n",
    "\n",
    "$\\color{#EF5645}{\\text{Definition}}$: The $n$-vectors ${a_1, . . . , a_k}$ (with $k ≥ 1$) are _linearly dependent_ if:\n",
    "$$β_1a_1 + · · · + β_ka_k = 0$$\n",
    "**holds for some scalars $β_1, . . . , β_k$ that are not all zero**. \n",
    "\n",
    "$\\color{#EF5645}{\\text{Equivalent Definition}}$: The $n$-vectors ${a_1, . . . , a_k}$ (with $k ≥ 1$) are _linearly dependent_ if:\n",
    "\n",
    "<center>at least one $a_i$ is a linear combination of the others.</center>"
   ]
  },
  {
   "cell_type": "markdown",
   "id": "40eb1620",
   "metadata": {
    "slideshow": {
     "slide_type": "slide"
    }
   },
   "source": [
    "$\\color{#EF5645}{\\text{Remarks}}$:\n",
    "\n",
    "- ${a_1}$ is linearly dependent only if $a_1 = 0$.\n",
    "- ${a_1, a_2}$ are linearly dependent only if a $a_i$ is multiple of the other.\n",
    "- for $k > 2$, there is no simple way to state condition."
   ]
  },
  {
   "cell_type": "markdown",
   "id": "1ed4419c",
   "metadata": {
    "slideshow": {
     "slide_type": "slide"
    }
   },
   "source": [
    "$\\color{#047C91}{\\text{Exercise}}$: Which vectors are linearly dependent?\n",
    "\n",
    "<center><img src=\"figs/03_angles.jpg\" alt=\"default\"/></center>"
   ]
  },
  {
   "cell_type": "markdown",
   "id": "b11b756c",
   "metadata": {
    "slideshow": {
     "slide_type": "slide"
    }
   },
   "source": [
    "$\\color{#047C91}{\\text{Example}}$: The vectors:\n",
    "<center><img src=\"figs/05_lineardep.png\" width=800px alt=\"default\"/></center>\n",
    "<!-- $$a_1 = \\begin{pmatrix}\n",
    "    0.2 \\\\\n",
    "    -7 \\\\\n",
    "    8.6 \n",
    "\\end{pmatrix}, \\quad a_2 = \\begin{pmatrix}\n",
    "    -0.1 \\\\\n",
    "    2 \\\\\n",
    "    -1\n",
    "\\end{pmatrix} \\quad a_3 = \\begin{pmatrix}\n",
    "    0 \\\\\n",
    "    -1 \\\\\n",
    "    2.2\n",
    "\\end{pmatrix}$$ -->\n",
    "\n",
    "are linearly dependent because:\n",
    "\n",
    "-  $a_1 + 2a_2 − 3a_3 = 0$,\n",
    "- we can express any of them as linear combination of the other two, e.g., $a_2 = (−1/2)a_1 + (3/2)a_3$.\n",
    "\n"
   ]
  },
  {
   "cell_type": "markdown",
   "id": "c890b59a",
   "metadata": {
    "slideshow": {
     "slide_type": "slide"
    }
   },
   "source": [
    "##### Outline: 05 Linear Independence\n",
    "\n",
    "- [Linear Dependence](#sec-linear)\n",
    "- **[Linear Independence](#sec-linear)**\n",
    "- [Basis](#Basis)\n",
    "- [Orthonormality](#Orthonormal)\n",
    "- [Orthonormal Vectors](#Orthonormal)"
   ]
  },
  {
   "cell_type": "markdown",
   "id": "e243dd59",
   "metadata": {
    "slideshow": {
     "slide_type": "slide"
    }
   },
   "source": [
    "### Linear Independence\n",
    "\n",
    "= not linearly dependence.\n",
    "\n",
    "$\\color{#EF5645}{\\text{Definition}}$: The $n$-vectors ${a_1, . . . , a_k}$ (with $k ≥ 1$) are _linearly **in**dependent_ if:\n",
    "$$β_1a_1 + · · · + β_ka_k = 0$$\n",
    "**holds only when** $β_1 = · · · = β_k = 0$. \n",
    "\n",
    "$\\color{#EF5645}{\\text{Equivalent Definition}}$: The $n$-vectors ${a_1, . . . , a_k}$ (with $k ≥ 1$) are _linearly **in**dependent_ if:\n",
    "<center>no $a_i$ is a linear combination of the others.</center>\n",
    "\n"
   ]
  },
  {
   "cell_type": "markdown",
   "id": "7ae56b9d",
   "metadata": {
    "slideshow": {
     "slide_type": "slide"
    }
   },
   "source": [
    "$\\color{#047C91}{\\text{Example}}$: The one-hot $n$-vectors $e_1, . . . , e_n$ are linearly independent."
   ]
  },
  {
   "cell_type": "markdown",
   "id": "484484ba",
   "metadata": {
    "slideshow": {
     "slide_type": "slide"
    }
   },
   "source": [
    "### Linear (in)dependence & dimension\n",
    "\n",
    "$\\color{#6D7D33}{\\text{Proposition}}$: Any set of $n + 1$ or more $n$-vectors is linearly dependent.\n",
    "\n",
    "$\\color{#047C91}{\\text{Exercise}}$: Are the vectors $(1, 2), (2, 3)$ and $(3, 0)$ linearly dependent or independent? "
   ]
  },
  {
   "cell_type": "markdown",
   "id": "a4af72d3",
   "metadata": {
    "slideshow": {
     "slide_type": "skip"
    }
   },
   "source": [
    "### Property of linear independence\n",
    "\n",
    "$\\color{#6D7D33}{\\text{Property}}$: Take linearly independent vectors $a_1, . . . , a_k$. Suppose $x$ is linear combination of the $a_1, . . . , a_k$: $$x = β_1a_1 + · · · + β_ka_k.$$\n",
    "Then, the coefficients $\\beta_1, ..., \\beta_k$ are unique."
   ]
  },
  {
   "cell_type": "markdown",
   "id": "6e95615d",
   "metadata": {
    "slideshow": {
     "slide_type": "slide"
    }
   },
   "source": [
    "##### Outline: 05 Linear Independence\n",
    "\n",
    "- [Linear Dependence](#sec-linear)\n",
    "- [Linear Independence](#sec-linear)\n",
    "- **[Basis](#Basis)**\n",
    "- [Orthonormality](#Orthonormal)\n",
    "- [Orthonormal Vectors](#Orthonormal)"
   ]
  },
  {
   "cell_type": "markdown",
   "id": "d9527005",
   "metadata": {
    "slideshow": {
     "slide_type": "slide"
    }
   },
   "source": [
    "### Basis\n",
    "\n",
    "$\\color{#EF5645}{\\text{Definition}}$: A set of $n$ linearly independent $n$-vectors $a_1, . . . , a_n$ is called a _basis_ of the space of $n$-vectors $\\mathbb{R}^n$.\n",
    "\n",
    "$\\color{#047C91}{\\text{Example}}$: The set of $n$ one-hot $n$-vectors is a basis of the space of $n$-vectors. \n",
    "\n",
    "This is why we also call them \"basis vectors\"."
   ]
  },
  {
   "cell_type": "markdown",
   "id": "5c4efcf7",
   "metadata": {
    "slideshow": {
     "slide_type": "slide"
    }
   },
   "source": [
    "$\\color{#047C91}{\\text{Example}}$: What is a possible basis:\n",
    "- For the space of colors represented as vectors $(r, g, b)$? \n",
    "- For the space of $8\\times8$ images?"
   ]
  },
  {
   "cell_type": "markdown",
   "id": "3281977e",
   "metadata": {
    "slideshow": {
     "slide_type": "slide"
    }
   },
   "source": [
    "- Space of colors as $3$-vectors: $(r, g, b)$\n",
    "    - A basis: set of vectors representing red, green & blue.\n",
    "- Space of 8x8 images as $64$-vectors\n",
    "    - A basis: set of images with only one black pixel."
   ]
  },
  {
   "cell_type": "markdown",
   "id": "5607663c",
   "metadata": {
    "cell_style": "split"
   },
   "source": [
    "<center><img src=\"figs/01_rgb_intro.png\" alt=\"default\" width=250px/></center>"
   ]
  },
  {
   "cell_type": "markdown",
   "id": "91b83294",
   "metadata": {
    "cell_style": "split"
   },
   "source": [
    "<center><img src=\"figs/05_image_basis.png\" alt=\"default\"/></center>"
   ]
  },
  {
   "cell_type": "markdown",
   "id": "41609d69",
   "metadata": {
    "slideshow": {
     "slide_type": "slide"
    }
   },
   "source": [
    "$\\color{#6D7D33}{\\text{Property}}$: If $a_1, . . . , a_n$ is a basis of the space of $n$-vectors, then:\n",
    "- Any $n$-vector $b$:\n",
    "  - can be expressed as a linear combination: $b = β_1a_1 + · · · + β_n a_n$ for some $β_1, . . . , β_n$.\n",
    "  - and the coefficients $β_1, . . . , β_n$ are unique.\n",
    "  \n",
    "  \n",
    "$\\color{#EF5645}{\\text{Definition}}$: The formula above is called _expansion of $b$ in the $a_1, . . . , a_n$ basis_. \n"
   ]
  },
  {
   "cell_type": "markdown",
   "id": "b13397d2",
   "metadata": {
    "slideshow": {
     "slide_type": "slide"
    }
   },
   "source": [
    "$\\color{#047C91}{\\text{Example}}$: Compute expansion of $b = (b_1, ..., b_n)$ in basis $e_1, ..., e_n$."
   ]
  },
  {
   "cell_type": "markdown",
   "id": "9fe1740f",
   "metadata": {
    "slideshow": {
     "slide_type": "slide"
    }
   },
   "source": [
    "##### Outline: 05 Linear Independence\n",
    "\n",
    "- [Linear Dependence](#sec-linear)\n",
    "- [Linear Independence](#sec-linear)\n",
    "- [Basis](#Basis)\n",
    "- **[Orthonormality](#Orthonormal)**\n",
    "- [Orthonormal Basis](#Orthonormal)"
   ]
  },
  {
   "cell_type": "markdown",
   "id": "cb63c611",
   "metadata": {
    "slideshow": {
     "slide_type": "slide"
    }
   },
   "source": [
    "### Orthogonal, Normalized, Orthonormal\n",
    "\n",
    "$\\color{#EF5645}{\\text{Definitions}}$: The $n$-vectors $a_1, . . . , a_k$ are:\n",
    "- _(mutually) orthogonal_ if $a_i ⊥ a_j$ for all $i , j$\n",
    "- _normalized_ if $‖a_i ‖ = 1$ for $i = 1, . . . , k$\n",
    "- _orthonormal_ if they are orthogonal and normalized.\n",
    "\n",
    "$\\color{#047C91}{\\text{Example}}$: Give examples of orthogonal, normalized and orthonormal vectors in 2D. Draw them."
   ]
  },
  {
   "cell_type": "markdown",
   "id": "f10d1411",
   "metadata": {
    "slideshow": {
     "slide_type": "slide"
    }
   },
   "source": [
    "$\\color{#6D7D33}{\\text{Properties}}$: If $a_1, ..., a_k$ are orthonormal, then:\n",
    "- $a_i^Ta_j = 0$ if $i\\neq j$ and $a_i^Ta_i = 1$,\n",
    "- $k\\leq n$,\n",
    "- $a_1, ..., a_k$ are linearly independent."
   ]
  },
  {
   "cell_type": "markdown",
   "id": "5c8278ff",
   "metadata": {
    "slideshow": {
     "slide_type": "slide"
    }
   },
   "source": [
    "##### Outline: 05 Linear Independence\n",
    "\n",
    "- [Linear Dependence](#sec-linear)\n",
    "- [Linear Independence](#sec-linear)\n",
    "- [Basis](#Basis)\n",
    "- [Orthonormality](#Orthonormal)\n",
    "- **[Orthonormal Basis](#Orthonormal)**"
   ]
  },
  {
   "cell_type": "markdown",
   "id": "2567ae7e",
   "metadata": {
    "slideshow": {
     "slide_type": "slide"
    }
   },
   "source": [
    "### Orthonormal Basis\n",
    "\n",
    "$\\color{#EF5645}{\\text{Definition}}$: A set of $n$ orthonormal $n$-vectors is called an _orthonormal basis_ of $\\mathbb{R}^n$."
   ]
  },
  {
   "cell_type": "markdown",
   "id": "f327b742",
   "metadata": {
    "slideshow": {
     "slide_type": "slide"
    }
   },
   "source": [
    "$\\color{#047C91}{\\text{Example}}$:\n",
    "- Vectors $e_1, ...., e_n$ form an orthonormal basis of $\\mathbb{R}^n$\n",
    "- These $3$-vectors form an orthonormal basis of $\\mathbb{R}^3$:\n",
    " \n",
    "\n",
    "<center><img src=\"figs/05_linearindep.png\" width=400px alt=\"default\"/></center>\n",
    "\n",
    "\n",
    "\n",
    "$\\color{#047C91}{\\text{Exercise}}$: Show that the $3$-vectors above form an orthonormal basis using math computations."
   ]
  },
  {
   "cell_type": "markdown",
   "id": "61951ebc",
   "metadata": {
    "slideshow": {
     "slide_type": "slide"
    }
   },
   "source": [
    "$\\color{#047C91}{\\text{Exercise}}$: Show that these form an orthonormal basis using Python: \n",
    "<!-- $$a_1 = \\begin{pmatrix}\n",
    "    0 \\\\\n",
    "    0 \\\\\n",
    "    -1 \n",
    "\\end{pmatrix}, \\quad a_2 = \\begin{pmatrix}\n",
    "    1 / \\sqrt{2} \\\\\n",
    "    1 / \\sqrt{2} \\\\\n",
    "    0\n",
    "\\end{pmatrix} \\quad a_3 = \\begin{pmatrix}\n",
    "    1 / \\sqrt{2} \\\\\n",
    "    -1 / \\sqrt{2} \\\\\n",
    "    0\n",
    "\\end{pmatrix}$$ -->\n",
    "<center><img src=\"figs/05_linearindep.png\" width=400px alt=\"default\"/></center>\n"
   ]
  },
  {
   "cell_type": "code",
   "execution_count": 3,
   "id": "f6b14170",
   "metadata": {},
   "outputs": [
    {
     "name": "stdout",
     "output_type": "stream",
     "text": [
      "0.0\n",
      "1.0\n"
     ]
    }
   ],
   "source": [
    "import numpy as np\n",
    "a1 = np.array([0, 0, 1])\n",
    "a2 = np.array([1/np.sqrt(2), 1/np.sqrt(2), 0])\n",
    "a3 = np.array([1/np.sqrt(2), -1/np.sqrt(2), 0])\n",
    "\n",
    "print(np.inner(a1, a2)) # Do same for a1, a3 and a2, a3\n",
    "print(np.linalg.norm(a1)) # Do same for a2 and a3"
   ]
  },
  {
   "cell_type": "markdown",
   "id": "d8b2c54b",
   "metadata": {
    "slideshow": {
     "slide_type": "slide"
    }
   },
   "source": [
    "### Orthonormal Expansion\n",
    "\n",
    "$\\color{#6D7D33}{\\text{Property}}$: If $a_1, . . . , a_n$ is an orthonormal basis of $\\mathbb{R}^n$, then:\n",
    "- Any $n$-vector $x$ can be written:\n",
    "$$x = (a^T_1 x)a_1 + · · · + (a^T_n x)a_n.$$\n",
    "\n",
    "$\\color{#EF5645}{\\text{Definition}}$: The formula above is called _orthonormal expansion of $x$_ in the orthonormal basis. "
   ]
  },
  {
   "cell_type": "markdown",
   "id": "6602797d",
   "metadata": {
    "slideshow": {
     "slide_type": "slide"
    }
   },
   "source": [
    "##### Outline: 05 Linear Independence\n",
    "\n",
    "- [Linear Dependence](#sec-linear)\n",
    "- [Linear Independence](#sec-linear)\n",
    "- [Basis](#Basis)\n",
    "- [Orthonormality](#Orthonormal)\n",
    "- [Orthonormal Vectors](#Orthonormal)\n",
    "\n",
    "Resources: Textbook, Ch. 5"
   ]
  }
 ],
 "metadata": {
  "celltoolbar": "Slideshow",
  "kernelspec": {
   "display_name": "Python 3 (ipykernel)",
   "language": "python",
   "name": "python3"
  },
  "language_info": {
   "codemirror_mode": {
    "name": "ipython",
    "version": 3
   },
   "file_extension": ".py",
   "mimetype": "text/x-python",
   "name": "python",
   "nbconvert_exporter": "python",
   "pygments_lexer": "ipython3",
   "version": "3.9.9"
  }
 },
 "nbformat": 4,
 "nbformat_minor": 5
}
