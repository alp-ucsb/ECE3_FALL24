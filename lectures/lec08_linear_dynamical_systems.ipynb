{
 "cells": [
  {
   "cell_type": "markdown",
   "id": "91af183d",
   "metadata": {
    "slideshow": {
     "slide_type": "slide"
    }
   },
   "source": [
    "# 08 Linear Dynamical Systems"
   ]
  },
  {
   "cell_type": "markdown",
   "id": "d6063c7a",
   "metadata": {},
   "source": [
    "<center>Modeling an epidemic</center>\n",
    "<center><img src=\"figs/08_sir.png\" alt=\"default\" width=450px/></center>"
   ]
  },
  {
   "cell_type": "markdown",
   "id": "19248408",
   "metadata": {
    "slideshow": {
     "slide_type": "slide"
    }
   },
   "source": [
    "#### Unit 1: Vectors, Textbook Ch. 1-5\n",
    "\n",
    "#### Unit 2: Matrices, Textbook Ch. 6-11\n",
    "- 06 Matrices\n",
    "- 07 Linear Equations\n",
    "- **_08 Linear Dynamical Systems_**\n",
    "- 09 Matrix Multiplication\n",
    "- 10 Matrix Inverse\n",
    "\n",
    "#### Unit 3: Least Squares, Textbook Ch. 12-14"
   ]
  },
  {
   "cell_type": "markdown",
   "id": "13a91811",
   "metadata": {
    "slideshow": {
     "slide_type": "slide"
    }
   },
   "source": [
    "##### Outline: 08 Linear Dynamical Systems\n",
    "\n",
    "- **[State trajectory](#sec-matrices)**\n",
    "- [Linear dynamical systems](#sec-matrices)\n",
    "- [Epidemic dynamics](#examples)"
   ]
  },
  {
   "cell_type": "markdown",
   "id": "a23c47ac",
   "metadata": {
    "slideshow": {
     "slide_type": "slide"
    }
   },
   "source": [
    "### State Trajectory\n",
    "\n",
    "$\\color{#EF5645}{\\text{Definition}}$: Consider a sequence of several $n$-vectors $x_1, x_2, ..., x_t, ...$ where $t$ denotes the time or period. Then:\n",
    "- $x_t$ is called a _state_ at time $t$, or a _time-point_,\n",
    "- the sequence $x_1, x_2, ..., x_t, ...$ is called a _state trajectory_ or a _time-series_. \n",
    "\n",
    "\n",
    "$\\color{#047C91}{\\text{Example}}$: Number of Covid cases in Santa Barbara through time."
   ]
  },
  {
   "cell_type": "markdown",
   "id": "7dfe539b",
   "metadata": {
    "slideshow": {
     "slide_type": "slide"
    }
   },
   "source": [
    "$\\color{#EF5645}{\\text{Definition}}$: Assuming $t$ is the current time:\n",
    "- $x_t$ is the _current state_,\n",
    "- $x_{t-1}$ is the _previous state_,\n",
    "- $x_{t+1}$ is the _next state_."
   ]
  },
  {
   "cell_type": "markdown",
   "id": "86382dd9",
   "metadata": {
    "slideshow": {
     "slide_type": "slide"
    }
   },
   "source": [
    "### Covid-19 in Santa Barbara"
   ]
  },
  {
   "cell_type": "code",
   "execution_count": 3,
   "id": "aeb66ac3",
   "metadata": {
    "slideshow": {
     "slide_type": "-"
    }
   },
   "outputs": [
    {
     "data": {
      "text/html": [
       "<div>\n",
       "<style scoped>\n",
       "    .dataframe tbody tr th:only-of-type {\n",
       "        vertical-align: middle;\n",
       "    }\n",
       "\n",
       "    .dataframe tbody tr th {\n",
       "        vertical-align: top;\n",
       "    }\n",
       "\n",
       "    .dataframe thead th {\n",
       "        text-align: right;\n",
       "    }\n",
       "</style>\n",
       "<table border=\"1\" class=\"dataframe\">\n",
       "  <thead>\n",
       "    <tr style=\"text-align: right;\">\n",
       "      <th></th>\n",
       "      <th>UID</th>\n",
       "      <th>iso2</th>\n",
       "      <th>iso3</th>\n",
       "      <th>code3</th>\n",
       "      <th>FIPS</th>\n",
       "      <th>Admin2</th>\n",
       "      <th>Province_State</th>\n",
       "      <th>Country_Region</th>\n",
       "      <th>Lat</th>\n",
       "      <th>Long_</th>\n",
       "      <th>...</th>\n",
       "      <th>10/16/22</th>\n",
       "      <th>10/17/22</th>\n",
       "      <th>10/18/22</th>\n",
       "      <th>10/19/22</th>\n",
       "      <th>10/20/22</th>\n",
       "      <th>10/21/22</th>\n",
       "      <th>10/22/22</th>\n",
       "      <th>10/23/22</th>\n",
       "      <th>10/24/22</th>\n",
       "      <th>10/25/22</th>\n",
       "    </tr>\n",
       "  </thead>\n",
       "  <tbody>\n",
       "    <tr>\n",
       "      <th>239</th>\n",
       "      <td>84006083</td>\n",
       "      <td>US</td>\n",
       "      <td>USA</td>\n",
       "      <td>840</td>\n",
       "      <td>6083.0</td>\n",
       "      <td>Santa Barbara</td>\n",
       "      <td>California</td>\n",
       "      <td>US</td>\n",
       "      <td>34.653295</td>\n",
       "      <td>-120.018849</td>\n",
       "      <td>...</td>\n",
       "      <td>112875</td>\n",
       "      <td>112875</td>\n",
       "      <td>113069</td>\n",
       "      <td>113069</td>\n",
       "      <td>113071</td>\n",
       "      <td>113072</td>\n",
       "      <td>113072</td>\n",
       "      <td>113072</td>\n",
       "      <td>113072</td>\n",
       "      <td>113072</td>\n",
       "    </tr>\n",
       "  </tbody>\n",
       "</table>\n",
       "<p>1 rows × 1019 columns</p>\n",
       "</div>"
      ],
      "text/plain": [
       "          UID iso2 iso3  code3    FIPS         Admin2 Province_State  \\\n",
       "239  84006083   US  USA    840  6083.0  Santa Barbara     California   \n",
       "\n",
       "    Country_Region        Lat       Long_  ... 10/16/22  10/17/22  10/18/22  \\\n",
       "239             US  34.653295 -120.018849  ...   112875    112875    113069   \n",
       "\n",
       "     10/19/22  10/20/22  10/21/22  10/22/22  10/23/22  10/24/22  10/25/22  \n",
       "239    113069    113071    113072    113072    113072    113072    113072  \n",
       "\n",
       "[1 rows x 1019 columns]"
      ]
     },
     "execution_count": 3,
     "metadata": {},
     "output_type": "execute_result"
    }
   ],
   "source": [
    "import pandas as pd\n",
    "\n",
    "filename = 'https://raw.githubusercontent.com/CSSEGISandData/COVID-19/master/csse_covid_19_data/csse_covid_19_time_series/time_series_covid19_confirmed_US.csv'\n",
    "df_covid = pd.read_csv(filename)\n",
    "df_sb = df_covid[df_covid[\"Admin2\"] == \"Santa Barbara\"]\n",
    "df_sb.head()"
   ]
  },
  {
   "cell_type": "code",
   "execution_count": 4,
   "id": "e6ac4b8e",
   "metadata": {
    "slideshow": {
     "slide_type": "slide"
    }
   },
   "outputs": [
    {
     "data": {
      "image/png": "[encoded data removed]",
      "text/plain": [
       "<Figure size 432x288 with 1 Axes>"
      ]
     },
     "metadata": {
      "needs_background": "light"
     },
     "output_type": "display_data"
    }
   ],
   "source": [
    "df_timeseries = df_sb.drop(\n",
    "    columns=[\n",
    "        \"Combined_Key\", \"UID\", \"iso2\", \"iso3\", \"code3\", \n",
    "        \"FIPS\", \"Admin2\", \"Province_State\", \"Country_Region\", \n",
    "        \"Lat\", \"Long_\"])\n",
    "df_timeseries.transpose().plot(\n",
    "    title=\"Santa Barbara's Covid-19 Cases\");"
   ]
  },
  {
   "cell_type": "markdown",
   "id": "834a1ff3",
   "metadata": {
    "slideshow": {
     "slide_type": "slide"
    }
   },
   "source": [
    "### Other Examples\n",
    "\n",
    "State trajectories are found in many fields:\n",
    "- **Epidemiology**: tracking susceptible, infected, recovered and deaths at $t$\n",
    "- **Mechanics**: tracking position and velocity of plane through time $t$\n",
    "- **Finance**: return of $n$ assets at time $t$\n",
    "\n",
    " \n",
    "$\\color{#047C91}{\\text{Exercise}}$: In these examples, what is the state $x_t$ and its size?"
   ]
  },
  {
   "cell_type": "markdown",
   "id": "f596122b",
   "metadata": {
    "slideshow": {
     "slide_type": "slide"
    }
   },
   "source": [
    "##### Outline: 08 Linear Dynamical Systems\n",
    "\n",
    "- [State trajectory](#sec-matrices)\n",
    "- **[Linear dynamical systems](#sec-matrices)**\n",
    "- [Epidemic dynamics](#examples)"
   ]
  },
  {
   "cell_type": "markdown",
   "id": "bca66dd9",
   "metadata": {
    "slideshow": {
     "slide_type": "slide"
    }
   },
   "source": [
    "### Linear Dynamical System\n",
    "\n",
    "A linear dynamical system describes how state $x_{t+1}$ is obtained from state $x_t$, i.e. how $x_t$ evolves into $x_{t+1}$.\n",
    "\n",
    "$\\rightarrow$ It describes the _dynamics_ of the state trajectory."
   ]
  },
  {
   "cell_type": "markdown",
   "id": "e2cbac44",
   "metadata": {
    "slideshow": {
     "slide_type": "slide"
    }
   },
   "source": [
    "### Linear Dynamical System\n",
    "\n",
    "$\\color{#EF5645}{\\text{Definition}}$: A _linear dynamical system_ describes the evolution of a state over time, and is written as:\n",
    "$$ x_{t+1} = A_t x_t \\quad t = 1, 2, ...$$\n",
    "where:\n",
    "- $A_t$ are $n \\times n$ _dynamics matrices_,\n",
    "- $(A_t)_{ij} (x_t)_j$ is contribution to $(x_{t+1})_i$ from $(x_t)_j$.\n",
    "\n",
    "$\\color{#EF5645}{\\text{Definition}}$: The system is called _time-invariant_ if $A_t = A$ does not depend on time."
   ]
  },
  {
   "cell_type": "markdown",
   "id": "d14a0df3",
   "metadata": {
    "slideshow": {
     "slide_type": "slide"
    }
   },
   "source": [
    "$\\color{#003660}{\\text{In Python}}$: We can simulate evolution of $x_t$ using \"for loops\" to compute:\n",
    "$$x_{t+1} = A_t x_t$$\n",
    "recursively (see next section)."
   ]
  },
  {
   "cell_type": "markdown",
   "id": "7cf29efc",
   "metadata": {
    "slideshow": {
     "slide_type": "slide"
    }
   },
   "source": [
    "##### Outline: 08 Linear Dynamical Systems\n",
    "\n",
    "- [State trajectory](#sec-matrices)\n",
    "- [Linear dynamical systems](#sec-matrices)\n",
    "- **[Epidemic dynamics](#examples)**"
   ]
  },
  {
   "cell_type": "markdown",
   "id": "165b404b",
   "metadata": {
    "slideshow": {
     "slide_type": "slide"
    }
   },
   "source": [
    "### SIR Model\n",
    "\n",
    "$\\color{#EF5645}{\\text{Definition}}$: The _Susceptible-Infected-Recovered (SIR)_ model of an epidemic is a linear dynamical system defined on a $4$-vector state $x_t$, that gives the proportion of the population in $4$ infection states:\n",
    "- **Susceptible**: can acquire the disease the next day \n",
    "- **Infected**: have the disease \n",
    "- **Recovered**: had the disease, recovered, now immune \n",
    "- **Deceased**: had the disease, and unfortunately died \n",
    "\n",
    "$\\color{#047C91}{\\text{Example of state}}$: $x_t = (0.75, 0.10, 0.10, 0.05)$\n"
   ]
  },
  {
   "cell_type": "markdown",
   "id": "77cc6822",
   "metadata": {
    "slideshow": {
     "slide_type": "slide"
    }
   },
   "source": [
    "$\\color{#047C91}{\\text{Exercise}}$ Write the linear dynamical system associated to this epidemic.\n",
    "- among susceptible population\n",
    "  - 5% acquires the disease \n",
    "  - 95% remain susceptible\n",
    "- among infected population\n",
    "  - 1% dies\n",
    "  - 10% recovers with immunity\n",
    "  - 4% recover without immunity (i.e., become susceptible) \n",
    "  - 85% remain infected\n",
    "- 100% of immune and dead people remain in their state\n",
    "\n",
    "\n"
   ]
  },
  {
   "cell_type": "markdown",
   "id": "7f5d5c7a",
   "metadata": {
    "slideshow": {
     "slide_type": "slide"
    }
   },
   "source": [
    "### Simulate from $x_0 = (1, 0, 0, 0)$"
   ]
  },
  {
   "cell_type": "code",
   "execution_count": null,
   "id": "7ebc3960",
   "metadata": {},
   "outputs": [],
   "source": [
    "import matplotlib.pyplot as plt\n",
    "import numpy as np"
   ]
  },
  {
   "cell_type": "markdown",
   "id": "00ce2547",
   "metadata": {
    "slideshow": {
     "slide_type": "slide"
    }
   },
   "source": [
    "### Answer: Simulate from $x_0 = (1, 0, 0, 0)$"
   ]
  },
  {
   "cell_type": "code",
   "execution_count": 17,
   "id": "9d680a5f",
   "metadata": {},
   "outputs": [
    {
     "data": {
      "image/png": "[encoded data removed]",
      "text/plain": [
       "<Figure size 432x288 with 1 Axes>"
      ]
     },
     "metadata": {
      "needs_background": "light"
     },
     "output_type": "display_data"
    }
   ],
   "source": [
    "import matplotlib.pyplot as plt\n",
    "import numpy as np\n",
    "x0 = np.array([1, 0, 0, 0])\n",
    "A = np.array([[0.95, 0.04, 0, 0],[0.05, 0.85, 0, 0],[0, 0.1, 1, 0],[0, 0.01, 0, 1]    ])\n",
    "n_times = 50\n",
    "times = np.arange(0, n_times, 1); #print(times)\n",
    "x_current = x0 ; states = []\n",
    "for time in times:\n",
    "    x_next = A @ x_current\n",
    "    states.append(x_current)\n",
    "    x_current = x_next\n",
    "    \n",
    "plt.plot(times, [x[0] for x in states], label=\"susceptible\")\n",
    "plt.plot(times, [x[1] for x in states], label=\"infected\")\n",
    "plt.plot(times, [x[2] for x in states], label=\"recovered\")\n",
    "plt.plot(times, [x[3] for x in states], label=\"deaths\")\n",
    "plt.legend();"
   ]
  },
  {
   "cell_type": "markdown",
   "id": "a455e378",
   "metadata": {
    "slideshow": {
     "slide_type": "slide"
    }
   },
   "source": [
    "##### Outline: 08 Linear Dynamical Systems\n",
    "\n",
    "- [State trajectory](#sec-matrices)\n",
    "- [Linear dynamical systems](#sec-matrices)\n",
    "- [Epidemic dynamics](#examples)\n",
    "\n",
    "Resources: Textbook Ch. 09"
   ]
  }
 ],
 "metadata": {
  "celltoolbar": "Slideshow",
  "kernelspec": {
   "display_name": "Python 3 (ipykernel)",
   "language": "python",
   "name": "python3"
  },
  "language_info": {
   "codemirror_mode": {
    "name": "ipython",
    "version": 3
   },
   "file_extension": ".py",
   "mimetype": "text/x-python",
   "name": "python",
   "nbconvert_exporter": "python",
   "pygments_lexer": "ipython3",
   "version": "3.9.9"
  }
 },
 "nbformat": 4,
 "nbformat_minor": 5
}
