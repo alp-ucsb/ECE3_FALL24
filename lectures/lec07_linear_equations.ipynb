{
 "cells": [
  {
   "cell_type": "markdown",
   "metadata": {
    "slideshow": {
     "slide_type": "slide"
    }
   },
   "source": [
    "# 07 Linear Equations"
   ]
  },
  {
   "cell_type": "markdown",
   "metadata": {
    "cell_style": "split"
   },
   "source": [
    "<img src=\"figs/02_affine_only.png\" alt=\"Drawing\" width=450px/>\n",
    "\n"
   ]
  },
  {
   "cell_type": "markdown",
   "metadata": {
    "cell_style": "split"
   },
   "source": [
    "<img src=\"figs/07_foreflight.png\" alt=\"Drawing\" width=550px/>\n"
   ]
  },
  {
   "cell_type": "markdown",
   "metadata": {
    "slideshow": {
     "slide_type": "slide"
    }
   },
   "source": [
    "### Linear Equations\n",
    "\n",
    "Linear equations are very powerful:\n",
    "- _We write linear equations_:\n",
    "  - to frame a real-world problem into math.\n",
    "- _We solve linear equations_:\n",
    "  - to solve the problem with math."
   ]
  },
  {
   "cell_type": "markdown",
   "metadata": {
    "slideshow": {
     "slide_type": "slide"
    }
   },
   "source": [
    "#### Unit 1: Vectors, Textbook Ch. 1-5\n",
    "\n",
    "#### Unit 2: Matrices, Textbook Ch. 6-11\n",
    "- 06 Matrices\n",
    "- **_07 Linear Equations_**\n",
    "- 08 Linear Dynamical Systems\n",
    "- 09 Matrix Multiplication\n",
    "- 10 Matrix Inverse\n",
    "\n",
    "#### Unit 3: Least Squares, Textbook Ch. 12-14"
   ]
  },
  {
   "cell_type": "markdown",
   "metadata": {
    "slideshow": {
     "slide_type": "slide"
    }
   },
   "source": [
    "##### Outline: 07 Linear Equations\n",
    "\n",
    "- [Functions in several dimensions](#sec-laf)\n",
    "- [Linear functions in several dimensions](#sec-laf)\n",
    "- [Affine functions in several dimensions](#sec-laf)\n",
    "- [Linear equations](#sec-le)"
   ]
  },
  {
   "cell_type": "markdown",
   "metadata": {
    "slideshow": {
     "slide_type": "slide"
    }
   },
   "source": [
    "##### Outline: 07 Linear Equations\n",
    "\n",
    "- **[Functions in several dimensions](#sec-laf)**\n",
    "- [Linear functions in several dimensions](#sec-laf)\n",
    "- [Affine functions in several dimensions](#sec-laf)\n",
    "- [Linear equations](#sec-le)"
   ]
  },
  {
   "cell_type": "markdown",
   "metadata": {
    "slideshow": {
     "slide_type": "slide"
    }
   },
   "source": [
    "### Recall: Function $f:\\mathbb{R}^n \\rightarrow \\mathbb{R}$\n",
    "\n",
    "$\\color{#EF5645}{\\text{Definition}}$: A _function_ $f$ from $\\mathbb{R}^n$ to $\\mathbb{R}$ assigns to each $n$-vector exactly one scalar. \n",
    "- We denote $f:\\mathbb{R}^n \\rightarrow \\mathbb{R}$ such a function. \n",
    "- $\\mathbb{R}^n$ is the _input space, or domain_, of $f$.\n",
    "- $\\mathbb{R}$ is its _output space_.\n"
   ]
  },
  {
   "cell_type": "markdown",
   "metadata": {
    "slideshow": {
     "slide_type": "slide"
    }
   },
   "source": [
    "### General: Function $f:\\mathbb{R}^n \\rightarrow \\mathbb{R}^m$\n",
    "\n",
    "$\\color{#EF5645}{\\text{Definition}}$: A _function_ $f$ from $\\mathbb{R}^n$ to $\\mathbb{R}^m$ assigns to each $n$-vector exactly one $m$-vector. \n",
    "- We denote $f:\\mathbb{R}^n \\rightarrow \\mathbb{R}^m$ such a function. \n",
    "- $\\mathbb{R}^n$ is the _input space, or domain_, of $f$.\n",
    "- $\\mathbb{R}^m$ is its _output space_.\n",
    "\n",
    "$\\color{#047C91}{\\text{Example}}$: Consider $f:\\mathbb{R}^3 \\rightarrow \\mathbb{R}^2$ given by: $f(x_1, x_2, x_3) = (x_2^3 - x_1, -x_3^4)$. What is $n, m$?"
   ]
  },
  {
   "cell_type": "markdown",
   "metadata": {
    "slideshow": {
     "slide_type": "slide"
    }
   },
   "source": [
    "$\\color{#EF5645}{\\text{Notations}}$: We write:\n",
    "- $f(x) = (f_1(x), ..., f_m(x))$:\n",
    "  - to show components of $f(x)$,\n",
    "- $f(x) = f(x_1, ..., x_n)$:\n",
    "  - to show components of $x$,\n",
    "- $$f(x) = (f_1(x_1, ..., x_n), ..., f_m(x_1, ..., x_n))$$\n",
    "  - to show both.\n",
    "\n",
    "\n",
    "$\\color{#047C91}{\\text{Example}}$: Consider $f:\\mathbb{R}^3 \\rightarrow \\mathbb{R}^2$ given by: $f(x_1, x_2, x_3) = (x_2^3 - x_1, -x_3^4)$. What is $f_2(x_1, x_2, x_3)$?"
   ]
  },
  {
   "cell_type": "markdown",
   "metadata": {
    "slideshow": {
     "slide_type": "slide"
    }
   },
   "source": [
    "##### Outline: 07 Linear Equations\n",
    "\n",
    "- [Functions in several dimensions](#sec-laf)\n",
    "- **[Linear functions in several dimensions](#sec-laf)**\n",
    "- [Affine functions in several dimensions](#sec-laf)\n",
    "- [Linear equations](#sec-le)"
   ]
  },
  {
   "cell_type": "markdown",
   "metadata": {
    "slideshow": {
     "slide_type": "slide"
    }
   },
   "source": [
    "### Recall: Linear Function $f:\\mathbb{R}^n \\rightarrow \\mathbb{R}$\n",
    "\n",
    "$\\color{#6D7D33}{\\text{Proposition}}$: \n",
    "\n",
    "A function $f:\\mathbb{R}^n \\rightarrow \\mathbb{R}$ is linear if and only if:\n",
    "\n",
    "- for all $n$-vector $x$, $f(x) = a^Tx$\n",
    "  - for some $n$-vector $a$."
   ]
  },
  {
   "cell_type": "markdown",
   "metadata": {
    "slideshow": {
     "slide_type": "slide"
    }
   },
   "source": [
    "### General: Linear Function $f:\\mathbb{R}^n \\rightarrow \\mathbb{R}^m$\n",
    "\n",
    "\n",
    "$\\color{#6D7D33}{\\text{Proposition}}$: \n",
    "\n",
    "A function $f:\\mathbb{R}^n \\rightarrow \\mathbb{R}^m$ is linear if and only if:\n",
    "\n",
    "- for all $n$-vector $x$, $f(x) = Ax$ \n",
    "  - for some matrix $A$ of shape $m \\times n$."
   ]
  },
  {
   "cell_type": "markdown",
   "metadata": {
    "slideshow": {
     "slide_type": "slide"
    }
   },
   "source": [
    "$\\color{#047C91}{\\text{Exercise}}$: Consider the matrix $A$ defined as: \n",
    "<center><img src=\"figs/07_matrix2.png\" width=300px alt=\"default\"/></center>\n",
    "\n",
    "What is the linear function associated with this matrix? \n"
   ]
  },
  {
   "cell_type": "markdown",
   "metadata": {
    "slideshow": {
     "slide_type": "slide"
    }
   },
   "source": [
    "$\\color{#047C91}{\\text{Exercise}}$: Consider a function $f:\\mathbb{R}^n \\rightarrow \\mathbb{R}^m$ defined by:\n",
    "\n",
    "\n",
    "<center><img src=\"figs/07_function.png\" width=400px alt=\"default\"/></center>\n",
    "\n",
    "\n",
    "We are told that $f$ is linear. \n",
    "\n",
    "What is the matrix $A$ such that: $f(x) = Ax$?\n"
   ]
  },
  {
   "cell_type": "markdown",
   "metadata": {
    "slideshow": {
     "slide_type": "slide"
    }
   },
   "source": [
    "$\\color{#047C91}{\\text{Exercise}}$: Consider a function $f:\\mathbb{R}^n \\rightarrow \\mathbb{R}^m$ defined by:\n",
    "<center><img src=\"figs/07_function.png\" width=300px alt=\"default\"/></center>"
   ]
  },
  {
   "cell_type": "code",
   "execution_count": 7,
   "metadata": {},
   "outputs": [
    {
     "data": {
      "text/plain": [
       "(-21, 6.6)"
      ]
     },
     "execution_count": 7,
     "metadata": {},
     "output_type": "execute_result"
    }
   ],
   "source": [
    "def f(x):\n",
    "    val1 = 5 * x[1] - x[0]\n",
    "    val2 = 2 * x[2]\n",
    "    return (val1, val2)\n",
    "\n",
    "f([11, -2, 3.3])"
   ]
  },
  {
   "cell_type": "markdown",
   "metadata": {
    "slideshow": {
     "slide_type": "slide"
    }
   },
   "source": [
    "\n",
    "$\\color{#047C91}{\\text{Exercise}}$: Consider a function $f:\\mathbb{R}^n \\rightarrow \\mathbb{R}^m$, that is linear. \n",
    "\n",
    "What is the matrix $A$ such that: $f(x) = Ax$?"
   ]
  },
  {
   "cell_type": "markdown",
   "metadata": {
    "slideshow": {
     "slide_type": "slide"
    }
   },
   "source": [
    "##### Outline: 07 Linear Equations\n",
    "\n",
    "- [Functions in several dimensions](#sec-laf)\n",
    "- [Linear functions in several dimensions](#sec-laf)\n",
    "- **[Affine functions in several dimensions](#sec-laf)**\n",
    "- [Linear equations](#sec-le)"
   ]
  },
  {
   "cell_type": "markdown",
   "metadata": {
    "slideshow": {
     "slide_type": "slide"
    }
   },
   "source": [
    "### Recall: Affine functions\n",
    "\n",
    "$\\color{#EF5645}{\\text{Definition}}$ (affine function): A function $f:\\mathbb{R}^n \\rightarrow \\mathbb{R}$ that is linear plus a constant is called affine. Its general form is:\n",
    "\n",
    "$$f(x) = a^Tx+b \\quad \\text{with $a$ an $n$-vector and $b$ a scalar}$$\n",
    "\n"
   ]
  },
  {
   "cell_type": "markdown",
   "metadata": {
    "slideshow": {
     "slide_type": "slide"
    }
   },
   "source": [
    "### General: Affine functions\n",
    "\n",
    "\n",
    "$\\color{#EF5645}{\\text{Definition}}$: A function $f:\\mathbb{R}^n \\rightarrow \\mathbb{R}^m$ that is linear plus a constant is called affine. Its general form is:\n",
    "\n",
    "$$f(x) = Ax+b \\quad \\text{with $A$ an $m\\times n$ \n",
    "matrix and $b$ a $m$-vector}$$\n"
   ]
  },
  {
   "cell_type": "markdown",
   "metadata": {
    "slideshow": {
     "slide_type": "slide"
    }
   },
   "source": [
    "$\\color{#047C91}{\\text{Exercise}}$: Consider the vector $b = [1, 2]$ and the matrix $A$ defined as: \n",
    "<center><img src=\"figs/07_matrix2.png\" width=300px alt=\"default\"/></center>\n",
    "\n",
    "What is the affine function associated with this matrix? Write it as a function of its components."
   ]
  },
  {
   "cell_type": "markdown",
   "metadata": {
    "slideshow": {
     "slide_type": "slide"
    }
   },
   "source": [
    "$\\color{#047C91}{\\text{Exercise}}$: Consider an affine function $f:\\mathbb{R}^3 \\rightarrow \\mathbb{R}^2$ defined by:\n",
    "<center><img src=\"figs/07_affine.png\" width=400px alt=\"default\"/></center>\n",
    "\n",
    "What is the matrix $A$ and the vector $b$ such that: $f(x) = Ax + b$?"
   ]
  },
  {
   "cell_type": "markdown",
   "metadata": {
    "slideshow": {
     "slide_type": "slide"
    }
   },
   "source": [
    "$\\color{#047C91}{\\text{Exercise}}$: Consider a function $f:\\mathbb{R}^n \\rightarrow \\mathbb{R}^m$, that is affine. What is the matrix $A$ and the vector $b$ such that: $f(x) = Ax + b$?"
   ]
  },
  {
   "cell_type": "markdown",
   "metadata": {
    "slideshow": {
     "slide_type": "slide"
    }
   },
   "source": [
    "##### Outline: 07 Linear Equations\n",
    "\n",
    "- [Functions in several dimensions](#sec-laf)\n",
    "- [Linear functions in several dimensions](#sec-laf)\n",
    "- [Affine functions in several dimensions](#sec-laf)\n",
    "- **[Linear equations](#sec-le)**"
   ]
  },
  {
   "cell_type": "markdown",
   "metadata": {
    "slideshow": {
     "slide_type": "slide"
    }
   },
   "source": [
    "Linear equations are very powerful:\n",
    "- **We write linear equations**:\n",
    "  - to frame a real-world problem into math.\n",
    "- **We solve linear equations**:\n",
    "  - to solve the problem with math.\n",
    "\n",
    "<center><img src=\"figs/07_foreflight.png\" alt=\"Drawing\" width=300px/></center>"
   ]
  },
  {
   "cell_type": "markdown",
   "metadata": {
    "slideshow": {
     "slide_type": "slide"
    }
   },
   "source": [
    "Linear equations are very powerful:\n",
    "- **We write linear equations**:\n",
    "  - to frame a real-world problem into math.\n",
    "- We solve linear equations:\n",
    "  - to solve the problem with math.\n",
    "\n",
    "<center><img src=\"figs/07_foreflight.png\" alt=\"Drawing\" width=300px/></center>"
   ]
  },
  {
   "cell_type": "markdown",
   "metadata": {
    "slideshow": {
     "slide_type": "slide"
    }
   },
   "source": [
    "$\\color{#EF5645}{\\text{Definition}}$: A set (or system) of $m$ linear equations in $n$ variables $x_1, . . . , x_n$ is defined as:\n",
    "$$\\begin{matrix}\n",
    "A_{11}x_1 + A_{12}x_2 + · · · + A_{1n}x_n = b_1 \\\\\n",
    "\\vdots \\\\\n",
    "A_{m1}x_1 + A_{m2}x_2 + · · · + A_{mn}x_n = b_m\n",
    "\\end{matrix}$$\n",
    "where:\n",
    "- matrix $A$ and vector $b$ given: goal is to find $x_1, ..., x_n$.\n",
    "- n-vector x is called the variable or unknown,\n",
    "- $A_{ij}$ are the coefficients, $A$ is the coefficient matrix. \n",
    "- b is called the right-hand side."
   ]
  },
  {
   "cell_type": "markdown",
   "metadata": {
    "slideshow": {
     "slide_type": "slide"
    }
   },
   "source": [
    "$\\color{#EF5645}{\\text{Remark}}$: A system of linear equations can be expressed very compactly:\n",
    "- as $Ax = b$,\n",
    "- or as $f(x) = b$ where $f$ is a linear function,\n",
    "- or as $f(x) = 0$ where $f$ is an affine function.\n",
    "\n",
    "\n"
   ]
  },
  {
   "cell_type": "markdown",
   "metadata": {
    "slideshow": {
     "slide_type": "slide"
    }
   },
   "source": [
    "$\\color{#EF5645}{\\text{Definition}}$: A system of linear equations is called:\n",
    "- under-determined if $m < n$ ($A$ wide) \n",
    "- square if $m = n$ ($A$ square) \n",
    "- over-determined if $m > n$ ($A$ tall)"
   ]
  },
  {
   "cell_type": "markdown",
   "metadata": {
    "slideshow": {
     "slide_type": "slide"
    }
   },
   "source": [
    "Linear equations are very powerful:\n",
    "- We write linear equations:\n",
    "  - to frame a real-world problem into math.\n",
    "- **We solve linear equations**:\n",
    "  - to solve the problem with math.\n",
    "\n",
    "<center><img src=\"figs/07_foreflight.png\" alt=\"Drawing\" width=300px/></center>"
   ]
  },
  {
   "cell_type": "markdown",
   "metadata": {
    "slideshow": {
     "slide_type": "slide"
    }
   },
   "source": [
    "$\\color{#EF5645}{\\text{Definition}}$: If we find a vector $x_0$ such that $Ax_0 = b$, then $x_0$ is called a solution of the system of equations.\n",
    "\n",
    "$\\color{#EF5645}{\\text{Definition}}$: Depending on $A$ and $b$, there can be:\n",
    "- many solutions\n",
    "- one solution\n",
    "- no solution"
   ]
  },
  {
   "cell_type": "markdown",
   "metadata": {
    "slideshow": {
     "slide_type": "slide"
    }
   },
   "source": [
    "$\\color{#047C91}{\\text{Exercise}}$: An airplane travels 1200 miles in 4 hours with a tail wind. On the way back, the same trip takes 5 hours, now with a head wind (against the wind).  We are interested in knowing the speed of the wind and the speed of the plane in still air.\n",
    "- Write: Transform this text into a system of linear equations.\n",
    "- Solve: What is the speed of the plane in still air? What was the wind speed?\n",
    "\n",
    "<center>\n",
    "<img src=\"figs/07_winds.png\" alt=\"Drawing\" width=200px/>\n",
    "\n",
    "</center>"
   ]
  },
  {
   "cell_type": "markdown",
   "metadata": {
    "slideshow": {
     "slide_type": "slide"
    }
   },
   "source": [
    "$\\color{#EF5645}{\\text{Remark}}$: We will see later (after learning a bit more on operations on matrices) how to automatically solve such a system."
   ]
  },
  {
   "cell_type": "markdown",
   "metadata": {
    "slideshow": {
     "slide_type": "slide"
    }
   },
   "source": [
    "##### Outline: 07 Linear Equations\n",
    "\n",
    "- [Functions in several dimensions](#sec-laf)\n",
    "- [Linear functions in several dimensions](#sec-laf)\n",
    "- [Affine functions in several dimensions](#sec-laf)\n",
    "- [Linear equations](#sec-le)\n",
    "\n",
    "Resources: Ch. 8 of ILA"
   ]
  }
 ],
 "metadata": {
  "celltoolbar": "Slideshow",
  "kernelspec": {
   "display_name": "Python 3 (ipykernel)",
   "language": "python",
   "name": "python3"
  },
  "language_info": {
   "codemirror_mode": {
    "name": "ipython",
    "version": 3
   },
   "file_extension": ".py",
   "mimetype": "text/x-python",
   "name": "python",
   "nbconvert_exporter": "python",
   "pygments_lexer": "ipython3",
   "version": "3.9.9"
  }
 },
 "nbformat": 4,
 "nbformat_minor": 2
}
