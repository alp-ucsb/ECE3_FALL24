{
 "cells": [
  {
   "cell_type": "markdown",
   "metadata": {
    "slideshow": {
     "slide_type": "slide"
    }
   },
   "source": [
    "# 03: Computing with Data in Python"
   ]
  },
  {
   "cell_type": "markdown",
   "metadata": {
    "cell_style": "split"
   },
   "source": [
    "<img src=\"figs/03_dist_points.png\" alt=\"Drawing\" width=450px/>"
   ]
  },
  {
   "cell_type": "markdown",
   "metadata": {
    "cell_style": "split"
   },
   "source": [
    "<center>Distance between pathological and healthy</center>\n",
    "\n",
    "<center><img src=\"figs/03_dist_brains.png\" alt=\"Drawing\" width=370px/></center>\n",
    "<center><img src=\"figs/03_dist_conn.png\" alt=\"Drawing\" width=370px/></center>"
   ]
  },
  {
   "cell_type": "markdown",
   "metadata": {
    "slideshow": {
     "slide_type": "slide"
    }
   },
   "source": [
    "# Outline of ECE 3\n",
    "\n",
    "- 01: Welcome to Python\n",
    "- 02: Visualizing Data in Python\n",
    "- **03: Computing with Data in Python**\n",
    "- 04: Summarizing Data in Python\n",
    "- 05: Predicting from Data with Machine Learning in Python\n",
    "  - A. Clustering\n",
    "  - B. Linear regression\n",
    "  - C. Dimension Reduction"
   ]
  },
  {
   "cell_type": "markdown",
   "metadata": {
    "slideshow": {
     "slide_type": "slide"
    }
   },
   "source": [
    "# Outline of Unit 03\n",
    "\n",
    "- **03: Computing with Data in Python**\n",
    "  - TBD\n",
    "  - TBD"
   ]
  },
  {
   "cell_type": "markdown",
   "metadata": {
    "slideshow": {
     "slide_type": "slide"
    }
   },
   "source": [
    "### Norm"
   ]
  },
  {
   "cell_type": "markdown",
   "metadata": {},
   "source": [
    "$\\color{#EF5645}{\\text{Definition}}$: The _Euclidean norm_, or just _norm_, of an $n$-vector $x$ is:\n",
    "$$||x|| = \\sqrt{x_1^2 + ... + x_n^2} = \\sqrt{x^Tx}.$$\n",
    "\n",
    "$\\color{#EF5645}{\\text{Remark}}$: The norm is equal to the absolute value for $n=1$.\n",
    "\n",
    "$\\color{#047C91}{\\text{Exercise}}$: Compute the norm of $x= (1, 1, 1)$."
   ]
  },
  {
   "cell_type": "markdown",
   "metadata": {
    "slideshow": {
     "slide_type": "slide"
    }
   },
   "source": [
    "### Properties of the Norm\n",
    "\n",
    "$\\color{#6D7D33}{\\text{Properties}}$: For any scalar $\\beta$ and any $n$-vectors $x, y$:\n",
    "1. Homogeneity: $||\\beta x|| = |\\beta|||x||$\n",
    "2. Triangle inequality: $$||x+y|| \\leq ||x|| + ||y||$$\n",
    "3. Nonnegative: $||x|| \\geq 0$\n",
    "4. Definite: $||x|| = 0$ if and only if $x = 0$"
   ]
  },
  {
   "cell_type": "markdown",
   "metadata": {
    "slideshow": {
     "slide_type": "slide"
    }
   },
   "source": [
    "$\\color{#003660}{\\text{In Python}}$, the module `linalg` from the package `numpy` has a function called `norm`."
   ]
  },
  {
   "cell_type": "code",
   "execution_count": 2,
   "metadata": {},
   "outputs": [
    {
     "name": "stdout",
     "output_type": "stream",
     "text": [
      "3.0\n"
     ]
    }
   ],
   "source": [
    "import numpy as np\n",
    "\n",
    "x = np.array([2, -1, 2])\n",
    "\n",
    "print(np.linalg.norm(x))"
   ]
  },
  {
   "cell_type": "markdown",
   "metadata": {
    "slideshow": {
     "slide_type": "slide"
    }
   },
   "source": [
    "### Distance\n",
    "\n",
    "$\\color{#EF5645}{\\text{Definition}}$: The _Euclidean distance_, or just _distance_, between $n$-vectors $a$ and $b$ is:\n",
    "$$dist(a, b) = ||a - b||.$$\n",
    "\n",
    "$\\color{#EF5645}{\\text{Remark}}$: This definition agrees with ordinary distance for $n = 1, 2, 3.$"
   ]
  },
  {
   "cell_type": "markdown",
   "metadata": {
    "slideshow": {
     "slide_type": "slide"
    }
   },
   "source": [
    "$\\color{#003660}{\\text{In Python}}$, we can compute distances using `linalg.norm`."
   ]
  },
  {
   "cell_type": "code",
   "execution_count": 8,
   "metadata": {},
   "outputs": [
    {
     "name": "stdout",
     "output_type": "stream",
     "text": [
      "1.4142135623730951\n"
     ]
    },
    {
     "data": {
      "image/png": "[encoded data removed]",
      "text/plain": [
       "<Figure size 432x288 with 1 Axes>"
      ]
     },
     "metadata": {
      "needs_background": "light"
     },
     "output_type": "display_data"
    }
   ],
   "source": [
    "import matplotlib.pyplot as plt\n",
    "a = np.array([1, 2]); b = np.array([2, 3])\n",
    "distance_ab = np.linalg.norm(a - b); print(distance_ab)\n",
    "plt.plot([a[0], b[0]], [a[1], b[1]]);"
   ]
  },
  {
   "cell_type": "markdown",
   "metadata": {
    "slideshow": {
     "slide_type": "slide"
    }
   },
   "source": [
    "### Interpretation: Triangle inequality\n",
    "\n",
    "$\\color{#EF5645}{\\text{Recall}}$: Triangle inequality: \n",
    "$$||x+y|| \\leq ||x|| + ||y||.$$\n",
    "\n",
    "Apply with: $x = a - b$ and $y = b - c$ and get:\n",
    "$$||a - c|| \\leq ||a - b|| + ||b - c||.$$\n",
    "i.e. third edge is shorter than the sum of the other two.\n",
    "<center><img src=\"figs/03_triangle.jpg\" alt=\"Drawing\" width=350px/></center>"
   ]
  },
  {
   "cell_type": "markdown",
   "metadata": {
    "slideshow": {
     "slide_type": "slide"
    }
   },
   "source": [
    "$\\color{#003660}{\\text{In Python}}$, we can use a distance to compute differences between more complex data.\n",
    "\n",
    "$\\color{#047C91}{\\text{Example}}$: Load brain connectomes data from the package `geomstats`."
   ]
  },
  {
   "cell_type": "code",
   "execution_count": 14,
   "metadata": {},
   "outputs": [],
   "source": [
    "import geomstats.datasets.utils as ds\n",
    "\n",
    "data, patient_ids, labels = ds.load_connectomes()"
   ]
  },
  {
   "cell_type": "markdown",
   "metadata": {
    "slideshow": {
     "slide_type": "slide"
    }
   },
   "source": [
    "Given $N$ brain areas: a _brain connectome_ is a $N \\times N$ table where a value at row $i$ and column $j$ quantifies whether areas $i$ and $j$ are generally activated together.\n",
    "\n",
    "We show connectome using colors with `imshow`."
   ]
  },
  {
   "cell_type": "code",
   "execution_count": 19,
   "metadata": {},
   "outputs": [
    {
     "data": {
      "image/png": "[encoded data removed]",
      "text/plain": [
       "<Figure size 432x288 with 1 Axes>"
      ]
     },
     "metadata": {
      "needs_background": "light"
     },
     "output_type": "display_data"
    }
   ],
   "source": [
    "plt.imshow(data[0]);#print(data[0])"
   ]
  },
  {
   "cell_type": "markdown",
   "metadata": {
    "slideshow": {
     "slide_type": "slide"
    }
   },
   "source": [
    "We verify that two schizophrenic subjects are \"closer\" than a schizophrenic subject and a healthy control."
   ]
  },
  {
   "cell_type": "code",
   "execution_count": 25,
   "metadata": {
    "slideshow": {
     "slide_type": "-"
    }
   },
   "outputs": [
    {
     "name": "stdout",
     "output_type": "stream",
     "text": [
      "[1 0 0]\n",
      "healthy-schiz: 5.281496613975049\n",
      "schiz-schiz:  4.461061135669169\n"
     ]
    }
   ],
   "source": [
    "print(labels[0:3])\n",
    "healthy = data[0]; schiz1 = data[1]; schiz2 = data[2]\n",
    "print(\n",
    "    \"healthy-schiz:\", np.linalg.norm(healthy - schiz1))\n",
    "print(\n",
    "    \"schiz-schiz: \", np.linalg.norm(schiz1 - schiz2))"
   ]
  },
  {
   "cell_type": "markdown",
   "metadata": {
    "slideshow": {
     "slide_type": "slide"
    }
   },
   "source": [
    "### Nearest Neighbor\n",
    "\n",
    "$\\color{#EF5645}{\\text{Definition}}$: Consider $z_1, . . . , z_m$ a list of $n$-vectors. We say that $z_j$ is the _nearest neighbor of the $n$-vector $x$_ if:\n",
    "$$‖x − z_j ‖ ≤ ‖x − z_i ‖,$$\n",
    "for all $i = 1, . . . , m$.\n",
    "\n",
    "<center><img src=\"figs/03_nn.jpg\" alt=\"default\" width=300px/></center>"
   ]
  },
  {
   "cell_type": "markdown",
   "metadata": {
    "slideshow": {
     "slide_type": "slide"
    }
   },
   "source": [
    "$\\color{#047C91}{\\text{Exercise}}$: Design an algorithm that can predict if a subject is schizophrenic or not, from its connectome."
   ]
  },
  {
   "cell_type": "markdown",
   "metadata": {
    "slideshow": {
     "slide_type": "slide"
    }
   },
   "source": [
    "### Angle\n",
    "\n",
    "$\\color{#EF5645}{\\text{Definition}}$: The _angle_ between two non-zeros $n$-vectors $a$ and $b$ is:\n",
    "$$\\angle(a, b) = arccos( \\frac{a^Tb}{||a||||b||} ).$$\n",
    "\n",
    "$\\color{#EF5645}{\\text{Remark}}$: It coincides with the ordinary angle in 2D and 3D."
   ]
  },
  {
   "cell_type": "markdown",
   "metadata": {
    "slideshow": {
     "slide_type": "slide"
    }
   },
   "source": [
    "Write: $\\theta = \\angle(a, b)$ \n",
    "- $θ = π/2 = 90^\\circ$: a, b are _orthogonal_: $a ⊥ b$ ($a^T b = 0$) \n",
    "- $θ = 0$: a, b are _aligned_ ($a^T b = ‖a‖ ‖b‖$) \n",
    "- $θ = π = 180^\\circ$: a, b are _anti-aligned_ ($a^T b = −‖a‖ ‖b‖$)\n",
    "- $θ ≤ π/2 = 90^\\circ$: a, b make an _acute angle_ ($a^T b ≥ 0$)\n",
    "- $θ ≥ π/2 = 90^\\circ$: a, b make an _obtuse angle_ ($a^T b ≤ 0$)\n",
    "\n",
    "<center><img src=\"figs/03_angles.jpg\" alt=\"default\"/></center>"
   ]
  },
  {
   "cell_type": "markdown",
   "metadata": {
    "slideshow": {
     "slide_type": "slide"
    }
   },
   "source": [
    "$\\color{#003660}{\\text{In Python}}$:"
   ]
  },
  {
   "cell_type": "code",
   "execution_count": 37,
   "metadata": {},
   "outputs": [
    {
     "name": "stdout",
     "output_type": "stream",
     "text": [
      "1.5707963267948966\n",
      "1.5707963267948966\n"
     ]
    }
   ],
   "source": [
    "import numpy as np\n",
    "def angle(a, b):\n",
    "    product = np.linalg.norm(a)* np.linalg.norm(b)\n",
    "    fraction = np.inner(a, b) / (product)\n",
    "    return np.arccos(fraction)\n",
    "\n",
    "a = [1, 0]\n",
    "b = [0, 1]\n",
    "\n",
    "print(angle(a, b))\n",
    "print(np.pi / 2)"
   ]
  },
  {
   "cell_type": "markdown",
   "metadata": {
    "slideshow": {
     "slide_type": "slide"
    }
   },
   "source": [
    "### Cauchy-Schwarz Inequality\n",
    "\n",
    "$\\color{#6D7D33}{\\text{Properties}}$: The angle $\\angle(a, b)$ is the number in $[0, \\pi]$ that satisfies: \n",
    "$$a^Tb = ||a||||b||\\cos(\\angle(a, b)).$$\n",
    "\n",
    "$\\color{#6D7D33}{\\text{Theorem}}$: For any two $n$-vectors $a$ and $b$, we have the Cauchy-Schwarz inequality:\n",
    "$$|a^Tb| \\leq ||a||||b||.$$"
   ]
  },
  {
   "cell_type": "markdown",
   "metadata": {
    "slideshow": {
     "slide_type": "slide"
    }
   },
   "source": []
  },
  {
   "cell_type": "markdown",
   "metadata": {
    "slideshow": {
     "slide_type": "notes"
    }
   },
   "source": [
    "inner-product, magnitude, scaling\n",
    "Norm\n",
    "Distance\n",
    "Angle:\n",
    "Homework: Datacamp: Intermediate python (4h)\n",
    "matplotlib\n",
    "Dictionaries & Pandas\n",
    "Logic, Control Flow and Filtering\n",
    "Loops\n",
    "Case Study: Hacker Statistics\n"
   ]
  },
  {
   "cell_type": "markdown",
   "metadata": {
    "slideshow": {
     "slide_type": "slide"
    }
   },
   "source": [
    "### Intro: 01 Vectors\n",
    "\n",
    "A vector is roughly \"a list of numbers\": \n",
    "\n",
    "$\\rightarrow$ everywhere in modern data and computer programs."
   ]
  },
  {
   "cell_type": "markdown",
   "metadata": {
    "cell_style": "split",
    "slideshow": {
     "slide_type": "fragment"
    }
   },
   "source": [
    "<center><img src=\"figs/00_image_a.jpg\" alt=\"default\" width=500px/></center>"
   ]
  },
  {
   "cell_type": "markdown",
   "metadata": {
    "cell_style": "split",
    "slideshow": {
     "slide_type": "fragment"
    }
   },
   "source": [
    "<center><img src=\"figs/01_signal_vector.png\" alt=\"default\" width=600px/></center>"
   ]
  },
  {
   "cell_type": "markdown",
   "metadata": {
    "slideshow": {
     "slide_type": "slide"
    }
   },
   "source": [
    "\n",
    "\n",
    "$\\color{#EF5645}{\\text{In this lecture, you will learn:}}$"
   ]
  },
  {
   "cell_type": "markdown",
   "metadata": {
    "slideshow": {
     "slide_type": "slide"
    }
   },
   "source": [
    "### Vector length in Python"
   ]
  },
  {
   "cell_type": "markdown",
   "metadata": {
    "slideshow": {
     "slide_type": "-"
    }
   },
   "source": [
    "The size/length/dimension of a vector is computed with `len`, (for lists, tuples, and np.arrays)."
   ]
  },
  {
   "cell_type": "code",
   "execution_count": 54,
   "metadata": {},
   "outputs": [
    {
     "data": {
      "text/plain": [
       "3"
      ]
     },
     "execution_count": 54,
     "metadata": {},
     "output_type": "execute_result"
    }
   ],
   "source": [
    "l = [1, 2, 3, 4, 5, 6]\n",
    "t = (1, 2, 3, 45, 6, 7, 3, 4)\n",
    "a = np.array([1, 2, 3])\n",
    "len(a)"
   ]
  },
  {
   "cell_type": "markdown",
   "metadata": {
    "slideshow": {
     "slide_type": "slide"
    }
   },
   "source": [
    "### Block or Stacked Vectors\n",
    "\n",
    "$\\color{#EF5645}{\\text{Definition}}$: Suppose $a, b, c$ are vectors with sizes $m, n, p$. We can create a new vector $d$ as:\n",
    "\n",
    "<center><img src=\"figs/01_stack.png\" alt=\"default\" width=150px/></center>\n",
    "\n",
    "The vector $d$ is called:\n",
    "- a _block vector or a stacked vector with entries $a, b, c$_, \n",
    "- or simply the concatenation of $a, b, c$.\n"
   ]
  },
  {
   "cell_type": "markdown",
   "metadata": {
    "slideshow": {
     "slide_type": "slide"
    }
   },
   "source": [
    "$\\color{#EF5645}{\\text{Remark}}$: The stack vector $d$ has size $m+n+p$ with the following components:\n",
    "\n",
    "$$d = (a_1, ..., a_m, b_1, ..., b_n, c_1, ..., c_p).$$"
   ]
  },
  {
   "cell_type": "markdown",
   "metadata": {
    "slideshow": {
     "slide_type": "slide"
    }
   },
   "source": [
    "### Block or Stacked Vectors\n",
    "\n",
    "$\\color{#003660}{\\text{In Python}}$, we create a block vector using `concatenate` (from `numpy`)."
   ]
  },
  {
   "cell_type": "code",
   "execution_count": 29,
   "metadata": {
    "slideshow": {
     "slide_type": "-"
    }
   },
   "outputs": [
    {
     "data": {
      "text/plain": [
       "array([1.1, 2.2, 3.3, 4.4, 5.5, 6.6, 7.7])"
      ]
     },
     "execution_count": 29,
     "metadata": {},
     "output_type": "execute_result"
    }
   ],
   "source": [
    "import numpy as np\n",
    "a = np.array([1.1, 2.2])\n",
    "b = np.array([3.3, 4.4, 5.5])\n",
    "c = np.array([6.6, 7.7])\n",
    "d = np.concatenate([a, b, c])\n",
    "d"
   ]
  },
  {
   "cell_type": "markdown",
   "metadata": {
    "slideshow": {
     "slide_type": "slide"
    }
   },
   "source": [
    "### Zero Vectors and Ones Vectors\n",
    "\n",
    "$\\color{#EF5645}{\\text{Definition}}$: The n-vector with all entries 0 is denoted $0_n$ or just $0$ and is called a _zero vector_. \n",
    "\n",
    "$\\color{#EF5645}{\\text{Definition}}$: The n-vector with all entries 1 is denoted $1_n$ or just 1 and is called a _ones-vector_."
   ]
  },
  {
   "cell_type": "markdown",
   "metadata": {
    "slideshow": {
     "slide_type": "slide"
    }
   },
   "source": [
    "$\\color{#003660}{\\text{In Python}}$, we use `zeros` and `ones` (from `numpy`)."
   ]
  },
  {
   "cell_type": "code",
   "execution_count": 31,
   "metadata": {},
   "outputs": [
    {
     "name": "stdout",
     "output_type": "stream",
     "text": [
      "[0. 0.]\n",
      "[0. 0. 0.]\n",
      "[1. 1. 1. 1.]\n"
     ]
    }
   ],
   "source": [
    "zeros2 = np.zeros(2)\n",
    "print(zeros2)\n",
    "zeros3 = np.zeros(3)\n",
    "print(zeros3)\n",
    "ones4 = np.ones(4)\n",
    "print(ones4)"
   ]
  },
  {
   "cell_type": "markdown",
   "metadata": {
    "slideshow": {
     "slide_type": "slide"
    }
   },
   "source": [
    "### One-Hot Vectors\n",
    "\n",
    "$\\color{#EF5645}{\\text{Definition}}$: A _one-hot vector_ is a vector which has one entry 1 and all others 0. If $i$ is the index of the non-zero entry, we denote it $e_i$.\n",
    "\n",
    "$\\color{#047C91}{\\text{Exercise}}$: What are all the one-hot vectors of length 3?"
   ]
  },
  {
   "cell_type": "code",
   "execution_count": 33,
   "metadata": {
    "slideshow": {
     "slide_type": "slide"
    }
   },
   "outputs": [
    {
     "data": {
      "text/plain": [
       "array([0., 1., 0.])"
      ]
     },
     "execution_count": 33,
     "metadata": {},
     "output_type": "execute_result"
    }
   ],
   "source": [
    "\"\"\"Create one-hot vector e1 of len 3.\"\"\"\n",
    "\n",
    "e1 = np.zeros(3)\n",
    "e1[1] = 1\n",
    "e1"
   ]
  },
  {
   "cell_type": "markdown",
   "metadata": {
    "slideshow": {
     "slide_type": "slide"
    }
   },
   "source": [
    "In ECE, a 2-vector $a=(a_1, a_2)$ can represent a displacement in 2-D, for example the movement of a person on a map (google map, apple maps). \n",
    "\n",
    "<center><img src=\"figs/01_sumvectors.jpg\" width=500px alt=\"default\"/></center>"
   ]
  },
  {
   "cell_type": "markdown",
   "metadata": {
    "cell_style": "center",
    "slideshow": {
     "slide_type": "slide"
    }
   },
   "source": [
    "In ECE, a 3-vector $a$ can be a color in RGB: $a = (R, G, B)$\n",
    "\n",
    "<center><img src=\"figs/01_matrix_color.jpeg\" alt=\"default\" width=600/></center>\n",
    "\n",
    "<center>The matrix coloring is an operation on vectors</center>"
   ]
  },
  {
   "cell_type": "markdown",
   "metadata": {
    "slideshow": {
     "slide_type": "slide"
    }
   },
   "source": [
    "### Vector Addition and Subtraction\n",
    "\n",
    "$\\color{#EF5645}{\\text{Definition}}$: Two vectors a and b can be added/subtracted:\n",
    "- Sum is denoted a + b; subtraction is denoted a - b.\n",
    "- Sum/subtraction is computed by adding/subtracting vector entries.\n",
    "\n",
    "$\\color{#047C91}{\\text{Exercise}}$: Compute:\n",
    "<center><img src=\"figs/01_add.png\" alt=\"default\" width=160px/></center>\n"
   ]
  },
  {
   "cell_type": "markdown",
   "metadata": {
    "slideshow": {
     "slide_type": "slide"
    }
   },
   "source": [
    "### Vector Addition and Subtraction\n",
    "\n",
    "$\\color{#003660}{\\text{In Python}}$, we add/subtract vectors using `np.array` only."
   ]
  },
  {
   "cell_type": "code",
   "execution_count": 34,
   "metadata": {},
   "outputs": [
    {
     "data": {
      "text/plain": [
       "[1, 2, 1, 2]"
      ]
     },
     "execution_count": 34,
     "metadata": {},
     "output_type": "execute_result"
    }
   ],
   "source": [
    "a = np.array([0, 7, 3]) + np.array([1, 2, 0]); a\n",
    "a = np.array([1, 9]) - np.array([1, 1]); a\n",
    "\n",
    "# If we use lists, it does not give the expected result\n",
    "l1 = [1, 2]\n",
    "l2 = [1, 1]\n",
    "l1 + l1"
   ]
  },
  {
   "cell_type": "markdown",
   "metadata": {
    "slideshow": {
     "slide_type": "slide"
    }
   },
   "source": [
    "### Properties of Vector Addition\n",
    "\n",
    "$\\color{#6D7D33}{\\text{Properties}}$: For any two vectors $a, b$:\n",
    "- commutativity: a + b = b + a\n",
    "- associativity: (a + b) + c = a + (b + c) = a + b + c\n",
    "- $a + 0 = a$\n",
    "- $a - a = 0$"
   ]
  },
  {
   "cell_type": "markdown",
   "metadata": {
    "slideshow": {
     "slide_type": "slide"
    }
   },
   "source": [
    "### Interpretation: Adding displacement vectors\n",
    "\n",
    "If vectors a and b are displacements: \n",
    "- a + b is the sum displacement\n",
    "\n",
    "<center><img src=\"figs/01_sumvectors.jpg\" alt=\"Drawing\" width=450px /></center>"
   ]
  },
  {
   "cell_type": "markdown",
   "metadata": {
    "slideshow": {
     "slide_type": "slide"
    }
   },
   "source": [
    "### Interpretation: Displacement from a point to another\n",
    "\n",
    "If vectors p and q are points:\n",
    "- p − q is the displacement from q to p\n",
    "\n",
    "\n",
    "<center><img src=\"figs/01_subpoints.jpg\" width=450px alt=\"default\"/></center>"
   ]
  },
  {
   "cell_type": "markdown",
   "metadata": {
    "slideshow": {
     "slide_type": "slide"
    }
   },
   "source": [
    "### Scalar-vector multiplication\n",
    "\n",
    "$\\color{#EF5645}{\\text{Definition}}$: A scalar β and an $n$-vector a can be multiplied to give a new vector: \n",
    "$$βa = ( βa_1, . . . , β a_n).$$\n",
    "\n",
    "\n",
    "$\\color{#047C91}{\\text{Exercise}}$: Compute:\n",
    "\n",
    "<center><img src=\"figs/01_scalar.png\" alt=\"default\" width=160px/></center>\n",
    "\n",
    "\n"
   ]
  },
  {
   "cell_type": "markdown",
   "metadata": {
    "slideshow": {
     "slide_type": "slide"
    }
   },
   "source": [
    "$\\color{#003660}{\\text{In Python}}$, we only use `np.array` to perform the scalar-vector operation."
   ]
  },
  {
   "cell_type": "code",
   "execution_count": 36,
   "metadata": {},
   "outputs": [
    {
     "name": "stdout",
     "output_type": "stream",
     "text": [
      "[ 0.   4.4 -2. ]\n",
      "[0, 2, -1, 0, 2, -1]\n"
     ]
    }
   ],
   "source": [
    "x = np.array([0, 2.2, -1]) \n",
    "print(2 * x)\n",
    "\n",
    "# Using lists does not give the expected result\n",
    "l = [0, 2, -1]\n",
    "print(2 * l)"
   ]
  },
  {
   "cell_type": "markdown",
   "metadata": {
    "slideshow": {
     "slide_type": "slide"
    }
   },
   "source": [
    "### Properties of scalar-vector multiplication\n",
    "\n",
    "$\\color{#6D7D33}{\\text{Properties}}$: For scalars  $\\beta, \\gamma$ and $n$-vectors $a, b$: \n",
    "- associativity: $( βγ)a = β(γa)$\n",
    "- left distributivity: \n",
    "$$( \\beta + \\gamma)a = \\beta a + \\gamma a$$\n",
    "- right distributivity: \n",
    "$$β(a + b) = βa + βb$$"
   ]
  },
  {
   "cell_type": "markdown",
   "metadata": {
    "slideshow": {
     "slide_type": "slide"
    }
   },
   "source": [
    "### Linear combinations\n",
    "\n",
    "$\\color{#EF5645}{\\text{Definition}}$: For a list of $m$ n-vectors $a_1, . . . , a_m$ and scalars $β_1, . . . , β_m$:\n",
    "\n",
    "$$β_1a_1 + · · · + β_ma_m$$\n",
    "\n",
    "is a linear combination of the vectors.\n",
    "- $β_1, . . . , β_m$ are the coefficients.\n",
    "\n",
    "$\\color{#EF5645}{\\text{Remark:}}$ Here, $a_i$ is the ith vector in the list of $m$ vectors. It is **not** a component of a vector, it is itself a vector."
   ]
  },
  {
   "cell_type": "markdown",
   "metadata": {
    "slideshow": {
     "slide_type": "slide"
    }
   },
   "source": [
    "$\\color{#047C91}{\\text{Exercise}}$: Write a $n$-vector $b = (b_1, ..., b_{n})$ as a linear combination of the one-hot n-vectors $e_1, ..., e_{n}$."
   ]
  },
  {
   "cell_type": "markdown",
   "metadata": {
    "slideshow": {
     "slide_type": "slide"
    }
   },
   "source": [
    "$\\color{#003660}{\\text{In Python}}$:"
   ]
  },
  {
   "cell_type": "code",
   "execution_count": 37,
   "metadata": {},
   "outputs": [
    {
     "data": {
      "text/plain": [
       "array([-11.9, -23.8, -21.6])"
      ]
     },
     "execution_count": 37,
     "metadata": {},
     "output_type": "execute_result"
    }
   ],
   "source": [
    "\"\"\"Write a linear combination of 2 vectors.\"\"\"\n",
    "a1 = np.array([1, 2, 3])\n",
    "a2 = np.array([3, 6, 6])\n",
    "linear_comb = 2.2 * a1 - 4.7 * a2\n",
    "linear_comb"
   ]
  },
  {
   "attachments": {
    "Screen%20Shot%202021-09-02%20at%2011.48.31%20AM.png": {
     "image/png": "[encoded data removed]"
    }
   },
   "cell_type": "markdown",
   "metadata": {
    "slideshow": {
     "slide_type": "slide"
    }
   },
   "source": [
    "### Interpretation: Displacements and Linear Combination\n",
    "\n",
    "Linear combination $b = 0.75a_1 + 1.5a_2$\n",
    "\n",
    "\n",
    "![Screen%20Shot%202021-09-02%20at%2011.48.31%20AM.png](attachment:Screen%20Shot%202021-09-02%20at%2011.48.31%20AM.png)"
   ]
  },
  {
   "cell_type": "markdown",
   "metadata": {},
   "source": [
    "<a id='sec-ip'></a>"
   ]
  },
  {
   "cell_type": "markdown",
   "metadata": {
    "slideshow": {
     "slide_type": "slide"
    }
   },
   "source": [
    "### Inner Product\n",
    "\n",
    "$\\color{#EF5645}{\\text{Definition}}$: The inner product (or dot product) of n-vectors a and b is\n",
    "$$a^T b = a_1b_1 + a_2b_2 + · · · + a_nb_n.$$\n",
    "- Other notations: $$〈a, b〉, 〈a|b〉, (a, b), a · b.$$\n",
    "\n",
    "$\\color{#047C91}{\\text{Exercise}}$: Compute the inner product of $a = (1, 0, 2)$ and $b = (-1, 1, 2)$."
   ]
  },
  {
   "cell_type": "markdown",
   "metadata": {
    "slideshow": {
     "slide_type": "slide"
    }
   },
   "source": [
    "$\\color{#003660}{\\text{In Python}}$, we use `inner` (from `numpy`)."
   ]
  },
  {
   "cell_type": "code",
   "execution_count": 38,
   "metadata": {},
   "outputs": [
    {
     "data": {
      "text/plain": [
       "3"
      ]
     },
     "execution_count": 38,
     "metadata": {},
     "output_type": "execute_result"
    }
   ],
   "source": [
    "\"\"\"Compute the inner product of two vectors.\"\"\"\n",
    "a = np.array([1,0,2])\n",
    "b = np.array([-1,1,2])\n",
    "np.inner(a, b)"
   ]
  },
  {
   "cell_type": "markdown",
   "id": "cb63c611",
   "metadata": {
    "slideshow": {
     "slide_type": "slide"
    }
   },
   "source": [
    "### Orthogonal, Normalized, Orthonormal\n",
    "\n",
    "$\\color{#EF5645}{\\text{Definitions}}$: The $n$-vectors $a_1, . . . , a_k$ are:\n",
    "- _(mutually) orthogonal_ if $a_i ⊥ a_j$ for all $i , j$\n",
    "- _normalized_ if $‖a_i ‖ = 1$ for $i = 1, . . . , k$\n",
    "- _orthonormal_ if they are orthogonal and normalized.\n",
    "\n",
    "$\\color{#047C91}{\\text{Example}}$: Give examples of orthogonal, normalized and orthonormal vectors in 2D. Draw them."
   ]
  },
  {
   "cell_type": "markdown",
   "id": "f10d1411",
   "metadata": {
    "slideshow": {
     "slide_type": "slide"
    }
   },
   "source": [
    "$\\color{#6D7D33}{\\text{Properties}}$: If $a_1, ..., a_k$ are orthonormal, then:\n",
    "- $a_i^Ta_j = 0$ if $i\\neq j$ and $a_i^Ta_i = 1$,\n",
    "- $k\\leq n$,\n",
    "- $a_1, ..., a_k$ are linearly independent."
   ]
  },
  {
   "cell_type": "markdown",
   "id": "5c8278ff",
   "metadata": {
    "slideshow": {
     "slide_type": "slide"
    }
   },
   "source": [
    "##### Outline: 05 Linear Independence\n",
    "\n",
    "- [Linear Dependence](#sec-linear)\n",
    "- [Linear Independence](#sec-linear)\n",
    "- [Basis](#Basis)\n",
    "- [Orthonormality](#Orthonormal)\n",
    "- **[Orthonormal Basis](#Orthonormal)**"
   ]
  },
  {
   "cell_type": "markdown",
   "id": "2567ae7e",
   "metadata": {
    "slideshow": {
     "slide_type": "slide"
    }
   },
   "source": [
    "### Orthonormal Basis\n",
    "\n",
    "$\\color{#EF5645}{\\text{Definition}}$: A set of $n$ orthonormal $n$-vectors is called an _orthonormal basis_ of $\\mathbb{R}^n$."
   ]
  },
  {
   "cell_type": "markdown",
   "id": "f327b742",
   "metadata": {
    "slideshow": {
     "slide_type": "slide"
    }
   },
   "source": [
    "$\\color{#047C91}{\\text{Example}}$:\n",
    "- Vectors $e_1, ...., e_n$ form an orthonormal basis of $\\mathbb{R}^n$\n",
    "- These $3$-vectors form an orthonormal basis of $\\mathbb{R}^3$:\n",
    " \n",
    "\n",
    "<center><img src=\"figs/05_linearindep.png\" width=400px alt=\"default\"/></center>\n",
    "\n",
    "\n",
    "\n",
    "$\\color{#047C91}{\\text{Exercise}}$: Show that the $3$-vectors above form an orthonormal basis using math computations."
   ]
  },
  {
   "cell_type": "markdown",
   "id": "61951ebc",
   "metadata": {
    "slideshow": {
     "slide_type": "slide"
    }
   },
   "source": [
    "$\\color{#047C91}{\\text{Exercise}}$: Show that these form an orthonormal basis using Python: \n",
    "<!-- $$a_1 = \\begin{pmatrix}\n",
    "    0 \\\\\n",
    "    0 \\\\\n",
    "    -1 \n",
    "\\end{pmatrix}, \\quad a_2 = \\begin{pmatrix}\n",
    "    1 / \\sqrt{2} \\\\\n",
    "    1 / \\sqrt{2} \\\\\n",
    "    0\n",
    "\\end{pmatrix} \\quad a_3 = \\begin{pmatrix}\n",
    "    1 / \\sqrt{2} \\\\\n",
    "    -1 / \\sqrt{2} \\\\\n",
    "    0\n",
    "\\end{pmatrix}$$ -->\n",
    "<center><img src=\"figs/05_linearindep.png\" width=400px alt=\"default\"/></center>\n"
   ]
  },
  {
   "cell_type": "code",
   "execution_count": 3,
   "id": "f6b14170",
   "metadata": {},
   "outputs": [
    {
     "name": "stdout",
     "output_type": "stream",
     "text": [
      "0.0\n",
      "1.0\n"
     ]
    }
   ],
   "source": [
    "import numpy as np\n",
    "a1 = np.array([0, 0, 1])\n",
    "a2 = np.array([1/np.sqrt(2), 1/np.sqrt(2), 0])\n",
    "a3 = np.array([1/np.sqrt(2), -1/np.sqrt(2), 0])\n",
    "\n",
    "print(np.inner(a1, a2)) # Do same for a1, a3 and a2, a3\n",
    "print(np.linalg.norm(a1)) # Do same for a2 and a3"
   ]
  },
  {
   "cell_type": "markdown",
   "id": "d8b2c54b",
   "metadata": {
    "slideshow": {
     "slide_type": "slide"
    }
   },
   "source": [
    "### Orthonormal Expansion\n",
    "\n",
    "$\\color{#6D7D33}{\\text{Property}}$: If $a_1, . . . , a_n$ is an orthonormal basis of $\\mathbb{R}^n$, then:\n",
    "- Any $n$-vector $x$ can be written:\n",
    "$$x = (a^T_1 x)a_1 + · · · + (a^T_n x)a_n.$$\n",
    "\n",
    "$\\color{#EF5645}{\\text{Definition}}$: The formula above is called _orthonormal expansion of $x$_ in the orthonormal basis. "
   ]
  },
  {
   "cell_type": "markdown",
   "metadata": {
    "slideshow": {
     "slide_type": "slide"
    }
   },
   "source": [
    "### Properties of inner product\n",
    "\n",
    "$\\color{#6D7D33}{\\text{Properties}}$: For $n$-vectors $a, b, c$ and scalars $\\gamma$:\n",
    "- $a^T b = b^T a$\n",
    "- $(γa)^T b = γ(a^T b)$\n",
    "- $(a + b)^T c = a^T c + b^T c$"
   ]
  },
  {
   "cell_type": "markdown",
   "metadata": {
    "slideshow": {
     "slide_type": "slide"
    }
   },
   "source": [
    "### Example of inner-products in ECE\n",
    "\n",
    "\n",
    "- Education: $p$ grades, $q$ weights; $p^T q$ is the total grade\n",
    "\n",
    "- Deep Learning: \n",
    "  - each inner node is the result of an inner product\n",
    "<center><img src=\"figs/01_nn.png\" alt=\"default\" width=310px/></center>\n",
    "\n",
    "<center>Inner product in neural networks.</center>"
   ]
  },
  {
   "cell_type": "markdown",
   "metadata": {
    "slideshow": {
     "slide_type": "slide"
    }
   },
   "source": [
    "# 06 Matrices"
   ]
  },
  {
   "cell_type": "markdown",
   "metadata": {
    "slideshow": {
     "slide_type": "slide"
    }
   },
   "source": [
    "### Transpose\n",
    "\n",
    "$\\color{#EF5645}{\\text{Definition}}$: The _transpose of an $m \\times n$ matrix_ $A$ is a $n \\times m$ matrix, written $A^T$, and is defined by:\n",
    "$$ (A^T)_{ij} = A_{ji}, \\quad i = 1,..., n \\quad j=1,...,m$$\n",
    "\n",
    "$\\color{#047C91}{\\text{Example}}$: $\\begin{vmatrix}\n",
    "0.2 & 1.2 & 10 \\\\\n",
    "0 & -3 & 0\n",
    "\\end{vmatrix}^T = \\begin{vmatrix}\n",
    "0.2 & 0 \\\\\n",
    "1.2 & -3 \\\\\n",
    "10 & 0\n",
    "\\end{vmatrix}$"
   ]
  },
  {
   "cell_type": "markdown",
   "metadata": {
    "slideshow": {
     "slide_type": "slide"
    }
   },
   "source": [
    "$\\color{#003660}{\\text{In Python}}$:"
   ]
  },
  {
   "cell_type": "code",
   "execution_count": 23,
   "metadata": {},
   "outputs": [
    {
     "name": "stdout",
     "output_type": "stream",
     "text": [
      "[[0.3 1.  0. ]\n",
      " [1.  1.  0.7]\n",
      " [0.  1.  0. ]]\n",
      "[[0.3 1.  0. ]\n",
      " [1.  1.  1. ]\n",
      " [0.  0.7 0. ]]\n"
     ]
    },
    {
     "data": {
      "image/png": "[encoded data removed]",
      "text/plain": [
       "<Figure size 432x288 with 1 Axes>"
      ]
     },
     "metadata": {
      "needs_background": "light"
     },
     "output_type": "display_data"
    }
   ],
   "source": [
    "print(A); print(A.T); plt.imshow(A.T);"
   ]
  },
  {
   "cell_type": "markdown",
   "metadata": {
    "slideshow": {
     "slide_type": "slide"
    }
   },
   "source": [
    "$\\color{#6D7D33}{\\text{Property}}$: The transpose verifies:\n",
    "- $(A^T)^T = A$\n",
    "- $(A + B)^T = A^T + B^T$"
   ]
  },
  {
   "cell_type": "markdown",
   "metadata": {
    "slideshow": {
     "slide_type": "slide"
    }
   },
   "source": [
    "### Basic Operations\n",
    "\n",
    "Just like vectors:\n",
    "- we can add or subtract matrices of the same size,\n",
    "- we can multiply a matrix by a scalar."
   ]
  },
  {
   "cell_type": "code",
   "execution_count": 25,
   "metadata": {},
   "outputs": [
    {
     "name": "stdout",
     "output_type": "stream",
     "text": [
      "[[0.3 1.  0. ]\n",
      " [1.  1.  0.7]\n",
      " [0.  1.  0. ]]\n",
      "[[0.6 2.  0. ]\n",
      " [2.  2.  1.4]\n",
      " [0.  2.  0. ]]\n"
     ]
    }
   ],
   "source": [
    "print(A); print(2 * A)"
   ]
  },
  {
   "cell_type": "markdown",
   "metadata": {
    "slideshow": {
     "slide_type": "slide"
    }
   },
   "source": [
    "### Matrix Norm\n",
    "\n",
    "$\\color{#EF5645}{\\text{Definition}}$: For a $m \\times n$ matrix $A$, we define the _matrix norm_ as:\n",
    "\n",
    "<center>\n",
    "$||A|| = \\sqrt{\\sum_{i=1}^m \\sum_{j=1}^n A_{ij}^2}.$</center>\n",
    "\n",
    "$\\color{#EF5645}{\\text{Remark}}$: This definition agrees with the definition of norm of vectors when $n=1$ or $m=1$.\n",
    "\n",
    "$\\color{#047C91}{\\text{Exercise}}$: Compute the matrix norm of $A = \\begin{vmatrix}\n",
    "1 & 0 & -1\\\\\n",
    "0 & 1 & 1 \\end{vmatrix}.$"
   ]
  },
  {
   "cell_type": "markdown",
   "metadata": {
    "slideshow": {
     "slide_type": "slide"
    }
   },
   "source": [
    "$\\color{#003660}{\\text{In Python}}$, we use `np.linalg.norm`."
   ]
  },
  {
   "cell_type": "code",
   "execution_count": 27,
   "metadata": {},
   "outputs": [
    {
     "name": "stdout",
     "output_type": "stream",
     "text": [
      "2.0\n"
     ]
    }
   ],
   "source": [
    "import numpy as np\n",
    "\n",
    "A = np.array([\n",
    "    [1, 0, -1],\n",
    "    [0, 1, 1]\n",
    "])\n",
    "print(np.linalg.norm(A))"
   ]
  },
  {
   "cell_type": "markdown",
   "metadata": {
    "slideshow": {
     "slide_type": "slide"
    }
   },
   "source": [
    "### Distance between two matrices\n",
    "\n",
    "$\\color{#EF5645}{\\text{Definition}}$: The _distance_ between two matrices $A$ and $B$ is defined as:\n",
    "$$dist(A, B) = ||A - B||.$$\n",
    "\n",
    "$\\color{#EF5645}{\\text{Remark}}$: This means that the clustering algorithm, which only needs a notion of \"distance\", works on the matrices."
   ]
  }
 ],
 "metadata": {
  "celltoolbar": "Slideshow",
  "kernelspec": {
   "display_name": "Python 3 (ipykernel)",
   "language": "python",
   "name": "python3"
  },
  "language_info": {
   "codemirror_mode": {
    "name": "ipython",
    "version": 3
   },
   "file_extension": ".py",
   "mimetype": "text/x-python",
   "name": "python",
   "nbconvert_exporter": "python",
   "pygments_lexer": "ipython3",
   "version": "3.9.9"
  }
 },
 "nbformat": 4,
 "nbformat_minor": 2
}
