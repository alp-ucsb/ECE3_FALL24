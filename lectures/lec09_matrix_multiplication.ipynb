{
 "cells": [
  {
   "cell_type": "markdown",
   "id": "3c7f2404",
   "metadata": {
    "slideshow": {
     "slide_type": "slide"
    }
   },
   "source": [
    "# 09 Matrix Multiplication\n",
    "\n",
    "<center><img src=\"figs/09_six_degrees.png\" alt=\"default\" width=600px/></center>\n",
    "\n",
    "<center>Six degrees of separation theory</center>"
   ]
  },
  {
   "cell_type": "markdown",
   "id": "9f746c1b",
   "metadata": {
    "slideshow": {
     "slide_type": "slide"
    }
   },
   "source": [
    "#### Unit 1: Vectors, Textbook Ch. 1-5\n",
    "\n",
    "#### Unit 2: Matrices, Textbook Ch. 6-11\n",
    "- 06 Matrices\n",
    "- 07 Linear Equations\n",
    "- 08 Linear Dynamical Systems\n",
    "- **_09 Matrix Multiplication_**\n",
    "- 10 Matrix Inverse\n",
    "\n",
    "#### Unit 3: Least Squares, Textbook Ch. 12-14"
   ]
  },
  {
   "cell_type": "markdown",
   "id": "619f68af",
   "metadata": {
    "slideshow": {
     "slide_type": "slide"
    }
   },
   "source": [
    "##### Outline: 09 Matrix Multiplication\n",
    "\n",
    "- **[Matrix Multiplication](#sec-matrices)**\n",
    "- [Composition of linear functions](#sec-matrices)\n",
    "- [Matrix powers](#sec-matrices)\n",
    "- [QR factorization](#sec-matrices)"
   ]
  },
  {
   "cell_type": "markdown",
   "id": "1d904b7f",
   "metadata": {
    "slideshow": {
     "slide_type": "slide"
    }
   },
   "source": [
    "### Matrix Multiplication\n",
    "\n",
    "$\\color{#EF5645}{\\text{Definition}}$: Consider $m \\times p$ matrix $A$ and $p \\times n$ matrix $B$. The _matrix multiplication_, written $C = AB$ is defined as:\n",
    "$$C_{ij} = \\sum_{k=1}^p  A_{ik}B_{kj} \\text{ for } i= 1, ...m , j = 1, ...n$$\n",
    "\n",
    "$\\color{#047C91}{\\text{Exercise}}$: Compute the matrix multiplication for the following matrices.\n",
    "\n",
    "<center><img src=\"figs/09_mat_ab.png\" width=400px alt=\"default\"/></center>"
   ]
  },
  {
   "cell_type": "markdown",
   "id": "b91f9544",
   "metadata": {
    "slideshow": {
     "slide_type": "slide"
    }
   },
   "source": [
    "### Special Cases of Matrix Multiplication\n",
    "\n",
    "$\\color{#EF5645}{\\text{Remark}}$: For $x, y$ vectors, and $A$ a matrix, the following are special cases of matrix multiplication:\n",
    "- inner-product $x^T y$,\n",
    "- matrix vector multiplication $Ax$.\n",
    "\n",
    "\n",
    "$\\color{#EF5645}{\\text{Definition}}$: The _outer product_ of $m$-vector $x$ and $n$-vector $y$ is defined as $xy^T$. It is also a special case of matrix multiplication."
   ]
  },
  {
   "cell_type": "markdown",
   "id": "5415f177",
   "metadata": {
    "slideshow": {
     "slide_type": "slide"
    }
   },
   "source": [
    "$\\color{#6D7D33}{\\text{Properties}}$: For matrices $A, B, C$ and identity matrix $I$, we have the properties:\n",
    "- Associativity: $$(AB)C = A(BC)$$\n",
    "- Distributivity: $$A(B+C)  = AB + AC$$\n",
    "- Transpose: $$(AB)^T = B^T A^T$$\n",
    "- $AI = A$ and $IA = A$."
   ]
  },
  {
   "cell_type": "markdown",
   "id": "7b4ebe58",
   "metadata": {
    "slideshow": {
     "slide_type": "slide"
    }
   },
   "source": [
    "$\\color{#047C91}{\\text{Exercise}}$: Compute $B^TA^T$ for the following matrices.\n",
    "<center><img src=\"figs/09_mat_ab.png\" width=500px alt=\"default\"/></center>"
   ]
  },
  {
   "cell_type": "markdown",
   "id": "19e18682",
   "metadata": {
    "slideshow": {
     "slide_type": "slide"
    }
   },
   "source": [
    "$\\color{#EF5645}{\\text{Important remark}}$: $AB = BA$ does NOT hold in general. We say that the matrix multiplication is NOT commutative.\n",
    "\n",
    "$\\color{#047C91}{\\text{Exercise}}$: Compute $BA$ for the following matrices. Observe that it differs from $AB$.\n",
    "\n",
    "<center><img src=\"figs/09_mat_ab.png\" width=400px alt=\"default\"/></center>\n"
   ]
  },
  {
   "cell_type": "markdown",
   "id": "1e20395e",
   "metadata": {
    "slideshow": {
     "slide_type": "slide"
    }
   },
   "source": [
    "### Exercises\n",
    "\n",
    "$\\color{#047C91}{\\text{Exercise}}$: Let $A$ be a matrix and $I$ be the identity matrix. Show that $AI = A$.\n",
    "\n",
    "$\\color{#047C91}{\\text{Exercise}}$: Given $m$-vector $x$ and $n$-vector $y$, write the outer product $xy^T$ using the entries of $x$ and $y$."
   ]
  },
  {
   "cell_type": "markdown",
   "id": "9582cab5",
   "metadata": {
    "slideshow": {
     "slide_type": "slide"
    }
   },
   "source": [
    "$\\color{#003660}{\\text{In Python}}$, we us `np.matmul` or `@` to compute the matrix multiplication. Verify that the matrix multiplication is generally NOT commutative by choosing matrices $A, B$ and computing $AB$ and $BA$."
   ]
  },
  {
   "cell_type": "code",
   "execution_count": 8,
   "id": "e41a7420",
   "metadata": {},
   "outputs": [
    {
     "name": "stdout",
     "output_type": "stream",
     "text": [
      "[[ 9.8 20.1]\n",
      " [15.  37.9]]\n"
     ]
    },
    {
     "data": {
      "text/plain": [
       "array([[ 8.9, 13.5],\n",
       "       [20.4, 38.8]])"
      ]
     },
     "execution_count": 8,
     "metadata": {},
     "output_type": "execute_result"
    }
   ],
   "source": [
    "import numpy as np\n",
    "A = np.array([[1., 3.],[3., 5.]])\n",
    "B = np.array([[-1., 3.3],[3.6, 5.6]])\n",
    "C = A @ B; print(C) #np.matmul(A, B)\n",
    "B @ A"
   ]
  },
  {
   "cell_type": "markdown",
   "id": "fdbe0f09",
   "metadata": {
    "slideshow": {
     "slide_type": "slide"
    }
   },
   "source": [
    "### Inner-product interpretation\n",
    "\n",
    "$\\color{#6D7D33}{\\text{Properties}}$: Consider matrices $A, B$ with $a_i^T$ the rows of $A$ nd $b_j$ the columns of $B$. We have: \n",
    "\n",
    "<center><img src=\"figs/09_ab_innerprod.png\" width=500px alt=\"default\"/></center>\n",
    "\n",
    "\n",
    "The matrix multiplication gathers the inner-products of rows of $A$ and columns of $B$."
   ]
  },
  {
   "cell_type": "markdown",
   "id": "1b8a1f11",
   "metadata": {
    "slideshow": {
     "slide_type": "slide"
    }
   },
   "source": [
    "### Building Matrices from Matrices\n",
    "\n",
    "$\\color{#EF5645}{\\text{Definition}}$: Let $A$ be an $m \\times n$ matrix with columns $a_1, .., a_n$. The Gram matrix $G$ of $A$ is:\n",
    "<center><img src=\"figs/09_gram.png\" width=600px alt=\"default\"/></center>\n",
    " The Gram matrix gives all inner products of columns of $A$.\n",
    "\n",
    "$\\color{#6D7D33}{\\text{Property}}$: If $G = I$ then columns of $A$ are orthonormal."
   ]
  },
  {
   "cell_type": "markdown",
   "id": "49824477",
   "metadata": {
    "slideshow": {
     "slide_type": "slide"
    }
   },
   "source": [
    "##### Outline: 09 Matrix Multiplication\n",
    "\n",
    "- [Matrix Multiplication](#sec-matrices)\n",
    "- **[Composition of linear functions](#sec-matrices)**\n",
    "- [Matrix powers](#sec-matrices)\n",
    "- [QR factorization](#sec-matrices)"
   ]
  },
  {
   "cell_type": "markdown",
   "id": "dfb489d8",
   "metadata": {
    "slideshow": {
     "slide_type": "slide"
    }
   },
   "source": [
    "### Composition of Functions\n",
    "\n",
    "$\\color{#EF5645}{\\text{Definition}}$: Consider $f: \\mathbb{R}^p \\rightarrow \\mathbb{R}^m$ and $g: \\mathbb{R}^n \\rightarrow \\mathbb{R}^p$. \n",
    "\n",
    "The function $h: \\mathbb{R}^n \\rightarrow \\mathbb{R}^m$ defined as: $h(x) = f(g(x))$ for all $x \\in \\mathbb{R}^n$ is called the composition of $f$ and $g$.\n"
   ]
  },
  {
   "cell_type": "markdown",
   "id": "c61cbdb7",
   "metadata": {
    "slideshow": {
     "slide_type": "slide"
    }
   },
   "source": [
    "### Composition of Linear Functions\n",
    "\n",
    "\n",
    "$\\color{#6D7D33}{\\text{Proposition}}$: Assume functions $f, g$ are linear functions, thus can be written as: $f(u) = Au$ and $g(x)=Bx$ for $n$-vector $x$ and $p$-vector $u$. Then the composition $h$ can be written as: $h(x) = (AB)x$.\n",
    "\n",
    "\n",
    "\n",
    "$\\color{#EF5645}{\\text{Remark}}$: This means that:\n",
    "- the composition of linear functions is a linear function,\n",
    "- the associated matrix is product of matrices of the functions."
   ]
  },
  {
   "cell_type": "markdown",
   "id": "56578398",
   "metadata": {
    "slideshow": {
     "slide_type": "slide"
    }
   },
   "source": [
    "##### Outline: 09 Matrix Multiplication\n",
    "\n",
    "- [Matrix Multiplication](#sec-matrices)\n",
    "- [Composition of linear functions](#sec-matrices)\n",
    "- **[Matrix powers](#sec-matrices)**\n",
    "- [QR factorization](#sec-matrices)"
   ]
  },
  {
   "cell_type": "markdown",
   "id": "2172fc56",
   "metadata": {
    "slideshow": {
     "slide_type": "slide"
    }
   },
   "source": [
    "### Matrix Square\n",
    "\n",
    "$\\color{#EF5645}{\\text{Definition}}$: The square of a square matrix $A$, written $A^2$, is defined as: $A^2 = AA$.\n",
    "\n",
    "$\\color{#EF5645}{\\text{Remark}}$:  $A^2$ is NOT computed by squaring each entry of matrix $A$. "
   ]
  },
  {
   "cell_type": "markdown",
   "id": "b7aac046",
   "metadata": {
    "slideshow": {
     "slide_type": "slide"
    }
   },
   "source": [
    "### Matrix Power\n",
    "\n",
    "$\\color{#EF5645}{\\text{Definition}}$: For a positive integer $k$, the $k$th power of a matrix $A$, written $A^k$ is defined as: $A^k = A...A$ with $k$ matrices $A$ multiplied. By convention, $A^0 = I$ the identity matrix.\n",
    "\n",
    "\n",
    "$\\color{#EF5645}{\\text{Remark}}$: $A^k$ is NOT computed by taking the power $k$ of each entry of matrix $A$. "
   ]
  },
  {
   "cell_type": "markdown",
   "id": "f09624c0",
   "metadata": {
    "slideshow": {
     "slide_type": "slide"
    }
   },
   "source": [
    "$\\color{#EF5645}{\\text{Remarks}}$: $\\color{#003660}{\\text{In Python}}$:\n",
    "-  `A ** 2` computes the square of each entry, and not does compute $A^2$.\n",
    "-  `A @ A` or `np.linalg.matrix_power` can compute $A^2$."
   ]
  },
  {
   "cell_type": "code",
   "execution_count": 11,
   "id": "71644210",
   "metadata": {
    "slideshow": {
     "slide_type": "-"
    }
   },
   "outputs": [
    {
     "name": "stdout",
     "output_type": "stream",
     "text": [
      "[[25. 49. 36.]\n",
      " [ 4. 16.  4.]\n",
      " [ 4.  9. 16.]]\n",
      "[[3.03672874e+09 4.92159758e+09 1.58516828e+09]\n",
      " [5.88044466e+08 9.53055282e+08 3.06781144e+08]\n",
      " [1.48287008e+09 2.40327024e+09 7.74090160e+08]]\n"
     ]
    }
   ],
   "source": [
    "A = np.array([[5., 7., 6.],[2., 4., -2.],[2., 3., 4.]])\n",
    "print(A**2)\n",
    "print(np.linalg.matrix_power(A, 10))"
   ]
  },
  {
   "cell_type": "markdown",
   "id": "9df5ed4e",
   "metadata": {
    "slideshow": {
     "slide_type": "slide"
    }
   },
   "source": [
    "$\\color{#047C91}{\\text{Exercise}}$: Take the adjacency matrix associated with the graph below. We state that $(A^l)_{ij}$ is equal to number of paths of length $l$ going from $j$ to $i$.\n",
    "\n",
    "<center><img src=\"figs/09_adjacency.png\" alt=\"default\", width=650px/></center>\n",
    "\n",
    "\n",
    "Verify this statement in a special case, by computing $(A^2)_{11}$."
   ]
  },
  {
   "cell_type": "markdown",
   "id": "a405fee4",
   "metadata": {
    "slideshow": {
     "slide_type": "slide"
    }
   },
   "source": [
    "$\\color{#047C91}{\\text{Exercise}}$: Give an idea on how to prove the six degrees separation theory.\n",
    "\n",
    "<center><img src=\"figs/09_six_degrees.png\" alt=\"default\" width=350px/></center>\n",
    "\n",
    "This is the theory that any person on the planet can be connected to any other person on the planet through a chain of acquaintances that has no more than five intermediaries."
   ]
  },
  {
   "cell_type": "markdown",
   "id": "8cef310e",
   "metadata": {
    "slideshow": {
     "slide_type": "slide"
    }
   },
   "source": [
    "$\\color{#047C91}{\\text{Exercise}}$: Consider an epidemic modeled by the SIR linear dynamical model with dynamic matrix $A$ and initial state $x_0$. What does the quantity $A^k x_0$ represent?\n",
    "<center><img src=\"figs/08_sir.png\" alt=\"default\" width=450px/></center>"
   ]
  },
  {
   "cell_type": "markdown",
   "id": "5c5e3443",
   "metadata": {
    "slideshow": {
     "slide_type": "slide"
    }
   },
   "source": [
    "##### Outline: 09 Matrix Multiplication\n",
    "\n",
    "- [Matrix Multiplication](#sec-matrices)\n",
    "- [Composition of linear functions](#sec-matrices)\n",
    "- [Matrix powers](#sec-matrices)\n",
    "- **[QR factorization](#sec-matrices)**"
   ]
  },
  {
   "cell_type": "markdown",
   "id": "fd01608d",
   "metadata": {
    "slideshow": {
     "slide_type": "slide"
    }
   },
   "source": [
    "### QR Factorization\n",
    "\n",
    "We introduce the important concept of QR factorization, which will be essential to solve linear equations."
   ]
  },
  {
   "cell_type": "markdown",
   "id": "725c81cd",
   "metadata": {
    "slideshow": {
     "slide_type": "slide"
    }
   },
   "source": [
    "### QR Factorization\n",
    "\n",
    "$\\color{#EF5645}{\\text{Proposition}}$: Any matrix $A$ can be decomposed into two matrices $Q, R$ such that $A = QR$ and:\n",
    "- $Q$ is a matrix such that: $Q^TQ = I$\n",
    "- $R$ is a upper triangular matrix.\n",
    "\n",
    "$\\color{#EF5645}{\\text{Remark}}$: We will not learn how to compute it manually. We will rather learn how to compute it in Python, and use it in practice... for example to solve any type of linear equations!"
   ]
  },
  {
   "cell_type": "markdown",
   "id": "39e982f2",
   "metadata": {
    "slideshow": {
     "slide_type": "slide"
    }
   },
   "source": [
    "$\\color{#003660}{\\text{In Python}}$, the QR decomposition of a matrix $A$ can be computed using `np.linalg.qr`:"
   ]
  },
  {
   "cell_type": "code",
   "execution_count": 12,
   "id": "4b0c1b1f",
   "metadata": {},
   "outputs": [
    {
     "data": {
      "text/plain": [
       "array([[1.00000000e+00, 1.97948808e-16],\n",
       "       [1.97948808e-16, 1.00000000e+00]])"
      ]
     },
     "execution_count": 12,
     "metadata": {},
     "output_type": "execute_result"
    }
   ],
   "source": [
    "import numpy as np\n",
    "\n",
    "A = np.array([\n",
    "    [1, 2, 3],\n",
    "    [4, 5, 6]\n",
    "])\n",
    "\n",
    "Q, R = np.linalg.qr(A)\n",
    "Q.T @ Q"
   ]
  },
  {
   "cell_type": "markdown",
   "id": "5012f043",
   "metadata": {
    "slideshow": {
     "slide_type": "slide"
    }
   },
   "source": [
    "##### Outline: 09 Matrix Multiplication\n",
    "\n",
    "- [Matrix Multiplication](#sec-matrices)\n",
    "- [Composition of linear functions](#sec-matrices)\n",
    "- [Matrix powers](#sec-matrices)\n",
    "- **[QR factorization](#sec-matrices)**\n",
    "\n",
    "Resources: Book ILA Ch. 10"
   ]
  }
 ],
 "metadata": {
  "celltoolbar": "Slideshow",
  "kernelspec": {
   "display_name": "Python 3 (ipykernel)",
   "language": "python",
   "name": "python3"
  },
  "language_info": {
   "codemirror_mode": {
    "name": "ipython",
    "version": 3
   },
   "file_extension": ".py",
   "mimetype": "text/x-python",
   "name": "python",
   "nbconvert_exporter": "python",
   "pygments_lexer": "ipython3",
   "version": "3.9.9"
  }
 },
 "nbformat": 4,
 "nbformat_minor": 5
}
