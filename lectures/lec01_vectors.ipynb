{
 "cells": [
  {
   "cell_type": "markdown",
   "metadata": {
    "slideshow": {
     "slide_type": "slide"
    }
   },
   "source": [
    "# 01 Vectors"
   ]
  },
  {
   "cell_type": "markdown",
   "metadata": {
    "cell_style": "center",
    "slideshow": {
     "slide_type": "-"
    }
   },
   "source": [
    "<center><img src=\"figs/01_matrix_color.jpeg\" alt=\"default\" width=700/></center>\n"
   ]
  },
  {
   "cell_type": "markdown",
   "metadata": {
    "slideshow": {
     "slide_type": "slide"
    }
   },
   "source": [
    "#### Unit 1: Vectors, Textbook Ch. 1-5\n",
    "- **_01 Vectors_**\n",
    "- 02 Linear Functions\n",
    "- 03 Norms and Distances\n",
    "- 04 Clustering\n",
    "- 05 Linear Independence\n",
    "\n",
    "#### Unit 2: Matrices. Unit 3: Least Squares."
   ]
  },
  {
   "cell_type": "markdown",
   "metadata": {
    "slideshow": {
     "slide_type": "slide"
    }
   },
   "source": [
    "### Intro: 01 Vectors\n",
    "\n",
    "A vector is roughly \"a list of numbers\": \n",
    "\n",
    "$\\rightarrow$ everywhere in modern data and computer programs."
   ]
  },
  {
   "cell_type": "markdown",
   "metadata": {
    "cell_style": "split",
    "slideshow": {
     "slide_type": "fragment"
    }
   },
   "source": [
    "<center><img src=\"figs/00_image_a.jpg\" alt=\"default\" width=500px/></center>"
   ]
  },
  {
   "cell_type": "markdown",
   "metadata": {
    "cell_style": "split",
    "slideshow": {
     "slide_type": "fragment"
    }
   },
   "source": [
    "<center><img src=\"figs/01_signal_vector.png\" alt=\"default\" width=600px/></center>"
   ]
  },
  {
   "cell_type": "markdown",
   "metadata": {
    "slideshow": {
     "slide_type": "slide"
    }
   },
   "source": [
    "# Intro: 01 Vectors\n",
    "\n",
    "\n",
    "$\\color{#EF5645}{\\text{In this lecture, you will learn:}}$\n",
    "- how to define vectors, and basic operations on them.\n",
    "- how to implement vectors and basic operations."
   ]
  },
  {
   "cell_type": "markdown",
   "metadata": {
    "slideshow": {
     "slide_type": "notes"
    }
   },
   "source": [
    "<a id='sec-def'></a>"
   ]
  },
  {
   "cell_type": "markdown",
   "metadata": {
    "slideshow": {
     "slide_type": "slide"
    }
   },
   "source": [
    "##### Outline: 01 Vectors\n",
    "\n",
    "- [First definitions](#sec-def)\n",
    "\n",
    "- [First implementations](#sec-def)\n",
    "\n",
    "- [First visualizations](#sec-def)\n",
    "\n",
    "- [Building new vectors](#sec-def)\n",
    "\n",
    "- [More examples](#sec-ex)\n",
    "\n",
    "- [Addition, subtraction and scalar multiplication](#sec-op)\n",
    "\n",
    "- [Inner product](#sec-ip)"
   ]
  },
  {
   "cell_type": "markdown",
   "metadata": {
    "slideshow": {
     "slide_type": "slide"
    }
   },
   "source": [
    "##### Outline: 01 Vectors\n",
    "\n",
    "- **[First definitions](#sec-def)**\n",
    "\n",
    "- [First implementations](#sec-def)\n",
    "\n",
    "- [First visualizations](#sec-def)\n",
    "\n",
    "- [Building new vectors](#sec-def)\n",
    "\n",
    "- [More examples](#sec-ex)\n",
    "\n",
    "- [Addition, subtraction and scalar multiplication](#sec-op)\n",
    "\n",
    "- [Inner product](#sec-ip)"
   ]
  },
  {
   "cell_type": "markdown",
   "metadata": {
    "slideshow": {
     "slide_type": "slide"
    }
   },
   "source": [
    "### Vector: Definition\n",
    "\n",
    "\n",
    "$\\color{#EF5645}{\\text{Definition}}$ A _vector_ is an ordered list of numbers:\n",
    "\n",
    "\n",
    "<center><img src=\"figs/01_def_vector.png\" alt=\"default\" width=500px/></center>\n",
    "\n",
    "\n",
    "<!-- $$\\begin{bmatrix}\n",
    "    -1.1 \\\\\n",
    "    0.0 \\\\\n",
    "    3.6 \\\\\n",
    "    -7.2\n",
    "\\end{bmatrix} \\text{ or } \\begin{bmatrix}\n",
    "    -1.1 \\\\\n",
    "    0.0 \\\\\n",
    "    3.6 \\\\\n",
    "    -7.2\n",
    "\\end{bmatrix} \\text{ or } (-1.1, 0.0, 3.6, -7.2).$$  -->\n",
    "\n",
    "The numbers in the list are called: _components, elements, entries, or coefficients_ of the vector.\n",
    "\n",
    "The number $n$ of elements in the list is the _size, dimension, or length_ of the vector, which is a _$n$-vector_."
   ]
  },
  {
   "cell_type": "markdown",
   "metadata": {
    "slideshow": {
     "slide_type": "slide"
    }
   },
   "source": [
    "$\\color{#047C91}{\\text{Exercise}}$: What are the components of the vector below? What is its dimension?\n",
    "\n",
    "<center><img src=\"figs/01_def_vector.png\" alt=\"default\" width=800px/></center>\n",
    "\n",
    "$\\color{#EF5645}{\\text{Definition}}$: In contrast to vectors, numbers are just called _scalars_. For example, 3.4 is a scalar."
   ]
  },
  {
   "cell_type": "markdown",
   "metadata": {
    "slideshow": {
     "slide_type": "slide"
    }
   },
   "source": [
    "$\\color{#EF5645}{\\text{Notation}}$: \n",
    "\n",
    "We use symbols to denote vectors: $a, X,  β, \\mathbf{g}, \\overrightarrow{a}$.\n",
    "\n",
    "The ith element of vector $a$ is written $a_i$; $i$ is the index.\n",
    "\n",
    "$\\color{#EF5645}{\\text{Remark 1}}$: For an n-vector:\n",
    "  - 😱 in Math: indexes run from $i = 1$ to $i = n$,\n",
    "  - 😱 in Python: indexes run from $i = 0$ to $i = n - 1$."
   ]
  },
  {
   "cell_type": "markdown",
   "metadata": {
    "slideshow": {
     "slide_type": "slide"
    }
   },
   "source": [
    "$\\color{#EF5645}{\\text{Remark 2}}$: When you see \"$a_i$\":\n",
    "- If $a$ is an n-vector:\n",
    "  - $a_i$ is the entry at index $i$.\n",
    "- If $[a_1, ..., a_m]$ is a list of $m$ $n$-vectors:\n",
    "  - $a_i$ is the ith $n$-vector."
   ]
  },
  {
   "cell_type": "markdown",
   "metadata": {
    "slideshow": {
     "slide_type": "slide"
    }
   },
   "source": [
    "### Vector: Equality of Vectors\n",
    "\n",
    "$\\color{#EF5645}{\\text{Definition}}$: Two $n$-vectors $a$ and $b$ are equal if:\n",
    "\n",
    "$$a_i = b_i \\text{ for all $i$ in $\\{1, ..., n\\}$}.$$"
   ]
  },
  {
   "cell_type": "markdown",
   "metadata": {
    "slideshow": {
     "slide_type": "slide"
    }
   },
   "source": [
    "##### Outline: 01 Vectors\n",
    "\n",
    "- [First definitions](#sec-def)\n",
    "\n",
    "- **[First implementations](#sec-def)**\n",
    "\n",
    "- [First visualizations](#sec-def)\n",
    "\n",
    "- [Building new vectors](#sec-def)\n",
    "\n",
    "- [More examples](#sec-ex)\n",
    "\n",
    "- [Addition, subtraction and scalar multiplication](#sec-op)\n",
    "\n",
    "- [Inner product](#sec-ip)"
   ]
  },
  {
   "cell_type": "markdown",
   "metadata": {
    "slideshow": {
     "slide_type": "slide"
    }
   },
   "source": [
    "### First implementations in Python"
   ]
  },
  {
   "cell_type": "markdown",
   "metadata": {
    "cell_style": "center"
   },
   "source": [
    "Python allows to perform calculus, using: $+, -, *, /$"
   ]
  },
  {
   "cell_type": "code",
   "execution_count": 5,
   "metadata": {
    "cell_style": "center"
   },
   "outputs": [
    {
     "data": {
      "text/plain": [
       "0.016260162601626018"
      ]
     },
     "execution_count": 5,
     "metadata": {},
     "output_type": "execute_result"
    }
   ],
   "source": [
    "2 / 123"
   ]
  },
  {
   "cell_type": "markdown",
   "metadata": {
    "slideshow": {
     "slide_type": "slide"
    }
   },
   "source": [
    "$\\color{#EF5645}{\\text{Definition}}$: In Python, a _variable_ is an entity that stores a value, and may change during the program."
   ]
  },
  {
   "cell_type": "markdown",
   "metadata": {},
   "source": [
    "We check the value stored in a variable with `print`."
   ]
  },
  {
   "cell_type": "code",
   "execution_count": 20,
   "metadata": {},
   "outputs": [
    {
     "data": {
      "text/plain": [
       "2"
      ]
     },
     "execution_count": 20,
     "metadata": {},
     "output_type": "execute_result"
    }
   ],
   "source": [
    "a = 3 / 5\n",
    "b = 2\n",
    "a; b"
   ]
  },
  {
   "cell_type": "markdown",
   "metadata": {
    "slideshow": {
     "slide_type": "slide"
    }
   },
   "source": [
    "$\\color{#047C91}{\\text{Exercise}}$: \n",
    "- Store the value $1.2$ in a variable named `a`. \n",
    "- Add 1 to the variable `a`. "
   ]
  },
  {
   "cell_type": "code",
   "execution_count": 23,
   "metadata": {
    "cell_style": "center"
   },
   "outputs": [
    {
     "data": {
      "text/plain": [
       "2.2"
      ]
     },
     "execution_count": 23,
     "metadata": {},
     "output_type": "execute_result"
    }
   ],
   "source": [
    "a = 1.2\n",
    "b = a + 1\n",
    "b"
   ]
  },
  {
   "cell_type": "markdown",
   "metadata": {
    "slideshow": {
     "slide_type": "skip"
    }
   },
   "source": [
    "$\\color{#047C91}{\\text{Exercise}}$:\n",
    "- Store the value \"cat\" in a variable named `animal`. \n",
    "- Add \"s\" to the variable `animal`."
   ]
  },
  {
   "cell_type": "markdown",
   "metadata": {
    "slideshow": {
     "slide_type": "slide"
    }
   },
   "source": [
    "### Vectors in Python\n",
    "\n",
    "$\\color{#003660}{\\text{In Python}}$, vectors can first be represented as:\n",
    "- a \"list\" of numbers, using `[]`,\n",
    "- a \"tuple\" of numbers, using `()`."
   ]
  },
  {
   "cell_type": "code",
   "execution_count": 27,
   "metadata": {
    "slideshow": {
     "slide_type": "fragment"
    }
   },
   "outputs": [
    {
     "name": "stdout",
     "output_type": "stream",
     "text": [
      "[1, 2, 3]\n",
      "(1, 2, 3)\n"
     ]
    }
   ],
   "source": [
    "l = [1, 2, 3]; print(l)\n",
    "t = (1, 2, 3); print(t)\n"
   ]
  },
  {
   "cell_type": "markdown",
   "metadata": {
    "slideshow": {
     "slide_type": "slide"
    }
   },
   "source": [
    "$\\color{#003660}{\\text{In Python}}$, vectors can _also_ be represented as:\n",
    "\n",
    "- \"arrays\" of numbers with the package [NumPy](https://numpy.org/).\n",
    "\n",
    "$\\color{#EF5645}{\\text{Definition}}$: In Python, a _package_ is a folder containing code, that you import to access tools.\n",
    "\n",
    "$\\color{#047C91}{\\text{Example}}$: The `numpy` package contains:\n",
    "- a specific way of representing vectors: \"arrays\"\n",
    "- multiple functions to compute with vectors!"
   ]
  },
  {
   "cell_type": "markdown",
   "metadata": {
    "slideshow": {
     "slide_type": "slide"
    }
   },
   "source": [
    "We import a package with `import` functionality. \n",
    "\n",
    "We rename the package using `as` functionality."
   ]
  },
  {
   "cell_type": "code",
   "execution_count": 48,
   "metadata": {},
   "outputs": [
    {
     "name": "stdout",
     "output_type": "stream",
     "text": [
      "[0.33333333 0.66666667 1.        ]\n"
     ]
    }
   ],
   "source": [
    "import numpy as np\n",
    "c = np.array([1, 2, 3]) / 3\n",
    "print(c)"
   ]
  },
  {
   "cell_type": "markdown",
   "metadata": {
    "slideshow": {
     "slide_type": "slide"
    }
   },
   "source": [
    "### Vector length in Python"
   ]
  },
  {
   "cell_type": "markdown",
   "metadata": {
    "slideshow": {
     "slide_type": "-"
    }
   },
   "source": [
    "The size/length/dimension of a vector is computed with `len`, (for lists, tuples, and np.arrays)."
   ]
  },
  {
   "cell_type": "code",
   "execution_count": 54,
   "metadata": {},
   "outputs": [
    {
     "data": {
      "text/plain": [
       "3"
      ]
     },
     "execution_count": 54,
     "metadata": {},
     "output_type": "execute_result"
    }
   ],
   "source": [
    "l = [1, 2, 3, 4, 5, 6]\n",
    "t = (1, 2, 3, 45, 6, 7, 3, 4)\n",
    "a = np.array([1, 2, 3])\n",
    "len(a)"
   ]
  },
  {
   "cell_type": "markdown",
   "metadata": {
    "slideshow": {
     "slide_type": "slide"
    }
   },
   "source": [
    "### Vector components: Accessing\n",
    "\n",
    "$\\color{#003660}{\\text{In Python}}$, we \"access\" the components of a vector with:"
   ]
  },
  {
   "cell_type": "code",
   "execution_count": 68,
   "metadata": {},
   "outputs": [
    {
     "ename": "IndexError",
     "evalue": "list index out of range",
     "output_type": "error",
     "traceback": [
      "\u001b[0;31m---------------------------------------------------------------------------\u001b[0m",
      "\u001b[0;31mIndexError\u001b[0m                                Traceback (most recent call last)",
      "\u001b[0;32m/var/folders/dz/k1hb2xr94k558sjs416njdp40000gn/T/ipykernel_1218/2192835077.py\u001b[0m in \u001b[0;36m<module>\u001b[0;34m\u001b[0m\n\u001b[1;32m      1\u001b[0m \u001b[0ma\u001b[0m \u001b[0;34m=\u001b[0m \u001b[0;34m[\u001b[0m\u001b[0;36m3\u001b[0m\u001b[0;34m,\u001b[0m \u001b[0;36m4\u001b[0m\u001b[0;34m,\u001b[0m \u001b[0;36m5\u001b[0m\u001b[0;34m]\u001b[0m\u001b[0;34m\u001b[0m\u001b[0;34m\u001b[0m\u001b[0m\n\u001b[0;32m----> 2\u001b[0;31m \u001b[0ma\u001b[0m\u001b[0;34m[\u001b[0m\u001b[0;36m3\u001b[0m\u001b[0;34m]\u001b[0m\u001b[0;34m\u001b[0m\u001b[0;34m\u001b[0m\u001b[0m\n\u001b[0m",
      "\u001b[0;31mIndexError\u001b[0m: list index out of range"
     ]
    }
   ],
   "source": [
    "a = [3, 4, 5]\n",
    "a[3]"
   ]
  },
  {
   "cell_type": "markdown",
   "metadata": {
    "slideshow": {
     "slide_type": "slide"
    }
   },
   "source": [
    "**Remember:** for an n-vector:\n",
    "- 😱 Math: indexes run from $i = 1$ to $i = n$,\n",
    "- 😱 Python: indexes run from $i = 0$ to $i = n - 1$."
   ]
  },
  {
   "cell_type": "code",
   "execution_count": 1,
   "metadata": {},
   "outputs": [
    {
     "ename": "IndexError",
     "evalue": "list index out of range",
     "output_type": "error",
     "traceback": [
      "\u001b[0;31m---------------------------------------------------------------------------\u001b[0m",
      "\u001b[0;31mIndexError\u001b[0m                                Traceback (most recent call last)",
      "\u001b[0;32m/var/folders/dz/k1hb2xr94k558sjs416njdp40000gn/T/ipykernel_78630/2550656813.py\u001b[0m in \u001b[0;36m<module>\u001b[0;34m\u001b[0m\n\u001b[1;32m      1\u001b[0m \u001b[0ma\u001b[0m \u001b[0;34m=\u001b[0m \u001b[0;34m[\u001b[0m\u001b[0;36m1.1\u001b[0m\u001b[0;34m,\u001b[0m \u001b[0;36m2.2\u001b[0m\u001b[0;34m,\u001b[0m \u001b[0;36m3.3\u001b[0m\u001b[0;34m,\u001b[0m \u001b[0;36m4.4\u001b[0m\u001b[0;34m]\u001b[0m\u001b[0;34m\u001b[0m\u001b[0;34m\u001b[0m\u001b[0m\n\u001b[0;32m----> 2\u001b[0;31m \u001b[0ma\u001b[0m\u001b[0;34m[\u001b[0m\u001b[0;36m4\u001b[0m\u001b[0;34m]\u001b[0m\u001b[0;34m\u001b[0m\u001b[0;34m\u001b[0m\u001b[0m\n\u001b[0m",
      "\u001b[0;31mIndexError\u001b[0m: list index out of range"
     ]
    }
   ],
   "source": [
    "a = [1.1, 2.2, 3.3, 4.4]\n",
    "a[4]"
   ]
  },
  {
   "cell_type": "markdown",
   "metadata": {
    "slideshow": {
     "slide_type": "slide"
    }
   },
   "source": [
    "### Vector components: Assigning\n",
    "\n",
    "$\\color{#003660}{\\text{In Python}}$, components of a vector can be \"assigned\", as:"
   ]
  },
  {
   "cell_type": "code",
   "execution_count": 70,
   "metadata": {},
   "outputs": [
    {
     "data": {
      "text/plain": [
       "[1, 2.2, -3.0, -2022]"
      ]
     },
     "execution_count": 70,
     "metadata": {},
     "output_type": "execute_result"
    }
   ],
   "source": [
    "a = [1, 2.2, -3., 4.]\n",
    "a[3] = - 2022\n",
    "a"
   ]
  },
  {
   "cell_type": "markdown",
   "metadata": {
    "slideshow": {
     "slide_type": "slide"
    }
   },
   "source": [
    "$\\color{#EF5645}{\\text{Remark/Exception}}$: If you store a vector as a tuple, then assignment does not work."
   ]
  },
  {
   "cell_type": "code",
   "execution_count": 71,
   "metadata": {},
   "outputs": [
    {
     "ename": "TypeError",
     "evalue": "'tuple' object does not support item assignment",
     "output_type": "error",
     "traceback": [
      "\u001b[0;31m---------------------------------------------------------------------------\u001b[0m",
      "\u001b[0;31mTypeError\u001b[0m                                 Traceback (most recent call last)",
      "\u001b[0;32m/var/folders/dz/k1hb2xr94k558sjs416njdp40000gn/T/ipykernel_1218/1633531613.py\u001b[0m in \u001b[0;36m<module>\u001b[0;34m\u001b[0m\n\u001b[1;32m      1\u001b[0m \u001b[0ma\u001b[0m \u001b[0;34m=\u001b[0m \u001b[0;34m(\u001b[0m\u001b[0;36m1\u001b[0m\u001b[0;34m,\u001b[0m \u001b[0;36m2\u001b[0m\u001b[0;34m,\u001b[0m \u001b[0;36m3\u001b[0m\u001b[0;34m)\u001b[0m\u001b[0;34m\u001b[0m\u001b[0;34m\u001b[0m\u001b[0m\n\u001b[0;32m----> 2\u001b[0;31m \u001b[0ma\u001b[0m\u001b[0;34m[\u001b[0m\u001b[0;36m2\u001b[0m\u001b[0;34m]\u001b[0m \u001b[0;34m=\u001b[0m \u001b[0;36m2022\u001b[0m\u001b[0;34m\u001b[0m\u001b[0;34m\u001b[0m\u001b[0m\n\u001b[0m",
      "\u001b[0;31mTypeError\u001b[0m: 'tuple' object does not support item assignment"
     ]
    }
   ],
   "source": [
    "a = (1, 2, 3)\n",
    "a[2] = 2022"
   ]
  },
  {
   "cell_type": "markdown",
   "metadata": {
    "slideshow": {
     "slide_type": "slide"
    }
   },
   "source": [
    "##### Outline: 01 Vectors\n",
    "\n",
    "- [First definitions](#sec-def)\n",
    "\n",
    "- [First implementations](#sec-def)\n",
    "\n",
    "- **[First visualizations](#sec-def)**\n",
    "\n",
    "- [Building new vectors](#sec-def)\n",
    "\n",
    "- [More examples](#sec-ex)\n",
    "\n",
    "- [Addition, subtraction and scalar multiplication](#sec-op)\n",
    "\n",
    "- [Inner product](#sec-ip)"
   ]
  },
  {
   "cell_type": "markdown",
   "metadata": {
    "slideshow": {
     "slide_type": "slide"
    }
   },
   "source": [
    "### Visualization of vectors"
   ]
  },
  {
   "cell_type": "markdown",
   "metadata": {},
   "source": [
    "$\\color{#EF5645}{\\text{Recall}}$: In Python, a _package_ is a folder containing code, that you import to access tools.\n",
    "\n",
    "$\\color{#047C91}{\\text{Example}}$: The `matplotlib.pyplot` package contains tools to visualize vectors."
   ]
  },
  {
   "cell_type": "code",
   "execution_count": 3,
   "metadata": {},
   "outputs": [],
   "source": [
    "import matplotlib.pyplot as plt"
   ]
  },
  {
   "cell_type": "markdown",
   "metadata": {
    "slideshow": {
     "slide_type": "slide"
    }
   },
   "source": [
    "### Visualization 1: A vector as a point\n",
    "\n",
    "- A 2-vector $(a_1, a_2)$ can represent:\n",
    "  - a point on the 2D plane, coordinates: $(a_1, a_2)$. \n",
    " \n",
    "- An n-vector $(a_1, ..., a_n)$ can represent:\n",
    "  - a point in the n-D space."
   ]
  },
  {
   "cell_type": "markdown",
   "metadata": {
    "slideshow": {
     "slide_type": "slide"
    }
   },
   "source": [
    "$\\color{#003660}{\\text{In Python}}$, we use `scatter` to plot points in 2D, thanks to `matplotlib.pyplot`."
   ]
  },
  {
   "cell_type": "code",
   "execution_count": 8,
   "metadata": {},
   "outputs": [
    {
     "data": {
      "image/png": "[encoded data removed]",
      "text/plain": [
       "<Figure size 432x288 with 1 Axes>"
      ]
     },
     "metadata": {
      "needs_background": "light"
     },
     "output_type": "display_data"
    }
   ],
   "source": [
    "vector = [1, 2]\n",
    "plt.scatter(vector[0], vector[1], s=500, color=\"blue\");"
   ]
  },
  {
   "cell_type": "markdown",
   "metadata": {
    "slideshow": {
     "slide_type": "slide"
    }
   },
   "source": [
    "$\\color{#003660}{\\text{In Python}}$, we use `scatter3D` to plot points in 3D, from `matplotlib.pyplot`.\n",
    "\n",
    "We also need to tell python that we are going to 3D."
   ]
  },
  {
   "cell_type": "code",
   "execution_count": 13,
   "metadata": {},
   "outputs": [
    {
     "data": {
      "image/png": "[encoded data removed]",
      "text/plain": [
       "<Figure size 432x288 with 1 Axes>"
      ]
     },
     "metadata": {
      "needs_background": "light"
     },
     "output_type": "display_data"
    }
   ],
   "source": [
    "vector = [1, 2, 3]\n",
    "fig = plt.figure()\n",
    "ax = plt.axes(projection =\"3d\")\n",
    "ax.scatter(vector[0], vector[1], vector[2], s=500, color=\"red\");"
   ]
  },
  {
   "cell_type": "markdown",
   "metadata": {
    "slideshow": {
     "slide_type": "slide"
    }
   },
   "source": [
    "### Visualization 2: A vector as an arrow\n",
    "\n",
    "A 2-vector $(a_1, a_2)$ can also represent:\n",
    "  - an arrow in the 2D plane from $(0, 0)$ to $(a_1, a_2)$.\n",
    "\n",
    "An n-vector $(a_1, ..., a_n)$ can also represent:\n",
    "  - an arrow in the n-D space from $(0, ..., 0)$ to $(a_1, ..., a_n)$."
   ]
  },
  {
   "cell_type": "markdown",
   "metadata": {
    "slideshow": {
     "slide_type": "slide"
    }
   },
   "source": [
    "$\\color{#003660}{\\text{In Python}}$, we use `quiver` to plot arrows (from `matplotlib.pyplot`) in 2D."
   ]
  },
  {
   "cell_type": "code",
   "execution_count": 21,
   "metadata": {
    "slideshow": {
     "slide_type": "-"
    }
   },
   "outputs": [
    {
     "data": {
      "image/png": "[encoded data removed]",
      "text/plain": [
       "<Figure size 432x288 with 1 Axes>"
      ]
     },
     "metadata": {
      "needs_background": "light"
     },
     "output_type": "display_data"
    }
   ],
   "source": [
    "plt.quiver(\n",
    "    0, 0, vector[0], vector[1], \n",
    "    color='green', scale=10); "
   ]
  },
  {
   "cell_type": "code",
   "execution_count": 52,
   "metadata": {
    "slideshow": {
     "slide_type": "skip"
    }
   },
   "outputs": [
    {
     "data": {
      "image/png": "[encoded data removed]",
      "text/plain": [
       "<Figure size 432x288 with 1 Axes>"
      ]
     },
     "metadata": {
      "needs_background": "light"
     },
     "output_type": "display_data"
    }
   ],
   "source": [
    "fig = plt.figure()\n",
    "ax = plt.axes(projection =\"3d\")\n",
    "ax.quiver(\n",
    "    0, 0, 0, vector[0], vector[1], vector[2], \n",
    "    color='green', length=0.1, normalize=True); "
   ]
  },
  {
   "cell_type": "markdown",
   "metadata": {
    "slideshow": {
     "slide_type": "slide"
    }
   },
   "source": [
    "### Outline: 01 Vectors\n",
    "\n",
    "- [First definitions](#sec-def)\n",
    "\n",
    "- [First implementations](#sec-def)\n",
    "\n",
    "- [First visualizations](#sec-def)\n",
    "\n",
    "- **[Building new vectors](#sec-def)**\n",
    "\n",
    "- [More examples](#sec-ex)\n",
    "\n",
    "- [Addition, subtraction and scalar multiplication](#sec-op)\n",
    "\n",
    "- [Inner product](#sec-ip)"
   ]
  },
  {
   "cell_type": "markdown",
   "metadata": {
    "slideshow": {
     "slide_type": "slide"
    }
   },
   "source": [
    "### Block or Stacked Vectors\n",
    "\n",
    "$\\color{#EF5645}{\\text{Definition}}$: Suppose $a, b, c$ are vectors with sizes $m, n, p$. We can create a new vector $d$ as:\n",
    "\n",
    "<center><img src=\"figs/01_stack.png\" alt=\"default\" width=150px/></center>\n",
    "\n",
    "The vector $d$ is called:\n",
    "- a _block vector or a stacked vector with entries $a, b, c$_, \n",
    "- or simply the concatenation of $a, b, c$.\n"
   ]
  },
  {
   "cell_type": "markdown",
   "metadata": {
    "slideshow": {
     "slide_type": "slide"
    }
   },
   "source": [
    "$\\color{#EF5645}{\\text{Remark}}$: The stack vector $d$ has size $m+n+p$ with the following components:\n",
    "\n",
    "$$d = (a_1, ..., a_m, b_1, ..., b_n, c_1, ..., c_p).$$"
   ]
  },
  {
   "cell_type": "markdown",
   "metadata": {
    "slideshow": {
     "slide_type": "slide"
    }
   },
   "source": [
    "### Block or Stacked Vectors\n",
    "\n",
    "$\\color{#003660}{\\text{In Python}}$, we create a block vector using `concatenate` (from `numpy`)."
   ]
  },
  {
   "cell_type": "code",
   "execution_count": 29,
   "metadata": {
    "slideshow": {
     "slide_type": "-"
    }
   },
   "outputs": [
    {
     "data": {
      "text/plain": [
       "array([1.1, 2.2, 3.3, 4.4, 5.5, 6.6, 7.7])"
      ]
     },
     "execution_count": 29,
     "metadata": {},
     "output_type": "execute_result"
    }
   ],
   "source": [
    "import numpy as np\n",
    "a = np.array([1.1, 2.2])\n",
    "b = np.array([3.3, 4.4, 5.5])\n",
    "c = np.array([6.6, 7.7])\n",
    "d = np.concatenate([a, b, c])\n",
    "d"
   ]
  },
  {
   "cell_type": "markdown",
   "metadata": {
    "slideshow": {
     "slide_type": "slide"
    }
   },
   "source": [
    "### Zero Vectors and Ones Vectors\n",
    "\n",
    "$\\color{#EF5645}{\\text{Definition}}$: The n-vector with all entries 0 is denoted $0_n$ or just $0$ and is called a _zero vector_. \n",
    "\n",
    "$\\color{#EF5645}{\\text{Definition}}$: The n-vector with all entries 1 is denoted $1_n$ or just 1 and is called a _ones-vector_."
   ]
  },
  {
   "cell_type": "markdown",
   "metadata": {
    "slideshow": {
     "slide_type": "slide"
    }
   },
   "source": [
    "$\\color{#003660}{\\text{In Python}}$, we use `zeros` and `ones` (from `numpy`)."
   ]
  },
  {
   "cell_type": "code",
   "execution_count": 31,
   "metadata": {},
   "outputs": [
    {
     "name": "stdout",
     "output_type": "stream",
     "text": [
      "[0. 0.]\n",
      "[0. 0. 0.]\n",
      "[1. 1. 1. 1.]\n"
     ]
    }
   ],
   "source": [
    "zeros2 = np.zeros(2)\n",
    "print(zeros2)\n",
    "zeros3 = np.zeros(3)\n",
    "print(zeros3)\n",
    "ones4 = np.ones(4)\n",
    "print(ones4)"
   ]
  },
  {
   "cell_type": "markdown",
   "metadata": {
    "slideshow": {
     "slide_type": "slide"
    }
   },
   "source": [
    "### One-Hot Vectors\n",
    "\n",
    "$\\color{#EF5645}{\\text{Definition}}$: A _one-hot vector_ is a vector which has one entry 1 and all others 0. If $i$ is the index of the non-zero entry, we denote it $e_i$.\n",
    "\n",
    "$\\color{#047C91}{\\text{Exercise}}$: What are all the one-hot vectors of length 3?"
   ]
  },
  {
   "cell_type": "code",
   "execution_count": 33,
   "metadata": {
    "slideshow": {
     "slide_type": "slide"
    }
   },
   "outputs": [
    {
     "data": {
      "text/plain": [
       "array([0., 1., 0.])"
      ]
     },
     "execution_count": 33,
     "metadata": {},
     "output_type": "execute_result"
    }
   ],
   "source": [
    "\"\"\"Create one-hot vector e1 of len 3.\"\"\"\n",
    "\n",
    "e1 = np.zeros(3)\n",
    "e1[1] = 1\n",
    "e1"
   ]
  },
  {
   "cell_type": "markdown",
   "metadata": {},
   "source": [
    "<a id='sec-ex'></a>"
   ]
  },
  {
   "cell_type": "markdown",
   "metadata": {
    "slideshow": {
     "slide_type": "slide"
    }
   },
   "source": [
    "### Outline: 01 Vectors\n",
    "\n",
    "- [First definitions](#sec-def)\n",
    "\n",
    "- [First implementations](#sec-def)\n",
    "\n",
    "- [First visualizations](#sec-def)\n",
    "\n",
    "- [Building new vectors](#sec-def)\n",
    "\n",
    "- **[More examples](#sec-ex)**\n",
    "\n",
    "- [Addition, subtraction and scalar multiplication](#sec-op)\n",
    "\n",
    "- [Inner product](#sec-ip)"
   ]
  },
  {
   "cell_type": "markdown",
   "metadata": {
    "slideshow": {
     "slide_type": "slide"
    }
   },
   "source": [
    "In ECE, a 2-vector $a=(a_1, a_2)$ can represent a displacement in 2-D, for example the movement of a person on a map (google map, apple maps). \n",
    "\n",
    "<center><img src=\"figs/01_sumvectors.jpg\" width=500px alt=\"default\"/></center>"
   ]
  },
  {
   "cell_type": "markdown",
   "metadata": {
    "cell_style": "center",
    "slideshow": {
     "slide_type": "slide"
    }
   },
   "source": [
    "In ECE, a 3-vector $a$ can be a color in RGB: $a = (R, G, B)$\n",
    "\n",
    "<center><img src=\"figs/01_matrix_color.jpeg\" alt=\"default\" width=600/></center>\n",
    "\n",
    "<center>The matrix coloring is an operation on vectors</center>"
   ]
  },
  {
   "cell_type": "markdown",
   "metadata": {
    "slideshow": {
     "slide_type": "slide"
    }
   },
   "source": [
    "##### Outline: 01 Vectors\n",
    "\n",
    "- [First definitions](#sec-def)\n",
    "\n",
    "- [First implementations](#sec-def)\n",
    "\n",
    "- [First visualizations](#sec-def)\n",
    "\n",
    "- [Building new vectors](#sec-def)\n",
    "\n",
    "- [More examples](#sec-ex)\n",
    "\n",
    "- **[Addition, subtraction and scalar multiplication](#sec-op)**\n",
    "\n",
    "- [Inner product](#sec-ip)"
   ]
  },
  {
   "cell_type": "markdown",
   "metadata": {
    "slideshow": {
     "slide_type": "slide"
    }
   },
   "source": [
    "### Vector Addition and Subtraction\n",
    "\n",
    "$\\color{#EF5645}{\\text{Definition}}$: Two vectors a and b can be added/subtracted:\n",
    "- Sum is denoted a + b; subtraction is denoted a - b.\n",
    "- Sum/subtraction is computed by adding/subtracting vector entries.\n",
    "\n",
    "$\\color{#047C91}{\\text{Exercise}}$: Compute:\n",
    "<center><img src=\"figs/01_add.png\" alt=\"default\" width=160px/></center>\n"
   ]
  },
  {
   "cell_type": "markdown",
   "metadata": {
    "slideshow": {
     "slide_type": "slide"
    }
   },
   "source": [
    "### Vector Addition and Subtraction\n",
    "\n",
    "$\\color{#003660}{\\text{In Python}}$, we add/subtract vectors using `np.array` only."
   ]
  },
  {
   "cell_type": "code",
   "execution_count": 34,
   "metadata": {},
   "outputs": [
    {
     "data": {
      "text/plain": [
       "[1, 2, 1, 2]"
      ]
     },
     "execution_count": 34,
     "metadata": {},
     "output_type": "execute_result"
    }
   ],
   "source": [
    "a = np.array([0, 7, 3]) + np.array([1, 2, 0]); a\n",
    "a = np.array([1, 9]) - np.array([1, 1]); a\n",
    "\n",
    "# If we use lists, it does not give the expected result\n",
    "l1 = [1, 2]\n",
    "l2 = [1, 1]\n",
    "l1 + l1"
   ]
  },
  {
   "cell_type": "markdown",
   "metadata": {
    "slideshow": {
     "slide_type": "slide"
    }
   },
   "source": [
    "### Properties of Vector Addition\n",
    "\n",
    "$\\color{#6D7D33}{\\text{Properties}}$: For any two vectors $a, b$:\n",
    "- commutativity: a + b = b + a\n",
    "- associativity: (a + b) + c = a + (b + c) = a + b + c\n",
    "- $a + 0 = a$\n",
    "- $a - a = 0$"
   ]
  },
  {
   "cell_type": "markdown",
   "metadata": {
    "slideshow": {
     "slide_type": "slide"
    }
   },
   "source": [
    "### Interpretation: Adding displacement vectors\n",
    "\n",
    "If vectors a and b are displacements: \n",
    "- a + b is the sum displacement\n",
    "\n",
    "<center><img src=\"figs/01_sumvectors.jpg\" alt=\"Drawing\" width=450px /></center>"
   ]
  },
  {
   "cell_type": "markdown",
   "metadata": {
    "slideshow": {
     "slide_type": "slide"
    }
   },
   "source": [
    "### Interpretation: Displacement from a point to another\n",
    "\n",
    "If vectors p and q are points:\n",
    "- p − q is the displacement from q to p\n",
    "\n",
    "\n",
    "<center><img src=\"figs/01_subpoints.jpg\" width=450px alt=\"default\"/></center>"
   ]
  },
  {
   "cell_type": "markdown",
   "metadata": {
    "slideshow": {
     "slide_type": "slide"
    }
   },
   "source": [
    "### Scalar-vector multiplication\n",
    "\n",
    "$\\color{#EF5645}{\\text{Definition}}$: A scalar β and an $n$-vector a can be multiplied to give a new vector: \n",
    "$$βa = ( βa_1, . . . , β a_n).$$\n",
    "\n",
    "\n",
    "$\\color{#047C91}{\\text{Exercise}}$: Compute:\n",
    "\n",
    "<center><img src=\"figs/01_scalar.png\" alt=\"default\" width=160px/></center>\n",
    "\n",
    "\n"
   ]
  },
  {
   "cell_type": "markdown",
   "metadata": {
    "slideshow": {
     "slide_type": "slide"
    }
   },
   "source": [
    "$\\color{#003660}{\\text{In Python}}$, we only use `np.array` to perform the scalar-vector operation."
   ]
  },
  {
   "cell_type": "code",
   "execution_count": 36,
   "metadata": {},
   "outputs": [
    {
     "name": "stdout",
     "output_type": "stream",
     "text": [
      "[ 0.   4.4 -2. ]\n",
      "[0, 2, -1, 0, 2, -1]\n"
     ]
    }
   ],
   "source": [
    "x = np.array([0, 2.2, -1]) \n",
    "print(2 * x)\n",
    "\n",
    "# Using lists does not give the expected result\n",
    "l = [0, 2, -1]\n",
    "print(2 * l)"
   ]
  },
  {
   "cell_type": "markdown",
   "metadata": {
    "slideshow": {
     "slide_type": "slide"
    }
   },
   "source": [
    "### Properties of scalar-vector multiplication\n",
    "\n",
    "$\\color{#6D7D33}{\\text{Properties}}$: For scalars  $\\beta, \\gamma$ and $n$-vectors $a, b$: \n",
    "- associativity: $( βγ)a = β(γa)$\n",
    "- left distributivity: \n",
    "$$( \\beta + \\gamma)a = \\beta a + \\gamma a$$\n",
    "- right distributivity: \n",
    "$$β(a + b) = βa + βb$$"
   ]
  },
  {
   "cell_type": "markdown",
   "metadata": {
    "slideshow": {
     "slide_type": "slide"
    }
   },
   "source": [
    "### Linear combinations\n",
    "\n",
    "$\\color{#EF5645}{\\text{Definition}}$: For a list of $m$ n-vectors $a_1, . . . , a_m$ and scalars $β_1, . . . , β_m$:\n",
    "\n",
    "$$β_1a_1 + · · · + β_ma_m$$\n",
    "\n",
    "is a linear combination of the vectors.\n",
    "- $β_1, . . . , β_m$ are the coefficients.\n",
    "\n",
    "$\\color{#EF5645}{\\text{Remark:}}$ Here, $a_i$ is the ith vector in the list of $m$ vectors. It is **not** a component of a vector, it is itself a vector."
   ]
  },
  {
   "cell_type": "markdown",
   "metadata": {
    "slideshow": {
     "slide_type": "slide"
    }
   },
   "source": [
    "$\\color{#047C91}{\\text{Exercise}}$: Write a $n$-vector $b = (b_1, ..., b_{n})$ as a linear combination of the one-hot n-vectors $e_1, ..., e_{n}$."
   ]
  },
  {
   "cell_type": "markdown",
   "metadata": {
    "slideshow": {
     "slide_type": "slide"
    }
   },
   "source": [
    "$\\color{#003660}{\\text{In Python}}$:"
   ]
  },
  {
   "cell_type": "code",
   "execution_count": 37,
   "metadata": {},
   "outputs": [
    {
     "data": {
      "text/plain": [
       "array([-11.9, -23.8, -21.6])"
      ]
     },
     "execution_count": 37,
     "metadata": {},
     "output_type": "execute_result"
    }
   ],
   "source": [
    "\"\"\"Write a linear combination of 2 vectors.\"\"\"\n",
    "a1 = np.array([1, 2, 3])\n",
    "a2 = np.array([3, 6, 6])\n",
    "linear_comb = 2.2 * a1 - 4.7 * a2\n",
    "linear_comb"
   ]
  },
  {
   "attachments": {
    "Screen%20Shot%202021-09-02%20at%2011.48.31%20AM.png": {
     "image/png": "[encoded data removed]"
    }
   },
   "cell_type": "markdown",
   "metadata": {
    "slideshow": {
     "slide_type": "slide"
    }
   },
   "source": [
    "### Interpretation: Displacements and Linear Combination\n",
    "\n",
    "Linear combination $b = 0.75a_1 + 1.5a_2$\n",
    "\n",
    "\n",
    "![Screen%20Shot%202021-09-02%20at%2011.48.31%20AM.png](attachment:Screen%20Shot%202021-09-02%20at%2011.48.31%20AM.png)"
   ]
  },
  {
   "cell_type": "markdown",
   "metadata": {},
   "source": [
    "<a id='sec-ip'></a>"
   ]
  },
  {
   "cell_type": "markdown",
   "metadata": {
    "slideshow": {
     "slide_type": "slide"
    }
   },
   "source": [
    "##### Outline: 01 Vectors\n",
    "\n",
    "- [First definitions](#sec-def)\n",
    "\n",
    "- [First implementations](#sec-def)\n",
    "\n",
    "- [First visualizations](#sec-def)\n",
    "\n",
    "- [Building new vectors](#sec-def)\n",
    "\n",
    "- [More examples](#sec-ex)\n",
    "\n",
    "- [Addition, subtraction and scalar multiplication](#sec-op)\n",
    "\n",
    "- **[Inner product](#sec-ip)**"
   ]
  },
  {
   "cell_type": "markdown",
   "metadata": {
    "slideshow": {
     "slide_type": "slide"
    }
   },
   "source": [
    "### Inner Product\n",
    "\n",
    "$\\color{#EF5645}{\\text{Definition}}$: The inner product (or dot product) of n-vectors a and b is\n",
    "$$a^T b = a_1b_1 + a_2b_2 + · · · + a_nb_n.$$\n",
    "- Other notations: $$〈a, b〉, 〈a|b〉, (a, b), a · b.$$\n",
    "\n",
    "$\\color{#047C91}{\\text{Exercise}}$: Compute the inner product of $a = (1, 0, 2)$ and $b = (-1, 1, 2)$."
   ]
  },
  {
   "cell_type": "markdown",
   "metadata": {
    "slideshow": {
     "slide_type": "slide"
    }
   },
   "source": [
    "$\\color{#003660}{\\text{In Python}}$, we use `inner` (from `numpy`)."
   ]
  },
  {
   "cell_type": "code",
   "execution_count": 38,
   "metadata": {},
   "outputs": [
    {
     "data": {
      "text/plain": [
       "3"
      ]
     },
     "execution_count": 38,
     "metadata": {},
     "output_type": "execute_result"
    }
   ],
   "source": [
    "\"\"\"Compute the inner product of two vectors.\"\"\"\n",
    "a = np.array([1,0,2])\n",
    "b = np.array([-1,1,2])\n",
    "np.inner(a, b)"
   ]
  },
  {
   "cell_type": "markdown",
   "metadata": {
    "slideshow": {
     "slide_type": "slide"
    }
   },
   "source": [
    "### Properties of inner product\n",
    "\n",
    "$\\color{#6D7D33}{\\text{Properties}}$: For $n$-vectors $a, b, c$ and scalars $\\gamma$:\n",
    "- $a^T b = b^T a$\n",
    "- $(γa)^T b = γ(a^T b)$\n",
    "- $(a + b)^T c = a^T c + b^T c$"
   ]
  },
  {
   "cell_type": "markdown",
   "metadata": {
    "slideshow": {
     "slide_type": "slide"
    }
   },
   "source": [
    "### Example of inner-products in ECE\n",
    "\n",
    "\n",
    "- Education: $p$ grades, $q$ weights; $p^T q$ is the total grade\n",
    "\n",
    "- Deep Learning: \n",
    "  - each inner node is the result of an inner product\n",
    "<center><img src=\"figs/01_nn.png\" alt=\"default\" width=310px/></center>\n",
    "\n",
    "<center>Inner product in neural networks.</center>"
   ]
  },
  {
   "cell_type": "markdown",
   "metadata": {
    "slideshow": {
     "slide_type": "slide"
    }
   },
   "source": [
    "##### Outline: 01 Vectors\n",
    "\n",
    "- [First definitions](#sec-def)\n",
    "\n",
    "- [First implementations](#sec-def)\n",
    "\n",
    "- [First visualizations](#sec-def)\n",
    "\n",
    "- [Building new vectors](#sec-def)\n",
    "\n",
    "- [More examples](#sec-ex)\n",
    "\n",
    "- [Addition, subtraction and scalar multiplication](#sec-op)\n",
    "\n",
    "- [Inner product](#sec-ip)"
   ]
  },
  {
   "cell_type": "markdown",
   "metadata": {
    "slideshow": {
     "slide_type": "slide"
    }
   },
   "source": [
    "# Resources\n",
    "\n",
    "- Ch. 1 of Book ILA"
   ]
  },
  {
   "cell_type": "code",
   "execution_count": 39,
   "metadata": {
    "scrolled": false
   },
   "outputs": [
    {
     "data": {
      "image/jpeg": "[encoded data removed]",
      "text/html": [
       "\n",
       "        <iframe\n",
       "            width=\"600\"\n",
       "            height=\"300\"\n",
       "            src=\"https://www.youtube.com/embed/fNk_zzaMoSs\"\n",
       "            frameborder=\"0\"\n",
       "            allowfullscreen\n",
       "            \n",
       "        ></iframe>\n",
       "        "
      ],
      "text/plain": [
       "<IPython.lib.display.YouTubeVideo at 0x12e56c1c0>"
      ]
     },
     "execution_count": 39,
     "metadata": {},
     "output_type": "execute_result"
    }
   ],
   "source": [
    "from IPython.display import Audio,Image, YouTubeVideo\n",
    "id='fNk_zzaMoSs'\n",
    "YouTubeVideo(id=id,width=600,height=300)"
   ]
  }
 ],
 "metadata": {
  "celltoolbar": "Slideshow",
  "kernelspec": {
   "display_name": "Python 3 (ipykernel)",
   "language": "python",
   "name": "python3"
  },
  "language_info": {
   "codemirror_mode": {
    "name": "ipython",
    "version": 3
   },
   "file_extension": ".py",
   "mimetype": "text/x-python",
   "name": "python",
   "nbconvert_exporter": "python",
   "pygments_lexer": "ipython3",
   "version": "3.9.9"
  }
 },
 "nbformat": 4,
 "nbformat_minor": 2
}
