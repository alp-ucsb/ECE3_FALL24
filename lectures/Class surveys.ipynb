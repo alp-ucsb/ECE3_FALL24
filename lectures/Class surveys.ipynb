{
"cells": [
{
   "cell_type": "markdown",
   "metadata": {
    "slideshow": {
     "slide_type": "slide"
    }
   },
   "source": [
    "$\\color{#EF5645}{\\text{Class Survey}}$\n",
    "\n",
    "Survey for Wednesday, October 2, 2024:\n",
    "https://forms.gle/QXCUp4JHj5CUfmnT9"
  ]
}
]
}
