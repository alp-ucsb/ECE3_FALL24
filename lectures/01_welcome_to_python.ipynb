{
 "cells": [
  {
   "cell_type": "markdown",
   "metadata": {
    "slideshow": {
     "slide_type": "slide"
    }
   },
   "source": [
    "# Unit 01: Welcome to Python\n",
    "\n",
    "<center><img src=\"figs/01_python_logos.png\" width=1200px alt=\"default\"/></center>"
   ]
  },
  {
   "cell_type": "markdown",
   "metadata": {
    "cell_style": "center",
    "slideshow": {
     "slide_type": "slide"
    }
   },
   "source": [
    "# Outline of ECE 3\n",
    "\n",
    "- **Unit 01: Welcome to Python**\n",
    "- Unit 02: Computing with Data in Python\n",
    "- Unit 03: Summarizing Data in Python\n",
    "- Unit 04: Predicting from Data with Machine Learning in Python\n"
   ]
  },
  {
   "cell_type": "markdown",
   "metadata": {
    "cell_style": "center"
   },
   "source": [
    "<center><img src=\"figs/01_python_logos.png\" width=600px alt=\"default\"/></center>"
   ]
  },
  {
   "cell_type": "markdown",
   "metadata": {
    "slideshow": {
     "slide_type": "slide"
    }
   },
   "source": [
    "# Outline of Unit 01\n",
    "\n",
    "- **01: Welcome to Python**\n",
    "  - Variables\n",
    "  - Data types\n",
    "  - Operators\n",
    "  - Conditional Statements\n",
    "  - For loops\n",
    "  - Functions"
   ]
  },
  {
   "cell_type": "markdown",
   "metadata": {
    "slideshow": {
     "slide_type": "slide"
    }
   },
   "source": [
    "# Outline of Unit 01\n",
    "\n",
    "- **01: Welcome to Python**\n",
    "  - **Variables**\n",
    "  - Data types\n",
    "  - Operators\n",
    "  - Conditional Statements\n",
    "  - For loops\n",
    "  - Functions"
   ]
  },
  {
   "cell_type": "markdown",
   "metadata": {
    "slideshow": {
     "slide_type": "slide"
    }
   },
   "source": [
    "### From Elementary Operations\n",
    "\n",
    "Python allows us to perform calculus using operations \\, *, +, -."
   ]
  },
  {
   "cell_type": "code",
   "execution_count": 9,
   "metadata": {},
   "outputs": [
    {
     "data": {
      "text/plain": [
       "1234567510261"
      ]
     },
     "execution_count": 9,
     "metadata": {},
     "output_type": "execute_result"
    }
   ],
   "source": [
    "1234567521682 - 11421"
   ]
  },
  {
   "cell_type": "markdown",
   "metadata": {},
   "source": [
    "Python also allows us to perform more complicated operations.\n",
    "\n",
    "$\\rightarrow$ For this, we use variables to store intermediate results."
   ]
  },
  {
   "cell_type": "markdown",
   "metadata": {
    "slideshow": {
     "slide_type": "slide"
    }
   },
   "source": [
    "### To Variables\n",
    "\n",
    "$\\color{#EF5645}{\\text{Definition}}$: In Python, a _variable_ is an entity that stores a value, and may change during the program.\n",
    "\n",
    "We check the value stored in a variable with `print`."
   ]
  },
  {
   "cell_type": "code",
   "execution_count": 13,
   "metadata": {},
   "outputs": [
    {
     "name": "stdout",
     "output_type": "stream",
     "text": [
      "42\n"
     ]
    }
   ],
   "source": [
    "a = 42\n",
    "print(a)"
   ]
  },
  {
   "cell_type": "markdown",
   "metadata": {},
   "source": [
    "$\\color{#EF5645}{\\text{Definition}}$: The _assignment operator_  `=` is used to assign values to variables."
   ]
  },
  {
   "cell_type": "markdown",
   "metadata": {
    "slideshow": {
     "slide_type": "slide"
    }
   },
   "source": [
    "$\\color{#047C91}{\\text{Exercise}}$:\n",
    "- Store the value 1.2 in a variable named `my_var`.\n",
    "- Add 1 to the variable `my_var`.\n",
    "- Print `my_var`."
   ]
  },
  {
   "cell_type": "code",
   "execution_count": 15,
   "metadata": {},
   "outputs": [
    {
     "name": "stdout",
     "output_type": "stream",
     "text": [
      "2.2\n"
     ]
    }
   ],
   "source": [
    "my_var = 1.2\n",
    "my_var = my_var + 1\n",
    "print(my_var)"
   ]
  },
  {
   "cell_type": "markdown",
   "metadata": {
    "slideshow": {
     "slide_type": "slide"
    }
   },
   "source": [
    "# Outline of Unit 01\n",
    "\n",
    "- **01: Welcome to Python**\n",
    "  - Variables\n",
    "  - **Data types**\n",
    "  - Operators\n",
    "  - Conditional Statements\n",
    "  - For loops\n",
    "  - Functions"
   ]
  },
  {
   "cell_type": "markdown",
   "metadata": {
    "slideshow": {
     "slide_type": "slide"
    }
   },
   "source": [
    "### Data Types\n",
    "\n",
    "$\\color{#EF5645}{\\text{Definition}}$: The _data type_ is the kind of value stored in a variable. \n",
    "\n",
    "<center><img src=\"figs/01_data_types.png\" width=650px alt=\"default\"/></center>\n",
    "\n",
    "We use `type` to know the type of a variable."
   ]
  },
  {
   "cell_type": "code",
   "execution_count": 18,
   "metadata": {},
   "outputs": [
    {
     "name": "stdout",
     "output_type": "stream",
     "text": [
      "42\n",
      "<class 'int'>\n"
     ]
    }
   ],
   "source": [
    "print(a)\n",
    "print(type(a))"
   ]
  },
  {
   "cell_type": "markdown",
   "metadata": {
    "slideshow": {
     "slide_type": "slide"
    }
   },
   "source": [
    "### Data Type: Int\n",
    "\n",
    "$\\color{#EF5645}{\\text{Definition}}$: An _integer_ is a whole number (not a decimal number) that can be positive, negative or zero."
   ]
  },
  {
   "cell_type": "code",
   "execution_count": 32,
   "metadata": {},
   "outputs": [
    {
     "name": "stdout",
     "output_type": "stream",
     "text": [
      "1 -2 12\n"
     ]
    },
    {
     "data": {
      "text/plain": [
       "int"
      ]
     },
     "execution_count": 32,
     "metadata": {},
     "output_type": "execute_result"
    }
   ],
   "source": [
    "int_1 = 1\n",
    "int_2 = -2\n",
    "var_3 = 10 + 2\n",
    "\n",
    "print(int_1, int_2, var_3)\n",
    "type(var_3)"
   ]
  },
  {
   "cell_type": "markdown",
   "metadata": {
    "slideshow": {
     "slide_type": "slide"
    }
   },
   "source": [
    "### Data Type: Float\n",
    "\n",
    "$\\color{#EF5645}{\\text{Definition}}$: A _float_ is a number that contains a decimal point. \n",
    "\n",
    "Compared to integers, floats require more space in memory as you have two integers separated by a decimal point.\n",
    "\n",
    "Floats are useful for numbers that require more precision, such as calculations in engineering or microchip manufacturing."
   ]
  },
  {
   "cell_type": "code",
   "execution_count": 42,
   "metadata": {
    "slideshow": {
     "slide_type": "-"
    }
   },
   "outputs": [
    {
     "name": "stdout",
     "output_type": "stream",
     "text": [
      "1.7 3.0\n"
     ]
    },
    {
     "data": {
      "text/plain": [
       "float"
      ]
     },
     "execution_count": 42,
     "metadata": {},
     "output_type": "execute_result"
    }
   ],
   "source": [
    "float_1 = 1.7\n",
    "float_2 = 3 / 1\n",
    "print(float_1, float_2)\n",
    "type(float_1)"
   ]
  },
  {
   "cell_type": "markdown",
   "metadata": {
    "slideshow": {
     "slide_type": "slide"
    }
   },
   "source": [
    "### Data Type: Boolean\n",
    "\n",
    "$\\color{#EF5645}{\\text{Definition}}$: A _boolean_ represents one of the two values i.e. True or False.\n",
    "\n",
    "Generally, it is used to represent the truth values of the expressions. For example, 1==1 is True whereas 2<1 is False."
   ]
  },
  {
   "cell_type": "code",
   "execution_count": 54,
   "metadata": {},
   "outputs": [
    {
     "name": "stdout",
     "output_type": "stream",
     "text": [
      "False\n"
     ]
    }
   ],
   "source": [
    "expression = 1 == 3\n",
    "print(expression)"
   ]
  },
  {
   "cell_type": "markdown",
   "metadata": {
    "slideshow": {
     "slide_type": "slide"
    }
   },
   "source": [
    "### Data Type: String\n",
    "\n",
    "$\\color{#EF5645}{\\text{Definition}}$: \n",
    "A _string_ is a data type that is used to represent text rather than numbers and is composed of a set of characters. It can also contain spaces and numbers.\n",
    "\n",
    "Strings are assigned to variables using double quotes `\" \"` or single quotes `' '`."
   ]
  },
  {
   "cell_type": "code",
   "execution_count": 77,
   "metadata": {},
   "outputs": [
    {
     "name": "stdout",
     "output_type": "stream",
     "text": [
      "3459\n",
      "<class 'int'>\n"
     ]
    }
   ],
   "source": [
    "string_1 = 'This is my number 1 string'\n",
    "string_2 = \"this is another string\"\n",
    "string_3 = str(3)\n",
    "var_4 = int(\"3455\") + 4\n",
    "\n",
    "print(var_4)\n",
    "print(type(var_4))"
   ]
  },
  {
   "cell_type": "markdown",
   "metadata": {
    "slideshow": {
     "slide_type": "slide"
    }
   },
   "source": [
    "#### Extracting Characters from a String\n",
    "\n",
    "It is possible to extract parts of a string by:\n",
    "- referencing the position (or index) of a single character, or \n",
    "- by referencing a range with a start and end position. \n",
    "\n",
    "Note: 😱 indexes run from 0 to n-1 for a string with n characters."
   ]
  },
  {
   "cell_type": "code",
   "execution_count": 94,
   "metadata": {},
   "outputs": [
    {
     "name": "stdout",
     "output_type": "stream",
     "text": [
      "This is my number 1 string\n",
      "is\n",
      "This \n",
      "s is my number 1 string\n",
      "s is my number 1 strin\n",
      "h\n"
     ]
    }
   ],
   "source": [
    "print(string_1)\n",
    "print(string_1[2:4])\n",
    "print(string_1[:5])\n",
    "print(string_1[3:])\n",
    "print(string_1[3:-1])\n",
    "print(string_1[-25])"
   ]
  },
  {
   "cell_type": "markdown",
   "metadata": {
    "slideshow": {
     "slide_type": "slide"
    }
   },
   "source": [
    "#### Adding characters to a String"
   ]
  },
  {
   "cell_type": "code",
   "execution_count": 106,
   "metadata": {},
   "outputs": [
    {
     "name": "stdout",
     "output_type": "stream",
     "text": [
      "Hello World\n",
      "Hello World 4\n"
     ]
    },
    {
     "ename": "TypeError",
     "evalue": "unsupported operand type(s) for -: 'str' and 'str'",
     "output_type": "error",
     "traceback": [
      "\u001b[0;31m---------------------------------------------------------------------------\u001b[0m",
      "\u001b[0;31mTypeError\u001b[0m                                 Traceback (most recent call last)",
      "\u001b[0;32m/var/folders/dz/k1hb2xr94k558sjs416njdp40000gn/T/ipykernel_5219/362091241.py\u001b[0m in \u001b[0;36m<module>\u001b[0;34m\u001b[0m\n\u001b[1;32m      3\u001b[0m \u001b[0mprint\u001b[0m\u001b[0;34m(\u001b[0m\u001b[0msentence2\u001b[0m\u001b[0;34m)\u001b[0m\u001b[0;34m\u001b[0m\u001b[0;34m\u001b[0m\u001b[0m\n\u001b[1;32m      4\u001b[0m \u001b[0mprint\u001b[0m\u001b[0;34m(\u001b[0m\u001b[0msentence2\u001b[0m\u001b[0;34m,\u001b[0m \u001b[0;36m4\u001b[0m\u001b[0;34m)\u001b[0m\u001b[0;34m\u001b[0m\u001b[0;34m\u001b[0m\u001b[0m\n\u001b[0;32m----> 5\u001b[0;31m \u001b[0msentence3\u001b[0m \u001b[0;34m=\u001b[0m \u001b[0msentence\u001b[0m \u001b[0;34m-\u001b[0m \u001b[0;34m' World'\u001b[0m\u001b[0;34m\u001b[0m\u001b[0;34m\u001b[0m\u001b[0m\n\u001b[0m",
      "\u001b[0;31mTypeError\u001b[0m: unsupported operand type(s) for -: 'str' and 'str'"
     ]
    }
   ],
   "source": [
    "sentence = 'Hello'\n",
    "sentence2 = sentence + ' World'\n",
    "print(sentence2)\n",
    "print(sentence2, 4)\n",
    "sentence3 = sentence - ' World'"
   ]
  },
  {
   "cell_type": "markdown",
   "metadata": {
    "slideshow": {
     "slide_type": "slide"
    }
   },
   "source": [
    "### Data Type: List\n",
    "\n",
    "$\\color{#EF5645}{\\text{Definition}}$: A _list_ is a data type that contains an ordered collection of elements. These elements are generally of the same type and can contain either simple data types (e.g., integers) or more complex ones (e.g., other lists!).\n",
    "\n",
    "Lists are commonly used in programming to store and organize data so it can be easily sorted, indexed or searched."
   ]
  },
  {
   "cell_type": "markdown",
   "metadata": {
    "slideshow": {
     "slide_type": "slide"
    }
   },
   "source": [
    "#### Creating a List\n",
    "\n",
    "There are 1 main way of creating a list:\n",
    "- Use square brackets: `list_1 = [1, 2]` with commas to separate elements."
   ]
  },
  {
   "cell_type": "code",
   "execution_count": 108,
   "metadata": {
    "slideshow": {
     "slide_type": "-"
    }
   },
   "outputs": [
    {
     "name": "stdout",
     "output_type": "stream",
     "text": [
      "['string item', 2, 100]\n"
     ]
    },
    {
     "data": {
      "text/plain": [
       "list"
      ]
     },
     "execution_count": 108,
     "metadata": {},
     "output_type": "execute_result"
    }
   ],
   "source": [
    "list_1 = ['string item', 2, 100]\n",
    "print(list_1)\n",
    "type(list_1)"
   ]
  },
  {
   "cell_type": "markdown",
   "metadata": {
    "slideshow": {
     "slide_type": "slide"
    }
   },
   "source": [
    "#### Adding an item in a List\n",
    "\n",
    "You can add an element at the end of the list with `.append()`."
   ]
  },
  {
   "cell_type": "code",
   "execution_count": 109,
   "metadata": {},
   "outputs": [
    {
     "name": "stdout",
     "output_type": "stream",
     "text": [
      "['string item', 2, 100]\n",
      "['string item', 2, 100, 'new element']\n"
     ]
    }
   ],
   "source": [
    "print(list_1)\n",
    "list_1.append('new element')\n",
    "print(list_1)"
   ]
  },
  {
   "cell_type": "markdown",
   "metadata": {},
   "source": [
    "You can insert an element at a given index with `.insert(index, element)`"
   ]
  },
  {
   "cell_type": "code",
   "execution_count": 121,
   "metadata": {},
   "outputs": [
    {
     "name": "stdout",
     "output_type": "stream",
     "text": [
      "[]\n",
      "[[], [], []]\n",
      "[1, 2, 3, 4, 'new element']\n"
     ]
    }
   ],
   "source": [
    "empty_list = []\n",
    "print(empty_list)\n",
    "list_2 = [1, 2, 3, 4]\n",
    "list_3 = [[], [], []]\n",
    "print(list_3)\n",
    "element = \"new element\"\n",
    "list_2.insert(4, element)\n",
    "print(list_2)"
   ]
  },
  {
   "cell_type": "markdown",
   "metadata": {
    "slideshow": {
     "slide_type": "slide"
    }
   },
   "source": [
    "#### Changing an item in a List\n",
    "When changing an item in a list, you need to know the position of the item denoted by the index."
   ]
  },
  {
   "cell_type": "code",
   "execution_count": 123,
   "metadata": {},
   "outputs": [
    {
     "name": "stdout",
     "output_type": "stream",
     "text": [
      "['string item', 2, 100, 'new element']\n",
      "['string item', 'Changed Item', 100, 'new element']\n"
     ]
    }
   ],
   "source": [
    "print(list_1)\n",
    "list_1[1] = 'Changed Item'\n",
    "print(list_1)"
   ]
  },
  {
   "cell_type": "markdown",
   "metadata": {
    "slideshow": {
     "slide_type": "slide"
    }
   },
   "source": [
    "#### Removing an item from a List ###\n",
    "To remove an item from a list, use the `.pop()` method."
   ]
  },
  {
   "cell_type": "code",
   "execution_count": 128,
   "metadata": {},
   "outputs": [
    {
     "ename": "SyntaxError",
     "evalue": "invalid syntax (806564416.py, line 3)",
     "output_type": "error",
     "traceback": [
      "\u001b[0;36m  File \u001b[0;32m\"/var/folders/dz/k1hb2xr94k558sjs416njdp40000gn/T/ipykernel_5219/806564416.py\"\u001b[0;36m, line \u001b[0;32m3\u001b[0m\n\u001b[0;31m    list_1.del(0)\u001b[0m\n\u001b[0m           ^\u001b[0m\n\u001b[0;31mSyntaxError\u001b[0m\u001b[0;31m:\u001b[0m invalid syntax\n"
     ]
    }
   ],
   "source": [
    "print(list_1)\n",
    "list_1.pop(0)\n",
    "print(list_1)"
   ]
  },
  {
   "cell_type": "markdown",
   "metadata": {
    "slideshow": {
     "slide_type": "slide"
    }
   },
   "source": [
    "#### Merging two Lists\n",
    "\n",
    "You can merge two lists using `.extend(my_list)`.\n",
    "\n",
    "Note: 😱 this is different from using `.append(my_list)` or `.insert(index, my_list)`."
   ]
  },
  {
   "cell_type": "code",
   "execution_count": 140,
   "metadata": {},
   "outputs": [
    {
     "name": "stdout",
     "output_type": "stream",
     "text": [
      "['this', 'is', 'a', 'list']\n",
      "['this', 'is', 'a', 'list', 1, 2, 3]\n"
     ]
    }
   ],
   "source": [
    "list_1 = [1, 2, 3]\n",
    "list_2 = ['this', 'is', 'a', 'list']\n",
    "print(list_2)\n",
    "list_2.extend(list_1)\n",
    "#list_2.append(list_1)\n",
    "print(list_2)\n",
    "# list_3 = list_1 + list_2\n",
    "# print(list_2)\n",
    "# print(list_3)"
   ]
  },
  {
   "cell_type": "markdown",
   "metadata": {
    "slideshow": {
     "slide_type": "slide"
    }
   },
   "source": [
    "#### Accessing items in a List\n",
    "You can access list items by referring to the index number of the item. \n",
    "\n",
    "Note: 😱 Lists start with an index of 0. \n",
    "\n",
    "You can also use negative indexing to access items from back to front:\n",
    "- -1 is the last item in the list,\n",
    "- -2 is second last."
   ]
  },
  {
   "cell_type": "code",
   "execution_count": 11,
   "metadata": {},
   "outputs": [
    {
     "name": "stdout",
     "output_type": "stream",
     "text": [
      "Changed Item\n",
      "['this', 'is', 'a', 'list']\n"
     ]
    }
   ],
   "source": [
    "print(list_1[0])\n",
    "print(list_1[-1])"
   ]
  },
  {
   "cell_type": "markdown",
   "metadata": {
    "slideshow": {
     "slide_type": "slide"
    }
   },
   "source": [
    "You can also reference index ranges by using the colon between indexes which refer to the start and end of the range e.g. `[start:end]`.\n",
    "\n",
    "If you omit a number on either start (or end), it will include everything from the start (or end) up until the end (or start) e.g. `[:end]` will include the first item until the end index item."
   ]
  },
  {
   "cell_type": "code",
   "execution_count": 6,
   "metadata": {},
   "outputs": [
    {
     "name": "stdout",
     "output_type": "stream",
     "text": [
      "['string item', 'Changed Item', 100]\n",
      "[100, 'new element']\n"
     ]
    }
   ],
   "source": [
    "print(list_1[0:3])\n",
    "print(list_1[2:])"
   ]
  },
  {
   "cell_type": "markdown",
   "metadata": {
    "slideshow": {
     "slide_type": "slide"
    }
   },
   "source": [
    "### Data Type: Tuple\n",
    "\n",
    "$\\color{#EF5645}{\\text{Definition}}$: \n",
    "A _tuple_ is a data type that contains an ordered collection of elements that are immutable (unchangeable). These elements are generally of the same type and can contain elements such as simple data types (integers) or more complex ones such as other lists or tuples.\n",
    "\n",
    "Tuples are commonly used in programming to store and organize data so it can be easily sorted, indexed or searched. Since tuples are immutable, we cannot add, change or remove elements."
   ]
  },
  {
   "cell_type": "markdown",
   "metadata": {
    "slideshow": {
     "slide_type": "slide"
    }
   },
   "source": [
    "#### Creating a Tuple\n",
    "\n",
    "Tuples are created with round brackets and a comma to separate elements `(a, b, c)`."
   ]
  },
  {
   "cell_type": "code",
   "execution_count": 7,
   "metadata": {
    "slideshow": {
     "slide_type": "-"
    }
   },
   "outputs": [
    {
     "name": "stdout",
     "output_type": "stream",
     "text": [
      "(1, 2, 3, 4)\n"
     ]
    },
    {
     "data": {
      "text/plain": [
       "tuple"
      ]
     },
     "execution_count": 7,
     "metadata": {},
     "output_type": "execute_result"
    }
   ],
   "source": [
    "tuple_1 = (1, 2, 3, 4)\n",
    "print(tuple_1)\n",
    "type(tuple_1)"
   ]
  },
  {
   "cell_type": "markdown",
   "metadata": {
    "slideshow": {
     "slide_type": "slide"
    }
   },
   "source": [
    "#### Adding an Item To a Tuple / Merging two Tuples"
   ]
  },
  {
   "cell_type": "code",
   "execution_count": 11,
   "metadata": {},
   "outputs": [
    {
     "data": {
      "text/plain": [
       "(1, 4, 5, 6)"
      ]
     },
     "execution_count": 11,
     "metadata": {},
     "output_type": "execute_result"
    }
   ],
   "source": [
    "tuple_2 = (1, 4, 5)\n",
    "tuple_2 + (6,)"
   ]
  },
  {
   "cell_type": "markdown",
   "metadata": {
    "slideshow": {
     "slide_type": "slide"
    }
   },
   "source": [
    "#### Changing an item in a tuple"
   ]
  },
  {
   "cell_type": "code",
   "execution_count": null,
   "metadata": {},
   "outputs": [],
   "source": [
    "tuple_1[2] = 1"
   ]
  },
  {
   "cell_type": "markdown",
   "metadata": {
    "slideshow": {
     "slide_type": "slide"
    }
   },
   "source": [
    "#### Accessing items in a Tuple\n",
    "\n",
    "You can access tuple items by referring to the index number of the item. \n",
    "\n",
    "Note: 😱 Tuples start with an index of 0. \n",
    "\n",
    "You can also use negative indexing to access items from back to front:\n",
    "- -1 is the last item in the list,\n",
    "- -2 is second last."
   ]
  },
  {
   "cell_type": "code",
   "execution_count": 14,
   "metadata": {},
   "outputs": [
    {
     "data": {
      "text/plain": [
       "4"
      ]
     },
     "execution_count": 14,
     "metadata": {},
     "output_type": "execute_result"
    }
   ],
   "source": [
    "tuple_1[-1]"
   ]
  },
  {
   "cell_type": "markdown",
   "metadata": {
    "slideshow": {
     "slide_type": "slide"
    }
   },
   "source": [
    "### Data Type: Dictionary\n",
    "\n",
    "$\\color{#EF5645}{\\text{Definition}}$: \n",
    "A _dictionary_ is a data type that contain a collection of \"key\" and \"value\" pairs where each key needs to be a unique string and the value can range be a simple data type (an integer) or a more complex one such as a list, a tuple or another dictionary.\n",
    "\n",
    "Dictionaries are commonly used in programming to store and organize data so it can be easily sorted, indexed or searched. Since dictionaries are mutable, we can add, change, or remove elements."
   ]
  },
  {
   "cell_type": "markdown",
   "metadata": {
    "slideshow": {
     "slide_type": "slide"
    }
   },
   "source": [
    "#### Creating a Dictionary\n",
    "\n",
    "There are two ways to create an dictionary:\n",
    "- `my_dict = dict(key1=value2, key2=value2)` \n",
    "- or `my_dict = {key1: value1, key2: value2}`."
   ]
  },
  {
   "cell_type": "code",
   "execution_count": 36,
   "metadata": {
    "slideshow": {
     "slide_type": "-"
    }
   },
   "outputs": [
    {
     "name": "stdout",
     "output_type": "stream",
     "text": [
      "{'key_1': 'value_1', 'key_2': 'value_2'}\n",
      "{'key_100': 'item_100', 'key_101': 'item_101'}\n"
     ]
    },
    {
     "data": {
      "text/plain": [
       "dict"
      ]
     },
     "execution_count": 36,
     "metadata": {},
     "output_type": "execute_result"
    }
   ],
   "source": [
    "dict_1 = {'key_1':'value_1',\n",
    "          'key_2':'value_2'}\n",
    "\n",
    "dict_2 = dict(key_100='item_100',key_101='item_101')\n",
    "print(dict_1)\n",
    "print(dict_2)\n",
    "type(dict_1)"
   ]
  },
  {
   "cell_type": "markdown",
   "metadata": {
    "slideshow": {
     "slide_type": "slide"
    }
   },
   "source": [
    "#### Adding items to a Dictionary\n",
    "\n",
    "You can add a new key, value pair where the value is a list from the above example."
   ]
  },
  {
   "cell_type": "code",
   "execution_count": 37,
   "metadata": {},
   "outputs": [
    {
     "name": "stdout",
     "output_type": "stream",
     "text": [
      "{'key_1': 'value_1', 'key_2': 'value_2', 'key_3': 'value_3'}\n"
     ]
    }
   ],
   "source": [
    "dict_1['key_3'] = 'value_3'\n",
    "print(dict_1)"
   ]
  },
  {
   "cell_type": "markdown",
   "metadata": {
    "slideshow": {
     "slide_type": "slide"
    }
   },
   "source": [
    "#### Removing items from a Dictionary\n",
    "\n",
    "To remove items from a dictionary you can use the `.pop()` method."
   ]
  },
  {
   "cell_type": "code",
   "execution_count": 38,
   "metadata": {},
   "outputs": [
    {
     "name": "stdout",
     "output_type": "stream",
     "text": [
      "{'key_2': 'value_2', 'key_3': 'value_3'}\n"
     ]
    }
   ],
   "source": [
    "dict_1.pop('key_1')\n",
    "print(dict_1)"
   ]
  },
  {
   "cell_type": "markdown",
   "metadata": {
    "slideshow": {
     "slide_type": "slide"
    }
   },
   "source": [
    "#### Accessing items in a Dictionary\n",
    "\n",
    "To access a value in a dictionary you can use the name of the key."
   ]
  },
  {
   "cell_type": "code",
   "execution_count": 39,
   "metadata": {},
   "outputs": [
    {
     "name": "stdout",
     "output_type": "stream",
     "text": [
      "value_2\n"
     ]
    },
    {
     "ename": "KeyError",
     "evalue": "'key_10'",
     "output_type": "error",
     "traceback": [
      "\u001b[0;31m---------------------------------------------------------------------------\u001b[0m",
      "\u001b[0;31mKeyError\u001b[0m                                  Traceback (most recent call last)",
      "\u001b[0;32m/var/folders/dz/k1hb2xr94k558sjs416njdp40000gn/T/ipykernel_2225/358086113.py\u001b[0m in \u001b[0;36m<module>\u001b[0;34m\u001b[0m\n\u001b[1;32m      1\u001b[0m \u001b[0mprint\u001b[0m\u001b[0;34m(\u001b[0m\u001b[0mdict_1\u001b[0m\u001b[0;34m[\u001b[0m\u001b[0;34m'key_2'\u001b[0m\u001b[0;34m]\u001b[0m\u001b[0;34m)\u001b[0m\u001b[0;34m\u001b[0m\u001b[0;34m\u001b[0m\u001b[0m\n\u001b[0;32m----> 2\u001b[0;31m \u001b[0mprint\u001b[0m\u001b[0;34m(\u001b[0m\u001b[0mdict_1\u001b[0m\u001b[0;34m[\u001b[0m\u001b[0;34m'key_10'\u001b[0m\u001b[0;34m]\u001b[0m\u001b[0;34m)\u001b[0m\u001b[0;34m\u001b[0m\u001b[0;34m\u001b[0m\u001b[0m\n\u001b[0m",
      "\u001b[0;31mKeyError\u001b[0m: 'key_10'"
     ]
    }
   ],
   "source": [
    "print(dict_1['key_2'])\n",
    "print(dict_1['key_10'])"
   ]
  },
  {
   "cell_type": "markdown",
   "metadata": {
    "slideshow": {
     "slide_type": "slide"
    }
   },
   "source": [
    "#### Accessing all keys or items of a Dictionary\n",
    "\n",
    "It is also possible to output all keys, all values, or all items to a list."
   ]
  },
  {
   "cell_type": "code",
   "execution_count": 23,
   "metadata": {},
   "outputs": [
    {
     "name": "stdout",
     "output_type": "stream",
     "text": [
      "['key_2', 'key_3']\n",
      "['value_2', 'value_3']\n"
     ]
    }
   ],
   "source": [
    "# to get all keys or values\n",
    "print(list(dict_1.keys()))\n",
    "\n",
    "# or get all values\n",
    "print(list(dict_1.values()))"
   ]
  },
  {
   "cell_type": "markdown",
   "metadata": {
    "slideshow": {
     "slide_type": "slide"
    }
   },
   "source": [
    "# Outline of Unit 01\n",
    "\n",
    "- **01: Welcome to Python**\n",
    "  - Variables\n",
    "  - Data types\n",
    "  - **Operators**\n",
    "  - Conditional Statements\n",
    "  - For loops\n",
    "  - Functions"
   ]
  },
  {
   "cell_type": "markdown",
   "metadata": {
    "slideshow": {
     "slide_type": "slide"
    }
   },
   "source": [
    "# Operators"
   ]
  },
  {
   "cell_type": "markdown",
   "metadata": {},
   "source": [
    "\n",
    "$\\color{#EF5645}{\\text{Definition}}$: _Operators_ are symbols that perform an operation on one or more operands. An _operand_ is a variable or a value on which we perform the operation.\n",
    "\n",
    "There are three types of operators: Mathematical operators, Comparison operations"
   ]
  },
  {
   "cell_type": "markdown",
   "metadata": {
    "slideshow": {
     "slide_type": "slide"
    }
   },
   "source": [
    "#### Mathematical Operators\n",
    "\n",
    "$\\color{#EF5645}{\\text{Definition}}$: _Mathematical operators_ are basic arithmetic symbols used to perform addition, subtraction, multiplication, and more. \n",
    "\n",
    "|Operator                  |Description                                                                        |Example |\n",
    "|-------------------------|-------------------------------------------------------------------------------|-------------|\n",
    "|Assignment (=)        |Assigns a variable a value. |(x = 5)       |\n",
    "|+       | Addition.                   |(1 + 2) |\n",
    "|-         | Subtraction. | (2 - 1)\n",
    "|* | Multiplication. |(1 * 2) |\n",
    "|/             |Division. |(10 / 5)|\n",
    "|% | Modulus. |(15 % 2)\n",
    "\n",
    "\n"
   ]
  },
  {
   "cell_type": "code",
   "execution_count": 17,
   "metadata": {
    "slideshow": {
     "slide_type": "slide"
    }
   },
   "outputs": [
    {
     "data": {
      "text/plain": [
       "5"
      ]
     },
     "execution_count": 17,
     "metadata": {},
     "output_type": "execute_result"
    }
   ],
   "source": [
    "y = 15 % 10\n",
    "y"
   ]
  },
  {
   "cell_type": "code",
   "execution_count": 18,
   "metadata": {},
   "outputs": [
    {
     "data": {
      "text/plain": [
       "1.2764480400000002"
      ]
     },
     "execution_count": 18,
     "metadata": {},
     "output_type": "execute_result"
    }
   ],
   "source": [
    "j = (1.05 * 1.076) ** 2\n",
    "j"
   ]
  },
  {
   "cell_type": "code",
   "execution_count": 19,
   "metadata": {},
   "outputs": [
    {
     "data": {
      "text/plain": [
       "16.38"
      ]
     },
     "execution_count": 19,
     "metadata": {},
     "output_type": "execute_result"
    }
   ],
   "source": [
    "x = 126 * 0.13\n",
    "x"
   ]
  },
  {
   "cell_type": "markdown",
   "metadata": {
    "slideshow": {
     "slide_type": "slide"
    }
   },
   "source": [
    "#### Comparison Operators\n",
    "\n",
    "$\\color{#EF5645}{\\text{Definition}}$: _Comparison operators_ are used to compare values, they either return True or False (a boolean).\n",
    "\n",
    "|Operator                  |Description                                                                        |Example |\n",
    "|-------------------------|-------------------------------------------------------------------------------|-------------|\n",
    "|Equal to (==)        |If the values of the two operands are equal, then the condition becomes true. |(a == a) is True.       |\n",
    "|Not Equal to (!=)       |If the values of the two operands are not equal, then the condition becomes true.                    |(a != b) is True.|\n",
    "|Greater Than, Greater than or Equal to (>, >=)          |If the value of the left operand is greater than the value of the right operand then the condition becomes true. | (2>1) is True.\n",
    "|Less Than, Less than or Equal to (<, <=) |If the value of the left operand is less than the value of the right operand then the condition becomes true. |(1<2) is True.|\n",
    "|and              |Returns True if all statements are True. |(1<2 and 2>1) is True.|\n",
    "|or | Returns True if one of the statements is True. |(1<2 or 2<4) is True.\n",
    "|not | Reverse the result, returns False if the statement is True.| not(1<5 and 5>3) is not True."
   ]
  },
  {
   "cell_type": "code",
   "execution_count": null,
   "metadata": {
    "slideshow": {
     "slide_type": "slide"
    }
   },
   "outputs": [],
   "source": [
    "y == x"
   ]
  },
  {
   "cell_type": "code",
   "execution_count": null,
   "metadata": {},
   "outputs": [],
   "source": [
    "j < 7"
   ]
  },
  {
   "cell_type": "code",
   "execution_count": null,
   "metadata": {},
   "outputs": [],
   "source": [
    "x > y and j < 5"
   ]
  },
  {
   "cell_type": "code",
   "execution_count": 10,
   "metadata": {
    "scrolled": false,
    "slideshow": {
     "slide_type": "slide"
    }
   },
   "outputs": [
    {
     "data": {
      "text/plain": [
       "False"
      ]
     },
     "execution_count": 10,
     "metadata": {},
     "output_type": "execute_result"
    }
   ],
   "source": [
    "'ABCD' == 'ABCE'"
   ]
  },
  {
   "cell_type": "code",
   "execution_count": 11,
   "metadata": {},
   "outputs": [
    {
     "data": {
      "text/plain": [
       "False"
      ]
     },
     "execution_count": 11,
     "metadata": {},
     "output_type": "execute_result"
    }
   ],
   "source": [
    "'ABC' == 'ABc'"
   ]
  },
  {
   "cell_type": "markdown",
   "metadata": {
    "slideshow": {
     "slide_type": "slide"
    }
   },
   "source": [
    "Note:  > and < will check if one string has more characters than the other.\\"
   ]
  },
  {
   "cell_type": "code",
   "execution_count": 12,
   "metadata": {},
   "outputs": [
    {
     "data": {
      "text/plain": [
       "True"
      ]
     },
     "execution_count": 12,
     "metadata": {},
     "output_type": "execute_result"
    }
   ],
   "source": [
    "'1234567' > '12345'"
   ]
  },
  {
   "cell_type": "code",
   "execution_count": 13,
   "metadata": {},
   "outputs": [
    {
     "data": {
      "text/plain": [
       "False"
      ]
     },
     "execution_count": 13,
     "metadata": {},
     "output_type": "execute_result"
    }
   ],
   "source": [
    "1 > 2"
   ]
  },
  {
   "cell_type": "code",
   "execution_count": 16,
   "metadata": {},
   "outputs": [
    {
     "data": {
      "text/plain": [
       "False"
      ]
     },
     "execution_count": 16,
     "metadata": {},
     "output_type": "execute_result"
    }
   ],
   "source": [
    "'abcdefg' > 'zyxw'"
   ]
  },
  {
   "cell_type": "code",
   "execution_count": 14,
   "metadata": {
    "slideshow": {
     "slide_type": "slide"
    }
   },
   "outputs": [
    {
     "data": {
      "text/plain": [
       "True"
      ]
     },
     "execution_count": 14,
     "metadata": {},
     "output_type": "execute_result"
    }
   ],
   "source": [
    "not(1>2 and 3==4)"
   ]
  },
  {
   "cell_type": "code",
   "execution_count": 18,
   "metadata": {},
   "outputs": [
    {
     "name": "stdout",
     "output_type": "stream",
     "text": [
      "The two expressions returned Boolean values of True and True\n"
     ]
    }
   ],
   "source": [
    "Boolean1 = var2>var1\n",
    "Boolean2 = (var2 % var1) == 1\n",
    "\n",
    "print(\"The two expressions returned Boolean values of {} and {}\".format(Boolean1,Boolean2))"
   ]
  },
  {
   "cell_type": "markdown",
   "metadata": {
    "slideshow": {
     "slide_type": "slide"
    }
   },
   "source": [
    "#### Membership Operators\n",
    "\n",
    "$\\color{#EF5645}{\\text{Definition}}$: _Membership operators_ are used to test whether a value or a variable is found in a sequence (string, tuple, list, set or dictionary). These operators become essential when we discuss loops.\n",
    "\n",
    "|Operator                  |Description                                                                        |Example |\n",
    "|-------------------------|-------------------------------------------------------------------------------|-------------|\n",
    "|in| Returns True if a sequence with the specified value is present in the object. | 3 in [1,2,3] is True.\n",
    "|not in| Returns True if a sequence with the specified value is not present in the object. | 4 not in [1,2,3] is True."
   ]
  },
  {
   "cell_type": "code",
   "execution_count": 48,
   "metadata": {
    "slideshow": {
     "slide_type": "slide"
    }
   },
   "outputs": [
    {
     "name": "stdout",
     "output_type": "stream",
     "text": [
      "True\n"
     ]
    }
   ],
   "source": [
    "boolean5 = 'car' in ['boat','truck','car','house','garage']\n",
    "\n",
    "print(boolean5)"
   ]
  },
  {
   "cell_type": "markdown",
   "metadata": {
    "slideshow": {
     "slide_type": "slide"
    }
   },
   "source": [
    "# Outline of Unit 01\n",
    "\n",
    "- **01: Welcome to Python**\n",
    "  - Variables\n",
    "  - Data types\n",
    "  - Operators\n",
    "  - **Conditional Statements**\n",
    "  - For loops\n",
    "  - Functions"
   ]
  },
  {
   "cell_type": "markdown",
   "metadata": {
    "slideshow": {
     "slide_type": "slide"
    }
   },
   "source": [
    "### Conditional Statements\n",
    "\n",
    "When you write code, you are giving instructions to the computer. When you are completing a task in the real world, however, you don't just step through a sequence of instructions blindly. Depending on what else is going on, you will want to adapt your actions. \n",
    "\n",
    "$\\color{#EF5645}{\\text{Definition}}$: _Conditional statements_ allow you to encode these instructions so that the computer can dynamically adapt to the conditions around it. This is often referred to as <b>control flow</b>.\n",
    "\n"
   ]
  },
  {
   "cell_type": "markdown",
   "metadata": {
    "slideshow": {
     "slide_type": "slide"
    }
   },
   "source": [
    "#### Three Keywords: if, else and elif\n",
    "\n",
    "Conditional statements rely on three main keywords:\n",
    "- if\n",
    "- (optional) else\n",
    "- (optional) elif"
   ]
  },
  {
   "cell_type": "markdown",
   "metadata": {
    "slideshow": {
     "slide_type": "slide"
    }
   },
   "source": [
    "#### If\n",
    "The most basic <b>if</b> statement has a <b>conditional clause</b> and an indented (nested) block of code that only gets executed when that conditional clause is true.\n",
    "\n",
    "<b>if</b> &lt;Conditional Clause&gt;<b>:</b><br>\n",
    "&nbsp;&nbsp;&nbsp;&nbsp;&lt;Line 1 of code that possibly gets executed...Line 1&gt;<br>\n",
    "&nbsp;&nbsp;&nbsp;&nbsp;&lt;Line 2 of code that possibly gets executed...Line 2&gt;    "
   ]
  },
  {
   "cell_type": "code",
   "execution_count": 1,
   "metadata": {
    "slideshow": {
     "slide_type": "-"
    }
   },
   "outputs": [],
   "source": [
    "if 1==2:\n",
    "    print('This line will never get printed out')"
   ]
  },
  {
   "cell_type": "code",
   "execution_count": 2,
   "metadata": {},
   "outputs": [
    {
     "name": "stdout",
     "output_type": "stream",
     "text": [
      "Hello World\n"
     ]
    }
   ],
   "source": [
    "if 1==1:\n",
    "    print('Hello World')"
   ]
  },
  {
   "cell_type": "markdown",
   "metadata": {
    "slideshow": {
     "slide_type": "slide"
    }
   },
   "source": [
    "Note that the colon at the end of the conditional clause is mandatory. The block of code following the colon needs to be indented. Your Python text editor will automatically try to indent this block of code for you when you press Enter on a line ending with a colon.\n",
    "\n",
    "\n",
    "##### We can use logical operators to make more complex comparisons."
   ]
  },
  {
   "cell_type": "code",
   "execution_count": 3,
   "metadata": {},
   "outputs": [
    {
     "name": "stdout",
     "output_type": "stream",
     "text": [
      "It is a nice day outside\n"
     ]
    }
   ],
   "source": [
    "temp = 72\n",
    "\n",
    "if temp > 68 and temp < 82: \n",
    "    print('It is a nice day outside')"
   ]
  },
  {
   "cell_type": "markdown",
   "metadata": {
    "slideshow": {
     "slide_type": "slide"
    }
   },
   "source": [
    "#### Else####\n",
    "Often you'll want to execute a separate block of code when the conditional clause is false. The <b>else</b> statement allows for this."
   ]
  },
  {
   "cell_type": "code",
   "execution_count": 4,
   "metadata": {},
   "outputs": [
    {
     "name": "stdout",
     "output_type": "stream",
     "text": [
      "It is a nice day outside\n"
     ]
    }
   ],
   "source": [
    "temp = 72\n",
    "\n",
    "if temp > 68 and temp < 82:\n",
    "    print('It is a nice day outside')\n",
    "else:\n",
    "    print('It is not nice outside')"
   ]
  },
  {
   "cell_type": "markdown",
   "metadata": {
    "slideshow": {
     "slide_type": "slide"
    }
   },
   "source": [
    "You can have multiple lines of code in any of the blocks. The indentation of the block indicates which lines are part of the control flow. \n",
    "\n",
    "- Note below there are multiple lines of code in the \"if\" block. \n",
    "\n",
    "- And note also that the line printing out \"The special of the day is\" will get executed no matter what. The indentation places the <b>print('The special of the day is')</b> line outside of the if/else conditional."
   ]
  },
  {
   "cell_type": "markdown",
   "metadata": {
    "slideshow": {
     "slide_type": "slide"
    }
   },
   "source": [
    "#### Elif####\n",
    "The <b>elif</b> statement allows you to chain together <b>else</b> statements for multiple conditionals. "
   ]
  },
  {
   "cell_type": "code",
   "execution_count": 5,
   "metadata": {},
   "outputs": [
    {
     "name": "stdout",
     "output_type": "stream",
     "text": [
      "The special of the day is Chili.\n"
     ]
    }
   ],
   "source": [
    "day_of_week = 'Wednesday'\n",
    "\n",
    "if day_of_week=='Monday':\n",
    "    special = 'Meat Loaf'\n",
    "elif day_of_week=='Tuesday':\n",
    "    special = 'Tacos'\n",
    "elif day_of_week=='Wednesday' or day_of_week=='Thursday':\n",
    "    special = 'Chili'\n",
    "else:\n",
    "    special = 'Fish Sticks'\n",
    "    \n",
    "print(\"The special of the day is {}.\".format(special))"
   ]
  },
  {
   "cell_type": "markdown",
   "metadata": {
    "slideshow": {
     "slide_type": "slide"
    }
   },
   "source": [
    "#### Nested Ifs####\n",
    "You can nest if statements inside other if statements.\n"
   ]
  },
  {
   "cell_type": "code",
   "execution_count": 6,
   "metadata": {},
   "outputs": [
    {
     "name": "stdout",
     "output_type": "stream",
     "text": [
      "It's warm, but too humid out there\n"
     ]
    }
   ],
   "source": [
    "temp = 70\n",
    "humidity = 100\n",
    "\n",
    "if temp > 68 and temp <= 82:\n",
    "    if humidity <= 60:\n",
    "        print(\"It's really nice out\")\n",
    "    else:\n",
    "        print(\"It's warm, but too humid out there\")\n",
    "elif temp >82:\n",
    "    print(\"It's very hot out\")\n",
    "else:\n",
    "    print(\"It's cold out there.\")\n",
    "        "
   ]
  },
  {
   "cell_type": "markdown",
   "metadata": {
    "slideshow": {
     "slide_type": "slide"
    }
   },
   "source": [
    "## Example Conditionals##"
   ]
  },
  {
   "cell_type": "markdown",
   "metadata": {
    "slideshow": {
     "slide_type": "slide"
    }
   },
   "source": [
    "<b>1 - Input Validation</b>\n",
    "\n",
    "Check the type of a variable to ensure that it is of type <b>int</b>. If so, print out the variable and that the input is validated. If it's not an int, print out that the input is invalid."
   ]
  },
  {
   "cell_type": "code",
   "execution_count": 7,
   "metadata": {},
   "outputs": [
    {
     "name": "stdout",
     "output_type": "stream",
     "text": [
      "Input is invalid\n"
     ]
    }
   ],
   "source": [
    "var = 'seven'\n",
    "\n",
    "if type(var)==int:\n",
    "    print('Input is valid')\n",
    "else:\n",
    "    print('Input is invalid')"
   ]
  },
  {
   "cell_type": "markdown",
   "metadata": {
    "slideshow": {
     "slide_type": "slide"
    }
   },
   "source": [
    "<b>2 - Days in the month</b>\n",
    "\n",
    "Code to determine the number of days in the current month. We can assume it's not a leap year.\n",
    "\n",
    "\n"
   ]
  },
  {
   "cell_type": "code",
   "execution_count": 8,
   "metadata": {},
   "outputs": [
    {
     "name": "stdout",
     "output_type": "stream",
     "text": [
      "4\n",
      "30 days this month\n"
     ]
    }
   ],
   "source": [
    "#the provided code below determines the current month\n",
    "import datetime\n",
    "today_dt = datetime.date.today()\n",
    "current_month = today_dt.month\n",
    "print(current_month)\n",
    "\n",
    "#code to determine the number of days in the current month\n",
    "if current_month in [9,4,6,11]:\n",
    "    print('30 days this month')\n",
    "elif current_month==2:\n",
    "    print('28 (or maybe 29) days this month')\n",
    "else:\n",
    "    print('31 days this month')"
   ]
  },
  {
   "cell_type": "markdown",
   "metadata": {
    "slideshow": {
     "slide_type": "slide"
    }
   },
   "source": [
    "## Learn Python Loops\n",
    "\n",
    "\n",
    "<b>Web Resources</b>\n",
    "<br> <a href='https://docs.python.org/3/tutorial/controlflow.html#for-statements'>Docs.python.org - Control Flow</a>\n",
    "<br> <a href='https://docs.python.org/3/tutorial/datastructures.html#looping-techniques'>Docs.python.org - Looping Techniques</a>\n",
    "\n",
    "#### <b>What are Python Loops?</b>\n",
    "In the real world, you often need to repeat something over and over. It can be repetitive. When programming, though, if you need to do something 100 times, you certainly don't need to write it out in 100 identical lines of code. In Python, loops allow you to iterate over a sequence, whether that's a list, tuple, string, or dictionary.\n",
    "\n",
    "#### <b>What types of Python Loops are there?</b>\n",
    "There is a <b>for</b> loop and a <b>while</b> loop. We'll also go through list comprehensions, as a \"Pythonic\" powerful shortcut for operating on all the members of a list in a single line of code.\n",
    "\n",
    "#### <b>The for statement</b>\n",
    "\n",
    "A \"for\" loop in Python allows you to go through each item in a sequence, one at a time. This allows you to \"iterate\" through an \"iterable\", such as a Python list, and perform operations on each item one at a time.\n",
    "\n",
    "The simplest example is to step through the items in a list:"
   ]
  },
  {
   "cell_type": "code",
   "execution_count": 1,
   "metadata": {
    "slideshow": {
     "slide_type": "slide"
    }
   },
   "outputs": [
    {
     "name": "stdout",
     "output_type": "stream",
     "text": [
      "10\n",
      "20\n",
      "30\n",
      "40\n",
      "50\n",
      "60\n"
     ]
    }
   ],
   "source": [
    "# In the below example, the for loop will step through each item in my_list, assign the element to a local variable (\"x\"), \n",
    "# and execute the block of code below it to print out x\n",
    "\n",
    "my_list = [10, 20, 30, 40, 50, 60]\n",
    "\n",
    "for x in my_list: #<--- x is a variable, who's scope is limited to the for loop. x can be named anything you'd like\n",
    "    print(x)"
   ]
  },
  {
   "cell_type": "markdown",
   "metadata": {
    "slideshow": {
     "slide_type": "slide"
    }
   },
   "source": [
    "#### <b>The range() function</b>\n",
    "In most cases, we will want to loop through a predetermined list. However, we can also generate a list to loop over \"on the fly\" with the <b>range()</b> function."
   ]
  },
  {
   "cell_type": "code",
   "execution_count": 2,
   "metadata": {},
   "outputs": [
    {
     "name": "stdout",
     "output_type": "stream",
     "text": [
      "0\n",
      "1\n",
      "2\n",
      "3\n",
      "4\n",
      "5\n",
      "6\n",
      "7\n"
     ]
    }
   ],
   "source": [
    "for i in range(8):\n",
    "    print(i)"
   ]
  },
  {
   "cell_type": "markdown",
   "metadata": {
    "slideshow": {
     "slide_type": "slide"
    }
   },
   "source": [
    "You can use the <b>range()</b> function together with the <b>len()</b> function to loop through a list, along with a variable that has the current index in the sequence."
   ]
  },
  {
   "cell_type": "code",
   "execution_count": 3,
   "metadata": {},
   "outputs": [
    {
     "name": "stdout",
     "output_type": "stream",
     "text": [
      "0 10\n",
      "1 20\n",
      "2 30\n",
      "3 40\n",
      "4 50\n",
      "5 60\n"
     ]
    }
   ],
   "source": [
    "my_list = [10, 20, 30, 40, 50, 60]\n",
    "\n",
    "for i in range(len(my_list)):\n",
    "    print(i, my_list[i])"
   ]
  },
  {
   "cell_type": "markdown",
   "metadata": {
    "slideshow": {
     "slide_type": "slide"
    }
   },
   "source": [
    "#### <b>Enumerate</b>\n",
    "You can achieve the same effect as above by using the enumerate() function, to get two values each step through the loop.\n"
   ]
  },
  {
   "cell_type": "code",
   "execution_count": 4,
   "metadata": {},
   "outputs": [
    {
     "name": "stdout",
     "output_type": "stream",
     "text": [
      "0 10\n",
      "1 20\n",
      "2 30\n",
      "3 40\n",
      "4 50\n",
      "5 60\n"
     ]
    }
   ],
   "source": [
    "# the enumerate function will return two values each time the loop statement is run:\n",
    "# \"indx\" will be the current index value, and \"val\" will be the current element of my_list\n",
    "for indx, val in enumerate(my_list):\n",
    "    print(indx, val)"
   ]
  },
  {
   "cell_type": "markdown",
   "metadata": {
    "slideshow": {
     "slide_type": "slide"
    }
   },
   "source": [
    "#### <b>Loop through the characters in a string</b>\n",
    "You can also loop through all characters in a string of text in order. "
   ]
  },
  {
   "cell_type": "code",
   "execution_count": 5,
   "metadata": {},
   "outputs": [
    {
     "name": "stdout",
     "output_type": "stream",
     "text": [
      "O\n",
      "n\n",
      "e\n",
      " \n",
      "a\n",
      "t\n",
      " \n",
      "a\n",
      " \n",
      "t\n",
      "i\n",
      "m\n",
      "e\n"
     ]
    }
   ],
   "source": [
    "s = \"One at a time\"\n",
    "for character in s:\n",
    "    print(character)"
   ]
  },
  {
   "cell_type": "markdown",
   "metadata": {
    "slideshow": {
     "slide_type": "slide"
    }
   },
   "source": [
    "#### <b>Looping through a dictionary</b>\n",
    "#### keys()\n",
    "You can step through the keys of a dictionary."
   ]
  },
  {
   "cell_type": "code",
   "execution_count": 6,
   "metadata": {},
   "outputs": [
    {
     "name": "stdout",
     "output_type": "stream",
     "text": [
      "AAPL\n",
      "MSFT\n",
      "GOOG\n",
      "CSCO\n"
     ]
    }
   ],
   "source": [
    "my_dict = {'AAPL': 100, 'MSFT': 200, 'GOOG': 300, 'CSCO': 400}\n",
    "\n",
    "for key in my_dict.keys():\n",
    "    print(key)"
   ]
  },
  {
   "cell_type": "markdown",
   "metadata": {
    "slideshow": {
     "slide_type": "slide"
    }
   },
   "source": [
    "#### items()\n",
    "Alternatively, you can step through all the items in the dictionary. Each item is a key-value pair.\n",
    "\n",
    "\n",
    "    "
   ]
  },
  {
   "cell_type": "code",
   "execution_count": 7,
   "metadata": {},
   "outputs": [
    {
     "name": "stdout",
     "output_type": "stream",
     "text": [
      "Key= AAPL, Value= 100\n",
      "Key= MSFT, Value= 200\n",
      "Key= GOOG, Value= 300\n",
      "Key= CSCO, Value= 400\n"
     ]
    }
   ],
   "source": [
    "my_dict = {'AAPL': 100, 'MSFT': 200, 'GOOG': 300, 'CSCO': 400}\n",
    "\n",
    "for key, value in my_dict.items():\n",
    "    print('Key= ' + key + ', Value= ' + str(value))"
   ]
  },
  {
   "cell_type": "markdown",
   "metadata": {
    "slideshow": {
     "slide_type": "slide"
    }
   },
   "source": [
    "#### <b>The while loop</b>\n",
    "Though not used as frequently as the <b>for</b> loop, the <b>while</b> loop allows you to execute a block of code until a certain condition is met. If you don't know before-hand how many times to iterate, then a <b>while</b> loop may be appropriate."
   ]
  },
  {
   "cell_type": "code",
   "execution_count": 8,
   "metadata": {},
   "outputs": [
    {
     "name": "stdout",
     "output_type": "stream",
     "text": [
      "1134903170\n"
     ]
    }
   ],
   "source": [
    "#Find the first Fibonacci number that is larger than 1 billion\n",
    "\n",
    "a=1\n",
    "b=1\n",
    "while a < 1000000000:\n",
    "    temp=a\n",
    "    a=b\n",
    "    b=temp+a\n",
    "print(a)"
   ]
  },
  {
   "cell_type": "markdown",
   "metadata": {
    "slideshow": {
     "slide_type": "slide"
    }
   },
   "source": [
    "#### <b>List Comprehensions with conditioning (somewhat advanced)</b>\n",
    "You can also apply a filtering to each of the elements in the list comprehension. The general syntax looks like:\n",
    "\n",
    "[<i>python_expression_that_can_reference_var_name</i> <b>for</b> <i>var_name</i> <b>in</b> <i>list_name</i><b> if </b><i>python_expression_conditional</i>]\n",
    "\n",
    "The above looks confusing to look at in general terms, but here is a concrete example that may be more clear. We use a list comprehension to get the squares of a list of integers, but we filter out any \"bad\" data:"
   ]
  },
  {
   "cell_type": "code",
   "execution_count": 11,
   "metadata": {},
   "outputs": [
    {
     "data": {
      "text/plain": [
       "[1, 4, 25, 49, 144, 289]"
      ]
     },
     "execution_count": 11,
     "metadata": {},
     "output_type": "execute_result"
    }
   ],
   "source": [
    "my_unfiltered_list = [1,2,None, 5,7,12, 'twenty', 17]\n",
    "[x*x for x in my_unfiltered_list if type(x) is int]"
   ]
  },
  {
   "cell_type": "markdown",
   "metadata": {
    "slideshow": {
     "slide_type": "slide"
    }
   },
   "source": [
    "The above list comprehension can be replicated, as below, by a <b>for</b> loop and <b>if</b> statements. Once you get the hang of it, the list comprehension is a more readable piece of code."
   ]
  },
  {
   "cell_type": "code",
   "execution_count": 12,
   "metadata": {},
   "outputs": [
    {
     "data": {
      "text/plain": [
       "[1, 4, 25, 49, 144, 289]"
      ]
     },
     "execution_count": 12,
     "metadata": {},
     "output_type": "execute_result"
    }
   ],
   "source": [
    "my_unfiltered_list = [1,2,None, 5,7,12, 'twenty', 17]\n",
    "result_list = []\n",
    "for x in my_unfiltered_list:\n",
    "    if type(x) is int:\n",
    "        result_list.append(x*x)\n",
    "result_list"
   ]
  },
  {
   "cell_type": "markdown",
   "metadata": {
    "slideshow": {
     "slide_type": "slide"
    }
   },
   "source": [
    "## Example Loops\n",
    "\n",
    "<b>1 - Count the number of even elements in a list </b>\n",
    "\n",
    "Loop through my_list_1 and keep a counter of all the even numbers in the list. The code below shows how to do this using a For Loop and List Comprehension.\n"
   ]
  },
  {
   "cell_type": "code",
   "execution_count": 14,
   "metadata": {
    "slideshow": {
     "slide_type": "slide"
    }
   },
   "outputs": [],
   "source": [
    "my_list_1 = [252, 9, 258, 220, 249, 83, 195, 298, 228, 67, 233, 133, 280, 96, 53, 204, \n",
    "            247, 268, 115, 127, 215, 214, 221, 275, 224, 36, 292, 145, 150, 17, 93, \n",
    "            292, 206, 229, 189, 41, 246, 279, 158, 161, 90, 47, 195, 137, 171, 5, \n",
    "            206, 106, 58, 226, 140, 6, 29, 277, 192, 47, 296, 90, 19, 290, 235, 229, \n",
    "            26, 8, 220, 168, 294, 238, 138, 150, 13, 143, 209, 102, 192, 2, 140, 6, 99, 189\n",
    "            ]\n"
   ]
  },
  {
   "cell_type": "code",
   "execution_count": 15,
   "metadata": {
    "slideshow": {
     "slide_type": "slide"
    }
   },
   "outputs": [
    {
     "data": {
      "text/plain": [
       "42"
      ]
     },
     "execution_count": 15,
     "metadata": {},
     "output_type": "execute_result"
    }
   ],
   "source": [
    "#Using a for loop\n",
    "counter = 0\n",
    "for elt in my_list_1:\n",
    "    if elt % 2 == 0:\n",
    "        counter = counter + 1\n",
    "counter"
   ]
  },
  {
   "cell_type": "code",
   "execution_count": 16,
   "metadata": {},
   "outputs": [
    {
     "data": {
      "text/plain": [
       "42"
      ]
     },
     "execution_count": 16,
     "metadata": {},
     "output_type": "execute_result"
    }
   ],
   "source": [
    "#Using a list comprehension\n",
    "len([x for x in my_list_1 if x%2==0])"
   ]
  },
  {
   "cell_type": "code",
   "execution_count": null,
   "metadata": {
    "slideshow": {
     "slide_type": "slide"
    }
   },
   "outputs": [],
   "source": [
    "<h1> Learn Python Functions </h1>\n",
    "\n",
    "**April 2021**<br>\n",
    "\n",
    "Instruction, media content, examples and links to resources that will help you build a foundation for Python competency. Jupyter Notebooks are available on [Google Colab](https://colab.research.google.com/drive/1YemG1h8DXENEtITxEmzOF-NDgxbxSB9m?usp=sharing) and [Github](https://github.com/AlphaWaveData/Jupyter-Notebooks/blob/master/Learn%20Python%20Functions.ipynb).\n",
    "\n",
    "<b>Web Resources</b>\n",
    "<br> <a href='https://docs.python.org/3/tutorial/controlflow.html#defining-functions'>Docs.python.org - Functions</a>\n",
    "<br> <a href='https://docs.python.org/3/tutorial/controlflow.html#more-on-defining-functions'>Docs.python.org - More on Functions</a>\n",
    "\n",
    "\n",
    "\n",
    "#### <b>What are Python Functions?</b>\n",
    "\n",
    "A function is a block of organized, reusable code that is used to perform a single, related action. \n",
    "\n",
    "#### <b>Why do we use Functions?</b>\n",
    "\n",
    "Functions provide better modularity for your application and a high degree of code reusing.\n",
    "\n",
    "Python gives you many built-in functions like **print()**, etc. but you can also create your own functions. These functions are called user-defined functions.\n",
    "\n",
    "\n",
    "#### <b>How do we create Functions?</b>\n",
    "\n",
    "You can define functions to provide the required functionality. Here are simple rules to define a function in Python.\n",
    "\n",
    " - Function blocks begin with the keyword **def** followed by the function name and parentheses  ( ) .\n",
    "\n",
    " - Any input parameters or arguments should be placed within these parentheses. You can also define parameters inside these parentheses.\n",
    "\n",
    " - The code block within every function starts after a colon **(:)** and is indented.\n",
    "\n",
    " - The first statement of a function can be an optional statement - the documentation string of the function or docstring.\n",
    "\n",
    " - The statement **return** [expression] exits a function, optionally passing back an expression to the caller. A return statement with no arguments is the same as **return None**. If a **return** statement is not used inside the function, a Python function will also return a 'None' value. This is not equal to zero or nothing, but rather is of type None. A user can check for a None type by using the 'is' operator with 'None' data type: \n",
    "\n",
    "(var1 is None) --> Will return TRUE if var1 is of None data type, otherwise it will return FALSE\n",
    "\n",
    "\n",
    "Here is the syntax of a Function in Python:\n",
    "\n",
    "```python\n",
    "def functionname( parameters ):\n",
    "    \"function_docstring\"\n",
    "    function_suite\n",
    "    return [expression]\n",
    "```\n",
    "\n",
    "By default, parameters have a positional behavior and you need to inform them in the same order that they were defined.\n",
    "\n",
    "Here is an example of a function which takes a string as input parameter and prints it out:\n",
    "\n",
    "```python\n",
    "def printme(str_data):\n",
    "    \"This prints a passed string into this function\"\n",
    "    print(str_data)\n",
    "    return \n",
    "```\n",
    "\n",
    "#### <b>How do we call a Function?</b>\n",
    "\n",
    "Defining a function gives it a name, specifies the parameters that are to be included in the function, and structures the blocks of code. If we name a user-defined function identically to a Python built-in function, Python will default to the user-defined function.\n",
    "\n",
    "Once the basic structure of a function is finalized, you can execute it by calling it from another function or directly from the Python prompt. \n",
    "\n",
    "Here are some examples of calling the function **printme()** defined above:\n",
    "    \n",
    "```python\n",
    "# Now you can call printme function\n",
    "printme(\"I'm the first call to a user defined function!\")\n",
    "printme(\"Again second call to the same function\")\n",
    "```\n",
    "which will produce the following results:\n",
    "    \n",
    "`\n",
    "I'm the first call to a user defined function!\n",
    "Again second call to the same function\n",
    "`\n",
    "\n",
    "#### <b>Where can I find more information on Functions?</b>\n",
    "\n",
    "[Official python documentation on functions](https://docs.python.org/3.7/tutorial/controlflow.html#defining-functions)"
   ]
  }
 ],
 "metadata": {
  "celltoolbar": "Slideshow",
  "kernelspec": {
   "display_name": "Python 3 (ipykernel)",
   "language": "python",
   "name": "python3"
  },
  "language_info": {
   "codemirror_mode": {
    "name": "ipython",
    "version": 3
   },
   "file_extension": ".py",
   "mimetype": "text/x-python",
   "name": "python",
   "nbconvert_exporter": "python",
   "pygments_lexer": "ipython3",
   "version": "3.9.9"
  }
 },
 "nbformat": 4,
 "nbformat_minor": 4
}
