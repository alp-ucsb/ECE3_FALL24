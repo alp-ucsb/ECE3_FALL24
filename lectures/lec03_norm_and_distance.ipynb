{
 "cells": [
  {
   "cell_type": "markdown",
   "metadata": {
    "slideshow": {
     "slide_type": "slide"
    }
   },
   "source": [
    "# 03 Norm and distance"
   ]
  },
  {
   "cell_type": "markdown",
   "metadata": {
    "cell_style": "split"
   },
   "source": [
    "<img src=\"figs/03_dist_points.png\" alt=\"Drawing\" width=450px/>"
   ]
  },
  {
   "cell_type": "markdown",
   "metadata": {
    "cell_style": "split"
   },
   "source": [
    "<center>Distance between pathological and healthy</center>\n",
    "\n",
    "<center><img src=\"figs/03_dist_brains.png\" alt=\"Drawing\" width=370px/></center>\n",
    "<center><img src=\"figs/03_dist_conn.png\" alt=\"Drawing\" width=370px/></center>"
   ]
  },
  {
   "cell_type": "markdown",
   "metadata": {
    "slideshow": {
     "slide_type": "slide"
    }
   },
   "source": [
    "#### Unit 1: Vectors, Textbook Ch. 1-5\n",
    "- 01 Vectors\n",
    "- 02 Linear Functions\n",
    "- **_03 Norms and Distances_**\n",
    "- 04 Clustering\n",
    "- 05 Linear Independence\n",
    "\n",
    "#### Unit 2: Matrices, Textbook Ch. 6-11\n",
    "#### Unit 3: Least Squares, Textbook Ch. 12-14 \n"
   ]
  },
  {
   "cell_type": "markdown",
   "metadata": {
    "slideshow": {
     "slide_type": "slide"
    }
   },
   "source": [
    "##### Outline: 03 Norms and Distances\n",
    "\n",
    "- [Norm](#sec-norm)\n",
    "- [Distance](#sec-distance)\n",
    "- [Angle](#sec-angle)\n",
    "- [Mean](#sec-sd)\n",
    "- [Mean Square, Root Mean Square](#sec-sd)\n",
    "- [Standard deviation](#sec-sd)"
   ]
  },
  {
   "cell_type": "markdown",
   "metadata": {
    "slideshow": {
     "slide_type": "slide"
    }
   },
   "source": [
    "##### Outline: 03 Norms and Distances\n",
    "\n",
    "- **[Norm](#sec-norm)**\n",
    "- [Distance](#sec-distance)\n",
    "- [Angle](#sec-angle)\n",
    "- [Mean](#sec-sd)\n",
    "- [Mean Square, Root Mean Square](#sec-sd)\n",
    "- [Standard deviation](#sec-sd)"
   ]
  },
  {
   "cell_type": "markdown",
   "metadata": {
    "slideshow": {
     "slide_type": "slide"
    }
   },
   "source": [
    "### Norm"
   ]
  },
  {
   "cell_type": "markdown",
   "metadata": {},
   "source": [
    "$\\color{#EF5645}{\\text{Definition}}$: The _Euclidean norm_, or just _norm_, of an $n$-vector $x$ is:\n",
    "$$||x|| = \\sqrt{x_1^2 + ... + x_n^2} = \\sqrt{x^Tx}.$$\n",
    "\n",
    "$\\color{#EF5645}{\\text{Remark}}$: The norm is equal to the absolute value for $n=1$.\n",
    "\n",
    "$\\color{#047C91}{\\text{Exercise}}$: Compute the norm of $x= (1, 1, 1)$."
   ]
  },
  {
   "cell_type": "markdown",
   "metadata": {
    "slideshow": {
     "slide_type": "slide"
    }
   },
   "source": [
    "### Properties of the Norm\n",
    "\n",
    "$\\color{#6D7D33}{\\text{Properties}}$: For any scalar $\\beta$ and any $n$-vectors $x, y$:\n",
    "1. Homogeneity: $||\\beta x|| = |\\beta|||x||$\n",
    "2. Triangle inequality: $$||x+y|| \\leq ||x|| + ||y||$$\n",
    "3. Nonnegative: $||x|| \\geq 0$\n",
    "4. Definite: $||x|| = 0$ if and only if $x = 0$"
   ]
  },
  {
   "cell_type": "markdown",
   "metadata": {
    "slideshow": {
     "slide_type": "slide"
    }
   },
   "source": [
    "$\\color{#003660}{\\text{In Python}}$, the module `linalg` from the package `numpy` has a function called `norm`."
   ]
  },
  {
   "cell_type": "code",
   "execution_count": 2,
   "metadata": {},
   "outputs": [
    {
     "name": "stdout",
     "output_type": "stream",
     "text": [
      "3.0\n"
     ]
    }
   ],
   "source": [
    "import numpy as np\n",
    "\n",
    "x = np.array([2, -1, 2])\n",
    "\n",
    "print(np.linalg.norm(x))"
   ]
  },
  {
   "cell_type": "markdown",
   "metadata": {
    "slideshow": {
     "slide_type": "slide"
    }
   },
   "source": [
    "##### Outline: 03 Norms and Distances\n",
    "\n",
    "- [Norm](#sec-norm)\n",
    "- **[Distance](#sec-distance)**\n",
    "- [Angle](#sec-angle)\n",
    "- [Mean](#sec-sd)\n",
    "- [Mean Square, Root Mean Square](#sec-sd)\n",
    "- [Standard deviation](#sec-sd)"
   ]
  },
  {
   "cell_type": "markdown",
   "metadata": {
    "slideshow": {
     "slide_type": "slide"
    }
   },
   "source": [
    "### Distance\n",
    "\n",
    "$\\color{#EF5645}{\\text{Definition}}$: The _Euclidean distance_, or just _distance_, between $n$-vectors $a$ and $b$ is:\n",
    "$$dist(a, b) = ||a - b||.$$\n",
    "\n",
    "$\\color{#EF5645}{\\text{Remark}}$: This definition agrees with ordinary distance for $n = 1, 2, 3.$"
   ]
  },
  {
   "cell_type": "markdown",
   "metadata": {
    "slideshow": {
     "slide_type": "slide"
    }
   },
   "source": [
    "$\\color{#003660}{\\text{In Python}}$, we can compute distances using `linalg.norm`."
   ]
  },
  {
   "cell_type": "code",
   "execution_count": 8,
   "metadata": {},
   "outputs": [
    {
     "name": "stdout",
     "output_type": "stream",
     "text": [
      "1.4142135623730951\n"
     ]
    },
    {
     "data": {
      "image/png": "[encoded data removed]",
      "text/plain": [
       "<Figure size 432x288 with 1 Axes>"
      ]
     },
     "metadata": {
      "needs_background": "light"
     },
     "output_type": "display_data"
    }
   ],
   "source": [
    "import matplotlib.pyplot as plt\n",
    "a = np.array([1, 2]); b = np.array([2, 3])\n",
    "distance_ab = np.linalg.norm(a - b); print(distance_ab)\n",
    "plt.plot([a[0], b[0]], [a[1], b[1]]);"
   ]
  },
  {
   "cell_type": "markdown",
   "metadata": {
    "slideshow": {
     "slide_type": "slide"
    }
   },
   "source": [
    "### Interpretation: Triangle inequality\n",
    "\n",
    "$\\color{#EF5645}{\\text{Recall}}$: Triangle inequality: \n",
    "$$||x+y|| \\leq ||x|| + ||y||.$$\n",
    "\n",
    "Apply with: $x = a - b$ and $y = b - c$ and get:\n",
    "$$||a - c|| \\leq ||a - b|| + ||b - c||.$$\n",
    "i.e. third edge is shorter than the sum of the other two.\n",
    "<center><img src=\"figs/03_triangle.jpg\" alt=\"Drawing\" width=350px/></center>"
   ]
  },
  {
   "cell_type": "markdown",
   "metadata": {
    "slideshow": {
     "slide_type": "slide"
    }
   },
   "source": [
    "$\\color{#003660}{\\text{In Python}}$, we can use a distance to compute differences between more complex data.\n",
    "\n",
    "$\\color{#047C91}{\\text{Example}}$: Load brain connectomes data from the package `geomstats`."
   ]
  },
  {
   "cell_type": "code",
   "execution_count": 14,
   "metadata": {},
   "outputs": [],
   "source": [
    "import geomstats.datasets.utils as ds\n",
    "\n",
    "data, patient_ids, labels = ds.load_connectomes()"
   ]
  },
  {
   "cell_type": "markdown",
   "metadata": {
    "slideshow": {
     "slide_type": "slide"
    }
   },
   "source": [
    "Given $N$ brain areas: a _brain connectome_ is a $N \\times N$ table where a value at row $i$ and column $j$ quantifies whether areas $i$ and $j$ are generally activated together.\n",
    "\n",
    "We show connectome using colors with `imshow`."
   ]
  },
  {
   "cell_type": "code",
   "execution_count": 19,
   "metadata": {},
   "outputs": [
    {
     "data": {
      "image/png": "[encoded data removed]",
      "text/plain": [
       "<Figure size 432x288 with 1 Axes>"
      ]
     },
     "metadata": {
      "needs_background": "light"
     },
     "output_type": "display_data"
    }
   ],
   "source": [
    "plt.imshow(data[0]);#print(data[0])"
   ]
  },
  {
   "cell_type": "markdown",
   "metadata": {
    "slideshow": {
     "slide_type": "slide"
    }
   },
   "source": [
    "We verify that two schizophrenic subjects are \"closer\" than a schizophrenic subject and a healthy control."
   ]
  },
  {
   "cell_type": "code",
   "execution_count": 25,
   "metadata": {
    "slideshow": {
     "slide_type": "-"
    }
   },
   "outputs": [
    {
     "name": "stdout",
     "output_type": "stream",
     "text": [
      "[1 0 0]\n",
      "healthy-schiz: 5.281496613975049\n",
      "schiz-schiz:  4.461061135669169\n"
     ]
    }
   ],
   "source": [
    "print(labels[0:3])\n",
    "healthy = data[0]; schiz1 = data[1]; schiz2 = data[2]\n",
    "print(\n",
    "    \"healthy-schiz:\", np.linalg.norm(healthy - schiz1))\n",
    "print(\n",
    "    \"schiz-schiz: \", np.linalg.norm(schiz1 - schiz2))"
   ]
  },
  {
   "cell_type": "markdown",
   "metadata": {
    "slideshow": {
     "slide_type": "slide"
    }
   },
   "source": [
    "### Nearest Neighbor\n",
    "\n",
    "$\\color{#EF5645}{\\text{Definition}}$: Consider $z_1, . . . , z_m$ a list of $n$-vectors. We say that $z_j$ is the _nearest neighbor of the $n$-vector $x$_ if:\n",
    "$$‖x − z_j ‖ ≤ ‖x − z_i ‖,$$\n",
    "for all $i = 1, . . . , m$.\n",
    "\n",
    "<center><img src=\"figs/03_nn.jpg\" alt=\"default\" width=300px/></center>"
   ]
  },
  {
   "cell_type": "markdown",
   "metadata": {
    "slideshow": {
     "slide_type": "slide"
    }
   },
   "source": [
    "$\\color{#047C91}{\\text{Exercise}}$: Design an algorithm that can predict if a subject is schizophrenic or not, from its connectome."
   ]
  },
  {
   "cell_type": "markdown",
   "metadata": {
    "slideshow": {
     "slide_type": "slide"
    }
   },
   "source": [
    "##### Outline: 03 Norms and Distances\n",
    "\n",
    "- [Norm](#sec-norm)\n",
    "- [Distance](#sec-distance)\n",
    "- **[Angle](#sec-angle)**\n",
    "- [Mean](#sec-sd)\n",
    "- [Mean Square, Root Mean Square](#sec-sd)\n",
    "- [Standard deviation](#sec-sd)"
   ]
  },
  {
   "cell_type": "markdown",
   "metadata": {
    "slideshow": {
     "slide_type": "slide"
    }
   },
   "source": [
    "### Angle\n",
    "\n",
    "$\\color{#EF5645}{\\text{Definition}}$: The _angle_ between two non-zeros $n$-vectors $a$ and $b$ is:\n",
    "$$\\angle(a, b) = arccos( \\frac{a^Tb}{||a||||b||} ).$$\n",
    "\n",
    "$\\color{#EF5645}{\\text{Remark}}$: It coincides with the ordinary angle in 2D and 3D."
   ]
  },
  {
   "cell_type": "markdown",
   "metadata": {
    "slideshow": {
     "slide_type": "slide"
    }
   },
   "source": [
    "Write: $\\theta = \\angle(a, b)$ \n",
    "- $θ = π/2 = 90^\\circ$: a, b are _orthogonal_: $a ⊥ b$ ($a^T b = 0$) \n",
    "- $θ = 0$: a, b are _aligned_ ($a^T b = ‖a‖ ‖b‖$) \n",
    "- $θ = π = 180^\\circ$: a, b are _anti-aligned_ ($a^T b = −‖a‖ ‖b‖$)\n",
    "- $θ ≤ π/2 = 90^\\circ$: a, b make an _acute angle_ ($a^T b ≥ 0$)\n",
    "- $θ ≥ π/2 = 90^\\circ$: a, b make an _obtuse angle_ ($a^T b ≤ 0$)\n",
    "\n",
    "<center><img src=\"figs/03_angles.jpg\" alt=\"default\"/></center>"
   ]
  },
  {
   "cell_type": "markdown",
   "metadata": {
    "slideshow": {
     "slide_type": "slide"
    }
   },
   "source": [
    "$\\color{#003660}{\\text{In Python}}$:"
   ]
  },
  {
   "cell_type": "code",
   "execution_count": 37,
   "metadata": {},
   "outputs": [
    {
     "name": "stdout",
     "output_type": "stream",
     "text": [
      "1.5707963267948966\n",
      "1.5707963267948966\n"
     ]
    }
   ],
   "source": [
    "import numpy as np\n",
    "def angle(a, b):\n",
    "    product = np.linalg.norm(a)* np.linalg.norm(b)\n",
    "    fraction = np.inner(a, b) / (product)\n",
    "    return np.arccos(fraction)\n",
    "\n",
    "a = [1, 0]\n",
    "b = [0, 1]\n",
    "\n",
    "print(angle(a, b))\n",
    "print(np.pi / 2)"
   ]
  },
  {
   "cell_type": "markdown",
   "metadata": {
    "slideshow": {
     "slide_type": "slide"
    }
   },
   "source": [
    "### Cauchy-Schwarz Inequality\n",
    "\n",
    "$\\color{#6D7D33}{\\text{Properties}}$: The angle $\\angle(a, b)$ is the number in $[0, \\pi]$ that satisfies: \n",
    "$$a^Tb = ||a||||b||\\cos(\\angle(a, b)).$$\n",
    "\n",
    "$\\color{#6D7D33}{\\text{Theorem}}$: For any two $n$-vectors $a$ and $b$, we have the Cauchy-Schwarz inequality:\n",
    "$$|a^Tb| \\leq ||a||||b||.$$"
   ]
  },
  {
   "cell_type": "markdown",
   "metadata": {
    "slideshow": {
     "slide_type": "slide"
    }
   },
   "source": [
    "##### Outline: 03 Norms and Distances\n",
    "\n",
    "- [Norm](#sec-norm)\n",
    "- [Distance](#sec-distance)\n",
    "- [Angle](#sec-angle)\n",
    "- **[Mean](#sec-sd)**\n",
    "- [Mean Square, Root Mean Square](#sec-sd)\n",
    "- [Standard deviation](#sec-sd)"
   ]
  },
  {
   "cell_type": "markdown",
   "metadata": {
    "slideshow": {
     "slide_type": "slide"
    }
   },
   "source": [
    "### Mean Value\n",
    "\n",
    "$\\color{#EF5645}{\\text{Definition}}$: The _mean value_, or _average_ of an $n$-vector $x$ is:\n",
    "$$\\bar{x} = \\frac{x_1 + ... + x_n}{n}.$$\n",
    "\n",
    "\n",
    "$\\color{#047C91}{\\text{Example}}$: Consider the vector of the blood pressures of a patient recorded every 4 hours during a day $x = (110, 100, 108, 100, 104, 100)$. (in mmHg). Compute the average blood pressure of the patient."
   ]
  },
  {
   "cell_type": "markdown",
   "metadata": {
    "slideshow": {
     "slide_type": "slide"
    }
   },
   "source": [
    "$\\color{#003660}{\\text{In Python}}$, we use the function `average` from `numpy`."
   ]
  },
  {
   "cell_type": "code",
   "execution_count": 26,
   "metadata": {
    "slideshow": {
     "slide_type": "-"
    }
   },
   "outputs": [
    {
     "data": {
      "text/plain": [
       "103.66666666666667"
      ]
     },
     "execution_count": 26,
     "metadata": {},
     "output_type": "execute_result"
    }
   ],
   "source": [
    "x = np.array([110, 100, 108, 100, 104, 100])\n",
    "np.average(x)"
   ]
  },
  {
   "cell_type": "code",
   "execution_count": 35,
   "metadata": {
    "slideshow": {
     "slide_type": "slide"
    }
   },
   "outputs": [
    {
     "data": {
      "image/png": "[encoded data removed]",
      "text/plain": [
       "<Figure size 432x288 with 1 Axes>"
      ]
     },
     "metadata": {
      "needs_background": "light"
     },
     "output_type": "display_data"
    }
   ],
   "source": [
    "import matplotlib.pyplot as plt\n",
    "\n",
    "hours = np.linspace(1, 24, 6)\n",
    "plt.plot(hours, x, label=\"blood pressure\")\n",
    "plt.plot(hours, (np.average(x)) * np.ones(len(x)), label=\"average\")\n",
    "plt.legend();"
   ]
  },
  {
   "cell_type": "markdown",
   "metadata": {
    "slideshow": {
     "slide_type": "slide"
    }
   },
   "source": [
    "##### Outline: 03 Norms and Distances\n",
    "\n",
    "- [Norm](#sec-norm)\n",
    "- [Distance](#sec-distance)\n",
    "- [Angle](#sec-angle)\n",
    "- [Mean](#sec-sd)\n",
    "- **[Mean Square, Root Mean Square](#sec-sd)**\n",
    "- [Standard deviation](#sec-sd)"
   ]
  },
  {
   "cell_type": "markdown",
   "metadata": {
    "slideshow": {
     "slide_type": "slide"
    }
   },
   "source": [
    "### Root Mean Square (RMS) value\n",
    "\n",
    "$\\color{#EF5645}{\\text{Definition}}$: The _mean-square value_ of an $n$-vector $x$ is:\n",
    "$$\\frac{x_1^2 + ... + x_n^2}{n} = \\frac{||x||^2}{n}.$$\n",
    "\n",
    "$\\color{#EF5645}{\\text{Definition}}$: The _root-mean-square (RMS) value_ of an $n$-vector $x$ is:\n",
    "$$\\text{RMS}(x) = \\sqrt{\\frac{x_1^2 + ... + x_n^2}{n}} = \\frac{||x||}{\\sqrt{n}}.$$\n",
    "\n",
    "$\\color{#EF5645}{\\text{Remark}}$: RMS(x) gives \"typical\" values of $|x_i|$."
   ]
  },
  {
   "cell_type": "markdown",
   "metadata": {
    "slideshow": {
     "slide_type": "slide"
    }
   },
   "source": [
    "$\\color{#047C91}{\\text{Exercise}}$: Write a function computing the root-mean-square value in Python."
   ]
  },
  {
   "cell_type": "code",
   "execution_count": 27,
   "metadata": {},
   "outputs": [
    {
     "data": {
      "text/plain": [
       "1.0"
      ]
     },
     "execution_count": 27,
     "metadata": {},
     "output_type": "execute_result"
    }
   ],
   "source": [
    "def rms(x):\n",
    "    return np.linalg.norm(x) / np.sqrt(len(x))\n",
    "\n",
    "# The rms gives typical values:\n",
    "ones = np.ones(4)\n",
    "rms(ones)"
   ]
  },
  {
   "cell_type": "markdown",
   "metadata": {
    "slideshow": {
     "slide_type": "slide"
    }
   },
   "source": [
    "##### Outline: 03 Norms and Distances\n",
    "\n",
    "- [Norm](#sec-norm)\n",
    "- [Distance](#sec-distance)\n",
    "- [Angle](#sec-angle)\n",
    "- [Mean](#sec-sd)\n",
    "- [Mean Square, Root Mean Square](#sec-sd)\n",
    "- **[Standard deviation](#sec-sd)**"
   ]
  },
  {
   "cell_type": "markdown",
   "metadata": {
    "slideshow": {
     "slide_type": "slide"
    }
   },
   "source": [
    "### Standard Deviation\n",
    "\n",
    "$\\color{#EF5645}{\\text{Definition}}$: The _standard deviation_ of the $n$-vector $x$ is:\n",
    "$$std(x) = rms(x - \\bar{x}1) = \\frac{||x - \\bar{x}.1_n ||}{\\sqrt{n}},$$\n",
    "where $\\bar{x}$ is the average of $x$.\n",
    "\n",
    "$\\color{#EF5645}{\\text{Remark:}}$ The standard deviation gives the typical amount that $x_i$ varies around $\\bar{x}.$"
   ]
  },
  {
   "cell_type": "markdown",
   "metadata": {
    "slideshow": {
     "slide_type": "slide"
    }
   },
   "source": [
    "$\\color{#6D7D33}{\\text{Properties}}$:\n",
    "1. $std(x) = 0$ if and only if $x = \\alpha1$ for some scalar $\\alpha$.\n",
    "2. We have: $rms(x)^2 = \\bar{x}^2 + std(x)^2$"
   ]
  },
  {
   "cell_type": "markdown",
   "metadata": {
    "slideshow": {
     "slide_type": "slide"
    }
   },
   "source": [
    "### Example: Finance\n",
    "\n",
    "- $x$: timeseries of returns on an investment (say, in %),\n",
    "- $\\bar{x}$: \"mean return\" over the time period,\n",
    "- $std(x)$: how variable is the return = the \"risk\".\n",
    "\n",
    "Multiple investments (with different return timeseries $x$) are:\n",
    "- compared in terms of return and risk.\n"
   ]
  },
  {
   "cell_type": "markdown",
   "metadata": {
    "slideshow": {
     "slide_type": "slide"
    }
   },
   "source": [
    "<center><img src=\"figs/03_finance.jpg\" alt=\"default\" width=900px/></center>"
   ]
  },
  {
   "cell_type": "markdown",
   "metadata": {
    "slideshow": {
     "slide_type": "slide"
    }
   },
   "source": [
    "##### Outline: 03 Norms and Distances\n",
    "\n",
    "- [Norm](#sec-norm)\n",
    "- [Distance](#sec-distance)\n",
    "- [Angle](#sec-angle)\n",
    "- [Mean](#sec-sd)\n",
    "- [Mean Square, Root Mean Square](#sec-sd)\n",
    "- [Standard deviation](#sec-sd)\n",
    "\n",
    "Resources: Textbook Ch. 3"
   ]
  }
 ],
 "metadata": {
  "celltoolbar": "Slideshow",
  "kernelspec": {
   "display_name": "Python 3 (ipykernel)",
   "language": "python",
   "name": "python3"
  },
  "language_info": {
   "codemirror_mode": {
    "name": "ipython",
    "version": 3
   },
   "file_extension": ".py",
   "mimetype": "text/x-python",
   "name": "python",
   "nbconvert_exporter": "python",
   "pygments_lexer": "ipython3",
   "version": "3.9.9"
  }
 },
 "nbformat": 4,
 "nbformat_minor": 2
}
