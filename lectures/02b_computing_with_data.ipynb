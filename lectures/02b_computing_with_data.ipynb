{
 "cells": [
  {
   "cell_type": "markdown",
   "id": "b6664954",
   "metadata": {
    "slideshow": {
     "slide_type": "slide"
    }
   },
   "source": [
    "# Unit 02: Computing with Data in Python"
   ]
  },
  {
   "cell_type": "markdown",
   "id": "aef7dd1b",
   "metadata": {
    "slideshow": {
     "slide_type": "slide"
    }
   },
   "source": [
    "# Outline of Unit 02\n",
    "\n",
    "- **02: Computing with Data in Python**\n",
    "  - Vector\n",
    "      - Vectors: assigning, accessing, visualizing\n",
    "      - Vector addition, subtraction, scaling, linear combination\n",
    "      - Inner products, affine function, norm, distance, angle\n",
    "      - Orthogonality and linear independence\n",
    "  - Matrix\n",
    "      - Matrices, special matrices\n",
    "      - Matrix transpose, addition, subtraction, scaling\n",
    "      - Matrix-vector multiplication, Matrix-matrix multiplication\n",
    "      - Column space, row space, kernel, co-kernel, rank\n",
    "      - Solving systems of linear equations\n",
    "      - Singular Value Decomposition"
   ]
  },
  {
   "cell_type": "markdown",
   "id": "3878cb5a",
   "metadata": {
    "slideshow": {
     "slide_type": "slide"
    }
   },
   "source": [
    "## Recap last week's discussion on vectors\n",
    "\n",
    "**Vectors**\n",
    "- Definition of a vector\n",
    "- Special vectors (Zero, Ones, One-hot)\n",
    "- Operations on vectors\n",
    "    - Addition/Subtraction\n",
    "    - Scalar-Vector multiplication\n",
    "    - Elementwise Vetor multiplication\n",
    "    - Inner product\n",
    "    - Norm and Distance\n",
    "    - Angle\n",
    "\n",
    "**Collection of Vectors**\n",
    "- Linear combinations (average, sum, affine, convex), Linear Span\n",
    "- Linear dependence and Linear Independence, Basis\n",
    "- Orthonormal set (normalized and orthogonal), Orthonormal Basis"
   ]
  },
  {
   "cell_type": "markdown",
   "id": "36f200c6",
   "metadata": {
    "slideshow": {
     "slide_type": "slide"
    }
   },
   "source": [
    "### Linear combinations\n",
    "\n",
    "$\\color{#EF5645}{\\text{Definition}}$: For a collection of $m$ n-vectors $a_1, . . . , a_m$ and scalars $β_1, . . . , β_m$, the vector defined as\n",
    "\n",
    "$$β_1a_1 + · · · + β_ma_m$$\n",
    "\n",
    "is a *linear combination* of the vectors."
   ]
  },
  {
   "cell_type": "markdown",
   "id": "b404270c",
   "metadata": {
    "slideshow": {
     "slide_type": "fragment"
    }
   },
   "source": [
    "### Span\n",
    "\n",
    "$\\color{#EF5645}{\\text{Definition}}$: The span of $m$ n-vectors $a_1, . . . , a_m$ is the set of all possible linear combinations of the $m$ vectors,\n",
    "\n",
    "$$\\text{span}(a_1, . . . , a_m) = \\left\\{\\beta_1 a_1 + \\dots + \\beta_m a_m | \\forall \\beta_i \\in \\mathbb{R}\\right\\}$$"
   ]
  },
  {
   "cell_type": "markdown",
   "id": "e993ce95",
   "metadata": {
    "slideshow": {
     "slide_type": "slide"
    }
   },
   "source": [
    "### Linear Dependence\n",
    "\n",
    "$\\color{#EF5645}{\\text{Definition}}$: A collection of $m$ n-vectors $a_1, . . . , a_m$ is *linearily dependent* if there exists a vector $a_i$ which can be expressed as a linear combination of the other vectors."
   ]
  },
  {
   "cell_type": "markdown",
   "id": "70eb6020",
   "metadata": {
    "slideshow": {
     "slide_type": "fragment"
    }
   },
   "source": [
    "### Linear Independence\n",
    "\n",
    "$\\color{#EF5645}{\\text{Definition}}$: A collection of $m$ n-vectors $a_1, . . . , a_m$ is *linearily independent* if no vector $a_i$ can be expressed as a linear combination of the other vectors."
   ]
  },
  {
   "cell_type": "markdown",
   "id": "ce80b8e2",
   "metadata": {
    "slideshow": {
     "slide_type": "fragment"
    }
   },
   "source": [
    "### Basis\n",
    "\n",
    "$\\color{#EF5645}{\\text{Definition}}$: A collection of $n$ n-vectors $a_1, . . . , a_n$ is a basis if the collection is linearily independent."
   ]
  },
  {
   "cell_type": "markdown",
   "id": "5207f2a8",
   "metadata": {
    "slideshow": {
     "slide_type": "slide"
    }
   },
   "source": [
    "### Orthonormal Set\n",
    "\n",
    "$\\color{#EF5645}{\\text{Definitions}}$: A set of k $n$-vectors $a_1, . . . , a_k$ form an *orthonormal set* if they are\n",
    "- _(mutually) orthogonal_ if $a_i ⊥ a_j$ for all $i , j$\n",
    "- _normalized_ if $‖a_i ‖ = 1$ for $i = 1, . . . , k$"
   ]
  },
  {
   "cell_type": "markdown",
   "id": "859814ee",
   "metadata": {
    "slideshow": {
     "slide_type": "fragment"
    }
   },
   "source": [
    "$\\color{#6D7D33}{\\text{Properties}}$: If $a_1, ..., a_k$ form an orthonormal set, then:\n",
    "- $k\\leq n$,\n",
    "- $a_1, ..., a_k$ are linearly independent."
   ]
  },
  {
   "cell_type": "markdown",
   "id": "8b3b554c",
   "metadata": {
    "slideshow": {
     "slide_type": "fragment"
    }
   },
   "source": [
    "### Orthonormal Basis\n",
    "\n",
    "$\\color{#EF5645}{\\text{Definition}}$: A set of $n$ orthonormal $n$-vectors is called an _orthonormal basis_ of $\\mathbb{R}^n$."
   ]
  },
  {
   "cell_type": "markdown",
   "id": "87b8ee47",
   "metadata": {
    "slideshow": {
     "slide_type": "slide"
    }
   },
   "source": [
    "**Problem 1:** Which of the following statements is false?\n",
    "\n",
    "- The span of the $0$ vector is always a point.\n",
    "- The span of $k$ orthonormal vectors (i.e. an orthonormal set) is $k$ dimensional.\n",
    "- If the span of $k$ n-vectors is less than $k$ dimensional, then the set is linearily dependent.\n",
    "- A set of $k < n$ linearily independent n-vectors forms a basis."
   ]
  },
  {
   "cell_type": "markdown",
   "id": "f0897e64",
   "metadata": {
    "slideshow": {
     "slide_type": "slide"
    }
   },
   "source": [
    "**Problem 2:** Which of the following pairs of vectors span all of $\\mathbb{R}^2$?\n",
    "\n",
    "- $a = [0, 1], b = [0,-4]$\n",
    "- $a = [1,-3]$ and $b = [-1.5, 4.5]$\n",
    "- $a = [1,1]$ and $b = [0, 0]$\n",
    "- $a = [1,2]$ and $b = [2,1]$"
   ]
  },
  {
   "cell_type": "code",
   "execution_count": 2,
   "id": "93ec0f65",
   "metadata": {},
   "outputs": [
    {
     "data": {
      "image/png": "[encoded data removed]",
      "text/plain": [
       "<Figure size 432x432 with 1 Axes>"
      ]
     },
     "metadata": {
      "needs_background": "light"
     },
     "output_type": "display_data"
    }
   ],
   "source": [
    "import numpy as np\n",
    "import matplotlib.pyplot as plt\n",
    "\n",
    "a1 = np.array([0, 1]); b1 = np.array([0, -4]);\n",
    "a2 = np.array([1, -3]); b2 = np.array([-1.5, 4.5]);\n",
    "a3 = np.array([1, 1]); b3 = np.array([0, 0]);\n",
    "a4 = np.array([1, 2]); b4 = np.array([2, 1]);\n",
    "\n",
    "def plotvector(a, c):\n",
    "    plt.plot([0, a[0]],[0, a[1]], c=c)\n",
    "\n",
    "fig = plt.figure(figsize=(6, 6))\n",
    "plotvector(a1, c='b'); plotvector(b1, c='b');\n",
    "plotvector(a2, c='g'); plotvector(b2, c='g');\n",
    "plotvector(a3, c='r'); plotvector(b3, c='r');\n",
    "plotvector(a4, c='y'); plotvector(b4, c='y');\n",
    "plt.axis(\"equal\")\n",
    "plt.show()"
   ]
  },
  {
   "cell_type": "markdown",
   "id": "277e4d1d",
   "metadata": {
    "slideshow": {
     "slide_type": "slide"
    }
   },
   "source": [
    "**Problem 3:** Are the vectors $a_1 = [1,0,0]$, $a_2 = [0,0,-1]$, $a_3=[0,1,0]$ linearily dependent or linearily independent? Do they form a basis? Do they form an orthonormal basis?"
   ]
  },
  {
   "cell_type": "code",
   "execution_count": 73,
   "id": "95e08409",
   "metadata": {},
   "outputs": [
    {
     "data": {
      "image/png": "[encoded data removed]",
      "text/plain": [
       "<Figure size 432x432 with 1 Axes>"
      ]
     },
     "metadata": {
      "needs_background": "light"
     },
     "output_type": "display_data"
    }
   ],
   "source": [
    "import numpy as np\n",
    "import matplotlib.pyplot as plt\n",
    "from mpl_toolkits.mplot3d import Axes3D\n",
    "\n",
    "a1 = np.array([1, 0, 0])\n",
    "a2 = np.array([0, 0, -1])\n",
    "a3 = np.array([0, 1, 0])\n",
    "\n",
    "def plot3Dvectors(A, elev=25, angle=45):\n",
    "    fig = plt.figure(figsize=(6, 6))\n",
    "    ax = fig.add_subplot(111, projection='3d')\n",
    "    ax.scatter(0, 0, 0, c='k', s=50)\n",
    "    for a in A:\n",
    "        ax.plot(np.array([0, a[0]]), [0, a[1]], [0, a[2]])\n",
    "    ax.set_xlim((-np.max(A), np.max(A)))\n",
    "    ax.set_ylim((-np.max(A), np.max(A)))\n",
    "    ax.set_zlim((-np.max(A), np.max(A)))\n",
    "    ax.view_init(elev=elev, azim=angle)\n",
    "    plt.show()\n",
    "\n",
    "plot3Dvectors([a1, a2, a3])"
   ]
  },
  {
   "cell_type": "markdown",
   "id": "381c6a03",
   "metadata": {
    "slideshow": {
     "slide_type": "slide"
    }
   },
   "source": [
    "**Problem 4:** Are the vectors $a_1 = [1,0,0]$, $a_2 = [0,0,-1]$, $a_3=[-1,1,0]$ linearily dependent or linearily independent? Do they form a basis? Do they form an orthonormal basis?"
   ]
  },
  {
   "cell_type": "code",
   "execution_count": 63,
   "id": "0b8b1869",
   "metadata": {},
   "outputs": [
    {
     "data": {
      "image/png": "[encoded data removed]",
      "text/plain": [
       "<Figure size 432x432 with 1 Axes>"
      ]
     },
     "metadata": {
      "needs_background": "light"
     },
     "output_type": "display_data"
    }
   ],
   "source": [
    "a1 = np.array([1, 0, 0])\n",
    "a2 = np.array([0, 0, -1])\n",
    "a3 = np.array([-1, 1, 0])\n",
    "\n",
    "plot3Dvectors([a1, a2, a3], elev=25, angle=45)"
   ]
  },
  {
   "cell_type": "markdown",
   "id": "a527dcce",
   "metadata": {
    "slideshow": {
     "slide_type": "slide"
    }
   },
   "source": [
    "**Problem 5:** Are the vectors $a_1 = [0.2,-7.0,8.6]$, $a_2 = [-0.1,2.0,-1.0]$, $a_3=[0,-1.0,2.2]$ linearily dependent or linearily independent? Do they form a basis? Do they form an orthonormal basis?"
   ]
  },
  {
   "cell_type": "code",
   "execution_count": 120,
   "id": "e41cbc2d",
   "metadata": {},
   "outputs": [
    {
     "data": {
      "image/png": "[encoded data removed]",
      "text/plain": [
       "<Figure size 432x432 with 1 Axes>"
      ]
     },
     "metadata": {
      "needs_background": "light"
     },
     "output_type": "display_data"
    }
   ],
   "source": [
    "a1 = np.array([0.1, -3.0, 4.3])\n",
    "a2 = np.array([-0.1, 2.0, -1.0])\n",
    "a3 = np.array([0, -1.0, 2.3])\n",
    "\n",
    "plot3Dvectors([a1, a2, a3], elev=25, angle=-10)"
   ]
  },
  {
   "cell_type": "markdown",
   "id": "025c81d8",
   "metadata": {
    "slideshow": {
     "slide_type": "slide"
    }
   },
   "source": [
    "**Problem 6:** Are the vectors $a_1 = [0,0,-1]$, $a_2 = [1/\\sqrt{2}, 1/\\sqrt{2}, 0]$, $a_3=[1/\\sqrt{2}, -1/\\sqrt{2}, 0]$ linearily dependent or linearily independent? Do they form a basis? Do they form an orthonormal basis?"
   ]
  },
  {
   "cell_type": "code",
   "execution_count": 72,
   "id": "597cb4e8",
   "metadata": {},
   "outputs": [
    {
     "data": {
      "image/png": "[encoded data removed]",
      "text/plain": [
       "<Figure size 432x432 with 1 Axes>"
      ]
     },
     "metadata": {
      "needs_background": "light"
     },
     "output_type": "display_data"
    }
   ],
   "source": [
    "a1 = np.array([0, 0, -1])\n",
    "a2 = np.array([1/np.sqrt(2), 1/np.sqrt(2), 0])\n",
    "a3 = np.array([1/np.sqrt(2), -1/np.sqrt(2), 0])\n",
    "\n",
    "plot3Dvectors([a1, a2, a3], elev=20, angle=20)"
   ]
  },
  {
   "cell_type": "markdown",
   "id": "c249f353",
   "metadata": {
    "slideshow": {
     "slide_type": "slide"
    }
   },
   "source": [
    "**Problem 7:** Suppose $a_1,\\dots,a_k$ are orthonormal n-vectors and $x = \\beta_1 a_1 + \\dots + \\beta_k a_k$ is a linear combination determined by the scalars $\\beta_1,\\dots,\\beta_k$.  What is the norm $\\|x\\|$?"
   ]
  },
  {
   "cell_type": "code",
   "execution_count": 122,
   "id": "cbd52ade",
   "metadata": {},
   "outputs": [
    {
     "name": "stdout",
     "output_type": "stream",
     "text": [
      "6.782329983125268\n",
      "6.782329983125268\n"
     ]
    }
   ],
   "source": [
    "# First Example Orthonormal set\n",
    "a1 = np.array([0, 0, -1])\n",
    "a2 = np.array([1/np.sqrt(2), 1/np.sqrt(2), 0])\n",
    "a3 = np.array([1/np.sqrt(2), -1/np.sqrt(2), 0])\n",
    "b = np.array([-1, 3, 6])\n",
    "x = b[0] * a1 + b[1] * a2 + b[2] * a3\n",
    "print(np.linalg.norm(b))\n",
    "\n",
    "print(np.linalg.norm(b))\n",
    "\n",
    "\n",
    "# # Second Example Orthonormal set\n",
    "# a1 = np.array([1,0,0,0])\n",
    "# a2 = np.array([0,1,0,0])\n",
    "# a3 = np.array([0,0,1,0])\n",
    "# b = np.array([-1, 3, 6])\n",
    "# x = b[0] * a1 + b[1] * a2 + b[2] * a3\n",
    "# print(np.linalg.norm(b))"
   ]
  },
  {
   "cell_type": "markdown",
   "id": "6a8c681d",
   "metadata": {
    "slideshow": {
     "slide_type": "slide"
    }
   },
   "source": [
    "**Problem 8:** Suppose $a$ and $b$ are any non-zero n-vectors. What is the value of $\\gamma$ such that $(a - \\gamma b) \\perp b$?\n",
    "- $\\gamma = a^\\intercal b$\n",
    "- $\\gamma = \\|b\\|$\n",
    "- $\\gamma = a^\\intercal b / \\|b\\|$\n",
    "- $\\gamma = a^\\intercal b / \\|b\\|^2$"
   ]
  },
  {
   "cell_type": "code",
   "execution_count": 16,
   "id": "c7f38580",
   "metadata": {},
   "outputs": [],
   "source": [
    "a = np.array([3, -2, -1, 2, 0])\n",
    "b = np.array([-1, 3, 6, 1, -3])\n",
    "\n",
    "gamma1 = np.dot(a, b)\n",
    "gamma2 = np.linalg.norm(b)\n",
    "gamma3 = np.dot(a, b) / np.linalg.norm(b)\n",
    "gamma4 = np.dot(a, b) / np.linalg.norm(b)**2\n",
    "\n",
    "c = a - gamma1 * b\n",
    "\n",
    "print(np.dot(c, b))"
   ]
  },
  {
   "cell_type": "markdown",
   "id": "a9c50620",
   "metadata": {
    "slideshow": {
     "slide_type": "slide"
    }
   },
   "source": [
    "# 1. What is a Matrix"
   ]
  },
  {
   "cell_type": "markdown",
   "id": "b76109c8",
   "metadata": {},
   "source": [
    "<center><img src=\"figs/06_matrix_everywhere.gif\" alt=\"default\", width=1000px/></center>"
   ]
  },
  {
   "cell_type": "markdown",
   "id": "6d0ed96d",
   "metadata": {
    "cell_style": "center",
    "slideshow": {
     "slide_type": "slide"
    }
   },
   "source": [
    "## Definition of a Matrix\n",
    "\n",
    "$\\color{#EF5645}{\\text{Definition}}$: A _matrix_ is a rectangular array of numbers, e.g.:\n",
    "$$A =\\begin{vmatrix}\n",
    "0   & 1  & -2.3  \\\\\n",
    "1.3 & 4  & -0.1 \n",
    "\\end{vmatrix}$$\n",
    "\n",
    "- Its _size_ or _shape_ is: (number of rows) x (number of columns).\n",
    "- Its elements are called: _entries, coefficients_.\n",
    "- $A_{i, j}$ refers to element at ith row and jth column.\n",
    "  - i is the _row index_ and j is the _column index_.\n",
    "  \n",
    "$\\color{#EF5645}{\\text{Remark:}}$ We often denote a matrix with a capital letter such as A and vectors with a lower case letter such as a."
   ]
  },
  {
   "cell_type": "markdown",
   "id": "709021e0",
   "metadata": {
    "slideshow": {
     "slide_type": "fragment"
    }
   },
   "source": [
    "### Examples in ECE and beyond\n",
    "\n",
    "\n",
    "- Weather: $A_{ij}$ is rainfall data at location $i$ on day $j$.\n",
    "- Finances: $A_{ij}$ is the return of asset $i$ in period $j$.\n",
    "- Images: $A_{ij}$ is intensity value at $i, j$."
   ]
  },
  {
   "cell_type": "markdown",
   "id": "a99c1035",
   "metadata": {
    "slideshow": {
     "slide_type": "slide"
    }
   },
   "source": [
    "$\\color{#003660}{\\text{In Python}}$, we use `numpy` and `np.array` to build matrices. We compute its shape with `shape`."
   ]
  },
  {
   "cell_type": "code",
   "execution_count": 128,
   "id": "ed72851d",
   "metadata": {},
   "outputs": [
    {
     "name": "stdout",
     "output_type": "stream",
     "text": [
      "[[ 0.   1.  -2.3]\n",
      " [ 1.3  4.  -0.1]]\n",
      "(2, 3)\n",
      "6\n"
     ]
    }
   ],
   "source": [
    "import numpy as np\n",
    "\n",
    "\n",
    "A = np.array([\n",
    "    [0, 1, -2.3], \n",
    "    [1.3, 4, -0.1]\n",
    "])\n",
    "print(A)\n",
    "print(np.shape(A))\n",
    "print(A.size)"
   ]
  },
  {
   "cell_type": "markdown",
   "id": "27de8324",
   "metadata": {},
   "source": [
    "$\\color{#003660}{\\text{In Python}}$, we can access the elements of the matrix."
   ]
  },
  {
   "cell_type": "code",
   "execution_count": 129,
   "id": "166936f8",
   "metadata": {},
   "outputs": [
    {
     "name": "stdout",
     "output_type": "stream",
     "text": [
      "0.0\n",
      "-2.3\n"
     ]
    }
   ],
   "source": [
    "A = np.array([\n",
    "    [0, 1, -2.3], \n",
    "    [1.3, 4, -0.1]\n",
    "])\n",
    "\n",
    "print(A[0, 0])\n",
    "print(A[0, 2])"
   ]
  },
  {
   "cell_type": "markdown",
   "id": "d255362d",
   "metadata": {
    "slideshow": {
     "slide_type": "slide"
    }
   },
   "source": [
    "## Sizes/Shapes of Matrices\n",
    "\n",
    "$\\color{#EF5645}{\\text{Definitions}}$: A $n \\times m$ matrix $A$ is:\n",
    "- _tall_ if n > m (more rows than columns)\n",
    "- _wide_ if n < m (more columns than rows)\n",
    "- _square_ if n = m (same columns as rows)"
   ]
  },
  {
   "cell_type": "markdown",
   "id": "cf4a5d26",
   "metadata": {
    "slideshow": {
     "slide_type": "fragment"
    }
   },
   "source": [
    "$\\color{#EF5645}{\\text{Special cases}}$:\n",
    "- A 1 x 1 matrix is a number or scalar.\n",
    "- A n x 1 matrix is an $n$-vector.\n",
    "- A 1 x m matrix is a $m$-row-vector. \n",
    "\n",
    "Starting now, we will distinguish vectors and row vectors."
   ]
  },
  {
   "cell_type": "markdown",
   "id": "00e69bf3",
   "metadata": {
    "slideshow": {
     "slide_type": "slide"
    }
   },
   "source": [
    "## Column representation of a matrix\n",
    "\n",
    "An $n \\times m$ matrix $A$ can be repersented an ordered collection of m n-vectors $a_1, ..., a_n$:\n",
    "  $$A = [a_1 ... a_n]$$\n",
    "The jth column of $A$ is the $n$-vector:\n",
    "$$a_j = \\begin{vmatrix}\n",
    "A_{1j} \\\\\n",
    "\\vdots \\\\\n",
    "A_{nj}\n",
    "\\end{vmatrix}$$"
   ]
  },
  {
   "cell_type": "markdown",
   "id": "4261fb3c",
   "metadata": {
    "slideshow": {
     "slide_type": "fragment"
    }
   },
   "source": [
    "## Row representation of a matrix\n",
    "An $n \\times m$ matrix $A$ can be repersented an ordered collection of n m-row-vectors $b_1, ..., b_n$:\n",
    "  $$A = \\begin{vmatrix}\n",
    "  b_1 \\\\\n",
    "  \\vdots \\\\\n",
    "  b_m\n",
    "  \\end{vmatrix}$$\n",
    "The ith row is the $m$-row-vector: \n",
    "$$[A_{i1}, ..., A_{im}]$$"
   ]
  },
  {
   "cell_type": "markdown",
   "id": "2f895ea1",
   "metadata": {
    "slideshow": {
     "slide_type": "slide"
    }
   },
   "source": [
    "## Slices of a matrix\n",
    "\n",
    "$\\color{#EF5645}{\\text{Definition}}$ The slice of matrix $A_{p:q, r:s}$ is the matrix:\n",
    "$$\\begin{vmatrix}\n",
    "A_{pr} & A_{p, r+1} & ... & A_{ps}  \\\\\n",
    "... & ... & ... & ... \\\\\n",
    "A_{qr} & A_{q, r+1} & ... & A_{qs}\n",
    "\\end{vmatrix}.$$\n",
    "\n",
    "$\\color{#003660}{\\text{In Python}}$, we can extract rows, columns and slices:"
   ]
  },
  {
   "cell_type": "code",
   "execution_count": 130,
   "id": "f0ca23c8",
   "metadata": {},
   "outputs": [
    {
     "name": "stdout",
     "output_type": "stream",
     "text": [
      "Matrix:\n",
      "[[1.1 2.2 3.3]\n",
      " [4.4 5.5 6.6]\n",
      " [7.7 8.8 9.9]]\n",
      "Columns:\n",
      "[1.1 4.4 7.7]\n",
      "[2.2 5.5 8.8]\n",
      "[3.3 6.6 9.9]\n",
      "Rows:\n",
      "[1.1 2.2 3.3]\n",
      "[4.4 5.5 6.6]\n",
      "[7.7 8.8 9.9]\n",
      "Matrix Slice:\n"
     ]
    },
    {
     "data": {
      "text/plain": [
       "array([[2.2, 3.3],\n",
       "       [5.5, 6.6]])"
      ]
     },
     "execution_count": 130,
     "metadata": {},
     "output_type": "execute_result"
    }
   ],
   "source": [
    "A = np.array([\n",
    "    [1.1, 2.2, 3.3], \n",
    "    [4.4, 5.5, 6.6], \n",
    "    [7.7, 8.8, 9.9]]) \n",
    "print(\"Matrix:\")\n",
    "print(A)\n",
    "\n",
    "print(\"Columns:\")\n",
    "print(A[:,0]); print(A[:,1]); print(A[:,2])\n",
    "\n",
    "print(\"Rows:\")\n",
    "print(A[0, :]); print(A[1,:]); print(A[2,:])\n",
    "\n",
    "print(\"Matrix Slice:\")\n",
    "A[0:2, 1:3]"
   ]
  },
  {
   "cell_type": "markdown",
   "id": "be14b6fa",
   "metadata": {
    "slideshow": {
     "slide_type": "slide"
    }
   },
   "source": [
    "## Special Matrices"
   ]
  },
  {
   "cell_type": "markdown",
   "id": "065ee1b8",
   "metadata": {
    "slideshow": {
     "slide_type": "fragment"
    }
   },
   "source": [
    "### Zero Matrix\n",
    "\n",
    "$\\color{#EF5645}{\\text{Definition}}$: The $n \\times m$ matrix with all entries 0 is denoted $0_{n \\times m}$ or just $0$ and is called a _zero matrix_. "
   ]
  },
  {
   "cell_type": "markdown",
   "id": "171405ce",
   "metadata": {
    "slideshow": {
     "slide_type": "fragment"
    }
   },
   "source": [
    "### Ones Matrix\n",
    "\n",
    "$\\color{#EF5645}{\\text{Definition}}$: $n \\times m$ matrix with all entries 1 is denoted $1_{n \\times m}$ or just $1$ and is called a _ones matrix_."
   ]
  },
  {
   "cell_type": "markdown",
   "id": "64185ad2",
   "metadata": {
    "slideshow": {
     "slide_type": "fragment"
    }
   },
   "source": [
    "### Identity Matrix\n",
    "\n",
    "$\\color{#EF5645}{\\text{Definition}}$: The $n \\times n$ matrix with all entries 0 except the diagonal elements are 1 is denoted $I_n$ or just $I$ is the _identity matrix_."
   ]
  },
  {
   "cell_type": "markdown",
   "id": "50804aff",
   "metadata": {
    "slideshow": {
     "slide_type": "slide"
    }
   },
   "source": [
    "$\\color{#003660}{\\text{In Python}}$, we use `zeros` , `ones`, and `identity` or `eye` (from `numpy`) to build these vectors."
   ]
  },
  {
   "cell_type": "code",
   "execution_count": 133,
   "id": "a87e390f",
   "metadata": {
    "scrolled": true
   },
   "outputs": [
    {
     "name": "stdout",
     "output_type": "stream",
     "text": [
      "[[0. 0. 0. 0.]\n",
      " [0. 0. 0. 0.]\n",
      " [0. 0. 0. 0.]]\n",
      "[[1. 1. 1. 1.]\n",
      " [1. 1. 1. 1.]\n",
      " [1. 1. 1. 1.]]\n",
      "[[1. 0. 0.]\n",
      " [0. 1. 0.]\n",
      " [0. 0. 1.]]\n"
     ]
    }
   ],
   "source": [
    "n, m = 3, 4\n",
    "\n",
    "zero = np.zeros((n,m))\n",
    "print(zero)\n",
    "\n",
    "ones = np.ones((n,m))\n",
    "print(ones)\n",
    "\n",
    "I = np.eye(n)\n",
    "I = np.identity(n)\n",
    "print(I)"
   ]
  },
  {
   "cell_type": "markdown",
   "id": "9ec973a4",
   "metadata": {
    "slideshow": {
     "slide_type": "slide"
    }
   },
   "source": [
    "$\\color{#047C91}{\\text{Exercise}}$: How many elements of an $n$ identity matrix are zero?"
   ]
  },
  {
   "cell_type": "code",
   "execution_count": 135,
   "id": "fe11696d",
   "metadata": {
    "slideshow": {
     "slide_type": "-"
    }
   },
   "outputs": [
    {
     "name": "stdout",
     "output_type": "stream",
     "text": [
      "1438800\n",
      "1438800\n"
     ]
    }
   ],
   "source": [
    "n = 1200\n",
    "I = np.eye(n)\n",
    "num_zero = np.sum(I == 0)\n",
    "\n",
    "print(num_zero)\n",
    "print(n * (n - 1))"
   ]
  },
  {
   "cell_type": "markdown",
   "id": "b9050cca",
   "metadata": {
    "slideshow": {
     "slide_type": "slide"
    }
   },
   "source": [
    "# Operations on Matrices"
   ]
  },
  {
   "cell_type": "markdown",
   "id": "74bfd903",
   "metadata": {
    "slideshow": {
     "slide_type": "slide"
    }
   },
   "source": [
    "## Operations that directly follow from vector operations"
   ]
  },
  {
   "cell_type": "markdown",
   "id": "77d95a59",
   "metadata": {
    "slideshow": {
     "slide_type": "fragment"
    }
   },
   "source": [
    "### Matrix Addition and Subtraction\n",
    "\n",
    "$\\color{#EF5645}{\\text{Definition}}$: Two $n \\times m$ matrices A and B can be added or subtracted to give a new $n \\times m$ matrix:\n",
    "$$(A + B)_{ij} = A_{ij} + B_{ij}.$$"
   ]
  },
  {
   "cell_type": "markdown",
   "id": "61917add",
   "metadata": {
    "slideshow": {
     "slide_type": "fragment"
    }
   },
   "source": [
    "### Scalar-Matrix multiplication\n",
    "\n",
    "$\\color{#EF5645}{\\text{Definition}}$: A scalar β and an $n \\times m$ matrix a can be multiplied to give a new $n \\times m$ matrix: \n",
    "$$(βA)_{ij} = \\beta A_{ij}.$$"
   ]
  },
  {
   "cell_type": "markdown",
   "id": "6788095d",
   "metadata": {
    "slideshow": {
     "slide_type": "fragment"
    }
   },
   "source": [
    "### Elementwise-multiplication (Hadamard Product)\n",
    "\n",
    "$\\color{#EF5645}{\\text{Definition}}$: Two $n \\times m$ matrices $A$ amd $B$ can be multiplied to give a new $n \\times m$ matrix: \n",
    "$$(A \\odot B)_{ij} = A_{ij}B_{ij}.$$"
   ]
  },
  {
   "cell_type": "markdown",
   "id": "f260356e",
   "metadata": {
    "slideshow": {
     "slide_type": "slide"
    }
   },
   "source": [
    "## Frobenius Norm\n",
    "\n",
    "$\\color{#EF5645}{\\text{Definition}}$: For a $n \\times m$ matrix $A$, we define the _matrix norm_ as:\n",
    "\n",
    "<center>\n",
    "$||A|| = \\sqrt{\\sum_{i=1}^n \\sum_{j=1}^m A_{ij}^2}.$</center>\n",
    "\n",
    "$\\color{#EF5645}{\\text{Remark}}$: This definition agrees with the definition of norm of vectors when $n=1$ or $m=1$.\n",
    "\n",
    "$\\color{#047C91}{\\text{Exercise}}$: Compute the matrix norm of $A = \\begin{vmatrix}\n",
    "1 & 0 & -1\\\\\n",
    "0 & 1 & 1 \\end{vmatrix}.$\n",
    "\n",
    "$\\color{#003660}{\\text{In Python}}$, we use `np.linalg.norm`."
   ]
  },
  {
   "cell_type": "code",
   "execution_count": 27,
   "id": "36284b53",
   "metadata": {},
   "outputs": [
    {
     "name": "stdout",
     "output_type": "stream",
     "text": [
      "2.0\n"
     ]
    }
   ],
   "source": [
    "import numpy as np\n",
    "\n",
    "A = np.array([\n",
    "    [1, 0, -1],\n",
    "    [0, 1, 1]\n",
    "])\n",
    "print(np.linalg.norm(A))"
   ]
  },
  {
   "cell_type": "markdown",
   "id": "d125b471",
   "metadata": {
    "slideshow": {
     "slide_type": "slide"
    }
   },
   "source": [
    "$\\color{#047C91}{\\text{Exercise}}$: Can you write a function that determines the Frobenius norm of a matrix $A$ in terms of the Eulciden norm of its column vectors $a_1, \\dots, a_m$?"
   ]
  },
  {
   "cell_type": "code",
   "execution_count": 136,
   "id": "0c0218e2",
   "metadata": {
    "slideshow": {
     "slide_type": "-"
    }
   },
   "outputs": [
    {
     "name": "stdout",
     "output_type": "stream",
     "text": [
      "2.0\n"
     ]
    }
   ],
   "source": [
    "def frobenius_norm(A):\n",
    "    n, m = np.shape(A)\n",
    "    norm = 0\n",
    "    for j in range(m):\n",
    "        a = A[:,j]\n",
    "        norm += np.dot(a,a)\n",
    "    return np.sqrt(norm)\n",
    "\n",
    "\n",
    "A = np.array([\n",
    "    [1, 0, -1],\n",
    "    [0, 1, 1]\n",
    "])\n",
    "print(frobenius_norm(A))"
   ]
  },
  {
   "cell_type": "markdown",
   "id": "0b51ebc7",
   "metadata": {
    "slideshow": {
     "slide_type": "slide"
    }
   },
   "source": [
    "## Transpose\n",
    "\n",
    "$\\color{#EF5645}{\\text{Definition}}$: The _transpose of an $n \\times m$ matrix_ $A$ is a $m \\times n$ matrix, written $A^T$, and is defined by:\n",
    "$$ (A^T)_{ij} = A_{ji}, \\quad i = 1,...,m \\quad j=1,...,n$$\n",
    "\n",
    "$\\color{#047C91}{\\text{Example}}$: $\\begin{vmatrix}\n",
    "0.2 & 1.2 & 10 \\\\\n",
    "0 & -3 & 0\n",
    "\\end{vmatrix}^T = \\begin{vmatrix}\n",
    "0.2 & 0 \\\\\n",
    "1.2 & -3 \\\\\n",
    "10 & 0\n",
    "\\end{vmatrix}$\n",
    "\n",
    "\n",
    "$\\color{#6D7D33}{\\text{Property}}$: The transpose verifies:\n",
    "- $(A^T)^T = A$\n",
    "- $(A + B)^T = A^T + B^T$\n",
    "\n",
    "_Hint:_ $\\color{#003660}{\\text{In Python}}$, we use `imshow` to plot an image."
   ]
  },
  {
   "cell_type": "code",
   "execution_count": 140,
   "id": "bc7d5890",
   "metadata": {
    "scrolled": false
   },
   "outputs": [
    {
     "name": "stdout",
     "output_type": "stream",
     "text": [
      "[[ 1  0 -1]\n",
      " [ 0  1  0]]\n",
      "[[ 1  0]\n",
      " [ 0  1]\n",
      " [-1  0]]\n"
     ]
    },
    {
     "data": {
      "text/plain": [
       "<matplotlib.image.AxesImage at 0x10fad59e8>"
      ]
     },
     "execution_count": 140,
     "metadata": {},
     "output_type": "execute_result"
    },
    {
     "data": {
      "image/png": "[encoded data removed]",
      "text/plain": [
       "<Figure size 432x288 with 1 Axes>"
      ]
     },
     "metadata": {
      "needs_background": "light"
     },
     "output_type": "display_data"
    }
   ],
   "source": [
    "A = np.array([\n",
    "    [1, 0, -1],\n",
    "    [0, 1, 0]])\n",
    "\n",
    "print(A)\n",
    "print(A.T)\n",
    "plt.imshow(A)\n",
    "plt.imshow(A.T)"
   ]
  },
  {
   "cell_type": "markdown",
   "id": "2ffab908",
   "metadata": {
    "slideshow": {
     "slide_type": "slide"
    }
   },
   "source": [
    "## Trace\n",
    "\n",
    "$\\color{#EF5645}{\\text{Definition}}$: The _trace of an $n \\times m$ matrix_ $A$ is a scalar, written $\\mathrm{tr}(A)$, and is defined as:\n",
    "$$ \\mathrm{tr}(A) = \\sum_{i = 1}^{\\min{n,m}}A_{ii}$$\n",
    "\n",
    "$\\color{#047C91}{\\text{Example}}$: $\\mathrm{Tr}\\left(\\begin{vmatrix}\n",
    "0.2 & 1.2 & 10 \\\\\n",
    "0 & -3 & 0\n",
    "\\end{vmatrix}\\right) = 0.2 + -3  = -2.8$\n",
    "\n",
    "\n",
    "$\\color{#6D7D33}{\\text{Property}}$: The trace verifies:\n",
    "- $\\mathrm{tr}(A) = \\mathrm{tr}(A^T)$"
   ]
  },
  {
   "cell_type": "code",
   "execution_count": 99,
   "id": "bfb62448",
   "metadata": {
    "scrolled": false
   },
   "outputs": [
    {
     "name": "stdout",
     "output_type": "stream",
     "text": [
      "-1\n"
     ]
    }
   ],
   "source": [
    "A = np.array([\n",
    "    [1, 0, -1],\n",
    "    [0, 1, 0],\n",
    "    [0, 2, -3]\n",
    "])\n",
    "\n",
    "print(np.trace(A))"
   ]
  },
  {
   "cell_type": "markdown",
   "id": "113d68e6",
   "metadata": {
    "slideshow": {
     "slide_type": "slide"
    }
   },
   "source": [
    "$\\color{#047C91}{\\text{Exercise}}$: What is the trace of the $n \\times n$ identity matrix?"
   ]
  },
  {
   "cell_type": "code",
   "execution_count": 101,
   "id": "a8eeb38a",
   "metadata": {
    "slideshow": {
     "slide_type": "-"
    }
   },
   "outputs": [
    {
     "name": "stdout",
     "output_type": "stream",
     "text": [
      "100.0\n"
     ]
    }
   ],
   "source": [
    "n = 100\n",
    "print(np.trace(np.eye(n)))"
   ]
  },
  {
   "cell_type": "markdown",
   "id": "43cd5556",
   "metadata": {
    "slideshow": {
     "slide_type": "slide"
    }
   },
   "source": [
    "## Matrix-Vector Multiplication\n",
    "\n",
    "$\\color{#EF5645}{\\text{Definition}}$: If $A$ is an $n \\times m$ matrix and $x$ is an $m$-vector, then the _matrix-vector_ product $y = Ax$ is the $n$-vector with elements: \n",
    "$$y_i = \\sum_{j = 1}^m A_{ij}x_j$$\n",
    "\n",
    "$\\color{#047C91}{\\text{Example}}$: \n",
    "\n",
    "$$\\begin{vmatrix}\n",
    "0 & 2 & -1 \\\\\n",
    "-2 & 1 & 1\n",
    "\\end{vmatrix} \n",
    "\\begin{vmatrix}\n",
    "2 \\\\\n",
    "1 \\\\\n",
    "-1\n",
    "\\end{vmatrix} = \n",
    "\\begin{vmatrix}\n",
    "3 \\\\\n",
    "-4\n",
    "\\end{vmatrix}$$"
   ]
  },
  {
   "cell_type": "code",
   "execution_count": 143,
   "id": "aef4c6f3",
   "metadata": {
    "scrolled": false
   },
   "outputs": [
    {
     "name": "stdout",
     "output_type": "stream",
     "text": [
      "[ 3 -4]\n"
     ]
    }
   ],
   "source": [
    "A = np.array([\n",
    "    [0, 2, -1],\n",
    "    [-2, 1, 1]])\n",
    "x = np.array([2, 1, -1])\n",
    "\n",
    "y = A @ x\n",
    "y = A.dot(x)\n",
    "\n",
    "print(y)"
   ]
  },
  {
   "cell_type": "markdown",
   "id": "59899c65",
   "metadata": {
    "slideshow": {
     "slide_type": "slide"
    }
   },
   "source": [
    "$\\color{#047C91}{\\text{Exercise}}$: Can you write a function that computes the matrix-vector product only using dot products?"
   ]
  },
  {
   "cell_type": "code",
   "execution_count": 144,
   "id": "c6bec1f2",
   "metadata": {
    "scrolled": false
   },
   "outputs": [
    {
     "name": "stdout",
     "output_type": "stream",
     "text": [
      "[ 3. -4.]\n"
     ]
    }
   ],
   "source": [
    "def matrix_vector_dot(A, x):\n",
    "    n, m = np.shape(A)\n",
    "#     if m != np.size(x):\n",
    "#         return False\n",
    "    y = np.zeros(n)\n",
    "    for i in range(n):\n",
    "        a = A[i,:]\n",
    "        y[i] = np.dot(a, x)\n",
    "    return y\n",
    "\n",
    "A = np.array([\n",
    "    [0, 2, -1],\n",
    "    [-2, 1, 1]])\n",
    "x = np.array([2, 1, -1])\n",
    "y = matrix_vector_dot(A, x)\n",
    "print(y)"
   ]
  },
  {
   "cell_type": "markdown",
   "id": "12209667",
   "metadata": {
    "slideshow": {
     "slide_type": "slide"
    }
   },
   "source": [
    "$\\color{#047C91}{\\text{Exercise}}$: Can you write a function that computes the matrix-vector product only using linear combinations?"
   ]
  },
  {
   "cell_type": "code",
   "execution_count": 145,
   "id": "4dd49f69",
   "metadata": {
    "scrolled": false
   },
   "outputs": [
    {
     "name": "stdout",
     "output_type": "stream",
     "text": [
      "[ 3. -4.]\n"
     ]
    }
   ],
   "source": [
    "def matrix_vector_linear_comb(A, x):\n",
    "    n, m = np.shape(A)\n",
    "    y = np.zeros(n)\n",
    "    for j in range(m):\n",
    "        a = A[:,j]\n",
    "        y += x[j] * a\n",
    "    return y\n",
    "\n",
    "A = np.array([\n",
    "    [0, 2, -1],\n",
    "    [-2, 1, 1]])\n",
    "x = np.array([2, 1, -1])\n",
    "y = matrix_vector_linear_comb(A, x)\n",
    "print(y)"
   ]
  },
  {
   "cell_type": "markdown",
   "id": "e012f8c1",
   "metadata": {
    "slideshow": {
     "slide_type": "slide"
    }
   },
   "source": [
    "$\\color{#047C91}{\\text{Exercise}}$: If $a$ and $b$ are $n$-vectors, what is the matrix vector product $a^Tb$?"
   ]
  },
  {
   "cell_type": "code",
   "execution_count": 3,
   "id": "dab587d8",
   "metadata": {
    "scrolled": true
   },
   "outputs": [
    {
     "name": "stdout",
     "output_type": "stream",
     "text": [
      "[[-66]]\n"
     ]
    }
   ],
   "source": [
    "a = np.array([[2, 1, -1, 4, 5, -9]]).T\n",
    "b = np.array([[-1, 1, 4, 4, -1, 8]]).T\n",
    "y = a.T @ b\n",
    "print(y)"
   ]
  },
  {
   "cell_type": "markdown",
   "id": "7bf9edab",
   "metadata": {
    "slideshow": {
     "slide_type": "slide"
    }
   },
   "source": [
    "## Matrix-Matrix Multiplication\n",
    "\n",
    "$\\color{#EF5645}{\\text{Definition}}$: An $n \\times m$ matrix $A$ and a $m \\times k$ matrix $B$ be multiplied to give a new $n \\times k$ matrix C: \n",
    "$$C = AB$$\n",
    "\n",
    "where the jth column vector of $C$ is given by the matrix vector product $Ab_j$ where $b_j$ is the jth column vector of $B$."
   ]
  },
  {
   "cell_type": "markdown",
   "id": "ca63ac6b",
   "metadata": {
    "slideshow": {
     "slide_type": "slide"
    }
   },
   "source": [
    "### Outer-Product\n",
    "\n",
    "$\\color{#EF5645}{\\text{Definition}}$: An $n$-vectors $a$ amd a $m$-vector $b$ can be multiplied to give a new $n \\times m$ matrix called the _outer product_: \n",
    "$$(a b^T)_{ij} = a_ib_j$$"
   ]
  },
  {
   "cell_type": "markdown",
   "id": "c37ac3f8",
   "metadata": {
    "slideshow": {
     "slide_type": "slide"
    }
   },
   "source": [
    "$\\color{#047C91}{\\text{Exercise}}$: If $a$ and $b$ are $n$-vectors, what is the matrix matrix product $ab^T$? "
   ]
  },
  {
   "cell_type": "code",
   "execution_count": 6,
   "id": "77b58bfc",
   "metadata": {
    "scrolled": true
   },
   "outputs": [
    {
     "name": "stdout",
     "output_type": "stream",
     "text": [
      "[[ -2   2   8   8  -2  16]\n",
      " [ -1   1   4   4  -1   8]\n",
      " [  1  -1  -4  -4   1  -8]\n",
      " [ -4   4  16  16  -4  32]\n",
      " [ -5   5  20  20  -5  40]\n",
      " [  9  -9 -36 -36   9 -72]]\n"
     ]
    }
   ],
   "source": [
    "a = np.array([[2, 1, -1, 4, 5, -9]]).T\n",
    "b = np.array([[-1, 1, 4, 4, -1, 8]]).T\n",
    "y = a @ b.T\n",
    "print(y)"
   ]
  },
  {
   "cell_type": "markdown",
   "id": "5bbdbf4e",
   "metadata": {
    "slideshow": {
     "slide_type": "slide"
    }
   },
   "source": [
    "## Recap\n",
    "\n",
    "**Matrices**\n",
    "- Definition of a Matrix\n",
    "- Special matrices (Zero, Ones, Identity)\n",
    "- Operations on matrices\n",
    "    - Addition/Subtraction\n",
    "    - Scalar-Matrix multiplication\n",
    "    - Elementwise Matrix multiplication\n",
    "    - Frobenius Norm\n",
    "    - Transpose\n",
    "    - Trace\n",
    "    - Matrix-Vector multiplication\n",
    "    - Matrix-Matrix multiplication"
   ]
  },
  {
   "cell_type": "markdown",
   "id": "9a702d8c",
   "metadata": {
    "slideshow": {
     "slide_type": "slide"
    }
   },
   "source": [
    "# Unit 02: Computing with Data in Python"
   ]
  },
  {
   "cell_type": "markdown",
   "id": "77948ecd",
   "metadata": {
    "slideshow": {
     "slide_type": "slide"
    }
   },
   "source": [
    "## Recap\n",
    "\n",
    "**Matrices**\n",
    "- Definition of a Matrix\n",
    "- Special matrices (Zero, Ones, Identity)\n",
    "- Operations on matrices\n",
    "    - Addition/Subtraction\n",
    "    - Scalar-Matrix multiplication\n",
    "    - Elementwise Matrix multiplication\n",
    "    - Frobenius Norm\n",
    "    - Transpose\n",
    "    - Trace\n",
    "    - Matrix-Vector multiplication\n",
    "    - Matrix-Matrix multiplication"
   ]
  },
  {
   "cell_type": "markdown",
   "id": "e940b319",
   "metadata": {
    "slideshow": {
     "slide_type": "slide"
    }
   },
   "source": [
    "## Matrix-Vector Multiplication\n",
    "\n",
    "$\\color{#EF5645}{\\text{Definition}}$: If $A$ is an $n \\times m$ matrix and $x$ is an $m$-vector, then the _matrix-vector_ product $y = Ax$ is the $n$-vector with elements: \n",
    "$$y_i = \\sum_{j = 1}^m A_{ij}x_j$$\n",
    "\n",
    "$\\color{#EF5645}{\\text{Remark}}$: $y$ can be understood as the linear combination of the columns of $A$ with the coefficients as the elements of $x$."
   ]
  },
  {
   "cell_type": "markdown",
   "id": "e2c590c5",
   "metadata": {
    "slideshow": {
     "slide_type": "slide"
    }
   },
   "source": [
    "**Problem 1:** What is stored in the variable `b` in the following python code?"
   ]
  },
  {
   "cell_type": "code",
   "execution_count": 1,
   "id": "22e0afa3",
   "metadata": {},
   "outputs": [],
   "source": [
    "import numpy as np\n",
    "x = np.array([1, -3, 9])\n",
    "A = np.ones((3, 3))\n",
    "b = A @ x"
   ]
  },
  {
   "cell_type": "markdown",
   "id": "b9b4a58d",
   "metadata": {
    "slideshow": {
     "slide_type": "-"
    }
   },
   "source": [
    "- `b = [0, 0, 0]`\n",
    "- `b = [1, -3, 9]`\n",
    "- `b = [7, 6, 9]`\n",
    "- `b = [7, 7, 7]`\n",
    "- `ValueError: mismatch in dimension`"
   ]
  },
  {
   "cell_type": "markdown",
   "id": "459d13ea",
   "metadata": {
    "slideshow": {
     "slide_type": "slide"
    }
   },
   "source": [
    "**Problem 2:** What is stored in the variable `b` in the following python code?"
   ]
  },
  {
   "cell_type": "code",
   "execution_count": 26,
   "id": "fea911f9",
   "metadata": {},
   "outputs": [],
   "source": [
    "import numpy as np\n",
    "x = np.array([1, -3, 9])\n",
    "A = np.zeros((3, 3))\n",
    "b = A @ x"
   ]
  },
  {
   "cell_type": "markdown",
   "id": "eae6d900",
   "metadata": {
    "slideshow": {
     "slide_type": "-"
    }
   },
   "source": [
    "- `b = [0, 0, 0]`\n",
    "- `b = [1, -3, 9]`\n",
    "- `b = [7, 6, 9]`\n",
    "- `b = [7, 7, 7]`\n",
    "- `ValueError: mismatch in dimension`"
   ]
  },
  {
   "cell_type": "markdown",
   "id": "3fabd944",
   "metadata": {
    "slideshow": {
     "slide_type": "slide"
    }
   },
   "source": [
    "**Problem 3:** What is stored in the variable `b` in the following python code?"
   ]
  },
  {
   "cell_type": "code",
   "execution_count": 27,
   "id": "4d4e04b4",
   "metadata": {},
   "outputs": [
    {
     "data": {
      "text/plain": [
       "array([ 1., -3.,  9.])"
      ]
     },
     "execution_count": 27,
     "metadata": {},
     "output_type": "execute_result"
    }
   ],
   "source": [
    "import numpy as np\n",
    "x = np.array([1, -3, 9])\n",
    "A = np.eye(3)\n",
    "b = A @ x"
   ]
  },
  {
   "cell_type": "markdown",
   "id": "29ffa9fd",
   "metadata": {
    "slideshow": {
     "slide_type": "-"
    }
   },
   "source": [
    "- `b = [0, 0, 0]`\n",
    "- `b = [1, -3, 9]`\n",
    "- `b = [7, 6, 9]`\n",
    "- `b = [7, 7, 7]`\n",
    "- `ValueError: mismatch in dimension`"
   ]
  },
  {
   "cell_type": "markdown",
   "id": "1f8f628b",
   "metadata": {
    "slideshow": {
     "slide_type": "slide"
    }
   },
   "source": [
    "**Problem 4:** What is stored in the variable `b` in the following python code?"
   ]
  },
  {
   "cell_type": "code",
   "execution_count": 29,
   "id": "01bcbfa0",
   "metadata": {},
   "outputs": [],
   "source": [
    "import numpy as np\n",
    "x = np.array([1, -3, 9])\n",
    "A = np.array([\n",
    "    [1, 1, 1],\n",
    "    [0, 1, 1],\n",
    "    [0, 0, 1]\n",
    "])\n",
    "b = A @ x"
   ]
  },
  {
   "cell_type": "markdown",
   "id": "18a73dda",
   "metadata": {
    "slideshow": {
     "slide_type": "-"
    }
   },
   "source": [
    "- `b = [0, 0, 0]`\n",
    "- `b = [1, -3, 9]`\n",
    "- `b = [7, 6, 9]`\n",
    "- `b = [7, 7, 7]`\n",
    "- `ValueError: mismatch in dimension`"
   ]
  },
  {
   "cell_type": "markdown",
   "id": "f3d9b339",
   "metadata": {
    "slideshow": {
     "slide_type": "slide"
    }
   },
   "source": [
    "**Problem 5:** What is stored in the variable `b` in the following python code?"
   ]
  },
  {
   "cell_type": "code",
   "execution_count": 31,
   "id": "1d258d98",
   "metadata": {},
   "outputs": [],
   "source": [
    "import numpy as np\n",
    "x = np.array([1, -3, 9])\n",
    "A = np.array([\n",
    "    [-6, 1, 1],\n",
    "    [0, 3, 1],\n",
    "    [3, 1, 0]\n",
    "])\n",
    "b = A @ x"
   ]
  },
  {
   "cell_type": "markdown",
   "id": "f32c7b9f",
   "metadata": {
    "slideshow": {
     "slide_type": "-"
    }
   },
   "source": [
    "- `b = [0, 0, 0]`\n",
    "- `b = [1, -3, 9]`\n",
    "- `b = [7, 6, 9]`\n",
    "- `b = [7, 7, 7]`\n",
    "- `ValueError: mismatch in dimension`"
   ]
  },
  {
   "cell_type": "markdown",
   "id": "f0509b93",
   "metadata": {
    "slideshow": {
     "slide_type": "slide"
    }
   },
   "source": [
    "## Interpreting our previous definitions for collections of vectors via Matrix-Vector Multiplication\n",
    "\n",
    "Let's redefine our definitiions for collections of vectors $a_1, \\dots, a_m$ in terms of definitions of matrices $A$!"
   ]
  },
  {
   "cell_type": "markdown",
   "id": "23a323d7",
   "metadata": {
    "slideshow": {
     "slide_type": "slide"
    }
   },
   "source": [
    "### Column Space\n",
    "\n",
    "$\\color{#EF5645}{\\text{Definition}}$: The _column space_ of a $n \\times m$ matrix $A$ is the space of all n-vectors $b$ which can be expressed as $Ax = b$ for some m-vector $x$.\n",
    "\n",
    "\n",
    "$\\color{#EF5645}{\\text{Remark}}$: Every vector $b$ in the column space of $A$ is in the span of the columns of $A$:\n",
    "\n",
    "$$b \\in \\text{span}(a_1, . . . , a_m)$$"
   ]
  },
  {
   "cell_type": "markdown",
   "id": "36bbedef",
   "metadata": {
    "slideshow": {
     "slide_type": "slide"
    }
   },
   "source": [
    "### An Alternative Definition of Span\n",
    "\n",
    "$\\color{#EF5645}{\\text{Definition}}$: The span of $m$ n-vectors $a_1, . . . , a_m$ is the set of all possible linear combinations of the $m$ vectors,\n",
    "\n",
    "$$\\text{span}(a_1, . . . , a_m) = \\left\\{\\beta_1 a_1 + \\dots + \\beta_m a_m | \\forall \\beta_i \\in \\mathbb{R}\\right\\}$$"
   ]
  },
  {
   "cell_type": "markdown",
   "id": "6f174036",
   "metadata": {
    "slideshow": {
     "slide_type": "fragment"
    }
   },
   "source": [
    "$\\color{#EF5645}{\\text{Alt. Definition}}$: The span of $m$ n-vectors $a_1, . . . , a_m$ is the column space of the $n \\times m$ matrix $A$ with columns $a_1, . . . , a_m$ "
   ]
  },
  {
   "cell_type": "markdown",
   "id": "d14bf551",
   "metadata": {
    "slideshow": {
     "slide_type": "slide"
    }
   },
   "source": [
    "### Rank\n",
    "\n",
    "\n",
    "$\\color{#EF5645}{\\text{Definition}}$: The _matrix rank_ $\\mathrm{rank}(A)$ for a $n \\times m$ matrix $A$ is the dimention of its column space.\n",
    "\n",
    "$\\color{#003660}{\\text{In Python}}$, we use `np.linalg.matrix_rank` to determine the rank. "
   ]
  },
  {
   "cell_type": "code",
   "execution_count": 39,
   "id": "3f34a8ea",
   "metadata": {},
   "outputs": [
    {
     "name": "stdout",
     "output_type": "stream",
     "text": [
      "3\n",
      "2\n"
     ]
    }
   ],
   "source": [
    "A = np.array([\n",
    "    [1, 1, 1],\n",
    "    [0, 1, 1],\n",
    "    [0, 0, 1]\n",
    "])\n",
    "print(np.linalg.matrix_rank(A))\n",
    "\n",
    "A = np.array([\n",
    "    [-6, 1, 1],\n",
    "    [0, 3, 1],\n",
    "    [3, 1, 0]\n",
    "])\n",
    "print(np.linalg.matrix_rank(A))"
   ]
  },
  {
   "cell_type": "markdown",
   "id": "fffa0f8b",
   "metadata": {
    "slideshow": {
     "slide_type": "slide"
    }
   },
   "source": [
    "$\\color{#047C91}{\\text{Exercise}}$: What is the matrix rank of $I_n$ the identity matrix in dimension $n$? How about $0_{n \\times m}$? How about $1_{n \\times m}$?"
   ]
  },
  {
   "cell_type": "code",
   "execution_count": 15,
   "id": "e81588a9",
   "metadata": {},
   "outputs": [
    {
     "name": "stdout",
     "output_type": "stream",
     "text": [
      "10\n",
      "0\n",
      "1\n"
     ]
    }
   ],
   "source": [
    "n, m = 10, 100\n",
    "print(np.linalg.matrix_rank(np.eye(n)))\n",
    "print(np.linalg.matrix_rank(np.zeros((n,m))))\n",
    "print(np.linalg.matrix_rank(np.ones((n,m))))"
   ]
  },
  {
   "cell_type": "markdown",
   "id": "26c97659",
   "metadata": {
    "slideshow": {
     "slide_type": "slide"
    }
   },
   "source": [
    "### An Alternative Definition of Linear Dependence\n",
    "\n",
    "$\\color{#EF5645}{\\text{Definition}}$: A collection of $m$ n-vectors $a_1, . . . , a_m$ is *linearily dependent* if there exists a vector $a_i$ which can be expressed as a linear combination of the other vectors."
   ]
  },
  {
   "cell_type": "markdown",
   "id": "d125da0d",
   "metadata": {
    "slideshow": {
     "slide_type": "fragment"
    }
   },
   "source": [
    "$\\color{#EF5645}{\\text{Alt. Definition}}$: A collection of $m$ n-vectors $a_1, . . . , a_m$ is *linearily dependent* if the $n \\times m$ matrix $A$ with columns $a_1, . . . , a_m$ has matrix rank $r(A) < m$."
   ]
  },
  {
   "cell_type": "markdown",
   "id": "9e423e25",
   "metadata": {
    "slideshow": {
     "slide_type": "slide"
    }
   },
   "source": [
    "### An Alternative Definition of Linear Independence\n",
    "\n",
    "$\\color{#EF5645}{\\text{Definition}}$: A collection of $m$ n-vectors $a_1, . . . , a_m$ is *linearily independent* if no vector $a_i$ can be expressed as a linear combination of the other vectors."
   ]
  },
  {
   "cell_type": "markdown",
   "id": "29df02f3",
   "metadata": {
    "slideshow": {
     "slide_type": "fragment"
    }
   },
   "source": [
    "$\\color{#EF5645}{\\text{Alt. Definition}}$: A collection of $m$ n-vectors $a_1, . . . , a_m$ is *linearily independent* if the $n \\times m$ matrix $A$ with columns $a_1, . . . , a_m$ has matrix rank $r(A) = m$."
   ]
  },
  {
   "cell_type": "markdown",
   "id": "58476659",
   "metadata": {
    "slideshow": {
     "slide_type": "slide"
    }
   },
   "source": [
    "$\\color{#047C91}{\\text{H.W. Exercise}}$: Write a python funciton that given a matrix $A$ determines whether its columns are linearily independent."
   ]
  },
  {
   "cell_type": "code",
   "execution_count": 41,
   "id": "5ed2f275",
   "metadata": {},
   "outputs": [],
   "source": [
    "def idependent(A):\n",
    "    # hint: Use np.linalg.matrix_rank(A) and np.shape(A)\n",
    "    pass"
   ]
  },
  {
   "cell_type": "markdown",
   "id": "569ac781",
   "metadata": {
    "slideshow": {
     "slide_type": "slide"
    }
   },
   "source": [
    "$\\color{#047C91}{\\text{H.W. Exercise}}$: Write a python funciton that given a matrix $A$ determines whether its columns form a basis."
   ]
  },
  {
   "cell_type": "code",
   "execution_count": 42,
   "id": "e5c18bdc",
   "metadata": {},
   "outputs": [],
   "source": [
    "def basis(A):\n",
    "    # hint: Use your previous idependent function. \n",
    "    # hint: If the columns of A form a basis, is A tall, wide, or square?\n",
    "    pass"
   ]
  },
  {
   "cell_type": "markdown",
   "id": "a0afba26",
   "metadata": {
    "slideshow": {
     "slide_type": "slide"
    }
   },
   "source": [
    "$\\color{#047C91}{\\text{H.W. Exercise}}$: Write a python funciton that given a matrix $A$ determines whether its columns form an orthonormal basis."
   ]
  },
  {
   "cell_type": "code",
   "execution_count": 7,
   "id": "1d83d95f",
   "metadata": {},
   "outputs": [],
   "source": [
    "def orthonormalbasis(A):\n",
    "    # hint: Use your previous basis function and either define seperate functions to check the orthonormality \n",
    "    #       conditions on every pair of columns or use matrix-matrix multiplication, np.eye, and \n",
    "    #       np.array_equal to check the conditions in one-line.\n",
    "    pass"
   ]
  },
  {
   "cell_type": "markdown",
   "id": "333b238c",
   "metadata": {
    "slideshow": {
     "slide_type": "slide"
    }
   },
   "source": [
    "### Null Space and Nullity\n",
    "\n",
    "$\\color{#EF5645}{\\text{Definition}}$: The _null space_ or _kernel_ of a $n \\times m$ matrix $A$ is the space of all m-vectors $x$ such that $Ax = 0$.\n",
    "\n",
    "$\\color{#EF5645}{\\text{Definition}}$: The _nullity_ of a $n \\times m$ matrix $A$ is the dimension of A's null space."
   ]
  },
  {
   "cell_type": "markdown",
   "id": "65b9d183",
   "metadata": {
    "slideshow": {
     "slide_type": "fragment"
    }
   },
   "source": [
    "$\\color{#EF5645}{\\text{Remark}}$: If an $n \\times m$ $A$ has linearily independent columns, then its nullity is $0$."
   ]
  },
  {
   "cell_type": "markdown",
   "id": "a17249d9",
   "metadata": {
    "slideshow": {
     "slide_type": "fragment"
    }
   },
   "source": [
    "### Rank-Nullity Theorem\n",
    "\n",
    "$\\color{#EF5645}{\\text{Theorem}}$: For any $n \\times m$ $A$ the number of columns is the sum of the rank plus its nullity:\n",
    "$$\\mathrm{rank}(A) + \\mathrm{nullity}(A) = m$$"
   ]
  },
  {
   "cell_type": "markdown",
   "id": "61a8047a",
   "metadata": {
    "slideshow": {
     "slide_type": "slide"
    }
   },
   "source": [
    "$\\color{#047C91}{\\text{Exercise}}$: A matrix $A$ has a trivial null space (i.e. $\\mathrm{nullity}(A) = 0$) if and only if the columns of $A$ are linearily independent.\n",
    "- True\n",
    "- False"
   ]
  },
  {
   "cell_type": "markdown",
   "id": "3993e827",
   "metadata": {
    "slideshow": {
     "slide_type": "slide"
    }
   },
   "source": [
    "$\\color{#047C91}{\\text{H.W. Exercise}}$: Write a python funciton that given a matrix $A$ returns its nullity."
   ]
  },
  {
   "cell_type": "code",
   "execution_count": 2,
   "id": "b2448c85",
   "metadata": {},
   "outputs": [],
   "source": [
    "def nullity(A):\n",
    "    # Hint: Use the rank-nullity theorem!\n",
    "    pass"
   ]
  },
  {
   "cell_type": "markdown",
   "id": "dcc0629a",
   "metadata": {
    "slideshow": {
     "slide_type": "slide"
    }
   },
   "source": [
    "# Systems of Linear Equations\n",
    "\n",
    "Let's consider $Ax = b$, the heart of modern data science!"
   ]
  },
  {
   "cell_type": "markdown",
   "id": "d183a728",
   "metadata": {},
   "source": [
    "$\\color{#EF5645}{\\text{Definition}}$: A set (or system) of $n$ linear equations in $m$ variables $x_1, . . . , x_m$ is defined as:\n",
    "$$\\begin{matrix}\n",
    "A_{11}x_1 + A_{12}x_2 + · · · + A_{1m}x_m = b_1 \\\\\n",
    "\\vdots \\\\\n",
    "A_{n1}x_1 + A_{n2}x_2 + · · · + A_{nm}x_m = b_n\n",
    "\\end{matrix}$$\n",
    "which can be expressed very compactly as \n",
    "$$Ax = b$$\n",
    "\n",
    "where $A$ is a given $n \\times m$ matrix, $b$ is a given n-vector and $x$ is an unknown m-vector.\n",
    "- $x$ is called the variable or unknown,\n",
    "- $A_{ij}$ are the coefficients, $A$ is the coefficient matrix. \n",
    "- $b$ is called the right-hand side."
   ]
  },
  {
   "cell_type": "markdown",
   "id": "e3267c31",
   "metadata": {
    "slideshow": {
     "slide_type": "slide"
    }
   },
   "source": [
    "$\\color{#EF5645}{\\text{Definition}}$: If we find a vector $x_0$ such that $Ax_0 = b$, then $x_0$ is called a solution of the system of equations.\n",
    "\n",
    "$\\color{#EF5645}{\\text{Remark}}$: Depending on the relationship between $A$ and $b$, there can be:\n",
    "- no solution\n",
    "- one solution\n",
    "- many solutions"
   ]
  },
  {
   "cell_type": "markdown",
   "id": "95074f2a",
   "metadata": {
    "slideshow": {
     "slide_type": "slide"
    }
   },
   "source": [
    "### 1. When doesn't a solution exist?\n",
    "If a solution exists, then there exists an m-vector $x$ such that $Ax = b$, which implies $b$ is in the column space of $A$. Thus, no solution exists if and only if $b$ is not in the column space of $A$!\n",
    "\n",
    "\n",
    "$\\color{#047C91}{\\text{H.W. Exercise}}$ Can we express this condition as a succinct mathematical expression that we can write into code?  \n",
    "\n",
    "*Hint:* Consider the relationship between the rank of $A$ and the rank of the column augmented $n \\times (m + 1)$ matrix $[A,b]$."
   ]
  },
  {
   "cell_type": "markdown",
   "id": "7c81da59",
   "metadata": {
    "slideshow": {
     "slide_type": "fragment"
    }
   },
   "source": [
    "### 2. When is the solution unique?\n",
    "\n",
    "Let's assume there $x_0$ is a solution to $Ax = b$.  If there exists an m-vector $y \\neq 0$ such that $Ay = 0$, then for any coefficient $\\alpha \\neq 0$, we can find a new solution $x_0 + \\alpha y$! In fact, the solution is unique if and only if the null space of $A$ is only the zero vector.\n",
    "\n",
    "\n",
    "$\\color{#047C91}{\\text{H.W. Exercise}}$ Can we express this condition as a succinct mathematical expression that we can write into code?  \n",
    "\n",
    "*Hint:* Consider the definition of nullity."
   ]
  },
  {
   "cell_type": "markdown",
   "id": "522cbfa7",
   "metadata": {
    "slideshow": {
     "slide_type": "slide"
    }
   },
   "source": [
    "$\\color{#047C91}{\\text{H.W. Exercise}}$: Write a python funciton that given an $n \\times m$ matrix $A$ and an n-vector $b$ determines whether the linear system $Ax=b$ has no solution, a unique solution, or many solutions?"
   ]
  },
  {
   "cell_type": "code",
   "execution_count": 10,
   "id": "da5655ac",
   "metadata": {},
   "outputs": [],
   "source": [
    "def classify_system(A, b):\n",
    "    # hint: Use the following variable\n",
    "    augmented_matrix = np.column_stack((A, b))\n",
    "    # hint: Use np.linalg.matrix_rank and the nullity function you wrote previously\n",
    "    pass"
   ]
  },
  {
   "cell_type": "markdown",
   "id": "1b74206e",
   "metadata": {
    "slideshow": {
     "slide_type": "slide"
    }
   },
   "source": [
    "## Solving Square Systems of Linear Equations\n",
    "\n",
    "Let's actually solve $Ax = b$ when $A$ is square and the solution is unique!"
   ]
  },
  {
   "cell_type": "markdown",
   "id": "e6142b50",
   "metadata": {
    "slideshow": {
     "slide_type": "slide"
    }
   },
   "source": [
    "## Diagonal Matrix\n",
    "\n",
    "$\\color{#EF5645}{\\text{Definition}}$: A _diagonal matrix_ $D$ is a square matrix with $D_{ij} = 0$ for $i \\neq j$.\n",
    "- diag$(a_1, ..., a_n)$ denotes the diagonal matrix with $D_{ii} = a_i$:\n",
    "$$D = \\text{diag}(0.2, -3, 1.2) = \\begin{vmatrix}\n",
    "0.2 & 0 & 0 \\\\\n",
    "0 & -3 & 0 \\\\\n",
    "0 & 0 & 1.2\n",
    "\\end{vmatrix}$$\n",
    "\n",
    "$\\color{#003660}{\\text{In Python}}$, we use `np.diag` to create a diagonal matrix from a vector $a$."
   ]
  },
  {
   "cell_type": "code",
   "execution_count": 11,
   "id": "3451b8f3",
   "metadata": {
    "scrolled": true
   },
   "outputs": [
    {
     "data": {
      "text/plain": [
       "array([[2.2, 0. , 0. ],\n",
       "       [0. , 3.3, 0. ],\n",
       "       [0. , 0. , 4.4]])"
      ]
     },
     "execution_count": 11,
     "metadata": {},
     "output_type": "execute_result"
    }
   ],
   "source": [
    "np.diag(np.array([2.2, 3.3, 4.4]))"
   ]
  },
  {
   "cell_type": "markdown",
   "id": "667fd5ff",
   "metadata": {
    "slideshow": {
     "slide_type": "slide"
    }
   },
   "source": [
    "$\\color{#047C91}{\\text{Exercise}}$: If given a $n \\times n$ diagonal matrix $D$ with non-zero diagonal elements (i.e. $D_{ii} \\neq 0$) and an n-vector $b$, how can we solve $Dx = b$?\n",
    "\n",
    "*Hint:* Assume we have a solution $x_0$.  Then the following must be true for $i = 1,\\dots, n$\n",
    "$$D_{ii}x_i = b_i$$"
   ]
  },
  {
   "cell_type": "markdown",
   "id": "549b302d",
   "metadata": {
    "slideshow": {
     "slide_type": "fragment"
    }
   },
   "source": [
    "$\\color{#047C91}{\\text{H.W. Exercise}}$: Write a python funciton that given a $n \\times n$ diagonal matrix $D$ with non-zero diagonal elements (i.e. $D_{ii} \\neq 0$) and an n-vector $b$, returns the unique solution to $Dx=b$?"
   ]
  },
  {
   "cell_type": "code",
   "execution_count": 10,
   "id": "b4278aab",
   "metadata": {},
   "outputs": [],
   "source": [
    "def solve_diagonal_system(D, b):\n",
    "    if classify_system(D, b) != \"Unique\":\n",
    "        return None\n",
    "    \n",
    "    # hint: consider solving for each element x_i one at a time.\n",
    "    pass"
   ]
  },
  {
   "cell_type": "markdown",
   "id": "b25ca722",
   "metadata": {
    "slideshow": {
     "slide_type": "slide"
    }
   },
   "source": [
    "## Upper Triangular Matrix\n",
    "\n",
    "$\\color{#EF5645}{\\text{Definition}}$: An _upper triangular matrix_ $R$ is a square matrix with $R_{ij} = 0$ for $i > j$.\n",
    "- Example:\n",
    "$$R = \\begin{vmatrix}\n",
    "0.2 & 2.0 & -4 \\\\\n",
    "0 & -3 & -1.2 \\\\\n",
    "0 & 0 & 1.2\n",
    "\\end{vmatrix}$$"
   ]
  },
  {
   "cell_type": "markdown",
   "id": "168540c0",
   "metadata": {
    "slideshow": {
     "slide_type": "slide"
    }
   },
   "source": [
    "$\\color{#047C91}{\\text{Exercise}}$: If given a $n \\times n$ upper triangular matrix $R$ with non-zero diagonal elements (i.e. $R_{ii} \\neq 0$) and an n-vector $b$, how can we solve $Rx = b$?\n",
    "\n",
    "*Hint:* Assume we have a solution $x_0$.  Then the following must be true:\n",
    "$$R_{nn}x_n = b_n$$\n",
    "What does this imply about $x_{n-1}$?"
   ]
  },
  {
   "cell_type": "markdown",
   "id": "c3caed18",
   "metadata": {
    "slideshow": {
     "slide_type": "fragment"
    }
   },
   "source": [
    "$\\color{#047C91}{\\text{H.W. Exercise}}$: Write a python funciton that given a $n \\times n$ upper triangular matrix $R$ with non-zero diagonal elements (i.e. $R_{ii} \\neq 0$) and an n-vector $b$, returns the unique solution to $Rx=b$?"
   ]
  },
  {
   "cell_type": "code",
   "execution_count": 14,
   "id": "dd74cce8",
   "metadata": {},
   "outputs": [],
   "source": [
    "def solve_triangular_system(R, b):\n",
    "    if classify_system(R, b) != \"Unique\":\n",
    "        return None\n",
    "    \n",
    "    # hint: Consider a solving the system in reverse, first solve for x_n and then x_{n-1}, and so on.\n",
    "    pass"
   ]
  },
  {
   "cell_type": "markdown",
   "id": "6aa6cbb9",
   "metadata": {
    "slideshow": {
     "slide_type": "slide"
    }
   },
   "source": [
    "## Orthogonal Matrix\n",
    "\n",
    "$\\color{#EF5645}{\\text{Definition}}$: An _orhtogonal matrix_ $Q$ is a square matrix with columns that form an orthonormal basis.\n",
    "$$Q = \\begin{vmatrix}\n",
    "1 & 0 & 0 \\\\\n",
    "0 & 1/\\sqrt{2} & -1/\\sqrt{2} \\\\\n",
    "0 & 1/\\sqrt{2} & 1/\\sqrt{2}\n",
    "\\end{vmatrix}$$\n",
    "\n",
    "$\\color{#6D7D33}{\\text{Property}}$: If $Q$ is an orthogonal matrix, then $QQ^T = Q^TQ = I_n$"
   ]
  },
  {
   "cell_type": "markdown",
   "id": "ecb31728",
   "metadata": {
    "slideshow": {
     "slide_type": "slide"
    }
   },
   "source": [
    "$\\color{#047C91}{\\text{Exercise}}$: If given an $n \\times n$ orthogonal matrix $Q$ and an n-vector $b$, how can we solve $Qx = b$?\n",
    "\n",
    "*Hint:* Use the property $Q^TQ = I_n$."
   ]
  },
  {
   "cell_type": "markdown",
   "id": "b035f647",
   "metadata": {
    "slideshow": {
     "slide_type": "fragment"
    }
   },
   "source": [
    "$\\color{#047C91}{\\text{H.W. Exercise}}$: Write a python funciton that given an $n \\times n$ orthogonal matrix $Q$ and an n-vector $b$, returns the unique solution to $Qx=b$?"
   ]
  },
  {
   "cell_type": "code",
   "execution_count": 14,
   "id": "86055b0f",
   "metadata": {},
   "outputs": [],
   "source": [
    "def solve_orthogonal_system(Q, b):\n",
    "    if classify_system(Q, b) != \"Unique\":\n",
    "        return None\n",
    "    \n",
    "    # hint: Consider multiply Qx = b by some matrix C such that the left hand side becomes I_n x = C b.\n",
    "    pass"
   ]
  },
  {
   "cell_type": "markdown",
   "id": "11b0773e",
   "metadata": {
    "slideshow": {
     "slide_type": "slide"
    }
   },
   "source": [
    "## QR Decomposition\n",
    "\n",
    "$\\color{#EF5645}{\\text{Definition}}$: Any square $n \\times n$ matrix $A$ with $\\mathrm{rank}(A) = n$ can be decomposed into the product of a square orthogonal matrix $Q$ and an upper triangular matrix $R$,\n",
    "$$A = QR$$\n",
    "\n",
    "$\\color{#047C91}{\\text{H.W. Exercise}}$: There are many different algorithms for computing the QR decomposition of a matrix, in your homework you will code one of these algorithms (the HW will walk you through the steps). "
   ]
  },
  {
   "cell_type": "markdown",
   "id": "719d786e",
   "metadata": {
    "slideshow": {
     "slide_type": "fragment"
    }
   },
   "source": [
    "*Hint:* Remember this review problem from last lecture? This will be important!\n",
    "\n",
    "**Problem 8:** Suppose $a$ and $b$ are any non-zero n-vectors. What is the value of $\\gamma$ such that $(a - \\gamma b) \\perp b$?\n",
    "- $\\gamma = a^\\intercal b$\n",
    "- $\\gamma = \\|b\\|$\n",
    "- $\\gamma = a^\\intercal b / \\|b\\|$\n",
    "- $\\color{#0000FF}{\\gamma = a^\\intercal b / \\|b\\|^2}$"
   ]
  },
  {
   "cell_type": "markdown",
   "id": "d443aaba",
   "metadata": {
    "slideshow": {
     "slide_type": "slide"
    }
   },
   "source": [
    "$\\color{#047C91}{\\text{Exercise}}$: If we have a QR decomposition for $A$, how can we solve the linear system $QRx = b$?\n",
    "\n",
    "*Hint:* Can we use our linear solver for orthogonal and triangular matrices? \n",
    "<!-- - Let $Rx = y$\n",
    "- Solve $Qy = b$\n",
    "- Solve $Rx = y$ -->\n"
   ]
  },
  {
   "cell_type": "markdown",
   "id": "cfa01209",
   "metadata": {
    "slideshow": {
     "slide_type": "fragment"
    }
   },
   "source": [
    "$\\color{#047C91}{\\text{H.W. Exercise}}$: Write a python funciton that given a full-rank, square $n \\times n$ matrix $A$ and an n-vector $b$, returns the unique solution to $Ax=b$."
   ]
  },
  {
   "cell_type": "code",
   "execution_count": 13,
   "id": "d087dffd",
   "metadata": {},
   "outputs": [],
   "source": [
    "def solve_square_system(A, b):\n",
    "    if classify_system(A, b) != \"Unique\":\n",
    "        return None\n",
    "    # hint: Use your QR decomposition function, which you will write in the HW\n",
    "    Q, R = QR_decomposition(A)\n",
    "    # hint: Use your linear solver for orthogonal and upper triangular matrices\n",
    "    pass"
   ]
  },
  {
   "cell_type": "markdown",
   "id": "4a0a0c68",
   "metadata": {
    "slideshow": {
     "slide_type": "slide"
    }
   },
   "source": [
    "# Recap of Unit 02\n",
    "\n",
    "- **02: Computing with Data in Python**\n",
    "  - Vector\n",
    "      - Vectors: assigning, accessing, visualizing\n",
    "      - Vector addition, subtraction, scaling, linear combination\n",
    "      - Inner products, affine function, norm, distance, angle\n",
    "      - Orthogonality and linear independence\n",
    "  - Matrix\n",
    "      - Matrices, special matrices\n",
    "      - Matrix transpose, addition, subtraction, scaling\n",
    "      - Matrix-vector multiplication, Matrix-matrix multiplication\n",
    "      - Column space, rank, null space, nullity\n",
    "      - Solving systems of linear equations"
   ]
  },
  {
   "cell_type": "markdown",
   "id": "38ae45b0",
   "metadata": {
    "slideshow": {
     "slide_type": "slide"
    }
   },
   "source": [
    "# Next week with David!\n",
    "\n",
    "The course ECE 3 is organized into 4 units.\n",
    "\n",
    "- Unit 01: Welcome to Python\n",
    "- Unit 02: Computing with Data in Python\n",
    "- **Unit 03: Summarizing Data in Python**\n",
    "- Unit 04: Predicting from Data with Machine Learning in Python"
   ]
  }
 ],
 "metadata": {
  "celltoolbar": "Slideshow",
  "kernelspec": {
   "display_name": "Python 3 (ipykernel)",
   "language": "python",
   "name": "python3"
  },
  "language_info": {
   "codemirror_mode": {
    "name": "ipython",
    "version": 3
   },
   "file_extension": ".py",
   "mimetype": "text/x-python",
   "name": "python",
   "nbconvert_exporter": "python",
   "pygments_lexer": "ipython3",
   "version": "3.9.9"
  }
 },
 "nbformat": 4,
 "nbformat_minor": 5
}
