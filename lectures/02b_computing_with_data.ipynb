{
 "cells": [
  {
   "cell_type": "markdown",
   "id": "9a64f950",
   "metadata": {
    "slideshow": {
     "slide_type": "slide"
    }
   },
   "source": [
    "# Unit 02: Computing with Data in Python"
   ]
  },
  {
   "cell_type": "markdown",
   "id": "29abf497",
   "metadata": {
    "slideshow": {
     "slide_type": "slide"
    }
   },
   "source": [
    "# Outline of Unit 02\n",
    "\n",
    "- **02: Computing with Data in Python**\n",
    "  - Vector\n",
    "      - Vectors: assigning, accessing, visualizing\n",
    "      - Vector addition, subtraction, scaling, linear combination\n",
    "      - Inner products, affine function, norm, distance, angle\n",
    "      - Orthogonality and linear independence\n",
    "  - Matrix \n",
    "      - Opening data: Python I/O\n",
    "      - Matrix transpose, addition, subtraction\n",
    "      - Matrix-vector multiplication\n",
    "      - Column space, row space, image space, null space, rank\n",
    "      - Matrix-matrix multiplication\n",
    "      - Matrix inverse\n",
    "      - Singular Value Decomposition"
   ]
  },
  {
   "cell_type": "markdown",
   "id": "ad0610a3",
   "metadata": {
    "slideshow": {
     "slide_type": "slide"
    }
   },
   "source": [
    "## Recap last week's discussion on vectors\n",
    "\n",
    "**Vectors**\n",
    "- Definition of a vector\n",
    "- Special vectors (Zero, Ones, One-hot)\n",
    "- Operations on vectors\n",
    "    - Addition/Subtraction\n",
    "    - Scalar-Vector multiplication\n",
    "    - Elementwise Vetor multiplication\n",
    "    - Inner product\n",
    "    - Norm and Distance\n",
    "    - Angle\n",
    "\n",
    "**Collection of Vectors**\n",
    "- Linear combinations (average, sum, affine, convex), Linear Span\n",
    "- Linear dependence and Linear Independence, Basis\n",
    "- Orthonormal set (normalized and orthogonal), Orthonormal Basis"
   ]
  },
  {
   "cell_type": "markdown",
   "id": "425226b0",
   "metadata": {
    "slideshow": {
     "slide_type": "slide"
    }
   },
   "source": [
    "### Linear combinations\n",
    "\n",
    "$\\color{#EF5645}{\\text{Definition}}$: For a collection of $m$ n-vectors $a_1, . . . , a_m$ and scalars $β_1, . . . , β_m$, the vector defined as\n",
    "\n",
    "$$β_1a_1 + · · · + β_ma_m$$\n",
    "\n",
    "is a *linear combination* of the vectors."
   ]
  },
  {
   "cell_type": "markdown",
   "id": "c771cdb3",
   "metadata": {
    "slideshow": {
     "slide_type": "fragment"
    }
   },
   "source": [
    "### Span\n",
    "\n",
    "$\\color{#EF5645}{\\text{Definition}}$: The span of $m$ n-vectors $a_1, . . . , a_m$ is the set of all possible linear combinations of the $m$ vectors,\n",
    "\n",
    "$$\\text{span}(a_1, . . . , a_m) = \\left\\{\\beta_1 a_1 + \\dots + \\beta_m a_m | \\forall \\beta_i \\in \\mathbb{R}\\right\\}$$"
   ]
  },
  {
   "cell_type": "markdown",
   "id": "27cda9ba",
   "metadata": {
    "slideshow": {
     "slide_type": "slide"
    }
   },
   "source": [
    "### Linear Dependence\n",
    "\n",
    "$\\color{#EF5645}{\\text{Definition}}$: A collection of $m$ n-vectors $a_1, . . . , a_m$ is *linearily dependent* if there exists a vector $a_i$ which can be expressed as a linear combination of the other vectors."
   ]
  },
  {
   "cell_type": "markdown",
   "id": "cdaae0b1",
   "metadata": {
    "slideshow": {
     "slide_type": "fragment"
    }
   },
   "source": [
    "### Linear Independence\n",
    "\n",
    "$\\color{#EF5645}{\\text{Definition}}$: A collection of $m$ n-vectors $a_1, . . . , a_m$ is *linearily independent* if no vector $a_i$ can be expressed as a linear combination of the other vectors."
   ]
  },
  {
   "cell_type": "markdown",
   "id": "1fecda34",
   "metadata": {
    "slideshow": {
     "slide_type": "fragment"
    }
   },
   "source": [
    "### Basis\n",
    "\n",
    "$\\color{#EF5645}{\\text{Definition}}$: A collection of $n$ n-vectors $a_1, . . . , a_n$ is a basis if the collection is linearily independent."
   ]
  },
  {
   "cell_type": "markdown",
   "id": "d11e3ec9",
   "metadata": {
    "slideshow": {
     "slide_type": "slide"
    }
   },
   "source": [
    "### Orthonormal Set\n",
    "\n",
    "$\\color{#EF5645}{\\text{Definitions}}$: A set of k $n$-vectors $a_1, . . . , a_k$ form an *orthonormal set* if they are\n",
    "- _(mutually) orthogonal_ if $a_i ⊥ a_j$ for all $i , j$\n",
    "- _normalized_ if $‖a_i ‖ = 1$ for $i = 1, . . . , k$"
   ]
  },
  {
   "cell_type": "markdown",
   "id": "f31731dc",
   "metadata": {
    "slideshow": {
     "slide_type": "fragment"
    }
   },
   "source": [
    "### Orthonormal Basis\n",
    "\n",
    "$\\color{#EF5645}{\\text{Definition}}$: A set of $n$ orthonormal $n$-vectors is called an _orthonormal basis_ of $\\mathbb{R}^n$."
   ]
  },
  {
   "cell_type": "markdown",
   "id": "974e095e",
   "metadata": {
    "slideshow": {
     "slide_type": "slide"
    }
   },
   "source": [
    "**Problem:** Which of the following pairs of vectors have the same span?\n",
    "\n",
    "- $a_1 = [1,1,1,0], a_2 = [1,1,1,0]$ and $b = [0,1,1,1]$\n",
    "- $a = [1,1,0,0]$ and $b = [0,0,1,1]$\n",
    "- $a = [1,0,0,0]$ and $b = [0,0,0,1]$"
   ]
  },
  {
   "cell_type": "markdown",
   "id": "635ca3b0",
   "metadata": {
    "slideshow": {
     "slide_type": "slide"
    }
   },
   "source": [
    "**Problem:** Which of the following pairs of vectors are orthonormal?\n",
    "\n",
    "- $a = [1,1,1,0]$ and $b = [0,1,1,1]$\n",
    "- $a = [1,1,0,0]$ and $b = [0,0,1,1]$\n",
    "- $a = [1,0,0,0]$ and $b = [0,0,0,1]$"
   ]
  },
  {
   "cell_type": "markdown",
   "id": "40cbf153",
   "metadata": {
    "slideshow": {
     "slide_type": "slide"
    }
   },
   "source": [
    "**Problem:** Are the vectors $a_1 = [1,0,0]$, $a_2 = [0,0,-1]$, $a_3=[-1,1,0]$ linearily dependent or linearily independent?"
   ]
  },
  {
   "cell_type": "markdown",
   "id": "18bde350",
   "metadata": {
    "slideshow": {
     "slide_type": "slide"
    }
   },
   "source": [
    "**Problem:** Are the vectors $a_1 = [1,0,0]$, $a_2 = [0,0,-1]$, $a_3=[-1,1,0]$ linearily dependent or linearily independent?"
   ]
  },
  {
   "cell_type": "markdown",
   "id": "f70cbb87",
   "metadata": {
    "slideshow": {
     "slide_type": "slide"
    }
   },
   "source": [
    "**Problem:** Are the vectors $a_1 = [0.2,-7.0,8.6]$, $a_2 = [-0.1,2.0,-1.0]$, $a_3=[0,-1.0,2.2]$ linearily dependent or linearily independent?"
   ]
  },
  {
   "cell_type": "markdown",
   "id": "93da6e66",
   "metadata": {
    "slideshow": {
     "slide_type": "slide"
    }
   },
   "source": [
    "**Problem:** Are the vectors $a_1 = [0,0,-1]$, $a_2 = [1/\\sqrt{2}, 1/\\sqrt{2}, 0]$, $a_3=[1/\\sqrt{2}, -1/\\sqrt{2}, 0]$ linearily dependent or linearily independent?\n",
    "\n",
    "<center><img src=\"figs/05_linearindep.png\" width=400px alt=\"default\"/></center>"
   ]
  },
  {
   "cell_type": "markdown",
   "id": "9ca2a40a",
   "metadata": {
    "slideshow": {
     "slide_type": "slide"
    }
   },
   "source": [
    "**Problem:** Suppose $a_1,\\dots,a_k$ are orthonormal n-vectors and $x = \\beta_1 a_1 + \\dots + \\beta_k a_k$ is a linear combination determined by the scalars $\\beta_1,\\dots,\\beta_k$.  What is the norm $\\|x\\|$?"
   ]
  },
  {
   "cell_type": "markdown",
   "id": "a5d3b74c",
   "metadata": {
    "slideshow": {
     "slide_type": "slide"
    }
   },
   "source": [
    "**Problem:** Suppose $a$ and $b$ are any non-zero n-vectors. What is the value of $\\gamma$ such that $(a - \\gamma b) \\perp b$?\n",
    "- $\\gamma = a^\\intercal b$\n",
    "- $\\gamma = \\|b\\|$\n",
    "- $\\gamma = a^\\intercal b / \\|b\\|$\n",
    "- $\\gamma = a^\\intercal b / \\|b\\|^2$"
   ]
  },
  {
   "cell_type": "code",
   "execution_count": 6,
   "id": "080f8259",
   "metadata": {},
   "outputs": [
    {
     "name": "stdout",
     "output_type": "stream",
     "text": [
      "-4.440892098500626e-16\n"
     ]
    }
   ],
   "source": [
    "import numpy as np\n",
    "a = np.array([3, -2, -1, 2, 0])\n",
    "b = np.array([-1, 3, 6, 1, -3])\n",
    "\n",
    "gamma = np.dot(a, b)\n",
    "gamma = np.linalg.norm(b)\n",
    "gamma = np.dot(a, b) / np.linalg.norm(b)\n",
    "gamma = np.dot(a, b) / np.linalg.norm(b)**2\n",
    "\n",
    "c = a - gamma * b\n",
    "\n",
    "print(np.dot(c, b))"
   ]
  },
  {
   "cell_type": "markdown",
   "id": "22b5d6b0",
   "metadata": {
    "slideshow": {
     "slide_type": "slide"
    }
   },
   "source": [
    "# 1. What is a Matrix"
   ]
  },
  {
   "cell_type": "markdown",
   "id": "bdc3b89b",
   "metadata": {},
   "source": [
    "<center><img src=\"figs/06_matrix_everywhere.gif\" alt=\"default\"/></center>"
   ]
  },
  {
   "cell_type": "markdown",
   "id": "be420601",
   "metadata": {
    "cell_style": "center",
    "slideshow": {
     "slide_type": "slide"
    }
   },
   "source": [
    "### Matrices\n",
    "\n",
    "$\\color{#EF5645}{\\text{Definition}}$: A _matrix_ is a rectangular array of numbers, e.g.:\n",
    "$$A =\\begin{bmatrix}\n",
    "0   & 1  & -2.3  \\\\\n",
    "1.3 & 4  & -0.1 \n",
    "\\end{bmatrix}$$\n",
    "\n",
    "- Its _size_ or _shape_ is: (number of rows) x (number of columns).\n",
    "- Its elements are called: _entries, coefficients_.\n",
    "- $A_{i, j}$ refers to element at ith row and jth column.\n",
    "  - i is the _row index_ and j is the _column index_."
   ]
  },
  {
   "cell_type": "code",
   "execution_count": 1,
   "id": "d9c6cd39",
   "metadata": {},
   "outputs": [
    {
     "name": "stdout",
     "output_type": "stream",
     "text": [
      "(2, 3)\n",
      "(2, 3)\n"
     ]
    }
   ],
   "source": []
  },
  {
   "cell_type": "markdown",
   "id": "4c35ee62",
   "metadata": {
    "slideshow": {
     "slide_type": "slide"
    }
   },
   "source": [
    "$\\color{#003660}{\\text{In Python}}$, we use `numpy` and `np.array` to build matrices. We compute its shape with `shape`."
   ]
  },
  {
   "cell_type": "code",
   "execution_count": 1,
   "id": "3ef100e3",
   "metadata": {},
   "outputs": [
    {
     "name": "stdout",
     "output_type": "stream",
     "text": [
      "(2, 3)\n",
      "(2, 3)\n"
     ]
    }
   ],
   "source": [
    "import numpy as np\n",
    "\n",
    "A = np.array([\n",
    "    [0, 1, -2.3], \n",
    "    [1.3, 4, -0.1]\n",
    "])\n",
    "print(np.shape(A))\n",
    "print(A.shape)"
   ]
  },
  {
   "cell_type": "markdown",
   "id": "4b1993a7",
   "metadata": {},
   "source": [
    "$\\color{#003660}{\\text{In Python}}$, we can access the elements of the matrix."
   ]
  },
  {
   "cell_type": "code",
   "execution_count": null,
   "id": "b585c8ae",
   "metadata": {},
   "outputs": [],
   "source": [
    "A = np.array([\n",
    "    [0, 1, -2.3], \n",
    "    [1.3, 4, -0.1]\n",
    "])\n",
    "\n",
    "print(A[0, 0])\n",
    "print(A[0, 2])"
   ]
  },
  {
   "cell_type": "markdown",
   "id": "5c0fd8bc",
   "metadata": {},
   "source": [
    "### Sizes/Shapes of Matrices\n",
    "\n",
    "$\\color{#EF5645}{\\text{Definitions}}$: A m x n matrix $A$ is:\n",
    "- _tall_ if m > n,\n",
    "- _wide_ if m < n,\n",
    "- _square_ if m = n.\n",
    "\n",
    "### Matrices, Vectors and Scalars\n",
    "\n",
    "$\\color{#EF5645}{\\text{Definitions}}$:\n",
    "- A 1 x 1 matrix is a number or scalar.\n",
    "- A n x 1 matrix is an $n$-vector.\n",
    "- A 1 x n matrix is a $n$-row-vector. \n",
    "\n",
    "Starting now, we will distinguish vectors and row vectors.\n",
    "\n",
    "### Columns and rows of a matrix\n",
    "$\\color{#EF5645}{\\text{Notations}}$: Consider the $m \\times n$ matrix $A$.\n",
    "- Its jth column is the $m$-vector:\n",
    "$$\\begin{vmatrix}\n",
    "A_{1j} \\\\\n",
    "\\vdots \\\\\n",
    "A_{mj}\n",
    "\\end{vmatrix}$$\n",
    "- Its ith row is the $n$-row-vector: $[A_{i1}, ..., A_{in}]$.\n",
    "\n",
    "### Slices of a matrix\n",
    "\n",
    "$\\color{#EF5645}{\\text{Definition}}$ The slice of matrix $A_{p:q, r:s}$ is the matrix:\n",
    "$$\\begin{vmatrix}\n",
    "A_{pr} & A_{p, r+1} & ... & A_{ps}  \\\\\n",
    "... & ... & ... & ... \\\\\n",
    "A_{qr} & A_{q, r+1} & ... & A_{qs}\n",
    "\\end{vmatrix}.$$\n",
    "\n",
    "$\\color{#003660}{\\text{In Python}}$, we can extract rows, columns and slices:"
   ]
  },
  {
   "cell_type": "code",
   "execution_count": null,
   "id": "9cac011f",
   "metadata": {},
   "outputs": [],
   "source": [
    "A = np.array([\n",
    "    [1.1, 2.2, 3.3], \n",
    "    [4.4, 5.5, 6.6], \n",
    "    [7.7, 8.8, 9.9]]); print(\"Matrix:\"); print(A)\n",
    "# print(A[0, :]); print(A[:, 1]); print(A[0, 1])\n",
    "A[0:2, 1:3]"
   ]
  },
  {
   "cell_type": "markdown",
   "id": "d6545d53",
   "metadata": {
    "slideshow": {
     "slide_type": "slide"
    }
   },
   "source": [
    "### Column/row representations\n",
    "\n",
    "$\\color{#EF5645}{\\text{Notations}}$: Consider the $m \\times n$ matrix $A$.\n",
    "- $A$ is the block matrix of its columns $a_1, ..., a_n$:\n",
    "  - $A = [a_1 ... a_n]$.\n",
    "- $A$ is the block matrix of its rows $b_1, ..., b_m$:\n",
    "  - $A = \\begin{vmatrix}\n",
    "  b_1 \\\\\n",
    "  \\vdots \\\\\n",
    "  b_m\n",
    "  \\end{vmatrix}.$"
   ]
  },
  {
   "cell_type": "code",
   "execution_count": 14,
   "id": "2fd2b7dd",
   "metadata": {},
   "outputs": [
    {
     "data": {
      "image/png": "[encoded data removed]",
      "text/plain": [
       "<Figure size 432x288 with 1 Axes>"
      ]
     },
     "metadata": {
      "needs_background": "light"
     },
     "output_type": "display_data"
    }
   ],
   "source": [
    "A = np.array([[0.3, 1, 0],[1, 1, 0.7],[0, 1, 0]]); A\n",
    "import matplotlib.pyplot as plt\n",
    "plt.imshow(A, cmap=\"viridis\");"
   ]
  },
  {
   "cell_type": "markdown",
   "id": "b04de291",
   "metadata": {
    "slideshow": {
     "slide_type": "slide"
    }
   },
   "source": [
    "### Examples in ECE and beyond\n",
    "\n",
    "\n",
    "- Weather: $A_{ij}$ is rainfall data at location $i$ on day $j$.\n",
    "- Finances: $A_{ij}$ is the return of asset $i$ in period $j$.\n",
    "\n",
    "$\\color{#047C91}{\\text{Exercise}}$: In each of these, what do the rows and columns mean?"
   ]
  },
  {
   "cell_type": "markdown",
   "id": "77813a6d",
   "metadata": {
    "slideshow": {
     "slide_type": "slide"
    }
   },
   "source": [
    "### Examples in ECE and beyond\n",
    "\n",
    "- Images: $A_{ij}$ is intensity value at $i, j$.\n",
    "\n",
    "$\\color{#003660}{\\text{In Python}}$, we use `imshow` to plot an image."
   ]
  },
  {
   "cell_type": "markdown",
   "id": "9448956d",
   "metadata": {
    "slideshow": {
     "slide_type": "slide"
    }
   },
   "source": [
    "### Special Matrices\n",
    "\n",
    "$\\color{#EF5645}{\\text{Definition}}$: The $m \\times n$ _zero matrix_ (resp. _ones-matrix_) is the matrix with all entries equal to $0$ (resp. to $1$).\n",
    "\n",
    "$\\color{#EF5645}{\\text{Definition}}$: The _identity matrix_ $I$ is the square matrix with $I_{ii} = 1$ and $I_{ij} = 0$ if $i\\neq j$, for example:\n",
    "$$\\begin{vmatrix}\n",
    "1 & 0 \\\\\n",
    "0 & 1 \n",
    "\\end{vmatrix}.$$"
   ]
  },
  {
   "cell_type": "markdown",
   "id": "2c511443",
   "metadata": {
    "slideshow": {
     "slide_type": "slide"
    }
   },
   "source": [
    "$\\color{#003660}{\\text{In Python}}$:"
   ]
  },
  {
   "cell_type": "code",
   "execution_count": 17,
   "id": "5249e9d3",
   "metadata": {},
   "outputs": [
    {
     "name": "stdout",
     "output_type": "stream",
     "text": [
      "[[0. 0. 0.]\n",
      " [0. 0. 0.]]\n",
      "[[1. 1. 1. 1.]\n",
      " [1. 1. 1. 1.]]\n"
     ]
    },
    {
     "data": {
      "text/plain": [
       "array([[1., 0., 0., 0.],\n",
       "       [0., 1., 0., 0.],\n",
       "       [0., 0., 1., 0.],\n",
       "       [0., 0., 0., 1.]])"
      ]
     },
     "execution_count": 17,
     "metadata": {},
     "output_type": "execute_result"
    }
   ],
   "source": [
    "zero_mat = np.zeros((2, 3)); print(zero_mat) # 2 x 3\n",
    "ones_mat = np.ones((2, 4)); print(ones_mat) #2 x 4\n",
    "identity_mat = np.identity(4); identity_mat"
   ]
  },
  {
   "cell_type": "markdown",
   "id": "0989295d",
   "metadata": {
    "slideshow": {
     "slide_type": "slide"
    }
   },
   "source": [
    "## Speicial Matrices"
   ]
  },
  {
   "cell_type": "markdown",
   "id": "e8626e74",
   "metadata": {
    "slideshow": {
     "slide_type": "fragment"
    }
   },
   "source": [
    "### Zero Matrix\n",
    "\n",
    "$\\color{#EF5645}{\\text{Definition}}$: The n-vector with all entries 0 is denoted $0_n$ or $\\vec{0}$ or just $0$ and is called a _zero vector_. "
   ]
  },
  {
   "cell_type": "markdown",
   "id": "6e630bff",
   "metadata": {
    "slideshow": {
     "slide_type": "fragment"
    }
   },
   "source": [
    "### Ones Matrix\n",
    "\n",
    "$\\color{#EF5645}{\\text{Definition}}$: The n-vector with all entries 1 is denoted $1_n$ or $\\vec{1}$ or just 1 and is called a _ones-vector_."
   ]
  },
  {
   "cell_type": "markdown",
   "id": "96182a72",
   "metadata": {
    "slideshow": {
     "slide_type": "fragment"
    }
   },
   "source": [
    "### Identity Matrix\n",
    "\n",
    "$\\color{#EF5645}{\\text{Definition}}$: The n-vector with all entries 1 is denoted $1_n$ or $\\vec{1}$ or just 1 and is called a _ones-vector_."
   ]
  },
  {
   "cell_type": "markdown",
   "id": "b21188ae",
   "metadata": {
    "slideshow": {
     "slide_type": "slide"
    }
   },
   "source": [
    "$\\color{#003660}{\\text{In Python}}$, we use `zeros` and `identity` or `eye` (from `numpy`) to build these vectors."
   ]
  },
  {
   "cell_type": "code",
   "execution_count": 91,
   "id": "34f13bb6",
   "metadata": {
    "scrolled": true
   },
   "outputs": [
    {
     "name": "stdout",
     "output_type": "stream",
     "text": [
      "[0. 0. 0. 0. 0. 0. 0. 0. 0. 0. 0. 0. 0. 0. 0. 0. 0. 0. 0. 0. 0. 0. 0. 0.\n",
      " 0. 0. 0. 0. 0. 0. 0. 0. 0. 0. 0. 0. 0. 0. 0. 0. 0. 0. 0. 0. 0. 0. 0. 0.\n",
      " 0. 0. 0. 0. 0. 0. 0. 0. 0. 0. 0. 0. 0. 0. 0. 0. 0. 0. 0. 0. 0. 0. 0. 0.\n",
      " 0. 0. 0. 0. 0. 0. 0. 0. 0. 0. 0. 0. 0. 0. 0. 0. 0. 0. 0. 0. 0. 0. 0. 0.\n",
      " 0. 0. 0. 0.]\n",
      "[1. 1. 1. 1. 1. 1. 1. 1. 1. 1. 1. 1. 1. 1. 1. 1. 1. 1. 1. 1.]\n",
      "[1. 0. 0.]\n"
     ]
    }
   ],
   "source": [
    "zero2 = np.zeros(100)\n",
    "print(zero2)\n",
    "\n",
    "ones4 = np.ones(20)\n",
    "print(ones4)\n",
    "\n",
    "e1 = np.zeros(3)\n",
    "e1[0] = 1\n",
    "print(e1)"
   ]
  },
  {
   "cell_type": "markdown",
   "id": "0745f31d",
   "metadata": {
    "slideshow": {
     "slide_type": "slide"
    }
   },
   "source": [
    "$\\color{#047C91}{\\text{Exercise}}$: What are all the one-hot vectors of length 3?"
   ]
  },
  {
   "cell_type": "code",
   "execution_count": 80,
   "id": "a30aa157",
   "metadata": {
    "slideshow": {
     "slide_type": "-"
    }
   },
   "outputs": [],
   "source": [
    "\"\"\"Create all one-hot vector of len 3.\"\"\"\n",
    "\n",
    "e = np.zeros(3)\n",
    "\n"
   ]
  },
  {
   "cell_type": "code",
   "execution_count": null,
   "id": "bc1e20ce",
   "metadata": {},
   "outputs": [],
   "source": []
  },
  {
   "cell_type": "code",
   "execution_count": null,
   "id": "f5cf75db",
   "metadata": {},
   "outputs": [],
   "source": []
  },
  {
   "cell_type": "markdown",
   "id": "6b91f5b3",
   "metadata": {
    "slideshow": {
     "slide_type": "slide"
    }
   },
   "source": [
    "# Operations on Matrices"
   ]
  },
  {
   "cell_type": "markdown",
   "id": "46ba15b2",
   "metadata": {
    "slideshow": {
     "slide_type": "slide"
    }
   },
   "source": [
    "## Matrix Addition and Subtraction\n",
    "\n",
    "$\\color{#EF5645}{\\text{Definition}}$: Two vectors a and b can be added/subtracted:\n",
    "- Addition is denoted a + b; subtraction is denoted a - b.\n",
    "- Addition/subtraction is computed by adding/subtracting vector elements."
   ]
  },
  {
   "cell_type": "markdown",
   "id": "4ebd9fae",
   "metadata": {
    "slideshow": {
     "slide_type": "slide"
    }
   },
   "source": [
    "## Scalar-Matrix multiplication\n",
    "\n",
    "$\\color{#EF5645}{\\text{Definition}}$: A scalar β and an $n$-vector a can be multiplied to give a new vector: \n",
    "$$βa = ( βa_1, . . . , β a_n).$$"
   ]
  },
  {
   "cell_type": "markdown",
   "id": "d1b4d82e",
   "metadata": {
    "slideshow": {
     "slide_type": "slide"
    }
   },
   "source": [
    "## Elementwise-multiplication (Hadamard Product)\n",
    "\n",
    "$\\color{#EF5645}{\\text{Definition}}$: Two $n$-vectors $a$ amd $b$ can be multiplied to give a new vector: \n",
    "$$a \\odot b = ( a_1b_1, . . . , a_nb_n).$$\n",
    "\n",
    "$\\color{#047C91}{\\text{Exercise}}$: Compute the hadamard product of $a = (1, 0, 2)$ and $b = (-1, 1, 2)$."
   ]
  },
  {
   "cell_type": "markdown",
   "id": "79ef9126",
   "metadata": {
    "slideshow": {
     "slide_type": "slide"
    }
   },
   "source": [
    "## Transpose\n",
    "\n",
    "$\\color{#EF5645}{\\text{Definition}}$: The _transpose of an $m \\times n$ matrix_ $A$ is a $n \\times m$ matrix, written $A^T$, and is defined by:\n",
    "$$ (A^T)_{ij} = A_{ji}, \\quad i = 1,..., n \\quad j=1,...,m$$\n",
    "\n",
    "$\\color{#047C91}{\\text{Example}}$: $\\begin{vmatrix}\n",
    "0.2 & 1.2 & 10 \\\\\n",
    "0 & -3 & 0\n",
    "\\end{vmatrix}^T = \\begin{vmatrix}\n",
    "0.2 & 0 \\\\\n",
    "1.2 & -3 \\\\\n",
    "10 & 0\n",
    "\\end{vmatrix}$"
   ]
  },
  {
   "cell_type": "code",
   "execution_count": 14,
   "id": "82bc057f",
   "metadata": {},
   "outputs": [
    {
     "name": "stdout",
     "output_type": "stream",
     "text": [
      "[[ 1  0 -1]\n",
      " [ 0  1  0]\n",
      " [ 0  2 -3]]\n",
      "[[ 1  0  0]\n",
      " [ 0  1  2]\n",
      " [-1  0 -3]]\n"
     ]
    },
    {
     "data": {
      "text/plain": [
       "<matplotlib.image.AxesImage at 0x10ee86940>"
      ]
     },
     "execution_count": 14,
     "metadata": {},
     "output_type": "execute_result"
    },
    {
     "data": {
      "image/png": "[encoded data removed]",
      "text/plain": [
       "<Figure size 432x288 with 1 Axes>"
      ]
     },
     "metadata": {
      "needs_background": "light"
     },
     "output_type": "display_data"
    }
   ],
   "source": [
    "import matplotlib.pylab as plt\n",
    "\n",
    "A = np.array([\n",
    "    [1, 0, -1],\n",
    "    [0, 1, 0],\n",
    "    [0, 2, -3]\n",
    "])\n",
    "\n",
    "print(A)\n",
    "print(A.T)\n",
    "plt.imshow(A)\n",
    "plt.imshow(A.T)"
   ]
  },
  {
   "cell_type": "markdown",
   "id": "ca50bdb2",
   "metadata": {
    "slideshow": {
     "slide_type": "slide"
    }
   },
   "source": [
    "$\\color{#6D7D33}{\\text{Property}}$: The transpose verifies:\n",
    "- $(A^T)^T = A$\n",
    "- $(A + B)^T = A^T + B^T$"
   ]
  },
  {
   "cell_type": "markdown",
   "id": "258d184f",
   "metadata": {
    "slideshow": {
     "slide_type": "slide"
    }
   },
   "source": [
    "## Frobenius Norm\n",
    "\n",
    "$\\color{#EF5645}{\\text{Definition}}$: For a $m \\times n$ matrix $A$, we define the _matrix norm_ as:\n",
    "\n",
    "<center>\n",
    "$||A|| = \\sqrt{\\sum_{i=1}^m \\sum_{j=1}^n A_{ij}^2}.$</center>\n",
    "\n",
    "$\\color{#EF5645}{\\text{Remark}}$: This definition agrees with the definition of norm of vectors when $n=1$ or $m=1$.\n",
    "\n",
    "$\\color{#047C91}{\\text{Exercise}}$: Compute the matrix norm of $A = \\begin{vmatrix}\n",
    "1 & 0 & -1\\\\\n",
    "0 & 1 & 1 \\end{vmatrix}.$"
   ]
  },
  {
   "cell_type": "markdown",
   "id": "8d08602a",
   "metadata": {
    "slideshow": {
     "slide_type": "slide"
    }
   },
   "source": [
    "$\\color{#003660}{\\text{In Python}}$, we use `np.linalg.norm`."
   ]
  },
  {
   "cell_type": "code",
   "execution_count": 27,
   "id": "68d84652",
   "metadata": {},
   "outputs": [
    {
     "name": "stdout",
     "output_type": "stream",
     "text": [
      "2.0\n"
     ]
    }
   ],
   "source": [
    "import numpy as np\n",
    "\n",
    "A = np.array([\n",
    "    [1, 0, -1],\n",
    "    [0, 1, 1]\n",
    "])\n",
    "print(np.linalg.norm(A))"
   ]
  },
  {
   "cell_type": "markdown",
   "id": "4479fc3c",
   "metadata": {
    "slideshow": {
     "slide_type": "slide"
    }
   },
   "source": [
    "## Matrix-Vector Multiplication\n",
    "\n",
    "$\\color{#EF5645}{\\text{Definition}}$: Two $n$-vectors $a$ amd $b$ can be multiplied to give a new vector: \n",
    "$$a \\odot b = ( a_1b_1, . . . , a_nb_n).$$\n",
    "\n",
    "$\\color{#047C91}{\\text{Exercise}}$: Compute the hadamard product of $a = (1, 0, 2)$ and $b = (-1, 1, 2)$."
   ]
  },
  {
   "cell_type": "markdown",
   "id": "24a0b4da",
   "metadata": {
    "slideshow": {
     "slide_type": "slide"
    }
   },
   "source": [
    "### Outer-Product\n",
    "\n",
    "$\\color{#EF5645}{\\text{Definition}}$: Two $n$-vectors $a$ amd $b$ can be multiplied to give a new vector: \n",
    "$$a \\odot b = ( a_1b_1, . . . , a_nb_n).$$\n",
    "\n",
    "$\\color{#047C91}{\\text{Exercise}}$: Compute the hadamard product of $a = (1, 0, 2)$ and $b = (-1, 1, 2)$."
   ]
  },
  {
   "cell_type": "markdown",
   "id": "ed302478",
   "metadata": {
    "slideshow": {
     "slide_type": "slide"
    }
   },
   "source": [
    "## Matrix-Matrix Multiplication\n",
    "\n",
    "$\\color{#EF5645}{\\text{Definition}}$: Two $n$-vectors $a$ amd $b$ can be multiplied to give a new vector: \n",
    "$$a \\odot b = ( a_1b_1, . . . , a_nb_n).$$\n",
    "\n",
    "$\\color{#047C91}{\\text{Exercise}}$: Compute the hadamard product of $a = (1, 0, 2)$ and $b = (-1, 1, 2)$."
   ]
  },
  {
   "cell_type": "markdown",
   "id": "2ab25433",
   "metadata": {
    "slideshow": {
     "slide_type": "slide"
    }
   },
   "source": [
    "# Speicial Square Matrices"
   ]
  },
  {
   "cell_type": "markdown",
   "id": "df5f874a",
   "metadata": {
    "slideshow": {
     "slide_type": "slide"
    }
   },
   "source": [
    "### Diagonal Matrices\n",
    "\n",
    "$\\color{#EF5645}{\\text{Definition}}$: A _diagonal matrix_ $A$ is a square matrix with $A_{ij} = 0$ for $i \\neq j$.\n",
    "- diag$(a_1, ..., a_n)$ denotes the diagonal matrix with $A_{ii} = a_i$:\n",
    "$$\\text{diag}(0.2, -3, 1.2) = \\begin{vmatrix}\n",
    "0.2 & 0 & 0 \\\\\n",
    "0 & -3 & 0 \\\\\n",
    "0 & 0 & 1.2\n",
    "\\end{vmatrix}$$"
   ]
  },
  {
   "cell_type": "markdown",
   "id": "9cb635ec",
   "metadata": {
    "slideshow": {
     "slide_type": "slide"
    }
   },
   "source": [
    "$\\color{#003660}{\\text{In Python}}$, we use `np.diag` to create a diagonal matrix from a vector $a$."
   ]
  },
  {
   "cell_type": "code",
   "execution_count": 19,
   "id": "e1d66c89",
   "metadata": {
    "scrolled": false
   },
   "outputs": [
    {
     "data": {
      "text/plain": [
       "array([[2.2, 0. , 0. ],\n",
       "       [0. , 3.3, 0. ],\n",
       "       [0. , 0. , 4.4]])"
      ]
     },
     "execution_count": 19,
     "metadata": {},
     "output_type": "execute_result"
    }
   ],
   "source": [
    "np.diag(np.array([2.2, 3.3, 4.4]))"
   ]
  },
  {
   "cell_type": "markdown",
   "id": "323e6aee",
   "metadata": {
    "slideshow": {
     "slide_type": "slide"
    }
   },
   "source": [
    "## Triangular Matrices\n",
    "\n",
    "$\\color{#EF5645}{\\text{Definition}}$: A _diagonal matrix_ $A$ is a square matrix with $A_{ij} = 0$ for $i \\neq j$.\n",
    "- diag$(a_1, ..., a_n)$ denotes the diagonal matrix with $A_{ii} = a_i$:\n",
    "$$\\text{diag}(0.2, -3, 1.2) = \\begin{vmatrix}\n",
    "0.2 & 0 & 0 \\\\\n",
    "0 & -3 & 0 \\\\\n",
    "0 & 0 & 1.2\n",
    "\\end{vmatrix}$$"
   ]
  },
  {
   "cell_type": "markdown",
   "id": "21b08047",
   "metadata": {
    "slideshow": {
     "slide_type": "slide"
    }
   },
   "source": [
    "## Symmetric Matrices\n",
    "\n",
    "$\\color{#EF5645}{\\text{Definition}}$: A _diagonal matrix_ $A$ is a square matrix with $A_{ij} = 0$ for $i \\neq j$.\n",
    "- diag$(a_1, ..., a_n)$ denotes the diagonal matrix with $A_{ii} = a_i$:\n",
    "$$\\text{diag}(0.2, -3, 1.2) = \\begin{vmatrix}\n",
    "0.2 & 0 & 0 \\\\\n",
    "0 & -3 & 0 \\\\\n",
    "0 & 0 & 1.2\n",
    "\\end{vmatrix}$$"
   ]
  },
  {
   "cell_type": "markdown",
   "id": "41815fa6",
   "metadata": {
    "slideshow": {
     "slide_type": "slide"
    }
   },
   "source": [
    "## Orthogonal Matrices\n",
    "\n",
    "$\\color{#EF5645}{\\text{Definition}}$: A _diagonal matrix_ $A$ is a square matrix with $A_{ij} = 0$ for $i \\neq j$.\n",
    "- diag$(a_1, ..., a_n)$ denotes the diagonal matrix with $A_{ii} = a_i$:\n",
    "$$\\text{diag}(0.2, -3, 1.2) = \\begin{vmatrix}\n",
    "0.2 & 0 & 0 \\\\\n",
    "0 & -3 & 0 \\\\\n",
    "0 & 0 & 1.2\n",
    "\\end{vmatrix}$$"
   ]
  },
  {
   "cell_type": "code",
   "execution_count": null,
   "id": "0cf4212f",
   "metadata": {},
   "outputs": [],
   "source": []
  },
  {
   "cell_type": "code",
   "execution_count": null,
   "id": "f0db23f7",
   "metadata": {},
   "outputs": [],
   "source": []
  },
  {
   "cell_type": "markdown",
   "id": "684f0e11",
   "metadata": {
    "slideshow": {
     "slide_type": "slide"
    }
   },
   "source": [
    "### Orthonormal Expansion\n",
    "\n",
    "$\\color{#6D7D33}{\\text{Property}}$: If $a_1, . . . , a_n$ is an orthonormal basis of $\\mathbb{R}^n$, then:\n",
    "- Any $n$-vector $x$ can be written:\n",
    "$$x = (a^T_1 x)a_1 + · · · + (a^T_n x)a_n.$$\n",
    "\n",
    "$\\color{#EF5645}{\\text{Definition}}$: The formula above is called _orthonormal expansion of $x$_ in the orthonormal basis. "
   ]
  },
  {
   "cell_type": "code",
   "execution_count": null,
   "id": "8de72cf1",
   "metadata": {},
   "outputs": [],
   "source": []
  },
  {
   "cell_type": "markdown",
   "id": "d5fedd5b",
   "metadata": {},
   "source": [
    "<h1>Learn Python Pandas, Packages, and Modules</h1>\n",
    "\n",
    "\n",
    "<b>Web Resources</b>\n",
    "<br> <a href='https://docs.python.org/3/tutorial/modules.html#packages'>Docs.python.org - Packages</a>\n",
    "\n",
    "\n",
    "#### <b>What are Python Modules?</b>\n",
    "\n",
    "Modules are simply python files (.py) which contain python code. This code can define functions, classes, variables etc.\n",
    "\n",
    "\n",
    "#### <b>Why do we use Modules?</b>\n",
    "\n",
    "Modules allow us to organize our code by grouping related functionalities, which makes it easier to use and understand. Writing code into smaller, more manageable pieces will help you 1) debug easier, 2) create reusable code and 3) make the code more understandable to the end user.\n",
    "\n",
    "#### <b>How do we use Modules?</b>\n",
    "\n",
    "We can use the code in a module by using the <b>import</b> function. For example, let's say we created a .py file called 'Square.py'. Inside this file we defined a function called <b>calculateSquare</b>. \n",
    "```python\n",
    "def calculateSquare(x):\n",
    "    return x**2\n",
    "```\n",
    "We can use the <b>calculateSquare</b> function by using either of the following commands:\n",
    "\n",
    "```python\n",
    "import Square \n",
    "x = 2\n",
    "print(Square.calculateSquare(x))\n",
    "\n",
    "#Output: 4\n",
    "\n",
    "from Square import calculateSquare\n",
    "x = 2\n",
    "print(calculateSquare(x))\n",
    "\n",
    "#Output: 4\n",
    "\n",
    "from Square import * #The asterisk imports all functions in the module [not always best practice]\n",
    "x = 2\n",
    "print(calculateSquare(x))\n",
    "\n",
    "#Output: 4\n",
    "```\n",
    "\n",
    "#### <b>Where can I find more information on Modules?</b>\n",
    "\n",
    "[Official python documentation on modules](https://docs.python.org/3.7/tutorial/modules.html)\n",
    "\n",
    "<h1>Packages</h1>\n",
    "\n",
    "#### <b>What are Python Packages?</b>\n",
    "\n",
    "Python packages are an organized collection of related python modules in a single directory. \n",
    "\n",
    "#### <b>How do we use Packages?</b>\n",
    "\n",
    "Packages are used exactly like modules (see the Modules section above).\n",
    "\n",
    "#### <b>What are some common Packages?</b>\n",
    "\n",
    "Below are some of the most widely used modules in finance and data science for data analysis:\n",
    "- Pandas\n",
    "- Numpy\n",
    "- Scipy\n",
    "- Scikit-Learn\n",
    "\n",
    "Visualizations and dashboard creation:\n",
    "- Matplotlib\n",
    "- ipywidgets\n"
   ]
  },
  {
   "cell_type": "code",
   "execution_count": 8,
   "id": "4eff164f",
   "metadata": {},
   "outputs": [
    {
     "name": "stdout",
     "output_type": "stream",
     "text": [
      "[1, 2, 3, 1, 2, 3]\n"
     ]
    }
   ],
   "source": [
    "###IMPORT PANDAS AND NUMPY PACKAGES###\n",
    "import numpy as np\n",
    "\n",
    "###CREATING A SERIES###\n",
    "a = [1,2,3]\n",
    "b = [1,2,3]\n",
    "print(a + b)"
   ]
  },
  {
   "cell_type": "code",
   "execution_count": 13,
   "id": "4a698340",
   "metadata": {},
   "outputs": [
    {
     "data": {
      "text/html": [
       "<div>\n",
       "<style scoped>\n",
       "    .dataframe tbody tr th:only-of-type {\n",
       "        vertical-align: middle;\n",
       "    }\n",
       "\n",
       "    .dataframe tbody tr th {\n",
       "        vertical-align: top;\n",
       "    }\n",
       "\n",
       "    .dataframe thead th {\n",
       "        text-align: right;\n",
       "    }\n",
       "</style>\n",
       "<table border=\"1\" class=\"dataframe\">\n",
       "  <thead>\n",
       "    <tr style=\"text-align: right;\">\n",
       "      <th></th>\n",
       "      <th>A</th>\n",
       "      <th>B</th>\n",
       "      <th>C</th>\n",
       "    </tr>\n",
       "  </thead>\n",
       "  <tbody>\n",
       "    <tr>\n",
       "      <td>2013-01-01</td>\n",
       "      <td>0.169424</td>\n",
       "      <td>0.166691</td>\n",
       "      <td>-2.385720</td>\n",
       "    </tr>\n",
       "    <tr>\n",
       "      <td>2013-01-02</td>\n",
       "      <td>0.542676</td>\n",
       "      <td>0.978059</td>\n",
       "      <td>1.152731</td>\n",
       "    </tr>\n",
       "    <tr>\n",
       "      <td>2013-01-03</td>\n",
       "      <td>-0.547186</td>\n",
       "      <td>0.918728</td>\n",
       "      <td>2.226278</td>\n",
       "    </tr>\n",
       "    <tr>\n",
       "      <td>2013-01-04</td>\n",
       "      <td>1.033752</td>\n",
       "      <td>-0.712600</td>\n",
       "      <td>1.169230</td>\n",
       "    </tr>\n",
       "    <tr>\n",
       "      <td>2013-01-05</td>\n",
       "      <td>-0.534291</td>\n",
       "      <td>0.985898</td>\n",
       "      <td>-1.705124</td>\n",
       "    </tr>\n",
       "    <tr>\n",
       "      <td>2013-01-06</td>\n",
       "      <td>0.485850</td>\n",
       "      <td>0.085890</td>\n",
       "      <td>1.870669</td>\n",
       "    </tr>\n",
       "  </tbody>\n",
       "</table>\n",
       "</div>"
      ],
      "text/plain": [
       "                   A         B         C\n",
       "2013-01-01  0.169424  0.166691 -2.385720\n",
       "2013-01-02  0.542676  0.978059  1.152731\n",
       "2013-01-03 -0.547186  0.918728  2.226278\n",
       "2013-01-04  1.033752 -0.712600  1.169230\n",
       "2013-01-05 -0.534291  0.985898 -1.705124\n",
       "2013-01-06  0.485850  0.085890  1.870669"
      ]
     },
     "execution_count": 13,
     "metadata": {},
     "output_type": "execute_result"
    }
   ],
   "source": [
    "###CREATING A TIMESERIES BASED DATAFRAME###\n",
    "dates = pd.date_range('20130101', periods=6)\n",
    "df = pd.DataFrame(np.random.randn(6, 3), index=dates, columns=list('ABC'))\n",
    "df"
   ]
  },
  {
   "cell_type": "code",
   "execution_count": 14,
   "id": "e12d41aa",
   "metadata": {},
   "outputs": [
    {
     "data": {
      "text/plain": [
       "2013-01-01    0.169424\n",
       "2013-01-02    0.542676\n",
       "2013-01-03   -0.547186\n",
       "2013-01-04    1.033752\n",
       "2013-01-05   -0.534291\n",
       "2013-01-06    0.485850\n",
       "Freq: D, Name: A, dtype: float64"
      ]
     },
     "execution_count": 14,
     "metadata": {},
     "output_type": "execute_result"
    }
   ],
   "source": [
    "###GET DATA FOR A SINGLE COLUMN###\n",
    "df['A']"
   ]
  },
  {
   "cell_type": "code",
   "execution_count": 15,
   "id": "827466c7",
   "metadata": {},
   "outputs": [
    {
     "data": {
      "text/html": [
       "<div>\n",
       "<style scoped>\n",
       "    .dataframe tbody tr th:only-of-type {\n",
       "        vertical-align: middle;\n",
       "    }\n",
       "\n",
       "    .dataframe tbody tr th {\n",
       "        vertical-align: top;\n",
       "    }\n",
       "\n",
       "    .dataframe thead th {\n",
       "        text-align: right;\n",
       "    }\n",
       "</style>\n",
       "<table border=\"1\" class=\"dataframe\">\n",
       "  <thead>\n",
       "    <tr style=\"text-align: right;\">\n",
       "      <th></th>\n",
       "      <th>A</th>\n",
       "      <th>B</th>\n",
       "      <th>C</th>\n",
       "    </tr>\n",
       "  </thead>\n",
       "  <tbody>\n",
       "    <tr>\n",
       "      <td>count</td>\n",
       "      <td>6.000000</td>\n",
       "      <td>6.000000</td>\n",
       "      <td>6.000000</td>\n",
       "    </tr>\n",
       "    <tr>\n",
       "      <td>mean</td>\n",
       "      <td>0.191704</td>\n",
       "      <td>0.403778</td>\n",
       "      <td>0.388011</td>\n",
       "    </tr>\n",
       "    <tr>\n",
       "      <td>std</td>\n",
       "      <td>0.631232</td>\n",
       "      <td>0.683725</td>\n",
       "      <td>1.941515</td>\n",
       "    </tr>\n",
       "    <tr>\n",
       "      <td>min</td>\n",
       "      <td>-0.547186</td>\n",
       "      <td>-0.712600</td>\n",
       "      <td>-2.385720</td>\n",
       "    </tr>\n",
       "    <tr>\n",
       "      <td>25%</td>\n",
       "      <td>-0.358362</td>\n",
       "      <td>0.106090</td>\n",
       "      <td>-0.990660</td>\n",
       "    </tr>\n",
       "    <tr>\n",
       "      <td>50%</td>\n",
       "      <td>0.327637</td>\n",
       "      <td>0.542709</td>\n",
       "      <td>1.160980</td>\n",
       "    </tr>\n",
       "    <tr>\n",
       "      <td>75%</td>\n",
       "      <td>0.528469</td>\n",
       "      <td>0.963226</td>\n",
       "      <td>1.695309</td>\n",
       "    </tr>\n",
       "    <tr>\n",
       "      <td>max</td>\n",
       "      <td>1.033752</td>\n",
       "      <td>0.985898</td>\n",
       "      <td>2.226278</td>\n",
       "    </tr>\n",
       "  </tbody>\n",
       "</table>\n",
       "</div>"
      ],
      "text/plain": [
       "              A         B         C\n",
       "count  6.000000  6.000000  6.000000\n",
       "mean   0.191704  0.403778  0.388011\n",
       "std    0.631232  0.683725  1.941515\n",
       "min   -0.547186 -0.712600 -2.385720\n",
       "25%   -0.358362  0.106090 -0.990660\n",
       "50%    0.327637  0.542709  1.160980\n",
       "75%    0.528469  0.963226  1.695309\n",
       "max    1.033752  0.985898  2.226278"
      ]
     },
     "execution_count": 15,
     "metadata": {},
     "output_type": "execute_result"
    }
   ],
   "source": [
    "###CALCULATE SUMMARY STATISTICS###\n",
    "df.describe()"
   ]
  },
  {
   "cell_type": "code",
   "execution_count": 16,
   "id": "912fbbe9",
   "metadata": {},
   "outputs": [
    {
     "data": {
      "text/plain": [
       "(6, 3)"
      ]
     },
     "execution_count": 16,
     "metadata": {},
     "output_type": "execute_result"
    }
   ],
   "source": [
    "###GET THE NUMBER OF ROWS AND COLUMNS###\n",
    "df.shape"
   ]
  },
  {
   "cell_type": "code",
   "execution_count": 17,
   "id": "24811726",
   "metadata": {},
   "outputs": [
    {
     "data": {
      "text/plain": [
       "6"
      ]
     },
     "execution_count": 17,
     "metadata": {},
     "output_type": "execute_result"
    }
   ],
   "source": [
    "###GET THE NUMBER OF ROWS ONLY###\n",
    "len(df)"
   ]
  },
  {
   "cell_type": "code",
   "execution_count": 18,
   "id": "d8e38f63",
   "metadata": {},
   "outputs": [
    {
     "data": {
      "text/plain": [
       "<matplotlib.axes._subplots.AxesSubplot at 0x11efd5990>"
      ]
     },
     "execution_count": 18,
     "metadata": {},
     "output_type": "execute_result"
    },
    {
     "data": {
      "image/png": "[encoded data removed]",
      "text/plain": [
       "<Figure size 432x288 with 1 Axes>"
      ]
     },
     "metadata": {
      "needs_background": "light"
     },
     "output_type": "display_data"
    }
   ],
   "source": [
    "###PLOT THE DATAFRAME###\n",
    "%matplotlib inline\n",
    "df.plot()"
   ]
  },
  {
   "cell_type": "markdown",
   "id": "b7237c09",
   "metadata": {},
   "source": [
    "# Learn Python File I/O\n",
    "\n",
    "\n",
    "<b>Web Resources</b>\n",
    "<br> <a href='https://docs.python.org/3/tutorial/inputoutput.html#reading-and-writing-files'>Docs.python.org - Reading and Writing Files</a>\n",
    "\n",
    "\n",
    "#### <b>What is I/O?</b>\n",
    "\n",
    "I/O, or input/output, is communication between a computer and the outside world.\n",
    "\n",
    "Inputs are signals received by the computer. The computer can get inputs from hardware like a keyboard and mouse or from other computers via the internet. Outputs are signals sent by the computer. Your monitor is probably the most obvious output device. An internet modem is an example of a device that both receives inputs (web-pages loading on your browser) and sends outputs (outbound emails).\n",
    "\n",
    "     \n",
    "#### <b>Why do we use I/O?</b>\n",
    "\n",
    "You can always define data directly in your python code:\n",
    "\n",
    "```python\n",
    "example_data = [1, 2, 3, 4, 5]\n",
    "answer = function(example_data)\n",
    "```\n"
   ]
  },
  {
   "cell_type": "markdown",
   "id": "26d2bd59",
   "metadata": {},
   "source": [
    "This is a great way to test functionality but isn't sustainable in the long term. It would be much easier if we could read in data from a file or API as well as write data down to files. This saves us having to manually define data and scales our solutions to handle arbitrary datasets.\n",
    "\n",
    "## Files\n",
    "\n",
    "Common file types you likely interact with are CSV and Excel files. The pandas library has a number of convenience functions for reading data from these files and converting them directly into dataframes."
   ]
  },
  {
   "cell_type": "markdown",
   "id": "20730d2e",
   "metadata": {},
   "source": [
    "```python\n",
    "import pandas as pd\n",
    "\n",
    "csv_dataframe = pd.read_csv('csv_file.csv')\n",
    "excel_dataframe = pd.read_excel('excel_file.xlsx')\n",
    "```"
   ]
  },
  {
   "cell_type": "markdown",
   "id": "458a6eef",
   "metadata": {},
   "source": [
    "Each method accepts the path of the data file as an argument. File paths without a `/` indicate that the data file is in the same directory as the notebook we're writing our code in. If we want to read from a file inside a folder, then we'll need to update the file path, e.g. `folder/csv_file.csv`.\n",
    "\n",
    "Both methods accept a number of different optional parameters for defining more precisely how you want them to read the data. Visit the [I/O section](https://pandas.pydata.org/docs/reference/io.html) of the online pandas documentation to learn more about these functions.\n",
    "\n",
    "We can use the `%pwd` [Jupyter magic command](https://ipython.readthedocs.io/en/stable/interactive/magics.html) to find the local directory. Running the following code snippet in a project cell will print the path of your local directory:\n",
    "\n",
    "```python\n",
    "x = %pwd\n",
    "print(x)\n",
    "```\n",
    "\n",
    "### Resources\n",
    "Python has a rich library of packages and functions for dealing with files. [This online tutorial](https://www.programiz.com/python-programming/file-operation) explains in more detail how to use python to deal with File I/O (input and output).\n",
    "\n",
    "### File IO Examples\n",
    "\n",
    "1. You're writing some code inside `notebook.ipynb` and want to read the data from `bonds.csv` which is inside the `data` folder (see below). What file path do you need to specify to read the data into a dataframe: `pd.read_csv(...)`?\n",
    "\n",
    "```\n",
    "notebook.ipynb\n",
    "data/\n",
    "└── bonds.csv\n",
    "```\n",
    "`pd.read_csv('data/bonds.csv')`\n",
    "\n",
    "2. You have a CSV with 3 blank rows at the top of the file. What parameter do you need to pass to the `read_csv` function to ignore these blank rows when reading in the data?\n",
    "\n",
    "`skiprows=3`\n",
    "\n",
    "3. A colleague has sent you some tabular data in a [JSON file](https://www.w3schools.com/js/js_json_intro.asp) that you've moved into the same folder as your notebook. You can use pandas to read this data into a dataframe:\n",
    "\n",
    "`pd.read_json`"
   ]
  },
  {
   "cell_type": "code",
   "execution_count": 19,
   "id": "ad2836fb",
   "metadata": {
    "scrolled": true
   },
   "outputs": [
    {
     "data": {
      "text/html": [
       "<div>\n",
       "<style scoped>\n",
       "    .dataframe tbody tr th:only-of-type {\n",
       "        vertical-align: middle;\n",
       "    }\n",
       "\n",
       "    .dataframe tbody tr th {\n",
       "        vertical-align: top;\n",
       "    }\n",
       "\n",
       "    .dataframe thead th {\n",
       "        text-align: right;\n",
       "    }\n",
       "</style>\n",
       "<table border=\"1\" class=\"dataframe\">\n",
       "  <thead>\n",
       "    <tr style=\"text-align: right;\">\n",
       "      <th></th>\n",
       "      <th>X</th>\n",
       "      <th>Y</th>\n",
       "      <th>Z</th>\n",
       "    </tr>\n",
       "  </thead>\n",
       "  <tbody>\n",
       "    <tr>\n",
       "      <td>2013-01-01</td>\n",
       "      <td>0.169424</td>\n",
       "      <td>0.166691</td>\n",
       "      <td>-2.385720</td>\n",
       "    </tr>\n",
       "    <tr>\n",
       "      <td>2013-01-02</td>\n",
       "      <td>0.542676</td>\n",
       "      <td>0.978059</td>\n",
       "      <td>1.152731</td>\n",
       "    </tr>\n",
       "    <tr>\n",
       "      <td>2013-01-03</td>\n",
       "      <td>-0.547186</td>\n",
       "      <td>0.918728</td>\n",
       "      <td>2.226278</td>\n",
       "    </tr>\n",
       "    <tr>\n",
       "      <td>2013-01-04</td>\n",
       "      <td>1.033752</td>\n",
       "      <td>-0.712600</td>\n",
       "      <td>1.169230</td>\n",
       "    </tr>\n",
       "    <tr>\n",
       "      <td>2013-01-05</td>\n",
       "      <td>-0.534291</td>\n",
       "      <td>0.985898</td>\n",
       "      <td>-1.705124</td>\n",
       "    </tr>\n",
       "    <tr>\n",
       "      <td>2013-01-06</td>\n",
       "      <td>0.485850</td>\n",
       "      <td>0.085890</td>\n",
       "      <td>1.870669</td>\n",
       "    </tr>\n",
       "  </tbody>\n",
       "</table>\n",
       "</div>"
      ],
      "text/plain": [
       "                   X         Y         Z\n",
       "2013-01-01  0.169424  0.166691 -2.385720\n",
       "2013-01-02  0.542676  0.978059  1.152731\n",
       "2013-01-03 -0.547186  0.918728  2.226278\n",
       "2013-01-04  1.033752 -0.712600  1.169230\n",
       "2013-01-05 -0.534291  0.985898 -1.705124\n",
       "2013-01-06  0.485850  0.085890  1.870669"
      ]
     },
     "execution_count": 19,
     "metadata": {},
     "output_type": "execute_result"
    }
   ],
   "source": [
    "###RENAME COLUMNS###\n",
    "df = df.rename(columns={\"A\":\"X\",\"B\":\"Y\",\"C\":\"Z\"})\n",
    "df"
   ]
  },
  {
   "cell_type": "markdown",
   "id": "63fbb75e",
   "metadata": {
    "slideshow": {
     "slide_type": "slide"
    }
   },
   "source": [
    "### Math operations as matrices\n",
    "$\\color{#047C91}{\\text{Example}}$: The $(n-1) \\times n$ difference matrix:\n",
    "$$D = \\begin{vmatrix}\n",
    "-1 & 1  & 0 & ... & 0 & 0 \\\\\n",
    "0  & -1 & 1 & ... & 0 & 0 \\\\\n",
    "   &    &   &     &   &   \\\\\n",
    "0  & 0  & 0 & ... & -1 & 1\n",
    "\\end{vmatrix}$$\n",
    "gives the $(n-1)$ vector of differences:\n",
    "$Dx = \\begin{vmatrix}\n",
    "x_2 - x_1 \\\\\n",
    "x_3 - x_2 \\\\\n",
    "\\vdots \\\\\n",
    "x_n - x_{n-1}\n",
    "\\end{vmatrix}\n",
    "$"
   ]
  },
  {
   "cell_type": "markdown",
   "id": "5945a842",
   "metadata": {
    "slideshow": {
     "slide_type": "slide"
    }
   },
   "source": [
    "$\\color{#003660}{\\text{In Python}}$, let be given a vector listing the days at which earthquakes have happened in California. Compute the vector giving the number of days in-between earthquakes."
   ]
  },
  {
   "cell_type": "code",
   "execution_count": null,
   "id": "97594d36",
   "metadata": {},
   "outputs": [],
   "source": [
    "earthquake_days = np.array([12, 44, 78])\n",
    "D = np.array([\n",
    "    [-1, 1, 0],\n",
    "    [0, -1, 1]\n",
    "])\n",
    "\n",
    "print(D @ earthquake_days)\n",
    "print(45 - 12)\n",
    "print(78 - 45)"
   ]
  },
  {
   "cell_type": "code",
   "execution_count": 1,
   "id": "4d0cbf53",
   "metadata": {
    "slideshow": {
     "slide_type": "notes"
    }
   },
   "outputs": [],
   "source": [
    "# Remove below because they haven't see matrix-vector mult yet"
   ]
  },
  {
   "cell_type": "markdown",
   "id": "f3a3c1df",
   "metadata": {
    "slideshow": {
     "slide_type": "slide"
    }
   },
   "source": [
    "### Geometric transformations as matrices"
   ]
  },
  {
   "cell_type": "markdown",
   "id": "654a783c",
   "metadata": {
    "cell_style": "split"
   },
   "source": [
    "Geometric transformations can be represented as matrices. They transform vectors $x$ through: $y = Ax$.\n",
    "\n",
    "$\\color{#047C91}{\\text{Example}}$: Rotation by $\\theta$:\n",
    "$$R_\\theta = \\begin{vmatrix}\n",
    "\\cos(\\theta) & -\\sin(\\theta) \\\\\n",
    "\\sin(\\theta) & \\cos(\\theta)\\end{vmatrix}, \\quad y = R_\\theta x$$\n"
   ]
  },
  {
   "cell_type": "markdown",
   "id": "66c717ae",
   "metadata": {
    "cell_style": "split"
   },
   "source": [
    "<center><img src=\"figs/06_rotmat.png\" alt=\"default\"/></center>"
   ]
  },
  {
   "cell_type": "code",
   "execution_count": null,
   "id": "46e07652",
   "metadata": {},
   "outputs": [],
   "source": [
    "import matplotlib.pyplot as plt\n",
    "x = np.array([1, 1])\n",
    "plt.arrow(0, 0, x[0], x[1], width=0.01, color=\"blue\")\n",
    "theta = np.pi / 6\n",
    "R = np.array([\n",
    "    [np.cos(theta), - np.sin(theta)], \n",
    "    [np.sin(theta), np.cos(theta)]])\n",
    "y = R @ x; \n",
    "plt.arrow(0, 0, y[0], y[1], width=0.01, color=\"red\"); \n",
    "plt.axis(\"equal\");"
   ]
  },
  {
   "cell_type": "markdown",
   "id": "7495e748",
   "metadata": {
    "slideshow": {
     "slide_type": "slide"
    }
   },
   "source": [
    "### (Social) graphs as matrices"
   ]
  },
  {
   "cell_type": "markdown",
   "id": "6cd79b19",
   "metadata": {
    "cell_style": "split"
   },
   "source": [
    "Any (social network) graph with $n$ nodes can be represented by $n \\times n$ matrix $A$, called adjacency matrix and defined as\n",
    "\n",
    "$A_{ij} = \\begin{vmatrix}\n",
    "    1 \\quad \\text{if $i$ goes to $j$}\\\\\n",
    "    0 \\quad \\text{otherwise}\n",
    "\\end{vmatrix}.$"
   ]
  },
  {
   "cell_type": "markdown",
   "id": "0eecbc68",
   "metadata": {
    "cell_style": "split"
   },
   "source": [
    "<center><img src=\"figs/06_graph.png\" alt=\"default\" width=350px /></center>"
   ]
  },
  {
   "cell_type": "markdown",
   "id": "c1962504",
   "metadata": {
    "slideshow": {
     "slide_type": "slide"
    }
   },
   "source": [
    "### Block matrices\n",
    "\n",
    "$\\color{#EF5645}{\\text{Definition}}$: A matrix $A$ composed from other matrices is called a _block matrix_:\n",
    "$$A = \\begin{vmatrix}\n",
    "B & C  \\\\\n",
    "D & E\n",
    "\\end{vmatrix}$$\n",
    "where $B, C, D, E$ are called _submatrices_ or _blocks_ of $A$."
   ]
  }
 ],
 "metadata": {
  "celltoolbar": "Slideshow",
  "kernelspec": {
   "display_name": "Python 3",
   "language": "python",
   "name": "python3"
  },
  "language_info": {
   "codemirror_mode": {
    "name": "ipython",
    "version": 3
   },
   "file_extension": ".py",
   "mimetype": "text/x-python",
   "name": "python",
   "nbconvert_exporter": "python",
   "pygments_lexer": "ipython3",
   "version": "3.7.1"
  }
 },
 "nbformat": 4,
 "nbformat_minor": 5
}
