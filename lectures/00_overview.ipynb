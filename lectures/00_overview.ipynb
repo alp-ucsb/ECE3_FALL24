{
 "cells": [
  {
   "cell_type": "markdown",
   "metadata": {
    "slideshow": {
     "slide_type": "slide"
    }
   },
   "source": [
    "##### Welcome to ECE 3\n",
    "\n",
    "### Python Programming for Science & Engineering\n",
    "\n",
    "$\\color{#003660}{\\text{Y. Alp Aslandogan, PhD - Instructor}}$ \n",
    "\n"
   ]
  },
 
  {
   "cell_type": "markdown",
   "metadata": {
    "slideshow": {
     "slide_type": "slide"
    }
   },
   "source": [
    "# Outline: Welcome\n",
    "\n",
    "- **Syllabus for ECE 3**\n",
    "\n",
    "- Python Programming for Science and Engineering\n",
    "    - Why learn Python?\n",
    "    - IEEE Survey of its members.\n",
    "\n",
    "<center><img src=\"figs/00_signal_processing.jpeg\" width=600px alt=\"default\"/></center>"
   ]
  },
  {
   "cell_type": "markdown",
   "metadata": {
    "slideshow": {
     "slide_type": "notes"
    }
   },
   "source": [
    "<a id='sec-syllabus'></a>"
   ]
  },
  {
   "cell_type": "markdown",
   "metadata": {
    "slideshow": {
     "slide_type": "slide"
    }
   },
   "source": [
    "# Syllabus\n",
    "\n",
    "The course ECE 3 is organized into 4 units.\n",
    "\n",
    "- Unit 01: Welcome to Python\n",
    "- Unit 02: Computing with Data in Python\n",
    "- Unit 03: Summarizing Data in Python\n",
    "- Unit 04: Predicting from Data with Machine Learning in Python\n",
    "\n",
    "<center><img src=\"figs/00_signal_processing.jpeg\" width=600px alt=\"default\"/></center>"
   ]
  },
  {
   "cell_type": "markdown",
   "metadata": {
    "slideshow": {
     "slide_type": "slide"
    }
   },
   "source": [
    "# Instructor"
   ]
  },
  {
   "cell_type": "markdown",
   "metadata": {
    "cell_style": "center"
   },
   "source": [
    "<center>\n",
    "    Y. Alp Aslandogan PhD, \n",
    "</center>"
   ]
  },
  {
   "cell_type": "markdown",
   "metadata": {},
   "source": [
    "$\\color{#047C91}{\\text{Office Hours}}$: OH: Tuesdays 12:30-1:30 PM at Room 109, Trailer 380 or via Zoom:[Zoom room](https://us04web.zoom.us/j/2485240757?pwd=zWKOxQsUmDW39uhJLUwOFgUOUwl4y9.1)."
   ]
  },
  {
   "cell_type": "markdown",
   "metadata": {
    "slideshow": {
     "slide_type": "slide"
    }
   },
   "source": [
    "# Teaching Assistants"
   ]
  },
  {
   "cell_type": "markdown",
   "metadata": {
    "cell_style": "center"
   },
   "source": [
    "$\\color{#047C91}{\\text{Office Hours}}$: in ECE TA Offices in Trailer 699, Room 103:\n",
    "- Arghavan Zibaie. OH: TBA \n",
    "- Utso Majumder OH: TBA \n",
    "- Pushpita Joardar. OH: TBA \n",
    "- Karthik Somayaji. OH: TBA \n",
    "- Oindrilla Chatterjee. OH: TBA \n",
    "- Aaditya Prakash Kattekola. OH: TBA"
   ]
  },
  {
   "cell_type": "markdown",
   "metadata": {
    "slideshow": {
     "slide_type": "slide"
    }
   },
   "source": [
    "# Classes and Labs"
   ]
  },
  {
   "cell_type": "markdown",
   "metadata": {
    "cell_style": "center",
    "slideshow": {
     "slide_type": "-"
    }
   },
   "source": [
    "$\\color{#EF5645}{\\text{Classes}}$: in ILP 1101, MW 3:30 PM - 4:45 PM\n",
    "\n",
    "$\\color{#EF5645}{\\text{Labs}}$: in ESB 1003 \n",
    "- Mo    5:00 – 6:50 PM   TBA\n",
    "- Tu    5:00 – 6:50 PM   TBA\n",
    "- Tu    7:00 – 8:50 PM   TBA\n",
    "- Th    5:00 – 6:50 PM   TBA\n",
    "- Th    7:00 – 8:50 PM   TBA\t"
   ]
  },
  {
   "cell_type": "markdown",
   "metadata": {
    "slideshow": {
     "slide_type": "slide"
    }
   },
   "source": [
    "$\\color{#EF5645}{\\text{Remarks}}$: \n",
    "- You are required to attend all the lectures, labs and the exam.\n",
    "- Do not enroll in other courses whose schedule is conflicting with ECE 3. \n",
    "- If you cannot attend all lectures, labs and the exam, please drop this class."
   ]
  },
  {
   "cell_type": "markdown",
   "metadata": {
    "slideshow": {
     "slide_type": "slide"
    }
   },
   "source": [
    "# Textbooks\n",
    "\n",
    "The class goes over concepts from the textbooks:\n",
    "- Unit 01: [Think Python](https://greenteapress.com/wp/think-python-2e/) by Downey. (freely available online)\n",
    "- Unit 01: [Introduction to Python Programming and Data Structures](https://www.pearson.com/en-us/subject-catalog/p/introduction-to-python-programming-and-data-structures/P200000003438/9780137915972) by Daniel Liang. (Purchase not required. Slides will be posted Canvas)\n",
    "- Unit 02-03: [Introduction to Applied Linear Algebra](https://web.stanford.edu/~boyd/vmls/vmls.pdf), by Boyd & Vandenberghe.\n",
    "- Unit 04: [Introduction to Statistical Learning](https://www.statlearning.com/) by James, Witten, Hastie, Tibshirani, Taylor.\n",
    "\n",
    "$\\color{#EF5645}{\\text{Remarks}}$:\n",
    "- The textbooks (except for Liang) are freely available online. \n",
    "- We will not cover all topics in the books. \n",
    "- We will not cover all topics in the books. \n",
    "- Feel free to use other books as reference."
   ]
  },
  {
   "cell_type": "markdown",
   "metadata": {
    "slideshow": {
     "slide_type": "slide"
    }
   },
   "source": [
    "# GitHub\n",
    "\n",
    "The slides of the lectures and the labs are on GitHub:\n",
    "\n",
    "https://github.com/alp1991/ECE3_FALL24\n",
    "\n",
    "The Python content from the slides can be run from this website."
   ]
  },
  {
   "cell_type": "markdown",
   "metadata": {
    "slideshow": {
     "slide_type": "slide"
    }
   },
   "source": [
    "$\\color{#EF5645}{\\text{Quick Survey to get to know you:}}$\n",
    "\n",
    "- Are you a: \n",
    "    - 1st year, 2nd year, 3rd year undergraduate student? Master student?\n",
    "- How comfortable are you with pre-calculus: \n",
    "    - Very comfortable, normally comfortable, terrorised?\n",
    "- What is your programming experience: \n",
    "    - Comfortable in Python, Comfortable in another language, Beginner, No experience?"
   ]
  },
  {
   "cell_type": "markdown",
   "metadata": {
    "slideshow": {
     "slide_type": "slide"
    }
   },
   "source": [
    "# Grading\n",
    "\n",
    "- **Lab Assignments (Homework) 50%**\n",
    "    - Posted on Th. by 11:59 PM PST. Due next Th. by 11: 59 PM PST. \n",
    "    - No late HW. \n",
    "- **Exams: 45%**\n",
    "    - Midterm Exam: TBA.\n",
    "    - Final Exam: TBA.\n",
    "    - No make-up exam except for university approved, documented emergencies.\n",
    "- **Constructive Participation: 5%**\n",
    "    - Asking and answering questions, in class, labs and on Canvas.\n",
    "- **Datacamp Extra credit: up to +15% total**\n",
    "    - Additional assignments on Datacamp (up to +10%).\n",
    "    - Send feedback about the class during the quarter (up to +5%).\n",
    "\n"
   ]
  },
  {
   "cell_type": "markdown",
   "metadata": {
    "slideshow": {
     "slide_type": "slide"
    }
   },
   "source": [
    "# Datacamp \n",
    "\n",
    "Use these Datacamp courses to improve your hands-on Python experience.\n",
    "\n",
    "<img src=\"figs/00_datacamp.png\" width=1000px alt=\"default\"/>\n",
    "\n",
    "(SUBJECT TO VERIFICATION:) Use [this link](https://www.datacamp.com/groups/shared_links/13783fd5e7e02a5f3e1185233e44c3aede98a661aa929e57ad42ea907157b856) to join Datacamp and use your `@ucsb.edu` address."
   ]
  },
  {
   "cell_type": "markdown",
   "metadata": {
    "slideshow": {
     "slide_type": "slide"
    }
   },
   "source": [
    "# Lab Assignments (Homework)\n",
    "\n",
    "We will use:\n",
    "- Python version 3.9 or higher as our programming language,\n",
    "- Jupyter notebooks to run Python interactively in a web browser.\n",
    "\n",
    "You should download Anaconda which will install everything you need to run Python 3.9+ and Jupyter notebooks:\n",
    "- Anaconda: https://www.anaconda.com/download\n",
    "\n",
    "The TAs will demo the setup process in the lab sessions."
   ]
  },
  {
   "cell_type": "markdown",
   "metadata": {
    "slideshow": {
     "slide_type": "slide"
    }
   },
   "source": [
    "# Read the Syllabus\n",
    "\n",
    "- More details in the Syllabus.\n",
    "- If, after (1) reading carefully the syllabus and the slides, and (2) having talked to your classmates, \n",
    "you still have doubts on how the course is structured and/or how the grading is performed, contact the instructor."
   ]
  },
  {
   "cell_type": "markdown",
   "metadata": {
    "slideshow": {
     "slide_type": "notes"
    }
   },
   "source": [
    "<a id='sec-ece'></a>"
   ]
  },
  {
   "cell_type": "markdown",
   "metadata": {
    "slideshow": {
     "slide_type": "slide"
    }
   },
   "source": [
    "# Outline: Welcome\n",
    "\n",
    "- Syllabus for ECE 3\n",
    "\n",
    "- **Python Programming for Science and Engineering**\n",
    "    - **Why learn Python?**\n",
    "    - IEEE Survey of its members.\n",
    "\n",
   ]
  },
  {
   "cell_type": "markdown",
   "metadata": {
    "cell_style": "center",
    "slideshow": {
     "slide_type": "slide"
    }
   },
   "source": [
    "# What is Python?\n",
    "\n",
    "Python is a _programming language_ used for general-purpose software engineering.\n",
    "\n",
    "Python was initially developed in the late 1980’s by Guido Van Rossum.\n",
    "\n",
    "Van Rossum modeled Python after the English language to make it easier to read and write than other programming languages like C.\n",
    "\n",
    "Python has increased in popularity due to the rise of machine learning and artificial intelligence (AI). "
   ]
  },
  {
   "cell_type": "markdown",
   "metadata": {
    "slideshow": {
     "slide_type": "slide"
    }
   },
   "source": [
    "**Fun fact:** Python is named after a British comedy group.\n",
    "\n",
    "When he began implementing Python, Guido van Rossum was also reading the published scripts from “Monty Python's Flying Circus”, a BBC comedy series from the 1970s. Van Rossum thought he needed a name that was short, unique, and slightly mysterious, so he decided to call the language Python.\n",
    "\n",
    "<center><img src=\"figs/00_montypython.gif\" width=600px alt=\"default\"/> The Knights Who Say \"Ni\". From Monty Python and the Holy Grail.</center>"
   ]
  },
  {
   "cell_type": "markdown",
   "metadata": {
    "cell_style": "center",
    "slideshow": {
     "slide_type": "slide"
    }
   },
   "source": [
    "# Why learn Python?\n",
    "\n",
    "- Python is extremely versatile, with multiple uses\n",
    "- Python is the fastest growing programming language\n",
    "- Python is in (very) high demand for jobs\n",
    "- Python is easy to read, write, and learn\n",
    "- Python has an incredibly supportive community"
   ]
  },
  {
   "cell_type": "markdown",
   "metadata": {
    "slideshow": {
     "slide_type": "slide"
    }
   },
   "source": [
    "# Python Programmers\n",
    "\n",
    "- Create the smart power grid to help manage energy distribution (wind, solar, etc) to the country\n",
    "- Implement communication systems to help doctors perform surgery with smarter robots\n",
    "- Enhance image processing and make better instruments to help diagnose and treat diseases\n",
    "- Design software to help speed up networks and processors that run your smartphone and other electronics\n",
    "- Work with digital forensics to help police and the FBI track and catch cyber criminals"
   ]
  },
  {
   "cell_type": "markdown",
   "metadata": {
    "slideshow": {
     "slide_type": "slide"
    }
   },
   "source": [
    "# Job Market for Python Programming\n",
    "\n",
    "- One of the fastest growing career fields in the US\n",
    "- Pays well: starting salaries at 100k$\\$$ - 160k$\\$$, salaries up to 300k$\\$$ after 3 years.\n",
    "- Can be applied to different fields!\n",
    "- Good knowledge foundation to start a company."
   ]
  },
  {
   "cell_type": "markdown",
   "metadata": {
    "slideshow": {
     "slide_type": "slide"
    }
   },
   "source": [
    "# Outline: Welcome\n",
    "\n",
    "- Syllabus for ECE 3\n",
    "\n",
    "- **Python Programming for Science and Engineering**\n",
    "    - Why learn Python?\n",
    "    - **Python is the most popular programming language among IEEE members. Why?**\n",
    "\n",
    "<center><img src=\"figs/00_signal_processing.jpeg\" width=600px alt=\"default\"/></center>"
   ]
  },
  
  {
   "cell_type": "markdown",
   "metadata": {},
   "source": [
    "<center><img src=\"figs/ieee-survey-2018.jpg\" width=600px alt=\"default\"/></center>"
    "\n",
    "Python is the most popular programming language among IEEE members. Why?\n",
    "- Source: https://www.eetimes.com/ieee-survey-ranks-programming-languages/"
   ]
  },
  
  {
   "cell_type": "markdown",
   "metadata": {
    "slideshow": {
     "slide_type": "slide"
    }
   },
   "source": [
    "# Questions?\n",
    "\n",
    "- Syllabus for ECE 3\n",
    "\n",
    "- Python Programming for Science and Engineering\n",
    "    - Why learn Python?\n",
    "    - Python Programming for Medicine: Example of Medical Diagnosis\n",
    "\n",
    "<center><img src=\"figs/00_signal_processing.jpeg\" width=600px alt=\"default\"/></center>"
   ]
  }
 ],
 "metadata": {
  "celltoolbar": "Slideshow",
  "kernelspec": {
   "display_name": "Python 3 (ipykernel)",
   "language": "python",
   "name": "python3"
  },
  "language_info": {
   "codemirror_mode": {
    "name": "ipython",
    "version": 3
   },
   "file_extension": ".py",
   "mimetype": "text/x-python",
   "name": "python",
   "nbconvert_exporter": "python",
   "pygments_lexer": "ipython3",
   "version": "3.9.9"
  }
 },
 "nbformat": 4,
 "nbformat_minor": 2
}
