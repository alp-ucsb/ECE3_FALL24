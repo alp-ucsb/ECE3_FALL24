{
 "cells": [
  {
   "cell_type": "markdown",
   "id": "6fb4123c",
   "metadata": {
    "slideshow": {
     "slide_type": "slide"
    }
   },
   "source": [
    "# 10 Matrix Inverse"
   ]
  },
  {
   "cell_type": "markdown",
   "id": "259ee929",
   "metadata": {
    "cell_style": "split"
   },
   "source": [
    "<img src=\"figs/07_winds.png\" alt=\"Drawing\" width=450px/>"
   ]
  },
  {
   "cell_type": "markdown",
   "id": "8af6fc14",
   "metadata": {
    "cell_style": "split"
   },
   "source": [
    "<img src=\"figs/10_poly.png\" alt=\"Drawing\" width=450px/>"
   ]
  },
  {
   "cell_type": "markdown",
   "id": "a96579c1",
   "metadata": {
    "slideshow": {
     "slide_type": "slide"
    }
   },
   "source": [
    "### Why Do We Need Matrix Inverses?\n",
    "\n",
    "- Because with matrices we do not divide! There is no concept of dividing by a matrix. But we can multiply by the inverse of a matrix, which achieves the same thing.\n",
    "\n",
    "- In this class, we will use matrix inverses to solve our linear equations."
   ]
  },
  {
   "cell_type": "markdown",
   "id": "0841548c",
   "metadata": {
    "slideshow": {
     "slide_type": "slide"
    }
   },
   "source": [
    "#### Unit 1: Vectors, Textbook Ch. 1-5\n",
    "\n",
    "#### Unit 2: Matrices, Textbook Ch. 6-11\n",
    "- 06 Matrices\n",
    "- 07 Linear Equations\n",
    "- 08 Linear Dynamical Systems\n",
    "- 09 Matrix Multiplication\n",
    "- **_10 Matrix Inverse_**\n",
    "\n",
    "#### Unit 3: Least Squares, Textbook Ch. 12-14"
   ]
  },
  {
   "cell_type": "markdown",
   "id": "41b8439d",
   "metadata": {
    "slideshow": {
     "slide_type": "slide"
    }
   },
   "source": [
    "##### Outline: 10 Matrix Inverse\n",
    "\n",
    "- **[Left and right inverses](#sec-matrices)**\n",
    "- [Inverse](#sec-matrices)\n",
    "- [Solving linear equations](#sec-matrices)\n",
    "- [Examples](#sec-matrices)"
   ]
  },
  {
   "cell_type": "markdown",
   "id": "e4f97d44",
   "metadata": {
    "slideshow": {
     "slide_type": "slide"
    }
   },
   "source": [
    "### Scalar Inverse\n",
    "\n",
    "$\\color{#EF5645}{\\text{Definition}}$: Consider a scalar $a$. A scalar $x$ that satisfies $xa = 1$ is called the inverse of $a$.\n",
    "- We have $x = \\frac{1}{a}$, which exists and is unique if and only if $a \\neq 0 $.\n",
    "- We have $xa = ax = 1$.\n",
    "\n",
    "\n"
   ]
  },
  {
   "cell_type": "markdown",
   "id": "ae03983e",
   "metadata": {
    "slideshow": {
     "slide_type": "slide"
    }
   },
   "source": [
    "### Matrix Left Inverse\n",
    "\n",
    "$\\color{#EF5645}{\\text{Definition}}$: Consider a matrix $A$. A matrix $X$ that satistifies:\n",
    "$$XA = I$$ is called a left-inverse of $A$. \n",
    "\n",
    "$\\color{#EF5645}{\\text{Remarks:}}$ \n",
    "- Existence:  A left inverse might not exist. If a left inverse exists, A is left-invertible. \n",
    "- Uniqueness: The left-inverse might not be unique."
   ]
  },
  {
   "cell_type": "markdown",
   "id": "ed904b7c",
   "metadata": {
    "slideshow": {
     "slide_type": "slide"
    }
   },
   "source": [
    "$\\color{#047C91}{\\text{Exercise}}$: Show that the matrix:\n",
    "<center><img src=\"figs/10_a_to_inverse.png\" width=300px alt=\"default\"/></center>\n",
    "\n",
    "has two different left-inverses:\n",
    "<center><img src=\"figs/10_two_left_inverses.png\" width=900px alt=\"default\"/></center>\n"
   ]
  },
  {
   "cell_type": "markdown",
   "id": "01574602",
   "metadata": {
    "slideshow": {
     "slide_type": "slide"
    }
   },
   "source": [
    "### Properties of left inverses\n",
    "\n",
    "$\\color{#6D7D33}{\\text{Properties}}$:\n",
    "- If $A$ has a left inverse, then the columns of $A$ are linearly independent.\n",
    "- If $A$ has a left inverse, then $A$ is tall or square.\n",
    "\n",
    "$\\color{#047C91}{\\text{Exercise}}$: Prove the above statement."
   ]
  },
  {
   "cell_type": "markdown",
   "id": "44d38a63",
   "metadata": {
    "slideshow": {
     "slide_type": "slide"
    }
   },
   "source": [
    "### Solving linear equations with left inverses\n",
    "\n",
    "$\\color{#EF5645}{\\text{Proposition}}$: Consider the linear equation $Ax = b$. Consider $C$ a left-inverse of $A$. Then, a solution to the linear equation is:\n",
    "$$x = Cb.$$\n",
    "\n",
    "$\\color{#047C91}{\\text{Exercise}}$: Prove the above statement."
   ]
  },
  {
   "cell_type": "markdown",
   "id": "f7ba53b1",
   "metadata": {
    "slideshow": {
     "slide_type": "slide"
    }
   },
   "source": [
    "$\\color{#047C91}{\\text{Example}}$: Consider the matrix $A = \\begin{bmatrix}\n",
    "-3 & -4 \\\\\n",
    "4 & 6 \\\\\n",
    "1 & 1 \\end{bmatrix}$ from the previous slide, and $b = \\begin{bmatrix} 1 \\\\ -2 \\\\ 0\\end{bmatrix}$. \n",
    "\n",
    "Give two solutions to the linear equation:\n",
    "$$ Ax = b.$$"
   ]
  },
  {
   "cell_type": "markdown",
   "id": "89b5dfbe",
   "metadata": {
    "slideshow": {
     "slide_type": "slide"
    }
   },
   "source": [
    "### Right inverses\n",
    "\n",
    "$\\color{#EF5645}{\\text{Definition}}$: Consider a matrix $A$. A matrix $X$ that satistifies:\n",
    "$$AX = I$$ is called a right-inverse of $A$. If a right inverse exists, A is right-invertible. The right-inverse might not be unique."
   ]
  },
  {
   "cell_type": "markdown",
   "id": "253a1048",
   "metadata": {
    "slideshow": {
     "slide_type": "slide"
    }
   },
   "source": [
    "### Properties of right inverses\n",
    "\n",
    "$\\color{#6D7D33}{\\text{Properties}}$:\n",
    "- $A$ is right invertible if and only if $A^T$ is left invertible.\n",
    "- $A$ is right invertible if and only if its rows are linearly independent.\n",
    "- If $A$ is right invertible, then $A$ is wide or square.\n",
    "\n",
    "$\\color{#047C91}{\\text{Exercise}}$: Prove the above statements."
   ]
  },
  {
   "cell_type": "markdown",
   "id": "b52c0917",
   "metadata": {
    "slideshow": {
     "slide_type": "slide"
    }
   },
   "source": [
    "### Solving linear equations with right inverses\n",
    "\n",
    "$\\color{#EF5645}{\\text{Proposition}}$: Consider the linear equation $Ax = b$. Consider $B$ a right-inverse of $A$. Then, a solution to the linear equation is:\n",
    "$$x = Bb.$$\n",
    "\n",
    "$\\color{#047C91}{\\text{Exercise}}$: Prove the above statement."
   ]
  },
  {
   "cell_type": "markdown",
   "id": "8b2ee399",
   "metadata": {
    "slideshow": {
     "slide_type": "slide"
    }
   },
   "source": [
    "##### Outline: 10 Matrix Inverse\n",
    "\n",
    "- [Left and right inverses](#sec-matrices)\n",
    "- **[Inverse](#sec-matrices)**\n",
    "- [Solving linear equations](#sec-matrices)\n",
    "- [Examples](#sec-matrices)"
   ]
  },
  {
   "cell_type": "markdown",
   "id": "0d8e31b8",
   "metadata": {
    "slideshow": {
     "slide_type": "slide"
    }
   },
   "source": [
    "### Inverse\n",
    "\n",
    "$\\color{#EF5645}{\\text{Definition}}$: If $A$ has a left and a right inverse, they are unique and equal. We say that $A$ is invertible. We denote $A^{-1}$ the (unique) inverse of $A$.\n",
    "\n",
    "$\\color{#6D7D33}{\\text{Properties}}$:\n",
    "- If $A$ is invertible then $A$ is square.\n",
    "- The inverse of the inverse is: $(A^{-1})^{-1} = A$."
   ]
  },
  {
   "cell_type": "markdown",
   "id": "c1fe1931",
   "metadata": {
    "slideshow": {
     "slide_type": "slide"
    }
   },
   "source": [
    "### Which Matrices are Invertible?\n",
    "\n",
    "$\\color{#6D7D33}{\\text{Properties}}$: Examples of matrices that are always invertible:\n",
    "- Any lower triangular matrix $L$ with nonzero diagonal entries is invertible. \n",
    "- Any upper triangular $R$ with nonzero diagonal entries is invertible.\n",
    "\n",
    "$\\color{#047C91}{\\text{Exercise}}$: Give examples of invertible matrices."
   ]
  },
  {
   "cell_type": "markdown",
   "id": "479c1dc6",
   "metadata": {
    "slideshow": {
     "slide_type": "slide"
    }
   },
   "source": [
    "### Computing Inverses: $2 \\times 2$ matrices\n",
    "\n",
    "$\\color{#6D7D33}{\\text{Properties}}$: Consider $A$ is a $2 \\times 2$ matrix:\n",
    "- $A$ is invertible if and only if $A_{11}A_{22} \\neq A_{12}A_{21}$.\n",
    "- In this case: $A^{-1} = \\frac{1}{A_{11}A_{22} - A_{12}A_{21}}\\begin{bmatrix} A_{22} & -A_{12} \\\\ -A_{21} & A_{11} \\end{bmatrix}$\n",
    "\n",
    "$\\color{#047C91}{\\text{Exercise}}$: Compute the inverse of $\\begin{bmatrix} 1& 2 \\\\ 0 & 4 \\end{bmatrix}.$"
   ]
  },
  {
   "cell_type": "markdown",
   "id": "2bee1cf4",
   "metadata": {
    "slideshow": {
     "slide_type": "slide"
    }
   },
   "source": [
    "###  Computing Inverses\n",
    "\n",
    "$\\color{#6D7D33}{\\text{Properties}}$:\n",
    "- $I^{-1} = I$\n",
    "- If $Q$ is square matrix with $Q^TQ = I$:\n",
    "  - Then $Q^{-1} = Q^T$.\n",
    "- If $D = diag(a_1, ..., a_n)$ is a diagonal matrix with nonzero elements:\n",
    "  - Then $D^{-1} = diag(\\frac{1}{a_1}, ..., \\frac{1}{a_n}).$"
   ]
  },
  {
   "cell_type": "markdown",
   "id": "ff351212",
   "metadata": {
    "slideshow": {
     "slide_type": "slide"
    }
   },
   "source": [
    "### Computing Inverses\n",
    "\n",
    "$\\color{#6D7D33}{\\text{Properties}}$: Consider invertible square matrices $A, B$ with known inverses $A^{-1}, B^{-1}$.\n",
    "- $(AB)^{-1} = B^{-1}A^{-1}$\n",
    "- $(A^T)^{-1} = (A^{-1})^T$\n",
    "- New notation: Negative powers! $A^{-k} = (A^{k})^{-1}$"
   ]
  },
  {
   "cell_type": "markdown",
   "id": "8994eb30",
   "metadata": {
    "slideshow": {
     "slide_type": "slide"
    }
   },
   "source": [
    "### Computing Inverses from QR decomposition"
   ]
  },
  {
   "cell_type": "markdown",
   "id": "ffbe5d58",
   "metadata": {},
   "source": [
    "$\\color{#6D7D33}{\\text{Properties}}$: Consider $A$, a square and invertible matrix. Consider the QR factorization $A = QR$. \n",
    "- Then, the inverse of $A$ can be written: $A^{-1} = R^{-1}Q^T$."
   ]
  },
  {
   "cell_type": "markdown",
   "id": "7a8c8d58",
   "metadata": {
    "slideshow": {
     "slide_type": "slide"
    }
   },
   "source": [
    "### Computing Inverses in Python\n",
    "\n",
    "$\\color{#003660}{\\text{In Python}}$, we use `np.linalg.inv` to compute the inverse."
   ]
  },
  {
   "cell_type": "code",
   "execution_count": 1,
   "id": "15de41a1",
   "metadata": {},
   "outputs": [
    {
     "data": {
      "text/plain": [
       "array([[ 1.  , -0.5 ],\n",
       "       [ 0.  ,  0.25]])"
      ]
     },
     "execution_count": 1,
     "metadata": {},
     "output_type": "execute_result"
    }
   ],
   "source": [
    "import numpy as np\n",
    "\n",
    "A = np.array([\n",
    "    [1, 2],\n",
    "    [0, 4]\n",
    "])\n",
    "\n",
    "np.linalg.inv(A)"
   ]
  },
  {
   "cell_type": "markdown",
   "id": "e342339e",
   "metadata": {
    "slideshow": {
     "slide_type": "slide"
    }
   },
   "source": [
    "##### Outline: 10 Matrix Inverse\n",
    "\n",
    "- [Left and right inverses](#sec-matrices)\n",
    "- [Inverse](#sec-matrices)\n",
    "- **[Solving linear equations](#sec-matrices)**\n",
    "- [Examples](#sec-matrices)"
   ]
  },
  {
   "cell_type": "markdown",
   "id": "9f3d96d9",
   "metadata": {
    "slideshow": {
     "slide_type": "slide"
    }
   },
   "source": [
    "### Recall: Linear equations\n",
    "\n",
    "$\\color{#EF5645}{\\text{Definition}}$: A set (or system) of $m$ linear equations in $n$ variables $x_1, . . . , x_n$ is defined as:\n",
    "$$\\begin{matrix}\n",
    "A_{11}x_1 + A_{12}x_2 + · · · + A_{1n}x_n = b_1 \\\\\n",
    "\\vdots \\\\\n",
    "A_{m1}x_1 + A_{m2}x_2 + · · · + A_{mn}x_n = b_m\n",
    "\\end{matrix}$$\n",
    "and can be written compactly as: $Ax = b.$\n",
    "\n",
    "\n",
    "$\\color{#EF5645}{\\text{Proposition}}$: Consider the linear equation $Ax = b$. If $A$ is invertible with inverse $A^{-1}$, then the equation has a unique solution: $x = A^{-1}b$. "
   ]
  },
  {
   "cell_type": "markdown",
   "id": "3846deb5",
   "metadata": {
    "slideshow": {
     "slide_type": "slide"
    }
   },
   "source": [
    "In what follows, we see methods to solve $Ax = b$ in several special cases:\n",
    "- when we can compute $A^{-1}$\n",
    "- when $A$ is upper-triangular invertible\n",
    "- when we know the QR decomposition of $A$\n",
    "- using Python."
   ]
  },
  {
   "cell_type": "markdown",
   "id": "b7f9525b",
   "metadata": {
    "slideshow": {
     "slide_type": "slide"
    }
   },
   "source": [
    "### Special case: we know $A^{-1}$\n",
    "\n",
    "$\\color{#6D7D33}{\\text{Method}}$: Consider $A$ an invertible matrix and the linear equation $Ax = b$. Assume that we know $A^{-1}$. \n",
    "- Then the unique solution of $Ax = b$ is given by $A^{-1}b.$\n",
    "\n",
    "$\\color{#047C91}{\\text{Example}}$: An airplane travels 1200 miles in 4 hours with a tail wind. On the way back, the same trip takes 5 hours, now with a head wind (against the wind). What is the speed of the plane in still air, and what was the wind speed?"
   ]
  },
  {
   "cell_type": "markdown",
   "id": "d93c6e0f",
   "metadata": {
    "slideshow": {
     "slide_type": "slide"
    }
   },
   "source": [
    "### Special case: $A = R$ upper triangular invertible\n",
    "\n",
    "$\\color{#6D7D33}{\\text{Method}}$:  Consider $R$ an upper triangular matrix with nonzero entries and the linear equation: $Rx = b$, which can be re-written as:\n",
    "$$\\begin{matrix}\n",
    "R_{11}x_1 + & R_{12}x_2 + & ... +& R_{1, n}x_n &= b_1 \\\\\n",
    "&&\\vdots&&\\\\\n",
    "&&& R_{nn}x_n &= b_n\n",
    "\\end{matrix}$$\n",
    "\n",
    "The solution of the linear equation can be found by back-substitution:\n",
    "- Last equation gives: $x_n = b_n / R_{nn}$\n",
    "- Second to last equation gives: $x_{n-1} = (b_{n-1} - R_{n-1, n}x_n)/ R_{n-1, n-1}$\n",
    "- Iterate."
   ]
  },
  {
   "cell_type": "markdown",
   "id": "49276b10",
   "metadata": {
    "slideshow": {
     "slide_type": "slide"
    }
   },
   "source": [
    "### Special case: $A = QR$ via QR Factorization\n",
    "\n",
    "$\\color{#6D7D33}{\\text{Method}}$: Consider $A$ an invertible matrix and the linear equation $Ax = b$. Assume that the $QR$ factorization of $A$ is given: $A = QR$.\n",
    "\n",
    "The solution of the linear equation can be found by using these steps:\n",
    "- Compute $Q^T b$\n",
    "- Solve the linear equation $Rx = Q^Tb$ by back substitution.\n",
    "\n",
    "$\\color{#047C91}{\\text{Example}}$: We will see an example in a next slide."
   ]
  },
  {
   "cell_type": "markdown",
   "id": "0b11f143",
   "metadata": {
    "slideshow": {
     "slide_type": "slide"
    }
   },
   "source": [
    "### General case in Python"
   ]
  },
  {
   "cell_type": "markdown",
   "id": "af75cbf1",
   "metadata": {},
   "source": [
    "$\\color{#003660}{\\text{In Python}}$, a system of linear equations can be solved in several ways:\n",
    "- using `np.linalg.qr`\n",
    "- using `np.linalg.inv`\n",
    "- using `np.linalg.solve`"
   ]
  },
  {
   "cell_type": "code",
   "execution_count": 8,
   "id": "fabe04fd",
   "metadata": {},
   "outputs": [
    {
     "name": "stdout",
     "output_type": "stream",
     "text": [
      "[-7.  5.]\n",
      "[-7.  5.]\n",
      "[-5.88  3.  ]\n"
     ]
    }
   ],
   "source": [
    "A = np.array([[-3, -4], [4, 6]]); b = np.array([1, 2])\n",
    "print(np.linalg.solve(A, b)); print(np.linalg.inv(A) @ b)\n",
    "q, r = np.linalg.qr(A)\n",
    "print(np.linalg.inv(r) @ q.T @ b)"
   ]
  },
  {
   "cell_type": "markdown",
   "id": "bcbf9899",
   "metadata": {
    "slideshow": {
     "slide_type": "slide"
    }
   },
   "source": [
    "##### Outline: 10 Matrix Inverse\n",
    "\n",
    "\n",
    "- [Left and right inverses](#sec-matrices)\n",
    "- [Inverse](#sec-matrices)\n",
    "- [Solving linear equations](#sec-matrices)\n",
    "- **[Examples](#sec-matrices)**"
   ]
  },
  {
   "cell_type": "markdown",
   "id": "2338c854",
   "metadata": {
    "slideshow": {
     "slide_type": "slide"
    }
   },
   "source": [
    "### Example: Interpolation"
   ]
  },
  {
   "cell_type": "code",
   "execution_count": 14,
   "id": "f1a72d77",
   "metadata": {
    "cell_style": "center"
   },
   "outputs": [
    {
     "data": {
      "text/html": [
       "<video src=\"figs/11_aftereff.mp4\" controls  >\n",
       "      Your browser does not support the <code>video</code> element.\n",
       "    </video>"
      ],
      "text/plain": [
       "<IPython.core.display.Video object>"
      ]
     },
     "execution_count": 14,
     "metadata": {},
     "output_type": "execute_result"
    }
   ],
   "source": [
    "from IPython.display import Video; Video(\"figs/11_aftereff.mp4\")"
   ]
  },
  {
   "cell_type": "markdown",
   "id": "fb1925cd",
   "metadata": {
    "slideshow": {
     "slide_type": "slide"
    }
   },
   "source": [
    "<center><img src=\"figs/11_interpolation.png\" alt=\"default\"/></center>"
   ]
  },
  {
   "cell_type": "markdown",
   "id": "7bc2601f",
   "metadata": {
    "slideshow": {
     "slide_type": "slide"
    }
   },
   "source": [
    "### Example: Polynomial Interpolation\n",
    "\n",
    "$\\color{#047C91}{\\text{Example}}$: Consider a cubic polynomial with unknown coefficients $c_0, ..., c_3$:\n",
    "$$p(x) = c_0 + c_1 x + c_2 x^2 + c_3 x^3,$$\n",
    "that satisfies: $p(-1.1) = 1, p(-0.4) = 2, p(0.1)=4, p(0.8) = 1$.\n",
    "\n",
    "Find the polynomial that interpolates these 4 points. Only use `np.linalg.qr`.\n",
    "\n",
    "<center><img src=\"figs/10_poly.png\" alt=\"default\" width=400px/></center>"
   ]
  },
  {
   "cell_type": "code",
   "execution_count": 12,
   "id": "a6d166b1",
   "metadata": {
    "slideshow": {
     "slide_type": "slide"
    }
   },
   "outputs": [
    {
     "name": "stdout",
     "output_type": "stream",
     "text": [
      "R = \n",
      " [[-2.          0.3        -1.01        0.441     ]\n",
      " [ 0.         -1.3892444   0.41677332 -1.27198641]\n",
      " [ 0.          0.          0.84       -0.378     ]\n",
      " [ 0.          0.          0.         -0.28720648]]\n",
      "Q = \n",
      " [[-0.5         0.68382496  0.5         0.17995394]\n",
      " [-0.5         0.17995394 -0.5        -0.68382496]\n",
      " [-0.5        -0.17995394 -0.5         0.68382496]\n",
      " [-0.5        -0.68382496  0.5        -0.17995394]]\n"
     ]
    }
   ],
   "source": [
    "A = np.array([\n",
    "    [1, -1.1, (-1.1) ** 2, (-1.1) ** 3],\n",
    "    [1, -0.4, (-0.4) ** 2, (-0.4) ** 3],\n",
    "    [1, 0.1, (0.1) ** 2, (0.1) ** 3],\n",
    "    [1, 0.8, (0.8) ** 2, (0.8) ** 3]\n",
    "])\n",
    "b = np.array([1, 2, 4, 1])\n",
    "q, r = np.linalg.qr(A)\n",
    "print(\"R = \\n\", r)\n",
    "print(\"Q = \\n\", q)\n",
    "#print(\"QT b = \\n\", q.T @ b)\n",
    "#np.linalg.solve(A, b)"
   ]
  },
  {
   "cell_type": "markdown",
   "id": "a2772907",
   "metadata": {
    "cell_style": "split",
    "slideshow": {
     "slide_type": "slide"
    }
   },
   "source": [
    "##### Outline: 10 Matrix Inverse\n",
    "\n",
    "- [Left and right inverses](#sec-matrices)\n",
    "- [Inverse](#sec-matrices)\n",
    "- [Solving linear equations](#sec-matrices)\n",
    "- [Examples](#sec-matrices)\n",
    "\n",
    "Resources: Book ILA Ch. 11"
   ]
  }
 ],
 "metadata": {
  "celltoolbar": "Slideshow",
  "kernelspec": {
   "display_name": "Python 3 (ipykernel)",
   "language": "python",
   "name": "python3"
  },
  "language_info": {
   "codemirror_mode": {
    "name": "ipython",
    "version": 3
   },
   "file_extension": ".py",
   "mimetype": "text/x-python",
   "name": "python",
   "nbconvert_exporter": "python",
   "pygments_lexer": "ipython3",
   "version": "3.9.9"
  }
 },
 "nbformat": 4,
 "nbformat_minor": 5
}
