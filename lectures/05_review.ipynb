{
 "cells": [
  {
   "cell_type": "markdown",
   "id": "f0522c79",
   "metadata": {
    "slideshow": {
     "slide_type": "slide"
    }
   },
   "source": [
    "# Unit 05: Review"
   ]
  },
  {
   "cell_type": "markdown",
   "id": "484e0aed",
   "metadata": {
    "slideshow": {
     "slide_type": "slide"
    }
   },
   "source": [
    "# Outline of ECE 3\n",
    "\n",
    "The course ECE 3 is organized into 4 units.\n",
    "\n",
    "- Unit 01: Welcome to Python\n",
    "- Unit 02: Computing with Data in Python\n",
    "- Unit 03: Summarizing Data in Python\n",
    "- Unit 04: Predicting from Data with Machine Learning in Python"
   ]
  },
  {
   "cell_type": "markdown",
   "id": "965064d9",
   "metadata": {
    "slideshow": {
     "slide_type": "slide"
    }
   },
   "source": [
    "# Outline of Review\n",
    "\n",
    "## Unit 2:\n",
    "\n",
    "* Operations on Vectors (definitions and exercises)\n",
    "    - Addition/Subtraction\n",
    "    - Scale-Vector Multiplication\n",
    "    - Elementwise Vector Multiplication\n",
    "    - Inner Product\n",
    "    - Norm, Distance\n",
    "    - Angle\n",
    "    \n",
    "* Operations on Collection of Vectors (definitions and exercises)\n",
    "    - Linear Combination\n",
    "\n",
    "* Operations on Matrices (definitions and exercises)\n",
    "    - Addition/Subtraction\n",
    "    - Scalar-Matrix Multiplication\n",
    "    - Elementwise Matrix Multiplication\n",
    "    - Frobenius Norm\n",
    "    - Transpose\n",
    "    - Trace\n",
    "    - Matrix-Vector Multiplication\n",
    "    - Matrix-Matrix Multiplication\n",
    "\n",
    "* Important Definitions:\n",
    "    - Orthogonality, Unit, and Orthonormality\n",
    "\n",
    "* Harder (**NOT** to come up on exam) Definitions:\n",
    "    - Span\n",
    "    - Linear Independence/Dependence\n",
    "    - Basis, Orthonormal basis\n",
    "    - Column Space, Row Space, Rank\n",
    "    - Solving Linear Systems Ax = b\n",
    "\n",
    "## Unit4:\n",
    "\n",
    "* Clustering\n",
    "* Linear Regression"
   ]
  },
  {
   "cell_type": "markdown",
   "id": "38cb7812",
   "metadata": {
    "slideshow": {
     "slide_type": "slide"
    }
   },
   "source": [
    "# 1. Operations on Vectors"
   ]
  },
  {
   "cell_type": "markdown",
   "id": "0aecf339",
   "metadata": {
    "slideshow": {
     "slide_type": "slide"
    }
   },
   "source": [
    "## Vector Addition and Subtraction\n",
    "\n",
    "$\\color{#EF5645}{\\text{Definition}}$: Two vectors a and b can be added/subtracted:\n",
    "- Addition is denoted a + b; subtraction is denoted a - b.\n",
    "- Addition/subtraction is computed by adding/subtracting vector elements."
   ]
  },
  {
   "cell_type": "markdown",
   "id": "8bb2506a",
   "metadata": {
    "slideshow": {
     "slide_type": "slide"
    }
   },
   "source": [
    "$\\color{#047C91}{\\text{Exercise}}$: Compute:\n",
    "<center><img src=\"figs/01_add.png\" alt=\"default\" width=160px/></center>"
   ]
  },
  {
   "cell_type": "code",
   "execution_count": 19,
   "id": "fde074af",
   "metadata": {},
   "outputs": [
    {
     "name": "stdout",
     "output_type": "stream",
     "text": [
      "[1 9 3]\n",
      "[0, 7, 3, 1, 2, 0]\n"
     ]
    }
   ],
   "source": [
    "import numpy as np\n",
    "import matplotlib.pyplot as plt\n",
    "\n",
    "a = np.array([0, 7, 3])\n",
    "b = np.array([1, 2, 0])\n",
    "c = a + b\n",
    "print(c)\n",
    "\n",
    "# # If we use lists, it does not give the expected result\n",
    "a = [0, 7, 3]\n",
    "b = [1, 2, 0]\n",
    "c = a + b\n",
    "print(c)"
   ]
  },
  {
   "cell_type": "markdown",
   "id": "a819a32f",
   "metadata": {
    "slideshow": {
     "slide_type": "slide"
    }
   },
   "source": [
    "$\\color{#047C91}{\\text{Exercise}}$: Given a vector $a = [1,4,9,20]$ compute $a + 0$"
   ]
  },
  {
   "cell_type": "code",
   "execution_count": 86,
   "id": "6badd791",
   "metadata": {},
   "outputs": [
    {
     "name": "stdout",
     "output_type": "stream",
     "text": [
      "[ 1.  4.  9. 20.]\n"
     ]
    }
   ],
   "source": [
    "a = np.array([1, 4, 9, 20])\n",
    "b = np.zeros(np.size(a))\n",
    "c = a + b\n",
    "print(c)"
   ]
  },
  {
   "cell_type": "markdown",
   "id": "2db62724",
   "metadata": {
    "slideshow": {
     "slide_type": "slide"
    }
   },
   "source": [
    "## Scalar-vector multiplication\n",
    "\n",
    "$\\color{#EF5645}{\\text{Definition}}$: A scalar β and an $n$-vector a can be multiplied to give a new vector: \n",
    "$$βa = ( βa_1, . . . , β a_n).$$"
   ]
  },
  {
   "cell_type": "markdown",
   "id": "f21edfc5",
   "metadata": {
    "slideshow": {
     "slide_type": "slide"
    }
   },
   "source": [
    "$\\color{#047C91}{\\text{Exercise}}$: Compute:\n",
    "\n",
    "<center><img src=\"figs/01_scalar.png\" alt=\"default\" width=160px/></center>\n",
    "\n",
    "\n"
   ]
  },
  {
   "cell_type": "code",
   "execution_count": 20,
   "id": "2c6b589f",
   "metadata": {},
   "outputs": [
    {
     "name": "stdout",
     "output_type": "stream",
     "text": [
      "[ -2 -18 -12]\n",
      "[1, 9, 6, 1, 9, 6]\n"
     ]
    }
   ],
   "source": [
    "a = np.array([1, 9, 6])\n",
    "beta = -2\n",
    "print(beta * a)\n",
    "\n",
    "# # Using lists does not give the expected result\n",
    "l = [1, 9, 6]\n",
    "print(2 * l)"
   ]
  },
  {
   "cell_type": "markdown",
   "id": "de7bb7d4",
   "metadata": {
    "slideshow": {
     "slide_type": "slide"
    }
   },
   "source": [
    "## Elementwise-multiplication (Hadamard Product)\n",
    "\n",
    "$\\color{#EF5645}{\\text{Definition}}$: Two $n$-vectors $a$ amd $b$ can be multiplied to give a new vector: \n",
    "$$a \\odot b = ( a_1b_1, . . . , a_nb_n).$$\n",
    "\n",
    "$\\color{#047C91}{\\text{Exercise}}$: Compute the hadamard product of $a = (1, 0, 2)$ and $b = (-1, 1, 2)$."
   ]
  },
  {
   "cell_type": "code",
   "execution_count": 98,
   "id": "786ca6ca",
   "metadata": {},
   "outputs": [
    {
     "name": "stdout",
     "output_type": "stream",
     "text": [
      "[-1  0  4]\n",
      "[-1  0  4]\n"
     ]
    }
   ],
   "source": [
    "\"\"\"Compute the hadamard product of two vectors.\"\"\"\n",
    "a = np.array([1,0,2])\n",
    "b = np.array([-1,1,2])\n",
    "\n",
    "print(a * b)\n",
    "print(np.multiply(a, b))"
   ]
  },
  {
   "cell_type": "markdown",
   "id": "b3385f4e",
   "metadata": {
    "slideshow": {
     "slide_type": "slide"
    }
   },
   "source": [
    "## Inner Product\n",
    "\n",
    "$\\color{#EF5645}{\\text{Definition}}$: The inner product (or dot product) of n-vectors a and b is the scalar:\n",
    "$$a^T b = a_1b_1 + a_2b_2 + · · · + a_nb_n.$$\n",
    "- Other notations: $〈a, b〉, 〈a|b〉, (a, b), a · b.$\n",
    "- $\\color{#003660}{\\text{In Python}}$, we use `inner` or `dot` (from `numpy`)."
   ]
  },
  {
   "cell_type": "markdown",
   "id": "de0fffaa",
   "metadata": {
    "slideshow": {
     "slide_type": "slide"
    }
   },
   "source": [
    "$\\color{#047C91}{\\text{Exercise}}$: Compute the inner product of $a = (1, 0, 2)$ and $b = (-1, 1, 2)$."
   ]
  },
  {
   "cell_type": "code",
   "execution_count": 100,
   "id": "0083c28f",
   "metadata": {},
   "outputs": [
    {
     "name": "stdout",
     "output_type": "stream",
     "text": [
      "3\n",
      "3\n",
      "3\n"
     ]
    }
   ],
   "source": [
    "\"\"\"Compute the inner product of two vectors.\"\"\"\n",
    "a = np.array([1,0,2])\n",
    "b = np.array([-1,1,2])\n",
    "\n",
    "print(np.sum(a * b))\n",
    "print(np.inner(a, b))\n",
    "print(np.dot(a,b))"
   ]
  },
  {
   "cell_type": "markdown",
   "id": "c969d40f",
   "metadata": {
    "slideshow": {
     "slide_type": "slide"
    }
   },
   "source": [
    "$\\color{#047C91}{\\text{Exercise}}$: What is the inner product between a vector $a$ and the zero vector?\n",
    "\n",
    "$$a^T \\vec{0} = $$"
   ]
  },
  {
   "cell_type": "code",
   "execution_count": 28,
   "id": "3bbde2a0",
   "metadata": {},
   "outputs": [
    {
     "data": {
      "text/plain": [
       "0.0"
      ]
     },
     "execution_count": 28,
     "metadata": {},
     "output_type": "execute_result"
    }
   ],
   "source": [
    "\"\"\"Compute the inner product between a vector and zero vector.\"\"\"\n",
    "a = np.array([1,0,2])\n",
    "b = np.zeros(3)\n",
    "np.inner(a, b)"
   ]
  },
  {
   "cell_type": "markdown",
   "id": "c65aadac",
   "metadata": {
    "slideshow": {
     "slide_type": "slide"
    }
   },
   "source": [
    "$\\color{#047C91}{\\text{Exercise}}$: What is the inner product between a vector $a$ and the ones vector?\n",
    "\n",
    "$$a^T \\vec{1} = $$"
   ]
  },
  {
   "cell_type": "code",
   "execution_count": 101,
   "id": "42f8f21e",
   "metadata": {
    "scrolled": true
   },
   "outputs": [
    {
     "name": "stdout",
     "output_type": "stream",
     "text": [
      "15.0\n",
      "15\n"
     ]
    }
   ],
   "source": [
    "\"\"\"Compute the inner product between a vector and ones vector.\"\"\"\n",
    "a = np.array([1,0,2, 4, 2, 4, 2])\n",
    "b = np.ones(len(a))\n",
    "print(np.inner(a, b))\n",
    "print(np.sum(a))"
   ]
  },
  {
   "cell_type": "markdown",
   "id": "1b9cece9",
   "metadata": {
    "slideshow": {
     "slide_type": "slide"
    }
   },
   "source": [
    "$\\color{#047C91}{\\text{Exercise}}$: What is the inner product between a vector $a$ and a one-hot vector?\n",
    "\n",
    "$$a^T \\vec{e_i} = $$"
   ]
  },
  {
   "cell_type": "code",
   "execution_count": 99,
   "id": "4dc62b67",
   "metadata": {
    "scrolled": true
   },
   "outputs": [
    {
     "data": {
      "text/plain": [
       "1.0"
      ]
     },
     "execution_count": 99,
     "metadata": {},
     "output_type": "execute_result"
    }
   ],
   "source": [
    "\"\"\"Compute the inner product between a vector and ones vector.\"\"\"\n",
    "a = np.array([1,0,2])\n",
    "e1 = np.zeros(3)\n",
    "e1[0] = 1\n",
    "np.inner(a, e1)"
   ]
  },
  {
   "cell_type": "markdown",
   "id": "e3f73b5c",
   "metadata": {
    "slideshow": {
     "slide_type": "slide"
    }
   },
   "source": [
    "## Norm\n",
    "\n",
    "$\\color{#EF5645}{\\text{Definition}}$: The *Euclidean norm*, or just *norm*, of an $n$-vector $x$ is:\n",
    "$$||x|| = \\sqrt{x_1^2 + ... + x_n^2}.$$ \n",
    "\n",
    "<!-- = \\sqrt{x^Tx} -->\n",
    "\n",
    "$\\color{#EF5645}{\\text{Remark}}$: The norm is equal to the absolute value for $n=1$."
   ]
  },
  {
   "cell_type": "markdown",
   "id": "8bd27dd3",
   "metadata": {
    "slideshow": {
     "slide_type": "slide"
    }
   },
   "source": [
    "$\\color{#003660}{\\text{In Python}}$, the module `linalg` from the package `numpy` has a function called `norm`."
   ]
  },
  {
   "cell_type": "code",
   "execution_count": 2,
   "id": "62dd8b8f",
   "metadata": {
    "scrolled": true
   },
   "outputs": [
    {
     "name": "stdout",
     "output_type": "stream",
     "text": [
      "3.0\n"
     ]
    }
   ],
   "source": [
    "x = np.array([2, -1, 2])\n",
    "\n",
    "print(np.linalg.norm(x))"
   ]
  },
  {
   "cell_type": "markdown",
   "id": "f8483786",
   "metadata": {
    "slideshow": {
     "slide_type": "slide"
    }
   },
   "source": [
    "$\\color{#047C91}{\\text{Exercise}}$: Can you write a function that computes the norm using the vector operators we have already seen?."
   ]
  },
  {
   "cell_type": "code",
   "execution_count": 107,
   "id": "1aa1e1e6",
   "metadata": {
    "scrolled": true
   },
   "outputs": [
    {
     "name": "stdout",
     "output_type": "stream",
     "text": [
      "3.0\n",
      "3.0\n"
     ]
    }
   ],
   "source": [
    "def norm(a):\n",
    "    return np.sqrt(np.dot(a,a))\n",
    "\n",
    "x = np.array([2, -1, 2])\n",
    "print(norm(x))\n",
    "print(np.linalg.norm(x))"
   ]
  },
  {
   "cell_type": "markdown",
   "id": "6986d583",
   "metadata": {
    "slideshow": {
     "slide_type": "slide"
    }
   },
   "source": [
    "## Distance\n",
    "\n",
    "$\\color{#EF5645}{\\text{Definition}}$: The *Euclidean distance*, or just *distance*, between $n$-vectors $a$ and $b$ is:\n",
    "$$dist(a, b) = ||a - b||.$$\n",
    "\n",
    "$\\color{#EF5645}{\\text{Remark}}$: This definition agrees with ordinary distance for $n = 1, 2, 3.$"
   ]
  },
  {
   "cell_type": "markdown",
   "id": "e744da04",
   "metadata": {
    "slideshow": {
     "slide_type": "slide"
    }
   },
   "source": [
    "## Angle\n",
    "\n",
    "$\\color{#EF5645}{\\text{Definition}}$: The _angle_ between two non-zeros $n$-vectors $a$ and $b$ is:\n",
    "$$\\angle(a, b) = arccos\\left( \\frac{a^Tb}{||a||||b||} \\right).$$\n",
    "\n",
    "$\\color{#EF5645}{\\text{Remark}}$: It coincides with the ordinary angle in 2D and 3D."
   ]
  },
  {
   "cell_type": "code",
   "execution_count": 115,
   "id": "ba19c9ba",
   "metadata": {
    "slideshow": {
     "slide_type": "slide"
    }
   },
   "outputs": [
    {
     "name": "stdout",
     "output_type": "stream",
     "text": [
      "2.256525837701183\n",
      "1.5707963267948966\n"
     ]
    }
   ],
   "source": [
    "import numpy as np\n",
    "def angle(a, b):\n",
    "    product = np.linalg.norm(a)* np.linalg.norm(b)\n",
    "    fraction = np.inner(a, b) / (product)\n",
    "    return np.arccos(fraction)\n",
    "\n",
    "a = [1, -1]\n",
    "b = [0.1, 1]\n",
    "\n",
    "print(angle(a, b))\n",
    "print(np.pi / 2)"
   ]
  },
  {
   "cell_type": "markdown",
   "id": "68981690",
   "metadata": {
    "slideshow": {
     "slide_type": "slide"
    }
   },
   "source": [
    "$\\color{#047C91}{\\text{Exercise}}$: Can you prove why the angle between two vectors takes the form above?\n",
    "\n",
    "*hint:* remeber the *law of cosines* $c = \\sqrt{a^2 + b^2 - 2ab\\cos(\\gamma)}$\n",
    "\n",
    "<center><img src=\"figs/01_law_of_cosines.png\" alt=\"default\"/></center>"
   ]
  },
  {
   "cell_type": "markdown",
   "id": "9b49a109",
   "metadata": {
    "slideshow": {
     "slide_type": "slide"
    }
   },
   "source": [
    "Again, notice that given two n-vectors $\\vec{a}$ and $\\vec{b}$ we can make a 2D triangle by connecting these points with the origin and themselves.  Let $A = \\vec{a}$, $B = \\vec{b}$, and $C = 0$. Now we can apply the law of cosines.  \n",
    "\n",
    "- $a = \\|\\vec{b}\\|$\n",
    "- $b = \\|\\vec{a}\\|$\n",
    "- $c = \\|\\vec{b} - \\vec{a}\\| = \\sqrt{\\|a\\|^2 + \\|b\\|^2 + 2 a^\\intercal b}$\n",
    "\n",
    "Plugging into the expression for the law of cosines and rearannging we get\n",
    "$$\\cos(\\gamma) = \\frac{a^\\intercal b}{\\|a\\|\\|b\\|}$$"
   ]
  },
  {
   "cell_type": "markdown",
   "id": "630dfaf3",
   "metadata": {
    "slideshow": {
     "slide_type": "slide"
    }
   },
   "source": [
    "**Problem 1:** Which of the following python methods will correctly add the two vectors $[3,-2,-1]$ and $[-1,3,6]$?\n",
    "- First Method\n",
    "- Second Method"
   ]
  },
  {
   "cell_type": "code",
   "execution_count": 29,
   "id": "1b687f03",
   "metadata": {
    "slideshow": {
     "slide_type": "-"
    }
   },
   "outputs": [
    {
     "name": "stdout",
     "output_type": "stream",
     "text": [
      "[3, -2, -1, -1, 3, 6]\n",
      "[2 1 5]\n"
     ]
    }
   ],
   "source": [
    "# First method\n",
    "a = [3, -2, -1]\n",
    "b = [-1, 3, 6]\n",
    "sum1 = a + b\n",
    "\n",
    "# Second method\n",
    "import numpy as np\n",
    "a = np.array([3, -2, -1])\n",
    "b = np.array([-1, 3, 6])\n",
    "sum2 = a + b\n",
    "\n",
    "# Print output\n",
    "print(sum1)\n",
    "print(sum2)"
   ]
  },
  {
   "cell_type": "markdown",
   "id": "65a0e908",
   "metadata": {
    "slideshow": {
     "slide_type": "slide"
    }
   },
   "source": [
    "**Problem 2:** If $a = -1$ and $b = [-1,3,6]$, what is the dimension of $ab$?\n",
    "- 1\n",
    "- 2\n",
    "- 3\n",
    "- The dimensions do not work"
   ]
  },
  {
   "cell_type": "code",
   "execution_count": 30,
   "id": "f777544a",
   "metadata": {
    "slideshow": {
     "slide_type": "fragment"
    }
   },
   "outputs": [
    {
     "name": "stdout",
     "output_type": "stream",
     "text": [
      "3\n"
     ]
    }
   ],
   "source": [
    "a = -1\n",
    "b = np.array([-1, 3, 6])\n",
    "c = a * b\n",
    "print(np.size(c))"
   ]
  },
  {
   "cell_type": "markdown",
   "id": "f054d122",
   "metadata": {
    "slideshow": {
     "slide_type": "slide"
    }
   },
   "source": [
    "**Problem 3:** If $a = [3,-2,-1]$ and $b = [-1,3,6]$, what is the dimension of $a \\odot b$?\n",
    "- 1\n",
    "- 2\n",
    "- 3\n",
    "- The dimensions do not work"
   ]
  },
  {
   "cell_type": "code",
   "execution_count": 31,
   "id": "4097a01a",
   "metadata": {
    "slideshow": {
     "slide_type": "fragment"
    }
   },
   "outputs": [
    {
     "name": "stdout",
     "output_type": "stream",
     "text": [
      "3\n"
     ]
    }
   ],
   "source": [
    "a = np.array([3, -2, -1])\n",
    "b = np.array([-1, 3, 6])\n",
    "c = a * b\n",
    "print(np.size(c))"
   ]
  },
  {
   "cell_type": "markdown",
   "id": "a04c0c71",
   "metadata": {
    "slideshow": {
     "slide_type": "slide"
    }
   },
   "source": [
    "**Problem 4:** If $a = [3,-2,-1]$ and $b = [-1,3,6]$, what is the dimension of $a \\centerdot b$?\n",
    "- 1\n",
    "- 2\n",
    "- 3\n",
    "- The dimensions do not work"
   ]
  },
  {
   "cell_type": "code",
   "execution_count": 33,
   "id": "51463a5c",
   "metadata": {
    "slideshow": {
     "slide_type": "fragment"
    }
   },
   "outputs": [
    {
     "name": "stdout",
     "output_type": "stream",
     "text": [
      "1\n"
     ]
    }
   ],
   "source": [
    "a = np.array([3, -2, -1])\n",
    "b = np.array([-1, 3, 6])\n",
    "c = np.dot(a, b)\n",
    "c = np.inner(a,b)\n",
    "print(np.size(c))"
   ]
  },
  {
   "cell_type": "markdown",
   "id": "fbd7f714",
   "metadata": {
    "slideshow": {
     "slide_type": "slide"
    }
   },
   "source": [
    "**Problem 5:** If $a = [3,-2,-1]$, $b = [-1,3,6]$, $c=[6,-9,0]$ what is the dimension of $(a \\centerdot b) c$?\n",
    "- 1\n",
    "- 2\n",
    "- 3\n",
    "- The dimensions do not work"
   ]
  },
  {
   "cell_type": "code",
   "execution_count": 34,
   "id": "f9bfbeca",
   "metadata": {
    "slideshow": {
     "slide_type": "fragment"
    }
   },
   "outputs": [
    {
     "name": "stdout",
     "output_type": "stream",
     "text": [
      "3\n"
     ]
    }
   ],
   "source": [
    "a = np.array([3, -2, -1])\n",
    "b = np.array([-1, 3, 6])\n",
    "c = np.array([6, -9, 0])\n",
    "result = np.dot(a, b) * c\n",
    "print(np.size(result))"
   ]
  },
  {
   "cell_type": "markdown",
   "id": "a6b47ac1",
   "metadata": {
    "slideshow": {
     "slide_type": "slide"
    }
   },
   "source": [
    "**Problem 6:** If $a = [3,-2,-1]$, $b = [-1,3,6]$, $c=[6,-9,0]$ what is the dimension of $a \\centerdot (b \\odot c)$?\n",
    "- 1\n",
    "- 2\n",
    "- 3\n",
    "- The dimensions do not work"
   ]
  },
  {
   "cell_type": "code",
   "execution_count": 35,
   "id": "2bb71691",
   "metadata": {
    "scrolled": true,
    "slideshow": {
     "slide_type": "fragment"
    }
   },
   "outputs": [
    {
     "name": "stdout",
     "output_type": "stream",
     "text": [
      "1\n"
     ]
    }
   ],
   "source": [
    "a = np.array([3, -2, -1])\n",
    "b = np.array([-1, 3, 6])\n",
    "c = np.array([6, -9, 0])\n",
    "result = np.dot(a, b * c)\n",
    "print(np.size(result))"
   ]
  },
  {
   "cell_type": "markdown",
   "id": "6a96a853",
   "metadata": {
    "slideshow": {
     "slide_type": "slide"
    }
   },
   "source": [
    "**Problem 7:** If $a = [3,-2,-1]$, $b = [-1,3,6]$, $c=[6,-9,0]$ what is the dimension of $(a \\centerdot b) \\centerdot c$?\n",
    "- 1\n",
    "- 2\n",
    "- 3\n",
    "- The dimensions do not work"
   ]
  },
  {
   "cell_type": "code",
   "execution_count": 21,
   "id": "c4c16a83",
   "metadata": {
    "scrolled": true,
    "slideshow": {
     "slide_type": "fragment"
    }
   },
   "outputs": [
    {
     "name": "stdout",
     "output_type": "stream",
     "text": [
      "3\n",
      "[-90 135   0]\n"
     ]
    }
   ],
   "source": [
    "a = np.array([3, -2, -1])\n",
    "b = np.array([-1, 3, 6])\n",
    "c = np.array([6, -9, 0])\n",
    "result = np.inner(np.inner(a, b), c)\n",
    "print(np.size(result))\n",
    "print(result)"
   ]
  },
  {
   "cell_type": "markdown",
   "id": "e7271e0e",
   "metadata": {
    "slideshow": {
     "slide_type": "slide"
    }
   },
   "source": [
    "**Problem 8:** If $a$ is an n-vector, which of the following expressions is true? \n",
    "- $\\|a\\| = a \\centerdot a$\n",
    "- $\\|a\\| = a \\centerdot 1$\n",
    "- $\\|a\\| = \\sqrt{(a \\odot a)}$\n",
    "- $\\|a\\| = \\sqrt{(a \\odot a) \\centerdot 1}$"
   ]
  },
  {
   "cell_type": "code",
   "execution_count": 39,
   "id": "cac4fdf2",
   "metadata": {
    "slideshow": {
     "slide_type": "fragment"
    }
   },
   "outputs": [
    {
     "name": "stdout",
     "output_type": "stream",
     "text": [
      "False\n",
      "False\n",
      "[False False False]\n",
      "True\n"
     ]
    }
   ],
   "source": [
    "a = np.array([3, -2, -1])\n",
    "\n",
    "result1 = np.dot(a, a)\n",
    "result2 = np.dot(a, np.ones(3))\n",
    "result3 = np.sqrt(a * a)\n",
    "result4 = np.sqrt(np.dot((a * a), np.ones(3)))\n",
    "\n",
    "print(np.linalg.norm(a) == result1)\n",
    "print(np.linalg.norm(a) == result2)\n",
    "print(np.linalg.norm(a) == result3)\n",
    "print(np.linalg.norm(a) == result4)"
   ]
  },
  {
   "cell_type": "markdown",
   "id": "526f817d",
   "metadata": {
    "slideshow": {
     "slide_type": "slide"
    }
   },
   "source": [
    "**Problem 9:** Which of the following expressions is true? \n",
    "- $1_n = 0_n \\odot 1_n$\n",
    "- $1_n = e_1 \\odot 1_n$\n",
    "- $1_n = \\sum_{i = 1}^n e_i$\n",
    "- $1_n = \\|1_n\\| 1_n$"
   ]
  },
  {
   "cell_type": "code",
   "execution_count": 10,
   "id": "46a97d45",
   "metadata": {
    "slideshow": {
     "slide_type": "fragment"
    }
   },
   "outputs": [
    {
     "name": "stdout",
     "output_type": "stream",
     "text": [
      "False\n",
      "False\n",
      "True\n",
      "False\n"
     ]
    }
   ],
   "source": [
    "n = 10\n",
    "\n",
    "def one_hot(i, n):\n",
    "    ei = np.zeros(n)\n",
    "    ei[i] = 1\n",
    "    return ei\n",
    "\n",
    "result1 = np.zeros(n) * np.ones(n)\n",
    "result2 = one_hot(1, n) * np.ones(n)\n",
    "\n",
    "result3 = np.zeros(n)\n",
    "for i in range(n):\n",
    "    result3 += one_hot(i, n)\n",
    "    \n",
    "result4 = np.linalg.norm(np.ones(n)) * np.ones(n)\n",
    "\n",
    "print(np.array_equal(result1, np.ones(n)))\n",
    "print(np.array_equal(result2, np.ones(n)))\n",
    "print(np.array_equal(result3, np.ones(n)))\n",
    "print(np.array_equal(result4, np.ones(n)))"
   ]
  },
  {
   "cell_type": "markdown",
   "id": "6dc39b6e",
   "metadata": {
    "slideshow": {
     "slide_type": "slide"
    }
   },
   "source": [
    "**Problem 10:** What is the angle (in radians) between $a = [0,1,0,1,0]$ and $b = [1,0,1,0,1]$? \n",
    "- $\\angle(a, b) = 0$\n",
    "- $\\angle(a, b) = \\frac{\\pi}{2}$\n",
    "- $\\angle(a, b) = \\pi$\n",
    "- $\\angle(a, b) = -\\frac{\\pi}{2}$"
   ]
  },
  {
   "cell_type": "code",
   "execution_count": 40,
   "id": "bbe4865b",
   "metadata": {
    "slideshow": {
     "slide_type": "fragment"
    }
   },
   "outputs": [
    {
     "name": "stdout",
     "output_type": "stream",
     "text": [
      "1.5707963267948966\n"
     ]
    }
   ],
   "source": [
    "def angle(a, b):\n",
    "    product = np.linalg.norm(a)* np.linalg.norm(b)\n",
    "    fraction = np.inner(a, b) / (product)\n",
    "    return np.arccos(fraction)\n",
    "\n",
    "a = np.array([0,1,0,1,0])\n",
    "b = np.array([1,0,1,0,1])\n",
    "\n",
    "print(angle(a, b))"
   ]
  },
  {
   "cell_type": "markdown",
   "id": "26fba535",
   "metadata": {
    "slideshow": {
     "slide_type": "slide"
    }
   },
   "source": [
    "## Some Terminology of Vectors\n",
    "\n",
    "\n",
    "### Unit Vector or Normalized Vector\n",
    "\n",
    "$\\color{#EF5645}{\\text{Definition}}$: An $n$-vector $a$ is a *unit vector* or *normalized* if and only if,\n",
    "$$\\|a\\| = 1$$"
   ]
  },
  {
   "cell_type": "markdown",
   "id": "5fbd4082",
   "metadata": {
    "slideshow": {
     "slide_type": "fragment"
    }
   },
   "source": [
    "### Orthogonal\n",
    "\n",
    "$\\color{#EF5645}{\\text{Definition}}$: If the _angle_ between two non-zeros $n$-vectors $a$ and $b$ is $\\frac{\\pi}{2}$, then we call these vectors *orthogonal*.  This is true if and only if,\n",
    "$$a^\\intercal b = a \\centerdot b = 0.$$"
   ]
  },
  {
   "cell_type": "markdown",
   "id": "fb50fa39",
   "metadata": {
    "slideshow": {
     "slide_type": "fragment"
    }
   },
   "source": [
    "### Orthonormal\n",
    "\n",
    "$\\color{#EF5645}{\\text{Definition}}$: Two $n$-vectors $a$ and $b$ are *orthonormal* if and only if they are orthogonal unit vectors,\n",
    "$$\\|a\\| = \\|b\\| = 1 \\qquad\\text{and}\\qquad a \\centerdot b = 0.$$"
   ]
  },
  {
   "cell_type": "markdown",
   "id": "01603d15",
   "metadata": {
    "slideshow": {
     "slide_type": "slide"
    }
   },
   "source": [
    "$\\color{#047C91}{\\text{Exercise}}$: Which of the following pairs of vectors are orthonormal?\n",
    "\n",
    "- $a = [1,1,1,0]$ and $b = [0,1,1,1]$\n",
    "- $a = [1,1,0,0]$ and $b = [0,0,1,1]$\n",
    "- $a = [1,0,0,0]$ and $b = [0,0,0,1]$"
   ]
  },
  {
   "cell_type": "code",
   "execution_count": 41,
   "id": "2d6f1878",
   "metadata": {
    "slideshow": {
     "slide_type": "-"
    }
   },
   "outputs": [
    {
     "name": "stdout",
     "output_type": "stream",
     "text": [
      "True\n",
      "True\n",
      "True\n"
     ]
    }
   ],
   "source": [
    "a = np.array([1,0,0,0])\n",
    "b = np.array([0,0,0,1])\n",
    "\n",
    "# Check that a and b are unit vectors\n",
    "print(np.linalg.norm(a) == 1)\n",
    "print(np.linalg.norm(b) == 1)\n",
    "\n",
    "# Check that a and b are orthgonal\n",
    "print(np.dot(a,b) == 0)"
   ]
  },
  {
   "cell_type": "markdown",
   "id": "8942e2c3",
   "metadata": {
    "slideshow": {
     "slide_type": "slide"
    }
   },
   "source": [
    "# 3. Collections of Vectors"
   ]
  },
  {
   "cell_type": "markdown",
   "id": "e5652791",
   "metadata": {
    "slideshow": {
     "slide_type": "slide"
    }
   },
   "source": [
    "### Linear combinations\n",
    "\n",
    "$\\color{#EF5645}{\\text{Definition}}$: For a collection of $m$ n-vectors $a_1, . . . , a_m$ and scalars $β_1, . . . , β_m$, the vector defined as\n",
    "\n",
    "$$β_1a_1 + · · · + β_ma_m$$\n",
    "\n",
    "is a *linear combination* of the vectors.\n",
    "\n",
    "\n",
    "$\\color{#EF5645}{\\text{Remark:}}$ $β_1, . . . , β_m$ are the coefficients.\n",
    "\n",
    "$\\color{#EF5645}{\\text{Remark:}}$ Here, $a_i$ is the ith vector in the list of $m$ vectors. It is **not** a component of a vector, it is itself a vector."
   ]
  },
  {
   "cell_type": "code",
   "execution_count": 46,
   "id": "6f336c70",
   "metadata": {
    "slideshow": {
     "slide_type": "slide"
    }
   },
   "outputs": [
    {
     "name": "stdout",
     "output_type": "stream",
     "text": [
      "[2.   3.   5.25]\n"
     ]
    }
   ],
   "source": [
    "\"\"\"Write a linear combination of 2 vectors.\"\"\"\n",
    "a1 = np.array([1, 2, 3])\n",
    "a2 = np.array([3, 6, 6])\n",
    "a3 = np.array([1, 10, 6])\n",
    "a4 = np.array([3, -6, 6])\n",
    "\n",
    "beta = np.array([0.25, 0.25,0.25, 0.25])\n",
    "linear_comb = beta[0] * a1 + beta[1] * a2 + beta[2] * a3 + beta[3] * a4\n",
    "\n",
    "print(linear_comb)"
   ]
  },
  {
   "cell_type": "markdown",
   "id": "e4ad0fec",
   "metadata": {
    "slideshow": {
     "slide_type": "slide"
    }
   },
   "source": [
    "$\\color{#047C91}{\\text{Exercise}}$: Can I write an $n$-vector $b = (b_1, ..., b_{n})$ as a linear combination of the one-hot n-vectors $e_1, ..., e_{n}$?"
   ]
  },
  {
   "cell_type": "markdown",
   "id": "2018fb56",
   "metadata": {
    "slideshow": {
     "slide_type": "slide"
    }
   },
   "source": [
    "### Orthonormal Set\n",
    "\n",
    "$\\color{#EF5645}{\\text{Definitions}}$: A set of k $n$-vectors $a_1, . . . , a_k$ form an *orthonormal set* if they are\n",
    "- _(mutually) orthogonal_ if $a_i ⊥ a_j$ for all $i , j$\n",
    "- _normalized_ if $‖a_i ‖ = 1$ for $i = 1, . . . , k$"
   ]
  },
  {
   "cell_type": "markdown",
   "id": "b9050cca",
   "metadata": {
    "slideshow": {
     "slide_type": "slide"
    }
   },
   "source": [
    "# Operations on Matrices"
   ]
  },
  {
   "cell_type": "markdown",
   "id": "74bfd903",
   "metadata": {
    "slideshow": {
     "slide_type": "slide"
    }
   },
   "source": [
    "## Operations that directly follow from vector operations"
   ]
  },
  {
   "cell_type": "markdown",
   "id": "77d95a59",
   "metadata": {
    "slideshow": {
     "slide_type": "fragment"
    }
   },
   "source": [
    "### Matrix Addition and Subtraction\n",
    "\n",
    "$\\color{#EF5645}{\\text{Definition}}$: Two $n \\times m$ matrices A and B can be added or subtracted to give a new $n \\times m$ matrix:\n",
    "$$(A + B)_{ij} = A_{ij} + B_{ij}.$$"
   ]
  },
  {
   "cell_type": "markdown",
   "id": "61917add",
   "metadata": {
    "slideshow": {
     "slide_type": "fragment"
    }
   },
   "source": [
    "### Scalar-Matrix multiplication\n",
    "\n",
    "$\\color{#EF5645}{\\text{Definition}}$: A scalar β and an $n \\times m$ matrix a can be multiplied to give a new $n \\times m$ matrix: \n",
    "$$(βA)_{ij} = \\beta A_{ij}.$$"
   ]
  },
  {
   "cell_type": "markdown",
   "id": "6788095d",
   "metadata": {
    "slideshow": {
     "slide_type": "fragment"
    }
   },
   "source": [
    "### Elementwise-multiplication (Hadamard Product)\n",
    "\n",
    "$\\color{#EF5645}{\\text{Definition}}$: Two $n \\times m$ matrices $A$ amd $B$ can be multiplied to give a new $n \\times m$ matrix: \n",
    "$$(A \\odot B)_{ij} = A_{ij}B_{ij}.$$"
   ]
  },
  {
   "cell_type": "markdown",
   "id": "f260356e",
   "metadata": {
    "slideshow": {
     "slide_type": "slide"
    }
   },
   "source": [
    "## Frobenius Norm\n",
    "\n",
    "$\\color{#EF5645}{\\text{Definition}}$: For a $n \\times m$ matrix $A$, we define the _matrix norm_ as:\n",
    "\n",
    "<center>\n",
    "$||A|| = \\sqrt{\\sum_{i=1}^n \\sum_{j=1}^m A_{ij}^2}.$</center>\n",
    "\n",
    "$\\color{#EF5645}{\\text{Remark}}$: This definition agrees with the definition of norm of vectors when $n=1$ or $m=1$.\n",
    "\n",
    "$\\color{#047C91}{\\text{Exercise}}$: Compute the matrix norm of $A = \\begin{vmatrix}\n",
    "1 & 0 & -1\\\\\n",
    "0 & 1 & 1 \\end{vmatrix}.$\n",
    "\n",
    "$\\color{#003660}{\\text{In Python}}$, we use `np.linalg.norm`."
   ]
  },
  {
   "cell_type": "code",
   "execution_count": 27,
   "id": "36284b53",
   "metadata": {},
   "outputs": [
    {
     "name": "stdout",
     "output_type": "stream",
     "text": [
      "2.0\n"
     ]
    }
   ],
   "source": [
    "import numpy as np\n",
    "\n",
    "A = np.array([\n",
    "    [1, 0, -1],\n",
    "    [0, 1, 1]\n",
    "])\n",
    "print(np.linalg.norm(A))"
   ]
  },
  {
   "cell_type": "markdown",
   "id": "d125b471",
   "metadata": {
    "slideshow": {
     "slide_type": "slide"
    }
   },
   "source": [
    "$\\color{#047C91}{\\text{Exercise}}$: Can you write a function that determines the Frobenius norm of a matrix $A$ in terms of the Eulciden norm of its column vectors $a_1, \\dots, a_m$?"
   ]
  },
  {
   "cell_type": "code",
   "execution_count": 136,
   "id": "0c0218e2",
   "metadata": {
    "slideshow": {
     "slide_type": "-"
    }
   },
   "outputs": [
    {
     "name": "stdout",
     "output_type": "stream",
     "text": [
      "2.0\n"
     ]
    }
   ],
   "source": [
    "def frobenius_norm(A):\n",
    "    n, m = np.shape(A)\n",
    "    norm = 0\n",
    "    for j in range(m):\n",
    "        a = A[:,j]\n",
    "        norm += np.dot(a,a)\n",
    "    return np.sqrt(norm)\n",
    "\n",
    "\n",
    "A = np.array([\n",
    "    [1, 0, -1],\n",
    "    [0, 1, 1]\n",
    "])\n",
    "print(frobenius_norm(A))"
   ]
  },
  {
   "cell_type": "markdown",
   "id": "0b51ebc7",
   "metadata": {
    "slideshow": {
     "slide_type": "slide"
    }
   },
   "source": [
    "## Transpose\n",
    "\n",
    "$\\color{#EF5645}{\\text{Definition}}$: The _transpose of an $n \\times m$ matrix_ $A$ is a $m \\times n$ matrix, written $A^T$, and is defined by:\n",
    "$$ (A^T)_{ij} = A_{ji}, \\quad i = 1,...,m \\quad j=1,...,n$$\n",
    "\n",
    "$\\color{#047C91}{\\text{Example}}$: $\\begin{vmatrix}\n",
    "0.2 & 1.2 & 10 \\\\\n",
    "0 & -3 & 0\n",
    "\\end{vmatrix}^T = \\begin{vmatrix}\n",
    "0.2 & 0 \\\\\n",
    "1.2 & -3 \\\\\n",
    "10 & 0\n",
    "\\end{vmatrix}$\n",
    "\n",
    "\n",
    "$\\color{#6D7D33}{\\text{Property}}$: The transpose verifies:\n",
    "- $(A^T)^T = A$\n",
    "- $(A + B)^T = A^T + B^T$\n",
    "\n",
    "_Hint:_ $\\color{#003660}{\\text{In Python}}$, we use `imshow` to plot an image."
   ]
  },
  {
   "cell_type": "code",
   "execution_count": 18,
   "id": "bc7d5890",
   "metadata": {
    "scrolled": true
   },
   "outputs": [
    {
     "name": "stdout",
     "output_type": "stream",
     "text": [
      "[[ 1  0 -1]\n",
      " [ 0  1  0]]\n",
      "[[ 1  0]\n",
      " [ 0  1]\n",
      " [-1  0]]\n"
     ]
    },
    {
     "data": {
      "image/png": "[encoded data removed]",
      "text/plain": [
       "<Figure size 640x480 with 1 Axes>"
      ]
     },
     "metadata": {},
     "output_type": "display_data"
    },
    {
     "data": {
      "image/png": "[encoded data removed]",
      "text/plain": [
       "<Figure size 640x480 with 1 Axes>"
      ]
     },
     "metadata": {},
     "output_type": "display_data"
    }
   ],
   "source": [
    "A = np.array([\n",
    "    [1, 0, -1],\n",
    "    [0, 1, 0]])\n",
    "\n",
    "print(A)\n",
    "print(A.T)\n",
    "\n",
    "plt.imshow(A)\n",
    "plt.show()\n",
    "plt.imshow(A.T)\n",
    "plt.show()"
   ]
  },
  {
   "cell_type": "markdown",
   "id": "2ffab908",
   "metadata": {
    "slideshow": {
     "slide_type": "slide"
    }
   },
   "source": [
    "## Trace\n",
    "\n",
    "$\\color{#EF5645}{\\text{Definition}}$: The _trace of an $n \\times m$ matrix_ $A$ is a scalar, written $\\mathrm{tr}(A)$, and is defined as:\n",
    "$$ \\mathrm{tr}(A) = \\sum_{i = 1}^{\\min{n,m}}A_{ii}$$\n",
    "\n",
    "$\\color{#047C91}{\\text{Example}}$: $\\mathrm{Tr}\\left(\\begin{vmatrix}\n",
    "0.2 & 1.2 & 10 \\\\\n",
    "0 & -3 & 0\n",
    "\\end{vmatrix}\\right) = 0.2 + -3  = -2.8$\n",
    "\n",
    "\n",
    "$\\color{#6D7D33}{\\text{Property}}$: The trace verifies:\n",
    "- $\\mathrm{tr}(A) = \\mathrm{tr}(A^T)$"
   ]
  },
  {
   "cell_type": "code",
   "execution_count": 99,
   "id": "bfb62448",
   "metadata": {},
   "outputs": [
    {
     "name": "stdout",
     "output_type": "stream",
     "text": [
      "-1\n"
     ]
    }
   ],
   "source": [
    "A = np.array([\n",
    "    [1, 0, -1],\n",
    "    [0, 1, 0],\n",
    "    [0, 2, -3]\n",
    "])\n",
    "\n",
    "print(np.trace(A))"
   ]
  },
  {
   "cell_type": "markdown",
   "id": "113d68e6",
   "metadata": {
    "slideshow": {
     "slide_type": "slide"
    }
   },
   "source": [
    "$\\color{#047C91}{\\text{Exercise}}$: What is the trace of the $n \\times n$ identity matrix?"
   ]
  },
  {
   "cell_type": "code",
   "execution_count": 101,
   "id": "a8eeb38a",
   "metadata": {
    "slideshow": {
     "slide_type": "-"
    }
   },
   "outputs": [
    {
     "name": "stdout",
     "output_type": "stream",
     "text": [
      "100.0\n"
     ]
    }
   ],
   "source": [
    "n = 100\n",
    "print(np.trace(np.eye(n)))"
   ]
  },
  {
   "cell_type": "markdown",
   "id": "43cd5556",
   "metadata": {
    "slideshow": {
     "slide_type": "slide"
    }
   },
   "source": [
    "## Matrix-Vector Multiplication\n",
    "\n",
    "$\\color{#EF5645}{\\text{Definition}}$: If $A$ is an $n \\times m$ matrix and $x$ is an $m$-vector, then the _matrix-vector_ product $y = Ax$ is the $n$-vector with elements: \n",
    "$$y_i = \\sum_{j = 1}^m A_{ij}x_j$$\n",
    "\n",
    "$\\color{#047C91}{\\text{Example}}$: \n",
    "\n",
    "$$\\begin{vmatrix}\n",
    "0 & 2 & -1 \\\\\n",
    "-2 & 1 & 1\n",
    "\\end{vmatrix} \n",
    "\\begin{vmatrix}\n",
    "2 \\\\\n",
    "1 \\\\\n",
    "-1\n",
    "\\end{vmatrix} = \n",
    "\\begin{vmatrix}\n",
    "3 \\\\\n",
    "-4\n",
    "\\end{vmatrix}$$"
   ]
  },
  {
   "cell_type": "code",
   "execution_count": 143,
   "id": "aef4c6f3",
   "metadata": {},
   "outputs": [
    {
     "name": "stdout",
     "output_type": "stream",
     "text": [
      "[ 3 -4]\n"
     ]
    }
   ],
   "source": [
    "A = np.array([\n",
    "    [0, 2, -1],\n",
    "    [-2, 1, 1]])\n",
    "x = np.array([2, 1, -1])\n",
    "\n",
    "y = A @ x\n",
    "y = A.dot(x)\n",
    "\n",
    "print(y)"
   ]
  },
  {
   "cell_type": "markdown",
   "id": "59899c65",
   "metadata": {
    "slideshow": {
     "slide_type": "slide"
    }
   },
   "source": [
    "$\\color{#047C91}{\\text{Exercise}}$: Can you write a function that computes the matrix-vector product only using dot products?"
   ]
  },
  {
   "cell_type": "code",
   "execution_count": 144,
   "id": "c6bec1f2",
   "metadata": {},
   "outputs": [
    {
     "name": "stdout",
     "output_type": "stream",
     "text": [
      "[ 3. -4.]\n"
     ]
    }
   ],
   "source": [
    "def matrix_vector_dot(A, x):\n",
    "    n, m = np.shape(A)\n",
    "#     if m != np.size(x):\n",
    "#         return False\n",
    "    y = np.zeros(n)\n",
    "    for i in range(n):\n",
    "        a = A[i,:]\n",
    "        y[i] = np.dot(a, x)\n",
    "    return y\n",
    "\n",
    "A = np.array([\n",
    "    [0, 2, -1],\n",
    "    [-2, 1, 1]])\n",
    "x = np.array([2, 1, -1])\n",
    "y = matrix_vector_dot(A, x)\n",
    "print(y)"
   ]
  },
  {
   "cell_type": "markdown",
   "id": "12209667",
   "metadata": {
    "slideshow": {
     "slide_type": "slide"
    }
   },
   "source": [
    "$\\color{#047C91}{\\text{Exercise}}$: Can you write a function that computes the matrix-vector product only using linear combinations?"
   ]
  },
  {
   "cell_type": "code",
   "execution_count": null,
   "id": "01ea96a9",
   "metadata": {},
   "outputs": [],
   "source": [
    "# DO from here."
   ]
  },
  {
   "cell_type": "code",
   "execution_count": 145,
   "id": "4dd49f69",
   "metadata": {},
   "outputs": [
    {
     "name": "stdout",
     "output_type": "stream",
     "text": [
      "[ 3. -4.]\n"
     ]
    }
   ],
   "source": [
    "def matrix_vector_linear_comb(A, x):\n",
    "    n, m = np.shape(A)\n",
    "    y = np.zeros(n)\n",
    "    for j in range(m):\n",
    "        a = A[:,j]\n",
    "        y += x[j] * a\n",
    "    return y\n",
    "\n",
    "A = np.array([\n",
    "    [0, 2, -1],\n",
    "    [-2, 1, 1]])\n",
    "x = np.array([2, 1, -1])\n",
    "y = matrix_vector_linear_comb(A, x)\n",
    "print(y)"
   ]
  },
  {
   "cell_type": "markdown",
   "id": "e012f8c1",
   "metadata": {
    "slideshow": {
     "slide_type": "slide"
    }
   },
   "source": [
    "$\\color{#047C91}{\\text{Exercise}}$: If $a$ and $b$ are $n$-vectors, what is the matrix vector product $a^Tb$?"
   ]
  },
  {
   "cell_type": "code",
   "execution_count": 3,
   "id": "dab587d8",
   "metadata": {
    "scrolled": true
   },
   "outputs": [
    {
     "name": "stdout",
     "output_type": "stream",
     "text": [
      "[[-66]]\n"
     ]
    }
   ],
   "source": [
    "a = np.array([[2, 1, -1, 4, 5, -9]]).T\n",
    "b = np.array([[-1, 1, 4, 4, -1, 8]]).T\n",
    "y = a.T @ b\n",
    "print(y)"
   ]
  },
  {
   "cell_type": "markdown",
   "id": "7bf9edab",
   "metadata": {
    "slideshow": {
     "slide_type": "slide"
    }
   },
   "source": [
    "## Matrix-Matrix Multiplication\n",
    "\n",
    "$\\color{#EF5645}{\\text{Definition}}$: An $n \\times m$ matrix $A$ and a $m \\times k$ matrix $B$ be multiplied to give a new $n \\times k$ matrix C: \n",
    "$$C = AB$$\n",
    "\n",
    "where the jth column vector of $C$ is given by the matrix vector product $Ab_j$ where $b_j$ is the jth column vector of $B$."
   ]
  },
  {
   "cell_type": "markdown",
   "id": "e2c590c5",
   "metadata": {
    "slideshow": {
     "slide_type": "slide"
    }
   },
   "source": [
    "**Problem 1:** What is stored in the variable `b` in the following python code?"
   ]
  },
  {
   "cell_type": "code",
   "execution_count": 8,
   "id": "22e0afa3",
   "metadata": {},
   "outputs": [
    {
     "data": {
      "text/plain": [
       "array([7., 7., 7.])"
      ]
     },
     "execution_count": 8,
     "metadata": {},
     "output_type": "execute_result"
    }
   ],
   "source": [
    "import numpy as np\n",
    "x = np.array([1, -3, 9])\n",
    "A = np.ones((3, 3))\n",
    "b = A @ x\n",
    "b"
   ]
  },
  {
   "cell_type": "markdown",
   "id": "b9b4a58d",
   "metadata": {
    "slideshow": {
     "slide_type": "-"
    }
   },
   "source": [
    "- `b = [0, 0, 0]`\n",
    "- `b = [1, -3, 9]`\n",
    "- `b = [7, 6, 9]`\n",
    "- `b = [7, 7, 7]`\n",
    "- `ValueError: mismatch in dimension`"
   ]
  },
  {
   "cell_type": "markdown",
   "id": "459d13ea",
   "metadata": {
    "slideshow": {
     "slide_type": "slide"
    }
   },
   "source": [
    "**Problem 2:** What is stored in the variable `b` in the following python code?"
   ]
  },
  {
   "cell_type": "code",
   "execution_count": 5,
   "id": "fea911f9",
   "metadata": {},
   "outputs": [
    {
     "data": {
      "text/plain": [
       "array([0., 0., 0.])"
      ]
     },
     "execution_count": 5,
     "metadata": {},
     "output_type": "execute_result"
    }
   ],
   "source": [
    "import numpy as np\n",
    "x = np.array([1, -3, 9])\n",
    "A = np.zeros((3, 3))\n",
    "b = A @ x\n",
    "b"
   ]
  },
  {
   "cell_type": "markdown",
   "id": "eae6d900",
   "metadata": {
    "slideshow": {
     "slide_type": "-"
    }
   },
   "source": [
    "- `b = [0, 0, 0]`\n",
    "- `b = [1, -3, 9]`\n",
    "- `b = [7, 6, 9]`\n",
    "- `b = [7, 7, 7]`\n",
    "- `ValueError: mismatch in dimension`"
   ]
  },
  {
   "cell_type": "markdown",
   "id": "3fabd944",
   "metadata": {
    "slideshow": {
     "slide_type": "slide"
    }
   },
   "source": [
    "**Problem 3:** What is stored in the variable `b` in the following python code?"
   ]
  },
  {
   "cell_type": "code",
   "execution_count": 27,
   "id": "4d4e04b4",
   "metadata": {},
   "outputs": [
    {
     "data": {
      "text/plain": [
       "array([ 1., -3.,  9.])"
      ]
     },
     "execution_count": 27,
     "metadata": {},
     "output_type": "execute_result"
    }
   ],
   "source": [
    "import numpy as np\n",
    "x = np.array([1, -3, 9])\n",
    "A = np.eye(3)\n",
    "b = A @ x"
   ]
  },
  {
   "cell_type": "markdown",
   "id": "29ffa9fd",
   "metadata": {
    "slideshow": {
     "slide_type": "-"
    }
   },
   "source": [
    "- `b = [0, 0, 0]`\n",
    "- `b = [1, -3, 9]`\n",
    "- `b = [7, 6, 9]`\n",
    "- `b = [7, 7, 7]`\n",
    "- `ValueError: mismatch in dimension`"
   ]
  },
  {
   "cell_type": "markdown",
   "id": "1f8f628b",
   "metadata": {
    "slideshow": {
     "slide_type": "slide"
    }
   },
   "source": [
    "**Problem 4:** What is stored in the variable `b` in the following python code?"
   ]
  },
  {
   "cell_type": "code",
   "execution_count": 29,
   "id": "01bcbfa0",
   "metadata": {},
   "outputs": [],
   "source": [
    "import numpy as np\n",
    "x = np.array([1, -3, 9])\n",
    "A = np.array([\n",
    "    [1, 1, 1],\n",
    "    [0, 1, 1],\n",
    "    [0, 0, 1]\n",
    "])\n",
    "b = A @ x"
   ]
  },
  {
   "cell_type": "markdown",
   "id": "18a73dda",
   "metadata": {
    "slideshow": {
     "slide_type": "-"
    }
   },
   "source": [
    "- `b = [0, 0, 0]`\n",
    "- `b = [1, -3, 9]`\n",
    "- `b = [7, 6, 9]`\n",
    "- `b = [7, 7, 7]`\n",
    "- `ValueError: mismatch in dimension`"
   ]
  },
  {
   "cell_type": "markdown",
   "id": "f3d9b339",
   "metadata": {
    "slideshow": {
     "slide_type": "slide"
    }
   },
   "source": [
    "**Problem 5:** What is stored in the variable `b` in the following python code?"
   ]
  },
  {
   "cell_type": "code",
   "execution_count": 31,
   "id": "1d258d98",
   "metadata": {},
   "outputs": [],
   "source": [
    "import numpy as np\n",
    "x = np.array([1, -3, 9])\n",
    "A = np.array([\n",
    "    [-6, 1, 1],\n",
    "    [0, 3, 1],\n",
    "    [3, 1, 0]\n",
    "])\n",
    "b = A @ x"
   ]
  },
  {
   "cell_type": "markdown",
   "id": "f32c7b9f",
   "metadata": {
    "slideshow": {
     "slide_type": "-"
    }
   },
   "source": [
    "- `b = [0, 0, 0]`\n",
    "- `b = [1, -3, 9]`\n",
    "- `b = [7, 6, 9]`\n",
    "- `b = [7, 7, 7]`\n",
    "- `ValueError: mismatch in dimension`"
   ]
  },
  {
   "cell_type": "markdown",
   "id": "ca63ac6b",
   "metadata": {
    "slideshow": {
     "slide_type": "slide"
    }
   },
   "source": [
    "### Outer-Product\n",
    "\n",
    "$\\color{#EF5645}{\\text{Definition}}$: An $n$-vectors $a$ amd a $m$-vector $b$ can be multiplied to give a new $n \\times m$ matrix called the _outer product_: \n",
    "$$(a b^T)_{ij} = a_ib_j$$"
   ]
  },
  {
   "cell_type": "markdown",
   "id": "c37ac3f8",
   "metadata": {
    "slideshow": {
     "slide_type": "slide"
    }
   },
   "source": [
    "$\\color{#047C91}{\\text{Exercise}}$: If $a$ and $b$ are $n$-vectors, what is the matrix matrix product $ab^T$? "
   ]
  },
  {
   "cell_type": "code",
   "execution_count": 6,
   "id": "77b58bfc",
   "metadata": {
    "scrolled": false
   },
   "outputs": [
    {
     "name": "stdout",
     "output_type": "stream",
     "text": [
      "[[ -2   2   8   8  -2  16]\n",
      " [ -1   1   4   4  -1   8]\n",
      " [  1  -1  -4  -4   1  -8]\n",
      " [ -4   4  16  16  -4  32]\n",
      " [ -5   5  20  20  -5  40]\n",
      " [  9  -9 -36 -36   9 -72]]\n"
     ]
    }
   ],
   "source": [
    "a = np.array([[2, 1, -1, 4, 5, -9]]).T\n",
    "b = np.array([[-1, 1, 4, 4, -1, 8]]).T\n",
    "y = a @ b.T\n",
    "print(y)"
   ]
  },
  {
   "cell_type": "code",
   "execution_count": null,
   "id": "0273f2c3",
   "metadata": {},
   "outputs": [],
   "source": []
  }
 ],
 "metadata": {
  "celltoolbar": "Slideshow",
  "kernelspec": {
   "display_name": "venv_ece3",
   "language": "python",
   "name": "venv_ece3"
  },
  "language_info": {
   "codemirror_mode": {
    "name": "ipython",
    "version": 3
   },
   "file_extension": ".py",
   "mimetype": "text/x-python",
   "name": "python",
   "nbconvert_exporter": "python",
   "pygments_lexer": "ipython3",
   "version": "3.10.6"
  }
 },
 "nbformat": 4,
 "nbformat_minor": 5
}
