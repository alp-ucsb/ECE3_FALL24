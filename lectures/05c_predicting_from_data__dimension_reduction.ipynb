{
 "cells": [
  {
   "cell_type": "markdown",
   "id": "3c7f2404",
   "metadata": {
    "slideshow": {
     "slide_type": "slide"
    }
   },
   "source": [
    "# 09 Matrix Multiplication\n",
    "\n",
    "<center><img src=\"figs/09_six_degrees.png\" alt=\"default\" width=600px/></center>\n",
    "\n",
    "<center>Six degrees of separation theory</center>"
   ]
  },
  {
   "cell_type": "markdown",
   "id": "9f746c1b",
   "metadata": {
    "slideshow": {
     "slide_type": "slide"
    }
   },
   "source": [
    "#### Unit 1: Vectors, Textbook Ch. 1-5\n",
    "\n",
    "#### Unit 2: Matrices, Textbook Ch. 6-11\n",
    "- 06 Matrices\n",
    "- 07 Linear Equations\n",
    "- 08 Linear Dynamical Systems\n",
    "- **_09 Matrix Multiplication_**\n",
    "- 10 Matrix Inverse\n",
    "\n",
    "#### Unit 3: Least Squares, Textbook Ch. 12-14"
   ]
  },
  {
   "cell_type": "markdown",
   "id": "619f68af",
   "metadata": {
    "slideshow": {
     "slide_type": "slide"
    }
   },
   "source": [
    "##### Outline: 09 Matrix Multiplication\n",
    "\n",
    "- **[Matrix Multiplication](#sec-matrices)**\n",
    "- [Composition of linear functions](#sec-matrices)\n",
    "- [Matrix powers](#sec-matrices)\n",
    "- [QR factorization](#sec-matrices)"
   ]
  },
  {
   "cell_type": "markdown",
   "id": "1d904b7f",
   "metadata": {
    "slideshow": {
     "slide_type": "slide"
    }
   },
   "source": [
    "### Matrix Multiplication\n",
    "\n",
    "$\\color{#EF5645}{\\text{Definition}}$: Consider $m \\times p$ matrix $A$ and $p \\times n$ matrix $B$. The _matrix multiplication_, written $C = AB$ is defined as:\n",
    "$$C_{ij} = \\sum_{k=1}^p  A_{ik}B_{kj} \\text{ for } i= 1, ...m , j = 1, ...n$$\n",
    "\n",
    "$\\color{#047C91}{\\text{Exercise}}$: Compute the matrix multiplication for the following matrices.\n",
    "\n",
    "<center><img src=\"figs/09_mat_ab.png\" width=400px alt=\"default\"/></center>"
   ]
  },
  {
   "cell_type": "markdown",
   "id": "b91f9544",
   "metadata": {
    "slideshow": {
     "slide_type": "slide"
    }
   },
   "source": [
    "### Special Cases of Matrix Multiplication\n",
    "\n",
    "$\\color{#EF5645}{\\text{Remark}}$: For $x, y$ vectors, and $A$ a matrix, the following are special cases of matrix multiplication:\n",
    "- inner-product $x^T y$,\n",
    "- matrix vector multiplication $Ax$.\n",
    "\n",
    "\n",
    "$\\color{#EF5645}{\\text{Definition}}$: The _outer product_ of $m$-vector $x$ and $n$-vector $y$ is defined as $xy^T$. It is also a special case of matrix multiplication."
   ]
  },
  {
   "cell_type": "markdown",
   "id": "5415f177",
   "metadata": {
    "slideshow": {
     "slide_type": "slide"
    }
   },
   "source": [
    "$\\color{#6D7D33}{\\text{Properties}}$: For matrices $A, B, C$ and identity matrix $I$, we have the properties:\n",
    "- Associativity: $$(AB)C = A(BC)$$\n",
    "- Distributivity: $$A(B+C)  = AB + AC$$\n",
    "- Transpose: $$(AB)^T = B^T A^T$$\n",
    "- $AI = A$ and $IA = A$."
   ]
  },
  {
   "cell_type": "markdown",
   "id": "7b4ebe58",
   "metadata": {
    "slideshow": {
     "slide_type": "slide"
    }
   },
   "source": [
    "$\\color{#047C91}{\\text{Exercise}}$: Compute $B^TA^T$ for the following matrices.\n",
    "<center><img src=\"figs/09_mat_ab.png\" width=500px alt=\"default\"/></center>"
   ]
  },
  {
   "cell_type": "markdown",
   "id": "19e18682",
   "metadata": {
    "slideshow": {
     "slide_type": "slide"
    }
   },
   "source": [
    "$\\color{#EF5645}{\\text{Important remark}}$: $AB = BA$ does NOT hold in general. We say that the matrix multiplication is NOT commutative.\n",
    "\n",
    "$\\color{#047C91}{\\text{Exercise}}$: Compute $BA$ for the following matrices. Observe that it differs from $AB$.\n",
    "\n",
    "<center><img src=\"figs/09_mat_ab.png\" width=400px alt=\"default\"/></center>\n"
   ]
  },
  {
   "cell_type": "markdown",
   "id": "1e20395e",
   "metadata": {
    "slideshow": {
     "slide_type": "slide"
    }
   },
   "source": [
    "### Exercises\n",
    "\n",
    "$\\color{#047C91}{\\text{Exercise}}$: Let $A$ be a matrix and $I$ be the identity matrix. Show that $AI = A$.\n",
    "\n",
    "$\\color{#047C91}{\\text{Exercise}}$: Given $m$-vector $x$ and $n$-vector $y$, write the outer product $xy^T$ using the entries of $x$ and $y$."
   ]
  },
  {
   "cell_type": "markdown",
   "id": "9582cab5",
   "metadata": {
    "slideshow": {
     "slide_type": "slide"
    }
   },
   "source": [
    "$\\color{#003660}{\\text{In Python}}$, we us `np.matmul` or `@` to compute the matrix multiplication. Verify that the matrix multiplication is generally NOT commutative by choosing matrices $A, B$ and computing $AB$ and $BA$."
   ]
  },
  {
   "cell_type": "code",
   "execution_count": 8,
   "id": "e41a7420",
   "metadata": {},
   "outputs": [
    {
     "name": "stdout",
     "output_type": "stream",
     "text": [
      "[[ 9.8 20.1]\n",
      " [15.  37.9]]\n"
     ]
    },
    {
     "data": {
      "text/plain": [
       "array([[ 8.9, 13.5],\n",
       "       [20.4, 38.8]])"
      ]
     },
     "execution_count": 8,
     "metadata": {},
     "output_type": "execute_result"
    }
   ],
   "source": [
    "import numpy as np\n",
    "A = np.array([[1., 3.],[3., 5.]])\n",
    "B = np.array([[-1., 3.3],[3.6, 5.6]])\n",
    "C = A @ B; print(C) #np.matmul(A, B)\n",
    "B @ A"
   ]
  },
  {
   "cell_type": "markdown",
   "id": "fdbe0f09",
   "metadata": {
    "slideshow": {
     "slide_type": "slide"
    }
   },
   "source": [
    "### Inner-product interpretation\n",
    "\n",
    "$\\color{#6D7D33}{\\text{Properties}}$: Consider matrices $A, B$ with $a_i^T$ the rows of $A$ nd $b_j$ the columns of $B$. We have: \n",
    "\n",
    "<center><img src=\"figs/09_ab_innerprod.png\" width=500px alt=\"default\"/></center>\n",
    "\n",
    "\n",
    "The matrix multiplication gathers the inner-products of rows of $A$ and columns of $B$."
   ]
  },
  {
   "cell_type": "markdown",
   "id": "1b8a1f11",
   "metadata": {
    "slideshow": {
     "slide_type": "slide"
    }
   },
   "source": [
    "### Building Matrices from Matrices\n",
    "\n",
    "$\\color{#EF5645}{\\text{Definition}}$: Let $A$ be an $m \\times n$ matrix with columns $a_1, .., a_n$. The Gram matrix $G$ of $A$ is:\n",
    "<center><img src=\"figs/09_gram.png\" width=600px alt=\"default\"/></center>\n",
    " The Gram matrix gives all inner products of columns of $A$.\n",
    "\n",
    "$\\color{#6D7D33}{\\text{Property}}$: If $G = I$ then columns of $A$ are orthonormal."
   ]
  },
  {
   "cell_type": "markdown",
   "id": "49824477",
   "metadata": {
    "slideshow": {
     "slide_type": "slide"
    }
   },
   "source": [
    "##### Outline: 09 Matrix Multiplication\n",
    "\n",
    "- [Matrix Multiplication](#sec-matrices)\n",
    "- **[Composition of linear functions](#sec-matrices)**\n",
    "- [Matrix powers](#sec-matrices)\n",
    "- [QR factorization](#sec-matrices)"
   ]
  },
  {
   "cell_type": "markdown",
   "id": "dfb489d8",
   "metadata": {
    "slideshow": {
     "slide_type": "slide"
    }
   },
   "source": [
    "### Composition of Functions\n",
    "\n",
    "$\\color{#EF5645}{\\text{Definition}}$: Consider $f: \\mathbb{R}^p \\rightarrow \\mathbb{R}^m$ and $g: \\mathbb{R}^n \\rightarrow \\mathbb{R}^p$. \n",
    "\n",
    "The function $h: \\mathbb{R}^n \\rightarrow \\mathbb{R}^m$ defined as: $h(x) = f(g(x))$ for all $x \\in \\mathbb{R}^n$ is called the composition of $f$ and $g$.\n"
   ]
  },
  {
   "cell_type": "markdown",
   "id": "c61cbdb7",
   "metadata": {
    "slideshow": {
     "slide_type": "slide"
    }
   },
   "source": [
    "### Composition of Linear Functions\n",
    "\n",
    "\n",
    "$\\color{#6D7D33}{\\text{Proposition}}$: Assume functions $f, g$ are linear functions, thus can be written as: $f(u) = Au$ and $g(x)=Bx$ for $n$-vector $x$ and $p$-vector $u$. Then the composition $h$ can be written as: $h(x) = (AB)x$.\n",
    "\n",
    "\n",
    "\n",
    "$\\color{#EF5645}{\\text{Remark}}$: This means that:\n",
    "- the composition of linear functions is a linear function,\n",
    "- the associated matrix is product of matrices of the functions."
   ]
  },
  {
   "cell_type": "markdown",
   "id": "56578398",
   "metadata": {
    "slideshow": {
     "slide_type": "slide"
    }
   },
   "source": [
    "##### Outline: 09 Matrix Multiplication\n",
    "\n",
    "- [Matrix Multiplication](#sec-matrices)\n",
    "- [Composition of linear functions](#sec-matrices)\n",
    "- **[Matrix powers](#sec-matrices)**\n",
    "- [QR factorization](#sec-matrices)"
   ]
  },
  {
   "cell_type": "markdown",
   "id": "2172fc56",
   "metadata": {
    "slideshow": {
     "slide_type": "slide"
    }
   },
   "source": [
    "### Matrix Square\n",
    "\n",
    "$\\color{#EF5645}{\\text{Definition}}$: The square of a square matrix $A$, written $A^2$, is defined as: $A^2 = AA$.\n",
    "\n",
    "$\\color{#EF5645}{\\text{Remark}}$:  $A^2$ is NOT computed by squaring each entry of matrix $A$. "
   ]
  },
  {
   "cell_type": "markdown",
   "id": "b7aac046",
   "metadata": {
    "slideshow": {
     "slide_type": "slide"
    }
   },
   "source": [
    "### Matrix Power\n",
    "\n",
    "$\\color{#EF5645}{\\text{Definition}}$: For a positive integer $k$, the $k$th power of a matrix $A$, written $A^k$ is defined as: $A^k = A...A$ with $k$ matrices $A$ multiplied. By convention, $A^0 = I$ the identity matrix.\n",
    "\n",
    "\n",
    "$\\color{#EF5645}{\\text{Remark}}$: $A^k$ is NOT computed by taking the power $k$ of each entry of matrix $A$. "
   ]
  },
  {
   "cell_type": "markdown",
   "id": "f09624c0",
   "metadata": {
    "slideshow": {
     "slide_type": "slide"
    }
   },
   "source": [
    "$\\color{#EF5645}{\\text{Remarks}}$: $\\color{#003660}{\\text{In Python}}$:\n",
    "-  `A ** 2` computes the square of each entry, and not does compute $A^2$.\n",
    "-  `A @ A` or `np.linalg.matrix_power` can compute $A^2$."
   ]
  },
  {
   "cell_type": "code",
   "execution_count": 11,
   "id": "71644210",
   "metadata": {
    "slideshow": {
     "slide_type": "-"
    }
   },
   "outputs": [
    {
     "name": "stdout",
     "output_type": "stream",
     "text": [
      "[[25. 49. 36.]\n",
      " [ 4. 16.  4.]\n",
      " [ 4.  9. 16.]]\n",
      "[[3.03672874e+09 4.92159758e+09 1.58516828e+09]\n",
      " [5.88044466e+08 9.53055282e+08 3.06781144e+08]\n",
      " [1.48287008e+09 2.40327024e+09 7.74090160e+08]]\n"
     ]
    }
   ],
   "source": [
    "A = np.array([[5., 7., 6.],[2., 4., -2.],[2., 3., 4.]])\n",
    "print(A**2)\n",
    "print(np.linalg.matrix_power(A, 10))"
   ]
  },
  {
   "cell_type": "markdown",
   "id": "9df5ed4e",
   "metadata": {
    "slideshow": {
     "slide_type": "slide"
    }
   },
   "source": [
    "$\\color{#047C91}{\\text{Exercise}}$: Take the adjacency matrix associated with the graph below. We state that $(A^l)_{ij}$ is equal to number of paths of length $l$ going from $j$ to $i$.\n",
    "\n",
    "<center><img src=\"figs/09_adjacency.png\" alt=\"default\", width=650px/></center>\n",
    "\n",
    "\n",
    "Verify this statement in a special case, by computing $(A^2)_{11}$."
   ]
  },
  {
   "cell_type": "markdown",
   "id": "0d8e31b8",
   "metadata": {
    "slideshow": {
     "slide_type": "slide"
    }
   },
   "source": [
    "### Inverse\n",
    "\n",
    "$\\color{#EF5645}{\\text{Definition}}$: If ...\n",
    "\n",
    "We say that $A$ is invertible. \n",
    "\n",
    "We denote $A^{-1}$ the (unique) inverse of $A$.\n",
    "\n"
   ]
  },
  {
   "cell_type": "markdown",
   "id": "aef54e93",
   "metadata": {
    "slideshow": {
     "slide_type": "slide"
    }
   },
   "source": [
    "$\\color{#6D7D33}{\\text{Properties}}$:\n",
    "- If $A$ is invertible then $A$ is square.\n",
    "- The inverse of the inverse is: $(A^{-1})^{-1} = A$.\n",
    "\n",
    "$\\color{#047C91}{\\text{Exercise}}$: Prove the above statements."
   ]
  },
  {
   "cell_type": "markdown",
   "id": "c1fe1931",
   "metadata": {
    "slideshow": {
     "slide_type": "slide"
    }
   },
   "source": [
    "### Which Matrices are Invertible?\n",
    "\n",
    "$\\color{#6D7D33}{\\text{Properties}}$: These matrices are always invertible:\n",
    "- Any lower triangular matrix $L$ with nonzero diagonal entries is invertible. \n",
    "- Any upper triangular $R$ with nonzero diagonal entries is invertible.\n",
    "\n",
    "$\\color{#047C91}{\\text{Exercise}}$: Give examples of invertible matrices."
   ]
  },
  {
   "cell_type": "markdown",
   "id": "479c1dc6",
   "metadata": {
    "slideshow": {
     "slide_type": "slide"
    }
   },
   "source": [
    "### Computing Inverses: $2 \\times 2$ matrices\n",
    "\n",
    "$\\color{#6D7D33}{\\text{Properties}}$: Consider $A$ is a $2 \\times 2$ matrix:\n",
    "- $A$ is invertible if and only if $A_{11}A_{22} \\neq A_{12}A_{21}$.\n",
    "- In this case:\n",
    "\n",
    "<center><img src=\"figs/lec10_2by2_inverse.png\" width=400px alt=\"default\"/></center>\n",
    "\n",
    "\n",
    "$\\color{#047C91}{\\text{Exercise}}$: Compute the inverse of:\n",
    "\n",
    "<center><img src=\"figs/lec10_exercise_2by2_inverse.png\" width=100px alt=\"default\"/></center>\n"
   ]
  },
  {
   "cell_type": "markdown",
   "id": "2bee1cf4",
   "metadata": {
    "slideshow": {
     "slide_type": "slide"
    }
   },
   "source": [
    "###  Computing Inverses\n",
    "\n",
    "$\\color{#6D7D33}{\\text{Properties}}$: Some matrices have \"easy\" inverses:\n",
    "- The identity matrix: \n",
    "  - Then $I^{-1} = I$\n",
    "- A square $Q$ matrix that verifies $Q^TQ = I$:\n",
    "  - Then $Q^{-1} = Q^T$.\n",
    "- A diagonal matrix $D = diag(a_1, ..., a_n)$ with nonzero elements:\n",
    "  - Then $D^{-1} = diag(\\frac{1}{a_1}, ..., \\frac{1}{a_n}).$"
   ]
  },
  {
   "cell_type": "markdown",
   "id": "ff351212",
   "metadata": {
    "slideshow": {
     "slide_type": "slide"
    }
   },
   "source": [
    "### Computing Inverses\n",
    "\n",
    "$\\color{#6D7D33}{\\text{Properties}}$: Consider invertible square matrices $A, B$ with known inverses $A^{-1}, B^{-1}$.\n",
    "- $(AB)^{-1} = B^{-1}A^{-1}$\n",
    "- $(A^T)^{-1} = (A^{-1})^T$\n",
    "\n",
    "$\\color{#047C91}{\\text{Exercise}}$: Prove the two first bullet points.\n",
    "\n",
    "\n",
    "$\\color{#EF5645}{\\text{Notation}}$: Negative powers! $A^{-k} = (A^{k})^{-1}$"
   ]
  },
  {
   "cell_type": "markdown",
   "id": "7a8c8d58",
   "metadata": {
    "slideshow": {
     "slide_type": "slide"
    }
   },
   "source": [
    "### Computing Inverses in Python\n",
    "\n",
    "$\\color{#003660}{\\text{In Python}}$, we use `np.linalg.inv` to compute the inverse."
   ]
  },
  {
   "cell_type": "code",
   "execution_count": 7,
   "id": "15de41a1",
   "metadata": {},
   "outputs": [
    {
     "name": "stdout",
     "output_type": "stream",
     "text": [
      "[[ 1.   -0.5 ]\n",
      " [ 0.    0.25]]\n"
     ]
    }
   ],
   "source": [
    "import numpy as np\n",
    "\n",
    "A = np.array([\n",
    "    [1, 2],\n",
    "    [0, 4]\n",
    "])\n",
    "print(np.linalg.inv(A))"
   ]
  },
  {
   "cell_type": "markdown",
   "id": "a405fee4",
   "metadata": {
    "slideshow": {
     "slide_type": "slide"
    }
   },
   "source": [
    "$\\color{#047C91}{\\text{Exercise}}$: Give an idea on how to prove the six degrees separation theory.\n",
    "\n",
    "<center><img src=\"figs/09_six_degrees.png\" alt=\"default\" width=350px/></center>\n",
    "\n",
    "This is the theory that any person on the planet can be connected to any other person on the planet through a chain of acquaintances that has no more than five intermediaries."
   ]
  },
  {
   "cell_type": "markdown",
   "id": "0ce7637f",
   "metadata": {},
   "source": [
    "# TODO: PCA"
   ]
  }
 ],
 "metadata": {
  "celltoolbar": "Slideshow",
  "kernelspec": {
   "display_name": "Python 3 (ipykernel)",
   "language": "python",
   "name": "python3"
  },
  "language_info": {
   "codemirror_mode": {
    "name": "ipython",
    "version": 3
   },
   "file_extension": ".py",
   "mimetype": "text/x-python",
   "name": "python",
   "nbconvert_exporter": "python",
   "pygments_lexer": "ipython3",
   "version": "3.9.9"
  }
 },
 "nbformat": 4,
 "nbformat_minor": 5
}
