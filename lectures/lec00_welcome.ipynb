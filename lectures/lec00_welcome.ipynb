{
 "cells": [
  {
   "cell_type": "markdown",
   "metadata": {},
   "source": [
    "##### Welcome to ECE 3\n",
    "\n",
    "### Introduction to Electrical and Computer Engineering\n",
    "\n",
    "$\\color{#003660}{\\text{Nina Miolane - Assistant Professor}}$ \n",
    "\n",
    "BioShape Lab @ UCSB ECE"
   ]
  },
  {
   "cell_type": "markdown",
   "metadata": {},
   "source": [
    "<center><img src=\"figs/00_signal_processing.jpeg\" width=400px alt=\"default\"/></center>"
   ]
  },
  {
   "cell_type": "markdown",
   "metadata": {
    "slideshow": {
     "slide_type": "slide"
    }
   },
   "source": [
    "# Outline: Welcome\n",
    "\n",
    "- [Syllabus for ECE 3](#sec-syllabus)\n",
    "\n",
    "- [Real-World Applications Electrical and Computer Engineering](#sec-ece)\n",
    "    - What is ECE?\n",
    "    - ECE for Computational Medicine: Example of Diagnosis of Rheumatic Heart Diseases\n",
    "    - ECE for Signal Processing: Example of Image Compression\n",
    "\n",
    "- [Outline of ECE 3](#sec-outline)\n",
    "\n",
    "<center><img src=\"figs/00_signal_processing.jpeg\" width=300px alt=\"default\"/></center>"
   ]
  },
  {
   "cell_type": "markdown",
   "metadata": {
    "slideshow": {
     "slide_type": "slide"
    }
   },
   "source": [
    "# Outline: Welcome\n",
    "\n",
    "- **[Syllabus for ECE 3](#sec-syllabus)**\n",
    "\n",
    "- [Real-World Applications Electrical and Computer Engineering](#sec-ece)\n",
    "    - What is ECE?\n",
    "    - ECE for Computational Medicine: Example of Diagnosis of Rheumatic Heart Diseases\n",
    "    - ECE for Signal Processing: Example of Image Compression\n",
    "\n",
    "- [Outline of ECE 3](#sec-outline)\n",
    "\n",
    "<center><img src=\"figs/00_signal_processing.jpeg\" width=300px alt=\"default\"/></center>"
   ]
  },
  {
   "cell_type": "markdown",
   "metadata": {
    "slideshow": {
     "slide_type": "notes"
    }
   },
   "source": [
    "<a id='sec-syllabus'></a>"
   ]
  },
  {
   "cell_type": "markdown",
   "metadata": {
    "slideshow": {
     "slide_type": "slide"
    }
   },
   "source": [
    "# Instructor: Nina Miolane (me)"
   ]
  },
  {
   "cell_type": "markdown",
   "metadata": {
    "cell_style": "split"
   },
   "source": [
    "<img src=\"figs/00_nina.jpg\" width=300px alt=\"default\"/>"
   ]
  },
  {
   "cell_type": "markdown",
   "metadata": {
    "cell_style": "split"
   },
   "source": [
    "<img src=\"figs/00_brains.jpg\" width=300px alt=\"default\"/>"
   ]
  },
  {
   "cell_type": "markdown",
   "metadata": {},
   "source": [
    "$\\color{#047C91}{\\text{Research}}$: Exploring the geometries of life: \n",
    "- how proteins, cells, organs adopt specific shapes to function.\n",
    "\n",
    "$\\color{#047C91}{\\text{Office Hours}}$: OH: Mondays 9:00-10:00 AM\n",
    "- (via Zoom in October, ECE TA Offices in Trailer 699, Room 103 after)."
   ]
  },
  {
   "cell_type": "markdown",
   "metadata": {
    "slideshow": {
     "slide_type": "slide"
    }
   },
   "source": [
    "# Second Instructor: Haewon Jeong"
   ]
  },
  {
   "cell_type": "markdown",
   "metadata": {
    "cell_style": "split"
   },
   "source": [
    "\n",
    "\n",
    "<img src=\"figs/00_portrait_haewon.jpeg\" width=400px alt=\"default\"/>\n"
   ]
  },
  {
   "cell_type": "markdown",
   "metadata": {
    "cell_style": "split"
   },
   "source": [
    "\n",
    "\n",
    "$\\color{#047C91}{\\text{Research}}$: \n",
    "- Information theory, \n",
    "- Distributed computing, \n",
    "- Machine learning.\n",
    "\n"
   ]
  },
  {
   "cell_type": "markdown",
   "metadata": {
    "slideshow": {
     "slide_type": "slide"
    }
   },
   "source": [
    "# Teaching Assistants"
   ]
  },
  {
   "cell_type": "markdown",
   "metadata": {
    "cell_style": "center"
   },
   "source": [
    "<center><img src=\"figs/00_tas.jpg\" width=900px alt=\"default\"/></center>\n",
    "\n",
    "\n",
    "<center>From left to right: Monsij, Aditya, Zihu, Zheng, Venkat</center>\n",
    "\n",
    "$\\color{#047C91}{\\text{Office Hours}}$: in ECE TA Offices in Trailer 699, Room 103:\n",
    "- Tu 4:45 - 5:45 PM (Zihu)        \n",
    "- W 2:00 - 3:00 PM (Zheng)\n",
    "- W 5:30 - 6:30 PM (Aditya)\n",
    "- Th 10:00 - 11:00 AM (Venkat)\n",
    "- Th 3:30 - 4:30 PM (Monsij)"
   ]
  },
  {
   "cell_type": "markdown",
   "metadata": {
    "slideshow": {
     "slide_type": "slide"
    }
   },
   "source": [
    "# Classes and Labs"
   ]
  },
  {
   "cell_type": "markdown",
   "metadata": {
    "cell_style": "center",
    "slideshow": {
     "slide_type": "-"
    }
   },
   "source": [
    "$\\color{#EF5645}{\\text{Classes}}$: in CHEM 1171, MW 12:30 PM - 1:45 PM (slides posted on Slack)\n",
    "\n",
    "$\\color{#EF5645}{\\text{Labs}}$: in ESB 1003 \n",
    "- M    5:00 – 6:50 PM  Monsij\n",
    "- Tu   5:00 – 6:50 PM  Zheng\n",
    "- W    5:00 – 6:50 PM  Zihu\n",
    "- W    7:00 – 8:50 PM  Aditya\n",
    "- Th   5:00 – 6:50 PM\t Venkat"
   ]
  },
  {
   "cell_type": "markdown",
   "metadata": {},
   "source": [
    "- You are required to attend all the lectures, labs and the exam.\n",
    "- Do not enroll in other courses whose schedule is conflicting with ECE 3. \n",
    "- If you cannot attend all lectures, labs and the exam, please drop this class.\n"
   ]
  },
  {
   "cell_type": "markdown",
   "metadata": {
    "slideshow": {
     "slide_type": "slide"
    }
   },
   "source": [
    "# Textbook\n",
    "\n",
    "The textbook is considered supplementary to classes:\n",
    "- [Introduction to Linear Algebra](http://vmls-book.stanford.edu/vmls.pdf) (ILA), by Stephen Boyd and Lieven Vandenberghe, Stanford University.\n",
    "\n",
    "$\\color{#EF5645}{\\text{Remarks}}$:\n",
    "- Freely available online.\n",
    "- We will not cover all topics in the book. \n",
    "- We will cover a few topics not in the book."
   ]
  },
  {
   "cell_type": "markdown",
   "metadata": {
    "slideshow": {
     "slide_type": "slide"
    }
   },
   "source": [
    "# Quick Survey"
   ]
  },
  {
   "cell_type": "markdown",
   "metadata": {},
   "source": [
    "$\\color{#EF5645}{\\text{Quick Survey to get to know you:}}$\n",
    "\n",
    "- Are you a: \n",
    "    - 1st year, 2nd year, 3rd year undergraduate student? Master student?\n",
    "- How comfortable are you with pre-calculus: \n",
    "    - Very comfortable, normally comfortable, terrorised?\n",
    "- What is your programming experience: \n",
    "    - Comfortable in Python, Comfortable in another language, Beginner, No experience?"
   ]
  },
  {
   "cell_type": "markdown",
   "metadata": {
    "slideshow": {
     "slide_type": "slide"
    }
   },
   "source": [
    "# Grading\n",
    "\n",
    "- $\\color{#EF5645}{\\text{Homeworks}}$: 55%\n",
    "    - Posted on Th. by 11:59 PM PST, starting this week. Due next Th. by 11: 59 PM PST. \n",
    "    - No late HW. Lowest HW score will be weighted by 50%.\n",
    "- $\\color{#EF5645}{\\text{Final exam}}$: 40%\n",
    "    - Friday, December 9, 2022 12:00 PM - 3:00 PM (likely in CHEM 1171).\n",
    "    - No make-up exam.\n",
    "- $\\color{#EF5645}{\\text{Constructive Participation}}$: 5%\n",
    "    - Asking and answering questions, in class, labs and on Slack.\n",
    "- $\\color{#EF5645}{\\text{Extra Credits}}$: up to +15% total\n",
    "    - Additional assignments on Datacamp (up to +10%).\n",
    "    - Send feedback about the class (up to +5%).\n",
    "\n",
    "There is no midterm exam."
   ]
  },
  {
   "cell_type": "markdown",
   "metadata": {
    "slideshow": {
     "slide_type": "skip"
    }
   },
   "source": [
    "# Good practices: Homework and Exam\n",
    "\n",
    "- $\\color{#EF5645}{\\text{Notations}}$: Be consistent.\n",
    "- $\\color{#EF5645}{\\text{Reasoning}}$: Explain each step: which rule did you use and why are you allowed to use it? What are the assumptions?\n",
    "- $\\color{#EF5645}{\\text{Computations}}$: First do literal computations, then replace by numerical values.\n",
    "- $\\color{#EF5645}{\\text{Result presentation}}$: If there is a unit associated to the final result, add it: Dollars? Books? Coins?\n",
    "- $\\color{#EF5645}{\\text{Result checking}}$: Does my result make intuitive sense?\n",
    "- $\\color{#EF5645}{\\text{Plotting}}$: Label the axes, add the values to the axes, legend, etc.\n",
    "\n",
    "These are taken into account while grading your assignments."
   ]
  },
  {
   "cell_type": "markdown",
   "metadata": {
    "slideshow": {
     "slide_type": "slide"
    }
   },
   "source": [
    "# First two Homework\n",
    "\n",
    "We will use Datacamp, for hands-on Python Exercises\n",
    "\n",
    "Course in “Assignments”: \n",
    "- 1) \"Introduction to Python\"\n",
    "- 2) \"Introduction to visualization in Python\"\n",
    "\n",
    "Use [this link](https://www.datacamp.com/users/sign_up?group_invite=true&group_name=Electrical+and+Computer+Engineering&group_type=academic&policy_version=&redirect=https%3A%2F%2Fwww.datacamp.com%2Fgroups%2Fshared_links%2Feb79f3fa6d0c5e91f65ffe4544f2db5907e78ddd99ae64b48c43ad46b4aeba27%3Fdc_referrer%3Dmain-group%26tos%3Dtrue) to join with your `@ucsb.edu` address."
   ]
  },
  {
   "cell_type": "markdown",
   "metadata": {
    "slideshow": {
     "slide_type": "slide"
    }
   },
   "source": [
    "# Next Homework: Jupyter Notebooks\n",
    "\n",
    "We will use:\n",
    "- Python version 3.7 or higher as our programming language,\n",
    "- Jupyter notebooks to run Python interactively in a web browser.\n",
    "\n",
    "You should download Anaconda which will install everything you need to run Python 3.7+ and Jupyter notebooks:\n",
    "- Anaconda: https://www.anaconda.com/download\n",
    "\n",
    "The TAs will demo the setup process in the lab sessions."
   ]
  },
  {
   "cell_type": "markdown",
   "metadata": {
    "slideshow": {
     "slide_type": "slide"
    }
   },
   "source": [
    "# Read the Syllabus\n",
    "\n",
    "- More details in the Syllabus.\n",
    "- If, after (1) reading carefully the syllabus and the slides, and (2) having talked to your classmates, \n",
    "you still have doubts on how the course is structured and/or how the grading is performed, contact the course staff."
   ]
  },
  {
   "cell_type": "markdown",
   "metadata": {
    "slideshow": {
     "slide_type": "notes"
    }
   },
   "source": [
    "<a id='sec-ece'></a>"
   ]
  },
  {
   "cell_type": "markdown",
   "metadata": {
    "slideshow": {
     "slide_type": "slide"
    }
   },
   "source": [
    "# Outline: Welcome\n",
    "\n",
    "- [Syllabus for ECE 3](#sec-syllabus)\n",
    "\n",
    "- **[Real-World Applications Electrical and Computer Engineering](#sec-ece)**\n",
    "    - **What is ECE?**\n",
    "    - ECE for Computational Medicine: Example of Diagnosis of Rheumatic Heart Diseases\n",
    "    - ECE for Signal Processing: Example of Image Compression\n",
    "\n",
    "- [Outline of ECE 3](#sec-outline)\n",
    "\n",
    "<center><img src=\"figs/00_signal_processing.jpeg\" width=300px alt=\"default\"/></center>"
   ]
  },
  {
   "cell_type": "markdown",
   "metadata": {
    "cell_style": "split",
    "slideshow": {
     "slide_type": "slide"
    }
   },
   "source": [
    "# What is ECE?\n",
    "\n",
    "Electrical and Computer Engineering (ECE) focuses on design, development and production of:\n",
    "- hardware, electronic devices: smartphone, laptop, GPS, LED lights\n",
    "- software, i.e. computer programs\n",
    "\n",
    "that can acquire, process, analyze and transmit information."
   ]
  },
  {
   "cell_type": "markdown",
   "metadata": {
    "cell_style": "split"
   },
   "source": [
    "<center><img src=\"figs/00_ece.png\" alt=\"default\"/></center>"
   ]
  },
  {
   "cell_type": "markdown",
   "metadata": {
    "cell_style": "center",
    "slideshow": {
     "slide_type": "slide"
    }
   },
   "source": [
    "# Why studying ECE?\n",
    "\n",
    "Many good reasons to study ECE:\n",
    "- ECE is at the core of modern society, and the unseen force behind today’s intelligent systems. \n",
    "- ECE is present all around us:\n",
    "    - Precision health, \n",
    "    - Clean energy, \n",
    "    - Cybersecurity, \n",
    "    - Autonomous vehicles, \n",
    "    - Communications, \n",
    "    - Quantum revolution,\n",
    "    - and more..."
   ]
  },
  {
   "cell_type": "markdown",
   "metadata": {
    "slideshow": {
     "slide_type": "slide"
    }
   },
   "source": [
    "# Electrical Engineers\n",
    "\n",
    "- Develop wind, solar, and traditional energy systems to help provide everyone in the world with electricity\n",
    "- Design controls and communications systems to help doctors perform surgery with smarter robots\n",
    "- Enhance image processing and make better instruments to help diagnose and treat diseases\n",
    "- Develop nanotechnologies to help scientists study microorganisms\n",
    "- Design computer circuits to help speed up networks and processors that run your smartphone and other electronics\n",
    "- Improve batteries that help run electric-powered cars"
   ]
  },
  {
   "cell_type": "markdown",
   "metadata": {
    "slideshow": {
     "slide_type": "slide"
    }
   },
   "source": [
    "# Computer Engineers\n",
    "\n",
    "- Improve Internet security to help protect your information and make it safer to buy things online\n",
    "- Design faster processors to help make HDTV and 3-D TV watching and video gaming experiences better\n",
    "- Develop biomedical systems to help monitor patients in hospitals\n",
    "- Implement sensor networks to help make robots more human-like\n",
    "- Create the smart power grid to help manage energy distribution to households across the country\n",
    "- Work with digital forensics to help police and the FBI track and catch cyber criminals"
   ]
  },
  {
   "cell_type": "markdown",
   "metadata": {
    "slideshow": {
     "slide_type": "slide"
    }
   },
   "source": [
    "# Job Market for ECE\n",
    "\n",
    "- One of the fastest growing career fields in the US\n",
    "- Pays well: starting salaries at 70k$\\$$ - 160$\\$$, salaries up to 300k$\\$$ after 3 years.\n",
    "- Can be applied to different fields!\n",
    "- Good knowledge foundation to start a company."
   ]
  },
  {
   "cell_type": "markdown",
   "metadata": {
    "slideshow": {
     "slide_type": "slide"
    }
   },
   "source": [
    "# Outline: Welcome\n",
    "\n",
    "- [Syllabus for ECE 3](#sec-syllabus)\n",
    "\n",
    "- [Real-World Applications Electrical and Computer Engineering](#sec-ece)\n",
    "    - What is ECE?\n",
    "    - **ECE for Computational Medicine: Example of Diagnosis of Rheumatic Heart Diseases**\n",
    "    - ECE for Signal Processing: Example of Image Compression\n",
    "\n",
    "- [Outline of ECE 3](#sec-outline)\n",
    "\n",
    "<center><img src=\"figs/00_signal_processing.jpeg\" width=300px alt=\"default\"/></center>"
   ]
  },
  {
   "cell_type": "markdown",
   "metadata": {
    "slideshow": {
     "slide_type": "slide"
    }
   },
   "source": [
    "# ECE for Computational Medicine"
   ]
  },
  {
   "cell_type": "markdown",
   "metadata": {},
   "source": [
    "<center><img src=\"figs/00_computational_medicine.png\" width=900px alt=\"default\"/></center>"
   ]
  },
  {
   "cell_type": "markdown",
   "metadata": {
    "slideshow": {
     "slide_type": "slide"
    }
   },
   "source": [
    "# Example of Rheumatic Heart Disease"
   ]
  },
  {
   "cell_type": "markdown",
   "metadata": {},
   "source": [
    "<center><img src=\"figs/00_rhd_map.jpg\" width=600px alt=\"default\"/></center>\n",
    "\n",
    "- Heart valves damaged by rheumatic fever (complication of strep throat)\n",
    "- Rare in developed countries, 1% of children in developing countries\n",
    "- $\\color{#003660}{\\text{Treatment}}$: Easy to treat with antibiotics\n",
    "- $\\color{#EF5645}{\\text{Problem}}$: Hard to diagnose without proper medical infrastructure\n",
    "- Source: https://www.hopkinsmedicine.org/health/"
   ]
  },
  {
   "cell_type": "markdown",
   "metadata": {
    "slideshow": {
     "slide_type": "slide"
    }
   },
   "source": [
    "# A solution from ECE"
   ]
  },
  {
   "cell_type": "markdown",
   "metadata": {},
   "source": [
    "<center><img src=\"figs/00_echogps.png\" width=500px alt=\"default\"/></center>\n",
    "<center>Teacher in Kenya acquiring echocardiographies of his students (Caption Health)</center>\n",
    "\n",
    "- Hardware: Portable echocardiography system\n",
    "- Software: Automatic diagnosis algorithm\n",
    "\n",
    "$\\color{#003660}{\\text{Make quality medical imaging universally accessible}}$"
   ]
  },
  {
   "cell_type": "markdown",
   "metadata": {
    "slideshow": {
     "slide_type": "slide"
    }
   },
   "source": [
    "# A closer look: Image in the Computer"
   ]
  },
  {
   "cell_type": "markdown",
   "metadata": {},
   "source": [
    "<center><img src=\"figs/00_image_a.jpg\" alt=\"default\"/></center>\n",
    "\n",
    "<center>(a) Grayscale image of character 'A' (b) Binary representation of character 'A'; (c) Binary matrix representation and (d) Reshaped sample of character 'A'.</center>"
   ]
  },
  {
   "cell_type": "markdown",
   "metadata": {},
   "source": [
    "An image can be represented as a matrix or a vector.\n",
    "\n",
    "We will learn how to perform computations on vectors and matrices, and thus on images."
   ]
  },
  {
   "cell_type": "markdown",
   "metadata": {
    "slideshow": {
     "slide_type": "slide"
    }
   },
   "source": [
    "# A closer look: Computing with Images"
   ]
  },
  {
   "cell_type": "markdown",
   "metadata": {
    "cell_style": "split"
   },
   "source": [
    "<center><img src=\"figs/00_diagnosis.png\" width=500px alt=\"default\"/></center>"
   ]
  },
  {
   "cell_type": "markdown",
   "metadata": {
    "cell_style": "split"
   },
   "source": [
    "In this neural network (NN):\n",
    "- Input = an image = vector/matrix\n",
    "- Each layer = \"transformed image\" = vector/matrix\n",
    "- In the NN, we perform operations on vectors and matrices"
   ]
  },
  {
   "cell_type": "markdown",
   "metadata": {},
   "source": [
    "$\\color{#003660}{\\text{We will learn how to compute this and use it in ECE applications.}}$"
   ]
  },
  {
   "cell_type": "markdown",
   "metadata": {
    "slideshow": {
     "slide_type": "slide"
    }
   },
   "source": [
    "# Outline: Welcome\n",
    "\n",
    "- [Syllabus for ECE 3](#sec-syllabus)\n",
    "\n",
    "- **[Real-World Applications Electrical and Computer Engineering](#sec-ece)**\n",
    "    - What is ECE?\n",
    "    - ECE for Computational Medicine: Example of Diagnosis of Rheumatic Heart Diseases\n",
    "    - **ECE for Signal Processing: Example of Image Compression**\n",
    "\n",
    "- [Outline of ECE 3](#sec-outline)\n",
    "\n",
    "<center><img src=\"figs/00_signal_processing.jpeg\" width=300px alt=\"default\"/></center>"
   ]
  },
  {
   "cell_type": "markdown",
   "metadata": {
    "slideshow": {
     "slide_type": "slide"
    }
   },
   "source": [
    "# ECE for Signal Processing\n",
    "\n"
   ]
  },
  {
   "cell_type": "markdown",
   "metadata": {
    "cell_style": "split"
   },
   "source": [
    "<center><img src=\"figs/00_signal_processing.jpeg\" width=600px alt=\"default\"/></center>"
   ]
  },
  {
   "cell_type": "markdown",
   "metadata": {
    "cell_style": "split"
   },
   "source": [
    "<center><img src=\"figs/01_signal_vector.png\" alt=\"default\" width=700px/></center>"
   ]
  },
  {
   "cell_type": "markdown",
   "metadata": {},
   "source": [
    "Signal processing is an ECE subfield: \n",
    "- that can analyze, modify, and synthesize signals (sound, images, etc),\n",
    "- in order to improve transmission, storage efficiency and subjective quality."
   ]
  },
  {
   "cell_type": "markdown",
   "metadata": {
    "slideshow": {
     "slide_type": "slide"
    }
   },
   "source": [
    "# Example of Image Compression"
   ]
  },
  {
   "cell_type": "markdown",
   "metadata": {},
   "source": [
    "<center><img src=\"figs/00_silicon_valley.png\" alt=\"default\"/></center>\n",
    "<center>Silicon Valley TV Show</center>\n",
    "\n",
    "- an engineer creates an app called \"Pied Piper\" with a revolutionary data compression algorithm (reduce size in bytes of a file, such as an image).\n",
    "\n",
    "$\\color{#003660}{\\text{Why is data compression so important?}}$\n",
    "- Less space in memory: less expenses for storage + less time for transfer.\n",
    "\n",
    "Compression helps with costs and productivity."
   ]
  },
  {
   "cell_type": "markdown",
   "metadata": {
    "slideshow": {
     "slide_type": "slide"
    }
   },
   "source": [
    "# A Solution from ECE"
   ]
  },
  {
   "cell_type": "markdown",
   "metadata": {},
   "source": [
    "<center><img src=\"figs/00_compression_dena.jpeg\" width=750px alt=\"default\"/></center>\n",
    "<center>Several Levels of compression for \"Lena\"</center>\n",
    "\n",
    "- Most used image in computer vision literature: used to develop `.jpeg`\n",
    "- Originally comes from the cover of a playboy magazine (1972)\n",
    "- New documentary \"Losing Lena\": end the use of her image.\n",
    "\n",
    "Source: https://pursuit.unimelb.edu.au/articles/it-s-time-to-retire-lena-from-computer-science"
   ]
  },
  {
   "cell_type": "markdown",
   "metadata": {
    "slideshow": {
     "slide_type": "slide"
    }
   },
   "source": [
    "# A Closer Look: Image in the Computer"
   ]
  },
  {
   "cell_type": "markdown",
   "metadata": {},
   "source": [
    "<center><img src=\"figs/00_image_a.jpg\" width=400px alt=\"default\"/></center>\n",
    "<center>(a) Grayscale image of character 'A' (b) Binary representation of character 'A'; (c) Binary matrix representation and (d) Reshaped sample of character 'A'.</center>\n",
    "\n",
    "We find the \"best decomposition\": $A \\simeq \\alpha_1 u_1.v_1^T + \\alpha_2 u_2.v2^T$ where:\n",
    "- $\\alpha_1, \\alpha_2$ are just numbers called \"scalars\"\n",
    "- $u_1, v_1, u_2, v_2$ are \"vectors\", $T$ means \"transpose\"\n",
    "\n",
    "If image A is of size $n \\times n $, then it will actually be stored with only $2+4*n$ elements.\n",
    "\n",
    "$\\color{#003660}{\\text{We will learn how to compute this, and use it for applications.}}$"
   ]
  },
  {
   "cell_type": "markdown",
   "metadata": {
    "slideshow": {
     "slide_type": "slide"
    }
   },
   "source": [
    "# Outline: Welcome\n",
    "\n",
    "- [Syllabus for ECE 3](#sec-syllabus)\n",
    "\n",
    "- [Real-World Applications Electrical and Computer Engineering](#sec-ece)\n",
    "    - What is ECE?\n",
    "    - ECE for Computational Medicine: Example of Diagnosis of Rheumatic Heart Diseases\n",
    "    - ECE for Signal Processing: Example of Image Compression\n",
    "\n",
    "- **[Outline of ECE 3](#sec-outline)**\n",
    "\n",
    "<center><img src=\"figs/00_signal_processing.jpeg\" width=300px alt=\"default\"/></center>"
   ]
  },
  {
   "cell_type": "markdown",
   "metadata": {
    "slideshow": {
     "slide_type": "notes"
    }
   },
   "source": [
    "<a id='sec-outline'></a>"
   ]
  },
  {
   "cell_type": "markdown",
   "metadata": {
    "slideshow": {
     "slide_type": "slide"
    }
   },
   "source": [
    "# Outline of ECE 3\n",
    "\n",
    "- Unit 1: Vectors, Textbook Ch. 1-5\n",
    "- Unit 2: Matrices, Textbook Ch. 6-11\n",
    "- Unit 3: Least Squares, Textbook Ch. 12-14\n",
    "\n",
    "$\\rightarrow$ Linear Algebra, and its implementation in Python, that support ECE applications.\n",
    "\n",
    "$\\rightarrow$ No hardware nor electric circuit design in this class.\n",
    "\n",
    "$\\color{#EF5645}{\\text{Remarks}}$:\n",
    "- The course is organized according to the concepts.\n",
    "- We will see ECE applications of these concepts in each unit."
   ]
  },
  {
   "cell_type": "markdown",
   "metadata": {
    "slideshow": {
     "slide_type": "slide"
    }
   },
   "source": [
    "# Questions?\n",
    "\n",
    "- [Syllabus for ECE 3](#sec-syllabus)\n",
    "\n",
    "- [Real-World Applications Electrical and Computer Engineering](#sec-ece)\n",
    "    - What is ECE?\n",
    "    - ECE for Computational Medicine: Example of Diagnosis of Rheumatic Heart Diseases\n",
    "    - ECE for Signal Processing: Example of Image Compression\n",
    "\n",
    "- [Outline of ECE 3](#sec-outline)\n",
    "\n",
    "<center><img src=\"figs/00_signal_processing.jpeg\" width=300px alt=\"default\"/></center>"
   ]
  }
 ],
 "metadata": {
  "celltoolbar": "Slideshow",
  "kernelspec": {
   "display_name": "Python 3 (ipykernel)",
   "language": "python",
   "name": "python3"
  },
  "language_info": {
   "codemirror_mode": {
    "name": "ipython",
    "version": 3
   },
   "file_extension": ".py",
   "mimetype": "text/x-python",
   "name": "python",
   "nbconvert_exporter": "python",
   "pygments_lexer": "ipython3",
   "version": "3.9.9"
  }
 },
 "nbformat": 4,
 "nbformat_minor": 2
}
