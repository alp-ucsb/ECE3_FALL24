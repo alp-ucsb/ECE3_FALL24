{
 "cells": [
  {
   "cell_type": "markdown",
   "id": "333f93ff",
   "metadata": {
    "slideshow": {
     "slide_type": "slide"
    }
   },
   "source": [
    "# Second Anonymous Survey\n",
    "\n",
    "Thank you for filling out this survey (link posted on Slack):\n",
    "\n",
    "https://forms.gle/T8aE9c3WvXpsGaoYA"
   ]
  },
  {
   "cell_type": "markdown",
   "id": "76abc72e",
   "metadata": {
    "slideshow": {
     "slide_type": "slide"
    }
   },
   "source": [
    "# Final Exam\n",
    "\n",
    "Final exam:\n",
    "- How to best prepare? Lectures, Labs, HWs.\n",
    "- Week before: Mock exam.\n",
    "- Note: No code\n"
   ]
  },
  {
   "cell_type": "markdown",
   "id": "89a4c59b",
   "metadata": {
    "slideshow": {
     "slide_type": "slide"
    }
   },
   "source": [
    "# Participation Grade\n",
    "\n",
    "Participation:\n",
    "- in class\n",
    "- on Slack: help answering each other's question\n",
    "- giving feedback on the class"
   ]
  },
  {
   "cell_type": "markdown",
   "id": "43cfc1c2",
   "metadata": {
    "slideshow": {
     "slide_type": "slide"
    }
   },
   "source": [
    "# Labs Anonymous Survey\n",
    "\n",
    "<center><img src=\"figs/survey_labs_difficulty.png\" width=700px alt=\"default\"/></center>"
   ]
  },
  {
   "cell_type": "markdown",
   "id": "bb45e421",
   "metadata": {
    "slideshow": {
     "slide_type": "slide"
    }
   },
   "source": [
    "# Labs Anonymous Survey\n",
    "\n",
    "<center><img src=\"figs/survey_labs_speed.png\" width=700px alt=\"default\"/></center>"
   ]
  },
  {
   "cell_type": "markdown",
   "id": "8d97a3f3",
   "metadata": {
    "slideshow": {
     "slide_type": "slide"
    }
   },
   "source": [
    "# Labs Anonymous Survey\n",
    "\n",
    "<center><img src=\"figs/survey_labs_design.png\" width=700px alt=\"default\"/></center>"
   ]
  },
  {
   "cell_type": "markdown",
   "id": "ddefd004",
   "metadata": {
    "slideshow": {
     "slide_type": "slide"
    }
   },
   "source": [
    "# Results of Second Anonymous Survey"
   ]
  },
  {
   "cell_type": "markdown",
   "id": "55bc9174",
   "metadata": {
    "slideshow": {
     "slide_type": "slide"
    }
   },
   "source": [
    "<center><img src=\"figs/survey_results.png\" width=800px alt=\"default\"/></center>"
   ]
  },
  {
   "cell_type": "markdown",
   "id": "97d52c27",
   "metadata": {
    "cell_style": "center",
    "slideshow": {
     "slide_type": "slide"
    }
   },
   "source": [
    "<center><img src=\"figs/survey_math_nina.png\" width=600px alt=\"default\"/></center>\n"
   ]
  },
  {
   "cell_type": "markdown",
   "id": "506741e6",
   "metadata": {
    "cell_style": "center",
    "slideshow": {
     "slide_type": "slide"
    }
   },
   "source": [
    "<center><img src=\"figs/survey_python_difficulty_nina.png\" width=600px alt=\"default\"/></center>\n"
   ]
  },
  {
   "cell_type": "markdown",
   "id": "d5d550b0",
   "metadata": {
    "slideshow": {
     "slide_type": "slide"
    }
   },
   "source": [
    "<center><img src=\"figs/survey_python_nina.png\" width=600px alt=\"default\"/></center>\n"
   ]
  },
  {
   "cell_type": "markdown",
   "id": "6167c98c",
   "metadata": {
    "slideshow": {
     "slide_type": "slide"
    }
   },
   "source": [
    "<center><img src=\"figs/survey_math_difficulty_nina.png\" width=600px alt=\"default\"/></center>\n"
   ]
  },
  {
   "cell_type": "markdown",
   "id": "580c3e7d",
   "metadata": {
    "slideshow": {
     "slide_type": "slide"
    }
   },
   "source": [
    "<center><img src=\"figs/survey_hw.png\" width=600px alt=\"default\"/></center>\n"
   ]
  },
  {
   "cell_type": "markdown",
   "id": "15e90dbd",
   "metadata": {
    "slideshow": {
     "slide_type": "slide"
    }
   },
   "source": [
    "<center><img src=\"figs/survey_oh.png\" width=600px alt=\"default\"/></center>\n"
   ]
  },
  {
   "cell_type": "markdown",
   "id": "1c355b0b",
   "metadata": {
    "slideshow": {
     "slide_type": "slide"
    }
   },
   "source": [
    "<center><img src=\"figs/survey_oh_quality.png\" width=600px alt=\"default\"/></center>\n"
   ]
  },
  {
   "cell_type": "markdown",
   "id": "0aaa6f6f",
   "metadata": {
    "slideshow": {
     "slide_type": "slide"
    }
   },
   "source": [
    "### Agree with you, but no choice\n",
    "\n",
    "\"PLEASE CHANGE THE NAME! This is not an introduction to Electrical Engineering whatsoever, it is an APPLIED LINEAR ALGEBRA CLASS.\"\n",
    "\n",
    "$\\rightarrow$ Mostly agree with you. I tried, can't change the name nor the content that easily. I'll try again :)\n",
    "\n",
    "\"It's mostly linear algebra concepts and applications through programming.\""
   ]
  },
  {
   "cell_type": "markdown",
   "id": "35ba2dbd",
   "metadata": {
    "slideshow": {
     "slide_type": "slide"
    }
   },
   "source": [
    "### Agree with you, but no choice\n",
    "\n",
    "\n",
    "\"The class might seem slow for students who have taken or are taking Math 4A, but it will seem fast for students still in Calculus.\"\n",
    "\n",
    "$\\rightarrow$ Who is taking Math 4A here?"
   ]
  },
  {
   "cell_type": "markdown",
   "id": "78bfc403",
   "metadata": {
    "slideshow": {
     "slide_type": "slide"
    }
   },
   "source": [
    "### Agree with you, and easy fix\n",
    "\n",
    "\n",
    "\"It would be good if the paragraphs leading up to and explaining the homework problems would include some easy-to-digest documentation for the functions used.\"\n",
    "\n",
    "$\\rightarrow$ DONE.\n",
    "\n",
    "\"For the coding part, I would like something to help check the answer\"\n",
    "\n",
    "$\\rightarrow$ DONE."
   ]
  },
  {
   "cell_type": "markdown",
   "id": "79618c59",
   "metadata": {
    "slideshow": {
     "slide_type": "slide"
    }
   },
   "source": [
    "### Agree with you, and easy fix\n",
    "\n",
    "\n",
    "\"The fill in the blank method of the homework often makes it harder for me, as I feel like there are two challenges: 1, finding the right thing to put in the blank, and 2, understanding what the code overall is actually doing.\"\n",
    "\n",
    "$\\rightarrow$ DONE.\n",
    "\n",
    "\n",
    "\"I wish the updated code that is included in the lectures( when doing the interactive parts) was more accessible to look at.\"\n",
    "\n",
    "$\\rightarrow$ DONE?"
   ]
  },
  {
   "cell_type": "markdown",
   "id": "138dbf18",
   "metadata": {
    "slideshow": {
     "slide_type": "slide"
    }
   },
   "source": [
    "### Agree with you, and harder fix\n",
    "\n",
    "\"Lectures are pretty good, could be a little bit more interactive.\"\n",
    "\n",
    "$\\rightarrow$ Let's try: https://join.iclicker.com/RR4DX."
   ]
  },
  {
   "cell_type": "markdown",
   "id": "60604341",
   "metadata": {
    "slideshow": {
     "slide_type": "slide"
    }
   },
   "source": [
    "### Agree with you, and harder fix\n",
    "\n",
    "\"why are we not doing more hand written homework since no coding is on the final\"\n",
    "\n",
    "\"There is very little python taught in this course, the majority is learned outside of class.\"\n",
    "\n",
    "- Coding is part of the content of this class.\n",
    "- Coding is best learned by trial-and-error.\n",
    "- Showing code on slides is not the most efficient.\n"
   ]
  }
 ],
 "metadata": {
  "celltoolbar": "Slideshow",
  "kernelspec": {
   "display_name": "Python 3 (ipykernel)",
   "language": "python",
   "name": "python3"
  },
  "language_info": {
   "codemirror_mode": {
    "name": "ipython",
    "version": 3
   },
   "file_extension": ".py",
   "mimetype": "text/x-python",
   "name": "python",
   "nbconvert_exporter": "python",
   "pygments_lexer": "ipython3",
   "version": "3.9.9"
  }
 },
 "nbformat": 4,
 "nbformat_minor": 5
}
