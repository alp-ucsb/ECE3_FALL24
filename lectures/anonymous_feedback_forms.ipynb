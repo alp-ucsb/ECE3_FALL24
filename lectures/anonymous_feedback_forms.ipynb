{
 "cells": [
  {
   "cell_type": "markdown",
   "id": "333f93ff",
   "metadata": {
    "slideshow": {
     "slide_type": "slide"
    }
   },
   "source": [
    "# Second Anonymous Survey\n",
    "\n",
    "Fill out this survey:\n",
    "\n",
    "https://forms.gle/T8aE9c3WvXpsGaoYA"
   ]
  },
  {
   "cell_type": "markdown",
   "id": "76abc72e",
   "metadata": {
    "slideshow": {
     "slide_type": "slide"
    }
   },
   "source": [
    "# Final Exam\n",
    "\n",
    "Final exam:\n",
    "- How to best prepare? Lectures, Labs, HWs.\n",
    "- Week before: Mock exam.\n",
    "- Note: No code\n"
   ]
  },
  {
   "cell_type": "markdown",
   "id": "89a4c59b",
   "metadata": {
    "slideshow": {
     "slide_type": "slide"
    }
   },
   "source": [
    "# Participation Grade\n",
    "\n",
    "Participation:\n",
    "- in class\n",
    "- on Slack: help answering each other's question\n",
    "- giving feedback on the class"
   ]
  },
  {
   "cell_type": "markdown",
   "id": "43cfc1c2",
   "metadata": {
    "slideshow": {
     "slide_type": "slide"
    }
   },
   "source": [
    "# Labs Anonymous Survey\n",
    "\n",
    "<center><img src=\"figs/survey_labs_difficulty.png\" width=700px alt=\"default\"/></center>"
   ]
  },
  {
   "cell_type": "markdown",
   "id": "bb45e421",
   "metadata": {
    "slideshow": {
     "slide_type": "slide"
    }
   },
   "source": [
    "# Labs Anonymous Survey\n",
    "\n",
    "<center><img src=\"figs/survey_labs_speed.png\" width=700px alt=\"default\"/></center>"
   ]
  },
  {
   "cell_type": "markdown",
   "id": "8d97a3f3",
   "metadata": {
    "slideshow": {
     "slide_type": "slide"
    }
   },
   "source": [
    "# Labs Anonymous Survey\n",
    "\n",
    "<center><img src=\"figs/survey_labs_design.png\" width=700px alt=\"default\"/></center>"
   ]
  }
 ],
 "metadata": {
  "celltoolbar": "Slideshow",
  "kernelspec": {
   "display_name": "Python 3 (ipykernel)",
   "language": "python",
   "name": "python3"
  },
  "language_info": {
   "codemirror_mode": {
    "name": "ipython",
    "version": 3
   },
   "file_extension": ".py",
   "mimetype": "text/x-python",
   "name": "python",
   "nbconvert_exporter": "python",
   "pygments_lexer": "ipython3",
   "version": "3.9.9"
  }
 },
 "nbformat": 4,
 "nbformat_minor": 5
}
