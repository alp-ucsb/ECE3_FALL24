{
 "cells": [
  {
   "cell_type": "markdown",
   "metadata": {
    "slideshow": {
     "slide_type": "slide"
    }
   },
   "source": [
    "# 04 Summarizing Data"
   ]
  },
  {
   "cell_type": "markdown",
   "metadata": {
    "slideshow": {
     "slide_type": "slide"
    }
   },
   "source": [
    "# Outline of ECE 3\n",
    "\n",
    "- 01: Welcome to Python\n",
    "- 02: Visualizing Data in Python\n",
    "- 03: Computing with Data in Python\n",
    "- **04: Summarizing Data in Python**\n",
    "- 05: Predicting from Data with Machine Learning in Python\n",
    "  - A. Clustering\n",
    "  - B. Linear regression\n",
    "  - C. Dimension Reduction"
   ]
  },
  {
   "cell_type": "markdown",
   "metadata": {
    "slideshow": {
     "slide_type": "slide"
    }
   },
   "source": [
    "# Outline of Unit 04\n",
    "\n",
    "- **04: Summarizing Data in Python**\n",
    "  - Histogram\n",
    "  - Mean\n",
    "  - Standard deviation, Variance\n",
    "  - Covariance, Correlation\n",
    "  \n",
    "  Histograms\n",
    "Mean\n",
    "Mean Square\n",
    "Standard deviation\n",
    "Variance, Standard Deviation, Correlation (David)\n",
    "Homework: Datacamp: Introduction to Statistics in Python (4h)\n",
    "Summary Statistics\n",
    "Random Numbers and Probability\n",
    "More Distributions and the Central Limit Theorem\n",
    "Correlation and Experimental Design\n",
    "\n",
    "\n",
    "For undergrads: aim for 3 min / slide, i.e. 25 slides in 75 min."
   ]
  },
  {
   "cell_type": "markdown",
   "metadata": {
    "slideshow": {
     "slide_type": "slide"
    }
   },
   "source": [
    "### Mean Value\n",
    "\n",
    "$\\color{#EF5645}{\\text{Definition}}$: The _mean value_, or _average_ of an $n$-vector $x$ is:\n",
    "$$\\bar{x} = \\frac{x_1 + ... + x_n}{n}.$$\n",
    "\n",
    "\n",
    "$\\color{#047C91}{\\text{Example}}$: Consider the vector of the blood pressures of a patient recorded every 4 hours during a day $x = (110, 100, 108, 100, 104, 100)$. (in mmHg). Compute the average blood pressure of the patient."
   ]
  },
  {
   "cell_type": "markdown",
   "metadata": {
    "slideshow": {
     "slide_type": "slide"
    }
   },
   "source": [
    "$\\color{#003660}{\\text{In Python}}$, we use the function `average` from `numpy`."
   ]
  },
  {
   "cell_type": "code",
   "execution_count": 26,
   "metadata": {
    "slideshow": {
     "slide_type": "-"
    }
   },
   "outputs": [
    {
     "data": {
      "text/plain": [
       "103.66666666666667"
      ]
     },
     "execution_count": 26,
     "metadata": {},
     "output_type": "execute_result"
    }
   ],
   "source": [
    "x = np.array([110, 100, 108, 100, 104, 100])\n",
    "np.average(x)"
   ]
  },
  {
   "cell_type": "code",
   "execution_count": 35,
   "metadata": {
    "slideshow": {
     "slide_type": "slide"
    }
   },
   "outputs": [
    {
     "data": {
      "image/png": "[encoded data removed]",
      "text/plain": [
       "<Figure size 432x288 with 1 Axes>"
      ]
     },
     "metadata": {
      "needs_background": "light"
     },
     "output_type": "display_data"
    }
   ],
   "source": [
    "import matplotlib.pyplot as plt\n",
    "\n",
    "hours = np.linspace(1, 24, 6)\n",
    "plt.plot(hours, x, label=\"blood pressure\")\n",
    "plt.plot(hours, (np.average(x)) * np.ones(len(x)), label=\"average\")\n",
    "plt.legend();"
   ]
  },
  {
   "cell_type": "markdown",
   "metadata": {
    "slideshow": {
     "slide_type": "slide"
    }
   },
   "source": [
    "##### Outline: 03 Norms and Distances\n",
    "\n",
    "- [Norm](#sec-norm)\n",
    "- [Distance](#sec-distance)\n",
    "- [Angle](#sec-angle)\n",
    "- [Mean](#sec-sd)\n",
    "- **[Mean Square, Root Mean Square](#sec-sd)**\n",
    "- [Standard deviation](#sec-sd)"
   ]
  },
  {
   "cell_type": "markdown",
   "metadata": {
    "slideshow": {
     "slide_type": "slide"
    }
   },
   "source": [
    "### Root Mean Square (RMS) value\n",
    "\n",
    "$\\color{#EF5645}{\\text{Definition}}$: The _mean-square value_ of an $n$-vector $x$ is:\n",
    "$$\\frac{x_1^2 + ... + x_n^2}{n} = \\frac{||x||^2}{n}.$$\n",
    "\n",
    "$\\color{#EF5645}{\\text{Definition}}$: The _root-mean-square (RMS) value_ of an $n$-vector $x$ is:\n",
    "$$\\text{RMS}(x) = \\sqrt{\\frac{x_1^2 + ... + x_n^2}{n}} = \\frac{||x||}{\\sqrt{n}}.$$\n",
    "\n",
    "$\\color{#EF5645}{\\text{Remark}}$: RMS(x) gives \"typical\" values of $|x_i|$."
   ]
  },
  {
   "cell_type": "markdown",
   "metadata": {
    "slideshow": {
     "slide_type": "slide"
    }
   },
   "source": [
    "$\\color{#047C91}{\\text{Exercise}}$: Write a function computing the root-mean-square value in Python."
   ]
  },
  {
   "cell_type": "code",
   "execution_count": 27,
   "metadata": {},
   "outputs": [
    {
     "data": {
      "text/plain": [
       "1.0"
      ]
     },
     "execution_count": 27,
     "metadata": {},
     "output_type": "execute_result"
    }
   ],
   "source": [
    "def rms(x):\n",
    "    return np.linalg.norm(x) / np.sqrt(len(x))\n",
    "\n",
    "# The rms gives typical values:\n",
    "ones = np.ones(4)\n",
    "rms(ones)"
   ]
  },
  {
   "cell_type": "markdown",
   "metadata": {
    "slideshow": {
     "slide_type": "slide"
    }
   },
   "source": [
    "##### Outline: 03 Norms and Distances\n",
    "\n",
    "- [Norm](#sec-norm)\n",
    "- [Distance](#sec-distance)\n",
    "- [Angle](#sec-angle)\n",
    "- [Mean](#sec-sd)\n",
    "- [Mean Square, Root Mean Square](#sec-sd)\n",
    "- **[Standard deviation](#sec-sd)**"
   ]
  },
  {
   "cell_type": "markdown",
   "metadata": {
    "slideshow": {
     "slide_type": "slide"
    }
   },
   "source": [
    "### Standard Deviation\n",
    "\n",
    "$\\color{#EF5645}{\\text{Definition}}$: The _standard deviation_ of the $n$-vector $x$ is:\n",
    "$$std(x) = rms(x - \\bar{x}1) = \\frac{||x - \\bar{x}.1_n ||}{\\sqrt{n}},$$\n",
    "where $\\bar{x}$ is the average of $x$.\n",
    "\n",
    "$\\color{#EF5645}{\\text{Remark:}}$ The standard deviation gives the typical amount that $x_i$ varies around $\\bar{x}.$"
   ]
  },
  {
   "cell_type": "markdown",
   "metadata": {
    "slideshow": {
     "slide_type": "slide"
    }
   },
   "source": [
    "$\\color{#6D7D33}{\\text{Properties}}$:\n",
    "1. $std(x) = 0$ if and only if $x = \\alpha1$ for some scalar $\\alpha$.\n",
    "2. We have: $rms(x)^2 = \\bar{x}^2 + std(x)^2$"
   ]
  },
  {
   "cell_type": "markdown",
   "metadata": {
    "slideshow": {
     "slide_type": "slide"
    }
   },
   "source": [
    "### Example: Finance\n",
    "\n",
    "- $x$: timeseries of returns on an investment (say, in %),\n",
    "- $\\bar{x}$: \"mean return\" over the time period,\n",
    "- $std(x)$: how variable is the return = the \"risk\".\n",
    "\n",
    "Multiple investments (with different return timeseries $x$) are:\n",
    "- compared in terms of return and risk.\n"
   ]
  },
  {
   "cell_type": "markdown",
   "metadata": {
    "slideshow": {
     "slide_type": "slide"
    }
   },
   "source": [
    "<center><img src=\"figs/03_finance.jpg\" alt=\"default\" width=900px/></center>"
   ]
  }
 ],
 "metadata": {
  "celltoolbar": "Slideshow",
  "kernelspec": {
   "display_name": "Python 3 (ipykernel)",
   "language": "python",
   "name": "python3"
  },
  "language_info": {
   "codemirror_mode": {
    "name": "ipython",
    "version": 3
   },
   "file_extension": ".py",
   "mimetype": "text/x-python",
   "name": "python",
   "nbconvert_exporter": "python",
   "pygments_lexer": "ipython3",
   "version": "3.9.9"
  }
 },
 "nbformat": 4,
 "nbformat_minor": 2
}
