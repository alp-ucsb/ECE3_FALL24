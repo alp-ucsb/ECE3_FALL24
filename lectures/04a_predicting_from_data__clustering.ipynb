{
 "cells": [
  {
   "cell_type": "markdown",
   "id": "eb30ebf8",
   "metadata": {
    "id": "eb30ebf8",
    "slideshow": {
     "slide_type": "slide"
    }
   },
   "source": [
    "# 04 Predicting from Data with Machine Learning in Python"
   ]
  },
  {
   "cell_type": "markdown",
   "id": "ef91249e",
   "metadata": {
    "cell_style": "split"
   },
   "source": [
    "<center><img src=\"figs/03_class_header.png\" width=1050px alt=\"default\"/></center>"
   ]
  },
  {
   "cell_type": "markdown",
   "id": "f0f4398f",
   "metadata": {
    "slideshow": {
     "slide_type": "slide"
    }
   },
   "source": [
    "### Feedback about the class!\n",
    "\n",
    "https://forms.gle/GQfk59CJZnELZfJQ6"
   ]
  },
  {
   "cell_type": "markdown",
   "id": "9abf7f98",
   "metadata": {
    "id": "9abf7f98",
    "slideshow": {
     "slide_type": "slide"
    }
   },
   "source": [
    "# Outline of ECE 3\n",
    "\n",
    "- Unit 01: Welcome to Python\n",
    "- Unit 02: Computing with Data in Python\n",
    "- Unit 03: Summarizing Data in Python\n",
    "- **Unit 04: Predicting from Data with Machine Learning in Python**"
   ]
  },
  {
   "cell_type": "markdown",
   "id": "3122b130",
   "metadata": {
    "slideshow": {
     "slide_type": "slide"
    }
   },
   "source": [
    "### Artificial Intelligence (AI)\n",
    "\n",
    "Before defining machine learning, we need to define artificial intelligence. We will see that machine learning is a subfield of artificial intelligence.\n",
    "\n",
    "$\\color{#EF5645}{\\text{Definition}}$: Artificial Intelligence (AI) represents the techniques that enable machines to mimic human intelligence.\n",
    "\n",
    "$\\color{#047C91}{\\text{Example}}$: We can hard-code a chess strategy in a computer, by a decision tree deciding what is the best move for the computer given a situation on the board.\n",
    "\n"
   ]
  },
  {
   "cell_type": "markdown",
   "id": "2b26208d",
   "metadata": {
    "slideshow": {
     "slide_type": "slide"
    }
   },
   "source": [
    "In May of 1997, Garry Kasparov sat down at a chess board in a Manhattan skyscraper. Kasparov was considered the best chess player of all times. He was playing with an AI called Deep Blue. Deep Blue was one of the world’s most powerful supercomputers, built by IBM with a specific goal in mind: to beat humanity at its own game. \n",
    "\n",
    "For IBM, billions of dollars worth of business clout was on the table, and to a certain extent, Kasparov was playing for the fate of chess itself. He had never lost a multi-game match in his entire career. Could a machine beat him? It did.\n",
    "\n",
    "<center><img src=\"figs/04_deep_blue.png\" width=420px alt=\"default\"/></center>"
   ]
  },
  {
   "cell_type": "markdown",
   "id": "d7b80929",
   "metadata": {
    "slideshow": {
     "slide_type": "slide"
    }
   },
   "source": [
    "### Machine Learning (ML)\n",
    "\n",
    "Machine learning is a form of artificial intelligence that uses data.\n",
    "\n",
    "$\\color{#EF5645}{\\text{Definition}}$: Machine Learning (ML) represents the techniques that enable machines to mimic human intelligence by learning from data.\n",
    "\n",
    "$\\color{#047C91}{\\text{Example}}$: The computer has learned what is the next best move, by looking at millions of a given game: Chess... or Go.\n",
    "\n",
    "$\\color{#EF5645}{\\text{Remark}}$: ML is therefore a sub-field of AI."
   ]
  },
  {
   "cell_type": "markdown",
   "id": "a83e9331",
   "metadata": {
    "slideshow": {
     "slide_type": "slide"
    }
   },
   "source": [
    "In March 2016, AlphaGo defeated the world Go champion. AlphaGo is a program that was trained to play the board game Go by looking at a huge number of Go games.\n",
    "\n",
    "AlphaGo's victory was a major milestone. Go had previously been regarded as a hard problem in machine learning that was expected to be out of reach for the technology of the time.\n",
    "\n",
    "AlphaGo had taught itself how to improve its game by playing millions of matches against itself, according to the head of the Google subsidiary that developed the software.\n",
    "\n",
    "\n",
    "<center><img src=\"figs/04_alpha_go.png\" width=550px alt=\"default\"/></center>"
   ]
  },
  {
   "cell_type": "markdown",
   "id": "31881cd1",
   "metadata": {
    "slideshow": {
     "slide_type": "slide"
    }
   },
   "source": [
    "### ML: Supervised Learning and Unsupervised Learning\n",
    "\n",
    "Machine Learning is divided into two principal categories of algorithms: supervised and unsupervised learning algorithms. Both learn from data."
   ]
  },
  {
   "cell_type": "markdown",
   "id": "9c3c1da1",
   "metadata": {
    "slideshow": {
     "slide_type": "slide"
    }
   },
   "source": [
    "### Supervised Learning in ML\n",
    "\n",
    "\n",
    "$\\color{#EF5645}{\\text{Definition}}$: _Supervised learning_ refers to the task of learning a function that maps an input $X$ to an output $Y$ based on examples of input-outputs. The method is:\n",
    "- a _classification_ if outputs are categorical, (e.g., predict if a patient has Alzheimer's from its MRI)\n",
    "- a _regression_ if quantitative (e.g., predict the age of a patient from its MRI).\n",
    "\n",
    "<center><img src=\"figs/03_sl2.png\" width=900px alt=\"default\"/></center>\n",
    "<center>Supervised Learning</center>"
   ]
  },
  {
   "cell_type": "markdown",
   "id": "faa608bc",
   "metadata": {
    "slideshow": {
     "slide_type": "slide"
    }
   },
   "source": [
    "### Unsupervised Learning in ML\n",
    "\n",
    "$\\color{#EF5645}{\\text{Definition}}$: _Unsupervised learning_ refers to the task of discovering any naturally occuring patterns in a dataset of data points $x$. We say that the method is:\n",
    "- a _clustering_: if we want to find groups (clusters), (e.g. find the different diseases that exist within one dataset of brain images),\n",
    "- a _dimension reduction_: if we want to find the main sources of data variations (e.g., what are the main variations in the shape of a brain?)"
   ]
  },
  {
   "cell_type": "markdown",
   "id": "d333ccb6",
   "metadata": {
    "slideshow": {
     "slide_type": "slide"
    }
   },
   "source": [
    "<center>  </center>\n",
    "<center><img src=\"figs/04_ai.png\" alt=\"default\" width=1900px/></center>\n"
   ]
  },
  {
   "cell_type": "markdown",
   "id": "bd91d1fb",
   "metadata": {
    "slideshow": {
     "slide_type": "slide"
    }
   },
   "source": [
    "# Outline of 04: Predicting from Data\n",
    "\n",
    "- **04: Predicting from Data with Machine Learning in Python**\n",
    "  - **A. Clustering**\n",
    "  - B. Linear Regression\n",
    "  - C. Principal Component Analysis"
   ]
  },
  {
   "cell_type": "markdown",
   "id": "20904d0d",
   "metadata": {
    "slideshow": {
     "slide_type": "slide"
    }
   },
   "source": [
    "### Understand the Fundamentals Behind Clustering"
   ]
  },
  {
   "cell_type": "markdown",
   "id": "59d47f0a",
   "metadata": {
    "slideshow": {
     "slide_type": "slide"
    }
   },
   "source": [
    "### Clustering: Goal (Intuition)\n",
    "\n",
    "Clustering is an unsupervised machine learning approach, whose goal can be summarized as follows.\n",
    "\n",
    "- Given: (i) $N$ $n$-vectors $x_1, . . . , x_N$ representing $N$ data points, (ii) integer $k$.\n",
    "- $\\color{#EF5645}{\\text{Goal}}$:\n",
    "  - Group/Cluster $N$ $n$-vectors into $k$ groups/clusters\n",
    "  - _such that_: vectors in the same group are \"close\".\n",
    "\n",
    "<center><img src=\"figs/04_clustering.jpg\" alt=\"default\" width=380px/></center>\n",
    "\n",
    "$\\color{#047C91}{\\text{Exercise}}$: What is $k$ in the figure above? $n$? $N$?"
   ]
  },
  {
   "cell_type": "markdown",
   "id": "f683ba37",
   "metadata": {
    "slideshow": {
     "slide_type": "slide"
    }
   },
   "source": [
    "### Examples of clustering\n",
    "\n",
    "There are many real-worlds examples of the use of clustering.\n",
    "\n",
    "- patient clustering \n",
    "  - $x_i$ is the brain image of patient $i$\n",
    "- customer market \"segmentation\" (clustering)\n",
    "  - $x_i$ is purchase history of customer $i$ \n",
    "- financial sectors clustering\n",
    "  - $x_i$ are financial attributes of company $i$\n"
   ]
  },
  {
   "cell_type": "markdown",
   "id": "9f066ce9",
   "metadata": {
    "cell_style": "center",
    "slideshow": {
     "slide_type": "slide"
    }
   },
   "source": [
    "### Clustering: Goal (Math)\n",
    "\n",
    "Let's restate the goal of clustering using mathematics.\n",
    "\n",
    "- For each group/cluster $j=1, ..., k$: \n",
    "  - Group $G_j$: Set of indices in $1, ..., N$ (data points)\n",
    "  - Representative $z_j$: typical element of $G_j$.\n",
    "- For each data point $i=1,...,N$: \n",
    "  - Assignment $c_i$: $x_i$ is in $G_{c_i}$\n",
    "\n",
    "$\\color{#EF5645}{\\text{Goal}}$: Find $c_i$, $z_j$ to minimize \n",
    "$J = \\frac{1}{N}\\sum_{i=1}^N ||x_i - z_{c_i}||^2$\n",
    ", i.e. the mean square distance from vectors to their representatives.\n"
   ]
  },
  {
   "cell_type": "markdown",
   "id": "129b580e",
   "metadata": {
    "slideshow": {
     "slide_type": "slide"
    }
   },
   "source": [
    "### K-means algorithm\n",
    "\n",
    "The K-means algorithm is a way of performing clustering. Its main idea is given below.\n",
    "\n",
    "- Alternate between:\n",
    "  - (i) update groups, i.e., assignments $c_1, ..., c_N$, \n",
    "  - (ii) update representatives $z_1, ..., z_k$.\n",
    "  \n",
    "- Such that the objective $J$ decreases at each step."
   ]
  },
  {
   "cell_type": "markdown",
   "id": "af78b997",
   "metadata": {
    "slideshow": {
     "slide_type": "slide"
    }
   },
   "source": [
    "<center><img src=\"figs/04_it0.png\" alt=\"default\"/></center>"
   ]
  },
  {
   "cell_type": "markdown",
   "id": "048766d7",
   "metadata": {
    "slideshow": {
     "slide_type": "slide"
    }
   },
   "source": [
    "<center><img src=\"figs/04_it1.png\" alt=\"default\"/></center>"
   ]
  },
  {
   "cell_type": "markdown",
   "id": "1876820c",
   "metadata": {
    "slideshow": {
     "slide_type": "slide"
    }
   },
   "source": [
    "<center><img src=\"figs/04_it2.png\" alt=\"default\"/></center>"
   ]
  },
  {
   "cell_type": "markdown",
   "id": "64654db9",
   "metadata": {
    "slideshow": {
     "slide_type": "slide"
    }
   },
   "source": [
    "<center><img src=\"figs/04_it3.png\" alt=\"default\"/></center>"
   ]
  },
  {
   "cell_type": "markdown",
   "id": "d025d80f",
   "metadata": {
    "slideshow": {
     "slide_type": "slide"
    }
   },
   "source": [
    "<center><img src=\"figs/04_it5.png\" alt=\"default\"/></center>"
   ]
  },
  {
   "cell_type": "markdown",
   "id": "6b3596a2",
   "metadata": {
    "slideshow": {
     "slide_type": "slide"
    }
   },
   "source": [
    "### (i) Update the groups\n",
    "\n",
    "We give details on each step of the algorithm. First, updating the groups.\n",
    "\n",
    "- Given: representatives $z_1, ..., z_k$\n",
    "- $\\color{#EF5645}{\\text{Goal for (i)}}$: Assign to groups, i.e., choose $c_1, ..., c_N$\n",
    "  - Assign each $x_i$ to its nearest representative. Justification:\n",
    "    - Observe: \n",
    "      - $c_i$ only appears in $||x_i - z_{c_i}||^2$ in $J$\n",
    "    - Conclude: to minimize over $c_i$, choose $c_i$ so $‖x_i − z_{c_i} ‖^2 = min_{j \\in \\{1, ..., k\\}} ‖x_i − z_j ‖^2$.\n"
   ]
  },
  {
   "cell_type": "markdown",
   "id": "54df2da4",
   "metadata": {
    "slideshow": {
     "slide_type": "slide"
    }
   },
   "source": [
    "### (ii) Update the representatives\n",
    "\n",
    "Next, we give details on how we update the representatives.\n",
    "\n",
    "- Given the partition $G_1, . . . , G_k$\n",
    "- $\\color{#EF5645}{\\text{Goal for (ii)}}$: Choose representatives $z_1, . . . , z_k$\n",
    "  - Choose $z_j$ = mean of the points in group $j$. Justification:\n",
    "    - Observe: $J$ splits as $J = J_1 + · · · + J_k$ with:\n",
    "$$J_j = \\frac{1}{N} \\sum_{i \\in G_j} ‖x_i − z_j ‖^2$$\n",
    "    - Conclude: Choose $z_j$ to minimize its $J_j$: $z_j = \\frac{1}{|G_j|} \\sum_{i \\in G_j} x_i$ = mean/center/centroid.\n",
    "\n"
   ]
  },
  {
   "cell_type": "markdown",
   "id": "62b40f4a",
   "metadata": {
    "slideshow": {
     "slide_type": "slide"
    }
   },
   "source": [
    "### Convergence of K-means\n",
    "\n",
    "- How many times do we iterate these steps?\n",
    "  - Until the $z_j$’s stop changing: \n",
    "    - = \"convergence\" of the algorithm."
   ]
  },
  {
   "cell_type": "markdown",
   "id": "2374fec2",
   "metadata": {
    "slideshow": {
     "slide_type": "slide"
    }
   },
   "source": [
    "# Pseudo-code"
   ]
  },
  {
   "cell_type": "markdown",
   "id": "6ef64ff3",
   "metadata": {},
   "source": [
    "\n",
    "\n",
    "<center><img src=\"figs/04_kmeans.jpg\" alt=\"default\"/></center>\n"
   ]
  },
  {
   "cell_type": "markdown",
   "id": "5b05cfa9",
   "metadata": {
    "slideshow": {
     "slide_type": "slide"
    }
   },
   "source": [
    "<center><img src=\"figs/04_conv.png\" alt=\"default\"/></center>"
   ]
  },
  {
   "cell_type": "markdown",
   "id": "9613e10c",
   "metadata": {
    "slideshow": {
     "slide_type": "slide"
    }
   },
   "source": [
    "- $\\color{#EF5645}{\\text{Remarks}}$:\n",
    "  - $J$ decreases at each step, \n",
    "  - but final clustering might not minimize $J$\n",
    "    - it might only be a _local_ minimum.\n",
    "    \n",
    "- $\\color{#EF5645}{\\text{Recommendation}}$:\n",
    "  - Run $k$-means 10 times, with different initial representatives\n",
    "  - Take as final partition the one with smallest $J$"
   ]
  },
  {
   "cell_type": "markdown",
   "id": "2c029e55",
   "metadata": {
    "slideshow": {
     "slide_type": "slide"
    }
   },
   "source": [
    "### MNIST Dataset: Find Digits\n",
    "\n",
    "The MNIST dataset is arguably the most famous dataset from machine learning:\n",
    "\n",
    "- MNIST images of handwritten digits (via Yann Lecun) \n",
    "- $60k$ images of size 28 × 28, reshaped as 784-vectors $x_i$\n",
    "\n",
    "<center><img src=\"figs/04_mnist.png\" alt=\"default\" width=250px/></center>\n",
    "\n",
    "- $\\color{#EF5645}{\\text{Goal}}$: Group these images into groups of same digit.\n",
    "- $\\color{#047C91}{\\text{Exercice}}$: What are $k, N, n$?\n",
    "- Implement it practice? Will be in your next homework!"
   ]
  },
  {
   "cell_type": "markdown",
   "id": "c490edcf",
   "metadata": {
    "slideshow": {
     "slide_type": "slide"
    }
   },
   "source": [
    "### Connectome Dataset: Use Clustering to Find Diseases"
   ]
  },
  {
   "cell_type": "markdown",
   "id": "7a07a625",
   "metadata": {
    "slideshow": {
     "slide_type": "slide"
    }
   },
   "source": [
    "White matter is referred to as the \"highway of the brain\", it transports the information.\n",
    "\n",
    "$\\color{#EF5645}{\\text{Definitions}}$:\n",
    "- Structural connectome: how areas are \"structurally\" connected\n",
    "  - i.e. how many fiber tracks link two areas (shapes).\n",
    "- Functional connectome: how areas are \"functionally\" connected\n",
    "  - i.e. whether one area co-activates with another area."
   ]
  },
  {
   "cell_type": "markdown",
   "id": "720321b6",
   "metadata": {
    "slideshow": {
     "slide_type": "slide"
    }
   },
   "source": [
    "$\\color{#EF5645}{\\text{Question}}$: Given functional connectomes of several subjects, we want to predict if a new subject has schizophrenia. We seek to train a machine learning algorithm by showing it several examples of connectomes with their labels: healthy or schizophrenic. What type of learning algorithm is this?"
   ]
  },
  {
   "cell_type": "markdown",
   "id": "decca802",
   "metadata": {
    "cell_style": "split"
   },
   "source": [
    "<center><img src=\"figs/03_white_tracks.jpeg\" width=400px alt=\"default\"/></center>"
   ]
  },
  {
   "cell_type": "markdown",
   "id": "87032e1f",
   "metadata": {
    "cell_style": "split"
   },
   "source": [
    "<center><img src=\"figs/03_parcellation.png\" width=350px alt=\"default\"/></center>"
   ]
  },
  {
   "cell_type": "code",
   "execution_count": null,
   "id": "396b9c69",
   "metadata": {
    "slideshow": {
     "slide_type": "slide"
    }
   },
   "outputs": [],
   "source": [
    "import matplotlib.pyplot as plt\n",
    "import numpy as np"
   ]
  },
  {
   "cell_type": "code",
   "execution_count": 9,
   "id": "107f9bd0",
   "metadata": {
    "slideshow": {
     "slide_type": "slide"
    }
   },
   "outputs": [
    {
     "name": "stdout",
     "output_type": "stream",
     "text": [
      "There are 86 connectomes: 46 healthy controls and 40 schizophrenic patients.\n"
     ]
    }
   ],
   "source": [
    "import geomstats.datasets.utils as data_utils\n",
    "\n",
    "data, _, labels = data_utils.load_connectomes()\n",
    "print(f\"There are {len(data)} connectomes:\"\n",
    "      f\" {sum(labels==0)} healthy controls and {sum(labels==1)} schizophrenic patients.\") "
   ]
  },
  {
   "cell_type": "code",
   "execution_count": 8,
   "id": "0c3d50f0",
   "metadata": {
    "slideshow": {
     "slide_type": "slide"
    }
   },
   "outputs": [
    {
     "data": {
      "image/png": "[encoded data removed]",
      "text/plain": [
       "<Figure size 576x288 with 2 Axes>"
      ]
     },
     "metadata": {
      "needs_background": "light"
     },
     "output_type": "display_data"
    }
   ],
   "source": [
    "labels_str = [\"Healthy\", \"Schizophrenic\"]\n",
    "\n",
    "fig = plt.figure(figsize=(8, 4))\n",
    "ax = fig.add_subplot(121)\n",
    "imgplot = ax.imshow(data[0]); ax.set_title(labels_str[labels[0]])\n",
    "ax = fig.add_subplot(122)\n",
    "imgplot = ax.imshow(data[1]); ax.set_title(labels_str[labels[1]])\n",
    "plt.show()"
   ]
  },
  {
   "cell_type": "code",
   "execution_count": null,
   "id": "b4b58121",
   "metadata": {},
   "outputs": [],
   "source": []
  }
 ],
 "metadata": {
  "celltoolbar": "Slideshow",
  "colab": {
   "name": "lec04_clustering.ipynb",
   "provenance": []
  },
  "kernelspec": {
   "display_name": "Python 3 (ipykernel)",
   "language": "python",
   "name": "python3"
  },
  "language_info": {
   "codemirror_mode": {
    "name": "ipython",
    "version": 3
   },
   "file_extension": ".py",
   "mimetype": "text/x-python",
   "name": "python",
   "nbconvert_exporter": "python",
   "pygments_lexer": "ipython3",
   "version": "3.9.9"
  }
 },
 "nbformat": 4,
 "nbformat_minor": 5
}
